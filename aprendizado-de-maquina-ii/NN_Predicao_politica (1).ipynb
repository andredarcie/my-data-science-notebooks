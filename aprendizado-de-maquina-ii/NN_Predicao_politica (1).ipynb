{
  "nbformat": 4,
  "nbformat_minor": 0,
  "metadata": {
    "kernelspec": {
      "display_name": "Python 3",
      "language": "python",
      "name": "python3"
    },
    "language_info": {
      "codemirror_mode": {
        "name": "ipython",
        "version": 3
      },
      "file_extension": ".py",
      "mimetype": "text/x-python",
      "name": "python",
      "nbconvert_exporter": "python",
      "pygments_lexer": "ipython3",
      "version": "3.7.3"
    },
    "colab": {
      "name": "NN_Predicao_politica.ipynb",
      "provenance": [],
      "collapsed_sections": []
    }
  },
  "cells": [
    {
      "cell_type": "markdown",
      "metadata": {
        "id": "Z7K0SeDgzjL2"
      },
      "source": [
        "---\n",
        "\n",
        "\n",
        "\n",
        "---\n",
        "\n",
        "# Predição de partido político baseado em votações\n",
        "\n",
        "Este notebook implementa uma rede neural para predizer (descobrir) qual partido político de um congressista americano com base nos seus votos.\n",
        "\n",
        "Utiliza-se um conjunto de dados públicos de como os congressistas dos EUA votaram em 17 questões diferentes. \n",
        "\n",
        "Nos Estados Unidos há dois principais partidos políticos: \"Democrata\" e \"Republicano\". Nos tempos modernos, eles representam ideologias progressistas e conservadoras, respectivamente.\n",
        "\n",
        "Trata-se de um problema de classificação binária.\n",
        "\n",
        "\n",
        "---\n",
        "\n",
        "\n",
        "\n",
        "---"
      ]
    },
    {
      "cell_type": "markdown",
      "metadata": {
        "id": "PcWx36BdDBX0"
      },
      "source": [
        "## Conjunto de dados\n",
        "\n",
        "Arquivo: **votes_data.txt**:\n",
        "\n",
        "1. Banco de dados de registros de votação do Congresso dos Estados Unidos de 1984\n",
        "\n",
        "2. Informações da fonte:\n",
        "    * Fonte: Congressional Quarterly Almanac, 98º Congresso,\n",
        "                 2ª sessão 1984, Volume XL: Congressional Quarterly Inc.\n",
        "                 Washington, D.C., 1985.\n",
        "    * Doador: Jeff Schlimmer (Jeffrey.Schlimmer@a.gp.cs.cmu.edu)\n",
        "    * Data: 27 de abril de 1987\n",
        "\n",
        "3. Uso anterior\n",
        "   - Publicações\n",
        "     1. Schlimmer, J. C. (1987). Aquisição de conceito através de\n",
        "        ajuste representacional. Tese de doutorado, Departamento de\n",
        "        Informação e Ciência da Computação, Universidade da Califórnia, Irvine, CA.\n",
        "        - Resultados: cerca de 90% -95% de precisão parece ser a assíntota de STAGGER\n",
        "        - Atributo previsto: afiliação partidária (2 classes)\n",
        "\n",
        "4. Número de instâncias: 435 (267 democratas, 168 republicanos)\n",
        "\n",
        "5. Número de atributos: 16 + nome da classe/partido = 17 (todos com valor booleano)\n",
        "\n",
        "6. Informação de Atributo:\n",
        "   1. Nome da classe: (democrata, republicano)\n",
        "   2. Crianças deficientes: (y, n)\n",
        "   3. Compartilhamento de custos do projeto de água: (y, n)\n",
        "   4. Resolução de adoção do orçamento: (y, n)\n",
        "   5. Congelamento de honorários médicos: (y, n)\n",
        "   6. Ajuda El Salvador: (y, n)\n",
        "   7. Grupos religiosos nas escolas: (y, n)\n",
        "   8. Proibição de teste anti-satélite: (y, n)\n",
        "   9. Ajuda para contras nicaraguenses: (y, n)\n",
        "  10. Míssil Mx: (y, n)\n",
        "  11. Imigração: (y, n)\n",
        "  12. Corte de corporação de combustíveis Syn: (y, n)\n",
        "  13. Gastos com educação: (y, n)\n",
        "  14. Super fundo direto: (y, n)\n",
        "  15. Crime: (y, n)\n",
        "  16. Exportações com isenção de impostos: (y, n)\n",
        "  17. Exportação África do Sul: (y, n)\n",
        "\n"
      ]
    },
    {
      "cell_type": "markdown",
      "metadata": {
        "id": "LWXwGCqvIwgN"
      },
      "source": [
        "## Leitura e preparação dos dados\n",
        "\n",
        "Vamos começar importando o arquivo CSV bruto usando o Pandas e fazer um DataFrame dele inserindo rótulos (nomes) em cada coluna (atributo)"
      ]
    },
    {
      "cell_type": "code",
      "metadata": {
        "scrolled": true,
        "colab": {
          "base_uri": "https://localhost:8080/",
          "height": 411
        },
        "id": "LM6AT7tPzjL6",
        "outputId": "c0649fdd-e77d-4e3a-ade3-6d3d3c5be970"
      },
      "source": [
        "import pandas as pd\n",
        "\n",
        "# Clone do repositório de dados do GitHub\n",
        "!git clone https://github.com/malegopc/AM2PUCPOC\n",
        "# cria vetor com os rótulos de cada atributo\n",
        "nomes_atributos = ['Partido', 'Crianças deficientes', 'Compartilhamento de custos do projeto de água',\n",
        "                    'Resolução de adoção do orçamento', 'Congelamento de honorários médicos',\n",
        "                    'Ajuda El Salvador', 'Grupos religiosos nas escolas',\n",
        "                    'Proibição de teste anti-satélite', 'Ajuda a contras nicaraguenses',\n",
        "                    'Míssil MX', 'Imigração', 'Corte de corporação de combustíveis Syn',\n",
        "                    'Gastos com educação', ' Super fundo direto', 'Crime',\n",
        "                    'Exportações isentas de impostos', 'Exportação África do Sul']\n",
        "\n",
        "# lê arquivo de dados, atribue NaN para dados faltantes e rótulos em cada coluna\n",
        "dados_votacao = pd.read_csv('/content/AM2PUCPOC/Datasets/Predicao_Politica/votes_data.txt', na_values=['?'], names = nomes_atributos)\n",
        "# imprime as 5 primeiras linha dos dados montados\n",
        "dados_votacao.head()"
      ],
      "execution_count": 1,
      "outputs": [
        {
          "output_type": "stream",
          "text": [
            "Cloning into 'AM2PUCPOC'...\n",
            "remote: Enumerating objects: 57, done.\u001b[K\n",
            "remote: Counting objects: 100% (57/57), done.\u001b[K\n",
            "remote: Compressing objects: 100% (52/52), done.\u001b[K\n",
            "remote: Total 305 (delta 18), reused 0 (delta 0), pack-reused 248\u001b[K\n",
            "Receiving objects: 100% (305/305), 4.62 MiB | 21.79 MiB/s, done.\n",
            "Resolving deltas: 100% (84/84), done.\n"
          ],
          "name": "stdout"
        },
        {
          "output_type": "execute_result",
          "data": {
            "text/html": [
              "<div>\n",
              "<style scoped>\n",
              "    .dataframe tbody tr th:only-of-type {\n",
              "        vertical-align: middle;\n",
              "    }\n",
              "\n",
              "    .dataframe tbody tr th {\n",
              "        vertical-align: top;\n",
              "    }\n",
              "\n",
              "    .dataframe thead th {\n",
              "        text-align: right;\n",
              "    }\n",
              "</style>\n",
              "<table border=\"1\" class=\"dataframe\">\n",
              "  <thead>\n",
              "    <tr style=\"text-align: right;\">\n",
              "      <th></th>\n",
              "      <th>Partido</th>\n",
              "      <th>Crianças deficientes</th>\n",
              "      <th>Compartilhamento de custos do projeto de água</th>\n",
              "      <th>Resolução de adoção do orçamento</th>\n",
              "      <th>Congelamento de honorários médicos</th>\n",
              "      <th>Ajuda El Salvador</th>\n",
              "      <th>Grupos religiosos nas escolas</th>\n",
              "      <th>Proibição de teste anti-satélite</th>\n",
              "      <th>Ajuda a contras nicaraguenses</th>\n",
              "      <th>Míssil MX</th>\n",
              "      <th>Imigração</th>\n",
              "      <th>Corte de corporação de combustíveis Syn</th>\n",
              "      <th>Gastos com educação</th>\n",
              "      <th>Super fundo direto</th>\n",
              "      <th>Crime</th>\n",
              "      <th>Exportações isentas de impostos</th>\n",
              "      <th>Exportação África do Sul</th>\n",
              "    </tr>\n",
              "  </thead>\n",
              "  <tbody>\n",
              "    <tr>\n",
              "      <th>0</th>\n",
              "      <td>republican</td>\n",
              "      <td>n</td>\n",
              "      <td>y</td>\n",
              "      <td>n</td>\n",
              "      <td>y</td>\n",
              "      <td>y</td>\n",
              "      <td>y</td>\n",
              "      <td>n</td>\n",
              "      <td>n</td>\n",
              "      <td>n</td>\n",
              "      <td>y</td>\n",
              "      <td>NaN</td>\n",
              "      <td>y</td>\n",
              "      <td>y</td>\n",
              "      <td>y</td>\n",
              "      <td>n</td>\n",
              "      <td>y</td>\n",
              "    </tr>\n",
              "    <tr>\n",
              "      <th>1</th>\n",
              "      <td>republican</td>\n",
              "      <td>n</td>\n",
              "      <td>y</td>\n",
              "      <td>n</td>\n",
              "      <td>y</td>\n",
              "      <td>y</td>\n",
              "      <td>y</td>\n",
              "      <td>n</td>\n",
              "      <td>n</td>\n",
              "      <td>n</td>\n",
              "      <td>n</td>\n",
              "      <td>n</td>\n",
              "      <td>y</td>\n",
              "      <td>y</td>\n",
              "      <td>y</td>\n",
              "      <td>n</td>\n",
              "      <td>NaN</td>\n",
              "    </tr>\n",
              "    <tr>\n",
              "      <th>2</th>\n",
              "      <td>democrat</td>\n",
              "      <td>NaN</td>\n",
              "      <td>y</td>\n",
              "      <td>y</td>\n",
              "      <td>NaN</td>\n",
              "      <td>y</td>\n",
              "      <td>y</td>\n",
              "      <td>n</td>\n",
              "      <td>n</td>\n",
              "      <td>n</td>\n",
              "      <td>n</td>\n",
              "      <td>y</td>\n",
              "      <td>n</td>\n",
              "      <td>y</td>\n",
              "      <td>y</td>\n",
              "      <td>n</td>\n",
              "      <td>n</td>\n",
              "    </tr>\n",
              "    <tr>\n",
              "      <th>3</th>\n",
              "      <td>democrat</td>\n",
              "      <td>n</td>\n",
              "      <td>y</td>\n",
              "      <td>y</td>\n",
              "      <td>n</td>\n",
              "      <td>NaN</td>\n",
              "      <td>y</td>\n",
              "      <td>n</td>\n",
              "      <td>n</td>\n",
              "      <td>n</td>\n",
              "      <td>n</td>\n",
              "      <td>y</td>\n",
              "      <td>n</td>\n",
              "      <td>y</td>\n",
              "      <td>n</td>\n",
              "      <td>n</td>\n",
              "      <td>y</td>\n",
              "    </tr>\n",
              "    <tr>\n",
              "      <th>4</th>\n",
              "      <td>democrat</td>\n",
              "      <td>y</td>\n",
              "      <td>y</td>\n",
              "      <td>y</td>\n",
              "      <td>n</td>\n",
              "      <td>y</td>\n",
              "      <td>y</td>\n",
              "      <td>n</td>\n",
              "      <td>n</td>\n",
              "      <td>n</td>\n",
              "      <td>n</td>\n",
              "      <td>y</td>\n",
              "      <td>NaN</td>\n",
              "      <td>y</td>\n",
              "      <td>y</td>\n",
              "      <td>y</td>\n",
              "      <td>y</td>\n",
              "    </tr>\n",
              "  </tbody>\n",
              "</table>\n",
              "</div>"
            ],
            "text/plain": [
              "      Partido  ... Exportação África do Sul\n",
              "0  republican  ...                        y\n",
              "1  republican  ...                      NaN\n",
              "2    democrat  ...                        n\n",
              "3    democrat  ...                        y\n",
              "4    democrat  ...                        y\n",
              "\n",
              "[5 rows x 17 columns]"
            ]
          },
          "metadata": {
            "tags": []
          },
          "execution_count": 1
        }
      ]
    },
    {
      "cell_type": "markdown",
      "metadata": {
        "id": "HFsjqPh-zjL-"
      },
      "source": [
        "## Análise (estatística) descritiva dos dados\n",
        "\n",
        "Análise descritiva dos dados (resumo)."
      ]
    },
    {
      "cell_type": "code",
      "metadata": {
        "colab": {
          "base_uri": "https://localhost:8080/",
          "height": 261
        },
        "id": "d02W1HKazjL-",
        "outputId": "bccc9ff4-07e3-4d84-a469-6b42370547a5"
      },
      "source": [
        "dados_votacao.describe()"
      ],
      "execution_count": 2,
      "outputs": [
        {
          "output_type": "execute_result",
          "data": {
            "text/html": [
              "<div>\n",
              "<style scoped>\n",
              "    .dataframe tbody tr th:only-of-type {\n",
              "        vertical-align: middle;\n",
              "    }\n",
              "\n",
              "    .dataframe tbody tr th {\n",
              "        vertical-align: top;\n",
              "    }\n",
              "\n",
              "    .dataframe thead th {\n",
              "        text-align: right;\n",
              "    }\n",
              "</style>\n",
              "<table border=\"1\" class=\"dataframe\">\n",
              "  <thead>\n",
              "    <tr style=\"text-align: right;\">\n",
              "      <th></th>\n",
              "      <th>Partido</th>\n",
              "      <th>Crianças deficientes</th>\n",
              "      <th>Compartilhamento de custos do projeto de água</th>\n",
              "      <th>Resolução de adoção do orçamento</th>\n",
              "      <th>Congelamento de honorários médicos</th>\n",
              "      <th>Ajuda El Salvador</th>\n",
              "      <th>Grupos religiosos nas escolas</th>\n",
              "      <th>Proibição de teste anti-satélite</th>\n",
              "      <th>Ajuda a contras nicaraguenses</th>\n",
              "      <th>Míssil MX</th>\n",
              "      <th>Imigração</th>\n",
              "      <th>Corte de corporação de combustíveis Syn</th>\n",
              "      <th>Gastos com educação</th>\n",
              "      <th>Super fundo direto</th>\n",
              "      <th>Crime</th>\n",
              "      <th>Exportações isentas de impostos</th>\n",
              "      <th>Exportação África do Sul</th>\n",
              "    </tr>\n",
              "  </thead>\n",
              "  <tbody>\n",
              "    <tr>\n",
              "      <th>count</th>\n",
              "      <td>435</td>\n",
              "      <td>423</td>\n",
              "      <td>387</td>\n",
              "      <td>424</td>\n",
              "      <td>424</td>\n",
              "      <td>420</td>\n",
              "      <td>424</td>\n",
              "      <td>421</td>\n",
              "      <td>420</td>\n",
              "      <td>413</td>\n",
              "      <td>428</td>\n",
              "      <td>414</td>\n",
              "      <td>404</td>\n",
              "      <td>410</td>\n",
              "      <td>418</td>\n",
              "      <td>407</td>\n",
              "      <td>331</td>\n",
              "    </tr>\n",
              "    <tr>\n",
              "      <th>unique</th>\n",
              "      <td>2</td>\n",
              "      <td>2</td>\n",
              "      <td>2</td>\n",
              "      <td>2</td>\n",
              "      <td>2</td>\n",
              "      <td>2</td>\n",
              "      <td>2</td>\n",
              "      <td>2</td>\n",
              "      <td>2</td>\n",
              "      <td>2</td>\n",
              "      <td>2</td>\n",
              "      <td>2</td>\n",
              "      <td>2</td>\n",
              "      <td>2</td>\n",
              "      <td>2</td>\n",
              "      <td>2</td>\n",
              "      <td>2</td>\n",
              "    </tr>\n",
              "    <tr>\n",
              "      <th>top</th>\n",
              "      <td>democrat</td>\n",
              "      <td>n</td>\n",
              "      <td>y</td>\n",
              "      <td>y</td>\n",
              "      <td>n</td>\n",
              "      <td>y</td>\n",
              "      <td>y</td>\n",
              "      <td>y</td>\n",
              "      <td>y</td>\n",
              "      <td>y</td>\n",
              "      <td>y</td>\n",
              "      <td>n</td>\n",
              "      <td>n</td>\n",
              "      <td>y</td>\n",
              "      <td>y</td>\n",
              "      <td>n</td>\n",
              "      <td>y</td>\n",
              "    </tr>\n",
              "    <tr>\n",
              "      <th>freq</th>\n",
              "      <td>267</td>\n",
              "      <td>236</td>\n",
              "      <td>195</td>\n",
              "      <td>253</td>\n",
              "      <td>247</td>\n",
              "      <td>212</td>\n",
              "      <td>272</td>\n",
              "      <td>239</td>\n",
              "      <td>242</td>\n",
              "      <td>207</td>\n",
              "      <td>216</td>\n",
              "      <td>264</td>\n",
              "      <td>233</td>\n",
              "      <td>209</td>\n",
              "      <td>248</td>\n",
              "      <td>233</td>\n",
              "      <td>269</td>\n",
              "    </tr>\n",
              "  </tbody>\n",
              "</table>\n",
              "</div>"
            ],
            "text/plain": [
              "         Partido  ... Exportação África do Sul\n",
              "count        435  ...                      331\n",
              "unique         2  ...                        2\n",
              "top     democrat  ...                        y\n",
              "freq         267  ...                      269\n",
              "\n",
              "[4 rows x 17 columns]"
            ]
          },
          "metadata": {
            "tags": []
          },
          "execution_count": 2
        }
      ]
    },
    {
      "cell_type": "markdown",
      "metadata": {
        "id": "qW6o_Dn0mB-E"
      },
      "source": [
        "## Número de instâncias"
      ]
    },
    {
      "cell_type": "code",
      "metadata": {
        "colab": {
          "base_uri": "https://localhost:8080/"
        },
        "id": "U9TOyn0Pj3tu",
        "outputId": "cd2bc194-6395-4b5d-dfb9-844a4b73ee50"
      },
      "source": [
        "len(dados_votacao)"
      ],
      "execution_count": 3,
      "outputs": [
        {
          "output_type": "execute_result",
          "data": {
            "text/plain": [
              "435"
            ]
          },
          "metadata": {
            "tags": []
          },
          "execution_count": 3
        }
      ]
    },
    {
      "cell_type": "markdown",
      "metadata": {
        "id": "HVm9d_FmzjL_"
      },
      "source": [
        "## Eliminação de dados ausentes \n",
        "\n",
        "Alguns políticos se abstiveram em algumas votações ou simplesmente não estavam presentes no momento da votação. Para contornar esse problema vamos simplesmente eliminar as linhas com dados ausentes para mantê-lo simples, mas na prática é importante ter certeza de que isso não introduziu nenhum tipo de viés em sua análise (se uma parte se abstiver mais do que outra, isso poderia ser problemático)\n"
      ]
    },
    {
      "cell_type": "code",
      "metadata": {
        "colab": {
          "base_uri": "https://localhost:8080/",
          "height": 261
        },
        "id": "c6gfguVAzjL_",
        "outputId": "9b9bae05-ead6-4562-faea-22e82dde7851"
      },
      "source": [
        "# Remove dados faltantes na própria variável \n",
        "dados_votacao.dropna(inplace=True)\n",
        "dados_votacao.describe()"
      ],
      "execution_count": 4,
      "outputs": [
        {
          "output_type": "execute_result",
          "data": {
            "text/html": [
              "<div>\n",
              "<style scoped>\n",
              "    .dataframe tbody tr th:only-of-type {\n",
              "        vertical-align: middle;\n",
              "    }\n",
              "\n",
              "    .dataframe tbody tr th {\n",
              "        vertical-align: top;\n",
              "    }\n",
              "\n",
              "    .dataframe thead th {\n",
              "        text-align: right;\n",
              "    }\n",
              "</style>\n",
              "<table border=\"1\" class=\"dataframe\">\n",
              "  <thead>\n",
              "    <tr style=\"text-align: right;\">\n",
              "      <th></th>\n",
              "      <th>Partido</th>\n",
              "      <th>Crianças deficientes</th>\n",
              "      <th>Compartilhamento de custos do projeto de água</th>\n",
              "      <th>Resolução de adoção do orçamento</th>\n",
              "      <th>Congelamento de honorários médicos</th>\n",
              "      <th>Ajuda El Salvador</th>\n",
              "      <th>Grupos religiosos nas escolas</th>\n",
              "      <th>Proibição de teste anti-satélite</th>\n",
              "      <th>Ajuda a contras nicaraguenses</th>\n",
              "      <th>Míssil MX</th>\n",
              "      <th>Imigração</th>\n",
              "      <th>Corte de corporação de combustíveis Syn</th>\n",
              "      <th>Gastos com educação</th>\n",
              "      <th>Super fundo direto</th>\n",
              "      <th>Crime</th>\n",
              "      <th>Exportações isentas de impostos</th>\n",
              "      <th>Exportação África do Sul</th>\n",
              "    </tr>\n",
              "  </thead>\n",
              "  <tbody>\n",
              "    <tr>\n",
              "      <th>count</th>\n",
              "      <td>232</td>\n",
              "      <td>232</td>\n",
              "      <td>232</td>\n",
              "      <td>232</td>\n",
              "      <td>232</td>\n",
              "      <td>232</td>\n",
              "      <td>232</td>\n",
              "      <td>232</td>\n",
              "      <td>232</td>\n",
              "      <td>232</td>\n",
              "      <td>232</td>\n",
              "      <td>232</td>\n",
              "      <td>232</td>\n",
              "      <td>232</td>\n",
              "      <td>232</td>\n",
              "      <td>232</td>\n",
              "      <td>232</td>\n",
              "    </tr>\n",
              "    <tr>\n",
              "      <th>unique</th>\n",
              "      <td>2</td>\n",
              "      <td>2</td>\n",
              "      <td>2</td>\n",
              "      <td>2</td>\n",
              "      <td>2</td>\n",
              "      <td>2</td>\n",
              "      <td>2</td>\n",
              "      <td>2</td>\n",
              "      <td>2</td>\n",
              "      <td>2</td>\n",
              "      <td>2</td>\n",
              "      <td>2</td>\n",
              "      <td>2</td>\n",
              "      <td>2</td>\n",
              "      <td>2</td>\n",
              "      <td>2</td>\n",
              "      <td>2</td>\n",
              "    </tr>\n",
              "    <tr>\n",
              "      <th>top</th>\n",
              "      <td>democrat</td>\n",
              "      <td>n</td>\n",
              "      <td>n</td>\n",
              "      <td>y</td>\n",
              "      <td>n</td>\n",
              "      <td>y</td>\n",
              "      <td>y</td>\n",
              "      <td>y</td>\n",
              "      <td>y</td>\n",
              "      <td>n</td>\n",
              "      <td>y</td>\n",
              "      <td>n</td>\n",
              "      <td>n</td>\n",
              "      <td>y</td>\n",
              "      <td>y</td>\n",
              "      <td>n</td>\n",
              "      <td>y</td>\n",
              "    </tr>\n",
              "    <tr>\n",
              "      <th>freq</th>\n",
              "      <td>124</td>\n",
              "      <td>136</td>\n",
              "      <td>125</td>\n",
              "      <td>123</td>\n",
              "      <td>119</td>\n",
              "      <td>128</td>\n",
              "      <td>149</td>\n",
              "      <td>124</td>\n",
              "      <td>119</td>\n",
              "      <td>119</td>\n",
              "      <td>128</td>\n",
              "      <td>152</td>\n",
              "      <td>124</td>\n",
              "      <td>127</td>\n",
              "      <td>149</td>\n",
              "      <td>146</td>\n",
              "      <td>189</td>\n",
              "    </tr>\n",
              "  </tbody>\n",
              "</table>\n",
              "</div>"
            ],
            "text/plain": [
              "         Partido  ... Exportação África do Sul\n",
              "count        232  ...                      232\n",
              "unique         2  ...                        2\n",
              "top     democrat  ...                        y\n",
              "freq         124  ...                      189\n",
              "\n",
              "[4 rows x 17 columns]"
            ]
          },
          "metadata": {
            "tags": []
          },
          "execution_count": 4
        }
      ]
    },
    {
      "cell_type": "markdown",
      "metadata": {
        "id": "QzU81rWymGty"
      },
      "source": [
        "## Número de instâncias após eliminação de dados faltantes"
      ]
    },
    {
      "cell_type": "code",
      "metadata": {
        "colab": {
          "base_uri": "https://localhost:8080/"
        },
        "id": "iZbrJd0amTG7",
        "outputId": "c2123f26-3dc0-4ca3-df92-efb89a77ce55"
      },
      "source": [
        "len(dados_votacao)"
      ],
      "execution_count": 5,
      "outputs": [
        {
          "output_type": "execute_result",
          "data": {
            "text/plain": [
              "232"
            ]
          },
          "metadata": {
            "tags": []
          },
          "execution_count": 5
        }
      ]
    },
    {
      "cell_type": "markdown",
      "metadata": {
        "id": "f0ziTMDEzjMA"
      },
      "source": [
        "## Transforma dados categóricos (y e n) em números (1 e 0) "
      ]
    },
    {
      "cell_type": "code",
      "metadata": {
        "colab": {
          "base_uri": "https://localhost:8080/",
          "height": 292
        },
        "id": "IE4ekFOTzjMA",
        "outputId": "5d08e557-c64a-4f01-dc1f-9c0d7e70c909"
      },
      "source": [
        "dados_votacao.replace(('y', 'n'), (1, 0), inplace=True)\n",
        "dados_votacao.replace(('democrat', 'republican'), (1, 0), inplace=True)\n",
        "dados_votacao.head()"
      ],
      "execution_count": 6,
      "outputs": [
        {
          "output_type": "execute_result",
          "data": {
            "text/html": [
              "<div>\n",
              "<style scoped>\n",
              "    .dataframe tbody tr th:only-of-type {\n",
              "        vertical-align: middle;\n",
              "    }\n",
              "\n",
              "    .dataframe tbody tr th {\n",
              "        vertical-align: top;\n",
              "    }\n",
              "\n",
              "    .dataframe thead th {\n",
              "        text-align: right;\n",
              "    }\n",
              "</style>\n",
              "<table border=\"1\" class=\"dataframe\">\n",
              "  <thead>\n",
              "    <tr style=\"text-align: right;\">\n",
              "      <th></th>\n",
              "      <th>Partido</th>\n",
              "      <th>Crianças deficientes</th>\n",
              "      <th>Compartilhamento de custos do projeto de água</th>\n",
              "      <th>Resolução de adoção do orçamento</th>\n",
              "      <th>Congelamento de honorários médicos</th>\n",
              "      <th>Ajuda El Salvador</th>\n",
              "      <th>Grupos religiosos nas escolas</th>\n",
              "      <th>Proibição de teste anti-satélite</th>\n",
              "      <th>Ajuda a contras nicaraguenses</th>\n",
              "      <th>Míssil MX</th>\n",
              "      <th>Imigração</th>\n",
              "      <th>Corte de corporação de combustíveis Syn</th>\n",
              "      <th>Gastos com educação</th>\n",
              "      <th>Super fundo direto</th>\n",
              "      <th>Crime</th>\n",
              "      <th>Exportações isentas de impostos</th>\n",
              "      <th>Exportação África do Sul</th>\n",
              "    </tr>\n",
              "  </thead>\n",
              "  <tbody>\n",
              "    <tr>\n",
              "      <th>5</th>\n",
              "      <td>1</td>\n",
              "      <td>0</td>\n",
              "      <td>1</td>\n",
              "      <td>1</td>\n",
              "      <td>0</td>\n",
              "      <td>1</td>\n",
              "      <td>1</td>\n",
              "      <td>0</td>\n",
              "      <td>0</td>\n",
              "      <td>0</td>\n",
              "      <td>0</td>\n",
              "      <td>0</td>\n",
              "      <td>0</td>\n",
              "      <td>1</td>\n",
              "      <td>1</td>\n",
              "      <td>1</td>\n",
              "      <td>1</td>\n",
              "    </tr>\n",
              "    <tr>\n",
              "      <th>8</th>\n",
              "      <td>0</td>\n",
              "      <td>0</td>\n",
              "      <td>1</td>\n",
              "      <td>0</td>\n",
              "      <td>1</td>\n",
              "      <td>1</td>\n",
              "      <td>1</td>\n",
              "      <td>0</td>\n",
              "      <td>0</td>\n",
              "      <td>0</td>\n",
              "      <td>0</td>\n",
              "      <td>0</td>\n",
              "      <td>1</td>\n",
              "      <td>1</td>\n",
              "      <td>1</td>\n",
              "      <td>0</td>\n",
              "      <td>1</td>\n",
              "    </tr>\n",
              "    <tr>\n",
              "      <th>19</th>\n",
              "      <td>1</td>\n",
              "      <td>1</td>\n",
              "      <td>1</td>\n",
              "      <td>1</td>\n",
              "      <td>0</td>\n",
              "      <td>0</td>\n",
              "      <td>0</td>\n",
              "      <td>1</td>\n",
              "      <td>1</td>\n",
              "      <td>1</td>\n",
              "      <td>0</td>\n",
              "      <td>1</td>\n",
              "      <td>0</td>\n",
              "      <td>0</td>\n",
              "      <td>0</td>\n",
              "      <td>1</td>\n",
              "      <td>1</td>\n",
              "    </tr>\n",
              "    <tr>\n",
              "      <th>23</th>\n",
              "      <td>1</td>\n",
              "      <td>1</td>\n",
              "      <td>1</td>\n",
              "      <td>1</td>\n",
              "      <td>0</td>\n",
              "      <td>0</td>\n",
              "      <td>0</td>\n",
              "      <td>1</td>\n",
              "      <td>1</td>\n",
              "      <td>1</td>\n",
              "      <td>0</td>\n",
              "      <td>0</td>\n",
              "      <td>0</td>\n",
              "      <td>0</td>\n",
              "      <td>0</td>\n",
              "      <td>1</td>\n",
              "      <td>1</td>\n",
              "    </tr>\n",
              "    <tr>\n",
              "      <th>25</th>\n",
              "      <td>1</td>\n",
              "      <td>1</td>\n",
              "      <td>0</td>\n",
              "      <td>1</td>\n",
              "      <td>0</td>\n",
              "      <td>0</td>\n",
              "      <td>0</td>\n",
              "      <td>1</td>\n",
              "      <td>1</td>\n",
              "      <td>1</td>\n",
              "      <td>1</td>\n",
              "      <td>0</td>\n",
              "      <td>0</td>\n",
              "      <td>0</td>\n",
              "      <td>0</td>\n",
              "      <td>1</td>\n",
              "      <td>1</td>\n",
              "    </tr>\n",
              "  </tbody>\n",
              "</table>\n",
              "</div>"
            ],
            "text/plain": [
              "    Partido  ...  Exportação África do Sul\n",
              "5         1  ...                         1\n",
              "8         0  ...                         1\n",
              "19        1  ...                         1\n",
              "23        1  ...                         1\n",
              "25        1  ...                         1\n",
              "\n",
              "[5 rows x 17 columns]"
            ]
          },
          "metadata": {
            "tags": []
          },
          "execution_count": 6
        }
      ]
    },
    {
      "cell_type": "markdown",
      "metadata": {
        "id": "yabMrBvezjMC"
      },
      "source": [
        "## Separa os atributos das classes\n",
        "\n",
        "Extrai os atributos e as classes (rótulos) colocando-os em duas variáveis separadas (na forma que o Keras espera)."
      ]
    },
    {
      "cell_type": "code",
      "metadata": {
        "colab": {
          "base_uri": "https://localhost:8080/"
        },
        "id": "9pK51IcczjMC",
        "outputId": "dc63bbe1-bbb0-4d64-9663-75fe522c3631"
      },
      "source": [
        "X = dados_votacao[nomes_atributos].drop('Partido', axis=1).values\n",
        "y = dados_votacao['Partido'].values\n",
        "print(X.shape)\n",
        "print(y.shape)"
      ],
      "execution_count": 7,
      "outputs": [
        {
          "output_type": "stream",
          "text": [
            "(232, 16)\n",
            "(232,)\n"
          ],
          "name": "stdout"
        }
      ]
    },
    {
      "cell_type": "markdown",
      "metadata": {
        "id": "OhhPEpwNm4z2"
      },
      "source": [
        "## Divide o conjunto de dados em treino e teste"
      ]
    },
    {
      "cell_type": "code",
      "metadata": {
        "colab": {
          "base_uri": "https://localhost:8080/"
        },
        "id": "R2rzqlBYm8CD",
        "outputId": "13349fbb-2a6b-438c-d8b6-a0f28c7b240c"
      },
      "source": [
        "from sklearn.model_selection import train_test_split\n",
        "X_train, X_test, y_train, y_test = train_test_split(X,y,test_size=0.25,random_state=42)\n",
        "print(X_train.shape)\n",
        "print(X_test.shape)"
      ],
      "execution_count": 8,
      "outputs": [
        {
          "output_type": "stream",
          "text": [
            "(174, 16)\n",
            "(58, 16)\n"
          ],
          "name": "stdout"
        }
      ]
    },
    {
      "cell_type": "markdown",
      "metadata": {
        "id": "zyWHf7bCzjMD"
      },
      "source": [
        "## Criação do modelo de rede neural\n"
      ]
    },
    {
      "cell_type": "code",
      "metadata": {
        "colab": {
          "base_uri": "https://localhost:8080/"
        },
        "id": "uwpVybNDzjME",
        "outputId": "f42d0c67-bb67-4c82-8525-62bfe645222e"
      },
      "source": [
        "from keras.layers import Dense\n",
        "from keras.models import Sequential\n",
        "from sklearn.model_selection import cross_val_score\n",
        "\n",
        "model = Sequential()\n",
        "# 1a. camada escondida com 32 neurônios - 16 entradas (atributos)\n",
        "model.add(Dense(32, input_dim=16, kernel_initializer = 'he_uniform', activation='relu'))\n",
        "# 2a. camada escondida com 16 neurônios\n",
        "model.add(Dense(16, kernel_initializer = 'he_uniform', activation='relu'))\n",
        "# Camada de saída com 01 neurônio - Classificação binária (Democrat or Republican)\n",
        "model.add(Dense(1, activation='sigmoid'))\n",
        "# Sumário do modelo\n",
        "model.summary()"
      ],
      "execution_count": 9,
      "outputs": [
        {
          "output_type": "stream",
          "text": [
            "Model: \"sequential\"\n",
            "_________________________________________________________________\n",
            "Layer (type)                 Output Shape              Param #   \n",
            "=================================================================\n",
            "dense (Dense)                (None, 32)                544       \n",
            "_________________________________________________________________\n",
            "dense_1 (Dense)              (None, 16)                528       \n",
            "_________________________________________________________________\n",
            "dense_2 (Dense)              (None, 1)                 17        \n",
            "=================================================================\n",
            "Total params: 1,089\n",
            "Trainable params: 1,089\n",
            "Non-trainable params: 0\n",
            "_________________________________________________________________\n"
          ],
          "name": "stdout"
        }
      ]
    },
    {
      "cell_type": "markdown",
      "metadata": {
        "id": "wHhaiOZfcPR1"
      },
      "source": [
        "## Compila o modelo"
      ]
    },
    {
      "cell_type": "code",
      "metadata": {
        "id": "HWM1ThWlzjMF"
      },
      "source": [
        "model.compile(optimizer='adam', loss='binary_crossentropy', metrics=['accuracy'])"
      ],
      "execution_count": 10,
      "outputs": []
    },
    {
      "cell_type": "markdown",
      "metadata": {
        "id": "n2dOhpdZceL0"
      },
      "source": [
        "## Treina o modelo"
      ]
    },
    {
      "cell_type": "code",
      "metadata": {
        "colab": {
          "base_uri": "https://localhost:8080/"
        },
        "id": "M-OXJQ3vciV1",
        "outputId": "647238ae-dd91-4133-d7f7-277d69499cfa"
      },
      "source": [
        "history = model.fit(X_train, y_train, epochs=100, batch_size = 8, validation_data=(X_test, y_test))"
      ],
      "execution_count": 11,
      "outputs": [
        {
          "output_type": "stream",
          "text": [
            "Epoch 1/100\n",
            "22/22 [==============================] - 1s 24ms/step - loss: 0.9265 - accuracy: 0.3594 - val_loss: 0.7677 - val_accuracy: 0.4655\n",
            "Epoch 2/100\n",
            "22/22 [==============================] - 0s 3ms/step - loss: 0.6084 - accuracy: 0.6991 - val_loss: 0.5025 - val_accuracy: 0.8448\n",
            "Epoch 3/100\n",
            "22/22 [==============================] - 0s 3ms/step - loss: 0.4729 - accuracy: 0.8992 - val_loss: 0.3711 - val_accuracy: 0.9138\n",
            "Epoch 4/100\n",
            "22/22 [==============================] - 0s 3ms/step - loss: 0.3552 - accuracy: 0.9331 - val_loss: 0.2779 - val_accuracy: 0.9483\n",
            "Epoch 5/100\n",
            "22/22 [==============================] - 0s 3ms/step - loss: 0.3254 - accuracy: 0.8844 - val_loss: 0.2253 - val_accuracy: 0.9655\n",
            "Epoch 6/100\n",
            "22/22 [==============================] - 0s 3ms/step - loss: 0.2595 - accuracy: 0.8914 - val_loss: 0.1929 - val_accuracy: 0.9655\n",
            "Epoch 7/100\n",
            "22/22 [==============================] - 0s 3ms/step - loss: 0.2455 - accuracy: 0.9002 - val_loss: 0.1702 - val_accuracy: 0.9655\n",
            "Epoch 8/100\n",
            "22/22 [==============================] - 0s 3ms/step - loss: 0.1878 - accuracy: 0.9313 - val_loss: 0.1440 - val_accuracy: 0.9655\n",
            "Epoch 9/100\n",
            "22/22 [==============================] - 0s 3ms/step - loss: 0.1574 - accuracy: 0.9351 - val_loss: 0.1401 - val_accuracy: 0.9655\n",
            "Epoch 10/100\n",
            "22/22 [==============================] - 0s 3ms/step - loss: 0.1399 - accuracy: 0.9505 - val_loss: 0.1198 - val_accuracy: 0.9655\n",
            "Epoch 11/100\n",
            "22/22 [==============================] - 0s 3ms/step - loss: 0.1225 - accuracy: 0.9600 - val_loss: 0.1125 - val_accuracy: 0.9655\n",
            "Epoch 12/100\n",
            "22/22 [==============================] - 0s 4ms/step - loss: 0.1447 - accuracy: 0.9620 - val_loss: 0.1206 - val_accuracy: 0.9483\n",
            "Epoch 13/100\n",
            "22/22 [==============================] - 0s 3ms/step - loss: 0.1295 - accuracy: 0.9566 - val_loss: 0.1001 - val_accuracy: 0.9655\n",
            "Epoch 14/100\n",
            "22/22 [==============================] - 0s 3ms/step - loss: 0.1282 - accuracy: 0.9656 - val_loss: 0.1057 - val_accuracy: 0.9483\n",
            "Epoch 15/100\n",
            "22/22 [==============================] - 0s 3ms/step - loss: 0.0955 - accuracy: 0.9830 - val_loss: 0.1027 - val_accuracy: 0.9483\n",
            "Epoch 16/100\n",
            "22/22 [==============================] - 0s 3ms/step - loss: 0.0980 - accuracy: 0.9752 - val_loss: 0.0922 - val_accuracy: 0.9655\n",
            "Epoch 17/100\n",
            "22/22 [==============================] - 0s 3ms/step - loss: 0.0823 - accuracy: 0.9916 - val_loss: 0.0929 - val_accuracy: 0.9655\n",
            "Epoch 18/100\n",
            "22/22 [==============================] - 0s 3ms/step - loss: 0.0923 - accuracy: 0.9789 - val_loss: 0.0899 - val_accuracy: 0.9655\n",
            "Epoch 19/100\n",
            "22/22 [==============================] - 0s 3ms/step - loss: 0.0925 - accuracy: 0.9715 - val_loss: 0.0890 - val_accuracy: 0.9655\n",
            "Epoch 20/100\n",
            "22/22 [==============================] - 0s 3ms/step - loss: 0.0534 - accuracy: 0.9895 - val_loss: 0.0918 - val_accuracy: 0.9655\n",
            "Epoch 21/100\n",
            "22/22 [==============================] - 0s 3ms/step - loss: 0.0691 - accuracy: 0.9949 - val_loss: 0.0941 - val_accuracy: 0.9655\n",
            "Epoch 22/100\n",
            "22/22 [==============================] - 0s 3ms/step - loss: 0.0751 - accuracy: 0.9716 - val_loss: 0.0751 - val_accuracy: 0.9828\n",
            "Epoch 23/100\n",
            "22/22 [==============================] - 0s 3ms/step - loss: 0.0574 - accuracy: 0.9928 - val_loss: 0.0940 - val_accuracy: 0.9483\n",
            "Epoch 24/100\n",
            "22/22 [==============================] - 0s 3ms/step - loss: 0.0628 - accuracy: 0.9938 - val_loss: 0.0952 - val_accuracy: 0.9655\n",
            "Epoch 25/100\n",
            "22/22 [==============================] - 0s 3ms/step - loss: 0.0410 - accuracy: 0.9961 - val_loss: 0.0801 - val_accuracy: 0.9828\n",
            "Epoch 26/100\n",
            "22/22 [==============================] - 0s 3ms/step - loss: 0.0431 - accuracy: 0.9946 - val_loss: 0.0887 - val_accuracy: 0.9655\n",
            "Epoch 27/100\n",
            "22/22 [==============================] - 0s 3ms/step - loss: 0.0570 - accuracy: 0.9851 - val_loss: 0.0879 - val_accuracy: 0.9655\n",
            "Epoch 28/100\n",
            "22/22 [==============================] - 0s 3ms/step - loss: 0.0373 - accuracy: 0.9954 - val_loss: 0.0800 - val_accuracy: 0.9828\n",
            "Epoch 29/100\n",
            "22/22 [==============================] - 0s 3ms/step - loss: 0.0354 - accuracy: 1.0000 - val_loss: 0.1093 - val_accuracy: 0.9483\n",
            "Epoch 30/100\n",
            "22/22 [==============================] - 0s 3ms/step - loss: 0.0397 - accuracy: 1.0000 - val_loss: 0.0774 - val_accuracy: 0.9828\n",
            "Epoch 31/100\n",
            "22/22 [==============================] - 0s 3ms/step - loss: 0.0437 - accuracy: 0.9930 - val_loss: 0.0846 - val_accuracy: 0.9655\n",
            "Epoch 32/100\n",
            "22/22 [==============================] - 0s 3ms/step - loss: 0.0291 - accuracy: 1.0000 - val_loss: 0.0984 - val_accuracy: 0.9483\n",
            "Epoch 33/100\n",
            "22/22 [==============================] - 0s 3ms/step - loss: 0.0313 - accuracy: 1.0000 - val_loss: 0.0965 - val_accuracy: 0.9483\n",
            "Epoch 34/100\n",
            "22/22 [==============================] - 0s 3ms/step - loss: 0.0291 - accuracy: 1.0000 - val_loss: 0.0909 - val_accuracy: 0.9483\n",
            "Epoch 35/100\n",
            "22/22 [==============================] - 0s 3ms/step - loss: 0.0340 - accuracy: 1.0000 - val_loss: 0.0981 - val_accuracy: 0.9483\n",
            "Epoch 36/100\n",
            "22/22 [==============================] - 0s 3ms/step - loss: 0.0235 - accuracy: 1.0000 - val_loss: 0.0849 - val_accuracy: 0.9483\n",
            "Epoch 37/100\n",
            "22/22 [==============================] - 0s 3ms/step - loss: 0.0215 - accuracy: 1.0000 - val_loss: 0.1018 - val_accuracy: 0.9310\n",
            "Epoch 38/100\n",
            "22/22 [==============================] - 0s 3ms/step - loss: 0.0215 - accuracy: 1.0000 - val_loss: 0.1001 - val_accuracy: 0.9310\n",
            "Epoch 39/100\n",
            "22/22 [==============================] - 0s 3ms/step - loss: 0.0271 - accuracy: 1.0000 - val_loss: 0.0928 - val_accuracy: 0.9310\n",
            "Epoch 40/100\n",
            "22/22 [==============================] - 0s 3ms/step - loss: 0.0314 - accuracy: 1.0000 - val_loss: 0.1085 - val_accuracy: 0.9310\n",
            "Epoch 41/100\n",
            "22/22 [==============================] - 0s 3ms/step - loss: 0.0185 - accuracy: 1.0000 - val_loss: 0.0919 - val_accuracy: 0.9483\n",
            "Epoch 42/100\n",
            "22/22 [==============================] - 0s 3ms/step - loss: 0.0189 - accuracy: 1.0000 - val_loss: 0.0968 - val_accuracy: 0.9310\n",
            "Epoch 43/100\n",
            "22/22 [==============================] - 0s 3ms/step - loss: 0.0266 - accuracy: 1.0000 - val_loss: 0.1129 - val_accuracy: 0.9310\n",
            "Epoch 44/100\n",
            "22/22 [==============================] - 0s 3ms/step - loss: 0.0154 - accuracy: 1.0000 - val_loss: 0.0909 - val_accuracy: 0.9483\n",
            "Epoch 45/100\n",
            "22/22 [==============================] - 0s 3ms/step - loss: 0.0163 - accuracy: 1.0000 - val_loss: 0.1114 - val_accuracy: 0.9310\n",
            "Epoch 46/100\n",
            "22/22 [==============================] - 0s 3ms/step - loss: 0.0179 - accuracy: 1.0000 - val_loss: 0.0969 - val_accuracy: 0.9310\n",
            "Epoch 47/100\n",
            "22/22 [==============================] - 0s 3ms/step - loss: 0.0134 - accuracy: 1.0000 - val_loss: 0.1092 - val_accuracy: 0.9310\n",
            "Epoch 48/100\n",
            "22/22 [==============================] - 0s 3ms/step - loss: 0.0164 - accuracy: 1.0000 - val_loss: 0.1039 - val_accuracy: 0.9310\n",
            "Epoch 49/100\n",
            "22/22 [==============================] - 0s 3ms/step - loss: 0.0165 - accuracy: 1.0000 - val_loss: 0.1164 - val_accuracy: 0.9310\n",
            "Epoch 50/100\n",
            "22/22 [==============================] - 0s 3ms/step - loss: 0.0173 - accuracy: 1.0000 - val_loss: 0.1074 - val_accuracy: 0.9310\n",
            "Epoch 51/100\n",
            "22/22 [==============================] - 0s 3ms/step - loss: 0.0159 - accuracy: 1.0000 - val_loss: 0.1175 - val_accuracy: 0.9310\n",
            "Epoch 52/100\n",
            "22/22 [==============================] - 0s 3ms/step - loss: 0.0149 - accuracy: 1.0000 - val_loss: 0.1073 - val_accuracy: 0.9310\n",
            "Epoch 53/100\n",
            "22/22 [==============================] - 0s 3ms/step - loss: 0.0101 - accuracy: 1.0000 - val_loss: 0.1077 - val_accuracy: 0.9310\n",
            "Epoch 54/100\n",
            "22/22 [==============================] - 0s 3ms/step - loss: 0.0100 - accuracy: 1.0000 - val_loss: 0.1035 - val_accuracy: 0.9310\n",
            "Epoch 55/100\n",
            "22/22 [==============================] - 0s 3ms/step - loss: 0.0124 - accuracy: 1.0000 - val_loss: 0.1127 - val_accuracy: 0.9310\n",
            "Epoch 56/100\n",
            "22/22 [==============================] - 0s 3ms/step - loss: 0.0126 - accuracy: 1.0000 - val_loss: 0.1125 - val_accuracy: 0.9310\n",
            "Epoch 57/100\n",
            "22/22 [==============================] - 0s 3ms/step - loss: 0.0094 - accuracy: 1.0000 - val_loss: 0.1223 - val_accuracy: 0.9310\n",
            "Epoch 58/100\n",
            "22/22 [==============================] - 0s 3ms/step - loss: 0.0085 - accuracy: 1.0000 - val_loss: 0.1228 - val_accuracy: 0.9310\n",
            "Epoch 59/100\n",
            "22/22 [==============================] - 0s 3ms/step - loss: 0.0086 - accuracy: 1.0000 - val_loss: 0.1170 - val_accuracy: 0.9310\n",
            "Epoch 60/100\n",
            "22/22 [==============================] - 0s 3ms/step - loss: 0.0112 - accuracy: 1.0000 - val_loss: 0.1231 - val_accuracy: 0.9310\n",
            "Epoch 61/100\n",
            "22/22 [==============================] - 0s 3ms/step - loss: 0.0082 - accuracy: 1.0000 - val_loss: 0.1145 - val_accuracy: 0.9310\n",
            "Epoch 62/100\n",
            "22/22 [==============================] - 0s 3ms/step - loss: 0.0105 - accuracy: 1.0000 - val_loss: 0.1271 - val_accuracy: 0.9310\n",
            "Epoch 63/100\n",
            "22/22 [==============================] - 0s 3ms/step - loss: 0.0079 - accuracy: 1.0000 - val_loss: 0.1174 - val_accuracy: 0.9310\n",
            "Epoch 64/100\n",
            "22/22 [==============================] - 0s 3ms/step - loss: 0.0058 - accuracy: 1.0000 - val_loss: 0.1213 - val_accuracy: 0.9310\n",
            "Epoch 65/100\n",
            "22/22 [==============================] - 0s 3ms/step - loss: 0.0082 - accuracy: 1.0000 - val_loss: 0.1247 - val_accuracy: 0.9310\n",
            "Epoch 66/100\n",
            "22/22 [==============================] - 0s 3ms/step - loss: 0.0070 - accuracy: 1.0000 - val_loss: 0.1311 - val_accuracy: 0.9310\n",
            "Epoch 67/100\n",
            "22/22 [==============================] - 0s 3ms/step - loss: 0.0072 - accuracy: 1.0000 - val_loss: 0.1223 - val_accuracy: 0.9310\n",
            "Epoch 68/100\n",
            "22/22 [==============================] - 0s 3ms/step - loss: 0.0058 - accuracy: 1.0000 - val_loss: 0.1278 - val_accuracy: 0.9310\n",
            "Epoch 69/100\n",
            "22/22 [==============================] - 0s 3ms/step - loss: 0.0042 - accuracy: 1.0000 - val_loss: 0.1315 - val_accuracy: 0.9310\n",
            "Epoch 70/100\n",
            "22/22 [==============================] - 0s 3ms/step - loss: 0.0061 - accuracy: 1.0000 - val_loss: 0.1326 - val_accuracy: 0.9310\n",
            "Epoch 71/100\n",
            "22/22 [==============================] - 0s 3ms/step - loss: 0.0072 - accuracy: 1.0000 - val_loss: 0.1314 - val_accuracy: 0.9310\n",
            "Epoch 72/100\n",
            "22/22 [==============================] - 0s 3ms/step - loss: 0.0061 - accuracy: 1.0000 - val_loss: 0.1271 - val_accuracy: 0.9310\n",
            "Epoch 73/100\n",
            "22/22 [==============================] - 0s 3ms/step - loss: 0.0047 - accuracy: 1.0000 - val_loss: 0.1359 - val_accuracy: 0.9310\n",
            "Epoch 74/100\n",
            "22/22 [==============================] - 0s 3ms/step - loss: 0.0074 - accuracy: 1.0000 - val_loss: 0.1369 - val_accuracy: 0.9310\n",
            "Epoch 75/100\n",
            "22/22 [==============================] - 0s 3ms/step - loss: 0.0046 - accuracy: 1.0000 - val_loss: 0.1306 - val_accuracy: 0.9310\n",
            "Epoch 76/100\n",
            "22/22 [==============================] - 0s 3ms/step - loss: 0.0053 - accuracy: 1.0000 - val_loss: 0.1288 - val_accuracy: 0.9310\n",
            "Epoch 77/100\n",
            "22/22 [==============================] - 0s 3ms/step - loss: 0.0057 - accuracy: 1.0000 - val_loss: 0.1418 - val_accuracy: 0.9310\n",
            "Epoch 78/100\n",
            "22/22 [==============================] - 0s 4ms/step - loss: 0.0033 - accuracy: 1.0000 - val_loss: 0.1247 - val_accuracy: 0.9310\n",
            "Epoch 79/100\n",
            "22/22 [==============================] - 0s 3ms/step - loss: 0.0052 - accuracy: 1.0000 - val_loss: 0.1543 - val_accuracy: 0.9310\n",
            "Epoch 80/100\n",
            "22/22 [==============================] - 0s 3ms/step - loss: 0.0049 - accuracy: 1.0000 - val_loss: 0.1339 - val_accuracy: 0.9310\n",
            "Epoch 81/100\n",
            "22/22 [==============================] - 0s 3ms/step - loss: 0.0050 - accuracy: 1.0000 - val_loss: 0.1383 - val_accuracy: 0.9310\n",
            "Epoch 82/100\n",
            "22/22 [==============================] - 0s 3ms/step - loss: 0.0035 - accuracy: 1.0000 - val_loss: 0.1386 - val_accuracy: 0.9310\n",
            "Epoch 83/100\n",
            "22/22 [==============================] - 0s 3ms/step - loss: 0.0049 - accuracy: 1.0000 - val_loss: 0.1477 - val_accuracy: 0.9310\n",
            "Epoch 84/100\n",
            "22/22 [==============================] - 0s 3ms/step - loss: 0.0041 - accuracy: 1.0000 - val_loss: 0.1433 - val_accuracy: 0.9310\n",
            "Epoch 85/100\n",
            "22/22 [==============================] - 0s 3ms/step - loss: 0.0037 - accuracy: 1.0000 - val_loss: 0.1481 - val_accuracy: 0.9310\n",
            "Epoch 86/100\n",
            "22/22 [==============================] - 0s 3ms/step - loss: 0.0038 - accuracy: 1.0000 - val_loss: 0.1404 - val_accuracy: 0.9310\n",
            "Epoch 87/100\n",
            "22/22 [==============================] - 0s 3ms/step - loss: 0.0040 - accuracy: 1.0000 - val_loss: 0.1483 - val_accuracy: 0.9310\n",
            "Epoch 88/100\n",
            "22/22 [==============================] - 0s 3ms/step - loss: 0.0038 - accuracy: 1.0000 - val_loss: 0.1432 - val_accuracy: 0.9310\n",
            "Epoch 89/100\n",
            "22/22 [==============================] - 0s 3ms/step - loss: 0.0029 - accuracy: 1.0000 - val_loss: 0.1499 - val_accuracy: 0.9310\n",
            "Epoch 90/100\n",
            "22/22 [==============================] - 0s 3ms/step - loss: 0.0026 - accuracy: 1.0000 - val_loss: 0.1499 - val_accuracy: 0.9310\n",
            "Epoch 91/100\n",
            "22/22 [==============================] - 0s 3ms/step - loss: 0.0033 - accuracy: 1.0000 - val_loss: 0.1448 - val_accuracy: 0.9310\n",
            "Epoch 92/100\n",
            "22/22 [==============================] - 0s 3ms/step - loss: 0.0039 - accuracy: 1.0000 - val_loss: 0.1500 - val_accuracy: 0.9310\n",
            "Epoch 93/100\n",
            "22/22 [==============================] - 0s 3ms/step - loss: 0.0030 - accuracy: 1.0000 - val_loss: 0.1554 - val_accuracy: 0.9310\n",
            "Epoch 94/100\n",
            "22/22 [==============================] - 0s 3ms/step - loss: 0.0019 - accuracy: 1.0000 - val_loss: 0.1530 - val_accuracy: 0.9310\n",
            "Epoch 95/100\n",
            "22/22 [==============================] - 0s 3ms/step - loss: 0.0021 - accuracy: 1.0000 - val_loss: 0.1565 - val_accuracy: 0.9310\n",
            "Epoch 96/100\n",
            "22/22 [==============================] - 0s 3ms/step - loss: 0.0028 - accuracy: 1.0000 - val_loss: 0.1607 - val_accuracy: 0.9310\n",
            "Epoch 97/100\n",
            "22/22 [==============================] - 0s 3ms/step - loss: 0.0023 - accuracy: 1.0000 - val_loss: 0.1539 - val_accuracy: 0.9310\n",
            "Epoch 98/100\n",
            "22/22 [==============================] - 0s 3ms/step - loss: 0.0019 - accuracy: 1.0000 - val_loss: 0.1636 - val_accuracy: 0.9310\n",
            "Epoch 99/100\n",
            "22/22 [==============================] - 0s 3ms/step - loss: 0.0029 - accuracy: 1.0000 - val_loss: 0.1546 - val_accuracy: 0.9310\n",
            "Epoch 100/100\n",
            "22/22 [==============================] - 0s 3ms/step - loss: 0.0028 - accuracy: 1.0000 - val_loss: 0.1621 - val_accuracy: 0.9310\n"
          ],
          "name": "stdout"
        }
      ]
    },
    {
      "cell_type": "markdown",
      "metadata": {
        "id": "l48BhF4PlZkM"
      },
      "source": [
        "## Análise da função *loss* (erro/perda)\n",
        "Vamos observar o comportamento da função *loss* para os dados de treino e de validação/teste."
      ]
    },
    {
      "cell_type": "code",
      "metadata": {
        "colab": {
          "base_uri": "https://localhost:8080/",
          "height": 297
        },
        "id": "oscCHzuRldf7",
        "outputId": "a7a20aad-7a74-4dd2-a057-f1db1b15d429"
      },
      "source": [
        "import matplotlib.pyplot as plt\n",
        "plt.plot(history.history['loss'])\n",
        "plt.plot(history.history['val_loss'], '')\n",
        "plt.xlabel(\"Épocas\")\n",
        "plt.ylabel('Erro/loss')\n",
        "plt.title('Função erro/loss')\n",
        "plt.legend(['loss', 'val_loss'])\n",
        "plt.show()"
      ],
      "execution_count": 14,
      "outputs": [
        {
          "output_type": "display_data",
          "data": {
            "image/png": "[encoded data removed]",
            "text/plain": [
              "<Figure size 432x288 with 1 Axes>"
            ]
          },
          "metadata": {
            "tags": [],
            "needs_background": "light"
          }
        }
      ]
    },
    {
      "cell_type": "markdown",
      "metadata": {
        "id": "CnOywLpjliYD"
      },
      "source": [
        "## Análise da métrica de desempenho (acurácia)\n",
        "Vamos observar o desempenho (acurácia) da rede para os dados de treino e de validação/teste."
      ]
    },
    {
      "cell_type": "code",
      "metadata": {
        "colab": {
          "base_uri": "https://localhost:8080/",
          "height": 297
        },
        "id": "47nLbRc_llb9",
        "outputId": "83178e55-15de-41a4-9fdc-18e4290d7949"
      },
      "source": [
        "plt.plot(history.history['accuracy'])\n",
        "plt.plot(history.history['val_accuracy'], '')\n",
        "plt.xlabel(\"Épocas\")\n",
        "plt.ylabel('Acurácia')\n",
        "plt.title('Acurácia')\n",
        "plt.legend(['acurácia', 'val_acurácia'])\n",
        "plt.show()"
      ],
      "execution_count": 15,
      "outputs": [
        {
          "output_type": "display_data",
          "data": {
            "image/png": "[encoded data removed]",
            "text/plain": [
              "<Figure size 432x288 with 1 Axes>"
            ]
          },
          "metadata": {
            "tags": [],
            "needs_background": "light"
          }
        }
      ]
    },
    {
      "cell_type": "markdown",
      "metadata": {
        "id": "UnCzp7cqefpF"
      },
      "source": [
        "## Classifica os dados de teste"
      ]
    },
    {
      "cell_type": "code",
      "metadata": {
        "id": "55GxDLXLeoJK"
      },
      "source": [
        "y_pred = model.predict(X_test)\n",
        "y_pred = (y_pred > 0.5)"
      ],
      "execution_count": 16,
      "outputs": []
    },
    {
      "cell_type": "markdown",
      "metadata": {
        "id": "lhcvQZaLe6hx"
      },
      "source": [
        "## Calcula a matriz de confusão sobre os dados de teste"
      ]
    },
    {
      "cell_type": "code",
      "metadata": {
        "colab": {
          "base_uri": "https://localhost:8080/"
        },
        "id": "XxuZT6jxfD0H",
        "outputId": "98347bb8-097c-4283-e2eb-832ad9d29735"
      },
      "source": [
        "from sklearn.metrics import confusion_matrix\n",
        "cm = confusion_matrix(y_test, y_pred)\n",
        "print(cm)"
      ],
      "execution_count": 17,
      "outputs": [
        {
          "output_type": "stream",
          "text": [
            "[[27  4]\n",
            " [ 0 27]]\n"
          ],
          "name": "stdout"
        }
      ]
    },
    {
      "cell_type": "markdown",
      "metadata": {
        "id": "1-bBUClVowa6"
      },
      "source": [
        "## Classifica o conjunto de dados inteiro"
      ]
    },
    {
      "cell_type": "code",
      "metadata": {
        "id": "ufS7LzNno3oR"
      },
      "source": [
        "y_pred2 = model.predict(X)\n",
        "y_pred2 = (y_pred2 > 0.5)"
      ],
      "execution_count": 18,
      "outputs": []
    },
    {
      "cell_type": "markdown",
      "metadata": {
        "id": "Cn9dwVGuo-8j"
      },
      "source": [
        "## Calcula a matriz de confusão sobre o conjunto inteiro de dados"
      ]
    },
    {
      "cell_type": "code",
      "metadata": {
        "colab": {
          "base_uri": "https://localhost:8080/"
        },
        "id": "oGSUOV9WpDNg",
        "outputId": "1d51b1aa-fafc-48fc-809a-93c776c6f1b4"
      },
      "source": [
        "from sklearn.metrics import confusion_matrix\n",
        "cm2 = confusion_matrix(y, y_pred2)\n",
        "print(cm2)"
      ],
      "execution_count": 19,
      "outputs": [
        {
          "output_type": "stream",
          "text": [
            "[[104   4]\n",
            " [  0 124]]\n"
          ],
          "name": "stdout"
        }
      ]
    },
    {
      "cell_type": "code",
      "metadata": {
        "id": "kkMaa8wmldRq",
        "colab": {
          "base_uri": "https://localhost:8080/"
        },
        "outputId": "4f63185c-942c-4b23-b822-d3776c9d9c4f"
      },
      "source": [
        "import numpy as np\n",
        "print(np.around(model.predict(X[:5,:])))"
      ],
      "execution_count": 20,
      "outputs": [
        {
          "output_type": "stream",
          "text": [
            "[[1.]\n",
            " [0.]\n",
            " [1.]\n",
            " [1.]\n",
            " [1.]]\n"
          ],
          "name": "stdout"
        }
      ]
    },
    {
      "cell_type": "code",
      "metadata": {
        "id": "rN1vbr1xokhd",
        "colab": {
          "base_uri": "https://localhost:8080/"
        },
        "outputId": "676caa31-457d-4ba3-f56f-7ec26c6b8234"
      },
      "source": [
        "x1 = np.array([X[0]])\n",
        "pred = model.predict(x1)\n",
        "print(type(pred)) # array numpy\n",
        "print(pred)\n",
        "print(round(pred[0][0]))\n",
        "#print(np.around(pred))"
      ],
      "execution_count": 21,
      "outputs": [
        {
          "output_type": "stream",
          "text": [
            "<class 'numpy.ndarray'>\n",
            "[[0.9999968]]\n",
            "1\n"
          ],
          "name": "stdout"
        }
      ]
    }
  ]
}