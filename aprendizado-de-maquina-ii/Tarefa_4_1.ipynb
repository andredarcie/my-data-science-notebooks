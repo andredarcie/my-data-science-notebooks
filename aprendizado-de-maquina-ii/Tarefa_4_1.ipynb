{
  "nbformat": 4,
  "nbformat_minor": 0,
  "metadata": {
    "colab": {
      "name": "Tarefa_4.1.ipynb",
      "provenance": [],
      "collapsed_sections": []
    },
    "kernelspec": {
      "name": "python3",
      "display_name": "Python 3"
    },
    "accelerator": "GPU"
  },
  "cells": [
    {
      "cell_type": "markdown",
      "metadata": {
        "id": "jZM3XREkvOba"
      },
      "source": [
        "\n",
        "\n",
        "---\n",
        "\n",
        "---\n",
        "## Previsão de preços de habitação na Califórnia (problema de regressão)\n",
        "\n",
        "Este notebook implementa uma rede neural para estimar (prever) preços de casas  na Califórnia.\n",
        "\n",
        "Trata-se de um problema de regressão."
      ]
    },
    {
      "cell_type": "markdown",
      "metadata": {
        "id": "IPxitpXn5GFN"
      },
      "source": [
        "## Conjunto de dados\n",
        "\n",
        "Fonte: https://www.kaggle.com/camnugent/california-housing-prices?select=housing.csv\n",
        "\n",
        "A variável de destino (target) é o valor médio da casa (median_house_value) para os distritos da Califórnia.\n",
        "\n",
        "Este conjunto de dados foi derivado do censo dos EUA de 1990.\n",
        "\n",
        "- Número de Instâncias: 20640\n",
        "\n",
        "- Número de Atributos: 8 atributos numéricos preditivos e o target\n",
        "\n",
        "- Informações dos Atributos:\n",
        "  - Longitude da quadra da casa (longitude)\n",
        "  - Latitude da quadra da casa (latitude)\n",
        "  - Idade média das casas na quadra (housing_median_age)\n",
        "  - Total de salas na quadra (total_rooms)\n",
        "  - Total de quartos na quadra (total_bedrooms)\n",
        "  - População da quadra (population)\n",
        "  - Número de famílias (households)\n",
        "  - Renda média das famílias na quadra em dezenas de milhares de dólares (median_income)\n",
        "  \n",
        "- Informação do da variável de destino (median_house_value): \n",
        "   - cada valor corresponde ao valor médio da casa em unidades de 100.000 dólares\n",
        "\n",
        "Obs: desconsidera-se o atributo categórico ocean_proximity"
      ]
    },
    {
      "cell_type": "markdown",
      "metadata": {
        "id": "4G6UZT6QC_us"
      },
      "source": [
        "## Leitura e preparação dos dados\n",
        "\n",
        "Leitura do arquivo 'housing.csv' utilizando os pandas."
      ]
    },
    {
      "cell_type": "code",
      "metadata": {
        "id": "jGSqUwVE7QvS"
      },
      "source": [
        "import pandas as pd\n",
        "\n",
        "# Clone do repositório de dados do GitHub\n",
        "!git clone https://github.com/malegopc/AM2PUCPOC\n",
        "# Leitura dos dados do arquivo .csv como dataframe \n",
        "housing = pd.read_csv(\"/content/AM2PUCPOC/Datasets/California_housing/housing.csv\")\n",
        "# Mostra as 5 primeiras e 5 últimas linhas\n",
        "housing"
      ],
      "execution_count": null,
      "outputs": []
    },
    {
      "cell_type": "markdown",
      "metadata": {
        "id": "8Sao1JGYEP2R"
      },
      "source": [
        "## Análise prévia dos dados\n",
        "\n",
        "Imprime o número de dados non-null (não ausentes) e o tipo de cada atributo.\n",
        "\n",
        "Observe que a variável total_bedrooms possui dados null (ausentes)."
      ]
    },
    {
      "cell_type": "code",
      "metadata": {
        "id": "rRbFDx1iDCLq"
      },
      "source": [
        "# Mostra o número de dados non-null (não ausentes) e o tipo de cada atributo\n",
        "print('Informações sobre os dados:\\n')\n",
        "housing.info()\n",
        "# Soma o número de dados null (ausentes)\n",
        "print('\\n\\nSoma de dados null (vazios):\\n')\n",
        "housing.isnull().sum()"
      ],
      "execution_count": null,
      "outputs": []
    },
    {
      "cell_type": "markdown",
      "metadata": {
        "id": "Rb5BrMqzDT9Q"
      },
      "source": [
        "## Eliminação de instâncias com dados ausentes e eliminação de dados desnecessários\n"
      ]
    },
    {
      "cell_type": "code",
      "metadata": {
        "id": "Uws9ESq9FXDG"
      },
      "source": [
        "# Interpolação dos dados ausentes\n",
        "housing.dropna(inplace=True)\n",
        "# Elimina o atributo 'ocean_proximity'\n",
        "housing = housing.drop('ocean_proximity', axis=1)\n",
        "housing\n",
        "#housing.columns"
      ],
      "execution_count": null,
      "outputs": []
    },
    {
      "cell_type": "markdown",
      "metadata": {
        "id": "6ltDX4UhJys5"
      },
      "source": [
        "## Salva os dados pré-processados em um arquivo .csv"
      ]
    },
    {
      "cell_type": "code",
      "metadata": {
        "id": "Ix3-JayiJ7hg"
      },
      "source": [
        "housing.to_csv('housing_out.csv')"
      ],
      "execution_count": null,
      "outputs": []
    },
    {
      "cell_type": "markdown",
      "metadata": {
        "id": "VccXvtXmOJy7"
      },
      "source": [
        "## Análise (estatística) descritiva dos dados\n",
        "\n",
        "Análise descritiva dos dados (resumo)."
      ]
    },
    {
      "cell_type": "code",
      "metadata": {
        "id": "WHpUgIoROTpq"
      },
      "source": [
        "housing.describe()"
      ],
      "execution_count": null,
      "outputs": []
    },
    {
      "cell_type": "markdown",
      "metadata": {
        "id": "TL8-zZUoOxCT"
      },
      "source": [
        "## Mostra um histograma dos valores das casas"
      ]
    },
    {
      "cell_type": "code",
      "metadata": {
        "id": "Tpho1mISO2RK"
      },
      "source": [
        "import seaborn as sns\n",
        "import matplotlib.pyplot as plt\n",
        "\n",
        "plt.figure(figsize=(10,4))\n",
        "sns.histplot(housing['median_house_value'], kde = True)"
      ],
      "execution_count": null,
      "outputs": []
    },
    {
      "cell_type": "markdown",
      "metadata": {
        "id": "9qD1clBkXqMw"
      },
      "source": [
        "## Mostra (\"plota\") a localização geográfica das casas\n",
        "\n",
        "[matplotlib.axes.Axes.scatter](https://matplotlib.org/api/_as_gen/matplotlib.axes.Axes.scatter.html#matplotlib.axes.Axes.scatter)"
      ]
    },
    {
      "cell_type": "code",
      "metadata": {
        "id": "fcXK8IrRQbDC"
      },
      "source": [
        "housing.plot(kind=\"scatter\", x=\"longitude\", y=\"latitude\",\n",
        "    s=housing['population']/100, label=\"population\",\n",
        "    c=\"median_house_value\", cmap=plt.get_cmap(\"jet\"),\n",
        "    colorbar=True, alpha=0.4, figsize=(10,7),)\n",
        "plt.legend()\n",
        "plt.show()"
      ],
      "execution_count": null,
      "outputs": []
    },
    {
      "cell_type": "markdown",
      "metadata": {
        "id": "Gy05_KBoaEXe"
      },
      "source": [
        "## Calcula a correlação entre pares de atributos (colunas)"
      ]
    },
    {
      "cell_type": "code",
      "metadata": {
        "id": "WgXsW8B7aKGe"
      },
      "source": [
        "#Calcule a correlação entre pares de colunas\n",
        "housing.corr()"
      ],
      "execution_count": null,
      "outputs": []
    },
    {
      "cell_type": "code",
      "metadata": {
        "id": "NJh8PhvqasUX"
      },
      "source": [
        "# Mostra um mapa de calor dessas correlações\n",
        "plt.figure(figsize=(10,8))\n",
        "sns.heatmap(housing.corr(), annot=True)"
      ],
      "execution_count": null,
      "outputs": []
    },
    {
      "cell_type": "markdown",
      "metadata": {
        "id": "YYWTnUzoc_yK"
      },
      "source": [
        "# Separa atributos e variável de destino\n",
        "\n",
        "Separa atributos (em X) e variável de destino (em y).\n",
        "\n",
        "Divide por 100.000 dólares o valor das casas apenas para facilitar a visualização dos resultados."
      ]
    },
    {
      "cell_type": "code",
      "metadata": {
        "id": "o-DJ6yPGdPhA"
      },
      "source": [
        "# Separa os atributos da variável de destino (median_house_value)\n",
        "X = housing.drop('median_house_value',axis=1).values\n",
        "y = housing['median_house_value'].values/100000 # divide por 100.000 dólares o valor das casas\n",
        "print(X.shape)\n",
        "print(y.shape)"
      ],
      "execution_count": null,
      "outputs": []
    },
    {
      "cell_type": "markdown",
      "metadata": {
        "id": "jpLOFqQPeQzg"
      },
      "source": [
        "## Divide o conjunto de dados em treino e teste"
      ]
    },
    {
      "cell_type": "code",
      "metadata": {
        "id": "CjWD0riweoxT"
      },
      "source": [
        "from sklearn.model_selection import train_test_split\n",
        "X_train, X_test, y_train, y_test = train_test_split(X,y,test_size=0.25,random_state=42)"
      ],
      "execution_count": null,
      "outputs": []
    },
    {
      "cell_type": "markdown",
      "metadata": {
        "id": "MhhsCagVNxxP"
      },
      "source": [
        "## Normaliza (padroniza) os dados\n",
        "\n",
        "Transforma os atributos redimensionando para o intervalo [0,1]"
      ]
    },
    {
      "cell_type": "code",
      "metadata": {
        "id": "gAEwiebzOLer"
      },
      "source": [
        "from sklearn.preprocessing import MinMaxScaler\n",
        "scaler = MinMaxScaler()\n",
        "X_train= scaler.fit_transform(X_train)\n",
        "X_test = scaler.transform(X_test)\n",
        "\n",
        "#from sklearn.preprocessing import StandardScaler\n",
        "#scaler = StandardScaler()\n",
        "#X_train = scaler.fit_transform(X_train)\n",
        "#X_test = scaler.transform(X_test)"
      ],
      "execution_count": null,
      "outputs": []
    },
    {
      "cell_type": "markdown",
      "metadata": {
        "id": "ex3_2GzOXe0J"
      },
      "source": [
        "## Criar o modelo de rede neural"
      ]
    },
    {
      "cell_type": "code",
      "metadata": {
        "id": "Ay4Tb9OyXimS"
      },
      "source": [
        ""
      ],
      "execution_count": null,
      "outputs": []
    },
    {
      "cell_type": "markdown",
      "metadata": {
        "id": "7mDnXp9HuPM2"
      },
      "source": [
        "## Compilar a rede neural"
      ]
    },
    {
      "cell_type": "code",
      "metadata": {
        "id": "Jn95jqw0uWxl"
      },
      "source": [
        ""
      ],
      "execution_count": null,
      "outputs": []
    },
    {
      "cell_type": "markdown",
      "metadata": {
        "id": "zowlFWeju9Te"
      },
      "source": [
        "## Treinar a rede neural"
      ]
    },
    {
      "cell_type": "code",
      "metadata": {
        "id": "kJ6Mk8kBu8NM"
      },
      "source": [
        ""
      ],
      "execution_count": null,
      "outputs": []
    },
    {
      "cell_type": "code",
      "metadata": {
        "id": "smXfNXPV0lUY"
      },
      "source": [
        "mse_test = model.evaluate(X_test, y_test)"
      ],
      "execution_count": null,
      "outputs": []
    },
    {
      "cell_type": "markdown",
      "metadata": {
        "id": "nKPvhrRWX6kN"
      },
      "source": [
        "## Análise da função *loss* (erro/perda)\n",
        "Vamos observar o comportamento da função *loss* para os dados de treino e de validação."
      ]
    },
    {
      "cell_type": "code",
      "metadata": {
        "id": "7X02GavXX7t9"
      },
      "source": [
        "import matplotlib.pyplot as plt\n",
        "plt.plot(history.history['loss'])\n",
        "plt.plot(history.history['val_loss'], '')\n",
        "plt.xlabel(\"Epocas\")\n",
        "plt.ylabel('Loss')\n",
        "plt.title('Função de erro/loss')\n",
        "plt.legend(['loss', 'val_loss'])\n",
        "plt.show()"
      ],
      "execution_count": null,
      "outputs": []
    },
    {
      "cell_type": "markdown",
      "metadata": {
        "id": "omOk_U0dX_yr"
      },
      "source": [
        "## Análise da métrica de desempenho (acurácia)\n",
        "Vamos observar o desempenho (acurácia) da rede para os dados de treino e de validação."
      ]
    },
    {
      "cell_type": "code",
      "metadata": {
        "id": "apnDE-BiYD38"
      },
      "source": [
        "plt.plot(history.history['mean_squared_error'])\n",
        "plt.plot(history.history['val_mean_squared_error'], '')\n",
        "plt.xlabel(\"Épocas\")\n",
        "plt.ylabel('mean_squared_error')\n",
        "plt.title('Erro quadrático médio')\n",
        "plt.legend(['erro_quadrático_médio', 'val_erro_quadrático_médio'])\n",
        "plt.show()"
      ],
      "execution_count": null,
      "outputs": []
    },
    {
      "cell_type": "markdown",
      "metadata": {
        "id": "tXdSC711vw6_"
      },
      "source": [
        "## Fazendo predições"
      ]
    },
    {
      "cell_type": "code",
      "metadata": {
        "id": "_E0dMNb4v03S"
      },
      "source": [
        "import numpy as np\n",
        "\n",
        "predictions = model.predict(X_train)\n",
        "# 5 primeiros casos do conjunto teste\n",
        "for i in range(5):\n",
        "  print('%s => %f (esperado %f)' % (np.round(X_train[i],2).tolist(), predictions[i], y_train[i]))"
      ],
      "execution_count": null,
      "outputs": []
    },
    {
      "cell_type": "markdown",
      "metadata": {
        "id": "vK4Bro7DNrGJ"
      },
      "source": [
        "## Mostra histograma das predições feitas pela rede neural"
      ]
    },
    {
      "cell_type": "code",
      "metadata": {
        "id": "6uvp8R1wMNuj"
      },
      "source": [
        "X_scaled = scaler.transform(X)\n",
        "predictions2 = model.predict(X_scaled)\n",
        "plt.figure(figsize=(10,4))\n",
        "sns.histplot(predictions2*100000, kde = True)"
      ],
      "execution_count": null,
      "outputs": []
    },
    {
      "cell_type": "markdown",
      "metadata": {
        "id": "7NzbNJZlN005"
      },
      "source": [
        "## Regressão Linear"
      ]
    },
    {
      "cell_type": "code",
      "metadata": {
        "id": "6RqkgnXyN6Hh"
      },
      "source": [
        "from sklearn.linear_model import LinearRegression\n",
        "from sklearn import metrics\n",
        "\n",
        "reglin = LinearRegression()\n",
        "reglin.fit(X_train,y_train)"
      ],
      "execution_count": null,
      "outputs": []
    },
    {
      "cell_type": "markdown",
      "metadata": {
        "id": "z00jASFs7fOx"
      },
      "source": [
        "## Aplica o modelo de regressão linear no conjunto teste"
      ]
    },
    {
      "cell_type": "code",
      "metadata": {
        "id": "IjCHIFXiOLXr"
      },
      "source": [
        "y_reglin = reglin.predict(X_test)"
      ],
      "execution_count": null,
      "outputs": []
    },
    {
      "cell_type": "markdown",
      "metadata": {
        "id": "h0b5fXsB6iEJ"
      },
      "source": [
        "## Calcula o erro quadrático médio"
      ]
    },
    {
      "cell_type": "code",
      "metadata": {
        "id": "kUzYJrA4OBLX"
      },
      "source": [
        "print(metrics.mean_squared_error(y_reglin,y_test))"
      ],
      "execution_count": null,
      "outputs": []
    },
    {
      "cell_type": "markdown",
      "metadata": {
        "id": "MTLBPBkHVqMe"
      },
      "source": [
        "## Fazendo predições"
      ]
    },
    {
      "cell_type": "code",
      "metadata": {
        "id": "llVO_KWOOUYg"
      },
      "source": [
        "predictions_reg = reglin.predict(X_test)\n",
        "# 5 primeiros casos do conjunto teste\n",
        "for i in range(5):\n",
        "  print('%s => %f (esperado %f)' % (np.round(X_test[i],2).tolist(), predictions_reg[i], y_test[i]))"
      ],
      "execution_count": null,
      "outputs": []
    },
    {
      "cell_type": "markdown",
      "metadata": {
        "id": "VeoFguGfVzcL"
      },
      "source": [
        "## Mostra histograma das predições da Regressão Linear"
      ]
    },
    {
      "cell_type": "code",
      "metadata": {
        "id": "FafI3RNXObtn"
      },
      "source": [
        "predictions_reg2 = reglin.predict(X_scaled)\n",
        "plt.figure(figsize=(10,4))\n",
        "sns.histplot(predictions_reg2*100000, kde = True)"
      ],
      "execution_count": null,
      "outputs": []
    }
  ]
}