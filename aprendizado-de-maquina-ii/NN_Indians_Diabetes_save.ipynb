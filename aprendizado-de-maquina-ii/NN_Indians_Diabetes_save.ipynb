{
  "nbformat": 4,
  "nbformat_minor": 0,
  "metadata": {
    "kernelspec": {
      "name": "python385jvsc74a57bd0c94be41889154d41bf43aca8d1a8d1cd64b97c119170e03e2ed46ca87183f0c5",
      "display_name": "Python 3.8.5 64-bit ('base': conda)"
    },
    "language_info": {
      "codemirror_mode": {
        "name": "ipython",
        "version": 3
      },
      "file_extension": ".py",
      "mimetype": "text/x-python",
      "name": "python",
      "nbconvert_exporter": "python",
      "pygments_lexer": "ipython3",
      "version": "3.8.5"
    },
    "colab": {
      "name": "NN_Indians_Diabetes_save.ipynb",
      "provenance": [],
      "collapsed_sections": []
    }
  },
  "cells": [
    {
      "cell_type": "markdown",
      "metadata": {
        "id": "Z7K0SeDgzjL2"
      },
      "source": [
        "---\n",
        "\n",
        "---\n",
        "\n",
        "# Predição de diabetes\n",
        "\n",
        "Este notebook implementa uma rede neural para predizer se um paciente tem diabetes ou não com base em certas medidas diagnósticas incluídas no conjunto de dados.\n",
        "\n",
        "O conjunto de dados utilizado descreve os dados do prontuário médico do paciente dos [índios Pima](https://pt.wikipedia.org/wiki/Pima) e se eles começaram a desenvolver diabetes em cinco anos.\n",
        "\n",
        "Trata-se de um problema de classificação binária (início do diabetes como 1 ou não como 0). Todas as variáveis ​​de entrada que descrevem cada paciente são numéricas.\n",
        "\n",
        "---\n",
        "\n",
        "\n",
        "\n",
        "---\n",
        "\n",
        "\n"
      ]
    },
    {
      "cell_type": "markdown",
      "metadata": {
        "id": "PcWx36BdDBX0"
      },
      "source": [
        "## Conjunto de dados\n",
        "\n",
        "1. Número de instâncias: 768\n",
        "\n",
        "2. Número de atributos: 8 (mais classe target)\n",
        "\n",
        "3. Atributos: (todos com valor numérico)\n",
        "   1. Número de vezes que engravidou (*Pregnancies*)\n",
        "   2. Concentração de glicose plasmática a 2 horas em um teste de tolerância à glicose oral (*Glucose*)\n",
        "   3. Pressão arterial diastólica (mm Hg) (*BloodPressure*)\n",
        "   4. Espessura da dobra da pele do tríceps (mm) (*SkinThickness*)\n",
        "   5. Insulina sérica de 2 horas (mu U / ml) (*Insulin*)\n",
        "   6. Índice de massa corporal (peso em kg / (altura em m) ^ 2) (*BMI*)\n",
        "   7. Função de pedigree de diabetes (*DiabetesPedigreeFunction*)\n",
        "   8. Idade (anos) (*Age*)\n",
        "   \n",
        "4. Variável target (classe): 0 ou 1 (valor de classe 1 é interpretado como \"teste positivo para diabetes\")\n",
        "\n",
        "   Classe Valor Número de instâncias\n",
        "   - 500 => 0\n",
        "   - 268 => 1\n",
        "\n",
        " "
      ]
    },
    {
      "cell_type": "markdown",
      "metadata": {
        "id": "LWXwGCqvIwgN"
      },
      "source": [
        "## Leitura dos dados\n",
        "\n",
        "Vamos começar importando o arquivo CSV bruto usando o Pandas."
      ]
    },
    {
      "cell_type": "code",
      "metadata": {
        "scrolled": true,
        "id": "LM6AT7tPzjL6"
      },
      "source": [
        "import pandas as pd\n",
        "\n",
        "# lê arquivo de dados, atribue NaN para dados faltantes e rótulos em cada coluna\n",
        "diabetes = pd.read_csv('diabetes.csv', na_values=['?'])\n",
        "# imprime as 5 primeiras linha dos dados montados\n",
        "diabetes.head()"
      ],
      "execution_count": 1,
      "outputs": [
        {
          "output_type": "execute_result",
          "data": {
            "text/plain": [
              "   Pregnancies  Glucose  BloodPressure  SkinThickness  Insulin   BMI  \\\n",
              "0            6      148             72             35        0  33.6   \n",
              "1            1       85             66             29        0  26.6   \n",
              "2            8      183             64              0        0  23.3   \n",
              "3            1       89             66             23       94  28.1   \n",
              "4            0      137             40             35      168  43.1   \n",
              "\n",
              "   DiabetesPedigreeFunction  Age  Outcome  \n",
              "0                     0.627   50        1  \n",
              "1                     0.351   31        0  \n",
              "2                     0.672   32        1  \n",
              "3                     0.167   21        0  \n",
              "4                     2.288   33        1  "
            ],
            "text/html": "<div>\n<style scoped>\n    .dataframe tbody tr th:only-of-type {\n        vertical-align: middle;\n    }\n\n    .dataframe tbody tr th {\n        vertical-align: top;\n    }\n\n    .dataframe thead th {\n        text-align: right;\n    }\n</style>\n<table border=\"1\" class=\"dataframe\">\n  <thead>\n    <tr style=\"text-align: right;\">\n      <th></th>\n      <th>Pregnancies</th>\n      <th>Glucose</th>\n      <th>BloodPressure</th>\n      <th>SkinThickness</th>\n      <th>Insulin</th>\n      <th>BMI</th>\n      <th>DiabetesPedigreeFunction</th>\n      <th>Age</th>\n      <th>Outcome</th>\n    </tr>\n  </thead>\n  <tbody>\n    <tr>\n      <th>0</th>\n      <td>6</td>\n      <td>148</td>\n      <td>72</td>\n      <td>35</td>\n      <td>0</td>\n      <td>33.6</td>\n      <td>0.627</td>\n      <td>50</td>\n      <td>1</td>\n    </tr>\n    <tr>\n      <th>1</th>\n      <td>1</td>\n      <td>85</td>\n      <td>66</td>\n      <td>29</td>\n      <td>0</td>\n      <td>26.6</td>\n      <td>0.351</td>\n      <td>31</td>\n      <td>0</td>\n    </tr>\n    <tr>\n      <th>2</th>\n      <td>8</td>\n      <td>183</td>\n      <td>64</td>\n      <td>0</td>\n      <td>0</td>\n      <td>23.3</td>\n      <td>0.672</td>\n      <td>32</td>\n      <td>1</td>\n    </tr>\n    <tr>\n      <th>3</th>\n      <td>1</td>\n      <td>89</td>\n      <td>66</td>\n      <td>23</td>\n      <td>94</td>\n      <td>28.1</td>\n      <td>0.167</td>\n      <td>21</td>\n      <td>0</td>\n    </tr>\n    <tr>\n      <th>4</th>\n      <td>0</td>\n      <td>137</td>\n      <td>40</td>\n      <td>35</td>\n      <td>168</td>\n      <td>43.1</td>\n      <td>2.288</td>\n      <td>33</td>\n      <td>1</td>\n    </tr>\n  </tbody>\n</table>\n</div>"
          },
          "metadata": {},
          "execution_count": 1
        }
      ]
    },
    {
      "cell_type": "markdown",
      "metadata": {
        "id": "yabMrBvezjMC"
      },
      "source": [
        "## Separa os atributos das classes\n",
        "\n",
        "Extrai os atributos e as classes (rótulos) colocando-os em duas variáveis separadas (na forma que o Keras espera)."
      ]
    },
    {
      "cell_type": "code",
      "metadata": {
        "id": "9pK51IcczjMC"
      },
      "source": [
        "X = diabetes.drop('Outcome', axis=1).values\n",
        "y = diabetes['Outcome'].values\n",
        "print(X.shape)\n",
        "print(y.shape)"
      ],
      "execution_count": 2,
      "outputs": [
        {
          "output_type": "stream",
          "name": "stdout",
          "text": [
            "(768, 8)\n(768,)\n"
          ]
        }
      ]
    },
    {
      "cell_type": "markdown",
      "metadata": {
        "id": "zyWHf7bCzjMD"
      },
      "source": [
        "## Criação do modelo de rede neural"
      ]
    },
    {
      "cell_type": "code",
      "metadata": {
        "id": "uwpVybNDzjME"
      },
      "source": [
        "from keras.models import Sequential\n",
        "from keras.layers import Dense\n",
        "\n",
        "model = Sequential()\n",
        "# 1a. camada oculta com 20 neurônios (definição das entradas)\n",
        "model.add(Dense(20, input_dim=X.shape[1], kernel_initializer = 'he_uniform', activation='relu'))\n",
        "# 2a. camada oculta com 10 neurônios\n",
        "model.add(Dense(10, kernel_initializer = 'he_uniform', activation='relu'))\n",
        "# camada de saída com um neurônio\n",
        "model.add(Dense(1, activation='sigmoid'))\n",
        "# sumário (resumo) do modelo\n",
        "model.summary()"
      ],
      "execution_count": 3,
      "outputs": [
        {
          "output_type": "stream",
          "name": "stdout",
          "text": [
            "Model: \"sequential\"\n_________________________________________________________________\nLayer (type)                 Output Shape              Param #   \n=================================================================\ndense (Dense)                (None, 20)                180       \n_________________________________________________________________\ndense_1 (Dense)              (None, 10)                210       \n_________________________________________________________________\ndense_2 (Dense)              (None, 1)                 11        \n=================================================================\nTotal params: 401\nTrainable params: 401\nNon-trainable params: 0\n_________________________________________________________________\n"
          ]
        }
      ]
    },
    {
      "cell_type": "markdown",
      "metadata": {
        "id": "wHhaiOZfcPR1"
      },
      "source": [
        "## Compilação do modelo"
      ]
    },
    {
      "cell_type": "code",
      "metadata": {
        "id": "HWM1ThWlzjMF"
      },
      "source": [
        "model.compile(loss='binary_crossentropy', optimizer='adam', metrics=['accuracy'])"
      ],
      "execution_count": 4,
      "outputs": []
    },
    {
      "cell_type": "markdown",
      "metadata": {
        "id": "n2dOhpdZceL0"
      },
      "source": [
        "## Treinamento do modelo"
      ]
    },
    {
      "cell_type": "code",
      "metadata": {
        "id": "M-OXJQ3vciV1",
        "tags": [
          "outputPrepend"
        ]
      },
      "source": [
        "history = model.fit(X, y, batch_size = 8, epochs = 200)"
      ],
      "execution_count": 5,
      "outputs": [
        {
          "output_type": "stream",
          "name": "stdout",
          "text": [
            "racy: 0.6091\n",
            "Epoch 6/200\n",
            "96/96 [==============================] - 0s 484us/step - loss: 0.6458 - accuracy: 0.6774\n",
            "Epoch 7/200\n",
            "96/96 [==============================] - 0s 495us/step - loss: 0.7030 - accuracy: 0.6163\n",
            "Epoch 8/200\n",
            "96/96 [==============================] - 0s 485us/step - loss: 0.6342 - accuracy: 0.6640\n",
            "Epoch 9/200\n",
            "96/96 [==============================] - 0s 463us/step - loss: 0.6463 - accuracy: 0.6620\n",
            "Epoch 10/200\n",
            "96/96 [==============================] - 0s 526us/step - loss: 0.6287 - accuracy: 0.6810\n",
            "Epoch 11/200\n",
            "96/96 [==============================] - 0s 484us/step - loss: 0.6523 - accuracy: 0.6703\n",
            "Epoch 12/200\n",
            "96/96 [==============================] - 0s 516us/step - loss: 0.5910 - accuracy: 0.6813\n",
            "Epoch 13/200\n",
            "96/96 [==============================] - 0s 474us/step - loss: 0.6150 - accuracy: 0.6595\n",
            "Epoch 14/200\n",
            "96/96 [==============================] - 0s 547us/step - loss: 0.6078 - accuracy: 0.6795\n",
            "Epoch 15/200\n",
            "96/96 [==============================] - 0s 484us/step - loss: 0.6144 - accuracy: 0.6807\n",
            "Epoch 16/200\n",
            "96/96 [==============================] - 0s 474us/step - loss: 0.6049 - accuracy: 0.6623\n",
            "Epoch 17/200\n",
            "96/96 [==============================] - 0s 568us/step - loss: 0.6451 - accuracy: 0.6644\n",
            "Epoch 18/200\n",
            "96/96 [==============================] - 0s 505us/step - loss: 0.5574 - accuracy: 0.7061\n",
            "Epoch 19/200\n",
            "96/96 [==============================] - 0s 463us/step - loss: 0.5828 - accuracy: 0.6925\n",
            "Epoch 20/200\n",
            "96/96 [==============================] - 0s 474us/step - loss: 0.5826 - accuracy: 0.6956\n",
            "Epoch 21/200\n",
            "96/96 [==============================] - 0s 474us/step - loss: 0.5574 - accuracy: 0.7042\n",
            "Epoch 22/200\n",
            "96/96 [==============================] - 0s 484us/step - loss: 0.6048 - accuracy: 0.6850\n",
            "Epoch 23/200\n",
            "96/96 [==============================] - 0s 547us/step - loss: 0.6276 - accuracy: 0.6708\n",
            "Epoch 24/200\n",
            "96/96 [==============================] - 0s 516us/step - loss: 0.5578 - accuracy: 0.7551\n",
            "Epoch 25/200\n",
            "96/96 [==============================] - 0s 495us/step - loss: 0.5648 - accuracy: 0.7027\n",
            "Epoch 26/200\n",
            "96/96 [==============================] - 0s 463us/step - loss: 0.6000 - accuracy: 0.6697\n",
            "Epoch 27/200\n",
            "96/96 [==============================] - 0s 474us/step - loss: 0.5784 - accuracy: 0.7098\n",
            "Epoch 28/200\n",
            "96/96 [==============================] - 0s 495us/step - loss: 0.5648 - accuracy: 0.7045\n",
            "Epoch 29/200\n",
            "96/96 [==============================] - 0s 474us/step - loss: 0.5876 - accuracy: 0.7160\n",
            "Epoch 30/200\n",
            "96/96 [==============================] - 0s 589us/step - loss: 0.5664 - accuracy: 0.7163\n",
            "Epoch 31/200\n",
            "96/96 [==============================] - 0s 505us/step - loss: 0.5557 - accuracy: 0.7104\n",
            "Epoch 32/200\n",
            "96/96 [==============================] - 0s 516us/step - loss: 0.5789 - accuracy: 0.7017\n",
            "Epoch 33/200\n",
            "96/96 [==============================] - 0s 505us/step - loss: 0.5566 - accuracy: 0.7157\n",
            "Epoch 34/200\n",
            "96/96 [==============================] - 0s 474us/step - loss: 0.5593 - accuracy: 0.7313\n",
            "Epoch 35/200\n",
            "96/96 [==============================] - 0s 474us/step - loss: 0.5372 - accuracy: 0.7284\n",
            "Epoch 36/200\n",
            "96/96 [==============================] - 0s 568us/step - loss: 0.5570 - accuracy: 0.7231\n",
            "Epoch 37/200\n",
            "96/96 [==============================] - 0s 547us/step - loss: 0.5834 - accuracy: 0.7133\n",
            "Epoch 38/200\n",
            "96/96 [==============================] - 0s 474us/step - loss: 0.5676 - accuracy: 0.7386\n",
            "Epoch 39/200\n",
            "96/96 [==============================] - 0s 474us/step - loss: 0.5673 - accuracy: 0.7133\n",
            "Epoch 40/200\n",
            "96/96 [==============================] - 0s 474us/step - loss: 0.5635 - accuracy: 0.7157\n",
            "Epoch 41/200\n",
            "96/96 [==============================] - 0s 474us/step - loss: 0.5575 - accuracy: 0.7081\n",
            "Epoch 42/200\n",
            "96/96 [==============================] - 0s 463us/step - loss: 0.5231 - accuracy: 0.7517\n",
            "Epoch 43/200\n",
            "96/96 [==============================] - 0s 474us/step - loss: 0.5196 - accuracy: 0.7321\n",
            "Epoch 44/200\n",
            "96/96 [==============================] - 0s 484us/step - loss: 0.5749 - accuracy: 0.7051\n",
            "Epoch 45/200\n",
            "96/96 [==============================] - 0s 474us/step - loss: 0.6097 - accuracy: 0.6809\n",
            "Epoch 46/200\n",
            "96/96 [==============================] - 0s 474us/step - loss: 0.5530 - accuracy: 0.7402\n",
            "Epoch 47/200\n",
            "96/96 [==============================] - 0s 558us/step - loss: 0.5574 - accuracy: 0.7189\n",
            "Epoch 48/200\n",
            "96/96 [==============================] - 0s 474us/step - loss: 0.4996 - accuracy: 0.7711\n",
            "Epoch 49/200\n",
            "96/96 [==============================] - 0s 547us/step - loss: 0.5420 - accuracy: 0.7426\n",
            "Epoch 50/200\n",
            "96/96 [==============================] - 0s 463us/step - loss: 0.5335 - accuracy: 0.7422\n",
            "Epoch 51/200\n",
            "96/96 [==============================] - 0s 474us/step - loss: 0.5512 - accuracy: 0.7127\n",
            "Epoch 52/200\n",
            "96/96 [==============================] - 0s 547us/step - loss: 0.5439 - accuracy: 0.7375\n",
            "Epoch 53/200\n",
            "96/96 [==============================] - 0s 474us/step - loss: 0.5540 - accuracy: 0.7363\n",
            "Epoch 54/200\n",
            "96/96 [==============================] - 0s 484us/step - loss: 0.5448 - accuracy: 0.7302\n",
            "Epoch 55/200\n",
            "96/96 [==============================] - 0s 579us/step - loss: 0.5296 - accuracy: 0.7423\n",
            "Epoch 56/200\n",
            "96/96 [==============================] - 0s 474us/step - loss: 0.5496 - accuracy: 0.7254\n",
            "Epoch 57/200\n",
            "96/96 [==============================] - 0s 484us/step - loss: 0.5258 - accuracy: 0.7379\n",
            "Epoch 58/200\n",
            "96/96 [==============================] - 0s 589us/step - loss: 0.5294 - accuracy: 0.7423\n",
            "Epoch 59/200\n",
            "96/96 [==============================] - 0s 484us/step - loss: 0.5542 - accuracy: 0.7197\n",
            "Epoch 60/200\n",
            "96/96 [==============================] - 0s 495us/step - loss: 0.5507 - accuracy: 0.7062\n",
            "Epoch 61/200\n",
            "96/96 [==============================] - 0s 495us/step - loss: 0.5158 - accuracy: 0.7425\n",
            "Epoch 62/200\n",
            "96/96 [==============================] - 0s 495us/step - loss: 0.5238 - accuracy: 0.7395\n",
            "Epoch 63/200\n",
            "96/96 [==============================] - 0s 484us/step - loss: 0.5154 - accuracy: 0.7326\n",
            "Epoch 64/200\n",
            "96/96 [==============================] - 0s 484us/step - loss: 0.5227 - accuracy: 0.7360\n",
            "Epoch 65/200\n",
            "96/96 [==============================] - 0s 547us/step - loss: 0.5063 - accuracy: 0.7518\n",
            "Epoch 66/200\n",
            "96/96 [==============================] - 0s 547us/step - loss: 0.5177 - accuracy: 0.7430\n",
            "Epoch 67/200\n",
            "96/96 [==============================] - 0s 516us/step - loss: 0.5255 - accuracy: 0.7143\n",
            "Epoch 68/200\n",
            "96/96 [==============================] - 0s 463us/step - loss: 0.5106 - accuracy: 0.7559\n",
            "Epoch 69/200\n",
            "96/96 [==============================] - 0s 558us/step - loss: 0.5038 - accuracy: 0.7507\n",
            "Epoch 70/200\n",
            "96/96 [==============================] - 0s 558us/step - loss: 0.5182 - accuracy: 0.7686\n",
            "Epoch 71/200\n",
            "96/96 [==============================] - 0s 663us/step - loss: 0.5425 - accuracy: 0.7487\n",
            "Epoch 72/200\n",
            "96/96 [==============================] - 0s 526us/step - loss: 0.5333 - accuracy: 0.7592\n",
            "Epoch 73/200\n",
            "96/96 [==============================] - 0s 547us/step - loss: 0.5137 - accuracy: 0.7317\n",
            "Epoch 74/200\n",
            "96/96 [==============================] - 0s 516us/step - loss: 0.5422 - accuracy: 0.7337\n",
            "Epoch 75/200\n",
            "96/96 [==============================] - 0s 505us/step - loss: 0.4950 - accuracy: 0.7637\n",
            "Epoch 76/200\n",
            "96/96 [==============================] - 0s 474us/step - loss: 0.5583 - accuracy: 0.7102\n",
            "Epoch 77/200\n",
            "96/96 [==============================] - 0s 516us/step - loss: 0.5459 - accuracy: 0.7431\n",
            "Epoch 78/200\n",
            "96/96 [==============================] - 0s 474us/step - loss: 0.5342 - accuracy: 0.7318\n",
            "Epoch 79/200\n",
            "96/96 [==============================] - 0s 484us/step - loss: 0.5048 - accuracy: 0.7420\n",
            "Epoch 80/200\n",
            "96/96 [==============================] - 0s 474us/step - loss: 0.5199 - accuracy: 0.7356\n",
            "Epoch 81/200\n",
            "96/96 [==============================] - 0s 474us/step - loss: 0.5101 - accuracy: 0.7348\n",
            "Epoch 82/200\n",
            "96/96 [==============================] - 0s 484us/step - loss: 0.4814 - accuracy: 0.7803\n",
            "Epoch 83/200\n",
            "96/96 [==============================] - 0s 474us/step - loss: 0.5220 - accuracy: 0.7118\n",
            "Epoch 84/200\n",
            "96/96 [==============================] - 0s 484us/step - loss: 0.4996 - accuracy: 0.7538\n",
            "Epoch 85/200\n",
            "96/96 [==============================] - 0s 474us/step - loss: 0.5195 - accuracy: 0.7200\n",
            "Epoch 86/200\n",
            "96/96 [==============================] - 0s 474us/step - loss: 0.5219 - accuracy: 0.7280\n",
            "Epoch 87/200\n",
            "96/96 [==============================] - 0s 495us/step - loss: 0.5187 - accuracy: 0.7665\n",
            "Epoch 88/200\n",
            "96/96 [==============================] - 0s 474us/step - loss: 0.5215 - accuracy: 0.7427\n",
            "Epoch 89/200\n",
            "96/96 [==============================] - 0s 516us/step - loss: 0.5361 - accuracy: 0.7271\n",
            "Epoch 90/200\n",
            "96/96 [==============================] - 0s 495us/step - loss: 0.5221 - accuracy: 0.7585\n",
            "Epoch 91/200\n",
            "96/96 [==============================] - 0s 495us/step - loss: 0.5196 - accuracy: 0.7514\n",
            "Epoch 92/200\n",
            "96/96 [==============================] - 0s 505us/step - loss: 0.5149 - accuracy: 0.7472\n",
            "Epoch 93/200\n",
            "96/96 [==============================] - 0s 474us/step - loss: 0.5262 - accuracy: 0.7365\n",
            "Epoch 94/200\n",
            "96/96 [==============================] - 0s 474us/step - loss: 0.5071 - accuracy: 0.7551\n",
            "Epoch 95/200\n",
            "96/96 [==============================] - 0s 484us/step - loss: 0.4957 - accuracy: 0.7762\n",
            "Epoch 96/200\n",
            "96/96 [==============================] - 0s 558us/step - loss: 0.5110 - accuracy: 0.7504\n",
            "Epoch 97/200\n",
            "96/96 [==============================] - 0s 484us/step - loss: 0.5190 - accuracy: 0.7419\n",
            "Epoch 98/200\n",
            "96/96 [==============================] - 0s 558us/step - loss: 0.5173 - accuracy: 0.7702\n",
            "Epoch 99/200\n",
            "96/96 [==============================] - 0s 495us/step - loss: 0.4999 - accuracy: 0.7229\n",
            "Epoch 100/200\n",
            "96/96 [==============================] - 0s 495us/step - loss: 0.5136 - accuracy: 0.7542\n",
            "Epoch 101/200\n",
            "96/96 [==============================] - 0s 484us/step - loss: 0.5015 - accuracy: 0.7409\n",
            "Epoch 102/200\n",
            "96/96 [==============================] - 0s 558us/step - loss: 0.4818 - accuracy: 0.7712\n",
            "Epoch 103/200\n",
            "96/96 [==============================] - 0s 484us/step - loss: 0.4938 - accuracy: 0.7563\n",
            "Epoch 104/200\n",
            "96/96 [==============================] - 0s 547us/step - loss: 0.5064 - accuracy: 0.7649\n",
            "Epoch 105/200\n",
            "96/96 [==============================] - 0s 558us/step - loss: 0.5119 - accuracy: 0.7459\n",
            "Epoch 106/200\n",
            "96/96 [==============================] - 0s 474us/step - loss: 0.4853 - accuracy: 0.7611\n",
            "Epoch 107/200\n",
            "96/96 [==============================] - 0s 484us/step - loss: 0.4683 - accuracy: 0.7785\n",
            "Epoch 108/200\n",
            "96/96 [==============================] - 0s 484us/step - loss: 0.5058 - accuracy: 0.7578\n",
            "Epoch 109/200\n",
            "96/96 [==============================] - 0s 484us/step - loss: 0.4799 - accuracy: 0.7714\n",
            "Epoch 110/200\n",
            "96/96 [==============================] - 0s 474us/step - loss: 0.4854 - accuracy: 0.7560\n",
            "Epoch 111/200\n",
            "96/96 [==============================] - 0s 495us/step - loss: 0.5212 - accuracy: 0.7506\n",
            "Epoch 112/200\n",
            "96/96 [==============================] - 0s 474us/step - loss: 0.5014 - accuracy: 0.7446\n",
            "Epoch 113/200\n",
            "96/96 [==============================] - 0s 463us/step - loss: 0.4812 - accuracy: 0.7662\n",
            "Epoch 114/200\n",
            "96/96 [==============================] - 0s 547us/step - loss: 0.5008 - accuracy: 0.7514\n",
            "Epoch 115/200\n",
            "96/96 [==============================] - 0s 547us/step - loss: 0.4828 - accuracy: 0.7575\n",
            "Epoch 116/200\n",
            "96/96 [==============================] - 0s 495us/step - loss: 0.4847 - accuracy: 0.7643\n",
            "Epoch 117/200\n",
            "96/96 [==============================] - 0s 474us/step - loss: 0.4969 - accuracy: 0.7646\n",
            "Epoch 118/200\n",
            "96/96 [==============================] - 0s 547us/step - loss: 0.4894 - accuracy: 0.7741\n",
            "Epoch 119/200\n",
            "96/96 [==============================] - 0s 547us/step - loss: 0.5004 - accuracy: 0.7364\n",
            "Epoch 120/200\n",
            "96/96 [==============================] - 0s 579us/step - loss: 0.4741 - accuracy: 0.7810\n",
            "Epoch 121/200\n",
            "96/96 [==============================] - 0s 505us/step - loss: 0.5203 - accuracy: 0.7523\n",
            "Epoch 122/200\n",
            "96/96 [==============================] - 0s 474us/step - loss: 0.4973 - accuracy: 0.7521\n",
            "Epoch 123/200\n",
            "96/96 [==============================] - 0s 484us/step - loss: 0.4702 - accuracy: 0.7856\n",
            "Epoch 124/200\n",
            "96/96 [==============================] - 0s 547us/step - loss: 0.4774 - accuracy: 0.7683\n",
            "Epoch 125/200\n",
            "96/96 [==============================] - 0s 547us/step - loss: 0.5123 - accuracy: 0.7246\n",
            "Epoch 126/200\n",
            "96/96 [==============================] - 0s 484us/step - loss: 0.4797 - accuracy: 0.7727\n",
            "Epoch 127/200\n",
            "96/96 [==============================] - 0s 474us/step - loss: 0.4778 - accuracy: 0.7464\n",
            "Epoch 128/200\n",
            "96/96 [==============================] - 0s 547us/step - loss: 0.4679 - accuracy: 0.7753\n",
            "Epoch 129/200\n",
            "96/96 [==============================] - 0s 516us/step - loss: 0.5215 - accuracy: 0.7325\n",
            "Epoch 130/200\n",
            "96/96 [==============================] - 0s 495us/step - loss: 0.4876 - accuracy: 0.7538\n",
            "Epoch 131/200\n",
            "96/96 [==============================] - 0s 505us/step - loss: 0.4628 - accuracy: 0.7981\n",
            "Epoch 132/200\n",
            "96/96 [==============================] - 0s 484us/step - loss: 0.4826 - accuracy: 0.7596\n",
            "Epoch 133/200\n",
            "96/96 [==============================] - 0s 463us/step - loss: 0.4812 - accuracy: 0.7618\n",
            "Epoch 134/200\n",
            "96/96 [==============================] - 0s 474us/step - loss: 0.4761 - accuracy: 0.7794\n",
            "Epoch 135/200\n",
            "96/96 [==============================] - 0s 474us/step - loss: 0.4862 - accuracy: 0.7775\n",
            "Epoch 136/200\n",
            "96/96 [==============================] - 0s 484us/step - loss: 0.4663 - accuracy: 0.7623\n",
            "Epoch 137/200\n",
            "96/96 [==============================] - 0s 495us/step - loss: 0.5071 - accuracy: 0.7446\n",
            "Epoch 138/200\n",
            "96/96 [==============================] - 0s 474us/step - loss: 0.4517 - accuracy: 0.7923\n",
            "Epoch 139/200\n",
            "96/96 [==============================] - 0s 568us/step - loss: 0.4754 - accuracy: 0.7761\n",
            "Epoch 140/200\n",
            "96/96 [==============================] - 0s 474us/step - loss: 0.5029 - accuracy: 0.7575\n",
            "Epoch 141/200\n",
            "96/96 [==============================] - 0s 495us/step - loss: 0.4681 - accuracy: 0.7718\n",
            "Epoch 142/200\n",
            "96/96 [==============================] - 0s 558us/step - loss: 0.4663 - accuracy: 0.7650\n",
            "Epoch 143/200\n",
            "96/96 [==============================] - 0s 558us/step - loss: 0.4920 - accuracy: 0.7274\n",
            "Epoch 144/200\n",
            "96/96 [==============================] - 0s 558us/step - loss: 0.4686 - accuracy: 0.7809\n",
            "Epoch 145/200\n",
            "96/96 [==============================] - 0s 495us/step - loss: 0.4759 - accuracy: 0.7840\n",
            "Epoch 146/200\n",
            "96/96 [==============================] - 0s 579us/step - loss: 0.4716 - accuracy: 0.7711\n",
            "Epoch 147/200\n",
            "96/96 [==============================] - 0s 516us/step - loss: 0.4448 - accuracy: 0.7826\n",
            "Epoch 148/200\n",
            "96/96 [==============================] - 0s 558us/step - loss: 0.4656 - accuracy: 0.7837\n",
            "Epoch 149/200\n",
            "96/96 [==============================] - 0s 474us/step - loss: 0.5010 - accuracy: 0.7489\n",
            "Epoch 150/200\n",
            "96/96 [==============================] - 0s 495us/step - loss: 0.4916 - accuracy: 0.7796\n",
            "Epoch 151/200\n",
            "96/96 [==============================] - 0s 547us/step - loss: 0.4547 - accuracy: 0.7972\n",
            "Epoch 152/200\n",
            "96/96 [==============================] - 0s 558us/step - loss: 0.4705 - accuracy: 0.7744\n",
            "Epoch 153/200\n",
            "96/96 [==============================] - 0s 558us/step - loss: 0.4699 - accuracy: 0.7780\n",
            "Epoch 154/200\n",
            "96/96 [==============================] - 0s 579us/step - loss: 0.4789 - accuracy: 0.7689\n",
            "Epoch 155/200\n",
            "96/96 [==============================] - 0s 558us/step - loss: 0.4901 - accuracy: 0.7642\n",
            "Epoch 156/200\n",
            "96/96 [==============================] - 0s 600us/step - loss: 0.4530 - accuracy: 0.7848\n",
            "Epoch 157/200\n",
            "96/96 [==============================] - 0s 558us/step - loss: 0.4989 - accuracy: 0.7522\n",
            "Epoch 158/200\n",
            "96/96 [==============================] - 0s 474us/step - loss: 0.4896 - accuracy: 0.7398\n",
            "Epoch 159/200\n",
            "96/96 [==============================] - 0s 474us/step - loss: 0.4764 - accuracy: 0.7533\n",
            "Epoch 160/200\n",
            "96/96 [==============================] - 0s 474us/step - loss: 0.4816 - accuracy: 0.7505\n",
            "Epoch 161/200\n",
            "96/96 [==============================] - 0s 484us/step - loss: 0.4480 - accuracy: 0.7932\n",
            "Epoch 162/200\n",
            "96/96 [==============================] - 0s 474us/step - loss: 0.4422 - accuracy: 0.7855\n",
            "Epoch 163/200\n",
            "96/96 [==============================] - 0s 474us/step - loss: 0.4480 - accuracy: 0.7893\n",
            "Epoch 164/200\n",
            "96/96 [==============================] - 0s 495us/step - loss: 0.4543 - accuracy: 0.7876\n",
            "Epoch 165/200\n",
            "96/96 [==============================] - 0s 516us/step - loss: 0.4348 - accuracy: 0.7993\n",
            "Epoch 166/200\n",
            "96/96 [==============================] - 0s 474us/step - loss: 0.4806 - accuracy: 0.7554\n",
            "Epoch 167/200\n",
            "96/96 [==============================] - 0s 505us/step - loss: 0.4550 - accuracy: 0.7864\n",
            "Epoch 168/200\n",
            "96/96 [==============================] - 0s 484us/step - loss: 0.4552 - accuracy: 0.7807\n",
            "Epoch 169/200\n",
            "96/96 [==============================] - 0s 547us/step - loss: 0.4670 - accuracy: 0.7649\n",
            "Epoch 170/200\n",
            "96/96 [==============================] - 0s 505us/step - loss: 0.4520 - accuracy: 0.7846\n",
            "Epoch 171/200\n",
            "96/96 [==============================] - 0s 495us/step - loss: 0.4732 - accuracy: 0.7784\n",
            "Epoch 172/200\n",
            "96/96 [==============================] - 0s 484us/step - loss: 0.4616 - accuracy: 0.7610\n",
            "Epoch 173/200\n",
            "96/96 [==============================] - 0s 505us/step - loss: 0.4693 - accuracy: 0.7622\n",
            "Epoch 174/200\n",
            "96/96 [==============================] - 0s 579us/step - loss: 0.4853 - accuracy: 0.7634\n",
            "Epoch 175/200\n",
            "96/96 [==============================] - 0s 568us/step - loss: 0.4395 - accuracy: 0.7896\n",
            "Epoch 176/200\n",
            "96/96 [==============================] - 0s 495us/step - loss: 0.4610 - accuracy: 0.7810\n",
            "Epoch 177/200\n",
            "96/96 [==============================] - 0s 547us/step - loss: 0.4530 - accuracy: 0.7781\n",
            "Epoch 178/200\n",
            "96/96 [==============================] - 0s 505us/step - loss: 0.4499 - accuracy: 0.7754\n",
            "Epoch 179/200\n",
            "96/96 [==============================] - 0s 474us/step - loss: 0.4448 - accuracy: 0.7988\n",
            "Epoch 180/200\n",
            "96/96 [==============================] - 0s 516us/step - loss: 0.4837 - accuracy: 0.7664\n",
            "Epoch 181/200\n",
            "96/96 [==============================] - 0s 474us/step - loss: 0.4793 - accuracy: 0.7745\n",
            "Epoch 182/200\n",
            "96/96 [==============================] - 0s 547us/step - loss: 0.4432 - accuracy: 0.7956\n",
            "Epoch 183/200\n",
            "96/96 [==============================] - 0s 495us/step - loss: 0.4484 - accuracy: 0.8004\n",
            "Epoch 184/200\n",
            "96/96 [==============================] - 0s 495us/step - loss: 0.4353 - accuracy: 0.7950\n",
            "Epoch 185/200\n",
            "96/96 [==============================] - 0s 474us/step - loss: 0.4401 - accuracy: 0.7879\n",
            "Epoch 186/200\n",
            "96/96 [==============================] - 0s 484us/step - loss: 0.4523 - accuracy: 0.7717\n",
            "Epoch 187/200\n",
            "96/96 [==============================] - 0s 547us/step - loss: 0.4607 - accuracy: 0.7631\n",
            "Epoch 188/200\n",
            "96/96 [==============================] - 0s 484us/step - loss: 0.4624 - accuracy: 0.7754\n",
            "Epoch 189/200\n",
            "96/96 [==============================] - 0s 474us/step - loss: 0.4434 - accuracy: 0.7709\n",
            "Epoch 190/200\n",
            "96/96 [==============================] - 0s 495us/step - loss: 0.4826 - accuracy: 0.7534\n",
            "Epoch 191/200\n",
            "96/96 [==============================] - 0s 547us/step - loss: 0.4377 - accuracy: 0.7995\n",
            "Epoch 192/200\n",
            "96/96 [==============================] - 0s 484us/step - loss: 0.4612 - accuracy: 0.7877\n",
            "Epoch 193/200\n",
            "96/96 [==============================] - 0s 484us/step - loss: 0.4410 - accuracy: 0.8088\n",
            "Epoch 194/200\n",
            "96/96 [==============================] - 0s 484us/step - loss: 0.4467 - accuracy: 0.7846\n",
            "Epoch 195/200\n",
            "96/96 [==============================] - 0s 495us/step - loss: 0.4340 - accuracy: 0.7861\n",
            "Epoch 196/200\n",
            "96/96 [==============================] - 0s 484us/step - loss: 0.4489 - accuracy: 0.7579\n",
            "Epoch 197/200\n",
            "96/96 [==============================] - 0s 505us/step - loss: 0.4384 - accuracy: 0.7782\n",
            "Epoch 198/200\n",
            "96/96 [==============================] - 0s 495us/step - loss: 0.4620 - accuracy: 0.7603\n",
            "Epoch 199/200\n",
            "96/96 [==============================] - 0s 484us/step - loss: 0.4501 - accuracy: 0.7763\n",
            "Epoch 200/200\n",
            "96/96 [==============================] - 0s 495us/step - loss: 0.4508 - accuracy: 0.7869\n"
          ]
        }
      ]
    },
    {
      "cell_type": "markdown",
      "metadata": {
        "id": "t0kqMCg_lrT6"
      },
      "source": [
        "## Avaliação do modelo"
      ]
    },
    {
      "cell_type": "code",
      "metadata": {
        "id": "9y1el1TAkon8"
      },
      "source": [
        "precisao = model.evaluate(X, y, verbose=0)\n",
        "print(\"Precisão = %.2f%%\" % (precisao[1]*100))"
      ],
      "execution_count": 6,
      "outputs": [
        {
          "output_type": "stream",
          "name": "stdout",
          "text": [
            "Precisão = 80.21%\n"
          ]
        }
      ]
    },
    {
      "cell_type": "markdown",
      "metadata": {
        "id": "mxWeJZCtTBRi"
      },
      "source": [
        "## Salva o modelo"
      ]
    },
    {
      "cell_type": "code",
      "metadata": {
        "id": "wnu-tydbTDcD"
      },
      "source": [
        "model.save(\"model.h5\")"
      ],
      "execution_count": 7,
      "outputs": []
    }
  ]
}