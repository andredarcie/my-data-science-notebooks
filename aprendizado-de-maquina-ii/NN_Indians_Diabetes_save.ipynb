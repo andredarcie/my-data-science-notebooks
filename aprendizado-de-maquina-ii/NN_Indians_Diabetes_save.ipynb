{
  "nbformat": 4,
  "nbformat_minor": 0,
  "metadata": {
    "kernelspec": {
      "name": "python385jvsc74a57bd0c94be41889154d41bf43aca8d1a8d1cd64b97c119170e03e2ed46ca87183f0c5",
      "display_name": "Python 3.8.5 64-bit ('base': conda)"
    },
    "language_info": {
      "codemirror_mode": {
        "name": "ipython",
        "version": 3
      },
      "file_extension": ".py",
      "mimetype": "text/x-python",
      "name": "python",
      "nbconvert_exporter": "python",
      "pygments_lexer": "ipython3",
      "version": "3.8.5"
    },
    "colab": {
      "name": "NN_Indians_Diabetes_save.ipynb",
      "provenance": [],
      "collapsed_sections": []
    }
  },
  "cells": [
    {
      "cell_type": "markdown",
      "metadata": {
        "id": "Z7K0SeDgzjL2"
      },
      "source": [
        "---\n",
        "\n",
        "---\n",
        "\n",
        "# Predição de diabetes\n",
        "\n",
        "Este notebook implementa uma rede neural para predizer se um paciente tem diabetes ou não com base em certas medidas diagnósticas incluídas no conjunto de dados.\n",
        "\n",
        "O conjunto de dados utilizado descreve os dados do prontuário médico do paciente dos [índios Pima](https://pt.wikipedia.org/wiki/Pima) e se eles começaram a desenvolver diabetes em cinco anos.\n",
        "\n",
        "Trata-se de um problema de classificação binária (início do diabetes como 1 ou não como 0). Todas as variáveis ​​de entrada que descrevem cada paciente são numéricas.\n",
        "\n",
        "---\n",
        "\n",
        "\n",
        "\n",
        "---\n",
        "\n",
        "\n"
      ]
    },
    {
      "cell_type": "markdown",
      "metadata": {
        "id": "PcWx36BdDBX0"
      },
      "source": [
        "## Conjunto de dados\n",
        "\n",
        "1. Número de instâncias: 768\n",
        "\n",
        "2. Número de atributos: 8 (mais classe target)\n",
        "\n",
        "3. Atributos: (todos com valor numérico)\n",
        "   1. Número de vezes que engravidou (*Pregnancies*)\n",
        "   2. Concentração de glicose plasmática a 2 horas em um teste de tolerância à glicose oral (*Glucose*)\n",
        "   3. Pressão arterial diastólica (mm Hg) (*BloodPressure*)\n",
        "   4. Espessura da dobra da pele do tríceps (mm) (*SkinThickness*)\n",
        "   5. Insulina sérica de 2 horas (mu U / ml) (*Insulin*)\n",
        "   6. Índice de massa corporal (peso em kg / (altura em m) ^ 2) (*BMI*)\n",
        "   7. Função de pedigree de diabetes (*DiabetesPedigreeFunction*)\n",
        "   8. Idade (anos) (*Age*)\n",
        "   \n",
        "4. Variável target (classe): 0 ou 1 (valor de classe 1 é interpretado como \"teste positivo para diabetes\")\n",
        "\n",
        "   Classe Valor Número de instâncias\n",
        "   - 500 => 0\n",
        "   - 268 => 1\n",
        "\n",
        " "
      ]
    },
    {
      "cell_type": "markdown",
      "metadata": {
        "id": "LWXwGCqvIwgN"
      },
      "source": [
        "## Leitura dos dados\n",
        "\n",
        "Vamos começar importando o arquivo CSV bruto usando o Pandas."
      ]
    },
    {
      "cell_type": "code",
      "metadata": {
        "scrolled": true,
        "id": "LM6AT7tPzjL6"
      },
      "source": [
        "import pandas as pd\n",
        "\n",
        "# lê arquivo de dados, atribue NaN para dados faltantes e rótulos em cada coluna\n",
        "diabetes = pd.read_csv('diabetes.csv', na_values=['?'])\n",
        "# imprime as 5 primeiras linha dos dados montados\n",
        "diabetes.head()"
      ],
      "execution_count": 1,
      "outputs": [
        {
          "output_type": "execute_result",
          "data": {
            "text/plain": [
              "   Pregnancies  Glucose  BloodPressure  SkinThickness  Insulin   BMI  \\\n",
              "0            6      148             72             35        0  33.6   \n",
              "1            1       85             66             29        0  26.6   \n",
              "2            8      183             64              0        0  23.3   \n",
              "3            1       89             66             23       94  28.1   \n",
              "4            0      137             40             35      168  43.1   \n",
              "\n",
              "   DiabetesPedigreeFunction  Age  Outcome  \n",
              "0                     0.627   50        1  \n",
              "1                     0.351   31        0  \n",
              "2                     0.672   32        1  \n",
              "3                     0.167   21        0  \n",
              "4                     2.288   33        1  "
            ],
            "text/html": "<div>\n<style scoped>\n    .dataframe tbody tr th:only-of-type {\n        vertical-align: middle;\n    }\n\n    .dataframe tbody tr th {\n        vertical-align: top;\n    }\n\n    .dataframe thead th {\n        text-align: right;\n    }\n</style>\n<table border=\"1\" class=\"dataframe\">\n  <thead>\n    <tr style=\"text-align: right;\">\n      <th></th>\n      <th>Pregnancies</th>\n      <th>Glucose</th>\n      <th>BloodPressure</th>\n      <th>SkinThickness</th>\n      <th>Insulin</th>\n      <th>BMI</th>\n      <th>DiabetesPedigreeFunction</th>\n      <th>Age</th>\n      <th>Outcome</th>\n    </tr>\n  </thead>\n  <tbody>\n    <tr>\n      <th>0</th>\n      <td>6</td>\n      <td>148</td>\n      <td>72</td>\n      <td>35</td>\n      <td>0</td>\n      <td>33.6</td>\n      <td>0.627</td>\n      <td>50</td>\n      <td>1</td>\n    </tr>\n    <tr>\n      <th>1</th>\n      <td>1</td>\n      <td>85</td>\n      <td>66</td>\n      <td>29</td>\n      <td>0</td>\n      <td>26.6</td>\n      <td>0.351</td>\n      <td>31</td>\n      <td>0</td>\n    </tr>\n    <tr>\n      <th>2</th>\n      <td>8</td>\n      <td>183</td>\n      <td>64</td>\n      <td>0</td>\n      <td>0</td>\n      <td>23.3</td>\n      <td>0.672</td>\n      <td>32</td>\n      <td>1</td>\n    </tr>\n    <tr>\n      <th>3</th>\n      <td>1</td>\n      <td>89</td>\n      <td>66</td>\n      <td>23</td>\n      <td>94</td>\n      <td>28.1</td>\n      <td>0.167</td>\n      <td>21</td>\n      <td>0</td>\n    </tr>\n    <tr>\n      <th>4</th>\n      <td>0</td>\n      <td>137</td>\n      <td>40</td>\n      <td>35</td>\n      <td>168</td>\n      <td>43.1</td>\n      <td>2.288</td>\n      <td>33</td>\n      <td>1</td>\n    </tr>\n  </tbody>\n</table>\n</div>"
          },
          "metadata": {},
          "execution_count": 1
        }
      ]
    },
    {
      "cell_type": "markdown",
      "metadata": {
        "id": "yabMrBvezjMC"
      },
      "source": [
        "## Separa os atributos das classes\n",
        "\n",
        "Extrai os atributos e as classes (rótulos) colocando-os em duas variáveis separadas (na forma que o Keras espera)."
      ]
    },
    {
      "cell_type": "code",
      "metadata": {
        "id": "9pK51IcczjMC"
      },
      "source": [
        "X = diabetes.drop('Outcome', axis=1).values\n",
        "y = diabetes['Outcome'].values\n",
        "print(X.shape)\n",
        "print(y.shape)"
      ],
      "execution_count": 2,
      "outputs": [
        {
          "output_type": "stream",
          "name": "stdout",
          "text": [
            "(768, 8)\n(768,)\n"
          ]
        }
      ]
    },
    {
      "cell_type": "markdown",
      "metadata": {
        "id": "zyWHf7bCzjMD"
      },
      "source": [
        "## Criação do modelo de rede neural"
      ]
    },
    {
      "cell_type": "code",
      "metadata": {
        "id": "uwpVybNDzjME"
      },
      "source": [
        "from keras.models import Sequential\n",
        "from keras.layers import Dense\n",
        "\n",
        "model = Sequential()\n",
        "# 1a. camada oculta com 20 neurônios (definição das entradas)\n",
        "model.add(Dense(20, input_dim=X.shape[1], kernel_initializer = 'he_uniform', activation='relu'))\n",
        "# 2a. camada oculta com 10 neurônios\n",
        "model.add(Dense(10, kernel_initializer = 'he_uniform', activation='relu'))\n",
        "# camada de saída com um neurônio\n",
        "model.add(Dense(1, activation='sigmoid'))\n",
        "# sumário (resumo) do modelo\n",
        "model.summary()"
      ],
      "execution_count": 4,
      "outputs": [
        {
          "output_type": "stream",
          "name": "stdout",
          "text": [
            "Model: \"sequential\"\n_________________________________________________________________\nLayer (type)                 Output Shape              Param #   \n=================================================================\ndense (Dense)                (None, 20)                180       \n_________________________________________________________________\ndense_1 (Dense)              (None, 10)                210       \n_________________________________________________________________\ndense_2 (Dense)              (None, 1)                 11        \n=================================================================\nTotal params: 401\nTrainable params: 401\nNon-trainable params: 0\n_________________________________________________________________\n"
          ]
        }
      ]
    },
    {
      "cell_type": "markdown",
      "metadata": {
        "id": "wHhaiOZfcPR1"
      },
      "source": [
        "## Compilação do modelo"
      ]
    },
    {
      "cell_type": "code",
      "metadata": {
        "id": "HWM1ThWlzjMF"
      },
      "source": [
        "model.compile(loss='binary_crossentropy', optimizer='adam', metrics=['accuracy'])"
      ],
      "execution_count": 6,
      "outputs": []
    },
    {
      "cell_type": "markdown",
      "metadata": {
        "id": "n2dOhpdZceL0"
      },
      "source": [
        "## Treinamento do modelo"
      ]
    },
    {
      "cell_type": "code",
      "metadata": {
        "id": "M-OXJQ3vciV1",
        "tags": [
          "outputPrepend"
        ]
      },
      "source": [
        "history = model.fit(X, y, batch_size = 8, epochs = 200)"
      ],
      "execution_count": 7,
      "outputs": [
        {
          "output_type": "stream",
          "name": "stdout",
          "text": [
            "racy: 0.6321\n",
            "Epoch 6/200\n",
            "96/96 [==============================] - 0s 642us/step - loss: 1.1157 - accuracy: 0.6306\n",
            "Epoch 7/200\n",
            "96/96 [==============================] - 0s 516us/step - loss: 1.0039 - accuracy: 0.6623\n",
            "Epoch 8/200\n",
            "96/96 [==============================] - 0s 547us/step - loss: 1.1311 - accuracy: 0.6031\n",
            "Epoch 9/200\n",
            "96/96 [==============================] - 0s 547us/step - loss: 0.8850 - accuracy: 0.6616\n",
            "Epoch 10/200\n",
            "96/96 [==============================] - 0s 537us/step - loss: 1.1645 - accuracy: 0.6286\n",
            "Epoch 11/200\n",
            "96/96 [==============================] - 0s 558us/step - loss: 0.8643 - accuracy: 0.6752\n",
            "Epoch 12/200\n",
            "96/96 [==============================] - 0s 547us/step - loss: 0.9934 - accuracy: 0.6318\n",
            "Epoch 13/200\n",
            "96/96 [==============================] - 0s 558us/step - loss: 0.8732 - accuracy: 0.6882\n",
            "Epoch 14/200\n",
            "96/96 [==============================] - 0s 642us/step - loss: 0.9766 - accuracy: 0.6504\n",
            "Epoch 15/200\n",
            "96/96 [==============================] - 0s 558us/step - loss: 0.8818 - accuracy: 0.6521\n",
            "Epoch 16/200\n",
            "96/96 [==============================] - 0s 600us/step - loss: 0.8192 - accuracy: 0.7282\n",
            "Epoch 17/200\n",
            "96/96 [==============================] - 0s 568us/step - loss: 0.8845 - accuracy: 0.6873\n",
            "Epoch 18/200\n",
            "96/96 [==============================] - 0s 563us/step - loss: 0.7652 - accuracy: 0.6883\n",
            "Epoch 19/200\n",
            "96/96 [==============================] - 0s 579us/step - loss: 0.9576 - accuracy: 0.6478\n",
            "Epoch 20/200\n",
            "96/96 [==============================] - 0s 526us/step - loss: 0.8751 - accuracy: 0.6768\n",
            "Epoch 21/200\n",
            "96/96 [==============================] - 0s 558us/step - loss: 0.7951 - accuracy: 0.6986\n",
            "Epoch 22/200\n",
            "96/96 [==============================] - 0s 558us/step - loss: 0.8300 - accuracy: 0.6730\n",
            "Epoch 23/200\n",
            "96/96 [==============================] - 0s 611us/step - loss: 0.7307 - accuracy: 0.7110\n",
            "Epoch 24/200\n",
            "96/96 [==============================] - 0s 561us/step - loss: 0.6734 - accuracy: 0.7120\n",
            "Epoch 25/200\n",
            "96/96 [==============================] - 0s 526us/step - loss: 0.8323 - accuracy: 0.6708\n",
            "Epoch 26/200\n",
            "96/96 [==============================] - 0s 558us/step - loss: 0.6580 - accuracy: 0.7427\n",
            "Epoch 27/200\n",
            "96/96 [==============================] - 0s 621us/step - loss: 0.7453 - accuracy: 0.6790\n",
            "Epoch 28/200\n",
            "96/96 [==============================] - 0s 542us/step - loss: 0.6983 - accuracy: 0.7237\n",
            "Epoch 29/200\n",
            "96/96 [==============================] - 0s 526us/step - loss: 0.9431 - accuracy: 0.6671\n",
            "Epoch 30/200\n",
            "96/96 [==============================] - 0s 568us/step - loss: 0.8111 - accuracy: 0.6579\n",
            "Epoch 31/200\n",
            "96/96 [==============================] - 0s 579us/step - loss: 0.7116 - accuracy: 0.7013\n",
            "Epoch 32/200\n",
            "96/96 [==============================] - 0s 547us/step - loss: 0.7022 - accuracy: 0.7061\n",
            "Epoch 33/200\n",
            "96/96 [==============================] - 0s 516us/step - loss: 0.6206 - accuracy: 0.7429\n",
            "Epoch 34/200\n",
            "96/96 [==============================] - 0s 516us/step - loss: 0.7607 - accuracy: 0.6651\n",
            "Epoch 35/200\n",
            "96/96 [==============================] - 0s 547us/step - loss: 0.6966 - accuracy: 0.7068\n",
            "Epoch 36/200\n",
            "96/96 [==============================] - 0s 600us/step - loss: 0.6889 - accuracy: 0.6923\n",
            "Epoch 37/200\n",
            "96/96 [==============================] - 0s 547us/step - loss: 0.7052 - accuracy: 0.6958\n",
            "Epoch 38/200\n",
            "96/96 [==============================] - 0s 537us/step - loss: 0.7293 - accuracy: 0.7257\n",
            "Epoch 39/200\n",
            "96/96 [==============================] - 0s 611us/step - loss: 0.6262 - accuracy: 0.7272\n",
            "Epoch 40/200\n",
            "96/96 [==============================] - 0s 579us/step - loss: 0.7402 - accuracy: 0.7012\n",
            "Epoch 41/200\n",
            "96/96 [==============================] - 0s 578us/step - loss: 0.7160 - accuracy: 0.7021\n",
            "Epoch 42/200\n",
            "96/96 [==============================] - 0s 600us/step - loss: 0.6573 - accuracy: 0.7034\n",
            "Epoch 43/200\n",
            "96/96 [==============================] - 0s 547us/step - loss: 0.7245 - accuracy: 0.6781\n",
            "Epoch 44/200\n",
            "96/96 [==============================] - 0s 547us/step - loss: 0.6884 - accuracy: 0.7033\n",
            "Epoch 45/200\n",
            "96/96 [==============================] - 0s 547us/step - loss: 0.6517 - accuracy: 0.7126\n",
            "Epoch 46/200\n",
            "96/96 [==============================] - 0s 546us/step - loss: 0.5737 - accuracy: 0.7471\n",
            "Epoch 47/200\n",
            "96/96 [==============================] - 0s 547us/step - loss: 0.7006 - accuracy: 0.6775\n",
            "Epoch 48/200\n",
            "96/96 [==============================] - 0s 543us/step - loss: 0.7653 - accuracy: 0.6977\n",
            "Epoch 49/200\n",
            "96/96 [==============================] - 0s 608us/step - loss: 0.5504 - accuracy: 0.7704\n",
            "Epoch 50/200\n",
            "96/96 [==============================] - 0s 558us/step - loss: 0.7126 - accuracy: 0.7292\n",
            "Epoch 51/200\n",
            "96/96 [==============================] - 0s 537us/step - loss: 0.6310 - accuracy: 0.7182\n",
            "Epoch 52/200\n",
            "96/96 [==============================] - 0s 547us/step - loss: 0.7765 - accuracy: 0.6773\n",
            "Epoch 53/200\n",
            "96/96 [==============================] - 0s 569us/step - loss: 0.7091 - accuracy: 0.7057\n",
            "Epoch 54/200\n",
            "96/96 [==============================] - 0s 653us/step - loss: 0.7144 - accuracy: 0.7099\n",
            "Epoch 55/200\n",
            "96/96 [==============================] - 0s 547us/step - loss: 0.6312 - accuracy: 0.6995\n",
            "Epoch 56/200\n",
            "96/96 [==============================] - 0s 537us/step - loss: 0.7058 - accuracy: 0.6868\n",
            "Epoch 57/200\n",
            "96/96 [==============================] - 0s 547us/step - loss: 0.5910 - accuracy: 0.7601\n",
            "Epoch 58/200\n",
            "96/96 [==============================] - 0s 558us/step - loss: 0.6281 - accuracy: 0.7127\n",
            "Epoch 59/200\n",
            "96/96 [==============================] - 0s 558us/step - loss: 0.6386 - accuracy: 0.7391\n",
            "Epoch 60/200\n",
            "96/96 [==============================] - 0s 611us/step - loss: 0.6044 - accuracy: 0.7197\n",
            "Epoch 61/200\n",
            "96/96 [==============================] - 0s 526us/step - loss: 0.5457 - accuracy: 0.7582\n",
            "Epoch 62/200\n",
            "96/96 [==============================] - 0s 558us/step - loss: 0.6594 - accuracy: 0.7214\n",
            "Epoch 63/200\n",
            "96/96 [==============================] - 0s 589us/step - loss: 0.5440 - accuracy: 0.7421\n",
            "Epoch 64/200\n",
            "96/96 [==============================] - 0s 568us/step - loss: 0.5689 - accuracy: 0.7158\n",
            "Epoch 65/200\n",
            "96/96 [==============================] - 0s 589us/step - loss: 0.5058 - accuracy: 0.7668\n",
            "Epoch 66/200\n",
            "96/96 [==============================] - 0s 547us/step - loss: 0.6071 - accuracy: 0.7171\n",
            "Epoch 67/200\n",
            "96/96 [==============================] - 0s 537us/step - loss: 0.6817 - accuracy: 0.6967\n",
            "Epoch 68/200\n",
            "96/96 [==============================] - 0s 558us/step - loss: 0.5856 - accuracy: 0.7399\n",
            "Epoch 69/200\n",
            "96/96 [==============================] - 0s 547us/step - loss: 0.6439 - accuracy: 0.6867\n",
            "Epoch 70/200\n",
            "96/96 [==============================] - 0s 600us/step - loss: 0.6492 - accuracy: 0.7447\n",
            "Epoch 71/200\n",
            "96/96 [==============================] - 0s 568us/step - loss: 0.6233 - accuracy: 0.7286\n",
            "Epoch 72/200\n",
            "96/96 [==============================] - 0s 547us/step - loss: 0.5607 - accuracy: 0.7142\n",
            "Epoch 73/200\n",
            "96/96 [==============================] - 0s 565us/step - loss: 0.6504 - accuracy: 0.6949\n",
            "Epoch 74/200\n",
            "96/96 [==============================] - 0s 565us/step - loss: 0.6061 - accuracy: 0.7201\n",
            "Epoch 75/200\n",
            "96/96 [==============================] - 0s 554us/step - loss: 0.5914 - accuracy: 0.7379\n",
            "Epoch 76/200\n",
            "96/96 [==============================] - 0s 547us/step - loss: 0.5727 - accuracy: 0.7236\n",
            "Epoch 77/200\n",
            "96/96 [==============================] - 0s 563us/step - loss: 0.6402 - accuracy: 0.6996\n",
            "Epoch 78/200\n",
            "96/96 [==============================] - 0s 537us/step - loss: 0.6289 - accuracy: 0.7083\n",
            "Epoch 79/200\n",
            "96/96 [==============================] - 0s 547us/step - loss: 0.6555 - accuracy: 0.7360\n",
            "Epoch 80/200\n",
            "96/96 [==============================] - 0s 642us/step - loss: 0.6121 - accuracy: 0.7339\n",
            "Epoch 81/200\n",
            "96/96 [==============================] - 0s 621us/step - loss: 0.6214 - accuracy: 0.7217\n",
            "Epoch 82/200\n",
            "96/96 [==============================] - 0s 558us/step - loss: 0.6264 - accuracy: 0.7000\n",
            "Epoch 83/200\n",
            "96/96 [==============================] - 0s 611us/step - loss: 0.5331 - accuracy: 0.7431\n",
            "Epoch 84/200\n",
            "96/96 [==============================] - 0s 558us/step - loss: 0.4953 - accuracy: 0.7755\n",
            "Epoch 85/200\n",
            "96/96 [==============================] - 0s 611us/step - loss: 0.5331 - accuracy: 0.7482\n",
            "Epoch 86/200\n",
            "96/96 [==============================] - 0s 555us/step - loss: 0.8823 - accuracy: 0.6546\n",
            "Epoch 87/200\n",
            "96/96 [==============================] - 0s 600us/step - loss: 0.5535 - accuracy: 0.7307\n",
            "Epoch 88/200\n",
            "96/96 [==============================] - 0s 558us/step - loss: 0.7104 - accuracy: 0.7017\n",
            "Epoch 89/200\n",
            "96/96 [==============================] - 0s 558us/step - loss: 0.5533 - accuracy: 0.7671\n",
            "Epoch 90/200\n",
            "96/96 [==============================] - 0s 669us/step - loss: 0.5807 - accuracy: 0.7340\n",
            "Epoch 91/200\n",
            "96/96 [==============================] - 0s 547us/step - loss: 0.6244 - accuracy: 0.6995\n",
            "Epoch 92/200\n",
            "96/96 [==============================] - 0s 568us/step - loss: 0.5133 - accuracy: 0.7463\n",
            "Epoch 93/200\n",
            "96/96 [==============================] - 0s 526us/step - loss: 0.5149 - accuracy: 0.7473\n",
            "Epoch 94/200\n",
            "96/96 [==============================] - 0s 590us/step - loss: 0.5154 - accuracy: 0.7682\n",
            "Epoch 95/200\n",
            "96/96 [==============================] - 0s 568us/step - loss: 0.5587 - accuracy: 0.7335\n",
            "Epoch 96/200\n",
            "96/96 [==============================] - 0s 579us/step - loss: 0.5502 - accuracy: 0.7395\n",
            "Epoch 97/200\n",
            "96/96 [==============================] - 0s 547us/step - loss: 0.5801 - accuracy: 0.7317\n",
            "Epoch 98/200\n",
            "96/96 [==============================] - 0s 558us/step - loss: 0.5809 - accuracy: 0.7272\n",
            "Epoch 99/200\n",
            "96/96 [==============================] - 0s 558us/step - loss: 0.5697 - accuracy: 0.7304\n",
            "Epoch 100/200\n",
            "96/96 [==============================] - 0s 526us/step - loss: 0.6739 - accuracy: 0.7000\n",
            "Epoch 101/200\n",
            "96/96 [==============================] - 0s 589us/step - loss: 0.5783 - accuracy: 0.7364\n",
            "Epoch 102/200\n",
            "96/96 [==============================] - 0s 589us/step - loss: 0.6067 - accuracy: 0.6999\n",
            "Epoch 103/200\n",
            "96/96 [==============================] - 0s 547us/step - loss: 0.5684 - accuracy: 0.7359\n",
            "Epoch 104/200\n",
            "96/96 [==============================] - 0s 558us/step - loss: 0.6184 - accuracy: 0.7236\n",
            "Epoch 105/200\n",
            "96/96 [==============================] - 0s 568us/step - loss: 0.6469 - accuracy: 0.7404\n",
            "Epoch 106/200\n",
            "96/96 [==============================] - 0s 558us/step - loss: 0.5898 - accuracy: 0.7244\n",
            "Epoch 107/200\n",
            "96/96 [==============================] - 0s 558us/step - loss: 0.6577 - accuracy: 0.7293\n",
            "Epoch 108/200\n",
            "96/96 [==============================] - 0s 558us/step - loss: 0.5811 - accuracy: 0.7434\n",
            "Epoch 109/200\n",
            "96/96 [==============================] - 0s 558us/step - loss: 0.5495 - accuracy: 0.7473\n",
            "Epoch 110/200\n",
            "96/96 [==============================] - 0s 558us/step - loss: 0.6372 - accuracy: 0.6963\n",
            "Epoch 111/200\n",
            "96/96 [==============================] - 0s 558us/step - loss: 0.6357 - accuracy: 0.6982\n",
            "Epoch 112/200\n",
            "96/96 [==============================] - 0s 547us/step - loss: 0.5060 - accuracy: 0.7609\n",
            "Epoch 113/200\n",
            "96/96 [==============================] - 0s 558us/step - loss: 0.5595 - accuracy: 0.7340\n",
            "Epoch 114/200\n",
            "96/96 [==============================] - 0s 642us/step - loss: 0.4885 - accuracy: 0.7827\n",
            "Epoch 115/200\n",
            "96/96 [==============================] - 0s 558us/step - loss: 0.5790 - accuracy: 0.7016\n",
            "Epoch 116/200\n",
            "96/96 [==============================] - 0s 611us/step - loss: 0.5171 - accuracy: 0.7423\n",
            "Epoch 117/200\n",
            "96/96 [==============================] - 0s 589us/step - loss: 0.4916 - accuracy: 0.7633\n",
            "Epoch 118/200\n",
            "96/96 [==============================] - 0s 568us/step - loss: 0.5532 - accuracy: 0.7549\n",
            "Epoch 119/200\n",
            "96/96 [==============================] - 0s 547us/step - loss: 0.5305 - accuracy: 0.7213\n",
            "Epoch 120/200\n",
            "96/96 [==============================] - 0s 568us/step - loss: 0.6415 - accuracy: 0.7117\n",
            "Epoch 121/200\n",
            "96/96 [==============================] - 0s 630us/step - loss: 0.6313 - accuracy: 0.7373\n",
            "Epoch 122/200\n",
            "96/96 [==============================] - 0s 632us/step - loss: 0.5242 - accuracy: 0.7558\n",
            "Epoch 123/200\n",
            "96/96 [==============================] - 0s 642us/step - loss: 0.6150 - accuracy: 0.7067\n",
            "Epoch 124/200\n",
            "96/96 [==============================] - 0s 553us/step - loss: 0.6165 - accuracy: 0.7176\n",
            "Epoch 125/200\n",
            "96/96 [==============================] - 0s 558us/step - loss: 0.5181 - accuracy: 0.7535\n",
            "Epoch 126/200\n",
            "96/96 [==============================] - 0s 573us/step - loss: 0.5566 - accuracy: 0.7279\n",
            "Epoch 127/200\n",
            "96/96 [==============================] - 0s 575us/step - loss: 0.8630 - accuracy: 0.6703\n",
            "Epoch 128/200\n",
            "96/96 [==============================] - 0s 537us/step - loss: 0.4859 - accuracy: 0.7840\n",
            "Epoch 129/200\n",
            "96/96 [==============================] - 0s 547us/step - loss: 0.5864 - accuracy: 0.7419\n",
            "Epoch 130/200\n",
            "96/96 [==============================] - 0s 547us/step - loss: 0.6170 - accuracy: 0.7199\n",
            "Epoch 131/200\n",
            "96/96 [==============================] - 0s 547us/step - loss: 0.6070 - accuracy: 0.7117\n",
            "Epoch 132/200\n",
            "96/96 [==============================] - 0s 558us/step - loss: 0.4780 - accuracy: 0.7901\n",
            "Epoch 133/200\n",
            "96/96 [==============================] - 0s 547us/step - loss: 0.6425 - accuracy: 0.7262\n",
            "Epoch 134/200\n",
            "96/96 [==============================] - 0s 568us/step - loss: 0.5490 - accuracy: 0.7673\n",
            "Epoch 135/200\n",
            "96/96 [==============================] - 0s 558us/step - loss: 0.5347 - accuracy: 0.7507\n",
            "Epoch 136/200\n",
            "96/96 [==============================] - 0s 579us/step - loss: 0.4978 - accuracy: 0.7796\n",
            "Epoch 137/200\n",
            "96/96 [==============================] - 0s 568us/step - loss: 0.5836 - accuracy: 0.7640\n",
            "Epoch 138/200\n",
            "96/96 [==============================] - 0s 584us/step - loss: 0.5028 - accuracy: 0.7545\n",
            "Epoch 139/200\n",
            "96/96 [==============================] - 0s 568us/step - loss: 0.5488 - accuracy: 0.7204\n",
            "Epoch 140/200\n",
            "96/96 [==============================] - 0s 558us/step - loss: 0.5200 - accuracy: 0.7385\n",
            "Epoch 141/200\n",
            "96/96 [==============================] - 0s 577us/step - loss: 0.5108 - accuracy: 0.7716\n",
            "Epoch 142/200\n",
            "96/96 [==============================] - 0s 564us/step - loss: 0.5239 - accuracy: 0.7478\n",
            "Epoch 143/200\n",
            "96/96 [==============================] - 0s 640us/step - loss: 0.5927 - accuracy: 0.7144\n",
            "Epoch 144/200\n",
            "96/96 [==============================] - 0s 567us/step - loss: 0.5377 - accuracy: 0.7250\n",
            "Epoch 145/200\n",
            "96/96 [==============================] - 0s 558us/step - loss: 0.5168 - accuracy: 0.7371\n",
            "Epoch 146/200\n",
            "96/96 [==============================] - 0s 537us/step - loss: 0.5849 - accuracy: 0.7373\n",
            "Epoch 147/200\n",
            "96/96 [==============================] - 0s 579us/step - loss: 0.5876 - accuracy: 0.7411\n",
            "Epoch 148/200\n",
            "96/96 [==============================] - 0s 568us/step - loss: 0.6781 - accuracy: 0.7045\n",
            "Epoch 149/200\n",
            "96/96 [==============================] - 0s 558us/step - loss: 0.5640 - accuracy: 0.7203\n",
            "Epoch 150/200\n",
            "96/96 [==============================] - 0s 558us/step - loss: 0.6270 - accuracy: 0.6980\n",
            "Epoch 151/200\n",
            "96/96 [==============================] - 0s 558us/step - loss: 0.6214 - accuracy: 0.7395\n",
            "Epoch 152/200\n",
            "96/96 [==============================] - 0s 611us/step - loss: 0.5249 - accuracy: 0.7572\n",
            "Epoch 153/200\n",
            "96/96 [==============================] - 0s 600us/step - loss: 0.6065 - accuracy: 0.7438\n",
            "Epoch 154/200\n",
            "96/96 [==============================] - 0s 621us/step - loss: 0.5858 - accuracy: 0.7437\n",
            "Epoch 155/200\n",
            "96/96 [==============================] - 0s 568us/step - loss: 0.6493 - accuracy: 0.7164\n",
            "Epoch 156/200\n",
            "96/96 [==============================] - 0s 563us/step - loss: 0.5128 - accuracy: 0.7594\n",
            "Epoch 157/200\n",
            "96/96 [==============================] - 0s 663us/step - loss: 0.6181 - accuracy: 0.7210\n",
            "Epoch 158/200\n",
            "96/96 [==============================] - 0s 600us/step - loss: 0.5880 - accuracy: 0.7439\n",
            "Epoch 159/200\n",
            "96/96 [==============================] - 0s 621us/step - loss: 0.6183 - accuracy: 0.7539\n",
            "Epoch 160/200\n",
            "96/96 [==============================] - 0s 537us/step - loss: 0.5772 - accuracy: 0.7634\n",
            "Epoch 161/200\n",
            "96/96 [==============================] - 0s 611us/step - loss: 0.5433 - accuracy: 0.7484\n",
            "Epoch 162/200\n",
            "96/96 [==============================] - 0s 653us/step - loss: 0.5391 - accuracy: 0.7644\n",
            "Epoch 163/200\n",
            "96/96 [==============================] - 0s 611us/step - loss: 0.6001 - accuracy: 0.7210\n",
            "Epoch 164/200\n",
            "96/96 [==============================] - 0s 558us/step - loss: 0.5140 - accuracy: 0.7648\n",
            "Epoch 165/200\n",
            "96/96 [==============================] - 0s 653us/step - loss: 0.5681 - accuracy: 0.7447\n",
            "Epoch 166/200\n",
            "96/96 [==============================] - 0s 621us/step - loss: 0.5857 - accuracy: 0.7430\n",
            "Epoch 167/200\n",
            "96/96 [==============================] - 0s 653us/step - loss: 0.5859 - accuracy: 0.7279\n",
            "Epoch 168/200\n",
            "96/96 [==============================] - 0s 547us/step - loss: 0.6299 - accuracy: 0.7550\n",
            "Epoch 169/200\n",
            "96/96 [==============================] - 0s 611us/step - loss: 0.4938 - accuracy: 0.7650\n",
            "Epoch 170/200\n",
            "96/96 [==============================] - 0s 621us/step - loss: 0.5906 - accuracy: 0.7120\n",
            "Epoch 171/200\n",
            "96/96 [==============================] - 0s 653us/step - loss: 0.5941 - accuracy: 0.7411\n",
            "Epoch 172/200\n",
            "96/96 [==============================] - 0s 558us/step - loss: 0.5443 - accuracy: 0.7470\n",
            "Epoch 173/200\n",
            "96/96 [==============================] - 0s 663us/step - loss: 0.5956 - accuracy: 0.7419\n",
            "Epoch 174/200\n",
            "96/96 [==============================] - 0s 653us/step - loss: 0.4771 - accuracy: 0.7826\n",
            "Epoch 175/200\n",
            "96/96 [==============================] - 0s 589us/step - loss: 0.5663 - accuracy: 0.7456\n",
            "Epoch 176/200\n",
            "96/96 [==============================] - 0s 558us/step - loss: 0.4926 - accuracy: 0.7695\n",
            "Epoch 177/200\n",
            "96/96 [==============================] - 0s 547us/step - loss: 0.4844 - accuracy: 0.7556\n",
            "Epoch 178/200\n",
            "96/96 [==============================] - 0s 579us/step - loss: 0.5066 - accuracy: 0.7608\n",
            "Epoch 179/200\n",
            "96/96 [==============================] - 0s 589us/step - loss: 0.4971 - accuracy: 0.7570\n",
            "Epoch 180/200\n",
            "96/96 [==============================] - 0s 705us/step - loss: 0.5260 - accuracy: 0.7576\n",
            "Epoch 181/200\n",
            "96/96 [==============================] - 0s 558us/step - loss: 0.4997 - accuracy: 0.7805\n",
            "Epoch 182/200\n",
            "96/96 [==============================] - 0s 658us/step - loss: 0.5962 - accuracy: 0.7387\n",
            "Epoch 183/200\n",
            "96/96 [==============================] - 0s 623us/step - loss: 0.5275 - accuracy: 0.7415\n",
            "Epoch 184/200\n",
            "96/96 [==============================] - 0s 547us/step - loss: 0.6512 - accuracy: 0.7032\n",
            "Epoch 185/200\n",
            "96/96 [==============================] - 0s 579us/step - loss: 0.4991 - accuracy: 0.7730\n",
            "Epoch 186/200\n",
            "96/96 [==============================] - 0s 568us/step - loss: 0.4924 - accuracy: 0.7571\n",
            "Epoch 187/200\n",
            "96/96 [==============================] - 0s 642us/step - loss: 0.4895 - accuracy: 0.7713\n",
            "Epoch 188/200\n",
            "96/96 [==============================] - 0s 547us/step - loss: 0.4628 - accuracy: 0.7865\n",
            "Epoch 189/200\n",
            "96/96 [==============================] - 0s 560us/step - loss: 0.5264 - accuracy: 0.7678\n",
            "Epoch 190/200\n",
            "96/96 [==============================] - 0s 642us/step - loss: 0.5074 - accuracy: 0.7706\n",
            "Epoch 191/200\n",
            "96/96 [==============================] - 0s 547us/step - loss: 0.5988 - accuracy: 0.7231\n",
            "Epoch 192/200\n",
            "96/96 [==============================] - 0s 642us/step - loss: 0.5906 - accuracy: 0.7207\n",
            "Epoch 193/200\n",
            "96/96 [==============================] - 0s 589us/step - loss: 0.5432 - accuracy: 0.7459\n",
            "Epoch 194/200\n",
            "96/96 [==============================] - 0s 632us/step - loss: 0.5353 - accuracy: 0.7440\n",
            "Epoch 195/200\n",
            "96/96 [==============================] - 0s 574us/step - loss: 0.4828 - accuracy: 0.7801\n",
            "Epoch 196/200\n",
            "96/96 [==============================] - 0s 563us/step - loss: 0.4500 - accuracy: 0.7856\n",
            "Epoch 197/200\n",
            "96/96 [==============================] - 0s 621us/step - loss: 0.6705 - accuracy: 0.7335\n",
            "Epoch 198/200\n",
            "96/96 [==============================] - 0s 568us/step - loss: 0.5705 - accuracy: 0.7609\n",
            "Epoch 199/200\n",
            "96/96 [==============================] - 0s 589us/step - loss: 0.5802 - accuracy: 0.7384\n",
            "Epoch 200/200\n",
            "96/96 [==============================] - 0s 547us/step - loss: 0.4503 - accuracy: 0.8089\n"
          ]
        }
      ]
    },
    {
      "cell_type": "markdown",
      "metadata": {
        "id": "t0kqMCg_lrT6"
      },
      "source": [
        "## Avaliação do modelo"
      ]
    },
    {
      "cell_type": "code",
      "metadata": {
        "id": "9y1el1TAkon8"
      },
      "source": [
        "precisao = model.evaluate(X, y, verbose=0)\n",
        "print(\"Precisão = %.2f%%\" % (precisao[1]*100))"
      ],
      "execution_count": 8,
      "outputs": [
        {
          "output_type": "stream",
          "name": "stdout",
          "text": [
            "Precisão = 72.14%\n"
          ]
        }
      ]
    },
    {
      "cell_type": "markdown",
      "metadata": {
        "id": "mxWeJZCtTBRi"
      },
      "source": [
        "## Salva o modelo"
      ]
    },
    {
      "cell_type": "code",
      "metadata": {
        "id": "wnu-tydbTDcD"
      },
      "source": [
        "model.save(\"model.h5\")"
      ],
      "execution_count": 9,
      "outputs": []
    }
  ]
}