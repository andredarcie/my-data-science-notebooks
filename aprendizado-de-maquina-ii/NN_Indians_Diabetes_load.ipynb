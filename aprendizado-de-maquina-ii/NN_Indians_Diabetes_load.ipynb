{
  "nbformat": 4,
  "nbformat_minor": 0,
  "metadata": {
    "kernelspec": {
      "display_name": "Python 3",
      "language": "python",
      "name": "python3"
    },
    "language_info": {
      "codemirror_mode": {
        "name": "ipython",
        "version": 3
      },
      "file_extension": ".py",
      "mimetype": "text/x-python",
      "name": "python",
      "nbconvert_exporter": "python",
      "pygments_lexer": "ipython3",
      "version": "3.7.3"
    },
    "colab": {
      "name": "NN_Indians_Diabetes_load.ipynb",
      "provenance": [],
      "collapsed_sections": []
    }
  },
  "cells": [
    {
      "cell_type": "markdown",
      "metadata": {
        "id": "Z7K0SeDgzjL2"
      },
      "source": [
        "---\n",
        "\n",
        "---\n",
        "\n",
        "# Predição de diabetes\n",
        "\n",
        "Este notebook carrega um modelo de rede neural (treinado) para predizer o problema Indians_Diabetes\n",
        "\n",
        "---\n",
        "\n",
        "\n",
        "\n",
        "---\n",
        "\n",
        "\n"
      ]
    },
    {
      "cell_type": "markdown",
      "metadata": {
        "id": "LWXwGCqvIwgN"
      },
      "source": [
        "## Leitura dos dados\n",
        "\n",
        "Vamos começar importando o arquivo CSV bruto usando o Pandas."
      ]
    },
    {
      "cell_type": "code",
      "metadata": {
        "scrolled": true,
        "id": "LM6AT7tPzjL6"
      },
      "source": [
        "import pandas as pd\n",
        "\n",
        "# Clone do repositório de dados do GitHub\n",
        "!git clone https://github.com/malegopc/AM2PUCPOC\n",
        "# lê arquivo de dados, atribue NaN para dados faltantes e rótulos em cada coluna\n",
        "diabetes = pd.read_csv('/content/AM2PUCPOC/Datasets/Indians_Diabetes/diabetes.csv', na_values=['?'])\n",
        "# imprime as 5 primeiras linha dos dados montados\n",
        "diabetes.head()"
      ],
      "execution_count": null,
      "outputs": []
    },
    {
      "cell_type": "markdown",
      "metadata": {
        "id": "yabMrBvezjMC"
      },
      "source": [
        "## Separa os atributos das classes\n",
        "\n",
        "Extrai os atributos e as classes (rótulos) colocando-os em duas variáveis separadas (na forma que o Keras espera)."
      ]
    },
    {
      "cell_type": "code",
      "metadata": {
        "id": "9pK51IcczjMC"
      },
      "source": [
        "X = diabetes.drop('Outcome', axis=1).values\n",
        "y = diabetes['Outcome'].values\n",
        "print(X.shape)\n",
        "print(y.shape)"
      ],
      "execution_count": null,
      "outputs": []
    },
    {
      "cell_type": "markdown",
      "metadata": {
        "id": "zyWHf7bCzjMD"
      },
      "source": [
        "## Carrega o modelo"
      ]
    },
    {
      "cell_type": "code",
      "metadata": {
        "id": "uwpVybNDzjME"
      },
      "source": [
        "from keras.models import load_model\n",
        "\n",
        "model = load_model('/content/model.h5')\n",
        "model.summary()"
      ],
      "execution_count": null,
      "outputs": []
    },
    {
      "cell_type": "markdown",
      "metadata": {
        "id": "t0kqMCg_lrT6"
      },
      "source": [
        "## Avaliação do modelo"
      ]
    },
    {
      "cell_type": "code",
      "metadata": {
        "id": "9y1el1TAkon8"
      },
      "source": [
        "precisao = model.evaluate(X, y, verbose=0)\n",
        "print(\"Precisão = %.2f%%\" % (precisao[1]*100))"
      ],
      "execution_count": null,
      "outputs": []
    }
  ]
}