{
  "nbformat": 4,
  "nbformat_minor": 0,
  "metadata": {
    "kernelspec": {
      "name": "python385jvsc74a57bd02db524e06e9f5f4ffedc911c917cb75e12dbc923643829bf417064a77eb14d37",
      "display_name": "Python 3.8.5 64-bit"
    },
    "language_info": {
      "codemirror_mode": {
        "name": "ipython",
        "version": 3
      },
      "file_extension": ".py",
      "mimetype": "text/x-python",
      "name": "python",
      "nbconvert_exporter": "python",
      "pygments_lexer": "ipython3",
      "version": "3.8.5"
    },
    "colab": {
      "name": "NN_Predicao_politica.ipynb",
      "provenance": [],
      "collapsed_sections": []
    },
    "metadata": {
      "interpreter": {
        "hash": "2db524e06e9f5f4ffedc911c917cb75e12dbc923643829bf417064a77eb14d37"
      }
    }
  },
  "cells": [
    {
      "cell_type": "markdown",
      "metadata": {
        "id": "Z7K0SeDgzjL2"
      },
      "source": [
        "---\n",
        "\n",
        "\n",
        "\n",
        "---\n",
        "\n",
        "# Predição de partido político baseado em votações\n",
        "\n",
        "Este notebook implementa uma rede neural para predizer (descobrir) qual partido político de um congressista americano com base nos seus votos.\n",
        "\n",
        "Utiliza-se um conjunto de dados públicos de como os congressistas dos EUA votaram em 17 questões diferentes. \n",
        "\n",
        "Nos Estados Unidos há dois principais partidos políticos: \"Democrata\" e \"Republicano\". Nos tempos modernos, eles representam ideologias progressistas e conservadoras, respectivamente.\n",
        "\n",
        "Trata-se de um problema de classificação binária.\n",
        "\n",
        "\n",
        "---\n",
        "\n",
        "\n",
        "\n",
        "---"
      ]
    },
    {
      "cell_type": "markdown",
      "metadata": {
        "id": "PcWx36BdDBX0"
      },
      "source": [
        "## Conjunto de dados\n",
        "\n",
        "Arquivo: **votes_data.txt**:\n",
        "\n",
        "1. Banco de dados de registros de votação do Congresso dos Estados Unidos de 1984\n",
        "\n",
        "2. Informações da fonte:\n",
        "    * Fonte: Congressional Quarterly Almanac, 98º Congresso,\n",
        "                 2ª sessão 1984, Volume XL: Congressional Quarterly Inc.\n",
        "                 Washington, D.C., 1985.\n",
        "    * Doador: Jeff Schlimmer (Jeffrey.Schlimmer@a.gp.cs.cmu.edu)\n",
        "    * Data: 27 de abril de 1987\n",
        "\n",
        "3. Uso anterior\n",
        "   - Publicações\n",
        "     1. Schlimmer, J. C. (1987). Aquisição de conceito através de\n",
        "        ajuste representacional. Tese de doutorado, Departamento de\n",
        "        Informação e Ciência da Computação, Universidade da Califórnia, Irvine, CA.\n",
        "        - Resultados: cerca de 90% -95% de precisão parece ser a assíntota de STAGGER\n",
        "        - Atributo previsto: afiliação partidária (2 classes)\n",
        "\n",
        "4. Número de instâncias: 435 (267 democratas, 168 republicanos)\n",
        "\n",
        "5. Número de atributos: 16 + nome da classe/partido = 17 (todos com valor booleano)\n",
        "\n",
        "6. Informação de Atributo:\n",
        "   1. Nome da classe: (democrata, republicano)\n",
        "   2. Crianças deficientes: (y, n)\n",
        "   3. Compartilhamento de custos do projeto de água: (y, n)\n",
        "   4. Resolução de adoção do orçamento: (y, n)\n",
        "   5. Congelamento de honorários médicos: (y, n)\n",
        "   6. Ajuda El Salvador: (y, n)\n",
        "   7. Grupos religiosos nas escolas: (y, n)\n",
        "   8. Proibição de teste anti-satélite: (y, n)\n",
        "   9. Ajuda para contras nicaraguenses: (y, n)\n",
        "  10. Míssil Mx: (y, n)\n",
        "  11. Imigração: (y, n)\n",
        "  12. Corte de corporação de combustíveis Syn: (y, n)\n",
        "  13. Gastos com educação: (y, n)\n",
        "  14. Super fundo direto: (y, n)\n",
        "  15. Crime: (y, n)\n",
        "  16. Exportações com isenção de impostos: (y, n)\n",
        "  17. Exportação África do Sul: (y, n)\n",
        "\n"
      ]
    },
    {
      "cell_type": "markdown",
      "metadata": {
        "id": "LWXwGCqvIwgN"
      },
      "source": [
        "## Leitura e preparação dos dados\n",
        "\n",
        "Vamos começar importando o arquivo CSV bruto usando o Pandas e fazer um DataFrame dele inserindo rótulos (nomes) em cada coluna (atributo)"
      ]
    },
    {
      "cell_type": "code",
      "metadata": {
        "scrolled": true,
        "colab": {
          "base_uri": "https://localhost:8080/",
          "height": 411
        },
        "id": "LM6AT7tPzjL6",
        "outputId": "c0649fdd-e77d-4e3a-ade3-6d3d3c5be970"
      },
      "source": [
        "import pandas as pd\n",
        "\n",
        "# cria vetor com os rótulos de cada atributo\n",
        "nomes_atributos = ['Partido', 'Crianças deficientes', 'Compartilhamento de custos do projeto de água',\n",
        "                    'Resolução de adoção do orçamento', 'Congelamento de honorários médicos',\n",
        "                    'Ajuda El Salvador', 'Grupos religiosos nas escolas',\n",
        "                    'Proibição de teste anti-satélite', 'Ajuda a contras nicaraguenses',\n",
        "                    'Míssil MX', 'Imigração', 'Corte de corporação de combustíveis Syn',\n",
        "                    'Gastos com educação', ' Super fundo direto', 'Crime',\n",
        "                    'Exportações isentas de impostos', 'Exportação África do Sul']\n",
        "\n",
        "# lê arquivo de dados, atribue NaN para dados faltantes e rótulos em cada coluna\n",
        "dados_votacao = pd.read_csv('votes_data.txt', na_values=['?'], names = nomes_atributos)\n",
        "# imprime as 5 primeiras linha dos dados montados\n",
        "dados_votacao.head()"
      ],
      "execution_count": 13,
      "outputs": [
        {
          "output_type": "execute_result",
          "data": {
            "text/plain": [
              "      Partido Crianças deficientes  \\\n",
              "0  republican                    n   \n",
              "1  republican                    n   \n",
              "2    democrat                  NaN   \n",
              "3    democrat                    n   \n",
              "4    democrat                    y   \n",
              "\n",
              "  Compartilhamento de custos do projeto de água  \\\n",
              "0                                             y   \n",
              "1                                             y   \n",
              "2                                             y   \n",
              "3                                             y   \n",
              "4                                             y   \n",
              "\n",
              "  Resolução de adoção do orçamento Congelamento de honorários médicos  \\\n",
              "0                                n                                  y   \n",
              "1                                n                                  y   \n",
              "2                                y                                NaN   \n",
              "3                                y                                  n   \n",
              "4                                y                                  n   \n",
              "\n",
              "  Ajuda El Salvador Grupos religiosos nas escolas  \\\n",
              "0                 y                             y   \n",
              "1                 y                             y   \n",
              "2                 y                             y   \n",
              "3               NaN                             y   \n",
              "4                 y                             y   \n",
              "\n",
              "  Proibição de teste anti-satélite Ajuda a contras nicaraguenses Míssil MX  \\\n",
              "0                                n                             n         n   \n",
              "1                                n                             n         n   \n",
              "2                                n                             n         n   \n",
              "3                                n                             n         n   \n",
              "4                                n                             n         n   \n",
              "\n",
              "  Imigração Corte de corporação de combustíveis Syn Gastos com educação  \\\n",
              "0         y                                     NaN                   y   \n",
              "1         n                                       n                   y   \n",
              "2         n                                       y                   n   \n",
              "3         n                                       y                   n   \n",
              "4         n                                       y                 NaN   \n",
              "\n",
              "   Super fundo direto Crime Exportações isentas de impostos  \\\n",
              "0                   y     y                               n   \n",
              "1                   y     y                               n   \n",
              "2                   y     y                               n   \n",
              "3                   y     n                               n   \n",
              "4                   y     y                               y   \n",
              "\n",
              "  Exportação África do Sul  \n",
              "0                        y  \n",
              "1                      NaN  \n",
              "2                        n  \n",
              "3                        y  \n",
              "4                        y  "
            ],
            "text/html": "<div>\n<style scoped>\n    .dataframe tbody tr th:only-of-type {\n        vertical-align: middle;\n    }\n\n    .dataframe tbody tr th {\n        vertical-align: top;\n    }\n\n    .dataframe thead th {\n        text-align: right;\n    }\n</style>\n<table border=\"1\" class=\"dataframe\">\n  <thead>\n    <tr style=\"text-align: right;\">\n      <th></th>\n      <th>Partido</th>\n      <th>Crianças deficientes</th>\n      <th>Compartilhamento de custos do projeto de água</th>\n      <th>Resolução de adoção do orçamento</th>\n      <th>Congelamento de honorários médicos</th>\n      <th>Ajuda El Salvador</th>\n      <th>Grupos religiosos nas escolas</th>\n      <th>Proibição de teste anti-satélite</th>\n      <th>Ajuda a contras nicaraguenses</th>\n      <th>Míssil MX</th>\n      <th>Imigração</th>\n      <th>Corte de corporação de combustíveis Syn</th>\n      <th>Gastos com educação</th>\n      <th>Super fundo direto</th>\n      <th>Crime</th>\n      <th>Exportações isentas de impostos</th>\n      <th>Exportação África do Sul</th>\n    </tr>\n  </thead>\n  <tbody>\n    <tr>\n      <th>0</th>\n      <td>republican</td>\n      <td>n</td>\n      <td>y</td>\n      <td>n</td>\n      <td>y</td>\n      <td>y</td>\n      <td>y</td>\n      <td>n</td>\n      <td>n</td>\n      <td>n</td>\n      <td>y</td>\n      <td>NaN</td>\n      <td>y</td>\n      <td>y</td>\n      <td>y</td>\n      <td>n</td>\n      <td>y</td>\n    </tr>\n    <tr>\n      <th>1</th>\n      <td>republican</td>\n      <td>n</td>\n      <td>y</td>\n      <td>n</td>\n      <td>y</td>\n      <td>y</td>\n      <td>y</td>\n      <td>n</td>\n      <td>n</td>\n      <td>n</td>\n      <td>n</td>\n      <td>n</td>\n      <td>y</td>\n      <td>y</td>\n      <td>y</td>\n      <td>n</td>\n      <td>NaN</td>\n    </tr>\n    <tr>\n      <th>2</th>\n      <td>democrat</td>\n      <td>NaN</td>\n      <td>y</td>\n      <td>y</td>\n      <td>NaN</td>\n      <td>y</td>\n      <td>y</td>\n      <td>n</td>\n      <td>n</td>\n      <td>n</td>\n      <td>n</td>\n      <td>y</td>\n      <td>n</td>\n      <td>y</td>\n      <td>y</td>\n      <td>n</td>\n      <td>n</td>\n    </tr>\n    <tr>\n      <th>3</th>\n      <td>democrat</td>\n      <td>n</td>\n      <td>y</td>\n      <td>y</td>\n      <td>n</td>\n      <td>NaN</td>\n      <td>y</td>\n      <td>n</td>\n      <td>n</td>\n      <td>n</td>\n      <td>n</td>\n      <td>y</td>\n      <td>n</td>\n      <td>y</td>\n      <td>n</td>\n      <td>n</td>\n      <td>y</td>\n    </tr>\n    <tr>\n      <th>4</th>\n      <td>democrat</td>\n      <td>y</td>\n      <td>y</td>\n      <td>y</td>\n      <td>n</td>\n      <td>y</td>\n      <td>y</td>\n      <td>n</td>\n      <td>n</td>\n      <td>n</td>\n      <td>n</td>\n      <td>y</td>\n      <td>NaN</td>\n      <td>y</td>\n      <td>y</td>\n      <td>y</td>\n      <td>y</td>\n    </tr>\n  </tbody>\n</table>\n</div>"
          },
          "metadata": {},
          "execution_count": 13
        }
      ]
    },
    {
      "cell_type": "markdown",
      "metadata": {
        "id": "HFsjqPh-zjL-"
      },
      "source": [
        "## Análise (estatística) descritiva dos dados\n",
        "\n",
        "Análise descritiva dos dados (resumo)."
      ]
    },
    {
      "cell_type": "code",
      "metadata": {
        "colab": {
          "base_uri": "https://localhost:8080/",
          "height": 261
        },
        "id": "d02W1HKazjL-",
        "outputId": "bccc9ff4-07e3-4d84-a469-6b42370547a5"
      },
      "source": [
        "dados_votacao.describe()"
      ],
      "execution_count": 16,
      "outputs": [
        {
          "output_type": "execute_result",
          "data": {
            "text/plain": [
              "         Partido Crianças deficientes  \\\n",
              "count        435                  423   \n",
              "unique         2                    2   \n",
              "top     democrat                    n   \n",
              "freq         267                  236   \n",
              "\n",
              "       Compartilhamento de custos do projeto de água  \\\n",
              "count                                            387   \n",
              "unique                                             2   \n",
              "top                                                y   \n",
              "freq                                             195   \n",
              "\n",
              "       Resolução de adoção do orçamento Congelamento de honorários médicos  \\\n",
              "count                               424                                424   \n",
              "unique                                2                                  2   \n",
              "top                                   y                                  n   \n",
              "freq                                253                                247   \n",
              "\n",
              "       Ajuda El Salvador Grupos religiosos nas escolas  \\\n",
              "count                420                           424   \n",
              "unique                 2                             2   \n",
              "top                    y                             y   \n",
              "freq                 212                           272   \n",
              "\n",
              "       Proibição de teste anti-satélite Ajuda a contras nicaraguenses  \\\n",
              "count                               421                           420   \n",
              "unique                                2                             2   \n",
              "top                                   y                             y   \n",
              "freq                                239                           242   \n",
              "\n",
              "       Míssil MX Imigração Corte de corporação de combustíveis Syn  \\\n",
              "count        413       428                                     414   \n",
              "unique         2         2                                       2   \n",
              "top            y         y                                       n   \n",
              "freq         207       216                                     264   \n",
              "\n",
              "       Gastos com educação  Super fundo direto Crime  \\\n",
              "count                  404                 410   418   \n",
              "unique                   2                   2     2   \n",
              "top                      n                   y     y   \n",
              "freq                   233                 209   248   \n",
              "\n",
              "       Exportações isentas de impostos Exportação África do Sul  \n",
              "count                              407                      331  \n",
              "unique                               2                        2  \n",
              "top                                  n                        y  \n",
              "freq                               233                      269  "
            ],
            "text/html": "<div>\n<style scoped>\n    .dataframe tbody tr th:only-of-type {\n        vertical-align: middle;\n    }\n\n    .dataframe tbody tr th {\n        vertical-align: top;\n    }\n\n    .dataframe thead th {\n        text-align: right;\n    }\n</style>\n<table border=\"1\" class=\"dataframe\">\n  <thead>\n    <tr style=\"text-align: right;\">\n      <th></th>\n      <th>Partido</th>\n      <th>Crianças deficientes</th>\n      <th>Compartilhamento de custos do projeto de água</th>\n      <th>Resolução de adoção do orçamento</th>\n      <th>Congelamento de honorários médicos</th>\n      <th>Ajuda El Salvador</th>\n      <th>Grupos religiosos nas escolas</th>\n      <th>Proibição de teste anti-satélite</th>\n      <th>Ajuda a contras nicaraguenses</th>\n      <th>Míssil MX</th>\n      <th>Imigração</th>\n      <th>Corte de corporação de combustíveis Syn</th>\n      <th>Gastos com educação</th>\n      <th>Super fundo direto</th>\n      <th>Crime</th>\n      <th>Exportações isentas de impostos</th>\n      <th>Exportação África do Sul</th>\n    </tr>\n  </thead>\n  <tbody>\n    <tr>\n      <th>count</th>\n      <td>435</td>\n      <td>423</td>\n      <td>387</td>\n      <td>424</td>\n      <td>424</td>\n      <td>420</td>\n      <td>424</td>\n      <td>421</td>\n      <td>420</td>\n      <td>413</td>\n      <td>428</td>\n      <td>414</td>\n      <td>404</td>\n      <td>410</td>\n      <td>418</td>\n      <td>407</td>\n      <td>331</td>\n    </tr>\n    <tr>\n      <th>unique</th>\n      <td>2</td>\n      <td>2</td>\n      <td>2</td>\n      <td>2</td>\n      <td>2</td>\n      <td>2</td>\n      <td>2</td>\n      <td>2</td>\n      <td>2</td>\n      <td>2</td>\n      <td>2</td>\n      <td>2</td>\n      <td>2</td>\n      <td>2</td>\n      <td>2</td>\n      <td>2</td>\n      <td>2</td>\n    </tr>\n    <tr>\n      <th>top</th>\n      <td>democrat</td>\n      <td>n</td>\n      <td>y</td>\n      <td>y</td>\n      <td>n</td>\n      <td>y</td>\n      <td>y</td>\n      <td>y</td>\n      <td>y</td>\n      <td>y</td>\n      <td>y</td>\n      <td>n</td>\n      <td>n</td>\n      <td>y</td>\n      <td>y</td>\n      <td>n</td>\n      <td>y</td>\n    </tr>\n    <tr>\n      <th>freq</th>\n      <td>267</td>\n      <td>236</td>\n      <td>195</td>\n      <td>253</td>\n      <td>247</td>\n      <td>212</td>\n      <td>272</td>\n      <td>239</td>\n      <td>242</td>\n      <td>207</td>\n      <td>216</td>\n      <td>264</td>\n      <td>233</td>\n      <td>209</td>\n      <td>248</td>\n      <td>233</td>\n      <td>269</td>\n    </tr>\n  </tbody>\n</table>\n</div>"
          },
          "metadata": {},
          "execution_count": 16
        }
      ]
    },
    {
      "cell_type": "markdown",
      "metadata": {
        "id": "qW6o_Dn0mB-E"
      },
      "source": [
        "## Número de instâncias"
      ]
    },
    {
      "cell_type": "code",
      "metadata": {
        "colab": {
          "base_uri": "https://localhost:8080/"
        },
        "id": "U9TOyn0Pj3tu",
        "outputId": "cd2bc194-6395-4b5d-dfb9-844a4b73ee50"
      },
      "source": [
        "len(dados_votacao)"
      ],
      "execution_count": 23,
      "outputs": [
        {
          "output_type": "execute_result",
          "data": {
            "text/plain": [
              "435"
            ]
          },
          "metadata": {},
          "execution_count": 23
        }
      ]
    },
    {
      "cell_type": "markdown",
      "metadata": {
        "id": "HVm9d_FmzjL_"
      },
      "source": [
        "## Eliminação de dados ausentes \n",
        "\n",
        "Alguns políticos se abstiveram em algumas votações ou simplesmente não estavam presentes no momento da votação. Para contornar esse problema vamos simplesmente eliminar as linhas com dados ausentes para mantê-lo simples, mas na prática é importante ter certeza de que isso não introduziu nenhum tipo de viés em sua análise (se uma parte se abstiver mais do que outra, isso poderia ser problemático)\n"
      ]
    },
    {
      "cell_type": "code",
      "metadata": {
        "colab": {
          "base_uri": "https://localhost:8080/",
          "height": 261
        },
        "id": "c6gfguVAzjL_",
        "outputId": "9b9bae05-ead6-4562-faea-22e82dde7851"
      },
      "source": [
        "# Remove dados faltantes na própria variável \n",
        "dados_votacao.dropna(inplace=True)\n",
        "dados_votacao.describe()"
      ],
      "execution_count": 25,
      "outputs": [
        {
          "output_type": "execute_result",
          "data": {
            "text/plain": [
              "         Partido Crianças deficientes  \\\n",
              "count        232                  232   \n",
              "unique         2                    2   \n",
              "top     democrat                    n   \n",
              "freq         124                  136   \n",
              "\n",
              "       Compartilhamento de custos do projeto de água  \\\n",
              "count                                            232   \n",
              "unique                                             2   \n",
              "top                                                n   \n",
              "freq                                             125   \n",
              "\n",
              "       Resolução de adoção do orçamento Congelamento de honorários médicos  \\\n",
              "count                               232                                232   \n",
              "unique                                2                                  2   \n",
              "top                                   y                                  n   \n",
              "freq                                123                                119   \n",
              "\n",
              "       Ajuda El Salvador Grupos religiosos nas escolas  \\\n",
              "count                232                           232   \n",
              "unique                 2                             2   \n",
              "top                    y                             y   \n",
              "freq                 128                           149   \n",
              "\n",
              "       Proibição de teste anti-satélite Ajuda a contras nicaraguenses  \\\n",
              "count                               232                           232   \n",
              "unique                                2                             2   \n",
              "top                                   y                             y   \n",
              "freq                                124                           119   \n",
              "\n",
              "       Míssil MX Imigração Corte de corporação de combustíveis Syn  \\\n",
              "count        232       232                                     232   \n",
              "unique         2         2                                       2   \n",
              "top            n         y                                       n   \n",
              "freq         119       128                                     152   \n",
              "\n",
              "       Gastos com educação  Super fundo direto Crime  \\\n",
              "count                  232                 232   232   \n",
              "unique                   2                   2     2   \n",
              "top                      n                   y     y   \n",
              "freq                   124                 127   149   \n",
              "\n",
              "       Exportações isentas de impostos Exportação África do Sul  \n",
              "count                              232                      232  \n",
              "unique                               2                        2  \n",
              "top                                  n                        y  \n",
              "freq                               146                      189  "
            ],
            "text/html": "<div>\n<style scoped>\n    .dataframe tbody tr th:only-of-type {\n        vertical-align: middle;\n    }\n\n    .dataframe tbody tr th {\n        vertical-align: top;\n    }\n\n    .dataframe thead th {\n        text-align: right;\n    }\n</style>\n<table border=\"1\" class=\"dataframe\">\n  <thead>\n    <tr style=\"text-align: right;\">\n      <th></th>\n      <th>Partido</th>\n      <th>Crianças deficientes</th>\n      <th>Compartilhamento de custos do projeto de água</th>\n      <th>Resolução de adoção do orçamento</th>\n      <th>Congelamento de honorários médicos</th>\n      <th>Ajuda El Salvador</th>\n      <th>Grupos religiosos nas escolas</th>\n      <th>Proibição de teste anti-satélite</th>\n      <th>Ajuda a contras nicaraguenses</th>\n      <th>Míssil MX</th>\n      <th>Imigração</th>\n      <th>Corte de corporação de combustíveis Syn</th>\n      <th>Gastos com educação</th>\n      <th>Super fundo direto</th>\n      <th>Crime</th>\n      <th>Exportações isentas de impostos</th>\n      <th>Exportação África do Sul</th>\n    </tr>\n  </thead>\n  <tbody>\n    <tr>\n      <th>count</th>\n      <td>232</td>\n      <td>232</td>\n      <td>232</td>\n      <td>232</td>\n      <td>232</td>\n      <td>232</td>\n      <td>232</td>\n      <td>232</td>\n      <td>232</td>\n      <td>232</td>\n      <td>232</td>\n      <td>232</td>\n      <td>232</td>\n      <td>232</td>\n      <td>232</td>\n      <td>232</td>\n      <td>232</td>\n    </tr>\n    <tr>\n      <th>unique</th>\n      <td>2</td>\n      <td>2</td>\n      <td>2</td>\n      <td>2</td>\n      <td>2</td>\n      <td>2</td>\n      <td>2</td>\n      <td>2</td>\n      <td>2</td>\n      <td>2</td>\n      <td>2</td>\n      <td>2</td>\n      <td>2</td>\n      <td>2</td>\n      <td>2</td>\n      <td>2</td>\n      <td>2</td>\n    </tr>\n    <tr>\n      <th>top</th>\n      <td>democrat</td>\n      <td>n</td>\n      <td>n</td>\n      <td>y</td>\n      <td>n</td>\n      <td>y</td>\n      <td>y</td>\n      <td>y</td>\n      <td>y</td>\n      <td>n</td>\n      <td>y</td>\n      <td>n</td>\n      <td>n</td>\n      <td>y</td>\n      <td>y</td>\n      <td>n</td>\n      <td>y</td>\n    </tr>\n    <tr>\n      <th>freq</th>\n      <td>124</td>\n      <td>136</td>\n      <td>125</td>\n      <td>123</td>\n      <td>119</td>\n      <td>128</td>\n      <td>149</td>\n      <td>124</td>\n      <td>119</td>\n      <td>119</td>\n      <td>128</td>\n      <td>152</td>\n      <td>124</td>\n      <td>127</td>\n      <td>149</td>\n      <td>146</td>\n      <td>189</td>\n    </tr>\n  </tbody>\n</table>\n</div>"
          },
          "metadata": {},
          "execution_count": 25
        }
      ]
    },
    {
      "cell_type": "markdown",
      "metadata": {
        "id": "QzU81rWymGty"
      },
      "source": [
        "## Número de instâncias após eliminação de dados faltantes"
      ]
    },
    {
      "cell_type": "code",
      "metadata": {
        "colab": {
          "base_uri": "https://localhost:8080/"
        },
        "id": "iZbrJd0amTG7",
        "outputId": "c2123f26-3dc0-4ca3-df92-efb89a77ce55"
      },
      "source": [
        "len(dados_votacao)"
      ],
      "execution_count": 26,
      "outputs": [
        {
          "output_type": "execute_result",
          "data": {
            "text/plain": [
              "232"
            ]
          },
          "metadata": {},
          "execution_count": 26
        }
      ]
    },
    {
      "cell_type": "markdown",
      "metadata": {
        "id": "f0ziTMDEzjMA"
      },
      "source": [
        "## Transforma dados categóricos (y e n) em números (1 e 0) "
      ]
    },
    {
      "cell_type": "code",
      "metadata": {
        "colab": {
          "base_uri": "https://localhost:8080/",
          "height": 292
        },
        "id": "IE4ekFOTzjMA",
        "outputId": "5d08e557-c64a-4f01-dc1f-9c0d7e70c909"
      },
      "source": [
        "dados_votacao.replace(('y', 'n'), (1, 0), inplace=True)\n",
        "dados_votacao.replace(('democrat', 'republican'), (1, 0), inplace=True)\n",
        "dados_votacao.head()"
      ],
      "execution_count": 27,
      "outputs": [
        {
          "output_type": "execute_result",
          "data": {
            "text/plain": [
              "    Partido  Crianças deficientes  \\\n",
              "5         1                     0   \n",
              "8         0                     0   \n",
              "19        1                     1   \n",
              "23        1                     1   \n",
              "25        1                     1   \n",
              "\n",
              "    Compartilhamento de custos do projeto de água  \\\n",
              "5                                               1   \n",
              "8                                               1   \n",
              "19                                              1   \n",
              "23                                              1   \n",
              "25                                              0   \n",
              "\n",
              "    Resolução de adoção do orçamento  Congelamento de honorários médicos  \\\n",
              "5                                  1                                   0   \n",
              "8                                  0                                   1   \n",
              "19                                 1                                   0   \n",
              "23                                 1                                   0   \n",
              "25                                 1                                   0   \n",
              "\n",
              "    Ajuda El Salvador  Grupos religiosos nas escolas  \\\n",
              "5                   1                              1   \n",
              "8                   1                              1   \n",
              "19                  0                              0   \n",
              "23                  0                              0   \n",
              "25                  0                              0   \n",
              "\n",
              "    Proibição de teste anti-satélite  Ajuda a contras nicaraguenses  \\\n",
              "5                                  0                              0   \n",
              "8                                  0                              0   \n",
              "19                                 1                              1   \n",
              "23                                 1                              1   \n",
              "25                                 1                              1   \n",
              "\n",
              "    Míssil MX  Imigração  Corte de corporação de combustíveis Syn  \\\n",
              "5           0          0                                        0   \n",
              "8           0          0                                        0   \n",
              "19          1          0                                        1   \n",
              "23          1          0                                        0   \n",
              "25          1          1                                        0   \n",
              "\n",
              "    Gastos com educação   Super fundo direto  Crime  \\\n",
              "5                     0                    1      1   \n",
              "8                     1                    1      1   \n",
              "19                    0                    0      0   \n",
              "23                    0                    0      0   \n",
              "25                    0                    0      0   \n",
              "\n",
              "    Exportações isentas de impostos  Exportação África do Sul  \n",
              "5                                 1                         1  \n",
              "8                                 0                         1  \n",
              "19                                1                         1  \n",
              "23                                1                         1  \n",
              "25                                1                         1  "
            ],
            "text/html": "<div>\n<style scoped>\n    .dataframe tbody tr th:only-of-type {\n        vertical-align: middle;\n    }\n\n    .dataframe tbody tr th {\n        vertical-align: top;\n    }\n\n    .dataframe thead th {\n        text-align: right;\n    }\n</style>\n<table border=\"1\" class=\"dataframe\">\n  <thead>\n    <tr style=\"text-align: right;\">\n      <th></th>\n      <th>Partido</th>\n      <th>Crianças deficientes</th>\n      <th>Compartilhamento de custos do projeto de água</th>\n      <th>Resolução de adoção do orçamento</th>\n      <th>Congelamento de honorários médicos</th>\n      <th>Ajuda El Salvador</th>\n      <th>Grupos religiosos nas escolas</th>\n      <th>Proibição de teste anti-satélite</th>\n      <th>Ajuda a contras nicaraguenses</th>\n      <th>Míssil MX</th>\n      <th>Imigração</th>\n      <th>Corte de corporação de combustíveis Syn</th>\n      <th>Gastos com educação</th>\n      <th>Super fundo direto</th>\n      <th>Crime</th>\n      <th>Exportações isentas de impostos</th>\n      <th>Exportação África do Sul</th>\n    </tr>\n  </thead>\n  <tbody>\n    <tr>\n      <th>5</th>\n      <td>1</td>\n      <td>0</td>\n      <td>1</td>\n      <td>1</td>\n      <td>0</td>\n      <td>1</td>\n      <td>1</td>\n      <td>0</td>\n      <td>0</td>\n      <td>0</td>\n      <td>0</td>\n      <td>0</td>\n      <td>0</td>\n      <td>1</td>\n      <td>1</td>\n      <td>1</td>\n      <td>1</td>\n    </tr>\n    <tr>\n      <th>8</th>\n      <td>0</td>\n      <td>0</td>\n      <td>1</td>\n      <td>0</td>\n      <td>1</td>\n      <td>1</td>\n      <td>1</td>\n      <td>0</td>\n      <td>0</td>\n      <td>0</td>\n      <td>0</td>\n      <td>0</td>\n      <td>1</td>\n      <td>1</td>\n      <td>1</td>\n      <td>0</td>\n      <td>1</td>\n    </tr>\n    <tr>\n      <th>19</th>\n      <td>1</td>\n      <td>1</td>\n      <td>1</td>\n      <td>1</td>\n      <td>0</td>\n      <td>0</td>\n      <td>0</td>\n      <td>1</td>\n      <td>1</td>\n      <td>1</td>\n      <td>0</td>\n      <td>1</td>\n      <td>0</td>\n      <td>0</td>\n      <td>0</td>\n      <td>1</td>\n      <td>1</td>\n    </tr>\n    <tr>\n      <th>23</th>\n      <td>1</td>\n      <td>1</td>\n      <td>1</td>\n      <td>1</td>\n      <td>0</td>\n      <td>0</td>\n      <td>0</td>\n      <td>1</td>\n      <td>1</td>\n      <td>1</td>\n      <td>0</td>\n      <td>0</td>\n      <td>0</td>\n      <td>0</td>\n      <td>0</td>\n      <td>1</td>\n      <td>1</td>\n    </tr>\n    <tr>\n      <th>25</th>\n      <td>1</td>\n      <td>1</td>\n      <td>0</td>\n      <td>1</td>\n      <td>0</td>\n      <td>0</td>\n      <td>0</td>\n      <td>1</td>\n      <td>1</td>\n      <td>1</td>\n      <td>1</td>\n      <td>0</td>\n      <td>0</td>\n      <td>0</td>\n      <td>0</td>\n      <td>1</td>\n      <td>1</td>\n    </tr>\n  </tbody>\n</table>\n</div>"
          },
          "metadata": {},
          "execution_count": 27
        }
      ]
    },
    {
      "cell_type": "markdown",
      "metadata": {
        "id": "yabMrBvezjMC"
      },
      "source": [
        "## Separa os atributos das classes\n",
        "\n",
        "Extrai os atributos e as classes (rótulos) colocando-os em duas variáveis separadas (na forma que o Keras espera)."
      ]
    },
    {
      "cell_type": "code",
      "metadata": {
        "colab": {
          "base_uri": "https://localhost:8080/"
        },
        "id": "9pK51IcczjMC",
        "outputId": "dc63bbe1-bbb0-4d64-9663-75fe522c3631"
      },
      "source": [
        "X = dados_votacao[nomes_atributos].drop('Partido', axis=1).values\n",
        "y = dados_votacao['Partido'].values\n",
        "print(X.shape)\n",
        "print(y.shape)"
      ],
      "execution_count": 28,
      "outputs": [
        {
          "output_type": "stream",
          "name": "stdout",
          "text": [
            "(232, 16)\n(232,)\n"
          ]
        }
      ]
    },
    {
      "cell_type": "markdown",
      "metadata": {
        "id": "OhhPEpwNm4z2"
      },
      "source": [
        "## Divide o conjunto de dados em treino e teste"
      ]
    },
    {
      "cell_type": "code",
      "metadata": {
        "colab": {
          "base_uri": "https://localhost:8080/"
        },
        "id": "R2rzqlBYm8CD",
        "outputId": "13349fbb-2a6b-438c-d8b6-a0f28c7b240c"
      },
      "source": [
        "from sklearn.model_selection import train_test_split\n",
        "X_train, X_test, y_train, y_test = train_test_split(X,y,test_size=0.25,random_state=42)\n",
        "print(X_train.shape)\n",
        "print(X_test.shape)"
      ],
      "execution_count": 29,
      "outputs": [
        {
          "output_type": "stream",
          "name": "stdout",
          "text": [
            "(174, 16)\n(58, 16)\n"
          ]
        }
      ]
    },
    {
      "cell_type": "markdown",
      "metadata": {
        "id": "zyWHf7bCzjMD"
      },
      "source": [
        "## Criação do modelo de rede neural\n"
      ]
    },
    {
      "cell_type": "code",
      "metadata": {
        "colab": {
          "base_uri": "https://localhost:8080/"
        },
        "id": "uwpVybNDzjME",
        "outputId": "f42d0c67-bb67-4c82-8525-62bfe645222e"
      },
      "source": [
        "from keras.layers import Input, Dense\n",
        "from sklearn.model_selection import cross_val_score\n",
        "from tensorflow.keras.models import Model\n",
        "\n",
        "inputs = Input(shape=(16, 1))\n",
        "\n",
        "h = Dense(32, kernel_initializer = 'he_uniform', activation='relu')(inputs)\n",
        "h = Dense(16, kernel_initializer = 'he_uniform', activation='relu')(h)\n",
        "outputs = Dense(1, activation='sigmoid')(h)\n",
        "\n",
        "model = Model(inputs=inputs, outputs=outputs)"
      ],
      "execution_count": 33,
      "outputs": []
    },
    {
      "cell_type": "markdown",
      "metadata": {
        "id": "wHhaiOZfcPR1"
      },
      "source": [
        "## Compila o modelo"
      ]
    },
    {
      "cell_type": "code",
      "metadata": {
        "id": "HWM1ThWlzjMF"
      },
      "source": [
        "model.compile(optimizer='adam', loss='binary_crossentropy', metrics=['accuracy'])"
      ],
      "execution_count": 35,
      "outputs": []
    },
    {
      "cell_type": "markdown",
      "metadata": {
        "id": "n2dOhpdZceL0"
      },
      "source": [
        "## Treina o modelo"
      ]
    },
    {
      "cell_type": "code",
      "metadata": {
        "colab": {
          "base_uri": "https://localhost:8080/"
        },
        "id": "M-OXJQ3vciV1",
        "outputId": "647238ae-dd91-4133-d7f7-277d69499cfa"
      },
      "source": [
        "history = model.fit(X_train, y_train, epochs=100, batch_size = 8, validation_data=(X_test, y_test))"
      ],
      "execution_count": 36,
      "outputs": [
        {
          "output_type": "stream",
          "name": "stdout",
          "text": [
            "Epoch 1/100\n",
            "22/22 [==============================] - 1s 9ms/step - loss: 0.7054 - accuracy: 0.4586 - val_loss: 0.6986 - val_accuracy: 0.5054\n",
            "Epoch 2/100\n",
            "22/22 [==============================] - 0s 2ms/step - loss: 0.6944 - accuracy: 0.5223 - val_loss: 0.6983 - val_accuracy: 0.4655\n",
            "Epoch 3/100\n",
            "22/22 [==============================] - 0s 1ms/step - loss: 0.6927 - accuracy: 0.5353 - val_loss: 0.7015 - val_accuracy: 0.4655\n",
            "Epoch 4/100\n",
            "22/22 [==============================] - 0s 2ms/step - loss: 0.6937 - accuracy: 0.5410 - val_loss: 0.7009 - val_accuracy: 0.4655\n",
            "Epoch 5/100\n",
            "22/22 [==============================] - 0s 2ms/step - loss: 0.6916 - accuracy: 0.5460 - val_loss: 0.6971 - val_accuracy: 0.4655\n",
            "Epoch 6/100\n",
            "22/22 [==============================] - 0s 2ms/step - loss: 0.6910 - accuracy: 0.5627 - val_loss: 0.6992 - val_accuracy: 0.4655\n",
            "Epoch 7/100\n",
            "22/22 [==============================] - 0s 1ms/step - loss: 0.6910 - accuracy: 0.5503 - val_loss: 0.7019 - val_accuracy: 0.4655\n",
            "Epoch 8/100\n",
            "22/22 [==============================] - 0s 1ms/step - loss: 0.6806 - accuracy: 0.6292 - val_loss: 0.7013 - val_accuracy: 0.4655\n",
            "Epoch 9/100\n",
            "22/22 [==============================] - 0s 2ms/step - loss: 0.6874 - accuracy: 0.5687 - val_loss: 0.6951 - val_accuracy: 0.4655\n",
            "Epoch 10/100\n",
            "22/22 [==============================] - 0s 1ms/step - loss: 0.6911 - accuracy: 0.5887 - val_loss: 0.6987 - val_accuracy: 0.4655\n",
            "Epoch 11/100\n",
            "22/22 [==============================] - 0s 1ms/step - loss: 0.6912 - accuracy: 0.5421 - val_loss: 0.7048 - val_accuracy: 0.4655\n",
            "Epoch 12/100\n",
            "22/22 [==============================] - 0s 1ms/step - loss: 0.6859 - accuracy: 0.5763 - val_loss: 0.6988 - val_accuracy: 0.4655\n",
            "Epoch 13/100\n",
            "22/22 [==============================] - 0s 1ms/step - loss: 0.6893 - accuracy: 0.5698 - val_loss: 0.7008 - val_accuracy: 0.4655\n",
            "Epoch 14/100\n",
            "22/22 [==============================] - 0s 2ms/step - loss: 0.6858 - accuracy: 0.5821 - val_loss: 0.6979 - val_accuracy: 0.4655\n",
            "Epoch 15/100\n",
            "22/22 [==============================] - 0s 1ms/step - loss: 0.6916 - accuracy: 0.5441 - val_loss: 0.7023 - val_accuracy: 0.4655\n",
            "Epoch 16/100\n",
            "22/22 [==============================] - 0s 1ms/step - loss: 0.6908 - accuracy: 0.5484 - val_loss: 0.7017 - val_accuracy: 0.4655\n",
            "Epoch 17/100\n",
            "22/22 [==============================] - 0s 1ms/step - loss: 0.6896 - accuracy: 0.5635 - val_loss: 0.7005 - val_accuracy: 0.4655\n",
            "Epoch 18/100\n",
            "22/22 [==============================] - 0s 1ms/step - loss: 0.6884 - accuracy: 0.5645 - val_loss: 0.6974 - val_accuracy: 0.4655\n",
            "Epoch 19/100\n",
            "22/22 [==============================] - 0s 1ms/step - loss: 0.6941 - accuracy: 0.5175 - val_loss: 0.7014 - val_accuracy: 0.4655\n",
            "Epoch 20/100\n",
            "22/22 [==============================] - 0s 1ms/step - loss: 0.6953 - accuracy: 0.5365 - val_loss: 0.7041 - val_accuracy: 0.4655\n",
            "Epoch 21/100\n",
            "22/22 [==============================] - 0s 1ms/step - loss: 0.6881 - accuracy: 0.5636 - val_loss: 0.7018 - val_accuracy: 0.4655\n",
            "Epoch 22/100\n",
            "22/22 [==============================] - 0s 1ms/step - loss: 0.6757 - accuracy: 0.6447 - val_loss: 0.7022 - val_accuracy: 0.4655\n",
            "Epoch 23/100\n",
            "22/22 [==============================] - 0s 1ms/step - loss: 0.6854 - accuracy: 0.5779 - val_loss: 0.6971 - val_accuracy: 0.4655\n",
            "Epoch 24/100\n",
            "22/22 [==============================] - 0s 1ms/step - loss: 0.6981 - accuracy: 0.4756 - val_loss: 0.7009 - val_accuracy: 0.4655\n",
            "Epoch 25/100\n",
            "22/22 [==============================] - 0s 1ms/step - loss: 0.6959 - accuracy: 0.5139 - val_loss: 0.7064 - val_accuracy: 0.4655\n",
            "Epoch 26/100\n",
            "22/22 [==============================] - 0s 1ms/step - loss: 0.7049 - accuracy: 0.4808 - val_loss: 0.7002 - val_accuracy: 0.4655\n",
            "Epoch 27/100\n",
            "22/22 [==============================] - 0s 1ms/step - loss: 0.6919 - accuracy: 0.5507 - val_loss: 0.7028 - val_accuracy: 0.4655\n",
            "Epoch 28/100\n",
            "22/22 [==============================] - 0s 1ms/step - loss: 0.6911 - accuracy: 0.5473 - val_loss: 0.7001 - val_accuracy: 0.4655\n",
            "Epoch 29/100\n",
            "22/22 [==============================] - 0s 1ms/step - loss: 0.6873 - accuracy: 0.5703 - val_loss: 0.7036 - val_accuracy: 0.4655\n",
            "Epoch 30/100\n",
            "22/22 [==============================] - 0s 1ms/step - loss: 0.6887 - accuracy: 0.5584 - val_loss: 0.7013 - val_accuracy: 0.4655\n",
            "Epoch 31/100\n",
            "22/22 [==============================] - 0s 1ms/step - loss: 0.6915 - accuracy: 0.5376 - val_loss: 0.7014 - val_accuracy: 0.4655\n",
            "Epoch 32/100\n",
            "22/22 [==============================] - 0s 1ms/step - loss: 0.6943 - accuracy: 0.5178 - val_loss: 0.7012 - val_accuracy: 0.4655\n",
            "Epoch 33/100\n",
            "22/22 [==============================] - 0s 1ms/step - loss: 0.6850 - accuracy: 0.5818 - val_loss: 0.7035 - val_accuracy: 0.4655\n",
            "Epoch 34/100\n",
            "22/22 [==============================] - 0s 1ms/step - loss: 0.6850 - accuracy: 0.5761 - val_loss: 0.6997 - val_accuracy: 0.4655\n",
            "Epoch 35/100\n",
            "22/22 [==============================] - 0s 1ms/step - loss: 0.6906 - accuracy: 0.5439 - val_loss: 0.6990 - val_accuracy: 0.4655\n",
            "Epoch 36/100\n",
            "22/22 [==============================] - 0s 1ms/step - loss: 0.6868 - accuracy: 0.5696 - val_loss: 0.7044 - val_accuracy: 0.4655\n",
            "Epoch 37/100\n",
            "22/22 [==============================] - 0s 1ms/step - loss: 0.6961 - accuracy: 0.5290 - val_loss: 0.7019 - val_accuracy: 0.4655\n",
            "Epoch 38/100\n",
            "22/22 [==============================] - 0s 1ms/step - loss: 0.6979 - accuracy: 0.4976 - val_loss: 0.6996 - val_accuracy: 0.4655\n",
            "Epoch 39/100\n",
            "22/22 [==============================] - 0s 1ms/step - loss: 0.6829 - accuracy: 0.6139 - val_loss: 0.7055 - val_accuracy: 0.4655\n",
            "Epoch 40/100\n",
            "22/22 [==============================] - 0s 1ms/step - loss: 0.6839 - accuracy: 0.5880 - val_loss: 0.7029 - val_accuracy: 0.4655\n",
            "Epoch 41/100\n",
            "22/22 [==============================] - 0s 1ms/step - loss: 0.6840 - accuracy: 0.5881 - val_loss: 0.7000 - val_accuracy: 0.4655\n",
            "Epoch 42/100\n",
            "22/22 [==============================] - 0s 1ms/step - loss: 0.6819 - accuracy: 0.6089 - val_loss: 0.7001 - val_accuracy: 0.4655\n",
            "Epoch 43/100\n",
            "22/22 [==============================] - 0s 1ms/step - loss: 0.6858 - accuracy: 0.5772 - val_loss: 0.7022 - val_accuracy: 0.4655\n",
            "Epoch 44/100\n",
            "22/22 [==============================] - 0s 1ms/step - loss: 0.6894 - accuracy: 0.5500 - val_loss: 0.6999 - val_accuracy: 0.4655\n",
            "Epoch 45/100\n",
            "22/22 [==============================] - 0s 2ms/step - loss: 0.6862 - accuracy: 0.5723 - val_loss: 0.7032 - val_accuracy: 0.4655\n",
            "Epoch 46/100\n",
            "22/22 [==============================] - 0s 2ms/step - loss: 0.6867 - accuracy: 0.5705 - val_loss: 0.7017 - val_accuracy: 0.4655\n",
            "Epoch 47/100\n",
            "22/22 [==============================] - 0s 1ms/step - loss: 0.6811 - accuracy: 0.6032 - val_loss: 0.7020 - val_accuracy: 0.4655\n",
            "Epoch 48/100\n",
            "22/22 [==============================] - 0s 1ms/step - loss: 0.6759 - accuracy: 0.6312 - val_loss: 0.7029 - val_accuracy: 0.4655\n",
            "Epoch 49/100\n",
            "22/22 [==============================] - 0s 1ms/step - loss: 0.6833 - accuracy: 0.5843 - val_loss: 0.6981 - val_accuracy: 0.4655\n",
            "Epoch 50/100\n",
            "22/22 [==============================] - 0s 2ms/step - loss: 0.6859 - accuracy: 0.5854 - val_loss: 0.7027 - val_accuracy: 0.4655\n",
            "Epoch 51/100\n",
            "22/22 [==============================] - 0s 2ms/step - loss: 0.6849 - accuracy: 0.5728 - val_loss: 0.7053 - val_accuracy: 0.4655\n",
            "Epoch 52/100\n",
            "22/22 [==============================] - 0s 1ms/step - loss: 0.7012 - accuracy: 0.4961 - val_loss: 0.6997 - val_accuracy: 0.4655\n",
            "Epoch 53/100\n",
            "22/22 [==============================] - 0s 1ms/step - loss: 0.6874 - accuracy: 0.5706 - val_loss: 0.7051 - val_accuracy: 0.4655\n",
            "Epoch 54/100\n",
            "22/22 [==============================] - 0s 2ms/step - loss: 0.6975 - accuracy: 0.5060 - val_loss: 0.7021 - val_accuracy: 0.4655\n",
            "Epoch 55/100\n",
            "22/22 [==============================] - 0s 1ms/step - loss: 0.6984 - accuracy: 0.4918 - val_loss: 0.7079 - val_accuracy: 0.4655\n",
            "Epoch 56/100\n",
            "22/22 [==============================] - 0s 1ms/step - loss: 0.6864 - accuracy: 0.5689 - val_loss: 0.7053 - val_accuracy: 0.4655\n",
            "Epoch 57/100\n",
            "22/22 [==============================] - 0s 1ms/step - loss: 0.6929 - accuracy: 0.5306 - val_loss: 0.7001 - val_accuracy: 0.4655\n",
            "Epoch 58/100\n",
            "22/22 [==============================] - 0s 1ms/step - loss: 0.6912 - accuracy: 0.5355 - val_loss: 0.7057 - val_accuracy: 0.4655\n",
            "Epoch 59/100\n",
            "22/22 [==============================] - 0s 1ms/step - loss: 0.6891 - accuracy: 0.5554 - val_loss: 0.6996 - val_accuracy: 0.4655\n",
            "Epoch 60/100\n",
            "22/22 [==============================] - 0s 1ms/step - loss: 0.6896 - accuracy: 0.5500 - val_loss: 0.7024 - val_accuracy: 0.4655\n",
            "Epoch 61/100\n",
            "22/22 [==============================] - 0s 1ms/step - loss: 0.6992 - accuracy: 0.4898 - val_loss: 0.7046 - val_accuracy: 0.4655\n",
            "Epoch 62/100\n",
            "22/22 [==============================] - 0s 1ms/step - loss: 0.6856 - accuracy: 0.5728 - val_loss: 0.7090 - val_accuracy: 0.4655\n",
            "Epoch 63/100\n",
            "22/22 [==============================] - 0s 1ms/step - loss: 0.6979 - accuracy: 0.5188 - val_loss: 0.7006 - val_accuracy: 0.4655\n",
            "Epoch 64/100\n",
            "22/22 [==============================] - 0s 2ms/step - loss: 0.6972 - accuracy: 0.4947 - val_loss: 0.7091 - val_accuracy: 0.4655\n",
            "Epoch 65/100\n",
            "22/22 [==============================] - 0s 2ms/step - loss: 0.7009 - accuracy: 0.5095 - val_loss: 0.7046 - val_accuracy: 0.4655\n",
            "Epoch 66/100\n",
            "22/22 [==============================] - 0s 1ms/step - loss: 0.6919 - accuracy: 0.5332 - val_loss: 0.7068 - val_accuracy: 0.4655\n",
            "Epoch 67/100\n",
            "22/22 [==============================] - 0s 2ms/step - loss: 0.6858 - accuracy: 0.5705 - val_loss: 0.7017 - val_accuracy: 0.4655\n",
            "Epoch 68/100\n",
            "22/22 [==============================] - 0s 1ms/step - loss: 0.6885 - accuracy: 0.5505 - val_loss: 0.7033 - val_accuracy: 0.4655\n",
            "Epoch 69/100\n",
            "22/22 [==============================] - 0s 2ms/step - loss: 0.6820 - accuracy: 0.5868 - val_loss: 0.7095 - val_accuracy: 0.4655\n",
            "Epoch 70/100\n",
            "22/22 [==============================] - 0s 1ms/step - loss: 0.6942 - accuracy: 0.5302 - val_loss: 0.6999 - val_accuracy: 0.4655\n",
            "Epoch 71/100\n",
            "22/22 [==============================] - 0s 1ms/step - loss: 0.6835 - accuracy: 0.5894 - val_loss: 0.7063 - val_accuracy: 0.4655\n",
            "Epoch 72/100\n",
            "22/22 [==============================] - 0s 1ms/step - loss: 0.6847 - accuracy: 0.5809 - val_loss: 0.7025 - val_accuracy: 0.4655\n",
            "Epoch 73/100\n",
            "22/22 [==============================] - 0s 1ms/step - loss: 0.6941 - accuracy: 0.5044 - val_loss: 0.7004 - val_accuracy: 0.4655\n",
            "Epoch 74/100\n",
            "22/22 [==============================] - 0s 1ms/step - loss: 0.6902 - accuracy: 0.5400 - val_loss: 0.7078 - val_accuracy: 0.4655\n",
            "Epoch 75/100\n",
            "22/22 [==============================] - 0s 2ms/step - loss: 0.6968 - accuracy: 0.5200 - val_loss: 0.7056 - val_accuracy: 0.4655\n",
            "Epoch 76/100\n",
            "22/22 [==============================] - 0s 1ms/step - loss: 0.6969 - accuracy: 0.5171 - val_loss: 0.7064 - val_accuracy: 0.4655\n",
            "Epoch 77/100\n",
            "22/22 [==============================] - 0s 2ms/step - loss: 0.6919 - accuracy: 0.5359 - val_loss: 0.7036 - val_accuracy: 0.4655\n",
            "Epoch 78/100\n",
            "22/22 [==============================] - 0s 1ms/step - loss: 0.6801 - accuracy: 0.6001 - val_loss: 0.7039 - val_accuracy: 0.4655\n",
            "Epoch 79/100\n",
            "22/22 [==============================] - 0s 1ms/step - loss: 0.6858 - accuracy: 0.5695 - val_loss: 0.7047 - val_accuracy: 0.4655\n",
            "Epoch 80/100\n",
            "22/22 [==============================] - 0s 1ms/step - loss: 0.7045 - accuracy: 0.4753 - val_loss: 0.7037 - val_accuracy: 0.4655\n",
            "Epoch 81/100\n",
            "22/22 [==============================] - 0s 2ms/step - loss: 0.6965 - accuracy: 0.5069 - val_loss: 0.7102 - val_accuracy: 0.4655\n",
            "Epoch 82/100\n",
            "22/22 [==============================] - 0s 2ms/step - loss: 0.6826 - accuracy: 0.5795 - val_loss: 0.7027 - val_accuracy: 0.4655\n",
            "Epoch 83/100\n",
            "22/22 [==============================] - 0s 1ms/step - loss: 0.6940 - accuracy: 0.5182 - val_loss: 0.7031 - val_accuracy: 0.4655\n",
            "Epoch 84/100\n",
            "22/22 [==============================] - 0s 2ms/step - loss: 0.6851 - accuracy: 0.5702 - val_loss: 0.7086 - val_accuracy: 0.4655\n",
            "Epoch 85/100\n",
            "22/22 [==============================] - 0s 1ms/step - loss: 0.6968 - accuracy: 0.5221 - val_loss: 0.7035 - val_accuracy: 0.4655\n",
            "Epoch 86/100\n",
            "22/22 [==============================] - 0s 1ms/step - loss: 0.6731 - accuracy: 0.6433 - val_loss: 0.7055 - val_accuracy: 0.4655\n",
            "Epoch 87/100\n",
            "22/22 [==============================] - 0s 1ms/step - loss: 0.6817 - accuracy: 0.5932 - val_loss: 0.7028 - val_accuracy: 0.4655\n",
            "Epoch 88/100\n",
            "22/22 [==============================] - 0s 2ms/step - loss: 0.6943 - accuracy: 0.5199 - val_loss: 0.7031 - val_accuracy: 0.4655\n",
            "Epoch 89/100\n",
            "22/22 [==============================] - 0s 2ms/step - loss: 0.6875 - accuracy: 0.5555 - val_loss: 0.7058 - val_accuracy: 0.4655\n",
            "Epoch 90/100\n",
            "22/22 [==============================] - 0s 1ms/step - loss: 0.6982 - accuracy: 0.5046 - val_loss: 0.7045 - val_accuracy: 0.4655\n",
            "Epoch 91/100\n",
            "22/22 [==============================] - 0s 1ms/step - loss: 0.6872 - accuracy: 0.5600 - val_loss: 0.7054 - val_accuracy: 0.4655\n",
            "Epoch 92/100\n",
            "22/22 [==============================] - 0s 2ms/step - loss: 0.6973 - accuracy: 0.5087 - val_loss: 0.7065 - val_accuracy: 0.4655\n",
            "Epoch 93/100\n",
            "22/22 [==============================] - 0s 1ms/step - loss: 0.7000 - accuracy: 0.4995 - val_loss: 0.7069 - val_accuracy: 0.4655\n",
            "Epoch 94/100\n",
            "22/22 [==============================] - 0s 2ms/step - loss: 0.6867 - accuracy: 0.5605 - val_loss: 0.7068 - val_accuracy: 0.4655\n",
            "Epoch 95/100\n",
            "22/22 [==============================] - 0s 1ms/step - loss: 0.6921 - accuracy: 0.5402 - val_loss: 0.7053 - val_accuracy: 0.4655\n",
            "Epoch 96/100\n",
            "22/22 [==============================] - 0s 1ms/step - loss: 0.7064 - accuracy: 0.4688 - val_loss: 0.7066 - val_accuracy: 0.4655\n",
            "Epoch 97/100\n",
            "22/22 [==============================] - 0s 1ms/step - loss: 0.6828 - accuracy: 0.5794 - val_loss: 0.7095 - val_accuracy: 0.4655\n",
            "Epoch 98/100\n",
            "22/22 [==============================] - 0s 2ms/step - loss: 0.6887 - accuracy: 0.5522 - val_loss: 0.7037 - val_accuracy: 0.4655\n",
            "Epoch 99/100\n",
            "22/22 [==============================] - 0s 1ms/step - loss: 0.6875 - accuracy: 0.5560 - val_loss: 0.7049 - val_accuracy: 0.4655\n",
            "Epoch 100/100\n",
            "22/22 [==============================] - 0s 2ms/step - loss: 0.6802 - accuracy: 0.5927 - val_loss: 0.7040 - val_accuracy: 0.4655\n"
          ]
        }
      ]
    },
    {
      "cell_type": "markdown",
      "metadata": {
        "id": "l48BhF4PlZkM"
      },
      "source": [
        "## Análise da função *loss* (erro/perda)\n",
        "Vamos observar o comportamento da função *loss* para os dados de treino e de validação/teste."
      ]
    },
    {
      "cell_type": "code",
      "metadata": {
        "colab": {
          "base_uri": "https://localhost:8080/",
          "height": 297
        },
        "id": "oscCHzuRldf7",
        "outputId": "a7a20aad-7a74-4dd2-a057-f1db1b15d429"
      },
      "source": [
        "import matplotlib.pyplot as plt\n",
        "plt.plot(history.history['loss'])\n",
        "plt.plot(history.history['val_loss'], '')\n",
        "plt.xlabel(\"Épocas\")\n",
        "plt.ylabel('Erro/loss')\n",
        "plt.title('Função erro/loss')\n",
        "plt.legend(['loss', 'val_loss'])\n",
        "plt.show()"
      ],
      "execution_count": 37,
      "outputs": [
        {
          "output_type": "display_data",
          "data": {
            "text/plain": "<Figure size 432x288 with 1 Axes>",
            "image/svg+xml": "<?xml version=\"1.0\" encoding=\"utf-8\" standalone=\"no\"?>\r\n<!DOCTYPE svg PUBLIC \"-//W3C//DTD SVG 1.1//EN\"\r\n  \"http://www.w3.org/Graphics/SVG/1.1/DTD/svg11.dtd\">\r\n<!-- Created with matplotlib (https://matplotlib.org/) -->\r\n<svg height=\"278.99pt\" version=\"1.1\" viewBox=\"0 0 398.50625 278.99\" width=\"398.50625pt\" xmlns=\"http://www.w3.org/2000/svg\" xmlns:xlink=\"http://www.w3.org/1999/xlink\">\r\n <metadata>\r\n  <rdf:RDF xmlns:cc=\"http://creativecommons.org/ns#\" xmlns:dc=\"http://purl.org/dc/elements/1.1/\" xmlns:rdf=\"http://www.w3.org/1999/02/22-rdf-syntax-ns#\">\r\n   <cc:Work>\r\n    <dc:type rdf:resource=\"http://purl.org/dc/dcmitype/StillImage\"/>\r\n    <dc:date>2021-06-05T21:21:54.901408</dc:date>\r\n    <dc:format>image/svg+xml</dc:format>\r\n    <dc:creator>\r\n     <cc:Agent>\r\n      <dc:title>Matplotlib v3.3.4, https://matplotlib.org/</dc:title>\r\n     </cc:Agent>\r\n    </dc:creator>\r\n   </cc:Work>\r\n  </rdf:RDF>\r\n </metadata>\r\n <defs>\r\n  <style type=\"text/css\">*{stroke-linecap:butt;stroke-linejoin:round;}</style>\r\n </defs>\r\n <g id=\"figure_1\">\r\n  <g id=\"patch_1\">\r\n   <path d=\"M 0 278.99 \r\nL 398.50625 278.99 \r\nL 398.50625 0 \r\nL 0 0 \r\nz\r\n\" style=\"fill:none;\"/>\r\n  </g>\r\n  <g id=\"axes_1\">\r\n   <g id=\"patch_2\">\r\n    <path d=\"M 56.50625 239.780625 \r\nL 391.30625 239.780625 \r\nL 391.30625 22.340625 \r\nL 56.50625 22.340625 \r\nz\r\n\" style=\"fill:#ffffff;\"/>\r\n   </g>\r\n   <g id=\"matplotlib.axis_1\">\r\n    <g id=\"xtick_1\">\r\n     <g id=\"line2d_1\">\r\n      <defs>\r\n       <path d=\"M 0 0 \r\nL 0 3.5 \r\n\" id=\"m701205fa45\" style=\"stroke:#000000;stroke-width:0.8;\"/>\r\n      </defs>\r\n      <g>\r\n       <use style=\"stroke:#000000;stroke-width:0.8;\" x=\"71.724432\" xlink:href=\"#m701205fa45\" y=\"239.780625\"/>\r\n      </g>\r\n     </g>\r\n     <g id=\"text_1\">\r\n      <!-- 0 -->\r\n      <g transform=\"translate(68.543182 254.379063)scale(0.1 -0.1)\">\r\n       <defs>\r\n        <path d=\"M 31.78125 66.40625 \r\nQ 24.171875 66.40625 20.328125 58.90625 \r\nQ 16.5 51.421875 16.5 36.375 \r\nQ 16.5 21.390625 20.328125 13.890625 \r\nQ 24.171875 6.390625 31.78125 6.390625 \r\nQ 39.453125 6.390625 43.28125 13.890625 \r\nQ 47.125 21.390625 47.125 36.375 \r\nQ 47.125 51.421875 43.28125 58.90625 \r\nQ 39.453125 66.40625 31.78125 66.40625 \r\nz\r\nM 31.78125 74.21875 \r\nQ 44.046875 74.21875 50.515625 64.515625 \r\nQ 56.984375 54.828125 56.984375 36.375 \r\nQ 56.984375 17.96875 50.515625 8.265625 \r\nQ 44.046875 -1.421875 31.78125 -1.421875 \r\nQ 19.53125 -1.421875 13.0625 8.265625 \r\nQ 6.59375 17.96875 6.59375 36.375 \r\nQ 6.59375 54.828125 13.0625 64.515625 \r\nQ 19.53125 74.21875 31.78125 74.21875 \r\nz\r\n\" id=\"DejaVuSans-48\"/>\r\n       </defs>\r\n       <use xlink:href=\"#DejaVuSans-48\"/>\r\n      </g>\r\n     </g>\r\n    </g>\r\n    <g id=\"xtick_2\">\r\n     <g id=\"line2d_2\">\r\n      <g>\r\n       <use style=\"stroke:#000000;stroke-width:0.8;\" x=\"133.212035\" xlink:href=\"#m701205fa45\" y=\"239.780625\"/>\r\n      </g>\r\n     </g>\r\n     <g id=\"text_2\">\r\n      <!-- 20 -->\r\n      <g transform=\"translate(126.849535 254.379063)scale(0.1 -0.1)\">\r\n       <defs>\r\n        <path d=\"M 19.1875 8.296875 \r\nL 53.609375 8.296875 \r\nL 53.609375 0 \r\nL 7.328125 0 \r\nL 7.328125 8.296875 \r\nQ 12.9375 14.109375 22.625 23.890625 \r\nQ 32.328125 33.6875 34.8125 36.53125 \r\nQ 39.546875 41.84375 41.421875 45.53125 \r\nQ 43.3125 49.21875 43.3125 52.78125 \r\nQ 43.3125 58.59375 39.234375 62.25 \r\nQ 35.15625 65.921875 28.609375 65.921875 \r\nQ 23.96875 65.921875 18.8125 64.3125 \r\nQ 13.671875 62.703125 7.8125 59.421875 \r\nL 7.8125 69.390625 \r\nQ 13.765625 71.78125 18.9375 73 \r\nQ 24.125 74.21875 28.421875 74.21875 \r\nQ 39.75 74.21875 46.484375 68.546875 \r\nQ 53.21875 62.890625 53.21875 53.421875 \r\nQ 53.21875 48.921875 51.53125 44.890625 \r\nQ 49.859375 40.875 45.40625 35.40625 \r\nQ 44.1875 33.984375 37.640625 27.21875 \r\nQ 31.109375 20.453125 19.1875 8.296875 \r\nz\r\n\" id=\"DejaVuSans-50\"/>\r\n       </defs>\r\n       <use xlink:href=\"#DejaVuSans-50\"/>\r\n       <use x=\"63.623047\" xlink:href=\"#DejaVuSans-48\"/>\r\n      </g>\r\n     </g>\r\n    </g>\r\n    <g id=\"xtick_3\">\r\n     <g id=\"line2d_3\">\r\n      <g>\r\n       <use style=\"stroke:#000000;stroke-width:0.8;\" x=\"194.699638\" xlink:href=\"#m701205fa45\" y=\"239.780625\"/>\r\n      </g>\r\n     </g>\r\n     <g id=\"text_3\">\r\n      <!-- 40 -->\r\n      <g transform=\"translate(188.337138 254.379063)scale(0.1 -0.1)\">\r\n       <defs>\r\n        <path d=\"M 37.796875 64.3125 \r\nL 12.890625 25.390625 \r\nL 37.796875 25.390625 \r\nz\r\nM 35.203125 72.90625 \r\nL 47.609375 72.90625 \r\nL 47.609375 25.390625 \r\nL 58.015625 25.390625 \r\nL 58.015625 17.1875 \r\nL 47.609375 17.1875 \r\nL 47.609375 0 \r\nL 37.796875 0 \r\nL 37.796875 17.1875 \r\nL 4.890625 17.1875 \r\nL 4.890625 26.703125 \r\nz\r\n\" id=\"DejaVuSans-52\"/>\r\n       </defs>\r\n       <use xlink:href=\"#DejaVuSans-52\"/>\r\n       <use x=\"63.623047\" xlink:href=\"#DejaVuSans-48\"/>\r\n      </g>\r\n     </g>\r\n    </g>\r\n    <g id=\"xtick_4\">\r\n     <g id=\"line2d_4\">\r\n      <g>\r\n       <use style=\"stroke:#000000;stroke-width:0.8;\" x=\"256.187242\" xlink:href=\"#m701205fa45\" y=\"239.780625\"/>\r\n      </g>\r\n     </g>\r\n     <g id=\"text_4\">\r\n      <!-- 60 -->\r\n      <g transform=\"translate(249.824742 254.379063)scale(0.1 -0.1)\">\r\n       <defs>\r\n        <path d=\"M 33.015625 40.375 \r\nQ 26.375 40.375 22.484375 35.828125 \r\nQ 18.609375 31.296875 18.609375 23.390625 \r\nQ 18.609375 15.53125 22.484375 10.953125 \r\nQ 26.375 6.390625 33.015625 6.390625 \r\nQ 39.65625 6.390625 43.53125 10.953125 \r\nQ 47.40625 15.53125 47.40625 23.390625 \r\nQ 47.40625 31.296875 43.53125 35.828125 \r\nQ 39.65625 40.375 33.015625 40.375 \r\nz\r\nM 52.59375 71.296875 \r\nL 52.59375 62.3125 \r\nQ 48.875 64.0625 45.09375 64.984375 \r\nQ 41.3125 65.921875 37.59375 65.921875 \r\nQ 27.828125 65.921875 22.671875 59.328125 \r\nQ 17.53125 52.734375 16.796875 39.40625 \r\nQ 19.671875 43.65625 24.015625 45.921875 \r\nQ 28.375 48.1875 33.59375 48.1875 \r\nQ 44.578125 48.1875 50.953125 41.515625 \r\nQ 57.328125 34.859375 57.328125 23.390625 \r\nQ 57.328125 12.15625 50.6875 5.359375 \r\nQ 44.046875 -1.421875 33.015625 -1.421875 \r\nQ 20.359375 -1.421875 13.671875 8.265625 \r\nQ 6.984375 17.96875 6.984375 36.375 \r\nQ 6.984375 53.65625 15.1875 63.9375 \r\nQ 23.390625 74.21875 37.203125 74.21875 \r\nQ 40.921875 74.21875 44.703125 73.484375 \r\nQ 48.484375 72.75 52.59375 71.296875 \r\nz\r\n\" id=\"DejaVuSans-54\"/>\r\n       </defs>\r\n       <use xlink:href=\"#DejaVuSans-54\"/>\r\n       <use x=\"63.623047\" xlink:href=\"#DejaVuSans-48\"/>\r\n      </g>\r\n     </g>\r\n    </g>\r\n    <g id=\"xtick_5\">\r\n     <g id=\"line2d_5\">\r\n      <g>\r\n       <use style=\"stroke:#000000;stroke-width:0.8;\" x=\"317.674845\" xlink:href=\"#m701205fa45\" y=\"239.780625\"/>\r\n      </g>\r\n     </g>\r\n     <g id=\"text_5\">\r\n      <!-- 80 -->\r\n      <g transform=\"translate(311.312345 254.379063)scale(0.1 -0.1)\">\r\n       <defs>\r\n        <path d=\"M 31.78125 34.625 \r\nQ 24.75 34.625 20.71875 30.859375 \r\nQ 16.703125 27.09375 16.703125 20.515625 \r\nQ 16.703125 13.921875 20.71875 10.15625 \r\nQ 24.75 6.390625 31.78125 6.390625 \r\nQ 38.8125 6.390625 42.859375 10.171875 \r\nQ 46.921875 13.96875 46.921875 20.515625 \r\nQ 46.921875 27.09375 42.890625 30.859375 \r\nQ 38.875 34.625 31.78125 34.625 \r\nz\r\nM 21.921875 38.8125 \r\nQ 15.578125 40.375 12.03125 44.71875 \r\nQ 8.5 49.078125 8.5 55.328125 \r\nQ 8.5 64.0625 14.71875 69.140625 \r\nQ 20.953125 74.21875 31.78125 74.21875 \r\nQ 42.671875 74.21875 48.875 69.140625 \r\nQ 55.078125 64.0625 55.078125 55.328125 \r\nQ 55.078125 49.078125 51.53125 44.71875 \r\nQ 48 40.375 41.703125 38.8125 \r\nQ 48.828125 37.15625 52.796875 32.3125 \r\nQ 56.78125 27.484375 56.78125 20.515625 \r\nQ 56.78125 9.90625 50.3125 4.234375 \r\nQ 43.84375 -1.421875 31.78125 -1.421875 \r\nQ 19.734375 -1.421875 13.25 4.234375 \r\nQ 6.78125 9.90625 6.78125 20.515625 \r\nQ 6.78125 27.484375 10.78125 32.3125 \r\nQ 14.796875 37.15625 21.921875 38.8125 \r\nz\r\nM 18.3125 54.390625 \r\nQ 18.3125 48.734375 21.84375 45.5625 \r\nQ 25.390625 42.390625 31.78125 42.390625 \r\nQ 38.140625 42.390625 41.71875 45.5625 \r\nQ 45.3125 48.734375 45.3125 54.390625 \r\nQ 45.3125 60.0625 41.71875 63.234375 \r\nQ 38.140625 66.40625 31.78125 66.40625 \r\nQ 25.390625 66.40625 21.84375 63.234375 \r\nQ 18.3125 60.0625 18.3125 54.390625 \r\nz\r\n\" id=\"DejaVuSans-56\"/>\r\n       </defs>\r\n       <use xlink:href=\"#DejaVuSans-56\"/>\r\n       <use x=\"63.623047\" xlink:href=\"#DejaVuSans-48\"/>\r\n      </g>\r\n     </g>\r\n    </g>\r\n    <g id=\"xtick_6\">\r\n     <g id=\"line2d_6\">\r\n      <g>\r\n       <use style=\"stroke:#000000;stroke-width:0.8;\" x=\"379.162448\" xlink:href=\"#m701205fa45\" y=\"239.780625\"/>\r\n      </g>\r\n     </g>\r\n     <g id=\"text_6\">\r\n      <!-- 100 -->\r\n      <g transform=\"translate(369.618698 254.379063)scale(0.1 -0.1)\">\r\n       <defs>\r\n        <path d=\"M 12.40625 8.296875 \r\nL 28.515625 8.296875 \r\nL 28.515625 63.921875 \r\nL 10.984375 60.40625 \r\nL 10.984375 69.390625 \r\nL 28.421875 72.90625 \r\nL 38.28125 72.90625 \r\nL 38.28125 8.296875 \r\nL 54.390625 8.296875 \r\nL 54.390625 0 \r\nL 12.40625 0 \r\nz\r\n\" id=\"DejaVuSans-49\"/>\r\n       </defs>\r\n       <use xlink:href=\"#DejaVuSans-49\"/>\r\n       <use x=\"63.623047\" xlink:href=\"#DejaVuSans-48\"/>\r\n       <use x=\"127.246094\" xlink:href=\"#DejaVuSans-48\"/>\r\n      </g>\r\n     </g>\r\n    </g>\r\n    <g id=\"text_7\">\r\n     <!-- Épocas -->\r\n     <g transform=\"translate(206.095313 269.710312)scale(0.1 -0.1)\">\r\n      <defs>\r\n       <path d=\"M 9.8125 72.90625 \r\nL 55.90625 72.90625 \r\nL 55.90625 64.59375 \r\nL 19.671875 64.59375 \r\nL 19.671875 43.015625 \r\nL 54.390625 43.015625 \r\nL 54.390625 34.71875 \r\nL 19.671875 34.71875 \r\nL 19.671875 8.296875 \r\nL 56.78125 8.296875 \r\nL 56.78125 0 \r\nL 9.8125 0 \r\nz\r\nM 35.4375 92.515625 \r\nL 44.46875 92.515625 \r\nL 33.34375 79.625 \r\nL 25.859375 79.625 \r\nz\r\n\" id=\"DejaVuSans-201\"/>\r\n       <path d=\"M 18.109375 8.203125 \r\nL 18.109375 -20.796875 \r\nL 9.078125 -20.796875 \r\nL 9.078125 54.6875 \r\nL 18.109375 54.6875 \r\nL 18.109375 46.390625 \r\nQ 20.953125 51.265625 25.265625 53.625 \r\nQ 29.59375 56 35.59375 56 \r\nQ 45.5625 56 51.78125 48.09375 \r\nQ 58.015625 40.1875 58.015625 27.296875 \r\nQ 58.015625 14.40625 51.78125 6.484375 \r\nQ 45.5625 -1.421875 35.59375 -1.421875 \r\nQ 29.59375 -1.421875 25.265625 0.953125 \r\nQ 20.953125 3.328125 18.109375 8.203125 \r\nz\r\nM 48.6875 27.296875 \r\nQ 48.6875 37.203125 44.609375 42.84375 \r\nQ 40.53125 48.484375 33.40625 48.484375 \r\nQ 26.265625 48.484375 22.1875 42.84375 \r\nQ 18.109375 37.203125 18.109375 27.296875 \r\nQ 18.109375 17.390625 22.1875 11.75 \r\nQ 26.265625 6.109375 33.40625 6.109375 \r\nQ 40.53125 6.109375 44.609375 11.75 \r\nQ 48.6875 17.390625 48.6875 27.296875 \r\nz\r\n\" id=\"DejaVuSans-112\"/>\r\n       <path d=\"M 30.609375 48.390625 \r\nQ 23.390625 48.390625 19.1875 42.75 \r\nQ 14.984375 37.109375 14.984375 27.296875 \r\nQ 14.984375 17.484375 19.15625 11.84375 \r\nQ 23.34375 6.203125 30.609375 6.203125 \r\nQ 37.796875 6.203125 41.984375 11.859375 \r\nQ 46.1875 17.53125 46.1875 27.296875 \r\nQ 46.1875 37.015625 41.984375 42.703125 \r\nQ 37.796875 48.390625 30.609375 48.390625 \r\nz\r\nM 30.609375 56 \r\nQ 42.328125 56 49.015625 48.375 \r\nQ 55.71875 40.765625 55.71875 27.296875 \r\nQ 55.71875 13.875 49.015625 6.21875 \r\nQ 42.328125 -1.421875 30.609375 -1.421875 \r\nQ 18.84375 -1.421875 12.171875 6.21875 \r\nQ 5.515625 13.875 5.515625 27.296875 \r\nQ 5.515625 40.765625 12.171875 48.375 \r\nQ 18.84375 56 30.609375 56 \r\nz\r\n\" id=\"DejaVuSans-111\"/>\r\n       <path d=\"M 48.78125 52.59375 \r\nL 48.78125 44.1875 \r\nQ 44.96875 46.296875 41.140625 47.34375 \r\nQ 37.3125 48.390625 33.40625 48.390625 \r\nQ 24.65625 48.390625 19.8125 42.84375 \r\nQ 14.984375 37.3125 14.984375 27.296875 \r\nQ 14.984375 17.28125 19.8125 11.734375 \r\nQ 24.65625 6.203125 33.40625 6.203125 \r\nQ 37.3125 6.203125 41.140625 7.25 \r\nQ 44.96875 8.296875 48.78125 10.40625 \r\nL 48.78125 2.09375 \r\nQ 45.015625 0.34375 40.984375 -0.53125 \r\nQ 36.96875 -1.421875 32.421875 -1.421875 \r\nQ 20.0625 -1.421875 12.78125 6.34375 \r\nQ 5.515625 14.109375 5.515625 27.296875 \r\nQ 5.515625 40.671875 12.859375 48.328125 \r\nQ 20.21875 56 33.015625 56 \r\nQ 37.15625 56 41.109375 55.140625 \r\nQ 45.0625 54.296875 48.78125 52.59375 \r\nz\r\n\" id=\"DejaVuSans-99\"/>\r\n       <path d=\"M 34.28125 27.484375 \r\nQ 23.390625 27.484375 19.1875 25 \r\nQ 14.984375 22.515625 14.984375 16.5 \r\nQ 14.984375 11.71875 18.140625 8.90625 \r\nQ 21.296875 6.109375 26.703125 6.109375 \r\nQ 34.1875 6.109375 38.703125 11.40625 \r\nQ 43.21875 16.703125 43.21875 25.484375 \r\nL 43.21875 27.484375 \r\nz\r\nM 52.203125 31.203125 \r\nL 52.203125 0 \r\nL 43.21875 0 \r\nL 43.21875 8.296875 \r\nQ 40.140625 3.328125 35.546875 0.953125 \r\nQ 30.953125 -1.421875 24.3125 -1.421875 \r\nQ 15.921875 -1.421875 10.953125 3.296875 \r\nQ 6 8.015625 6 15.921875 \r\nQ 6 25.140625 12.171875 29.828125 \r\nQ 18.359375 34.515625 30.609375 34.515625 \r\nL 43.21875 34.515625 \r\nL 43.21875 35.40625 \r\nQ 43.21875 41.609375 39.140625 45 \r\nQ 35.0625 48.390625 27.6875 48.390625 \r\nQ 23 48.390625 18.546875 47.265625 \r\nQ 14.109375 46.140625 10.015625 43.890625 \r\nL 10.015625 52.203125 \r\nQ 14.9375 54.109375 19.578125 55.046875 \r\nQ 24.21875 56 28.609375 56 \r\nQ 40.484375 56 46.34375 49.84375 \r\nQ 52.203125 43.703125 52.203125 31.203125 \r\nz\r\n\" id=\"DejaVuSans-97\"/>\r\n       <path d=\"M 44.28125 53.078125 \r\nL 44.28125 44.578125 \r\nQ 40.484375 46.53125 36.375 47.5 \r\nQ 32.28125 48.484375 27.875 48.484375 \r\nQ 21.1875 48.484375 17.84375 46.4375 \r\nQ 14.5 44.390625 14.5 40.28125 \r\nQ 14.5 37.15625 16.890625 35.375 \r\nQ 19.28125 33.59375 26.515625 31.984375 \r\nL 29.59375 31.296875 \r\nQ 39.15625 29.25 43.1875 25.515625 \r\nQ 47.21875 21.78125 47.21875 15.09375 \r\nQ 47.21875 7.46875 41.1875 3.015625 \r\nQ 35.15625 -1.421875 24.609375 -1.421875 \r\nQ 20.21875 -1.421875 15.453125 -0.5625 \r\nQ 10.6875 0.296875 5.421875 2 \r\nL 5.421875 11.28125 \r\nQ 10.40625 8.6875 15.234375 7.390625 \r\nQ 20.0625 6.109375 24.8125 6.109375 \r\nQ 31.15625 6.109375 34.5625 8.28125 \r\nQ 37.984375 10.453125 37.984375 14.40625 \r\nQ 37.984375 18.0625 35.515625 20.015625 \r\nQ 33.0625 21.96875 24.703125 23.78125 \r\nL 21.578125 24.515625 \r\nQ 13.234375 26.265625 9.515625 29.90625 \r\nQ 5.8125 33.546875 5.8125 39.890625 \r\nQ 5.8125 47.609375 11.28125 51.796875 \r\nQ 16.75 56 26.8125 56 \r\nQ 31.78125 56 36.171875 55.265625 \r\nQ 40.578125 54.546875 44.28125 53.078125 \r\nz\r\n\" id=\"DejaVuSans-115\"/>\r\n      </defs>\r\n      <use xlink:href=\"#DejaVuSans-201\"/>\r\n      <use x=\"63.183594\" xlink:href=\"#DejaVuSans-112\"/>\r\n      <use x=\"126.660156\" xlink:href=\"#DejaVuSans-111\"/>\r\n      <use x=\"187.841797\" xlink:href=\"#DejaVuSans-99\"/>\r\n      <use x=\"242.822266\" xlink:href=\"#DejaVuSans-97\"/>\r\n      <use x=\"304.101562\" xlink:href=\"#DejaVuSans-115\"/>\r\n     </g>\r\n    </g>\r\n   </g>\r\n   <g id=\"matplotlib.axis_2\">\r\n    <g id=\"ytick_1\">\r\n     <g id=\"line2d_7\">\r\n      <defs>\r\n       <path d=\"M 0 0 \r\nL -3.5 0 \r\n\" id=\"me3d5737075\" style=\"stroke:#000000;stroke-width:0.8;\"/>\r\n      </defs>\r\n      <g>\r\n       <use style=\"stroke:#000000;stroke-width:0.8;\" x=\"56.50625\" xlink:href=\"#me3d5737075\" y=\"205.516552\"/>\r\n      </g>\r\n     </g>\r\n     <g id=\"text_8\">\r\n      <!-- 0.690 -->\r\n      <g transform=\"translate(20.878125 209.315771)scale(0.1 -0.1)\">\r\n       <defs>\r\n        <path d=\"M 10.6875 12.40625 \r\nL 21 12.40625 \r\nL 21 0 \r\nL 10.6875 0 \r\nz\r\n\" id=\"DejaVuSans-46\"/>\r\n        <path d=\"M 10.984375 1.515625 \r\nL 10.984375 10.5 \r\nQ 14.703125 8.734375 18.5 7.8125 \r\nQ 22.3125 6.890625 25.984375 6.890625 \r\nQ 35.75 6.890625 40.890625 13.453125 \r\nQ 46.046875 20.015625 46.78125 33.40625 \r\nQ 43.953125 29.203125 39.59375 26.953125 \r\nQ 35.25 24.703125 29.984375 24.703125 \r\nQ 19.046875 24.703125 12.671875 31.3125 \r\nQ 6.296875 37.9375 6.296875 49.421875 \r\nQ 6.296875 60.640625 12.9375 67.421875 \r\nQ 19.578125 74.21875 30.609375 74.21875 \r\nQ 43.265625 74.21875 49.921875 64.515625 \r\nQ 56.59375 54.828125 56.59375 36.375 \r\nQ 56.59375 19.140625 48.40625 8.859375 \r\nQ 40.234375 -1.421875 26.421875 -1.421875 \r\nQ 22.703125 -1.421875 18.890625 -0.6875 \r\nQ 15.09375 0.046875 10.984375 1.515625 \r\nz\r\nM 30.609375 32.421875 \r\nQ 37.25 32.421875 41.125 36.953125 \r\nQ 45.015625 41.5 45.015625 49.421875 \r\nQ 45.015625 57.28125 41.125 61.84375 \r\nQ 37.25 66.40625 30.609375 66.40625 \r\nQ 23.96875 66.40625 20.09375 61.84375 \r\nQ 16.21875 57.28125 16.21875 49.421875 \r\nQ 16.21875 41.5 20.09375 36.953125 \r\nQ 23.96875 32.421875 30.609375 32.421875 \r\nz\r\n\" id=\"DejaVuSans-57\"/>\r\n       </defs>\r\n       <use xlink:href=\"#DejaVuSans-48\"/>\r\n       <use x=\"63.623047\" xlink:href=\"#DejaVuSans-46\"/>\r\n       <use x=\"95.410156\" xlink:href=\"#DejaVuSans-54\"/>\r\n       <use x=\"159.033203\" xlink:href=\"#DejaVuSans-57\"/>\r\n       <use x=\"222.65625\" xlink:href=\"#DejaVuSans-48\"/>\r\n      </g>\r\n     </g>\r\n    </g>\r\n    <g id=\"ytick_2\">\r\n     <g id=\"line2d_8\">\r\n      <g>\r\n       <use style=\"stroke:#000000;stroke-width:0.8;\" x=\"56.50625\" xlink:href=\"#me3d5737075\" y=\"162.654191\"/>\r\n      </g>\r\n     </g>\r\n     <g id=\"text_9\">\r\n      <!-- 0.695 -->\r\n      <g transform=\"translate(20.878125 166.453409)scale(0.1 -0.1)\">\r\n       <defs>\r\n        <path d=\"M 10.796875 72.90625 \r\nL 49.515625 72.90625 \r\nL 49.515625 64.59375 \r\nL 19.828125 64.59375 \r\nL 19.828125 46.734375 \r\nQ 21.96875 47.46875 24.109375 47.828125 \r\nQ 26.265625 48.1875 28.421875 48.1875 \r\nQ 40.625 48.1875 47.75 41.5 \r\nQ 54.890625 34.8125 54.890625 23.390625 \r\nQ 54.890625 11.625 47.5625 5.09375 \r\nQ 40.234375 -1.421875 26.90625 -1.421875 \r\nQ 22.3125 -1.421875 17.546875 -0.640625 \r\nQ 12.796875 0.140625 7.71875 1.703125 \r\nL 7.71875 11.625 \r\nQ 12.109375 9.234375 16.796875 8.0625 \r\nQ 21.484375 6.890625 26.703125 6.890625 \r\nQ 35.15625 6.890625 40.078125 11.328125 \r\nQ 45.015625 15.765625 45.015625 23.390625 \r\nQ 45.015625 31 40.078125 35.4375 \r\nQ 35.15625 39.890625 26.703125 39.890625 \r\nQ 22.75 39.890625 18.8125 39.015625 \r\nQ 14.890625 38.140625 10.796875 36.28125 \r\nz\r\n\" id=\"DejaVuSans-53\"/>\r\n       </defs>\r\n       <use xlink:href=\"#DejaVuSans-48\"/>\r\n       <use x=\"63.623047\" xlink:href=\"#DejaVuSans-46\"/>\r\n       <use x=\"95.410156\" xlink:href=\"#DejaVuSans-54\"/>\r\n       <use x=\"159.033203\" xlink:href=\"#DejaVuSans-57\"/>\r\n       <use x=\"222.65625\" xlink:href=\"#DejaVuSans-53\"/>\r\n      </g>\r\n     </g>\r\n    </g>\r\n    <g id=\"ytick_3\">\r\n     <g id=\"line2d_9\">\r\n      <g>\r\n       <use style=\"stroke:#000000;stroke-width:0.8;\" x=\"56.50625\" xlink:href=\"#me3d5737075\" y=\"119.791829\"/>\r\n      </g>\r\n     </g>\r\n     <g id=\"text_10\">\r\n      <!-- 0.700 -->\r\n      <g transform=\"translate(20.878125 123.591048)scale(0.1 -0.1)\">\r\n       <defs>\r\n        <path d=\"M 8.203125 72.90625 \r\nL 55.078125 72.90625 \r\nL 55.078125 68.703125 \r\nL 28.609375 0 \r\nL 18.3125 0 \r\nL 43.21875 64.59375 \r\nL 8.203125 64.59375 \r\nz\r\n\" id=\"DejaVuSans-55\"/>\r\n       </defs>\r\n       <use xlink:href=\"#DejaVuSans-48\"/>\r\n       <use x=\"63.623047\" xlink:href=\"#DejaVuSans-46\"/>\r\n       <use x=\"95.410156\" xlink:href=\"#DejaVuSans-55\"/>\r\n       <use x=\"159.033203\" xlink:href=\"#DejaVuSans-48\"/>\r\n       <use x=\"222.65625\" xlink:href=\"#DejaVuSans-48\"/>\r\n      </g>\r\n     </g>\r\n    </g>\r\n    <g id=\"ytick_4\">\r\n     <g id=\"line2d_10\">\r\n      <g>\r\n       <use style=\"stroke:#000000;stroke-width:0.8;\" x=\"56.50625\" xlink:href=\"#me3d5737075\" y=\"76.929468\"/>\r\n      </g>\r\n     </g>\r\n     <g id=\"text_11\">\r\n      <!-- 0.705 -->\r\n      <g transform=\"translate(20.878125 80.728687)scale(0.1 -0.1)\">\r\n       <use xlink:href=\"#DejaVuSans-48\"/>\r\n       <use x=\"63.623047\" xlink:href=\"#DejaVuSans-46\"/>\r\n       <use x=\"95.410156\" xlink:href=\"#DejaVuSans-55\"/>\r\n       <use x=\"159.033203\" xlink:href=\"#DejaVuSans-48\"/>\r\n       <use x=\"222.65625\" xlink:href=\"#DejaVuSans-53\"/>\r\n      </g>\r\n     </g>\r\n    </g>\r\n    <g id=\"ytick_5\">\r\n     <g id=\"line2d_11\">\r\n      <g>\r\n       <use style=\"stroke:#000000;stroke-width:0.8;\" x=\"56.50625\" xlink:href=\"#me3d5737075\" y=\"34.067107\"/>\r\n      </g>\r\n     </g>\r\n     <g id=\"text_12\">\r\n      <!-- 0.710 -->\r\n      <g transform=\"translate(20.878125 37.866326)scale(0.1 -0.1)\">\r\n       <use xlink:href=\"#DejaVuSans-48\"/>\r\n       <use x=\"63.623047\" xlink:href=\"#DejaVuSans-46\"/>\r\n       <use x=\"95.410156\" xlink:href=\"#DejaVuSans-55\"/>\r\n       <use x=\"159.033203\" xlink:href=\"#DejaVuSans-49\"/>\r\n       <use x=\"222.65625\" xlink:href=\"#DejaVuSans-48\"/>\r\n      </g>\r\n     </g>\r\n    </g>\r\n    <g id=\"text_13\">\r\n     <!-- Erro/loss -->\r\n     <g transform=\"translate(14.798437 152.5325)rotate(-90)scale(0.1 -0.1)\">\r\n      <defs>\r\n       <path d=\"M 9.8125 72.90625 \r\nL 55.90625 72.90625 \r\nL 55.90625 64.59375 \r\nL 19.671875 64.59375 \r\nL 19.671875 43.015625 \r\nL 54.390625 43.015625 \r\nL 54.390625 34.71875 \r\nL 19.671875 34.71875 \r\nL 19.671875 8.296875 \r\nL 56.78125 8.296875 \r\nL 56.78125 0 \r\nL 9.8125 0 \r\nz\r\n\" id=\"DejaVuSans-69\"/>\r\n       <path d=\"M 41.109375 46.296875 \r\nQ 39.59375 47.171875 37.8125 47.578125 \r\nQ 36.03125 48 33.890625 48 \r\nQ 26.265625 48 22.1875 43.046875 \r\nQ 18.109375 38.09375 18.109375 28.8125 \r\nL 18.109375 0 \r\nL 9.078125 0 \r\nL 9.078125 54.6875 \r\nL 18.109375 54.6875 \r\nL 18.109375 46.1875 \r\nQ 20.953125 51.171875 25.484375 53.578125 \r\nQ 30.03125 56 36.53125 56 \r\nQ 37.453125 56 38.578125 55.875 \r\nQ 39.703125 55.765625 41.0625 55.515625 \r\nz\r\n\" id=\"DejaVuSans-114\"/>\r\n       <path d=\"M 25.390625 72.90625 \r\nL 33.6875 72.90625 \r\nL 8.296875 -9.28125 \r\nL 0 -9.28125 \r\nz\r\n\" id=\"DejaVuSans-47\"/>\r\n       <path d=\"M 9.421875 75.984375 \r\nL 18.40625 75.984375 \r\nL 18.40625 0 \r\nL 9.421875 0 \r\nz\r\n\" id=\"DejaVuSans-108\"/>\r\n      </defs>\r\n      <use xlink:href=\"#DejaVuSans-69\"/>\r\n      <use x=\"63.183594\" xlink:href=\"#DejaVuSans-114\"/>\r\n      <use x=\"102.546875\" xlink:href=\"#DejaVuSans-114\"/>\r\n      <use x=\"141.410156\" xlink:href=\"#DejaVuSans-111\"/>\r\n      <use x=\"202.591797\" xlink:href=\"#DejaVuSans-47\"/>\r\n      <use x=\"236.283203\" xlink:href=\"#DejaVuSans-108\"/>\r\n      <use x=\"264.066406\" xlink:href=\"#DejaVuSans-111\"/>\r\n      <use x=\"325.248047\" xlink:href=\"#DejaVuSans-115\"/>\r\n      <use x=\"377.347656\" xlink:href=\"#DejaVuSans-115\"/>\r\n     </g>\r\n    </g>\r\n   </g>\r\n   <g id=\"line2d_12\">\r\n    <path clip-path=\"url(#pf3f33a1d8c)\" d=\"M 71.724432 149.815892 \r\nL 74.798812 196.089887 \r\nL 77.873192 200.517348 \r\nL 80.947572 199.263965 \r\nL 84.021952 194.428247 \r\nL 87.096333 185.129302 \r\nL 90.170713 193.653122 \r\nL 93.245093 178.297267 \r\nL 96.319473 201.187726 \r\nL 99.393853 192.36295 \r\nL 102.468233 201.437585 \r\nL 105.542614 210.484117 \r\nL 108.616994 191.726295 \r\nL 111.691374 211.142233 \r\nL 114.765754 194.658179 \r\nL 117.840134 207.995746 \r\nL 120.914514 192.445726 \r\nL 123.988895 209.190369 \r\nL 127.063275 207.562964 \r\nL 130.137655 186.316771 \r\nL 133.212035 207.11332 \r\nL 136.286415 201.091666 \r\nL 139.360795 214.100175 \r\nL 142.435176 193.154937 \r\nL 145.509556 212.752776 \r\nL 148.583936 189.319167 \r\nL 151.658316 203.537627 \r\nL 154.732696 204.460931 \r\nL 157.807076 215.036252 \r\nL 160.881457 217.06987 \r\nL 163.955837 215.864006 \r\nL 167.030217 212.79774 \r\nL 170.104597 215.419983 \r\nL 173.178977 215.444509 \r\nL 176.253357 211.315959 \r\nL 179.327738 210.89595 \r\nL 182.402118 211.345083 \r\nL 185.476498 189.876623 \r\nL 188.550878 167.318287 \r\nL 191.625258 206.382137 \r\nL 194.699638 221.692006 \r\nL 197.774019 211.308294 \r\nL 200.848399 216.118464 \r\nL 203.922779 212.500362 \r\nL 206.997159 216.636065 \r\nL 210.071539 216.165472 \r\nL 213.145919 212.879494 \r\nL 216.2203 209.627239 \r\nL 219.29468 215.776632 \r\nL 222.36906 213.703671 \r\nL 225.44344 218.438729 \r\nL 228.51782 178.311574 \r\nL 231.5922 203.828874 \r\nL 234.666581 216.417886 \r\nL 237.740961 220.538772 \r\nL 240.815341 219.492327 \r\nL 243.889721 205.412847 \r\nL 246.964101 220.058981 \r\nL 250.038481 198.594608 \r\nL 253.112862 219.378894 \r\nL 256.187242 228.004396 \r\nL 259.261622 215.966709 \r\nL 262.336002 167.700485 \r\nL 265.410382 224.195195 \r\nL 268.484762 210.790182 \r\nL 271.559143 227.071895 \r\nL 274.633523 220.781477 \r\nL 277.707903 227.838334 \r\nL 280.782283 200.740126 \r\nL 283.856663 216.875705 \r\nL 286.931043 209.392708 \r\nL 290.005424 221.709379 \r\nL 293.079804 195.463962 \r\nL 296.154184 229.896989 \r\nL 299.228564 215.939628 \r\nL 302.302944 217.926748 \r\nL 305.377324 227.227738 \r\nL 308.451705 223.046559 \r\nL 311.526085 219.837736 \r\nL 314.600465 194.340873 \r\nL 317.674845 227.587964 \r\nL 320.749225 220.746732 \r\nL 323.823605 220.856077 \r\nL 326.897986 225.781213 \r\nL 329.972366 217.317174 \r\nL 333.046746 185.443542 \r\nL 336.121126 222.054787 \r\nL 339.195506 213.835498 \r\nL 342.269886 228.33703 \r\nL 345.344267 222.270923 \r\nL 348.418647 225.882893 \r\nL 351.493027 221.233165 \r\nL 354.567407 221.701715 \r\nL 357.641787 224.840026 \r\nL 360.716167 221.894346 \r\nL 363.790548 201.586274 \r\nL 366.864928 214.972893 \r\nL 369.939308 229.669612 \r\nL 373.013688 226.731086 \r\nL 376.088068 221.968435 \r\n\" style=\"fill:none;stroke:#1f77b4;stroke-linecap:square;stroke-width:1.5;\"/>\r\n   </g>\r\n   <g id=\"line2d_13\">\r\n    <path clip-path=\"url(#pf3f33a1d8c)\" d=\"M 71.724432 131.885313 \r\nL 74.798812 133.962873 \r\nL 77.873192 106.732326 \r\nL 80.947572 111.655929 \r\nL 84.021952 144.761484 \r\nL 87.096333 126.48192 \r\nL 90.170713 103.864824 \r\nL 93.245093 108.240678 \r\nL 96.319473 161.780512 \r\nL 99.393853 130.884344 \r\nL 102.468233 78.738407 \r\nL 105.542614 130.020823 \r\nL 108.616994 112.779528 \r\nL 111.691374 137.971348 \r\nL 114.765754 100.397966 \r\nL 117.840134 105.007839 \r\nL 120.914514 115.243373 \r\nL 123.988895 142.272602 \r\nL 127.063275 107.707236 \r\nL 130.137655 84.654292 \r\nL 133.212035 104.414616 \r\nL 136.286415 100.997321 \r\nL 139.360795 144.798273 \r\nL 142.435176 112.495946 \r\nL 145.509556 65.049811 \r\nL 148.583936 118.237594 \r\nL 151.658316 95.407428 \r\nL 154.732696 118.616726 \r\nL 157.807076 88.591232 \r\nL 160.881457 108.930473 \r\nL 163.955837 107.56519 \r\nL 167.030217 109.331065 \r\nL 170.104597 89.558478 \r\nL 173.178977 122.282347 \r\nL 176.253357 128.50634 \r\nL 179.327738 81.75511 \r\nL 182.402118 103.507663 \r\nL 185.476498 123.294046 \r\nL 188.550878 72.39536 \r\nL 191.625258 95.199978 \r\nL 194.699638 120.064273 \r\nL 197.774019 118.985638 \r\nL 200.848399 100.550232 \r\nL 203.922779 120.565013 \r\nL 206.997159 92.42547 \r\nL 210.071539 105.614348 \r\nL 213.145919 102.223112 \r\nL 216.2203 95.274578 \r\nL 219.29468 136.282117 \r\nL 222.36906 96.52234 \r\nL 225.44344 73.954807 \r\nL 228.51782 122.552644 \r\nL 231.5922 76.295511 \r\nL 234.666581 101.56704 \r\nL 237.740961 52.35503 \r\nL 240.815341 74.346713 \r\nL 243.889721 119.360682 \r\nL 246.964101 70.998908 \r\nL 250.038481 122.911848 \r\nL 253.112862 99.628972 \r\nL 256.187242 80.357636 \r\nL 259.261622 42.84608 \r\nL 262.336002 114.56533 \r\nL 265.410382 41.682626 \r\nL 268.484762 80.44501 \r\nL 271.559143 61.900259 \r\nL 274.633523 104.995065 \r\nL 277.707903 91.746916 \r\nL 280.782283 38.67461 \r\nL 283.856663 120.570633 \r\nL 286.931043 66.107496 \r\nL 290.005424 97.994414 \r\nL 293.079804 116.057842 \r\nL 296.154184 53.264027 \r\nL 299.228564 71.494028 \r\nL 302.302944 65.065651 \r\nL 305.377324 89.040365 \r\nL 308.451705 86.364472 \r\nL 311.526085 79.201847 \r\nL 314.600465 87.652089 \r\nL 317.674845 32.224261 \r\nL 320.749225 96.946947 \r\nL 323.823605 92.93694 \r\nL 326.897986 46.358414 \r\nL 329.972366 89.54877 \r\nL 333.046746 72.860844 \r\nL 336.121126 95.788092 \r\nL 339.195506 93.033511 \r\nL 342.269886 70.23809 \r\nL 345.344267 81.212471 \r\nL 348.418647 73.66867 \r\nL 351.493027 63.97322 \r\nL 354.567407 61.035716 \r\nL 357.641787 61.662152 \r\nL 360.716167 74.668106 \r\nL 363.790548 63.281381 \r\nL 366.864928 38.071678 \r\nL 369.939308 88.442543 \r\nL 373.013688 77.370569 \r\nL 376.088068 85.918405 \r\n\" style=\"fill:none;stroke:#ff7f0e;stroke-linecap:square;stroke-width:1.5;\"/>\r\n   </g>\r\n   <g id=\"patch_3\">\r\n    <path d=\"M 56.50625 239.780625 \r\nL 56.50625 22.340625 \r\n\" style=\"fill:none;stroke:#000000;stroke-linecap:square;stroke-linejoin:miter;stroke-width:0.8;\"/>\r\n   </g>\r\n   <g id=\"patch_4\">\r\n    <path d=\"M 391.30625 239.780625 \r\nL 391.30625 22.340625 \r\n\" style=\"fill:none;stroke:#000000;stroke-linecap:square;stroke-linejoin:miter;stroke-width:0.8;\"/>\r\n   </g>\r\n   <g id=\"patch_5\">\r\n    <path d=\"M 56.50625 239.780625 \r\nL 391.30625 239.780625 \r\n\" style=\"fill:none;stroke:#000000;stroke-linecap:square;stroke-linejoin:miter;stroke-width:0.8;\"/>\r\n   </g>\r\n   <g id=\"patch_6\">\r\n    <path d=\"M 56.50625 22.340625 \r\nL 391.30625 22.340625 \r\n\" style=\"fill:none;stroke:#000000;stroke-linecap:square;stroke-linejoin:miter;stroke-width:0.8;\"/>\r\n   </g>\r\n   <g id=\"text_14\">\r\n    <!-- Função erro/loss -->\r\n    <g transform=\"translate(174.959375 16.340625)scale(0.12 -0.12)\">\r\n     <defs>\r\n      <path d=\"M 9.8125 72.90625 \r\nL 51.703125 72.90625 \r\nL 51.703125 64.59375 \r\nL 19.671875 64.59375 \r\nL 19.671875 43.109375 \r\nL 48.578125 43.109375 \r\nL 48.578125 34.8125 \r\nL 19.671875 34.8125 \r\nL 19.671875 0 \r\nL 9.8125 0 \r\nz\r\n\" id=\"DejaVuSans-70\"/>\r\n      <path d=\"M 8.5 21.578125 \r\nL 8.5 54.6875 \r\nL 17.484375 54.6875 \r\nL 17.484375 21.921875 \r\nQ 17.484375 14.15625 20.5 10.265625 \r\nQ 23.53125 6.390625 29.59375 6.390625 \r\nQ 36.859375 6.390625 41.078125 11.03125 \r\nQ 45.3125 15.671875 45.3125 23.6875 \r\nL 45.3125 54.6875 \r\nL 54.296875 54.6875 \r\nL 54.296875 0 \r\nL 45.3125 0 \r\nL 45.3125 8.40625 \r\nQ 42.046875 3.421875 37.71875 1 \r\nQ 33.40625 -1.421875 27.6875 -1.421875 \r\nQ 18.265625 -1.421875 13.375 4.4375 \r\nQ 8.5 10.296875 8.5 21.578125 \r\nz\r\nM 31.109375 56 \r\nz\r\n\" id=\"DejaVuSans-117\"/>\r\n      <path d=\"M 54.890625 33.015625 \r\nL 54.890625 0 \r\nL 45.90625 0 \r\nL 45.90625 32.71875 \r\nQ 45.90625 40.484375 42.875 44.328125 \r\nQ 39.84375 48.1875 33.796875 48.1875 \r\nQ 26.515625 48.1875 22.3125 43.546875 \r\nQ 18.109375 38.921875 18.109375 30.90625 \r\nL 18.109375 0 \r\nL 9.078125 0 \r\nL 9.078125 54.6875 \r\nL 18.109375 54.6875 \r\nL 18.109375 46.1875 \r\nQ 21.34375 51.125 25.703125 53.5625 \r\nQ 30.078125 56 35.796875 56 \r\nQ 45.21875 56 50.046875 50.171875 \r\nQ 54.890625 44.34375 54.890625 33.015625 \r\nz\r\n\" id=\"DejaVuSans-110\"/>\r\n      <path d=\"M 48.78125 52.59375 \r\nL 48.78125 44.1875 \r\nQ 44.96875 46.296875 41.140625 47.34375 \r\nQ 37.3125 48.390625 33.40625 48.390625 \r\nQ 24.65625 48.390625 19.8125 42.84375 \r\nQ 14.984375 37.3125 14.984375 27.296875 \r\nQ 14.984375 17.28125 19.8125 11.734375 \r\nQ 24.65625 6.203125 33.40625 6.203125 \r\nQ 37.3125 6.203125 41.140625 7.25 \r\nQ 44.96875 8.296875 48.78125 10.40625 \r\nL 48.78125 2.09375 \r\nQ 45.015625 0.34375 40.984375 -0.53125 \r\nQ 36.96875 -1.421875 32.421875 -1.421875 \r\nQ 20.0625 -1.421875 12.78125 6.34375 \r\nQ 5.515625 14.109375 5.515625 27.296875 \r\nQ 5.515625 40.671875 12.859375 48.328125 \r\nQ 20.21875 56 33.015625 56 \r\nQ 37.15625 56 41.109375 55.140625 \r\nQ 45.0625 54.296875 48.78125 52.59375 \r\nz\r\nM 36.109375 0 \r\nQ 38.78125 -3.03125 40.09375 -5.59375 \r\nQ 41.421875 -8.15625 41.421875 -10.5 \r\nQ 41.421875 -14.84375 38.484375 -17.0625 \r\nQ 35.5625 -19.28125 29.796875 -19.28125 \r\nQ 27.5625 -19.28125 25.4375 -18.984375 \r\nQ 23.3125 -18.703125 21.203125 -18.109375 \r\nL 21.203125 -11.71875 \r\nQ 22.875 -12.546875 24.671875 -12.90625 \r\nQ 26.484375 -13.28125 28.78125 -13.28125 \r\nQ 31.65625 -13.28125 33.125 -12.109375 \r\nQ 34.59375 -10.9375 34.59375 -8.6875 \r\nQ 34.59375 -7.234375 33.53125 -5.109375 \r\nQ 32.484375 -2.984375 30.296875 0 \r\nz\r\n\" id=\"DejaVuSans-231\"/>\r\n      <path d=\"M 34.28125 27.484375 \r\nQ 23.390625 27.484375 19.1875 25 \r\nQ 14.984375 22.515625 14.984375 16.5 \r\nQ 14.984375 11.71875 18.140625 8.90625 \r\nQ 21.296875 6.109375 26.703125 6.109375 \r\nQ 34.1875 6.109375 38.703125 11.40625 \r\nQ 43.21875 16.703125 43.21875 25.484375 \r\nL 43.21875 27.484375 \r\nz\r\nM 52.203125 31.203125 \r\nL 52.203125 0 \r\nL 43.21875 0 \r\nL 43.21875 8.296875 \r\nQ 40.140625 3.328125 35.546875 0.953125 \r\nQ 30.953125 -1.421875 24.3125 -1.421875 \r\nQ 15.921875 -1.421875 10.953125 3.296875 \r\nQ 6 8.015625 6 15.921875 \r\nQ 6 25.140625 12.171875 29.828125 \r\nQ 18.359375 34.515625 30.609375 34.515625 \r\nL 43.21875 34.515625 \r\nL 43.21875 35.40625 \r\nQ 43.21875 41.609375 39.140625 45 \r\nQ 35.0625 48.390625 27.6875 48.390625 \r\nQ 23 48.390625 18.546875 47.265625 \r\nQ 14.109375 46.140625 10.015625 43.890625 \r\nL 10.015625 52.203125 \r\nQ 14.9375 54.109375 19.578125 55.046875 \r\nQ 24.21875 56 28.609375 56 \r\nQ 40.484375 56 46.34375 49.84375 \r\nQ 52.203125 43.703125 52.203125 31.203125 \r\nz\r\nM 28.8125 66.890625 \r\nL 26.015625 69.578125 \r\nQ 24.953125 70.5625 24.140625 71.015625 \r\nQ 23.34375 71.484375 22.703125 71.484375 \r\nQ 20.84375 71.484375 19.96875 69.703125 \r\nQ 19.09375 67.921875 18.984375 63.921875 \r\nL 12.890625 63.921875 \r\nQ 12.984375 70.515625 15.46875 74.09375 \r\nQ 17.96875 77.6875 22.40625 77.6875 \r\nQ 24.265625 77.6875 25.828125 77 \r\nQ 27.390625 76.3125 29.203125 74.703125 \r\nL 31.984375 72.015625 \r\nQ 33.046875 71.046875 33.859375 70.578125 \r\nQ 34.671875 70.125 35.296875 70.125 \r\nQ 37.15625 70.125 38.03125 71.90625 \r\nQ 38.90625 73.6875 39.015625 77.6875 \r\nL 45.109375 77.6875 \r\nQ 45.015625 71.09375 42.515625 67.5 \r\nQ 40.03125 63.921875 35.59375 63.921875 \r\nQ 33.734375 63.921875 32.171875 64.59375 \r\nQ 30.609375 65.28125 28.8125 66.890625 \r\nz\r\n\" id=\"DejaVuSans-227\"/>\r\n      <path id=\"DejaVuSans-32\"/>\r\n      <path d=\"M 56.203125 29.59375 \r\nL 56.203125 25.203125 \r\nL 14.890625 25.203125 \r\nQ 15.484375 15.921875 20.484375 11.0625 \r\nQ 25.484375 6.203125 34.421875 6.203125 \r\nQ 39.59375 6.203125 44.453125 7.46875 \r\nQ 49.3125 8.734375 54.109375 11.28125 \r\nL 54.109375 2.78125 \r\nQ 49.265625 0.734375 44.1875 -0.34375 \r\nQ 39.109375 -1.421875 33.890625 -1.421875 \r\nQ 20.796875 -1.421875 13.15625 6.1875 \r\nQ 5.515625 13.8125 5.515625 26.8125 \r\nQ 5.515625 40.234375 12.765625 48.109375 \r\nQ 20.015625 56 32.328125 56 \r\nQ 43.359375 56 49.78125 48.890625 \r\nQ 56.203125 41.796875 56.203125 29.59375 \r\nz\r\nM 47.21875 32.234375 \r\nQ 47.125 39.59375 43.09375 43.984375 \r\nQ 39.0625 48.390625 32.421875 48.390625 \r\nQ 24.90625 48.390625 20.390625 44.140625 \r\nQ 15.875 39.890625 15.1875 32.171875 \r\nz\r\n\" id=\"DejaVuSans-101\"/>\r\n     </defs>\r\n     <use xlink:href=\"#DejaVuSans-70\"/>\r\n     <use x=\"52.019531\" xlink:href=\"#DejaVuSans-117\"/>\r\n     <use x=\"115.398438\" xlink:href=\"#DejaVuSans-110\"/>\r\n     <use x=\"178.777344\" xlink:href=\"#DejaVuSans-231\"/>\r\n     <use x=\"233.757812\" xlink:href=\"#DejaVuSans-227\"/>\r\n     <use x=\"295.037109\" xlink:href=\"#DejaVuSans-111\"/>\r\n     <use x=\"356.21875\" xlink:href=\"#DejaVuSans-32\"/>\r\n     <use x=\"388.005859\" xlink:href=\"#DejaVuSans-101\"/>\r\n     <use x=\"449.529297\" xlink:href=\"#DejaVuSans-114\"/>\r\n     <use x=\"488.892578\" xlink:href=\"#DejaVuSans-114\"/>\r\n     <use x=\"527.755859\" xlink:href=\"#DejaVuSans-111\"/>\r\n     <use x=\"588.9375\" xlink:href=\"#DejaVuSans-47\"/>\r\n     <use x=\"622.628906\" xlink:href=\"#DejaVuSans-108\"/>\r\n     <use x=\"650.412109\" xlink:href=\"#DejaVuSans-111\"/>\r\n     <use x=\"711.59375\" xlink:href=\"#DejaVuSans-115\"/>\r\n     <use x=\"763.693359\" xlink:href=\"#DejaVuSans-115\"/>\r\n    </g>\r\n   </g>\r\n   <g id=\"legend_1\">\r\n    <g id=\"patch_7\">\r\n     <path d=\"M 63.50625 59.975 \r\nL 134.646875 59.975 \r\nQ 136.646875 59.975 136.646875 57.975 \r\nL 136.646875 29.340625 \r\nQ 136.646875 27.340625 134.646875 27.340625 \r\nL 63.50625 27.340625 \r\nQ 61.50625 27.340625 61.50625 29.340625 \r\nL 61.50625 57.975 \r\nQ 61.50625 59.975 63.50625 59.975 \r\nz\r\n\" style=\"fill:#ffffff;opacity:0.8;stroke:#cccccc;stroke-linejoin:miter;\"/>\r\n    </g>\r\n    <g id=\"line2d_14\">\r\n     <path d=\"M 65.50625 35.439062 \r\nL 85.50625 35.439062 \r\n\" style=\"fill:none;stroke:#1f77b4;stroke-linecap:square;stroke-width:1.5;\"/>\r\n    </g>\r\n    <g id=\"line2d_15\"/>\r\n    <g id=\"text_15\">\r\n     <!-- loss -->\r\n     <g transform=\"translate(93.50625 38.939062)scale(0.1 -0.1)\">\r\n      <use xlink:href=\"#DejaVuSans-108\"/>\r\n      <use x=\"27.783203\" xlink:href=\"#DejaVuSans-111\"/>\r\n      <use x=\"88.964844\" xlink:href=\"#DejaVuSans-115\"/>\r\n      <use x=\"141.064453\" xlink:href=\"#DejaVuSans-115\"/>\r\n     </g>\r\n    </g>\r\n    <g id=\"line2d_16\">\r\n     <path d=\"M 65.50625 50.117187 \r\nL 85.50625 50.117187 \r\n\" style=\"fill:none;stroke:#ff7f0e;stroke-linecap:square;stroke-width:1.5;\"/>\r\n    </g>\r\n    <g id=\"line2d_17\"/>\r\n    <g id=\"text_16\">\r\n     <!-- val_loss -->\r\n     <g transform=\"translate(93.50625 53.617187)scale(0.1 -0.1)\">\r\n      <defs>\r\n       <path d=\"M 2.984375 54.6875 \r\nL 12.5 54.6875 \r\nL 29.59375 8.796875 \r\nL 46.6875 54.6875 \r\nL 56.203125 54.6875 \r\nL 35.6875 0 \r\nL 23.484375 0 \r\nz\r\n\" id=\"DejaVuSans-118\"/>\r\n       <path d=\"M 50.984375 -16.609375 \r\nL 50.984375 -23.578125 \r\nL -0.984375 -23.578125 \r\nL -0.984375 -16.609375 \r\nz\r\n\" id=\"DejaVuSans-95\"/>\r\n      </defs>\r\n      <use xlink:href=\"#DejaVuSans-118\"/>\r\n      <use x=\"59.179688\" xlink:href=\"#DejaVuSans-97\"/>\r\n      <use x=\"120.458984\" xlink:href=\"#DejaVuSans-108\"/>\r\n      <use x=\"148.242188\" xlink:href=\"#DejaVuSans-95\"/>\r\n      <use x=\"198.242188\" xlink:href=\"#DejaVuSans-108\"/>\r\n      <use x=\"226.025391\" xlink:href=\"#DejaVuSans-111\"/>\r\n      <use x=\"287.207031\" xlink:href=\"#DejaVuSans-115\"/>\r\n      <use x=\"339.306641\" xlink:href=\"#DejaVuSans-115\"/>\r\n     </g>\r\n    </g>\r\n   </g>\r\n  </g>\r\n </g>\r\n <defs>\r\n  <clipPath id=\"pf3f33a1d8c\">\r\n   <rect height=\"217.44\" width=\"334.8\" x=\"56.50625\" y=\"22.340625\"/>\r\n  </clipPath>\r\n </defs>\r\n</svg>\r\n",
            "image/png": "[encoded data removed]"
          },
          "metadata": {
            "needs_background": "light"
          }
        }
      ]
    },
    {
      "cell_type": "markdown",
      "metadata": {
        "id": "CnOywLpjliYD"
      },
      "source": [
        "## Análise da métrica de desempenho (acurácia)\n",
        "Vamos observar o desempenho (acurácia) da rede para os dados de treino e de validação/teste."
      ]
    },
    {
      "cell_type": "code",
      "metadata": {
        "colab": {
          "base_uri": "https://localhost:8080/",
          "height": 297
        },
        "id": "47nLbRc_llb9",
        "outputId": "83178e55-15de-41a4-9fdc-18e4290d7949"
      },
      "source": [
        "plt.plot(history.history['accuracy'])\n",
        "plt.plot(history.history['val_accuracy'], '')\n",
        "plt.xlabel(\"Épocas\")\n",
        "plt.ylabel('Acurácia')\n",
        "plt.title('Acurácia')\n",
        "plt.legend(['acurácia', 'val_acurácia'])\n",
        "plt.show()"
      ],
      "execution_count": 38,
      "outputs": [
        {
          "output_type": "display_data",
          "data": {
            "text/plain": "<Figure size 432x288 with 1 Axes>",
            "image/svg+xml": "<?xml version=\"1.0\" encoding=\"utf-8\" standalone=\"no\"?>\r\n<!DOCTYPE svg PUBLIC \"-//W3C//DTD SVG 1.1//EN\"\r\n  \"http://www.w3.org/Graphics/SVG/1.1/DTD/svg11.dtd\">\r\n<!-- Created with matplotlib (https://matplotlib.org/) -->\r\n<svg height=\"278.9675pt\" version=\"1.1\" viewBox=\"0 0 392.14375 278.9675\" width=\"392.14375pt\" xmlns=\"http://www.w3.org/2000/svg\" xmlns:xlink=\"http://www.w3.org/1999/xlink\">\r\n <metadata>\r\n  <rdf:RDF xmlns:cc=\"http://creativecommons.org/ns#\" xmlns:dc=\"http://purl.org/dc/elements/1.1/\" xmlns:rdf=\"http://www.w3.org/1999/02/22-rdf-syntax-ns#\">\r\n   <cc:Work>\r\n    <dc:type rdf:resource=\"http://purl.org/dc/dcmitype/StillImage\"/>\r\n    <dc:date>2021-06-05T21:21:57.367977</dc:date>\r\n    <dc:format>image/svg+xml</dc:format>\r\n    <dc:creator>\r\n     <cc:Agent>\r\n      <dc:title>Matplotlib v3.3.4, https://matplotlib.org/</dc:title>\r\n     </cc:Agent>\r\n    </dc:creator>\r\n   </cc:Work>\r\n  </rdf:RDF>\r\n </metadata>\r\n <defs>\r\n  <style type=\"text/css\">*{stroke-linecap:butt;stroke-linejoin:round;}</style>\r\n </defs>\r\n <g id=\"figure_1\">\r\n  <g id=\"patch_1\">\r\n   <path d=\"M 0 278.9675 \r\nL 392.14375 278.9675 \r\nL 392.14375 0 \r\nL 0 0 \r\nz\r\n\" style=\"fill:none;\"/>\r\n  </g>\r\n  <g id=\"axes_1\">\r\n   <g id=\"patch_2\">\r\n    <path d=\"M 50.14375 239.758125 \r\nL 384.94375 239.758125 \r\nL 384.94375 22.318125 \r\nL 50.14375 22.318125 \r\nz\r\n\" style=\"fill:#ffffff;\"/>\r\n   </g>\r\n   <g id=\"matplotlib.axis_1\">\r\n    <g id=\"xtick_1\">\r\n     <g id=\"line2d_1\">\r\n      <defs>\r\n       <path d=\"M 0 0 \r\nL 0 3.5 \r\n\" id=\"mafde0c6b98\" style=\"stroke:#000000;stroke-width:0.8;\"/>\r\n      </defs>\r\n      <g>\r\n       <use style=\"stroke:#000000;stroke-width:0.8;\" x=\"65.361932\" xlink:href=\"#mafde0c6b98\" y=\"239.758125\"/>\r\n      </g>\r\n     </g>\r\n     <g id=\"text_1\">\r\n      <!-- 0 -->\r\n      <g transform=\"translate(62.180682 254.356563)scale(0.1 -0.1)\">\r\n       <defs>\r\n        <path d=\"M 31.78125 66.40625 \r\nQ 24.171875 66.40625 20.328125 58.90625 \r\nQ 16.5 51.421875 16.5 36.375 \r\nQ 16.5 21.390625 20.328125 13.890625 \r\nQ 24.171875 6.390625 31.78125 6.390625 \r\nQ 39.453125 6.390625 43.28125 13.890625 \r\nQ 47.125 21.390625 47.125 36.375 \r\nQ 47.125 51.421875 43.28125 58.90625 \r\nQ 39.453125 66.40625 31.78125 66.40625 \r\nz\r\nM 31.78125 74.21875 \r\nQ 44.046875 74.21875 50.515625 64.515625 \r\nQ 56.984375 54.828125 56.984375 36.375 \r\nQ 56.984375 17.96875 50.515625 8.265625 \r\nQ 44.046875 -1.421875 31.78125 -1.421875 \r\nQ 19.53125 -1.421875 13.0625 8.265625 \r\nQ 6.59375 17.96875 6.59375 36.375 \r\nQ 6.59375 54.828125 13.0625 64.515625 \r\nQ 19.53125 74.21875 31.78125 74.21875 \r\nz\r\n\" id=\"DejaVuSans-48\"/>\r\n       </defs>\r\n       <use xlink:href=\"#DejaVuSans-48\"/>\r\n      </g>\r\n     </g>\r\n    </g>\r\n    <g id=\"xtick_2\">\r\n     <g id=\"line2d_2\">\r\n      <g>\r\n       <use style=\"stroke:#000000;stroke-width:0.8;\" x=\"126.849535\" xlink:href=\"#mafde0c6b98\" y=\"239.758125\"/>\r\n      </g>\r\n     </g>\r\n     <g id=\"text_2\">\r\n      <!-- 20 -->\r\n      <g transform=\"translate(120.487035 254.356563)scale(0.1 -0.1)\">\r\n       <defs>\r\n        <path d=\"M 19.1875 8.296875 \r\nL 53.609375 8.296875 \r\nL 53.609375 0 \r\nL 7.328125 0 \r\nL 7.328125 8.296875 \r\nQ 12.9375 14.109375 22.625 23.890625 \r\nQ 32.328125 33.6875 34.8125 36.53125 \r\nQ 39.546875 41.84375 41.421875 45.53125 \r\nQ 43.3125 49.21875 43.3125 52.78125 \r\nQ 43.3125 58.59375 39.234375 62.25 \r\nQ 35.15625 65.921875 28.609375 65.921875 \r\nQ 23.96875 65.921875 18.8125 64.3125 \r\nQ 13.671875 62.703125 7.8125 59.421875 \r\nL 7.8125 69.390625 \r\nQ 13.765625 71.78125 18.9375 73 \r\nQ 24.125 74.21875 28.421875 74.21875 \r\nQ 39.75 74.21875 46.484375 68.546875 \r\nQ 53.21875 62.890625 53.21875 53.421875 \r\nQ 53.21875 48.921875 51.53125 44.890625 \r\nQ 49.859375 40.875 45.40625 35.40625 \r\nQ 44.1875 33.984375 37.640625 27.21875 \r\nQ 31.109375 20.453125 19.1875 8.296875 \r\nz\r\n\" id=\"DejaVuSans-50\"/>\r\n       </defs>\r\n       <use xlink:href=\"#DejaVuSans-50\"/>\r\n       <use x=\"63.623047\" xlink:href=\"#DejaVuSans-48\"/>\r\n      </g>\r\n     </g>\r\n    </g>\r\n    <g id=\"xtick_3\">\r\n     <g id=\"line2d_3\">\r\n      <g>\r\n       <use style=\"stroke:#000000;stroke-width:0.8;\" x=\"188.337138\" xlink:href=\"#mafde0c6b98\" y=\"239.758125\"/>\r\n      </g>\r\n     </g>\r\n     <g id=\"text_3\">\r\n      <!-- 40 -->\r\n      <g transform=\"translate(181.974638 254.356563)scale(0.1 -0.1)\">\r\n       <defs>\r\n        <path d=\"M 37.796875 64.3125 \r\nL 12.890625 25.390625 \r\nL 37.796875 25.390625 \r\nz\r\nM 35.203125 72.90625 \r\nL 47.609375 72.90625 \r\nL 47.609375 25.390625 \r\nL 58.015625 25.390625 \r\nL 58.015625 17.1875 \r\nL 47.609375 17.1875 \r\nL 47.609375 0 \r\nL 37.796875 0 \r\nL 37.796875 17.1875 \r\nL 4.890625 17.1875 \r\nL 4.890625 26.703125 \r\nz\r\n\" id=\"DejaVuSans-52\"/>\r\n       </defs>\r\n       <use xlink:href=\"#DejaVuSans-52\"/>\r\n       <use x=\"63.623047\" xlink:href=\"#DejaVuSans-48\"/>\r\n      </g>\r\n     </g>\r\n    </g>\r\n    <g id=\"xtick_4\">\r\n     <g id=\"line2d_4\">\r\n      <g>\r\n       <use style=\"stroke:#000000;stroke-width:0.8;\" x=\"249.824742\" xlink:href=\"#mafde0c6b98\" y=\"239.758125\"/>\r\n      </g>\r\n     </g>\r\n     <g id=\"text_4\">\r\n      <!-- 60 -->\r\n      <g transform=\"translate(243.462242 254.356563)scale(0.1 -0.1)\">\r\n       <defs>\r\n        <path d=\"M 33.015625 40.375 \r\nQ 26.375 40.375 22.484375 35.828125 \r\nQ 18.609375 31.296875 18.609375 23.390625 \r\nQ 18.609375 15.53125 22.484375 10.953125 \r\nQ 26.375 6.390625 33.015625 6.390625 \r\nQ 39.65625 6.390625 43.53125 10.953125 \r\nQ 47.40625 15.53125 47.40625 23.390625 \r\nQ 47.40625 31.296875 43.53125 35.828125 \r\nQ 39.65625 40.375 33.015625 40.375 \r\nz\r\nM 52.59375 71.296875 \r\nL 52.59375 62.3125 \r\nQ 48.875 64.0625 45.09375 64.984375 \r\nQ 41.3125 65.921875 37.59375 65.921875 \r\nQ 27.828125 65.921875 22.671875 59.328125 \r\nQ 17.53125 52.734375 16.796875 39.40625 \r\nQ 19.671875 43.65625 24.015625 45.921875 \r\nQ 28.375 48.1875 33.59375 48.1875 \r\nQ 44.578125 48.1875 50.953125 41.515625 \r\nQ 57.328125 34.859375 57.328125 23.390625 \r\nQ 57.328125 12.15625 50.6875 5.359375 \r\nQ 44.046875 -1.421875 33.015625 -1.421875 \r\nQ 20.359375 -1.421875 13.671875 8.265625 \r\nQ 6.984375 17.96875 6.984375 36.375 \r\nQ 6.984375 53.65625 15.1875 63.9375 \r\nQ 23.390625 74.21875 37.203125 74.21875 \r\nQ 40.921875 74.21875 44.703125 73.484375 \r\nQ 48.484375 72.75 52.59375 71.296875 \r\nz\r\n\" id=\"DejaVuSans-54\"/>\r\n       </defs>\r\n       <use xlink:href=\"#DejaVuSans-54\"/>\r\n       <use x=\"63.623047\" xlink:href=\"#DejaVuSans-48\"/>\r\n      </g>\r\n     </g>\r\n    </g>\r\n    <g id=\"xtick_5\">\r\n     <g id=\"line2d_5\">\r\n      <g>\r\n       <use style=\"stroke:#000000;stroke-width:0.8;\" x=\"311.312345\" xlink:href=\"#mafde0c6b98\" y=\"239.758125\"/>\r\n      </g>\r\n     </g>\r\n     <g id=\"text_5\">\r\n      <!-- 80 -->\r\n      <g transform=\"translate(304.949845 254.356563)scale(0.1 -0.1)\">\r\n       <defs>\r\n        <path d=\"M 31.78125 34.625 \r\nQ 24.75 34.625 20.71875 30.859375 \r\nQ 16.703125 27.09375 16.703125 20.515625 \r\nQ 16.703125 13.921875 20.71875 10.15625 \r\nQ 24.75 6.390625 31.78125 6.390625 \r\nQ 38.8125 6.390625 42.859375 10.171875 \r\nQ 46.921875 13.96875 46.921875 20.515625 \r\nQ 46.921875 27.09375 42.890625 30.859375 \r\nQ 38.875 34.625 31.78125 34.625 \r\nz\r\nM 21.921875 38.8125 \r\nQ 15.578125 40.375 12.03125 44.71875 \r\nQ 8.5 49.078125 8.5 55.328125 \r\nQ 8.5 64.0625 14.71875 69.140625 \r\nQ 20.953125 74.21875 31.78125 74.21875 \r\nQ 42.671875 74.21875 48.875 69.140625 \r\nQ 55.078125 64.0625 55.078125 55.328125 \r\nQ 55.078125 49.078125 51.53125 44.71875 \r\nQ 48 40.375 41.703125 38.8125 \r\nQ 48.828125 37.15625 52.796875 32.3125 \r\nQ 56.78125 27.484375 56.78125 20.515625 \r\nQ 56.78125 9.90625 50.3125 4.234375 \r\nQ 43.84375 -1.421875 31.78125 -1.421875 \r\nQ 19.734375 -1.421875 13.25 4.234375 \r\nQ 6.78125 9.90625 6.78125 20.515625 \r\nQ 6.78125 27.484375 10.78125 32.3125 \r\nQ 14.796875 37.15625 21.921875 38.8125 \r\nz\r\nM 18.3125 54.390625 \r\nQ 18.3125 48.734375 21.84375 45.5625 \r\nQ 25.390625 42.390625 31.78125 42.390625 \r\nQ 38.140625 42.390625 41.71875 45.5625 \r\nQ 45.3125 48.734375 45.3125 54.390625 \r\nQ 45.3125 60.0625 41.71875 63.234375 \r\nQ 38.140625 66.40625 31.78125 66.40625 \r\nQ 25.390625 66.40625 21.84375 63.234375 \r\nQ 18.3125 60.0625 18.3125 54.390625 \r\nz\r\n\" id=\"DejaVuSans-56\"/>\r\n       </defs>\r\n       <use xlink:href=\"#DejaVuSans-56\"/>\r\n       <use x=\"63.623047\" xlink:href=\"#DejaVuSans-48\"/>\r\n      </g>\r\n     </g>\r\n    </g>\r\n    <g id=\"xtick_6\">\r\n     <g id=\"line2d_6\">\r\n      <g>\r\n       <use style=\"stroke:#000000;stroke-width:0.8;\" x=\"372.799948\" xlink:href=\"#mafde0c6b98\" y=\"239.758125\"/>\r\n      </g>\r\n     </g>\r\n     <g id=\"text_6\">\r\n      <!-- 100 -->\r\n      <g transform=\"translate(363.256198 254.356563)scale(0.1 -0.1)\">\r\n       <defs>\r\n        <path d=\"M 12.40625 8.296875 \r\nL 28.515625 8.296875 \r\nL 28.515625 63.921875 \r\nL 10.984375 60.40625 \r\nL 10.984375 69.390625 \r\nL 28.421875 72.90625 \r\nL 38.28125 72.90625 \r\nL 38.28125 8.296875 \r\nL 54.390625 8.296875 \r\nL 54.390625 0 \r\nL 12.40625 0 \r\nz\r\n\" id=\"DejaVuSans-49\"/>\r\n       </defs>\r\n       <use xlink:href=\"#DejaVuSans-49\"/>\r\n       <use x=\"63.623047\" xlink:href=\"#DejaVuSans-48\"/>\r\n       <use x=\"127.246094\" xlink:href=\"#DejaVuSans-48\"/>\r\n      </g>\r\n     </g>\r\n    </g>\r\n    <g id=\"text_7\">\r\n     <!-- Épocas -->\r\n     <g transform=\"translate(199.732813 269.687813)scale(0.1 -0.1)\">\r\n      <defs>\r\n       <path d=\"M 9.8125 72.90625 \r\nL 55.90625 72.90625 \r\nL 55.90625 64.59375 \r\nL 19.671875 64.59375 \r\nL 19.671875 43.015625 \r\nL 54.390625 43.015625 \r\nL 54.390625 34.71875 \r\nL 19.671875 34.71875 \r\nL 19.671875 8.296875 \r\nL 56.78125 8.296875 \r\nL 56.78125 0 \r\nL 9.8125 0 \r\nz\r\nM 35.4375 92.515625 \r\nL 44.46875 92.515625 \r\nL 33.34375 79.625 \r\nL 25.859375 79.625 \r\nz\r\n\" id=\"DejaVuSans-201\"/>\r\n       <path d=\"M 18.109375 8.203125 \r\nL 18.109375 -20.796875 \r\nL 9.078125 -20.796875 \r\nL 9.078125 54.6875 \r\nL 18.109375 54.6875 \r\nL 18.109375 46.390625 \r\nQ 20.953125 51.265625 25.265625 53.625 \r\nQ 29.59375 56 35.59375 56 \r\nQ 45.5625 56 51.78125 48.09375 \r\nQ 58.015625 40.1875 58.015625 27.296875 \r\nQ 58.015625 14.40625 51.78125 6.484375 \r\nQ 45.5625 -1.421875 35.59375 -1.421875 \r\nQ 29.59375 -1.421875 25.265625 0.953125 \r\nQ 20.953125 3.328125 18.109375 8.203125 \r\nz\r\nM 48.6875 27.296875 \r\nQ 48.6875 37.203125 44.609375 42.84375 \r\nQ 40.53125 48.484375 33.40625 48.484375 \r\nQ 26.265625 48.484375 22.1875 42.84375 \r\nQ 18.109375 37.203125 18.109375 27.296875 \r\nQ 18.109375 17.390625 22.1875 11.75 \r\nQ 26.265625 6.109375 33.40625 6.109375 \r\nQ 40.53125 6.109375 44.609375 11.75 \r\nQ 48.6875 17.390625 48.6875 27.296875 \r\nz\r\n\" id=\"DejaVuSans-112\"/>\r\n       <path d=\"M 30.609375 48.390625 \r\nQ 23.390625 48.390625 19.1875 42.75 \r\nQ 14.984375 37.109375 14.984375 27.296875 \r\nQ 14.984375 17.484375 19.15625 11.84375 \r\nQ 23.34375 6.203125 30.609375 6.203125 \r\nQ 37.796875 6.203125 41.984375 11.859375 \r\nQ 46.1875 17.53125 46.1875 27.296875 \r\nQ 46.1875 37.015625 41.984375 42.703125 \r\nQ 37.796875 48.390625 30.609375 48.390625 \r\nz\r\nM 30.609375 56 \r\nQ 42.328125 56 49.015625 48.375 \r\nQ 55.71875 40.765625 55.71875 27.296875 \r\nQ 55.71875 13.875 49.015625 6.21875 \r\nQ 42.328125 -1.421875 30.609375 -1.421875 \r\nQ 18.84375 -1.421875 12.171875 6.21875 \r\nQ 5.515625 13.875 5.515625 27.296875 \r\nQ 5.515625 40.765625 12.171875 48.375 \r\nQ 18.84375 56 30.609375 56 \r\nz\r\n\" id=\"DejaVuSans-111\"/>\r\n       <path d=\"M 48.78125 52.59375 \r\nL 48.78125 44.1875 \r\nQ 44.96875 46.296875 41.140625 47.34375 \r\nQ 37.3125 48.390625 33.40625 48.390625 \r\nQ 24.65625 48.390625 19.8125 42.84375 \r\nQ 14.984375 37.3125 14.984375 27.296875 \r\nQ 14.984375 17.28125 19.8125 11.734375 \r\nQ 24.65625 6.203125 33.40625 6.203125 \r\nQ 37.3125 6.203125 41.140625 7.25 \r\nQ 44.96875 8.296875 48.78125 10.40625 \r\nL 48.78125 2.09375 \r\nQ 45.015625 0.34375 40.984375 -0.53125 \r\nQ 36.96875 -1.421875 32.421875 -1.421875 \r\nQ 20.0625 -1.421875 12.78125 6.34375 \r\nQ 5.515625 14.109375 5.515625 27.296875 \r\nQ 5.515625 40.671875 12.859375 48.328125 \r\nQ 20.21875 56 33.015625 56 \r\nQ 37.15625 56 41.109375 55.140625 \r\nQ 45.0625 54.296875 48.78125 52.59375 \r\nz\r\n\" id=\"DejaVuSans-99\"/>\r\n       <path d=\"M 34.28125 27.484375 \r\nQ 23.390625 27.484375 19.1875 25 \r\nQ 14.984375 22.515625 14.984375 16.5 \r\nQ 14.984375 11.71875 18.140625 8.90625 \r\nQ 21.296875 6.109375 26.703125 6.109375 \r\nQ 34.1875 6.109375 38.703125 11.40625 \r\nQ 43.21875 16.703125 43.21875 25.484375 \r\nL 43.21875 27.484375 \r\nz\r\nM 52.203125 31.203125 \r\nL 52.203125 0 \r\nL 43.21875 0 \r\nL 43.21875 8.296875 \r\nQ 40.140625 3.328125 35.546875 0.953125 \r\nQ 30.953125 -1.421875 24.3125 -1.421875 \r\nQ 15.921875 -1.421875 10.953125 3.296875 \r\nQ 6 8.015625 6 15.921875 \r\nQ 6 25.140625 12.171875 29.828125 \r\nQ 18.359375 34.515625 30.609375 34.515625 \r\nL 43.21875 34.515625 \r\nL 43.21875 35.40625 \r\nQ 43.21875 41.609375 39.140625 45 \r\nQ 35.0625 48.390625 27.6875 48.390625 \r\nQ 23 48.390625 18.546875 47.265625 \r\nQ 14.109375 46.140625 10.015625 43.890625 \r\nL 10.015625 52.203125 \r\nQ 14.9375 54.109375 19.578125 55.046875 \r\nQ 24.21875 56 28.609375 56 \r\nQ 40.484375 56 46.34375 49.84375 \r\nQ 52.203125 43.703125 52.203125 31.203125 \r\nz\r\n\" id=\"DejaVuSans-97\"/>\r\n       <path d=\"M 44.28125 53.078125 \r\nL 44.28125 44.578125 \r\nQ 40.484375 46.53125 36.375 47.5 \r\nQ 32.28125 48.484375 27.875 48.484375 \r\nQ 21.1875 48.484375 17.84375 46.4375 \r\nQ 14.5 44.390625 14.5 40.28125 \r\nQ 14.5 37.15625 16.890625 35.375 \r\nQ 19.28125 33.59375 26.515625 31.984375 \r\nL 29.59375 31.296875 \r\nQ 39.15625 29.25 43.1875 25.515625 \r\nQ 47.21875 21.78125 47.21875 15.09375 \r\nQ 47.21875 7.46875 41.1875 3.015625 \r\nQ 35.15625 -1.421875 24.609375 -1.421875 \r\nQ 20.21875 -1.421875 15.453125 -0.5625 \r\nQ 10.6875 0.296875 5.421875 2 \r\nL 5.421875 11.28125 \r\nQ 10.40625 8.6875 15.234375 7.390625 \r\nQ 20.0625 6.109375 24.8125 6.109375 \r\nQ 31.15625 6.109375 34.5625 8.28125 \r\nQ 37.984375 10.453125 37.984375 14.40625 \r\nQ 37.984375 18.0625 35.515625 20.015625 \r\nQ 33.0625 21.96875 24.703125 23.78125 \r\nL 21.578125 24.515625 \r\nQ 13.234375 26.265625 9.515625 29.90625 \r\nQ 5.8125 33.546875 5.8125 39.890625 \r\nQ 5.8125 47.609375 11.28125 51.796875 \r\nQ 16.75 56 26.8125 56 \r\nQ 31.78125 56 36.171875 55.265625 \r\nQ 40.578125 54.546875 44.28125 53.078125 \r\nz\r\n\" id=\"DejaVuSans-115\"/>\r\n      </defs>\r\n      <use xlink:href=\"#DejaVuSans-201\"/>\r\n      <use x=\"63.183594\" xlink:href=\"#DejaVuSans-112\"/>\r\n      <use x=\"126.660156\" xlink:href=\"#DejaVuSans-111\"/>\r\n      <use x=\"187.841797\" xlink:href=\"#DejaVuSans-99\"/>\r\n      <use x=\"242.822266\" xlink:href=\"#DejaVuSans-97\"/>\r\n      <use x=\"304.101562\" xlink:href=\"#DejaVuSans-115\"/>\r\n     </g>\r\n    </g>\r\n   </g>\r\n   <g id=\"matplotlib.axis_2\">\r\n    <g id=\"ytick_1\">\r\n     <g id=\"line2d_7\">\r\n      <defs>\r\n       <path d=\"M 0 0 \r\nL -3.5 0 \r\n\" id=\"m3093521e88\" style=\"stroke:#000000;stroke-width:0.8;\"/>\r\n      </defs>\r\n      <g>\r\n       <use style=\"stroke:#000000;stroke-width:0.8;\" x=\"50.14375\" xlink:href=\"#m3093521e88\" y=\"198.741058\"/>\r\n      </g>\r\n     </g>\r\n     <g id=\"text_8\">\r\n      <!-- 0.48 -->\r\n      <g transform=\"translate(20.878125 202.540277)scale(0.1 -0.1)\">\r\n       <defs>\r\n        <path d=\"M 10.6875 12.40625 \r\nL 21 12.40625 \r\nL 21 0 \r\nL 10.6875 0 \r\nz\r\n\" id=\"DejaVuSans-46\"/>\r\n       </defs>\r\n       <use xlink:href=\"#DejaVuSans-48\"/>\r\n       <use x=\"63.623047\" xlink:href=\"#DejaVuSans-46\"/>\r\n       <use x=\"95.410156\" xlink:href=\"#DejaVuSans-52\"/>\r\n       <use x=\"159.033203\" xlink:href=\"#DejaVuSans-56\"/>\r\n      </g>\r\n     </g>\r\n    </g>\r\n    <g id=\"ytick_2\">\r\n     <g id=\"line2d_8\">\r\n      <g>\r\n       <use style=\"stroke:#000000;stroke-width:0.8;\" x=\"50.14375\" xlink:href=\"#m3093521e88\" y=\"155.74724\"/>\r\n      </g>\r\n     </g>\r\n     <g id=\"text_9\">\r\n      <!-- 0.50 -->\r\n      <g transform=\"translate(20.878125 159.546459)scale(0.1 -0.1)\">\r\n       <defs>\r\n        <path d=\"M 10.796875 72.90625 \r\nL 49.515625 72.90625 \r\nL 49.515625 64.59375 \r\nL 19.828125 64.59375 \r\nL 19.828125 46.734375 \r\nQ 21.96875 47.46875 24.109375 47.828125 \r\nQ 26.265625 48.1875 28.421875 48.1875 \r\nQ 40.625 48.1875 47.75 41.5 \r\nQ 54.890625 34.8125 54.890625 23.390625 \r\nQ 54.890625 11.625 47.5625 5.09375 \r\nQ 40.234375 -1.421875 26.90625 -1.421875 \r\nQ 22.3125 -1.421875 17.546875 -0.640625 \r\nQ 12.796875 0.140625 7.71875 1.703125 \r\nL 7.71875 11.625 \r\nQ 12.109375 9.234375 16.796875 8.0625 \r\nQ 21.484375 6.890625 26.703125 6.890625 \r\nQ 35.15625 6.890625 40.078125 11.328125 \r\nQ 45.015625 15.765625 45.015625 23.390625 \r\nQ 45.015625 31 40.078125 35.4375 \r\nQ 35.15625 39.890625 26.703125 39.890625 \r\nQ 22.75 39.890625 18.8125 39.015625 \r\nQ 14.890625 38.140625 10.796875 36.28125 \r\nz\r\n\" id=\"DejaVuSans-53\"/>\r\n       </defs>\r\n       <use xlink:href=\"#DejaVuSans-48\"/>\r\n       <use x=\"63.623047\" xlink:href=\"#DejaVuSans-46\"/>\r\n       <use x=\"95.410156\" xlink:href=\"#DejaVuSans-53\"/>\r\n       <use x=\"159.033203\" xlink:href=\"#DejaVuSans-48\"/>\r\n      </g>\r\n     </g>\r\n    </g>\r\n    <g id=\"ytick_3\">\r\n     <g id=\"line2d_9\">\r\n      <g>\r\n       <use style=\"stroke:#000000;stroke-width:0.8;\" x=\"50.14375\" xlink:href=\"#m3093521e88\" y=\"112.753422\"/>\r\n      </g>\r\n     </g>\r\n     <g id=\"text_10\">\r\n      <!-- 0.52 -->\r\n      <g transform=\"translate(20.878125 116.55264)scale(0.1 -0.1)\">\r\n       <use xlink:href=\"#DejaVuSans-48\"/>\r\n       <use x=\"63.623047\" xlink:href=\"#DejaVuSans-46\"/>\r\n       <use x=\"95.410156\" xlink:href=\"#DejaVuSans-53\"/>\r\n       <use x=\"159.033203\" xlink:href=\"#DejaVuSans-50\"/>\r\n      </g>\r\n     </g>\r\n    </g>\r\n    <g id=\"ytick_4\">\r\n     <g id=\"line2d_10\">\r\n      <g>\r\n       <use style=\"stroke:#000000;stroke-width:0.8;\" x=\"50.14375\" xlink:href=\"#m3093521e88\" y=\"69.759603\"/>\r\n      </g>\r\n     </g>\r\n     <g id=\"text_11\">\r\n      <!-- 0.54 -->\r\n      <g transform=\"translate(20.878125 73.558822)scale(0.1 -0.1)\">\r\n       <use xlink:href=\"#DejaVuSans-48\"/>\r\n       <use x=\"63.623047\" xlink:href=\"#DejaVuSans-46\"/>\r\n       <use x=\"95.410156\" xlink:href=\"#DejaVuSans-53\"/>\r\n       <use x=\"159.033203\" xlink:href=\"#DejaVuSans-52\"/>\r\n      </g>\r\n     </g>\r\n    </g>\r\n    <g id=\"ytick_5\">\r\n     <g id=\"line2d_11\">\r\n      <g>\r\n       <use style=\"stroke:#000000;stroke-width:0.8;\" x=\"50.14375\" xlink:href=\"#m3093521e88\" y=\"26.765785\"/>\r\n      </g>\r\n     </g>\r\n     <g id=\"text_12\">\r\n      <!-- 0.56 -->\r\n      <g transform=\"translate(20.878125 30.565004)scale(0.1 -0.1)\">\r\n       <use xlink:href=\"#DejaVuSans-48\"/>\r\n       <use x=\"63.623047\" xlink:href=\"#DejaVuSans-46\"/>\r\n       <use x=\"95.410156\" xlink:href=\"#DejaVuSans-53\"/>\r\n       <use x=\"159.033203\" xlink:href=\"#DejaVuSans-54\"/>\r\n      </g>\r\n     </g>\r\n    </g>\r\n    <g id=\"text_13\">\r\n     <!-- Acurácia -->\r\n     <g transform=\"translate(14.798438 152.610781)rotate(-90)scale(0.1 -0.1)\">\r\n      <defs>\r\n       <path d=\"M 34.1875 63.1875 \r\nL 20.796875 26.90625 \r\nL 47.609375 26.90625 \r\nz\r\nM 28.609375 72.90625 \r\nL 39.796875 72.90625 \r\nL 67.578125 0 \r\nL 57.328125 0 \r\nL 50.6875 18.703125 \r\nL 17.828125 18.703125 \r\nL 11.1875 0 \r\nL 0.78125 0 \r\nz\r\n\" id=\"DejaVuSans-65\"/>\r\n       <path d=\"M 8.5 21.578125 \r\nL 8.5 54.6875 \r\nL 17.484375 54.6875 \r\nL 17.484375 21.921875 \r\nQ 17.484375 14.15625 20.5 10.265625 \r\nQ 23.53125 6.390625 29.59375 6.390625 \r\nQ 36.859375 6.390625 41.078125 11.03125 \r\nQ 45.3125 15.671875 45.3125 23.6875 \r\nL 45.3125 54.6875 \r\nL 54.296875 54.6875 \r\nL 54.296875 0 \r\nL 45.3125 0 \r\nL 45.3125 8.40625 \r\nQ 42.046875 3.421875 37.71875 1 \r\nQ 33.40625 -1.421875 27.6875 -1.421875 \r\nQ 18.265625 -1.421875 13.375 4.4375 \r\nQ 8.5 10.296875 8.5 21.578125 \r\nz\r\nM 31.109375 56 \r\nz\r\n\" id=\"DejaVuSans-117\"/>\r\n       <path d=\"M 41.109375 46.296875 \r\nQ 39.59375 47.171875 37.8125 47.578125 \r\nQ 36.03125 48 33.890625 48 \r\nQ 26.265625 48 22.1875 43.046875 \r\nQ 18.109375 38.09375 18.109375 28.8125 \r\nL 18.109375 0 \r\nL 9.078125 0 \r\nL 9.078125 54.6875 \r\nL 18.109375 54.6875 \r\nL 18.109375 46.1875 \r\nQ 20.953125 51.171875 25.484375 53.578125 \r\nQ 30.03125 56 36.53125 56 \r\nQ 37.453125 56 38.578125 55.875 \r\nQ 39.703125 55.765625 41.0625 55.515625 \r\nz\r\n\" id=\"DejaVuSans-114\"/>\r\n       <path d=\"M 34.28125 27.484375 \r\nQ 23.390625 27.484375 19.1875 25 \r\nQ 14.984375 22.515625 14.984375 16.5 \r\nQ 14.984375 11.71875 18.140625 8.90625 \r\nQ 21.296875 6.109375 26.703125 6.109375 \r\nQ 34.1875 6.109375 38.703125 11.40625 \r\nQ 43.21875 16.703125 43.21875 25.484375 \r\nL 43.21875 27.484375 \r\nz\r\nM 52.203125 31.203125 \r\nL 52.203125 0 \r\nL 43.21875 0 \r\nL 43.21875 8.296875 \r\nQ 40.140625 3.328125 35.546875 0.953125 \r\nQ 30.953125 -1.421875 24.3125 -1.421875 \r\nQ 15.921875 -1.421875 10.953125 3.296875 \r\nQ 6 8.015625 6 15.921875 \r\nQ 6 25.140625 12.171875 29.828125 \r\nQ 18.359375 34.515625 30.609375 34.515625 \r\nL 43.21875 34.515625 \r\nL 43.21875 35.40625 \r\nQ 43.21875 41.609375 39.140625 45 \r\nQ 35.0625 48.390625 27.6875 48.390625 \r\nQ 23 48.390625 18.546875 47.265625 \r\nQ 14.109375 46.140625 10.015625 43.890625 \r\nL 10.015625 52.203125 \r\nQ 14.9375 54.109375 19.578125 55.046875 \r\nQ 24.21875 56 28.609375 56 \r\nQ 40.484375 56 46.34375 49.84375 \r\nQ 52.203125 43.703125 52.203125 31.203125 \r\nz\r\nM 35.78125 79.984375 \r\nL 45.5 79.984375 \r\nL 29.59375 61.625 \r\nL 22.109375 61.625 \r\nz\r\n\" id=\"DejaVuSans-225\"/>\r\n       <path d=\"M 9.421875 54.6875 \r\nL 18.40625 54.6875 \r\nL 18.40625 0 \r\nL 9.421875 0 \r\nz\r\nM 9.421875 75.984375 \r\nL 18.40625 75.984375 \r\nL 18.40625 64.59375 \r\nL 9.421875 64.59375 \r\nz\r\n\" id=\"DejaVuSans-105\"/>\r\n      </defs>\r\n      <use xlink:href=\"#DejaVuSans-65\"/>\r\n      <use x=\"66.658203\" xlink:href=\"#DejaVuSans-99\"/>\r\n      <use x=\"121.638672\" xlink:href=\"#DejaVuSans-117\"/>\r\n      <use x=\"185.017578\" xlink:href=\"#DejaVuSans-114\"/>\r\n      <use x=\"226.130859\" xlink:href=\"#DejaVuSans-225\"/>\r\n      <use x=\"287.410156\" xlink:href=\"#DejaVuSans-99\"/>\r\n      <use x=\"342.390625\" xlink:href=\"#DejaVuSans-105\"/>\r\n      <use x=\"370.173828\" xlink:href=\"#DejaVuSans-97\"/>\r\n     </g>\r\n    </g>\r\n   </g>\r\n   <g id=\"line2d_12\">\r\n    <path clip-path=\"url(#p73658827eb)\" d=\"M 65.361932 194.355202 \r\nL 68.436312 38.379112 \r\nL 71.510692 32.201761 \r\nL 74.585072 32.201761 \r\nL 77.659452 32.201761 \r\nL 80.733833 32.201761 \r\nL 83.808213 32.201761 \r\nL 86.882593 32.201761 \r\nL 89.956973 32.201761 \r\nL 93.031353 32.201761 \r\nL 96.105733 32.201761 \r\nL 99.180114 32.201761 \r\nL 102.254494 32.201761 \r\nL 105.328874 32.201761 \r\nL 108.403254 32.201761 \r\nL 111.477634 32.201761 \r\nL 114.552014 32.201761 \r\nL 117.626395 32.201761 \r\nL 120.700775 32.201761 \r\nL 123.775155 32.201761 \r\nL 126.849535 32.201761 \r\nL 129.923915 32.201761 \r\nL 132.998295 32.201761 \r\nL 136.072676 32.201761 \r\nL 139.147056 32.201761 \r\nL 142.221436 32.201761 \r\nL 145.295816 32.201761 \r\nL 148.370196 32.201761 \r\nL 151.444576 32.201761 \r\nL 154.518957 32.201761 \r\nL 157.593337 32.201761 \r\nL 160.667717 32.201761 \r\nL 163.742097 32.201761 \r\nL 166.816477 32.201761 \r\nL 169.890857 32.201761 \r\nL 172.965238 32.201761 \r\nL 176.039618 32.201761 \r\nL 179.113998 32.201761 \r\nL 182.188378 32.201761 \r\nL 185.262758 32.201761 \r\nL 188.337138 32.201761 \r\nL 191.411519 32.201761 \r\nL 194.485899 32.201761 \r\nL 197.560279 32.201761 \r\nL 200.634659 32.201761 \r\nL 203.709039 32.201761 \r\nL 206.783419 32.201761 \r\nL 209.8578 32.201761 \r\nL 212.93218 32.201761 \r\nL 216.00656 32.201761 \r\nL 219.08094 32.201761 \r\nL 222.15532 53.822297 \r\nL 225.2297 32.201761 \r\nL 228.304081 32.201761 \r\nL 231.378461 32.201761 \r\nL 234.452841 32.201761 \r\nL 237.527221 32.201761 \r\nL 240.601601 32.201761 \r\nL 243.675981 32.201761 \r\nL 246.750362 32.201761 \r\nL 249.824742 32.201761 \r\nL 252.899122 32.201761 \r\nL 255.973502 32.201761 \r\nL 259.047882 32.201761 \r\nL 262.122262 32.201761 \r\nL 265.196643 32.201761 \r\nL 268.271023 32.201761 \r\nL 271.345403 32.201761 \r\nL 274.419783 32.201761 \r\nL 277.494163 32.201761 \r\nL 280.568543 32.201761 \r\nL 283.642924 32.201761 \r\nL 286.717304 112.506297 \r\nL 289.791684 32.201761 \r\nL 292.866064 32.201761 \r\nL 295.940444 32.201761 \r\nL 299.014824 32.201761 \r\nL 302.089205 32.201761 \r\nL 305.163585 32.201761 \r\nL 308.237965 32.201761 \r\nL 311.312345 32.201761 \r\nL 314.386725 32.201761 \r\nL 317.461105 32.201761 \r\nL 320.535486 32.201761 \r\nL 323.609866 32.201761 \r\nL 326.684246 32.201761 \r\nL 329.758626 32.201761 \r\nL 332.833006 32.201761 \r\nL 335.907386 32.201761 \r\nL 338.981767 32.201761 \r\nL 342.056147 32.201761 \r\nL 345.130527 32.201761 \r\nL 348.204907 32.201761 \r\nL 351.279287 32.201761 \r\nL 354.353667 32.201761 \r\nL 357.428048 32.201761 \r\nL 360.502428 32.201761 \r\nL 363.576808 32.201761 \r\nL 366.651188 32.201761 \r\nL 369.725568 32.201761 \r\n\" style=\"fill:none;stroke:#1f77b4;stroke-linecap:square;stroke-width:1.5;\"/>\r\n   </g>\r\n   <g id=\"line2d_13\">\r\n    <path clip-path=\"url(#p73658827eb)\" d=\"M 65.361932 144.164915 \r\nL 68.436312 229.874489 \r\nL 71.510692 229.874489 \r\nL 74.585072 229.874489 \r\nL 77.659452 229.874489 \r\nL 80.733833 229.874489 \r\nL 83.808213 229.874489 \r\nL 86.882593 229.874489 \r\nL 89.956973 229.874489 \r\nL 93.031353 229.874489 \r\nL 96.105733 229.874489 \r\nL 99.180114 229.874489 \r\nL 102.254494 229.874489 \r\nL 105.328874 229.874489 \r\nL 108.403254 229.874489 \r\nL 111.477634 229.874489 \r\nL 114.552014 229.874489 \r\nL 117.626395 229.874489 \r\nL 120.700775 229.874489 \r\nL 123.775155 229.874489 \r\nL 126.849535 229.874489 \r\nL 129.923915 229.874489 \r\nL 132.998295 229.874489 \r\nL 136.072676 229.874489 \r\nL 139.147056 229.874489 \r\nL 142.221436 229.874489 \r\nL 145.295816 229.874489 \r\nL 148.370196 229.874489 \r\nL 151.444576 229.874489 \r\nL 154.518957 229.874489 \r\nL 157.593337 229.874489 \r\nL 160.667717 229.874489 \r\nL 163.742097 229.874489 \r\nL 166.816477 229.874489 \r\nL 169.890857 229.874489 \r\nL 172.965238 229.874489 \r\nL 176.039618 229.874489 \r\nL 179.113998 229.874489 \r\nL 182.188378 229.874489 \r\nL 185.262758 229.874489 \r\nL 188.337138 229.874489 \r\nL 191.411519 229.874489 \r\nL 194.485899 229.874489 \r\nL 197.560279 229.874489 \r\nL 200.634659 229.874489 \r\nL 203.709039 229.874489 \r\nL 206.783419 229.874489 \r\nL 209.8578 229.874489 \r\nL 212.93218 229.874489 \r\nL 216.00656 229.874489 \r\nL 219.08094 229.874489 \r\nL 222.15532 229.874489 \r\nL 225.2297 229.874489 \r\nL 228.304081 229.874489 \r\nL 231.378461 229.874489 \r\nL 234.452841 229.874489 \r\nL 237.527221 229.874489 \r\nL 240.601601 229.874489 \r\nL 243.675981 229.874489 \r\nL 246.750362 229.874489 \r\nL 249.824742 229.874489 \r\nL 252.899122 229.874489 \r\nL 255.973502 229.874489 \r\nL 259.047882 229.874489 \r\nL 262.122262 229.874489 \r\nL 265.196643 229.874489 \r\nL 268.271023 229.874489 \r\nL 271.345403 229.874489 \r\nL 274.419783 229.874489 \r\nL 277.494163 229.874489 \r\nL 280.568543 229.874489 \r\nL 283.642924 229.874489 \r\nL 286.717304 229.874489 \r\nL 289.791684 229.874489 \r\nL 292.866064 229.874489 \r\nL 295.940444 229.874489 \r\nL 299.014824 229.874489 \r\nL 302.089205 229.874489 \r\nL 305.163585 229.874489 \r\nL 308.237965 229.874489 \r\nL 311.312345 229.874489 \r\nL 314.386725 229.874489 \r\nL 317.461105 229.874489 \r\nL 320.535486 229.874489 \r\nL 323.609866 229.874489 \r\nL 326.684246 229.874489 \r\nL 329.758626 229.874489 \r\nL 332.833006 229.874489 \r\nL 335.907386 229.874489 \r\nL 338.981767 229.874489 \r\nL 342.056147 229.874489 \r\nL 345.130527 229.874489 \r\nL 348.204907 229.874489 \r\nL 351.279287 229.874489 \r\nL 354.353667 229.874489 \r\nL 357.428048 229.874489 \r\nL 360.502428 229.874489 \r\nL 363.576808 229.874489 \r\nL 366.651188 229.874489 \r\nL 369.725568 229.874489 \r\n\" style=\"fill:none;stroke:#ff7f0e;stroke-linecap:square;stroke-width:1.5;\"/>\r\n   </g>\r\n   <g id=\"patch_3\">\r\n    <path d=\"M 50.14375 239.758125 \r\nL 50.14375 22.318125 \r\n\" style=\"fill:none;stroke:#000000;stroke-linecap:square;stroke-linejoin:miter;stroke-width:0.8;\"/>\r\n   </g>\r\n   <g id=\"patch_4\">\r\n    <path d=\"M 384.94375 239.758125 \r\nL 384.94375 22.318125 \r\n\" style=\"fill:none;stroke:#000000;stroke-linecap:square;stroke-linejoin:miter;stroke-width:0.8;\"/>\r\n   </g>\r\n   <g id=\"patch_5\">\r\n    <path d=\"M 50.14375 239.758125 \r\nL 384.94375 239.758125 \r\n\" style=\"fill:none;stroke:#000000;stroke-linecap:square;stroke-linejoin:miter;stroke-width:0.8;\"/>\r\n   </g>\r\n   <g id=\"patch_6\">\r\n    <path d=\"M 50.14375 22.318125 \r\nL 384.94375 22.318125 \r\n\" style=\"fill:none;stroke:#000000;stroke-linecap:square;stroke-linejoin:miter;stroke-width:0.8;\"/>\r\n   </g>\r\n   <g id=\"text_14\">\r\n    <!-- Acurácia -->\r\n    <g transform=\"translate(191.656563 16.318125)scale(0.12 -0.12)\">\r\n     <use xlink:href=\"#DejaVuSans-65\"/>\r\n     <use x=\"66.658203\" xlink:href=\"#DejaVuSans-99\"/>\r\n     <use x=\"121.638672\" xlink:href=\"#DejaVuSans-117\"/>\r\n     <use x=\"185.017578\" xlink:href=\"#DejaVuSans-114\"/>\r\n     <use x=\"226.130859\" xlink:href=\"#DejaVuSans-225\"/>\r\n     <use x=\"287.410156\" xlink:href=\"#DejaVuSans-99\"/>\r\n     <use x=\"342.390625\" xlink:href=\"#DejaVuSans-105\"/>\r\n     <use x=\"370.173828\" xlink:href=\"#DejaVuSans-97\"/>\r\n    </g>\r\n   </g>\r\n   <g id=\"legend_1\">\r\n    <g id=\"patch_7\">\r\n     <path d=\"M 283.510938 147.555313 \r\nL 377.94375 147.555313 \r\nQ 379.94375 147.555313 379.94375 145.555313 \r\nL 379.94375 116.520938 \r\nQ 379.94375 114.520938 377.94375 114.520938 \r\nL 283.510938 114.520938 \r\nQ 281.510938 114.520938 281.510938 116.520938 \r\nL 281.510938 145.555313 \r\nQ 281.510938 147.555313 283.510938 147.555313 \r\nz\r\n\" style=\"fill:#ffffff;opacity:0.8;stroke:#cccccc;stroke-linejoin:miter;\"/>\r\n    </g>\r\n    <g id=\"line2d_14\">\r\n     <path d=\"M 285.510938 122.619375 \r\nL 305.510938 122.619375 \r\n\" style=\"fill:none;stroke:#1f77b4;stroke-linecap:square;stroke-width:1.5;\"/>\r\n    </g>\r\n    <g id=\"line2d_15\"/>\r\n    <g id=\"text_15\">\r\n     <!-- acurácia -->\r\n     <g transform=\"translate(313.510938 126.119375)scale(0.1 -0.1)\">\r\n      <use xlink:href=\"#DejaVuSans-97\"/>\r\n      <use x=\"61.279297\" xlink:href=\"#DejaVuSans-99\"/>\r\n      <use x=\"116.259766\" xlink:href=\"#DejaVuSans-117\"/>\r\n      <use x=\"179.638672\" xlink:href=\"#DejaVuSans-114\"/>\r\n      <use x=\"220.751953\" xlink:href=\"#DejaVuSans-225\"/>\r\n      <use x=\"282.03125\" xlink:href=\"#DejaVuSans-99\"/>\r\n      <use x=\"337.011719\" xlink:href=\"#DejaVuSans-105\"/>\r\n      <use x=\"364.794922\" xlink:href=\"#DejaVuSans-97\"/>\r\n     </g>\r\n    </g>\r\n    <g id=\"line2d_16\">\r\n     <path d=\"M 285.510938 137.6975 \r\nL 305.510938 137.6975 \r\n\" style=\"fill:none;stroke:#ff7f0e;stroke-linecap:square;stroke-width:1.5;\"/>\r\n    </g>\r\n    <g id=\"line2d_17\"/>\r\n    <g id=\"text_16\">\r\n     <!-- val_acurácia -->\r\n     <g transform=\"translate(313.510938 141.1975)scale(0.1 -0.1)\">\r\n      <defs>\r\n       <path d=\"M 2.984375 54.6875 \r\nL 12.5 54.6875 \r\nL 29.59375 8.796875 \r\nL 46.6875 54.6875 \r\nL 56.203125 54.6875 \r\nL 35.6875 0 \r\nL 23.484375 0 \r\nz\r\n\" id=\"DejaVuSans-118\"/>\r\n       <path d=\"M 9.421875 75.984375 \r\nL 18.40625 75.984375 \r\nL 18.40625 0 \r\nL 9.421875 0 \r\nz\r\n\" id=\"DejaVuSans-108\"/>\r\n       <path d=\"M 50.984375 -16.609375 \r\nL 50.984375 -23.578125 \r\nL -0.984375 -23.578125 \r\nL -0.984375 -16.609375 \r\nz\r\n\" id=\"DejaVuSans-95\"/>\r\n      </defs>\r\n      <use xlink:href=\"#DejaVuSans-118\"/>\r\n      <use x=\"59.179688\" xlink:href=\"#DejaVuSans-97\"/>\r\n      <use x=\"120.458984\" xlink:href=\"#DejaVuSans-108\"/>\r\n      <use x=\"148.242188\" xlink:href=\"#DejaVuSans-95\"/>\r\n      <use x=\"198.242188\" xlink:href=\"#DejaVuSans-97\"/>\r\n      <use x=\"259.521484\" xlink:href=\"#DejaVuSans-99\"/>\r\n      <use x=\"314.501953\" xlink:href=\"#DejaVuSans-117\"/>\r\n      <use x=\"377.880859\" xlink:href=\"#DejaVuSans-114\"/>\r\n      <use x=\"418.994141\" xlink:href=\"#DejaVuSans-225\"/>\r\n      <use x=\"480.273438\" xlink:href=\"#DejaVuSans-99\"/>\r\n      <use x=\"535.253906\" xlink:href=\"#DejaVuSans-105\"/>\r\n      <use x=\"563.037109\" xlink:href=\"#DejaVuSans-97\"/>\r\n     </g>\r\n    </g>\r\n   </g>\r\n  </g>\r\n </g>\r\n <defs>\r\n  <clipPath id=\"p73658827eb\">\r\n   <rect height=\"217.44\" width=\"334.8\" x=\"50.14375\" y=\"22.318125\"/>\r\n  </clipPath>\r\n </defs>\r\n</svg>\r\n",
            "image/png": "[encoded data removed]"
          },
          "metadata": {
            "needs_background": "light"
          }
        }
      ]
    },
    {
      "cell_type": "markdown",
      "metadata": {
        "id": "UnCzp7cqefpF"
      },
      "source": [
        "## Classifica os dados de teste"
      ]
    },
    {
      "cell_type": "code",
      "metadata": {
        "id": "55GxDLXLeoJK"
      },
      "source": [
        "y_pred = model.predict(X_test)\n",
        "y_pred = (y_pred > 0.5)"
      ],
      "execution_count": 40,
      "outputs": []
    },
    {
      "cell_type": "markdown",
      "metadata": {
        "id": "lhcvQZaLe6hx"
      },
      "source": [
        "## Calcula a matriz de confusão sobre os dados de teste"
      ]
    },
    {
      "cell_type": "code",
      "metadata": {
        "id": "ufS7LzNno3oR"
      },
      "source": [
        "y_pred2 = model.predict(X)\n",
        "y_pred2 = (y_pred2 > 0.5)"
      ],
      "execution_count": 41,
      "outputs": []
    },
    {
      "cell_type": "code",
      "metadata": {
        "id": "kkMaa8wmldRq",
        "colab": {
          "base_uri": "https://localhost:8080/"
        },
        "outputId": "4f63185c-942c-4b23-b822-d3776c9d9c4f"
      },
      "source": [
        "import numpy as np\n",
        "print(np.around(model.predict(X[:5,:])))"
      ],
      "execution_count": 42,
      "outputs": [
        {
          "output_type": "stream",
          "name": "stdout",
          "text": [
            "[[[1.]\n  [1.]\n  [1.]\n  [1.]\n  [1.]\n  [1.]\n  [1.]\n  [1.]\n  [1.]\n  [1.]\n  [1.]\n  [1.]\n  [1.]\n  [1.]\n  [1.]\n  [1.]]\n\n [[1.]\n  [1.]\n  [1.]\n  [1.]\n  [1.]\n  [1.]\n  [1.]\n  [1.]\n  [1.]\n  [1.]\n  [1.]\n  [1.]\n  [1.]\n  [1.]\n  [1.]\n  [1.]]\n\n [[1.]\n  [1.]\n  [1.]\n  [1.]\n  [1.]\n  [1.]\n  [1.]\n  [1.]\n  [1.]\n  [1.]\n  [1.]\n  [1.]\n  [1.]\n  [1.]\n  [1.]\n  [1.]]\n\n [[1.]\n  [1.]\n  [1.]\n  [1.]\n  [1.]\n  [1.]\n  [1.]\n  [1.]\n  [1.]\n  [1.]\n  [1.]\n  [1.]\n  [1.]\n  [1.]\n  [1.]\n  [1.]]\n\n [[1.]\n  [1.]\n  [1.]\n  [1.]\n  [1.]\n  [1.]\n  [1.]\n  [1.]\n  [1.]\n  [1.]\n  [1.]\n  [1.]\n  [1.]\n  [1.]\n  [1.]\n  [1.]]]\n"
          ]
        }
      ]
    },
    {
      "cell_type": "code",
      "execution_count": null,
      "metadata": {},
      "outputs": [],
      "source": []
    }
  ]
}