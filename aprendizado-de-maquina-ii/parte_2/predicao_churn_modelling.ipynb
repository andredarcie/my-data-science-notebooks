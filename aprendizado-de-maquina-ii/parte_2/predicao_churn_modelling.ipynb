{
 "metadata": {
  "language_info": {
   "codemirror_mode": {
    "name": "ipython",
    "version": 3
   },
   "file_extension": ".py",
   "mimetype": "text/x-python",
   "name": "python",
   "nbconvert_exporter": "python",
   "pygments_lexer": "ipython3",
   "version": 3
  },
  "orig_nbformat": 2
 },
 "nbformat": 4,
 "nbformat_minor": 2,
 "cells": [
  {
   "source": [
    "# Predição Churn - Churn_Modelling\n",
    "\n",
    "A presente tarefa consiste em implementar um modelo de aprendizado profundo (rede neural) para prever (classificar) quando um cliente irá parar de utilizar o serviço de um banco utilizando a base de dados \"Churn_Modelling\" (Links para um site externo.). Trata-se de um problema de classificação binária."
   ],
   "cell_type": "markdown",
   "metadata": {}
  },
  {
   "cell_type": "code",
   "execution_count": null,
   "metadata": {},
   "outputs": [],
   "source": []
  }
 ]
}