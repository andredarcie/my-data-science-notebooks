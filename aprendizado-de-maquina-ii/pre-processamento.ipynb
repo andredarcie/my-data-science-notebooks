{
 "metadata": {
  "language_info": {
   "codemirror_mode": {
    "name": "ipython",
    "version": 3
   },
   "file_extension": ".py",
   "mimetype": "text/x-python",
   "name": "python",
   "nbconvert_exporter": "python",
   "pygments_lexer": "ipython3",
   "version": "3.8.5"
  },
  "orig_nbformat": 2,
  "kernelspec": {
   "name": "python385jvsc74a57bd0c94be41889154d41bf43aca8d1a8d1cd64b97c119170e03e2ed46ca87183f0c5",
   "display_name": "Python 3.8.5 64-bit ('base': conda)"
  }
 },
 "nbformat": 4,
 "nbformat_minor": 2,
 "cells": [
  {
   "source": [
    "# Pré-processamento de um conjunto de dados"
   ],
   "cell_type": "markdown",
   "metadata": {}
  },
  {
   "source": [
    "1. Faça a \"clonagem\" do repositório da disciplina no GitHub (https://github.com/malegopc/AM2PUCPOC (Links para um site externo.))"
   ],
   "cell_type": "markdown",
   "metadata": {}
  },
  {
   "source": [
    "2. Faça a leitura do arquivo \"Churn_Modelling.csv\" disponível na pasta \"Churn\" e armazene numa variável como um dataframe;"
   ],
   "cell_type": "markdown",
   "metadata": {}
  },
  {
   "cell_type": "code",
   "execution_count": 1,
   "metadata": {},
   "outputs": [
    {
     "output_type": "execute_result",
     "data": {
      "text/plain": [
       "   RowNumber  CustomerId   Surname  CreditScore Geography  Gender  Age  \\\n",
       "0          1    15634602  Hargrave          619    France  Female   42   \n",
       "1          2    15647311      Hill          608     Spain  Female   41   \n",
       "2          3    15619304      Onio          502    France  Female   42   \n",
       "3          4    15701354      Boni          699    France  Female   39   \n",
       "4          5    15737888  Mitchell          850     Spain  Female   43   \n",
       "\n",
       "   Tenure    Balance  NumOfProducts  HasCrCard  IsActiveMember  \\\n",
       "0       2       0.00              1          1               1   \n",
       "1       1   83807.86              1          0               1   \n",
       "2       8  159660.80              3          1               0   \n",
       "3       1       0.00              2          0               0   \n",
       "4       2  125510.82              1          1               1   \n",
       "\n",
       "   EstimatedSalary  Exited  \n",
       "0        101348.88       1  \n",
       "1        112542.58       0  \n",
       "2        113931.57       1  \n",
       "3         93826.63       0  \n",
       "4         79084.10       0  "
      ],
      "text/html": "<div>\n<style scoped>\n    .dataframe tbody tr th:only-of-type {\n        vertical-align: middle;\n    }\n\n    .dataframe tbody tr th {\n        vertical-align: top;\n    }\n\n    .dataframe thead th {\n        text-align: right;\n    }\n</style>\n<table border=\"1\" class=\"dataframe\">\n  <thead>\n    <tr style=\"text-align: right;\">\n      <th></th>\n      <th>RowNumber</th>\n      <th>CustomerId</th>\n      <th>Surname</th>\n      <th>CreditScore</th>\n      <th>Geography</th>\n      <th>Gender</th>\n      <th>Age</th>\n      <th>Tenure</th>\n      <th>Balance</th>\n      <th>NumOfProducts</th>\n      <th>HasCrCard</th>\n      <th>IsActiveMember</th>\n      <th>EstimatedSalary</th>\n      <th>Exited</th>\n    </tr>\n  </thead>\n  <tbody>\n    <tr>\n      <th>0</th>\n      <td>1</td>\n      <td>15634602</td>\n      <td>Hargrave</td>\n      <td>619</td>\n      <td>France</td>\n      <td>Female</td>\n      <td>42</td>\n      <td>2</td>\n      <td>0.00</td>\n      <td>1</td>\n      <td>1</td>\n      <td>1</td>\n      <td>101348.88</td>\n      <td>1</td>\n    </tr>\n    <tr>\n      <th>1</th>\n      <td>2</td>\n      <td>15647311</td>\n      <td>Hill</td>\n      <td>608</td>\n      <td>Spain</td>\n      <td>Female</td>\n      <td>41</td>\n      <td>1</td>\n      <td>83807.86</td>\n      <td>1</td>\n      <td>0</td>\n      <td>1</td>\n      <td>112542.58</td>\n      <td>0</td>\n    </tr>\n    <tr>\n      <th>2</th>\n      <td>3</td>\n      <td>15619304</td>\n      <td>Onio</td>\n      <td>502</td>\n      <td>France</td>\n      <td>Female</td>\n      <td>42</td>\n      <td>8</td>\n      <td>159660.80</td>\n      <td>3</td>\n      <td>1</td>\n      <td>0</td>\n      <td>113931.57</td>\n      <td>1</td>\n    </tr>\n    <tr>\n      <th>3</th>\n      <td>4</td>\n      <td>15701354</td>\n      <td>Boni</td>\n      <td>699</td>\n      <td>France</td>\n      <td>Female</td>\n      <td>39</td>\n      <td>1</td>\n      <td>0.00</td>\n      <td>2</td>\n      <td>0</td>\n      <td>0</td>\n      <td>93826.63</td>\n      <td>0</td>\n    </tr>\n    <tr>\n      <th>4</th>\n      <td>5</td>\n      <td>15737888</td>\n      <td>Mitchell</td>\n      <td>850</td>\n      <td>Spain</td>\n      <td>Female</td>\n      <td>43</td>\n      <td>2</td>\n      <td>125510.82</td>\n      <td>1</td>\n      <td>1</td>\n      <td>1</td>\n      <td>79084.10</td>\n      <td>0</td>\n    </tr>\n  </tbody>\n</table>\n</div>"
     },
     "metadata": {},
     "execution_count": 1
    }
   ],
   "source": [
    "import pandas as pd\n",
    "\n",
    "df_churn = pd.read_csv(\"Churn_Modelling.csv\")\n",
    "df_churn.head()"
   ]
  },
  {
   "source": [
    "3. Crie uma variável X que contenha apenas os atributos/colunas de \"CreditScore\" a \"EstimatedSalary\" utilizando a função \"iloc\" do Pandas. Em outras palavras, crie uma variável X que receba o dataframe inteiro exceto as 3 primeiras colunas e a última. Observe que as 3 primeiras colunas \"RowNumber\", \"CustomerId\" e \"Surname\" não são importantes e devem ser descartadas. E a última coluna (\"Exited\") será a variável destino (\"target\" ou saída) que será criada no próximo passo;"
   ],
   "cell_type": "markdown",
   "metadata": {}
  },
  {
   "cell_type": "code",
   "execution_count": 2,
   "metadata": {},
   "outputs": [
    {
     "output_type": "stream",
     "name": "stdout",
     "text": [
      "[[619 'France' 'Female' ... 1 1 101348.88]\n [608 'Spain' 'Female' ... 0 1 112542.58]\n [502 'France' 'Female' ... 1 0 113931.57]\n ...\n [709 'France' 'Female' ... 0 1 42085.58]\n [772 'Germany' 'Male' ... 1 0 92888.52]\n [792 'France' 'Female' ... 1 0 38190.78]]\n"
     ]
    }
   ],
   "source": [
    "X = df_churn.iloc[:,3:13].values\n",
    "print(X)"
   ]
  },
  {
   "source": [
    "4. Crie uma variável y que contenha apenas a última coluna  (\"Exited\"). Esta é a variável destino (\"target\" ou saída);"
   ],
   "cell_type": "markdown",
   "metadata": {}
  },
  {
   "cell_type": "code",
   "execution_count": 3,
   "metadata": {},
   "outputs": [
    {
     "output_type": "stream",
     "name": "stdout",
     "text": [
      "0       1\n1       0\n2       1\n3       0\n4       0\n       ..\n9995    0\n9996    0\n9997    1\n9998    1\n9999    0\nName: Exited, Length: 10000, dtype: int64\n"
     ]
    }
   ],
   "source": [
    "y = df_churn.iloc[:,13]\n",
    "print(y)"
   ]
  },
  {
   "source": [
    "5. Codifique a coluna/variável categórica \"Geography\" como numérica utilizando a classe LabelEncoder da biblioteca scikit-learn;"
   ],
   "cell_type": "markdown",
   "metadata": {}
  },
  {
   "cell_type": "code",
   "execution_count": 4,
   "metadata": {},
   "outputs": [
    {
     "output_type": "stream",
     "name": "stdout",
     "text": [
      "[[619 0 'Female' ... 1 1 101348.88]\n [608 2 'Female' ... 0 1 112542.58]\n [502 0 'Female' ... 1 0 113931.57]\n ...\n [709 0 'Female' ... 0 1 42085.58]\n [772 1 'Male' ... 1 0 92888.52]\n [792 0 'Female' ... 1 0 38190.78]]\n"
     ]
    }
   ],
   "source": [
    "from sklearn.preprocessing import LabelEncoder\n",
    "\n",
    "le = LabelEncoder() # cria objeto\n",
    "le.fit(X[:,1]) # ajusta na variável de entrada\n",
    "X[:,1] = le.transform(X[:,1]) # aplica a transformação na variável de entrada\n",
    "print(X)"
   ]
  },
  {
   "source": [
    "6. Codifique a coluna/variável categórica \"Gender\" como numérica utilizando a classe LabelEncoder da biblioteca scikit-learn;"
   ],
   "cell_type": "markdown",
   "metadata": {}
  },
  {
   "cell_type": "code",
   "execution_count": 5,
   "metadata": {},
   "outputs": [
    {
     "output_type": "stream",
     "name": "stdout",
     "text": [
      "[[619 0 0 ... 1 1 101348.88]\n [608 2 0 ... 0 1 112542.58]\n [502 0 0 ... 1 0 113931.57]\n ...\n [709 0 0 ... 0 1 42085.58]\n [772 1 1 ... 1 0 92888.52]\n [792 0 0 ... 1 0 38190.78]]\n"
     ]
    }
   ],
   "source": [
    "le = LabelEncoder() # cria objeto\n",
    "le.fit(X[:,2]) # ajusta na variável de entrada\n",
    "X[:,2] = le.transform(X[:,2]) # aplica a transformação na variável de entrada\n",
    "print(X)"
   ]
  },
  {
   "source": [
    "7. Após executar o passo 6 (anterior), transforme os dados da variável \"Geography\" para a forma binária utilizando a classe OneHotEncoder da biblioteca scikit-learn eliminando redundância, ou seja, aplicando a codificação de variáveis dummy. Observe que há apenas 3 países (categorias) diferentes. Atenção: esse talvez seja o passo mais difícil da tarefa. Você deve transformar o resultado da variável/coluna \"Geography\" obtido no passo 6 para o formato binário (one-hot) de modo que fique representado por apenas duas colunas (de 0s e 1s). Além disso, essas duas novas colunas devem permanecer na mesma variável X. Dica: verifique a utilização da função make_column_transformer (Links para um site externo.) da biblioteca scikit-learn;"
   ],
   "cell_type": "markdown",
   "metadata": {}
  },
  {
   "cell_type": "code",
   "execution_count": 6,
   "metadata": {},
   "outputs": [
    {
     "output_type": "stream",
     "name": "stdout",
     "text": [
      "[[0.0 0.0 619 ... 1 1 101348.88]\n [0.0 1.0 608 ... 0 1 112542.58]\n [0.0 0.0 502 ... 1 0 113931.57]\n ...\n [0.0 0.0 709 ... 0 1 42085.58]\n [1.0 0.0 772 ... 1 0 92888.52]\n [0.0 0.0 792 ... 1 0 38190.78]]\n"
     ]
    }
   ],
   "source": [
    "from sklearn.preprocessing import OneHotEncoder\n",
    "from sklearn.compose import make_column_transformer\n",
    "\n",
    "enc = OneHotEncoder(drop = 'first', sparse = False) # cria objeto com argumento sparse = False para retornar uma matriz\n",
    "ct = make_column_transformer((enc, [1]), remainder = 'passthrough')\n",
    "\n",
    "X = ct.fit_transform(X)\n",
    "print(X)"
   ]
  },
  {
   "cell_type": "code",
   "execution_count": 7,
   "metadata": {},
   "outputs": [
    {
     "output_type": "stream",
     "name": "stdout",
     "text": [
      "(10000, 11)\n"
     ]
    }
   ],
   "source": [
    "print(X.shape)"
   ]
  },
  {
   "source": [
    "8. Divida as variáveis X e y em dados de treino e de teste utilizando o método \"train_test_split\", gerando as variáveis X_train, X_test, y_train e y_test. Você define a proporção de dados de treino e de teste;"
   ],
   "cell_type": "markdown",
   "metadata": {}
  },
  {
   "cell_type": "code",
   "execution_count": 8,
   "metadata": {},
   "outputs": [],
   "source": [
    "from sklearn.model_selection import train_test_split\n",
    "X_train, X_test, y_train, y_test = train_test_split(X, y, test_size=0.33, random_state=42)"
   ]
  },
  {
   "cell_type": "code",
   "execution_count": 9,
   "metadata": {},
   "outputs": [
    {
     "output_type": "stream",
     "name": "stdout",
     "text": [
      "X train:  (6700, 11)\nX test:  (3300, 11)\ny train:  (6700,)\ny test:  (3300,)\n"
     ]
    }
   ],
   "source": [
    "print(\"X train: \", X_train.shape)\n",
    "print(\"X test: \", X_test.shape)\n",
    "print(\"y train: \", y_train.shape)\n",
    "print(\"y test: \", y_test.shape)"
   ]
  },
  {
   "source": [
    "9. Faça a padronização (escalonadmento) dos dados das variáveis X_train e X_test utilizando a classe StandardScaler do scikit-learn;"
   ],
   "cell_type": "markdown",
   "metadata": {}
  },
  {
   "cell_type": "code",
   "execution_count": 10,
   "metadata": {},
   "outputs": [
    {
     "output_type": "execute_result",
     "data": {
      "text/plain": [
       "array([[ 1.74875572, -0.57987798,  1.67588802, ..., -1.54618507,\n",
       "        -1.03555714,  1.50493673],\n",
       "       [ 1.74875572, -0.57987798,  0.30320673, ...,  0.64675311,\n",
       "         0.96566376, -1.31177144],\n",
       "       [ 1.74875572, -0.57987798, -0.10235819, ...,  0.64675311,\n",
       "        -1.03555714, -1.32081469],\n",
       "       ...,\n",
       "       [-0.57183516, -0.57987798,  0.86475817, ..., -1.54618507,\n",
       "        -1.03555714, -0.15299072],\n",
       "       [-0.57183516, -0.57987798,  0.15761932, ...,  0.64675311,\n",
       "        -1.03555714, -0.06143595],\n",
       "       [ 1.74875572, -0.57987798,  0.46959234, ...,  0.64675311,\n",
       "         0.96566376, -0.82198396]])"
      ]
     },
     "metadata": {},
     "execution_count": 10
    }
   ],
   "source": [
    "from sklearn.preprocessing import StandardScaler\n",
    "\n",
    "scaler = StandardScaler().fit(X_train)\n",
    "StandardScaler()\n",
    "\n",
    "scaler.mean_\n",
    "scaler.scale_\n",
    "\n",
    "scaler.transform(X_train)"
   ]
  }
 ]
}