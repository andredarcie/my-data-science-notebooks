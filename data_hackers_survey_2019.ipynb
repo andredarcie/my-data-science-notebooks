{
  "nbformat": 4,
  "nbformat_minor": 0,
  "metadata": {
    "colab": {
      "name": "data-hackers-survey-2019.ipynb",
      "provenance": [],
      "collapsed_sections": [],
      "toc_visible": true,
      "authorship_tag": "ABX9TyMY5fgyHEfG3r5VbHVPcrYH",
      "include_colab_link": true
    },
    "kernelspec": {
      "name": "python3",
      "display_name": "Python 3"
    }
  },
  "cells": [
    {
      "cell_type": "markdown",
      "metadata": {
        "id": "view-in-github",
        "colab_type": "text"
      },
      "source": [
        "<a href=\"https://colab.research.google.com/github/andredarcie/my-data-science-notebooks/blob/master/data_hackers_survey_2019.ipynb\" target=\"_parent\"><img src=\"https://colab.research.google.com/assets/colab-badge.svg\" alt=\"Open In Colab\"/></a>"
      ]
    },
    {
      "cell_type": "markdown",
      "metadata": {
        "id": "3yR4Ld8pTdqT",
        "colab_type": "text"
      },
      "source": [
        "# Data Hacker Survey 2019\n",
        "Resultados da pesquisa de mercado de Data Science feita pelo Data Hackers"
      ]
    },
    {
      "cell_type": "markdown",
      "metadata": {
        "id": "tikeW_hQKlUQ",
        "colab_type": "text"
      },
      "source": [
        "## Sobre a base de dados\n",
        "O dataset é criado a partir de uma pesquisa de mercado de Data Science no Brasil feita pela comunidade Data Hacker e foi retirado do site kaggle no link: [Data Hackers Survey 2019](https://www.kaggle.com/datahackers/pesquisa-data-hackers-2019) em 8 de agosto de 2020.\n",
        "A pesquisa foi conduzida de forma online durante o mês de Novembro de 2019, e consistia em um questionário com 39 perguntas.\n",
        "O dataset é composto por 1765 registros e 170 colunas.\n",
        "\n",
        "## Variáveis que podem ser úteis na análise\n",
        "Idade, Gênero, Nível de graduação, Salário, Tempo de experiência com Ciência de Dados, Linguagens de programação mais utilizadas, Estado, Emprego, Número de Funcionários e Setor do mercado.\n",
        "\n",
        "## Questões que possam ser respondidas através da análise\n",
        "### Sobre a pesquisa\n",
        "- Qual é a distribuição de idade e gênero?\n",
        "- Quantos cientistas de dados vivem no Brasil?\n",
        "- Qual a distribuição dos participantes por estado?\n",
        "- Maioria das pessoas que responderam a pesquisa são cientista de dados?\n",
        "- Qual a situação profissional os participantes se encontram?\n",
        "- Distribuição das pessoas que responderam a pesquisa por área de atuação?\n",
        "- Qual o tamanho das empresas que os participantes trabalham pelo número de funcionários?\n",
        "- Qual o nível de ensino mais popular entre os cientistas de dados?\n",
        "\n",
        "### Mercado de trabalho\n",
        "- Qual setor do mercado que contrata mais profissionais de ciência de dados?\n",
        "- Qual plataforma os cientista de dados utilizam para se atualizar sobre o mercado de trabalho?\n",
        "\n",
        "### Formação/Estudo e Ferramentas\n",
        "- Quais os métodos mais utilizados por cientistas de dados?\n",
        "- Quais as linguagens de programação mais utilizadas?\n",
        "- Quais as fontes de dados mais utilizadas por cientistas de dados?\n",
        "- Qual a distribuição entre profissionais e não profissionais em relação ao nível de ensino?\n",
        "- É necessário ter um mestrado para ser cientista de dados?\n",
        "- Qual a plataforma de curso preferida entre os cientistas de dados?\n",
        "\n",
        "### Salário\n",
        "- Qual o maior e menor salário?\n",
        "- Qual a correlação entre salário e idade?\n",
        "- Qual setor do mercado de trabalho paga os melhores salários para cientistas\n",
        "de dados?\n",
        "- Qual linguagem de programação tem os melhores salários?\n",
        "- Quais os melhores salários no geral?\n",
        "- Qual a média salarial dos cientistas de dados?\n",
        "- Existe relação do salário e o tamanho da empresa?\n",
        "- Quais os salários dos cientistas de dados?\n",
        "- Qual a diferença do salário médio por gênero?\n",
        "- Qual a relação entre salário e experiência como cientista de dados?\n",
        "- Qual o salário médio por estado?\n",
        "- Quantos profissionais ganham mais que 15 mil? Quais as características de quem ganha esse salário?\n"
      ]
    },
    {
      "cell_type": "code",
      "metadata": {
        "id": "vpkJpQWRWvxc",
        "colab_type": "code",
        "colab": {
          "base_uri": "https://localhost:8080/",
          "height": 406
        },
        "outputId": "11e3ce02-8662-419b-b798-5d6a078e8da6"
      },
      "source": [
        "import pandas as pd\n",
        "\n",
        "df = pd.read_csv('/content/datahackers-survey-2019-anonymous-responses.csv', sep=',')\n",
        "\n",
        "df.head()"
      ],
      "execution_count": 2,
      "outputs": [
        {
          "output_type": "execute_result",
          "data": {
            "text/html": [
              "<div>\n",
              "<style scoped>\n",
              "    .dataframe tbody tr th:only-of-type {\n",
              "        vertical-align: middle;\n",
              "    }\n",
              "\n",
              "    .dataframe tbody tr th {\n",
              "        vertical-align: top;\n",
              "    }\n",
              "\n",
              "    .dataframe thead th {\n",
              "        text-align: right;\n",
              "    }\n",
              "</style>\n",
              "<table border=\"1\" class=\"dataframe\">\n",
              "  <thead>\n",
              "    <tr style=\"text-align: right;\">\n",
              "      <th></th>\n",
              "      <th>('P0', 'id')</th>\n",
              "      <th>('P1', 'age')</th>\n",
              "      <th>('P2', 'gender')</th>\n",
              "      <th>('P3', 'living_in_brasil')</th>\n",
              "      <th>('P5', 'living_state')</th>\n",
              "      <th>('P6', 'born_or_graduated')</th>\n",
              "      <th>('P8', 'degreee_level')</th>\n",
              "      <th>('P10', 'job_situation')</th>\n",
              "      <th>('P12', 'workers_number')</th>\n",
              "      <th>('P13', 'manager')</th>\n",
              "      <th>('P16', 'salary_range')</th>\n",
              "      <th>('P17', 'time_experience_data_science')</th>\n",
              "      <th>('P18', 'time_experience_before')</th>\n",
              "      <th>('P19', 'is_data_science_professional')</th>\n",
              "      <th>('P20', 'linear_regression')</th>\n",
              "      <th>('P20', 'logistic_regression')</th>\n",
              "      <th>('P20', 'glms')</th>\n",
              "      <th>('P20', 'decision_tree')</th>\n",
              "      <th>('P20', 'random_forest')</th>\n",
              "      <th>('P20', 'neural_networks')</th>\n",
              "      <th>('P20', 'bayesian_inference')</th>\n",
              "      <th>('P20', 'ensemble')</th>\n",
              "      <th>('P20', 'svms')</th>\n",
              "      <th>('P20', 'cnns')</th>\n",
              "      <th>('P20', 'rnns')</th>\n",
              "      <th>('P20', 'hmms')</th>\n",
              "      <th>('P20', 'gans')</th>\n",
              "      <th>('P20', 'markov_chains')</th>\n",
              "      <th>('P20', 'nlp')</th>\n",
              "      <th>('P20', 'gradient_boosted_machines')</th>\n",
              "      <th>('P20', 'cluster_analysis')</th>\n",
              "      <th>('P20', 'survival_analysis')</th>\n",
              "      <th>('P20', 'longitudinal_data_analysis')</th>\n",
              "      <th>('P20', 'joint analysis')</th>\n",
              "      <th>('P20', 'no_listed_methods')</th>\n",
              "      <th>('P21', 'sql_')</th>\n",
              "      <th>('P21', 'r')</th>\n",
              "      <th>('P21', 'python')</th>\n",
              "      <th>('P21', 'c_c++_c#')</th>\n",
              "      <th>('P21', 'dotnet')</th>\n",
              "      <th>...</th>\n",
              "      <th>('P30', 'microsoft_azure')</th>\n",
              "      <th>('P30', 'do_not_know')</th>\n",
              "      <th>('P30', 'other')</th>\n",
              "      <th>('P31', 'data_hackers_blog')</th>\n",
              "      <th>('P31', 'data_hackers_podcast')</th>\n",
              "      <th>('P31', 'weekly_newsletter')</th>\n",
              "      <th>('P31', 'slack_channel')</th>\n",
              "      <th>('P31', 'data_hackers_bootcamp')</th>\n",
              "      <th>('P31', 'do_not_know_data_hackers')</th>\n",
              "      <th>('P32', 'prefered_data_hackers_initiative')</th>\n",
              "      <th>('P33', 'telegram_groups')</th>\n",
              "      <th>('P33', 'whatsapp_groups')</th>\n",
              "      <th>('P33', 'youtube_channels')</th>\n",
              "      <th>('P33', 'other_brasilian_blogs')</th>\n",
              "      <th>('P33', 'other_slack_channels')</th>\n",
              "      <th>('P33', 'twitter')</th>\n",
              "      <th>('P33', 'abroad_blogs')</th>\n",
              "      <th>('P33', 'abroad_podcasts')</th>\n",
              "      <th>('P33', 'meetups_and_events')</th>\n",
              "      <th>('P33', 'only_data_hackers')</th>\n",
              "      <th>('P33', 'other')</th>\n",
              "      <th>('P34', 'udacity')</th>\n",
              "      <th>('P34', 'coursera')</th>\n",
              "      <th>('P34', 'udemy')</th>\n",
              "      <th>('P34', 'height')</th>\n",
              "      <th>('P34', 'edx')</th>\n",
              "      <th>('P34', 'data_camp')</th>\n",
              "      <th>('P34', 'data_quest')</th>\n",
              "      <th>('P34', 'kaggle_learn')</th>\n",
              "      <th>('P34', 'online_courses')</th>\n",
              "      <th>('P34', 'other')</th>\n",
              "      <th>('P35', 'data_science_plataforms_preference')</th>\n",
              "      <th>('P35', 'other')</th>\n",
              "      <th>('P36', 'draw_participation')</th>\n",
              "      <th>('D1', 'living_macroregion')</th>\n",
              "      <th>('D2', 'origin_macroregion')</th>\n",
              "      <th>('D3', 'anonymized_degree_area')</th>\n",
              "      <th>('D4', 'anonymized_market_sector')</th>\n",
              "      <th>('D5', 'anonymized_manager_level')</th>\n",
              "      <th>('D6', 'anonymized_role')</th>\n",
              "    </tr>\n",
              "  </thead>\n",
              "  <tbody>\n",
              "    <tr>\n",
              "      <th>0</th>\n",
              "      <td>v9otv8j9wdvjrv9otvwnn9owhzq54ktv</td>\n",
              "      <td>37.0</td>\n",
              "      <td>Masculino</td>\n",
              "      <td>1</td>\n",
              "      <td>Minas Gerais (MG)</td>\n",
              "      <td>1.0</td>\n",
              "      <td>Estudante de Graduação</td>\n",
              "      <td>Empregado (CTL)</td>\n",
              "      <td>de 1 a 5</td>\n",
              "      <td>0.0</td>\n",
              "      <td>de R$ 1.001/mês a R$ 2.000/mês</td>\n",
              "      <td>Não tenho experiência na área de dados</td>\n",
              "      <td>Não tive experiência na área de TI/Engenharia ...</td>\n",
              "      <td>0</td>\n",
              "      <td>0</td>\n",
              "      <td>0</td>\n",
              "      <td>0</td>\n",
              "      <td>0</td>\n",
              "      <td>0</td>\n",
              "      <td>0</td>\n",
              "      <td>0</td>\n",
              "      <td>0</td>\n",
              "      <td>0</td>\n",
              "      <td>0</td>\n",
              "      <td>0</td>\n",
              "      <td>0</td>\n",
              "      <td>0</td>\n",
              "      <td>0</td>\n",
              "      <td>0</td>\n",
              "      <td>0</td>\n",
              "      <td>0</td>\n",
              "      <td>0</td>\n",
              "      <td>0</td>\n",
              "      <td>0</td>\n",
              "      <td>0</td>\n",
              "      <td>0</td>\n",
              "      <td>0</td>\n",
              "      <td>0</td>\n",
              "      <td>0</td>\n",
              "      <td>0</td>\n",
              "      <td>...</td>\n",
              "      <td>0</td>\n",
              "      <td>0</td>\n",
              "      <td>0</td>\n",
              "      <td>0</td>\n",
              "      <td>0</td>\n",
              "      <td>0</td>\n",
              "      <td>0</td>\n",
              "      <td>0</td>\n",
              "      <td>1</td>\n",
              "      <td>Ainda não conhecia o Data Hackers</td>\n",
              "      <td>0</td>\n",
              "      <td>0</td>\n",
              "      <td>1</td>\n",
              "      <td>0</td>\n",
              "      <td>0</td>\n",
              "      <td>0</td>\n",
              "      <td>0</td>\n",
              "      <td>0</td>\n",
              "      <td>0</td>\n",
              "      <td>0</td>\n",
              "      <td>0</td>\n",
              "      <td>0</td>\n",
              "      <td>0</td>\n",
              "      <td>0</td>\n",
              "      <td>0</td>\n",
              "      <td>0</td>\n",
              "      <td>0</td>\n",
              "      <td>0</td>\n",
              "      <td>0</td>\n",
              "      <td>1</td>\n",
              "      <td>0</td>\n",
              "      <td>Nunca fiz cursos online</td>\n",
              "      <td>NaN</td>\n",
              "      <td>1.0</td>\n",
              "      <td>Região Sudeste</td>\n",
              "      <td>NaN</td>\n",
              "      <td>Computação / Engenharia de Software / Sistemas...</td>\n",
              "      <td>Outras</td>\n",
              "      <td>NaN</td>\n",
              "      <td>Outras</td>\n",
              "    </tr>\n",
              "    <tr>\n",
              "      <th>1</th>\n",
              "      <td>875ul998t0hqcv0871uptwf3oswcfv35</td>\n",
              "      <td>24.0</td>\n",
              "      <td>Feminino</td>\n",
              "      <td>1</td>\n",
              "      <td>São Paulo (SP)</td>\n",
              "      <td>1.0</td>\n",
              "      <td>Estudante de Graduação</td>\n",
              "      <td>Empregado (CTL)</td>\n",
              "      <td>Acima de 3000</td>\n",
              "      <td>0.0</td>\n",
              "      <td>de R$ 2.001/mês a R$ 3000/mês</td>\n",
              "      <td>Menos de 1 ano</td>\n",
              "      <td>Não tive experiência na área de TI/Engenharia ...</td>\n",
              "      <td>1</td>\n",
              "      <td>0</td>\n",
              "      <td>0</td>\n",
              "      <td>0</td>\n",
              "      <td>0</td>\n",
              "      <td>0</td>\n",
              "      <td>0</td>\n",
              "      <td>0</td>\n",
              "      <td>0</td>\n",
              "      <td>0</td>\n",
              "      <td>0</td>\n",
              "      <td>0</td>\n",
              "      <td>0</td>\n",
              "      <td>0</td>\n",
              "      <td>0</td>\n",
              "      <td>0</td>\n",
              "      <td>0</td>\n",
              "      <td>0</td>\n",
              "      <td>0</td>\n",
              "      <td>0</td>\n",
              "      <td>0</td>\n",
              "      <td>1</td>\n",
              "      <td>1</td>\n",
              "      <td>0</td>\n",
              "      <td>1</td>\n",
              "      <td>0</td>\n",
              "      <td>0</td>\n",
              "      <td>...</td>\n",
              "      <td>0</td>\n",
              "      <td>0</td>\n",
              "      <td>0</td>\n",
              "      <td>0</td>\n",
              "      <td>0</td>\n",
              "      <td>0</td>\n",
              "      <td>0</td>\n",
              "      <td>0</td>\n",
              "      <td>1</td>\n",
              "      <td>Ainda não conhecia o Data Hackers</td>\n",
              "      <td>0</td>\n",
              "      <td>0</td>\n",
              "      <td>1</td>\n",
              "      <td>0</td>\n",
              "      <td>0</td>\n",
              "      <td>0</td>\n",
              "      <td>0</td>\n",
              "      <td>0</td>\n",
              "      <td>0</td>\n",
              "      <td>0</td>\n",
              "      <td>0</td>\n",
              "      <td>0</td>\n",
              "      <td>0</td>\n",
              "      <td>1</td>\n",
              "      <td>0</td>\n",
              "      <td>0</td>\n",
              "      <td>0</td>\n",
              "      <td>0</td>\n",
              "      <td>0</td>\n",
              "      <td>0</td>\n",
              "      <td>1</td>\n",
              "      <td>NaN</td>\n",
              "      <td>Data Science Academy</td>\n",
              "      <td>0.0</td>\n",
              "      <td>Região Sudeste</td>\n",
              "      <td>NaN</td>\n",
              "      <td>Computação / Engenharia de Software / Sistemas...</td>\n",
              "      <td>Educação</td>\n",
              "      <td>NaN</td>\n",
              "      <td>Data Analyst/Analista de Dados</td>\n",
              "    </tr>\n",
              "    <tr>\n",
              "      <th>2</th>\n",
              "      <td>puscuk079vw1pusbb900pzw2xvpxtgdk</td>\n",
              "      <td>26.0</td>\n",
              "      <td>Masculino</td>\n",
              "      <td>1</td>\n",
              "      <td>São Paulo (SP)</td>\n",
              "      <td>1.0</td>\n",
              "      <td>Graduação/Bacharelado</td>\n",
              "      <td>Empregado (CTL)</td>\n",
              "      <td>Acima de 3000</td>\n",
              "      <td>0.0</td>\n",
              "      <td>de R$ 4.001/mês a R$ 6.000/mês</td>\n",
              "      <td>de 1 a 2 anos</td>\n",
              "      <td>de 6 a 10 anos</td>\n",
              "      <td>1</td>\n",
              "      <td>0</td>\n",
              "      <td>0</td>\n",
              "      <td>0</td>\n",
              "      <td>0</td>\n",
              "      <td>1</td>\n",
              "      <td>1</td>\n",
              "      <td>0</td>\n",
              "      <td>1</td>\n",
              "      <td>1</td>\n",
              "      <td>0</td>\n",
              "      <td>0</td>\n",
              "      <td>0</td>\n",
              "      <td>0</td>\n",
              "      <td>0</td>\n",
              "      <td>0</td>\n",
              "      <td>0</td>\n",
              "      <td>1</td>\n",
              "      <td>0</td>\n",
              "      <td>0</td>\n",
              "      <td>0</td>\n",
              "      <td>0</td>\n",
              "      <td>0</td>\n",
              "      <td>0</td>\n",
              "      <td>1</td>\n",
              "      <td>0</td>\n",
              "      <td>0</td>\n",
              "      <td>...</td>\n",
              "      <td>0</td>\n",
              "      <td>0</td>\n",
              "      <td>0</td>\n",
              "      <td>0</td>\n",
              "      <td>1</td>\n",
              "      <td>1</td>\n",
              "      <td>0</td>\n",
              "      <td>0</td>\n",
              "      <td>0</td>\n",
              "      <td>Newsletter Semanal</td>\n",
              "      <td>0</td>\n",
              "      <td>0</td>\n",
              "      <td>0</td>\n",
              "      <td>1</td>\n",
              "      <td>0</td>\n",
              "      <td>0</td>\n",
              "      <td>0</td>\n",
              "      <td>0</td>\n",
              "      <td>0</td>\n",
              "      <td>0</td>\n",
              "      <td>0</td>\n",
              "      <td>0</td>\n",
              "      <td>1</td>\n",
              "      <td>1</td>\n",
              "      <td>0</td>\n",
              "      <td>0</td>\n",
              "      <td>0</td>\n",
              "      <td>0</td>\n",
              "      <td>1</td>\n",
              "      <td>0</td>\n",
              "      <td>0</td>\n",
              "      <td>Udemy</td>\n",
              "      <td>NaN</td>\n",
              "      <td>1.0</td>\n",
              "      <td>Região Sudeste</td>\n",
              "      <td>NaN</td>\n",
              "      <td>Outras Engenharias</td>\n",
              "      <td>Indústria (Manufatura)</td>\n",
              "      <td>NaN</td>\n",
              "      <td>Outras</td>\n",
              "    </tr>\n",
              "    <tr>\n",
              "      <th>3</th>\n",
              "      <td>rmel8ewqpbffp2mnfbzermel8eqincov</td>\n",
              "      <td>21.0</td>\n",
              "      <td>Masculino</td>\n",
              "      <td>1</td>\n",
              "      <td>São Paulo (SP)</td>\n",
              "      <td>0.0</td>\n",
              "      <td>Estudante de Graduação</td>\n",
              "      <td>Estagiário</td>\n",
              "      <td>de 11 a 50</td>\n",
              "      <td>0.0</td>\n",
              "      <td>de R$ 1.001/mês a R$ 2.000/mês</td>\n",
              "      <td>Menos de 1 ano</td>\n",
              "      <td>de 2 a 3 anos</td>\n",
              "      <td>1</td>\n",
              "      <td>0</td>\n",
              "      <td>0</td>\n",
              "      <td>0</td>\n",
              "      <td>0</td>\n",
              "      <td>1</td>\n",
              "      <td>0</td>\n",
              "      <td>0</td>\n",
              "      <td>0</td>\n",
              "      <td>0</td>\n",
              "      <td>0</td>\n",
              "      <td>0</td>\n",
              "      <td>0</td>\n",
              "      <td>0</td>\n",
              "      <td>0</td>\n",
              "      <td>0</td>\n",
              "      <td>0</td>\n",
              "      <td>0</td>\n",
              "      <td>0</td>\n",
              "      <td>0</td>\n",
              "      <td>0</td>\n",
              "      <td>0</td>\n",
              "      <td>1</td>\n",
              "      <td>0</td>\n",
              "      <td>1</td>\n",
              "      <td>0</td>\n",
              "      <td>0</td>\n",
              "      <td>...</td>\n",
              "      <td>0</td>\n",
              "      <td>0</td>\n",
              "      <td>0</td>\n",
              "      <td>0</td>\n",
              "      <td>0</td>\n",
              "      <td>0</td>\n",
              "      <td>0</td>\n",
              "      <td>0</td>\n",
              "      <td>1</td>\n",
              "      <td>Ainda não conhecia o Data Hackers</td>\n",
              "      <td>0</td>\n",
              "      <td>1</td>\n",
              "      <td>0</td>\n",
              "      <td>0</td>\n",
              "      <td>0</td>\n",
              "      <td>0</td>\n",
              "      <td>0</td>\n",
              "      <td>1</td>\n",
              "      <td>0</td>\n",
              "      <td>0</td>\n",
              "      <td>0</td>\n",
              "      <td>0</td>\n",
              "      <td>1</td>\n",
              "      <td>1</td>\n",
              "      <td>1</td>\n",
              "      <td>0</td>\n",
              "      <td>0</td>\n",
              "      <td>0</td>\n",
              "      <td>0</td>\n",
              "      <td>0</td>\n",
              "      <td>0</td>\n",
              "      <td>Alura</td>\n",
              "      <td>NaN</td>\n",
              "      <td>1.0</td>\n",
              "      <td>Região Sudeste</td>\n",
              "      <td>Região Sudeste</td>\n",
              "      <td>Computação / Engenharia de Software / Sistemas...</td>\n",
              "      <td>Tecnologia/Fábrica de Software</td>\n",
              "      <td>NaN</td>\n",
              "      <td>Business Intelligence/Analista de BI</td>\n",
              "    </tr>\n",
              "    <tr>\n",
              "      <th>4</th>\n",
              "      <td>pj9mgud4d6mdct1l7vq0pj9mgu78h6ju</td>\n",
              "      <td>27.0</td>\n",
              "      <td>Masculino</td>\n",
              "      <td>1</td>\n",
              "      <td>NaN</td>\n",
              "      <td>1.0</td>\n",
              "      <td>Graduação/Bacharelado</td>\n",
              "      <td>Freelancer</td>\n",
              "      <td>de 6 a 10</td>\n",
              "      <td>1.0</td>\n",
              "      <td>de R$ 6.001/mês a R$ 8.000/mês</td>\n",
              "      <td>de 4 a 5 anos</td>\n",
              "      <td>de 4 a 5 anos</td>\n",
              "      <td>1</td>\n",
              "      <td>1</td>\n",
              "      <td>0</td>\n",
              "      <td>0</td>\n",
              "      <td>1</td>\n",
              "      <td>1</td>\n",
              "      <td>0</td>\n",
              "      <td>0</td>\n",
              "      <td>1</td>\n",
              "      <td>1</td>\n",
              "      <td>0</td>\n",
              "      <td>1</td>\n",
              "      <td>0</td>\n",
              "      <td>0</td>\n",
              "      <td>0</td>\n",
              "      <td>1</td>\n",
              "      <td>0</td>\n",
              "      <td>0</td>\n",
              "      <td>0</td>\n",
              "      <td>0</td>\n",
              "      <td>0</td>\n",
              "      <td>0</td>\n",
              "      <td>1</td>\n",
              "      <td>0</td>\n",
              "      <td>1</td>\n",
              "      <td>1</td>\n",
              "      <td>0</td>\n",
              "      <td>...</td>\n",
              "      <td>0</td>\n",
              "      <td>0</td>\n",
              "      <td>0</td>\n",
              "      <td>1</td>\n",
              "      <td>0</td>\n",
              "      <td>0</td>\n",
              "      <td>0</td>\n",
              "      <td>0</td>\n",
              "      <td>0</td>\n",
              "      <td>Blog/Medium do Data Hackers</td>\n",
              "      <td>0</td>\n",
              "      <td>0</td>\n",
              "      <td>0</td>\n",
              "      <td>0</td>\n",
              "      <td>0</td>\n",
              "      <td>0</td>\n",
              "      <td>0</td>\n",
              "      <td>0</td>\n",
              "      <td>0</td>\n",
              "      <td>0</td>\n",
              "      <td>1</td>\n",
              "      <td>1</td>\n",
              "      <td>1</td>\n",
              "      <td>1</td>\n",
              "      <td>0</td>\n",
              "      <td>0</td>\n",
              "      <td>0</td>\n",
              "      <td>0</td>\n",
              "      <td>0</td>\n",
              "      <td>0</td>\n",
              "      <td>0</td>\n",
              "      <td>Udemy</td>\n",
              "      <td>NaN</td>\n",
              "      <td>1.0</td>\n",
              "      <td>NaN</td>\n",
              "      <td>NaN</td>\n",
              "      <td>Computação / Engenharia de Software / Sistemas...</td>\n",
              "      <td>Internet/Ecommerce</td>\n",
              "      <td>C-level (CDO, CIO, CTO)</td>\n",
              "      <td>NaN</td>\n",
              "    </tr>\n",
              "  </tbody>\n",
              "</table>\n",
              "<p>5 rows × 170 columns</p>\n",
              "</div>"
            ],
            "text/plain": [
              "                       ('P0', 'id')  ...             ('D6', 'anonymized_role')\n",
              "0  v9otv8j9wdvjrv9otvwnn9owhzq54ktv  ...                                Outras\n",
              "1  875ul998t0hqcv0871uptwf3oswcfv35  ...        Data Analyst/Analista de Dados\n",
              "2  puscuk079vw1pusbb900pzw2xvpxtgdk  ...                                Outras\n",
              "3  rmel8ewqpbffp2mnfbzermel8eqincov  ...  Business Intelligence/Analista de BI\n",
              "4  pj9mgud4d6mdct1l7vq0pj9mgu78h6ju  ...                                   NaN\n",
              "\n",
              "[5 rows x 170 columns]"
            ]
          },
          "metadata": {
            "tags": []
          },
          "execution_count": 2
        }
      ]
    },
    {
      "cell_type": "code",
      "metadata": {
        "id": "mGHA2GJrYbm6",
        "colab_type": "code",
        "colab": {
          "base_uri": "https://localhost:8080/",
          "height": 34
        },
        "outputId": "9c21de09-25db-44e9-8894-ff5138bfcdcc"
      },
      "source": [
        "df.shape"
      ],
      "execution_count": null,
      "outputs": [
        {
          "output_type": "execute_result",
          "data": {
            "text/plain": [
              "(1765, 170)"
            ]
          },
          "metadata": {
            "tags": []
          },
          "execution_count": 6
        }
      ]
    },
    {
      "cell_type": "code",
      "metadata": {
        "id": "PKLlKVmBchJb",
        "colab_type": "code",
        "colab": {}
      },
      "source": [
        "# Limpando o nome das colunas\n",
        "df.columns = [cols.replace(\"(\",\"\").replace(\")\",\"\").replace(\",\",\"\").replace(\"'\",\"\").replace(\" \",\"_\") for cols in df.columns]"
      ],
      "execution_count": 3,
      "outputs": []
    },
    {
      "cell_type": "code",
      "metadata": {
        "id": "KEcJQhvWaU3r",
        "colab_type": "code",
        "colab": {
          "base_uri": "https://localhost:8080/",
          "height": 483
        },
        "outputId": "cf726cb4-76f0-41dc-ceaf-028c31d85467"
      },
      "source": [
        "por_cargo = df['D6_anonymized_role'].value_counts().reset_index()\n",
        "por_cargo.columns = [ 'Cargo', 'Quantidade de pessoas' ]\n",
        "por_cargo"
      ],
      "execution_count": null,
      "outputs": [
        {
          "output_type": "execute_result",
          "data": {
            "text/html": [
              "<div>\n",
              "<style scoped>\n",
              "    .dataframe tbody tr th:only-of-type {\n",
              "        vertical-align: middle;\n",
              "    }\n",
              "\n",
              "    .dataframe tbody tr th {\n",
              "        vertical-align: top;\n",
              "    }\n",
              "\n",
              "    .dataframe thead th {\n",
              "        text-align: right;\n",
              "    }\n",
              "</style>\n",
              "<table border=\"1\" class=\"dataframe\">\n",
              "  <thead>\n",
              "    <tr style=\"text-align: right;\">\n",
              "      <th></th>\n",
              "      <th>Cargo</th>\n",
              "      <th>Quantidade de pessoas</th>\n",
              "    </tr>\n",
              "  </thead>\n",
              "  <tbody>\n",
              "    <tr>\n",
              "      <th>0</th>\n",
              "      <td>Desenvolvedor ou Engenheiro de Software</td>\n",
              "      <td>225</td>\n",
              "    </tr>\n",
              "    <tr>\n",
              "      <th>1</th>\n",
              "      <td>Outras</td>\n",
              "      <td>220</td>\n",
              "    </tr>\n",
              "    <tr>\n",
              "      <th>2</th>\n",
              "      <td>Data Scientist/Cientista de Dados</td>\n",
              "      <td>167</td>\n",
              "    </tr>\n",
              "    <tr>\n",
              "      <th>3</th>\n",
              "      <td>Data Analyst/Analista de Dados</td>\n",
              "      <td>163</td>\n",
              "    </tr>\n",
              "    <tr>\n",
              "      <th>4</th>\n",
              "      <td>Business Intelligence/Analista de BI</td>\n",
              "      <td>150</td>\n",
              "    </tr>\n",
              "    <tr>\n",
              "      <th>5</th>\n",
              "      <td>Data Engineer/Engenheiro de Dados</td>\n",
              "      <td>130</td>\n",
              "    </tr>\n",
              "    <tr>\n",
              "      <th>6</th>\n",
              "      <td>Business Analyst/Analista de Negócios</td>\n",
              "      <td>72</td>\n",
              "    </tr>\n",
              "    <tr>\n",
              "      <th>7</th>\n",
              "      <td>Analista de Inteligência de Mercado</td>\n",
              "      <td>29</td>\n",
              "    </tr>\n",
              "    <tr>\n",
              "      <th>8</th>\n",
              "      <td>Engenheiro</td>\n",
              "      <td>26</td>\n",
              "    </tr>\n",
              "    <tr>\n",
              "      <th>9</th>\n",
              "      <td>Analista de Marketing</td>\n",
              "      <td>19</td>\n",
              "    </tr>\n",
              "    <tr>\n",
              "      <th>10</th>\n",
              "      <td>Engenheiro de Machine Learning</td>\n",
              "      <td>15</td>\n",
              "    </tr>\n",
              "    <tr>\n",
              "      <th>11</th>\n",
              "      <td>DBA/Administrador de Banco de Dados</td>\n",
              "      <td>14</td>\n",
              "    </tr>\n",
              "    <tr>\n",
              "      <th>12</th>\n",
              "      <td>Estatístico</td>\n",
              "      <td>11</td>\n",
              "    </tr>\n",
              "    <tr>\n",
              "      <th>13</th>\n",
              "      <td>Economista</td>\n",
              "      <td>10</td>\n",
              "    </tr>\n",
              "  </tbody>\n",
              "</table>\n",
              "</div>"
            ],
            "text/plain": [
              "                                      Cargo  Quantidade de pessoas\n",
              "0   Desenvolvedor ou Engenheiro de Software                    225\n",
              "1                                    Outras                    220\n",
              "2         Data Scientist/Cientista de Dados                    167\n",
              "3            Data Analyst/Analista de Dados                    163\n",
              "4      Business Intelligence/Analista de BI                    150\n",
              "5         Data Engineer/Engenheiro de Dados                    130\n",
              "6     Business Analyst/Analista de Negócios                     72\n",
              "7       Analista de Inteligência de Mercado                     29\n",
              "8                                Engenheiro                     26\n",
              "9                     Analista de Marketing                     19\n",
              "10           Engenheiro de Machine Learning                     15\n",
              "11      DBA/Administrador de Banco de Dados                     14\n",
              "12                              Estatístico                     11\n",
              "13                               Economista                     10"
            ]
          },
          "metadata": {
            "tags": []
          },
          "execution_count": 18
        }
      ]
    },
    {
      "cell_type": "code",
      "metadata": {
        "id": "ef9wcBfIb1e6",
        "colab_type": "code",
        "colab": {
          "base_uri": "https://localhost:8080/",
          "height": 111
        },
        "outputId": "db52cfc2-c25e-4d01-a9a4-97b7bf472e29"
      },
      "source": [
        "df['P21_python'].value_counts().reset_index()"
      ],
      "execution_count": null,
      "outputs": [
        {
          "output_type": "execute_result",
          "data": {
            "text/html": [
              "<div>\n",
              "<style scoped>\n",
              "    .dataframe tbody tr th:only-of-type {\n",
              "        vertical-align: middle;\n",
              "    }\n",
              "\n",
              "    .dataframe tbody tr th {\n",
              "        vertical-align: top;\n",
              "    }\n",
              "\n",
              "    .dataframe thead th {\n",
              "        text-align: right;\n",
              "    }\n",
              "</style>\n",
              "<table border=\"1\" class=\"dataframe\">\n",
              "  <thead>\n",
              "    <tr style=\"text-align: right;\">\n",
              "      <th></th>\n",
              "      <th>index</th>\n",
              "      <th>P21_python</th>\n",
              "    </tr>\n",
              "  </thead>\n",
              "  <tbody>\n",
              "    <tr>\n",
              "      <th>0</th>\n",
              "      <td>0</td>\n",
              "      <td>981</td>\n",
              "    </tr>\n",
              "    <tr>\n",
              "      <th>1</th>\n",
              "      <td>1</td>\n",
              "      <td>784</td>\n",
              "    </tr>\n",
              "  </tbody>\n",
              "</table>\n",
              "</div>"
            ],
            "text/plain": [
              "   index  P21_python\n",
              "0      0         981\n",
              "1      1         784"
            ]
          },
          "metadata": {
            "tags": []
          },
          "execution_count": 49
        }
      ]
    },
    {
      "cell_type": "markdown",
      "metadata": {
        "id": "6HP_gDh9du8D",
        "colab_type": "text"
      },
      "source": [
        "Quais das linguagens de programação listadas abaixo você utiliza no trabalho?"
      ]
    },
    {
      "cell_type": "code",
      "metadata": {
        "id": "au1hQXwxdb17",
        "colab_type": "code",
        "colab": {
          "base_uri": "https://localhost:8080/",
          "height": 34
        },
        "outputId": "77851c0d-f7fd-4915-cc4f-f0304b68e396"
      },
      "source": [
        "colunas_linguagem_de_programacao = []\n",
        "linguagens_de_programacao = []\n",
        "for column in df.columns:\n",
        "  if 'P21' in column:\n",
        "    colunas_linguagem_de_programacao.append(column)\n",
        "    linguagens_de_programacao.append(column.replace('P21', '').replace('_', ' ').strip().capitalize())\n",
        "  \n",
        "print(linguagens_de_programacao)"
      ],
      "execution_count": null,
      "outputs": [
        {
          "output_type": "stream",
          "text": [
            "['Sql', 'R', 'Python', 'C c++ c#', 'Dotnet', 'Java', 'Julia', 'Sas stata', 'Visual basic vba', 'Scala', 'Matlab', 'Php', 'No listed languages']\n"
          ],
          "name": "stdout"
        }
      ]
    },
    {
      "cell_type": "code",
      "metadata": {
        "id": "Bu7Lchu_gyG9",
        "colab_type": "code",
        "colab": {
          "base_uri": "https://localhost:8080/",
          "height": 328
        },
        "outputId": "4bf2e5a1-949f-48f2-976d-1a025cdf310e"
      },
      "source": [
        "linguagens_de_programacao_mais_usadas = df['P22_most_used_proggraming_languages'].value_counts().reset_index()\n",
        "linguagens_de_programacao_mais_usadas.columns = ['Linguagem de programação', 'Quantidade']\n",
        "linguagens_de_programacao_mais_usadas"
      ],
      "execution_count": null,
      "outputs": [
        {
          "output_type": "execute_result",
          "data": {
            "text/html": [
              "<div>\n",
              "<style scoped>\n",
              "    .dataframe tbody tr th:only-of-type {\n",
              "        vertical-align: middle;\n",
              "    }\n",
              "\n",
              "    .dataframe tbody tr th {\n",
              "        vertical-align: top;\n",
              "    }\n",
              "\n",
              "    .dataframe thead th {\n",
              "        text-align: right;\n",
              "    }\n",
              "</style>\n",
              "<table border=\"1\" class=\"dataframe\">\n",
              "  <thead>\n",
              "    <tr style=\"text-align: right;\">\n",
              "      <th></th>\n",
              "      <th>Linguagem de programação</th>\n",
              "      <th>Quantidade</th>\n",
              "    </tr>\n",
              "  </thead>\n",
              "  <tbody>\n",
              "    <tr>\n",
              "      <th>0</th>\n",
              "      <td>Python</td>\n",
              "      <td>459</td>\n",
              "    </tr>\n",
              "    <tr>\n",
              "      <th>1</th>\n",
              "      <td>SQL</td>\n",
              "      <td>279</td>\n",
              "    </tr>\n",
              "    <tr>\n",
              "      <th>2</th>\n",
              "      <td>R</td>\n",
              "      <td>91</td>\n",
              "    </tr>\n",
              "    <tr>\n",
              "      <th>3</th>\n",
              "      <td>SAS/Stata</td>\n",
              "      <td>19</td>\n",
              "    </tr>\n",
              "    <tr>\n",
              "      <th>4</th>\n",
              "      <td>Java</td>\n",
              "      <td>17</td>\n",
              "    </tr>\n",
              "    <tr>\n",
              "      <th>5</th>\n",
              "      <td>Visual Basic/VBA</td>\n",
              "      <td>12</td>\n",
              "    </tr>\n",
              "    <tr>\n",
              "      <th>6</th>\n",
              "      <td>Não utilizo nenhuma das linguagens listadas</td>\n",
              "      <td>10</td>\n",
              "    </tr>\n",
              "    <tr>\n",
              "      <th>7</th>\n",
              "      <td>Scala</td>\n",
              "      <td>10</td>\n",
              "    </tr>\n",
              "    <tr>\n",
              "      <th>8</th>\n",
              "      <td>C/C++/C#</td>\n",
              "      <td>9</td>\n",
              "    </tr>\n",
              "  </tbody>\n",
              "</table>\n",
              "</div>"
            ],
            "text/plain": [
              "                      Linguagem de programação  Quantidade\n",
              "0                                       Python         459\n",
              "1                                          SQL         279\n",
              "2                                            R          91\n",
              "3                                    SAS/Stata          19\n",
              "4                                         Java          17\n",
              "5                             Visual Basic/VBA          12\n",
              "6  Não utilizo nenhuma das linguagens listadas          10\n",
              "7                                        Scala          10\n",
              "8                                     C/C++/C#           9"
            ]
          },
          "metadata": {
            "tags": []
          },
          "execution_count": 56
        }
      ]
    },
    {
      "cell_type": "markdown",
      "metadata": {
        "id": "B4YUd6JW-luc",
        "colab_type": "text"
      },
      "source": [
        "# Sobre a pesquisa"
      ]
    },
    {
      "cell_type": "markdown",
      "metadata": {
        "id": "kW3eUrHt-uWt",
        "colab_type": "text"
      },
      "source": [
        "## Qual é a distribuição de idade e gênero?"
      ]
    },
    {
      "cell_type": "code",
      "metadata": {
        "id": "2VJZhCMk-wUD",
        "colab_type": "code",
        "colab": {
          "base_uri": "https://localhost:8080/",
          "height": 111
        },
        "outputId": "a8a0d924-d9d4-44a1-893e-e3766eca66e2"
      },
      "source": [
        "por_genero = df['P2_gender'].value_counts(normalize=True) * 100\n",
        "por_genero = por_genero.reset_index()\n",
        "por_genero.columns = ['Gênero', 'Porcentagem']\n",
        "por_genero"
      ],
      "execution_count": null,
      "outputs": [
        {
          "output_type": "execute_result",
          "data": {
            "text/html": [
              "<div>\n",
              "<style scoped>\n",
              "    .dataframe tbody tr th:only-of-type {\n",
              "        vertical-align: middle;\n",
              "    }\n",
              "\n",
              "    .dataframe tbody tr th {\n",
              "        vertical-align: top;\n",
              "    }\n",
              "\n",
              "    .dataframe thead th {\n",
              "        text-align: right;\n",
              "    }\n",
              "</style>\n",
              "<table border=\"1\" class=\"dataframe\">\n",
              "  <thead>\n",
              "    <tr style=\"text-align: right;\">\n",
              "      <th></th>\n",
              "      <th>Gênero</th>\n",
              "      <th>Porcentagem</th>\n",
              "    </tr>\n",
              "  </thead>\n",
              "  <tbody>\n",
              "    <tr>\n",
              "      <th>0</th>\n",
              "      <td>Masculino</td>\n",
              "      <td>81.498297</td>\n",
              "    </tr>\n",
              "    <tr>\n",
              "      <th>1</th>\n",
              "      <td>Feminino</td>\n",
              "      <td>18.501703</td>\n",
              "    </tr>\n",
              "  </tbody>\n",
              "</table>\n",
              "</div>"
            ],
            "text/plain": [
              "      Gênero  Porcentagem\n",
              "0  Masculino    81.498297\n",
              "1   Feminino    18.501703"
            ]
          },
          "metadata": {
            "tags": []
          },
          "execution_count": 42
        }
      ]
    },
    {
      "cell_type": "code",
      "metadata": {
        "id": "DsENdE6YA3ju",
        "colab_type": "code",
        "colab": {
          "base_uri": "https://localhost:8080/",
          "height": 312
        },
        "outputId": "473f6210-4092-431a-81c2-8e40310e9551"
      },
      "source": [
        "por_genero.plot.bar(x='Gênero', y='Porcentagem', rot=0, title='Distribuição de gênero')"
      ],
      "execution_count": null,
      "outputs": [
        {
          "output_type": "execute_result",
          "data": {
            "text/plain": [
              "<matplotlib.axes._subplots.AxesSubplot at 0x7f25d9933c50>"
            ]
          },
          "metadata": {
            "tags": []
          },
          "execution_count": 44
        },
        {
          "output_type": "display_data",
          "data": {
            "image/png": "[encoded data removed]",
            "text/plain": [
              "<Figure size 432x288 with 1 Axes>"
            ]
          },
          "metadata": {
            "tags": [],
            "needs_background": "light"
          }
        }
      ]
    },
    {
      "cell_type": "code",
      "metadata": {
        "id": "xPUAls07EIiL",
        "colab_type": "code",
        "colab": {
          "base_uri": "https://localhost:8080/",
          "height": 312
        },
        "outputId": "7dc60002-7870-4db9-f72d-150340da91d6"
      },
      "source": [
        "por_idade = df['P1_age'].value_counts(sort=False, bins=5).reset_index()\n",
        "por_idade.columns = ['Idade', 'Porcentagem']\n",
        "por_idade.plot.bar(x='Idade', y='Porcentagem', rot=0, title='Distribuição de idade')"
      ],
      "execution_count": null,
      "outputs": [
        {
          "output_type": "execute_result",
          "data": {
            "text/plain": [
              "<matplotlib.axes._subplots.AxesSubplot at 0x7f25d97ed390>"
            ]
          },
          "metadata": {
            "tags": []
          },
          "execution_count": 45
        },
        {
          "output_type": "display_data",
          "data": {
            "image/png": "[encoded data removed]",
            "text/plain": [
              "<Figure size 432x288 with 1 Axes>"
            ]
          },
          "metadata": {
            "tags": [],
            "needs_background": "light"
          }
        }
      ]
    },
    {
      "cell_type": "markdown",
      "metadata": {
        "id": "aaGQx_vUJHkh",
        "colab_type": "text"
      },
      "source": [
        "## Quantos cientistas de dados vivem no Brasil?"
      ]
    },
    {
      "cell_type": "code",
      "metadata": {
        "id": "WJa33LvOJJhV",
        "colab_type": "code",
        "colab": {
          "base_uri": "https://localhost:8080/",
          "height": 312
        },
        "outputId": "6a04a90c-64a5-4c4c-cc1d-56d4e7392a8b"
      },
      "source": [
        "mora_no_brasil = df['P3_living_in_brasil'].value_counts(normalize=True) * 100\n",
        "mora_no_brasil = mora_no_brasil.reset_index()\n",
        "mora_no_brasil = mora_no_brasil.replace(1, 'Sim').replace(0, 'Não')\n",
        "mora_no_brasil.columns = ['Vive no Brasil?', 'Porcentagem']\n",
        "mora_no_brasil.plot.bar(x='Vive no Brasil?', y='Porcentagem', rot=0, title='Ciêntistas de dados que vivem no Brasil')"
      ],
      "execution_count": null,
      "outputs": [
        {
          "output_type": "execute_result",
          "data": {
            "text/plain": [
              "<matplotlib.axes._subplots.AxesSubplot at 0x7f25d97d4898>"
            ]
          },
          "metadata": {
            "tags": []
          },
          "execution_count": 46
        },
        {
          "output_type": "display_data",
          "data": {
            "image/png": "[encoded data removed]",
            "text/plain": [
              "<Figure size 432x288 with 1 Axes>"
            ]
          },
          "metadata": {
            "tags": [],
            "needs_background": "light"
          }
        }
      ]
    },
    {
      "cell_type": "markdown",
      "metadata": {
        "id": "rlHKugE6KMZt",
        "colab_type": "text"
      },
      "source": [
        "## Qual a distribuição dos participantes por estado?"
      ]
    },
    {
      "cell_type": "code",
      "metadata": {
        "id": "dOMs7YRLKOp4",
        "colab_type": "code",
        "colab": {
          "base_uri": "https://localhost:8080/",
          "height": 367
        },
        "outputId": "ddee331b-ceb7-48f7-a9bb-978191e0d775"
      },
      "source": [
        "por_estado = df['P5_living_state'].value_counts(normalize=True) * 100\n",
        "por_estado = por_estado.reset_index()\n",
        "por_estado.columns = ['Estado', 'Porcentagem']\n",
        "por_estado.plot.bar(x='Estado', y='Porcentagem', rot=0, \n",
        "                    figsize=(15, 5), title='Ciêntistas de dados por Estado')"
      ],
      "execution_count": null,
      "outputs": [
        {
          "output_type": "execute_result",
          "data": {
            "text/plain": [
              "<matplotlib.axes._subplots.AxesSubplot at 0x7f25d94d40b8>"
            ]
          },
          "metadata": {
            "tags": []
          },
          "execution_count": 59
        },
        {
          "output_type": "display_data",
          "data": {
            "image/png": "[encoded data removed]",
            "text/plain": [
              "<Figure size 1080x360 with 1 Axes>"
            ]
          },
          "metadata": {
            "tags": [],
            "needs_background": "light"
          }
        }
      ]
    },
    {
      "cell_type": "markdown",
      "metadata": {
        "id": "o48Je7AXRle6",
        "colab_type": "text"
      },
      "source": [
        "## Maioria das pessoas que responderam a pesquisa são cientista de dados?"
      ]
    },
    {
      "cell_type": "code",
      "metadata": {
        "id": "qEZsSLMgRnqU",
        "colab_type": "code",
        "colab": {
          "base_uri": "https://localhost:8080/",
          "height": 483
        },
        "outputId": "ac303eb3-be16-429e-b2e1-3a2d744bd54c"
      },
      "source": [
        "por_cargo = df['D6_anonymized_role'].value_counts(normalize=True) * 100\n",
        "por_cargo = por_cargo.reset_index()\n",
        "por_cargo"
      ],
      "execution_count": null,
      "outputs": [
        {
          "output_type": "execute_result",
          "data": {
            "text/html": [
              "<div>\n",
              "<style scoped>\n",
              "    .dataframe tbody tr th:only-of-type {\n",
              "        vertical-align: middle;\n",
              "    }\n",
              "\n",
              "    .dataframe tbody tr th {\n",
              "        vertical-align: top;\n",
              "    }\n",
              "\n",
              "    .dataframe thead th {\n",
              "        text-align: right;\n",
              "    }\n",
              "</style>\n",
              "<table border=\"1\" class=\"dataframe\">\n",
              "  <thead>\n",
              "    <tr style=\"text-align: right;\">\n",
              "      <th></th>\n",
              "      <th>index</th>\n",
              "      <th>D6_anonymized_role</th>\n",
              "    </tr>\n",
              "  </thead>\n",
              "  <tbody>\n",
              "    <tr>\n",
              "      <th>0</th>\n",
              "      <td>Desenvolvedor ou Engenheiro de Software</td>\n",
              "      <td>17.985612</td>\n",
              "    </tr>\n",
              "    <tr>\n",
              "      <th>1</th>\n",
              "      <td>Outras</td>\n",
              "      <td>17.585931</td>\n",
              "    </tr>\n",
              "    <tr>\n",
              "      <th>2</th>\n",
              "      <td>Data Scientist/Cientista de Dados</td>\n",
              "      <td>13.349321</td>\n",
              "    </tr>\n",
              "    <tr>\n",
              "      <th>3</th>\n",
              "      <td>Data Analyst/Analista de Dados</td>\n",
              "      <td>13.029576</td>\n",
              "    </tr>\n",
              "    <tr>\n",
              "      <th>4</th>\n",
              "      <td>Business Intelligence/Analista de BI</td>\n",
              "      <td>11.990408</td>\n",
              "    </tr>\n",
              "    <tr>\n",
              "      <th>5</th>\n",
              "      <td>Data Engineer/Engenheiro de Dados</td>\n",
              "      <td>10.391687</td>\n",
              "    </tr>\n",
              "    <tr>\n",
              "      <th>6</th>\n",
              "      <td>Business Analyst/Analista de Negócios</td>\n",
              "      <td>5.755396</td>\n",
              "    </tr>\n",
              "    <tr>\n",
              "      <th>7</th>\n",
              "      <td>Analista de Inteligência de Mercado</td>\n",
              "      <td>2.318145</td>\n",
              "    </tr>\n",
              "    <tr>\n",
              "      <th>8</th>\n",
              "      <td>Engenheiro</td>\n",
              "      <td>2.078337</td>\n",
              "    </tr>\n",
              "    <tr>\n",
              "      <th>9</th>\n",
              "      <td>Analista de Marketing</td>\n",
              "      <td>1.518785</td>\n",
              "    </tr>\n",
              "    <tr>\n",
              "      <th>10</th>\n",
              "      <td>Engenheiro de Machine Learning</td>\n",
              "      <td>1.199041</td>\n",
              "    </tr>\n",
              "    <tr>\n",
              "      <th>11</th>\n",
              "      <td>DBA/Administrador de Banco de Dados</td>\n",
              "      <td>1.119105</td>\n",
              "    </tr>\n",
              "    <tr>\n",
              "      <th>12</th>\n",
              "      <td>Estatístico</td>\n",
              "      <td>0.879297</td>\n",
              "    </tr>\n",
              "    <tr>\n",
              "      <th>13</th>\n",
              "      <td>Economista</td>\n",
              "      <td>0.799361</td>\n",
              "    </tr>\n",
              "  </tbody>\n",
              "</table>\n",
              "</div>"
            ],
            "text/plain": [
              "                                      index  D6_anonymized_role\n",
              "0   Desenvolvedor ou Engenheiro de Software           17.985612\n",
              "1                                    Outras           17.585931\n",
              "2         Data Scientist/Cientista de Dados           13.349321\n",
              "3            Data Analyst/Analista de Dados           13.029576\n",
              "4      Business Intelligence/Analista de BI           11.990408\n",
              "5         Data Engineer/Engenheiro de Dados           10.391687\n",
              "6     Business Analyst/Analista de Negócios            5.755396\n",
              "7       Analista de Inteligência de Mercado            2.318145\n",
              "8                                Engenheiro            2.078337\n",
              "9                     Analista de Marketing            1.518785\n",
              "10           Engenheiro de Machine Learning            1.199041\n",
              "11      DBA/Administrador de Banco de Dados            1.119105\n",
              "12                              Estatístico            0.879297\n",
              "13                               Economista            0.799361"
            ]
          },
          "metadata": {
            "tags": []
          },
          "execution_count": 63
        }
      ]
    },
    {
      "cell_type": "markdown",
      "metadata": {
        "id": "HHEWQUVgJtaA",
        "colab_type": "text"
      },
      "source": [
        "## Qual a situação profissional os participantes se encontram?"
      ]
    },
    {
      "cell_type": "code",
      "metadata": {
        "id": "VLGStF8WJ-fb",
        "colab_type": "code",
        "colab": {
          "base_uri": "https://localhost:8080/",
          "height": 390
        },
        "outputId": "628fbe6d-ecf4-4a28-d169-75e6e17e0d46"
      },
      "source": [
        "situacao_profissional = df['P10_job_situation'].value_counts(normalize=True) * 100\n",
        "situacao_profissional = situacao_profissional.reset_index()\n",
        "situacao_profissional.columns = ['Cargo', 'Porcentagem']\n",
        "situacao_profissional"
      ],
      "execution_count": 18,
      "outputs": [
        {
          "output_type": "execute_result",
          "data": {
            "text/html": [
              "<div>\n",
              "<style scoped>\n",
              "    .dataframe tbody tr th:only-of-type {\n",
              "        vertical-align: middle;\n",
              "    }\n",
              "\n",
              "    .dataframe tbody tr th {\n",
              "        vertical-align: top;\n",
              "    }\n",
              "\n",
              "    .dataframe thead th {\n",
              "        text-align: right;\n",
              "    }\n",
              "</style>\n",
              "<table border=\"1\" class=\"dataframe\">\n",
              "  <thead>\n",
              "    <tr style=\"text-align: right;\">\n",
              "      <th></th>\n",
              "      <th>Cargo</th>\n",
              "      <th>Porcentagem</th>\n",
              "    </tr>\n",
              "  </thead>\n",
              "  <tbody>\n",
              "    <tr>\n",
              "      <th>0</th>\n",
              "      <td>Empregado (CTL)</td>\n",
              "      <td>60.793201</td>\n",
              "    </tr>\n",
              "    <tr>\n",
              "      <th>1</th>\n",
              "      <td>Empreendedor ou Empregado (CNPJ)</td>\n",
              "      <td>13.257790</td>\n",
              "    </tr>\n",
              "    <tr>\n",
              "      <th>2</th>\n",
              "      <td>Estagiário</td>\n",
              "      <td>7.422096</td>\n",
              "    </tr>\n",
              "    <tr>\n",
              "      <th>3</th>\n",
              "      <td>Somente Estudante (graduação)</td>\n",
              "      <td>4.815864</td>\n",
              "    </tr>\n",
              "    <tr>\n",
              "      <th>4</th>\n",
              "      <td>Desempregado, buscando recolocação</td>\n",
              "      <td>3.909348</td>\n",
              "    </tr>\n",
              "    <tr>\n",
              "      <th>5</th>\n",
              "      <td>Servidor Público</td>\n",
              "      <td>3.399433</td>\n",
              "    </tr>\n",
              "    <tr>\n",
              "      <th>6</th>\n",
              "      <td>Trabalho na área Acadêmica/Pesquisador</td>\n",
              "      <td>2.549575</td>\n",
              "    </tr>\n",
              "    <tr>\n",
              "      <th>7</th>\n",
              "      <td>Somente Estudante (pós-graduação)</td>\n",
              "      <td>2.039660</td>\n",
              "    </tr>\n",
              "    <tr>\n",
              "      <th>8</th>\n",
              "      <td>Freelancer</td>\n",
              "      <td>1.303116</td>\n",
              "    </tr>\n",
              "    <tr>\n",
              "      <th>9</th>\n",
              "      <td>Prefiro não dizer</td>\n",
              "      <td>0.339943</td>\n",
              "    </tr>\n",
              "    <tr>\n",
              "      <th>10</th>\n",
              "      <td>Desempregado e não estou buscando recolocação</td>\n",
              "      <td>0.169972</td>\n",
              "    </tr>\n",
              "  </tbody>\n",
              "</table>\n",
              "</div>"
            ],
            "text/plain": [
              "                                            Cargo  Porcentagem\n",
              "0                                 Empregado (CTL)    60.793201\n",
              "1                Empreendedor ou Empregado (CNPJ)    13.257790\n",
              "2                                      Estagiário     7.422096\n",
              "3                   Somente Estudante (graduação)     4.815864\n",
              "4              Desempregado, buscando recolocação     3.909348\n",
              "5                                Servidor Público     3.399433\n",
              "6          Trabalho na área Acadêmica/Pesquisador     2.549575\n",
              "7               Somente Estudante (pós-graduação)     2.039660\n",
              "8                                      Freelancer     1.303116\n",
              "9                               Prefiro não dizer     0.339943\n",
              "10  Desempregado e não estou buscando recolocação     0.169972"
            ]
          },
          "metadata": {
            "tags": []
          },
          "execution_count": 18
        }
      ]
    },
    {
      "cell_type": "markdown",
      "metadata": {
        "id": "h-kNyy_1J1Oz",
        "colab_type": "text"
      },
      "source": [
        "## Distribuição das pessoas que responderam a pesquisa por área de atuação?"
      ]
    },
    {
      "cell_type": "code",
      "metadata": {
        "id": "OAbcxLKHJ-6Q",
        "colab_type": "code",
        "colab": {
          "base_uri": "https://localhost:8080/",
          "height": 483
        },
        "outputId": "7a4f82f5-5593-417b-b7b5-5338cac4ed84"
      },
      "source": [
        "area_de_atuacao = df['D6_anonymized_role'].value_counts(normalize=True) * 100\n",
        "area_de_atuacao = area_de_atuacao.reset_index()\n",
        "area_de_atuacao.columns = ['Cargo', 'Porcentagem']\n",
        "area_de_atuacao"
      ],
      "execution_count": 23,
      "outputs": [
        {
          "output_type": "execute_result",
          "data": {
            "text/html": [
              "<div>\n",
              "<style scoped>\n",
              "    .dataframe tbody tr th:only-of-type {\n",
              "        vertical-align: middle;\n",
              "    }\n",
              "\n",
              "    .dataframe tbody tr th {\n",
              "        vertical-align: top;\n",
              "    }\n",
              "\n",
              "    .dataframe thead th {\n",
              "        text-align: right;\n",
              "    }\n",
              "</style>\n",
              "<table border=\"1\" class=\"dataframe\">\n",
              "  <thead>\n",
              "    <tr style=\"text-align: right;\">\n",
              "      <th></th>\n",
              "      <th>Cargo</th>\n",
              "      <th>Porcentagem</th>\n",
              "    </tr>\n",
              "  </thead>\n",
              "  <tbody>\n",
              "    <tr>\n",
              "      <th>0</th>\n",
              "      <td>Desenvolvedor ou Engenheiro de Software</td>\n",
              "      <td>17.985612</td>\n",
              "    </tr>\n",
              "    <tr>\n",
              "      <th>1</th>\n",
              "      <td>Outras</td>\n",
              "      <td>17.585931</td>\n",
              "    </tr>\n",
              "    <tr>\n",
              "      <th>2</th>\n",
              "      <td>Data Scientist/Cientista de Dados</td>\n",
              "      <td>13.349321</td>\n",
              "    </tr>\n",
              "    <tr>\n",
              "      <th>3</th>\n",
              "      <td>Data Analyst/Analista de Dados</td>\n",
              "      <td>13.029576</td>\n",
              "    </tr>\n",
              "    <tr>\n",
              "      <th>4</th>\n",
              "      <td>Business Intelligence/Analista de BI</td>\n",
              "      <td>11.990408</td>\n",
              "    </tr>\n",
              "    <tr>\n",
              "      <th>5</th>\n",
              "      <td>Data Engineer/Engenheiro de Dados</td>\n",
              "      <td>10.391687</td>\n",
              "    </tr>\n",
              "    <tr>\n",
              "      <th>6</th>\n",
              "      <td>Business Analyst/Analista de Negócios</td>\n",
              "      <td>5.755396</td>\n",
              "    </tr>\n",
              "    <tr>\n",
              "      <th>7</th>\n",
              "      <td>Analista de Inteligência de Mercado</td>\n",
              "      <td>2.318145</td>\n",
              "    </tr>\n",
              "    <tr>\n",
              "      <th>8</th>\n",
              "      <td>Engenheiro</td>\n",
              "      <td>2.078337</td>\n",
              "    </tr>\n",
              "    <tr>\n",
              "      <th>9</th>\n",
              "      <td>Analista de Marketing</td>\n",
              "      <td>1.518785</td>\n",
              "    </tr>\n",
              "    <tr>\n",
              "      <th>10</th>\n",
              "      <td>Engenheiro de Machine Learning</td>\n",
              "      <td>1.199041</td>\n",
              "    </tr>\n",
              "    <tr>\n",
              "      <th>11</th>\n",
              "      <td>DBA/Administrador de Banco de Dados</td>\n",
              "      <td>1.119105</td>\n",
              "    </tr>\n",
              "    <tr>\n",
              "      <th>12</th>\n",
              "      <td>Estatístico</td>\n",
              "      <td>0.879297</td>\n",
              "    </tr>\n",
              "    <tr>\n",
              "      <th>13</th>\n",
              "      <td>Economista</td>\n",
              "      <td>0.799361</td>\n",
              "    </tr>\n",
              "  </tbody>\n",
              "</table>\n",
              "</div>"
            ],
            "text/plain": [
              "                                      Cargo  Porcentagem\n",
              "0   Desenvolvedor ou Engenheiro de Software    17.985612\n",
              "1                                    Outras    17.585931\n",
              "2         Data Scientist/Cientista de Dados    13.349321\n",
              "3            Data Analyst/Analista de Dados    13.029576\n",
              "4      Business Intelligence/Analista de BI    11.990408\n",
              "5         Data Engineer/Engenheiro de Dados    10.391687\n",
              "6     Business Analyst/Analista de Negócios     5.755396\n",
              "7       Analista de Inteligência de Mercado     2.318145\n",
              "8                                Engenheiro     2.078337\n",
              "9                     Analista de Marketing     1.518785\n",
              "10           Engenheiro de Machine Learning     1.199041\n",
              "11      DBA/Administrador de Banco de Dados     1.119105\n",
              "12                              Estatístico     0.879297\n",
              "13                               Economista     0.799361"
            ]
          },
          "metadata": {
            "tags": []
          },
          "execution_count": 23
        }
      ]
    },
    {
      "cell_type": "markdown",
      "metadata": {
        "id": "r4ZsqltgJ3sl",
        "colab_type": "text"
      },
      "source": [
        "## Qual o tamanho das empresas que os participantes trabalham pelo número de funcionários?"
      ]
    },
    {
      "cell_type": "code",
      "metadata": {
        "id": "-5hhlhEfJ_ZY",
        "colab_type": "code",
        "colab": {}
      },
      "source": [
        "por_estado = df['P5_living_state'].value_counts(normalize=True) * 100\n",
        "por_estado = por_estado.reset_index()\n",
        "por_estado.columns = ['Estado', 'Porcentagem']\n",
        "por_estado.plot.bar(x='Estado', y='Porcentagem', title='Ciêntistas de dados por Estado')"
      ],
      "execution_count": null,
      "outputs": []
    },
    {
      "cell_type": "code",
      "metadata": {
        "id": "w4T3_8LoW1Lb",
        "colab_type": "code",
        "colab": {
          "base_uri": "https://localhost:8080/",
          "height": 969
        },
        "outputId": "5f9cb11b-d58c-4ab4-98df-bdd89e67c7ee"
      },
      "source": [
        "df.columns.values"
      ],
      "execution_count": 24,
      "outputs": [
        {
          "output_type": "execute_result",
          "data": {
            "text/plain": [
              "array(['P0_id', 'P1_age', 'P2_gender', 'P3_living_in_brasil',\n",
              "       'P5_living_state', 'P6_born_or_graduated', 'P8_degreee_level',\n",
              "       'P10_job_situation', 'P12_workers_number', 'P13_manager',\n",
              "       'P16_salary_range', 'P17_time_experience_data_science',\n",
              "       'P18_time_experience_before', 'P19_is_data_science_professional',\n",
              "       'P20_linear_regression', 'P20_logistic_regression', 'P20_glms',\n",
              "       'P20_decision_tree', 'P20_random_forest', 'P20_neural_networks',\n",
              "       'P20_bayesian_inference', 'P20_ensemble', 'P20_svms', 'P20_cnns',\n",
              "       'P20_rnns', 'P20_hmms', 'P20_gans', 'P20_markov_chains', 'P20_nlp',\n",
              "       'P20_gradient_boosted_machines', 'P20_cluster_analysis',\n",
              "       'P20_survival_analysis', 'P20_longitudinal_data_analysis',\n",
              "       'P20_joint_analysis', 'P20_no_listed_methods', 'P21_sql_', 'P21_r',\n",
              "       'P21_python', 'P21_c_c++_c#', 'P21_dotnet', 'P21_java',\n",
              "       'P21_julia', 'P21_sas_stata', 'P21_visual_basic_vba', 'P21_scala',\n",
              "       'P21_matlab', 'P21_php', 'P21_no_listed_languages',\n",
              "       'P22_most_used_proggraming_languages', 'P23_sql', 'P23_nosql',\n",
              "       'P23_images', 'P23_nlp', 'P23_videos', 'P23_sheets', 'P23_other',\n",
              "       'P24_sql', 'P24_nosql', 'P24_imagens', 'P24_nlp', 'P24_vídeos',\n",
              "       'P24_planilhas', 'P24_other', 'P25_aws', 'P25_gcp', 'P25_azure',\n",
              "       'P25_ibm', 'P25_on_premise_servers', 'P25_cloud_própria',\n",
              "       'P25_other', 'P26_mysql', 'P26_oracle', 'P26_sql_server',\n",
              "       'P26_aurora', 'P26_dynamodb', 'P26_coachdb', 'P26_cassandra',\n",
              "       'P26_mongodb', 'P26_mariadb', 'P26_datomic', 'P26_s3',\n",
              "       'P26_postgresql', 'P26_elaticsearch', 'P26_db2', 'P26_ms_access',\n",
              "       'P26_sqlite', 'P26_sybase', 'P26_firebase', 'P26_vertica',\n",
              "       'P26_redis', 'P26_neo4j', 'P26_google_bigtable', 'P26_hbase',\n",
              "       'P26_other', 'P27_microsoft_powerbi', 'P27_qlik_view_qlik_sense',\n",
              "       'P27_tableau', 'P27_metabase', 'P27_superset', 'P27_redash',\n",
              "       'P27_microstrategy', 'P27_ibm_analytics_cognos',\n",
              "       'P27_sap_business_objects', 'P27_oracle_business_intelligence',\n",
              "       'P27_birst', 'P27_looker', 'P27_google_data_studio',\n",
              "       'P27_only_excel_gsheets', 'P27_no_bi_tool_at_work', 'P27_other',\n",
              "       'P28_sql_&_stored_procedures', 'P28_apache_airflow', 'P28_luigi',\n",
              "       'P28_aws_glue', 'P28_talend', 'P28_pentaho', 'P28_alteryx',\n",
              "       'P28_oracle_data_integrator', 'P28_ibm_data_stage',\n",
              "       'P28_sap_bw_etl', 'P28_siss_sql_server_integration_services',\n",
              "       'P28_other', 'P29_have_data_warehouse', 'P30_google_bigquery',\n",
              "       'P30_aws_redshift', 'P30_snowflake', 'P30_oracle',\n",
              "       'P30_postgres_mysql', 'P30_ibm', 'P30_teradata',\n",
              "       'P30_microsoft_azure', 'P30_do_not_know', 'P30_other',\n",
              "       'P31_data_hackers_blog', 'P31_data_hackers_podcast',\n",
              "       'P31_weekly_newsletter', 'P31_slack_channel',\n",
              "       'P31_data_hackers_bootcamp', 'P31_do_not_know_data_hackers',\n",
              "       'P32_prefered_data_hackers_initiative', 'P33_telegram_groups',\n",
              "       'P33_whatsapp_groups', 'P33_youtube_channels',\n",
              "       'P33_other_brasilian_blogs', 'P33_other_slack_channels',\n",
              "       'P33_twitter', 'P33_abroad_blogs', 'P33_abroad_podcasts',\n",
              "       'P33_meetups_and_events', 'P33_only_data_hackers', 'P33_other',\n",
              "       'P34_udacity', 'P34_coursera', 'P34_udemy', 'P34_height',\n",
              "       'P34_edx', 'P34_data_camp', 'P34_data_quest', 'P34_kaggle_learn',\n",
              "       'P34_online_courses', 'P34_other',\n",
              "       'P35_data_science_plataforms_preference', 'P35_other',\n",
              "       'P36_draw_participation', 'D1_living_macroregion',\n",
              "       'D2_origin_macroregion', 'D3_anonymized_degree_area',\n",
              "       'D4_anonymized_market_sector', 'D5_anonymized_manager_level',\n",
              "       'D6_anonymized_role'], dtype=object)"
            ]
          },
          "metadata": {
            "tags": []
          },
          "execution_count": 24
        }
      ]
    },
    {
      "cell_type": "markdown",
      "metadata": {
        "id": "r8OU7pMIJ5p1",
        "colab_type": "text"
      },
      "source": [
        "## Qual o nível de ensino mais popular entre os cientistas de dados?"
      ]
    },
    {
      "cell_type": "code",
      "metadata": {
        "id": "oHaYfT58J_uA",
        "colab_type": "code",
        "colab": {}
      },
      "source": [
        ""
      ],
      "execution_count": null,
      "outputs": []
    },
    {
      "cell_type": "markdown",
      "metadata": {
        "id": "tgSCHSijKJA2",
        "colab_type": "text"
      },
      "source": [
        "# Mercado de trabalho"
      ]
    },
    {
      "cell_type": "markdown",
      "metadata": {
        "id": "BbsM_XJ3KKj1",
        "colab_type": "text"
      },
      "source": [
        "## Qual setor do mercado que contrata mais profissionais de ciência de dados?"
      ]
    },
    {
      "cell_type": "code",
      "metadata": {
        "id": "Uay8NVEaKVLX",
        "colab_type": "code",
        "colab": {}
      },
      "source": [
        ""
      ],
      "execution_count": null,
      "outputs": []
    },
    {
      "cell_type": "markdown",
      "metadata": {
        "id": "8eJQkpmuKTOa",
        "colab_type": "text"
      },
      "source": [
        "## Qual plataforma os cientista de dados utilizam para se atualizar sobre o mercado de trabalho?"
      ]
    },
    {
      "cell_type": "code",
      "metadata": {
        "id": "jvqKe6IZKVxT",
        "colab_type": "code",
        "colab": {}
      },
      "source": [
        ""
      ],
      "execution_count": null,
      "outputs": []
    },
    {
      "cell_type": "markdown",
      "metadata": {
        "id": "iOrWJPRPKcAu",
        "colab_type": "text"
      },
      "source": [
        "# Formação/Estudo e Ferramentas"
      ]
    },
    {
      "cell_type": "markdown",
      "metadata": {
        "id": "WZyPA2m3Kjq6",
        "colab_type": "text"
      },
      "source": [
        "## Quais os métodos mais utilizados por cientistas de dados?"
      ]
    },
    {
      "cell_type": "code",
      "metadata": {
        "id": "wca9ajVPKdvn",
        "colab_type": "code",
        "colab": {}
      },
      "source": [
        ""
      ],
      "execution_count": null,
      "outputs": []
    },
    {
      "cell_type": "markdown",
      "metadata": {
        "id": "tIsP_gKzKopt",
        "colab_type": "text"
      },
      "source": [
        "## Quais as linguagens de programação mais utilizadas?"
      ]
    },
    {
      "cell_type": "code",
      "metadata": {
        "id": "DpoKLRhVKqwe",
        "colab_type": "code",
        "colab": {}
      },
      "source": [
        ""
      ],
      "execution_count": null,
      "outputs": []
    },
    {
      "cell_type": "markdown",
      "metadata": {
        "id": "7K5VS-sKKrFe",
        "colab_type": "text"
      },
      "source": [
        "## Quais as fontes de dados mais utilizadas por cientistas de dados?"
      ]
    },
    {
      "cell_type": "code",
      "metadata": {
        "id": "HbAdh_AKKs33",
        "colab_type": "code",
        "colab": {}
      },
      "source": [
        ""
      ],
      "execution_count": null,
      "outputs": []
    },
    {
      "cell_type": "markdown",
      "metadata": {
        "id": "PEXmG9keKtYn",
        "colab_type": "text"
      },
      "source": [
        "## Qual a distribuição entre profissionais e não profissionais em relação ao nível de ensino?"
      ]
    },
    {
      "cell_type": "code",
      "metadata": {
        "id": "sOpq-4g-Ku9w",
        "colab_type": "code",
        "colab": {}
      },
      "source": [
        ""
      ],
      "execution_count": null,
      "outputs": []
    },
    {
      "cell_type": "markdown",
      "metadata": {
        "id": "dnASiidPKvXo",
        "colab_type": "text"
      },
      "source": [
        "## É necessário ter um mestrado para ser cientista de dados?"
      ]
    },
    {
      "cell_type": "code",
      "metadata": {
        "id": "3Ebkgf7sKxPB",
        "colab_type": "code",
        "colab": {}
      },
      "source": [
        ""
      ],
      "execution_count": null,
      "outputs": []
    },
    {
      "cell_type": "markdown",
      "metadata": {
        "id": "cQ0xYYFFKxvR",
        "colab_type": "text"
      },
      "source": [
        "## Qual a plataforma de curso preferida entre os cientistas de dados?"
      ]
    },
    {
      "cell_type": "code",
      "metadata": {
        "id": "4WGYFZ38Kyox",
        "colab_type": "code",
        "colab": {}
      },
      "source": [
        ""
      ],
      "execution_count": null,
      "outputs": []
    },
    {
      "cell_type": "markdown",
      "metadata": {
        "id": "bzlCovOxLBhR",
        "colab_type": "text"
      },
      "source": [
        "# Salário"
      ]
    },
    {
      "cell_type": "markdown",
      "metadata": {
        "id": "-P8x7enqLDNS",
        "colab_type": "text"
      },
      "source": [
        "## Qual o maior e menor salário?"
      ]
    },
    {
      "cell_type": "code",
      "metadata": {
        "id": "Xg1GD_5QLO_k",
        "colab_type": "code",
        "colab": {}
      },
      "source": [
        ""
      ],
      "execution_count": null,
      "outputs": []
    },
    {
      "cell_type": "markdown",
      "metadata": {
        "id": "FZRSqHSaLPcI",
        "colab_type": "text"
      },
      "source": [
        "## Qual a correlação entre salário e idade?"
      ]
    },
    {
      "cell_type": "code",
      "metadata": {
        "id": "IwFLP_6MLSg6",
        "colab_type": "code",
        "colab": {}
      },
      "source": [
        ""
      ],
      "execution_count": null,
      "outputs": []
    },
    {
      "cell_type": "markdown",
      "metadata": {
        "id": "Y3rE00tXLTiq",
        "colab_type": "text"
      },
      "source": [
        "## Qual setor do mercado de trabalho paga os melhores salários para cientistas de dados?"
      ]
    },
    {
      "cell_type": "code",
      "metadata": {
        "id": "3CkcOhhOLV50",
        "colab_type": "code",
        "colab": {}
      },
      "source": [
        ""
      ],
      "execution_count": null,
      "outputs": []
    },
    {
      "cell_type": "markdown",
      "metadata": {
        "id": "WNAfEX0fLYx9",
        "colab_type": "text"
      },
      "source": [
        "## Qual linguagem de programação tem os melhores salários?"
      ]
    },
    {
      "cell_type": "code",
      "metadata": {
        "id": "0pAPy5csLdS4",
        "colab_type": "code",
        "colab": {}
      },
      "source": [
        ""
      ],
      "execution_count": null,
      "outputs": []
    },
    {
      "cell_type": "markdown",
      "metadata": {
        "id": "4YtI3VLBLdrH",
        "colab_type": "text"
      },
      "source": [
        "## Quais os melhores salários no geral?"
      ]
    },
    {
      "cell_type": "code",
      "metadata": {
        "id": "SuV7Y86iLfb4",
        "colab_type": "code",
        "colab": {}
      },
      "source": [
        ""
      ],
      "execution_count": null,
      "outputs": []
    },
    {
      "cell_type": "markdown",
      "metadata": {
        "id": "CoPdi4BPLf24",
        "colab_type": "text"
      },
      "source": [
        "## Qual a média salarial dos cientistas de dados?"
      ]
    },
    {
      "cell_type": "code",
      "metadata": {
        "id": "e8SGvN8BLh8h",
        "colab_type": "code",
        "colab": {}
      },
      "source": [
        ""
      ],
      "execution_count": null,
      "outputs": []
    },
    {
      "cell_type": "markdown",
      "metadata": {
        "id": "T-55LjqBLiWa",
        "colab_type": "text"
      },
      "source": [
        "## Existe relação do salário e o tamanho da empresa?"
      ]
    },
    {
      "cell_type": "code",
      "metadata": {
        "id": "iqXDX3urLkWj",
        "colab_type": "code",
        "colab": {}
      },
      "source": [
        ""
      ],
      "execution_count": null,
      "outputs": []
    },
    {
      "cell_type": "markdown",
      "metadata": {
        "id": "T6_6csSTLkwb",
        "colab_type": "text"
      },
      "source": [
        "## Quais os salários dos cientistas de dados?"
      ]
    },
    {
      "cell_type": "code",
      "metadata": {
        "id": "TNVKAoKILmlU",
        "colab_type": "code",
        "colab": {}
      },
      "source": [
        ""
      ],
      "execution_count": null,
      "outputs": []
    },
    {
      "cell_type": "markdown",
      "metadata": {
        "id": "wj6rmIpqLm_c",
        "colab_type": "text"
      },
      "source": [
        "## Qual a diferença do salário médio por gênero?"
      ]
    },
    {
      "cell_type": "code",
      "metadata": {
        "id": "wyaEItSuLo7-",
        "colab_type": "code",
        "colab": {}
      },
      "source": [
        ""
      ],
      "execution_count": null,
      "outputs": []
    },
    {
      "cell_type": "markdown",
      "metadata": {
        "id": "nnAHKQAsLsWv",
        "colab_type": "text"
      },
      "source": [
        "## Qual a relação entre salário e experiência como cientista de dados?"
      ]
    },
    {
      "cell_type": "code",
      "metadata": {
        "id": "RsXNurR_Lzme",
        "colab_type": "code",
        "colab": {}
      },
      "source": [
        ""
      ],
      "execution_count": null,
      "outputs": []
    },
    {
      "cell_type": "markdown",
      "metadata": {
        "id": "_6Ekje-4L0BL",
        "colab_type": "text"
      },
      "source": [
        "## Qual o salário médio por estado?"
      ]
    },
    {
      "cell_type": "code",
      "metadata": {
        "id": "ZyD-1H46L2c0",
        "colab_type": "code",
        "colab": {}
      },
      "source": [
        ""
      ],
      "execution_count": null,
      "outputs": []
    },
    {
      "cell_type": "markdown",
      "metadata": {
        "id": "TTafbAhPL2vc",
        "colab_type": "text"
      },
      "source": [
        "## Quantos profissionais ganham mais que 15 mil? Quais as características de quem ganha esse salário?"
      ]
    },
    {
      "cell_type": "code",
      "metadata": {
        "id": "XcELI7H_L4RV",
        "colab_type": "code",
        "colab": {}
      },
      "source": [
        ""
      ],
      "execution_count": null,
      "outputs": []
    }
  ]
}