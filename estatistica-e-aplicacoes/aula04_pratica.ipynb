{
  "nbformat": 4,
  "nbformat_minor": 0,
  "metadata": {
    "kernelspec": {
      "display_name": "Python 3",
      "language": "python",
      "name": "python3"
    },
    "language_info": {
      "codemirror_mode": {
        "name": "ipython",
        "version": 3
      },
      "file_extension": ".py",
      "mimetype": "text/x-python",
      "name": "python",
      "nbconvert_exporter": "python",
      "pygments_lexer": "ipython3",
      "version": "3.7.6"
    },
    "colab": {
      "name": "aula04_pratica.ipynb",
      "provenance": [],
      "collapsed_sections": []
    }
  },
  "cells": [
    {
      "cell_type": "markdown",
      "metadata": {
        "id": "kW3673Jfj4Cm",
        "colab_type": "text"
      },
      "source": [
        "1) Faca um grafico de dispersao para os dados, e calcule o coeficiente de correlacao entre as variaveis:\n",
        "    \n",
        "<h4 align=\"center\"> Tabela 1: Dados para x e y </h4>\n",
        "  \n",
        "| x | y | \n",
        "| :--- | ---: | \n",
        "| -2 | 6 | \n",
        "| -1 | 2 | \n",
        "| 0 | 3 | \n",
        "| 1 | 0 | \n",
        "| 2 | 1 |  \n"
      ]
    },
    {
      "cell_type": "code",
      "metadata": {
        "id": "1zEDbqJjj4Cn",
        "colab_type": "code",
        "colab": {
          "base_uri": "https://localhost:8080/",
          "height": 366
        },
        "outputId": "6baea065-ba8d-4094-b973-85e86782aa91"
      },
      "source": [
        "# Deixe sua resposta aqui\n",
        "\n",
        "import matplotlib.pyplot as plt\n",
        "import numpy as np\n",
        "\n",
        "x = [-2, -1, 0, 1, 2]\n",
        "y = [6, 2, 3, 0, 1]\n",
        "\n",
        "fig = plt.figure()\n",
        "ax = fig.add_axes([0, 0, 1, 1])\n",
        "\n",
        "ax.scatter(x, y, color='b')\n",
        "plt.yticks(np.arange(0, 8, 1))\n",
        "plt.xticks(np.arange(-3, 3, 1))\n",
        "\n",
        "ax.set_xlabel('valores de x')\n",
        "ax.set_ylabel('valores de y')\n",
        "ax.set_title('Grafico 01: Relacao entre X e Y')\n",
        "\n",
        "plt.show()"
      ],
      "execution_count": 1,
      "outputs": [
        {
          "output_type": "display_data",
          "data": {
            "image/png": "[encoded data removed]",
            "text/plain": [
              "<Figure size 432x288 with 1 Axes>"
            ]
          },
          "metadata": {
            "tags": [],
            "needs_background": "light"
          }
        }
      ]
    },
    {
      "cell_type": "code",
      "metadata": {
        "id": "UUL7Iq7-j4Cq",
        "colab_type": "code",
        "colab": {
          "base_uri": "https://localhost:8080/",
          "height": 68
        },
        "outputId": "0bf96270-0054-4d25-e2ae-df995d0739da"
      },
      "source": [
        "from scipy import stats\n",
        "\n",
        "slope, intercept, r_value, p_value, std_err = stats.linregress(x, y)\n",
        "\n",
        "print('Coeficiente:', r_value)\n",
        "print('Coeficiente de dispersao:', r_value**2)\n",
        "print('Std_err:', std_err)"
      ],
      "execution_count": 2,
      "outputs": [
        {
          "output_type": "stream",
          "text": [
            "Coeficiente: -0.8241633836921343\n",
            "Coeficiente de dispersao: 0.6792452830188681\n",
            "Std_err: 0.4760952285695232\n"
          ],
          "name": "stdout"
        }
      ]
    },
    {
      "cell_type": "code",
      "metadata": {
        "id": "wajlsDbamTBR",
        "colab_type": "code",
        "colab": {}
      },
      "source": [
        "# slope = coeficiente angular\n",
        "# intercept = coeficiente linear\n",
        "# r_value = coeficiente de Pearson ou de correlacao\n",
        "# p_value = (Nao estudamos, mas eh coeficiente de testes de hiposteses)\n",
        "# std_err = erro padrao"
      ],
      "execution_count": 3,
      "outputs": []
    },
    {
      "cell_type": "markdown",
      "metadata": {
        "id": "6sW5uG-cj4Cs",
        "colab_type": "text"
      },
      "source": [
        "2) Faca um grafico de dispersao para os dados, e calcule o coeficiente de correlacao entre as variaveis:\n",
        "    \n",
        "<h4 align=\"center\"> Tabela 2: Dados para x e y </h4>\n",
        "  \n",
        "| x | y | \n",
        "| :---: | :---: | \n",
        "| -2 | -2 | \n",
        "| -1 | 1 | \n",
        "| 0 | 2 | \n",
        "| 1 | 5 | \n",
        "| 2 | 6 |  "
      ]
    },
    {
      "cell_type": "code",
      "metadata": {
        "id": "E4CHpLHaj4Cs",
        "colab_type": "code",
        "colab": {
          "base_uri": "https://localhost:8080/",
          "height": 366
        },
        "outputId": "782aa87f-e784-492e-b3b4-58c3e47e4116"
      },
      "source": [
        "x = [-2, -1, 0, 1, 2]\n",
        "y = [-2, 1, 2, 5, 6]\n",
        "\n",
        "fig = plt.figure()\n",
        "ax = fig.add_axes([0, 0, 1, 1])\n",
        "\n",
        "ax.scatter(x, y, color='b')\n",
        "plt.yticks(np.arange(-3, 7, 1))\n",
        "plt.xticks(np.arange(-3, 3, 1))\n",
        "\n",
        "ax.set_xlabel('valores de x')\n",
        "ax.set_ylabel('valores de y')\n",
        "ax.set_title('Grafico 01: Relacao entre X e Y')\n",
        "\n",
        "plt.show()"
      ],
      "execution_count": 4,
      "outputs": [
        {
          "output_type": "display_data",
          "data": {
            "image/png": "[encoded data removed]",
            "text/plain": [
              "<Figure size 432x288 with 1 Axes>"
            ]
          },
          "metadata": {
            "tags": [],
            "needs_background": "light"
          }
        }
      ]
    },
    {
      "cell_type": "code",
      "metadata": {
        "id": "878fMYwTj4Cu",
        "colab_type": "code",
        "colab": {
          "base_uri": "https://localhost:8080/",
          "height": 68
        },
        "outputId": "175edbc0-ea54-45ea-e202-0163b56eb612"
      },
      "source": [
        "slope, intercept, r_value, p_value, std_err = stats.linregress(x, y)\n",
        "\n",
        "print('Coeficiente:', r_value)\n",
        "print('Coeficiente de dispersao:', r_value**2)\n",
        "print('Std_err:', std_err)"
      ],
      "execution_count": 5,
      "outputs": [
        {
          "output_type": "stream",
          "text": [
            "Coeficiente: 0.9853292781642932\n",
            "Coeficiente de dispersao: 0.970873786407767\n",
            "Std_err: 0.19999999999999996\n"
          ],
          "name": "stdout"
        }
      ]
    },
    {
      "cell_type": "markdown",
      "metadata": {
        "id": "AbXiHkFaj4Cw",
        "colab_type": "text"
      },
      "source": [
        "3) Uma empresa resolveu investir em treinamentos para os funcionarios. Verifique atraves do grafico \n",
        "mais adequado se o investimento valeu a pena:\n",
        "    \n",
        "<h4 align=\"center\"> Tabela 2: Investimento em treinamento de funcionarios (em milhares) e retorno financeiros <br>de uma empresa durante 4 meses </h4>\n",
        "  \n",
        "| Investimento | Retorno | \n",
        "| :---: | :---: | \n",
        "| 26.7 | 130 | \n",
        "| 43.8 | 170 | \n",
        "| 91.7 | 360 | \n",
        "| 143.8 | 855 |   "
      ]
    },
    {
      "cell_type": "code",
      "metadata": {
        "id": "6GjXtyWtj4Cx",
        "colab_type": "code",
        "colab": {
          "base_uri": "https://localhost:8080/",
          "height": 366
        },
        "outputId": "45798c51-9d3d-4751-9e30-0812e3e6f79c"
      },
      "source": [
        "# Deixe sua resposta aqui\n",
        "\n",
        "x = [26.7, 43.8, 91.7, 143.8]\n",
        "y = [130, 170, 360, 855]\n",
        "\n",
        "fig = plt.figure()\n",
        "ax = fig.add_axes([0, 0, 1, 1])\n",
        "ax.scatter(x, y, color = 'b')\n",
        "\n",
        "plt.yticks(np.arange(min(y)-10, max(y) + 10, 100))\n",
        "plt.xticks(np.arange(min(x)-10, max(x) + 10, 50))\n",
        "\n",
        "ax.set_xlabel('Investimento (em reais)')\n",
        "ax.set_ylabel('Retorno financeiro (em reais)')\n",
        "ax.set_title('Grafico 01: Relacao entre investimento e retorno financeiro')\n",
        "\n",
        "plt.show()"
      ],
      "execution_count": 26,
      "outputs": [
        {
          "output_type": "display_data",
          "data": {
            "image/png": "[encoded data removed]",
            "text/plain": [
              "<Figure size 432x288 with 1 Axes>"
            ]
          },
          "metadata": {
            "tags": [],
            "needs_background": "light"
          }
        }
      ]
    },
    {
      "cell_type": "code",
      "metadata": {
        "id": "UH4v2HdTrw3_",
        "colab_type": "code",
        "colab": {}
      },
      "source": [
        "# Resposta: Valeu muito a pena!"
      ],
      "execution_count": 7,
      "outputs": []
    },
    {
      "cell_type": "markdown",
      "metadata": {
        "id": "b1TdQes-j4C2",
        "colab_type": "text"
      },
      "source": [
        "4) indique o tipo de correlacao que voce espera encontrar em:\n",
        "\n",
        "a) idade e velocidade de corrida; <br>\n",
        "b) numero de vendedores e volume de vendas; <br>\n",
        "c) idade e expectativa de vida; <br>\n",
        "d) altura e numero de fios de cabelo."
      ]
    },
    {
      "cell_type": "code",
      "metadata": {
        "id": "r4Zp8Xa7j4C3",
        "colab_type": "code",
        "colab": {}
      },
      "source": [
        "# Deixe sua resposta aqui\n",
        "# a) correlacao negativa\n",
        "# b) correlacao positiva\n",
        "# c) correlacao negativa\n",
        "# d) correlacao negativa (não ficou claro a pergunta)"
      ],
      "execution_count": 8,
      "outputs": []
    },
    {
      "cell_type": "markdown",
      "metadata": {
        "id": "nNbP2yybj4C4",
        "colab_type": "text"
      },
      "source": [
        "5) Verifique se o preco de passagens aereas de uma empresa esta relacionado com a distancia do trajeto:\n",
        "    \n",
        "<h4 align=\"center\"> Tabela 3: Distancia percorrida x precos </h4>\n",
        "  \n",
        "| Distancia | Preco | \n",
        "| :---: | :---: | \n",
        "| 2375 | 430 | \n",
        "| 1400 | 272 | \n",
        "| 1250 | 252 | \n",
        "| 2325 | 422 |\n",
        "| 985 | 207 |\n",
        "| 2025 | 373 |"
      ]
    },
    {
      "cell_type": "code",
      "metadata": {
        "id": "HZSh01w-j4C5",
        "colab_type": "code",
        "colab": {}
      },
      "source": [
        "# Deixe sua resposta aqui\n",
        "x = [2375, 1400, 1250, 2325, 985, 2025]\n",
        "y = [430, 272, ]"
      ],
      "execution_count": 9,
      "outputs": []
    },
    {
      "cell_type": "markdown",
      "metadata": {
        "id": "ZCKIphypj4C6",
        "colab_type": "text"
      },
      "source": [
        "6) Uma segunda empresa resolveu investir em treinamentos para os funcionarios. Verifique atraves do grafico \n",
        "mais adequado, e comente, se o numero de dias que o funcionario treinou valeu a pena para a empresa:\n",
        "    \n",
        "<h4 align=\"center\"> Tabela 4: Investimento em treinamento de funcionarios (em dias) e rendimento individual </h4>\n",
        "  \n",
        "| dias | rendimento | \n",
        "| :---: | :---: | \n",
        "| 1.0 | 41 | \n",
        "| 1.5 | 60 | \n",
        "| 2.0 | 72 | \n",
        "| 2.5 | 91 |\n",
        "| 3.0 | 99 |"
      ]
    },
    {
      "cell_type": "code",
      "metadata": {
        "id": "0Z2q7jrvj4C7",
        "colab_type": "code",
        "colab": {}
      },
      "source": [
        "# Deixe sua resposta aqui\n"
      ],
      "execution_count": 10,
      "outputs": []
    },
    {
      "cell_type": "markdown",
      "metadata": {
        "id": "BiHxmodMj4C8",
        "colab_type": "text"
      },
      "source": [
        "7) Se voce obtivesse os coeficientes de correlacao abaixo, que tipo de informacao voce teria sobre a relacao entre a variavel X e a variavel Y?\n",
        "\n",
        "a) r = 1 ;<br>\n",
        "b) r = -1 ;<br>\n",
        "c) r = 0 ;<br>\n",
        "d) r = 0,90 ;<br>\n",
        "e) r = -0,90."
      ]
    },
    {
      "cell_type": "code",
      "metadata": {
        "id": "IYLORMUrj4C9",
        "colab_type": "code",
        "colab": {}
      },
      "source": [
        "# Deixe sua resposta aqui\n",
        "\n",
        "# a) perfeita positiva\n",
        "# b) perfeita negativa\n",
        "# c) sem correlacao\n",
        "# d) correlacao positiva forte\n",
        "# e) correlacao negativa forte"
      ],
      "execution_count": 11,
      "outputs": []
    },
    {
      "cell_type": "markdown",
      "metadata": {
        "id": "0Yo6kjTZj4C_",
        "colab_type": "text"
      },
      "source": [
        "8) Em uma fabrica de autopecas, 6 funcionarios trabalhando lado a lado foram avaliados em relacao ao numero de horas trabalhadas e pecas finalizadas. Construa um grafico mostrando a linha de regressao dos dados, e calcule o coeficiente de determinacao. Verifique quantas pecas seriam finalizadas se um funcionario trabalhasse 10 horas. \n",
        "\n",
        "<h4 align=\"center\"> Tabela 5: Horas trabalhadas de 6 funcionarios (em horas) e rendimento individual (pecas produzidas) </h4>\n",
        "  \n",
        "| horas | producao | \n",
        "| :---: | :---: | \n",
        "| 5 | 16 | \n",
        "| 1 | 15 | \n",
        "| 7 | 19 | \n",
        "| 9 | 23 |\n",
        "| 2 | 14 |\n",
        "| 12 | 21 |"
      ]
    },
    {
      "cell_type": "code",
      "metadata": {
        "id": "94q0Vq5-j4C_",
        "colab_type": "code",
        "colab": {
          "base_uri": "https://localhost:8080/",
          "height": 366
        },
        "outputId": "58fb366c-c39a-411b-dc3a-8cea2666986d"
      },
      "source": [
        "# Deixe sua resposta aqui\n",
        "\n",
        "funcionarios = 6\n",
        "horas = [ 5, 1, 7, 9, 2, 12 ]\n",
        "producao = [ 16, 15, 19, 23, 14, 21 ]\n",
        "fig = plt.figure()\n",
        "ax = fig.add_axes([0, 0, 1, 1])\n",
        "ax.scatter(producao, horas, color='b')\n",
        "ax.set_xlabel('Producao')\n",
        "ax.set_ylabel('Horas')\n",
        "ax.set_title('Grafico 01: Relacao de horas e producao de 6 funcionarios')\n",
        "plt.show()"
      ],
      "execution_count": 12,
      "outputs": [
        {
          "output_type": "display_data",
          "data": {
            "image/png": "[encoded data removed]",
            "text/plain": [
              "<Figure size 432x288 with 1 Axes>"
            ]
          },
          "metadata": {
            "tags": [],
            "needs_background": "light"
          }
        }
      ]
    },
    {
      "cell_type": "code",
      "metadata": {
        "id": "djrDJMd_j4DB",
        "colab_type": "code",
        "colab": {
          "base_uri": "https://localhost:8080/",
          "height": 34
        },
        "outputId": "c7778d2b-fb10-4aa8-b6ed-6c3761869afb"
      },
      "source": [
        "slope, intercept, r_value, p_value, std_err = stats.linregress(horas, producao)\n",
        "print('Coeficiente: ', r_value)"
      ],
      "execution_count": 27,
      "outputs": [
        {
          "output_type": "stream",
          "text": [
            "Coeficiente:  0.8927779997391186\n"
          ],
          "name": "stdout"
        }
      ]
    },
    {
      "cell_type": "code",
      "metadata": {
        "id": "CqXSToWiruD9",
        "colab_type": "code",
        "colab": {
          "base_uri": "https://localhost:8080/",
          "height": 51
        },
        "outputId": "d9eb9c54-ea66-4bdf-f2e3-f4edaba1a3d9"
      },
      "source": [
        "horas = 10\n",
        "producao_trabalhando_dez_horas = slope * horas + intercept\n",
        "print('Quantas pecas seriam finalizadas se um funcionario trabalhasse 10 horas?')\n",
        "print('Resposta: ', producao_trabalhando_dez_horas)"
      ],
      "execution_count": 29,
      "outputs": [
        {
          "output_type": "stream",
          "text": [
            "Quantas pecas seriam finalizadas se um funcionario trabalhasse 10 horas?\n",
            "Resposta:  21.045454545454547\n"
          ],
          "name": "stdout"
        }
      ]
    },
    {
      "cell_type": "markdown",
      "metadata": {
        "id": "gE8IBf4Zj4DD",
        "colab_type": "text"
      },
      "source": [
        "9) No sistema de tratamento de agua de uma cidade um tecnico quer analisar se a quantidade de um produto esta relacionada com a quantidade de precipitacao de impurezas das amostras. Verifique se ha uma relacao entre as variaveis, de acordo com os dados obtidos e comente (use graficos e calculos que julgar necessario para justificar sua resposta).\n",
        "\n",
        "<h4 align=\"center\"> Tabela 6: Quantidade do produto (ml) x quantidade de precipitados (mg) </h4>\n",
        "  \n",
        "| produto | precipitado | \n",
        "| :---: | :---: | \n",
        "| 9.4 | 8.2 | \n",
        "| 6.5 | 5.8 | \n",
        "| 7.3 | 6.4 | \n",
        "| 7.9 | 5.9 |\n",
        "| 9.0 | 6.5 |\n",
        "| 9.3 | 7.1 |\n",
        "| 10.6 | 7.8 |\n",
        "| 11.4 | 8.1 |\n",
        "| 12.2 | 7.5 | \n",
        "| 13.3 | 7.9 | \n",
        "| 14.2 | 8.6 |\n",
        "| 13.8 | 9.0 |\n",
        "| 11.3 | 8.1 |\n",
        "| 8.1 | 5.7 |\n",
        "| 6.1 | 5.3 |"
      ]
    },
    {
      "cell_type": "code",
      "metadata": {
        "id": "38z_m3JBj4DD",
        "colab_type": "code",
        "colab": {
          "base_uri": "https://localhost:8080/",
          "height": 514
        },
        "outputId": "d5bfc598-2bd8-4d47-b200-84d71cacb073"
      },
      "source": [
        "# Deixe sua resposta aqui\n",
        "import pandas as pd\n",
        "\n",
        "produto = [9.4, 6.5, 7.3, 7.9, 9.0, 9.3, 10.6, 11.4, 12.2, 13.3, 14.2, 13.8, 11.3, 8.1, 6.1]\n",
        "precipitado = [8.2, 5.8, 6.4, 5.9, 6.5, 7.1, 7.8, 8.1, 7.5, 7.9, 8.6, 9.0, 8.1, 5.7, 5.3]\n",
        "\n",
        "df = pd.DataFrame(\n",
        "    {'produto': produto,\n",
        "     'precipitado': precipitado\n",
        "    })\n",
        "\n",
        "df = df.sort_values(by=['produto'])\n",
        "df"
      ],
      "execution_count": 15,
      "outputs": [
        {
          "output_type": "execute_result",
          "data": {
            "text/html": [
              "<div>\n",
              "<style scoped>\n",
              "    .dataframe tbody tr th:only-of-type {\n",
              "        vertical-align: middle;\n",
              "    }\n",
              "\n",
              "    .dataframe tbody tr th {\n",
              "        vertical-align: top;\n",
              "    }\n",
              "\n",
              "    .dataframe thead th {\n",
              "        text-align: right;\n",
              "    }\n",
              "</style>\n",
              "<table border=\"1\" class=\"dataframe\">\n",
              "  <thead>\n",
              "    <tr style=\"text-align: right;\">\n",
              "      <th></th>\n",
              "      <th>produto</th>\n",
              "      <th>precipitado</th>\n",
              "    </tr>\n",
              "  </thead>\n",
              "  <tbody>\n",
              "    <tr>\n",
              "      <th>14</th>\n",
              "      <td>6.1</td>\n",
              "      <td>5.3</td>\n",
              "    </tr>\n",
              "    <tr>\n",
              "      <th>1</th>\n",
              "      <td>6.5</td>\n",
              "      <td>5.8</td>\n",
              "    </tr>\n",
              "    <tr>\n",
              "      <th>2</th>\n",
              "      <td>7.3</td>\n",
              "      <td>6.4</td>\n",
              "    </tr>\n",
              "    <tr>\n",
              "      <th>3</th>\n",
              "      <td>7.9</td>\n",
              "      <td>5.9</td>\n",
              "    </tr>\n",
              "    <tr>\n",
              "      <th>13</th>\n",
              "      <td>8.1</td>\n",
              "      <td>5.7</td>\n",
              "    </tr>\n",
              "    <tr>\n",
              "      <th>4</th>\n",
              "      <td>9.0</td>\n",
              "      <td>6.5</td>\n",
              "    </tr>\n",
              "    <tr>\n",
              "      <th>5</th>\n",
              "      <td>9.3</td>\n",
              "      <td>7.1</td>\n",
              "    </tr>\n",
              "    <tr>\n",
              "      <th>0</th>\n",
              "      <td>9.4</td>\n",
              "      <td>8.2</td>\n",
              "    </tr>\n",
              "    <tr>\n",
              "      <th>6</th>\n",
              "      <td>10.6</td>\n",
              "      <td>7.8</td>\n",
              "    </tr>\n",
              "    <tr>\n",
              "      <th>12</th>\n",
              "      <td>11.3</td>\n",
              "      <td>8.1</td>\n",
              "    </tr>\n",
              "    <tr>\n",
              "      <th>7</th>\n",
              "      <td>11.4</td>\n",
              "      <td>8.1</td>\n",
              "    </tr>\n",
              "    <tr>\n",
              "      <th>8</th>\n",
              "      <td>12.2</td>\n",
              "      <td>7.5</td>\n",
              "    </tr>\n",
              "    <tr>\n",
              "      <th>9</th>\n",
              "      <td>13.3</td>\n",
              "      <td>7.9</td>\n",
              "    </tr>\n",
              "    <tr>\n",
              "      <th>11</th>\n",
              "      <td>13.8</td>\n",
              "      <td>9.0</td>\n",
              "    </tr>\n",
              "    <tr>\n",
              "      <th>10</th>\n",
              "      <td>14.2</td>\n",
              "      <td>8.6</td>\n",
              "    </tr>\n",
              "  </tbody>\n",
              "</table>\n",
              "</div>"
            ],
            "text/plain": [
              "    produto  precipitado\n",
              "14      6.1          5.3\n",
              "1       6.5          5.8\n",
              "2       7.3          6.4\n",
              "3       7.9          5.9\n",
              "13      8.1          5.7\n",
              "4       9.0          6.5\n",
              "5       9.3          7.1\n",
              "0       9.4          8.2\n",
              "6      10.6          7.8\n",
              "12     11.3          8.1\n",
              "7      11.4          8.1\n",
              "8      12.2          7.5\n",
              "9      13.3          7.9\n",
              "11     13.8          9.0\n",
              "10     14.2          8.6"
            ]
          },
          "metadata": {
            "tags": []
          },
          "execution_count": 15
        }
      ]
    },
    {
      "cell_type": "code",
      "metadata": {
        "id": "q_Jq0j8Lj4DF",
        "colab_type": "code",
        "colab": {
          "base_uri": "https://localhost:8080/",
          "height": 366
        },
        "outputId": "2a344db4-9aec-4287-b034-98f22e6ca0e5"
      },
      "source": [
        "fig = plt.figure()\n",
        "ax = fig.add_axes([0, 0, 1, 1])\n",
        "\n",
        "ax.scatter(produto, precipitado, color='b')\n",
        "#plt.yticks(np.arange(-3, 7, 1))\n",
        "#plt.xticks(np.arange(-3, 3, 1))\n",
        "\n",
        "ax.set_xlabel('valores de produto')\n",
        "ax.set_ylabel('valores de precipitado')\n",
        "ax.set_title('Grafico 01: Relacao entre produto e precipitado')\n",
        "\n",
        "plt.show()"
      ],
      "execution_count": 16,
      "outputs": [
        {
          "output_type": "display_data",
          "data": {
            "image/png": "[encoded data removed]",
            "text/plain": [
              "<Figure size 432x288 with 1 Axes>"
            ]
          },
          "metadata": {
            "tags": [],
            "needs_background": "light"
          }
        }
      ]
    },
    {
      "cell_type": "code",
      "metadata": {
        "id": "kEaC-R4qj4DH",
        "colab_type": "code",
        "colab": {
          "base_uri": "https://localhost:8080/",
          "height": 282
        },
        "outputId": "bfaf9d10-1347-4b3b-c7c1-788b8dd88e41"
      },
      "source": [
        "plt.plot(df['produto'], df['precipitado'])"
      ],
      "execution_count": 17,
      "outputs": [
        {
          "output_type": "execute_result",
          "data": {
            "text/plain": [
              "[<matplotlib.lines.Line2D at 0x7fa3982fce80>]"
            ]
          },
          "metadata": {
            "tags": []
          },
          "execution_count": 17
        },
        {
          "output_type": "display_data",
          "data": {
            "image/png": "[encoded data removed]",
            "text/plain": [
              "<Figure size 432x288 with 1 Axes>"
            ]
          },
          "metadata": {
            "tags": [],
            "needs_background": "light"
          }
        }
      ]
    },
    {
      "cell_type": "code",
      "metadata": {
        "id": "bXb-JITNQLuY",
        "colab_type": "code",
        "colab": {
          "base_uri": "https://localhost:8080/",
          "height": 34
        },
        "outputId": "8722ec18-8ebd-4a80-ac48-1d63d8542138"
      },
      "source": [
        "slope, intercept, r_value, p_value, std_err = stats.linregress(produto, precipitado)\n",
        "\n",
        "print('Coeficiente:', r_value)"
      ],
      "execution_count": 18,
      "outputs": [
        {
          "output_type": "stream",
          "text": [
            "Coeficiente: 0.8946043345561113\n"
          ],
          "name": "stdout"
        }
      ]
    },
    {
      "cell_type": "markdown",
      "metadata": {
        "id": "adAP5ZYWPRvY",
        "colab_type": "text"
      },
      "source": [
        "Reposta: Observando os dois graficos gerados, conclui-se que quanto mais produto mais precipitado. Alem disso temos o calculo do coeficiente da correlação que é de 0.89, e quanto mais próximo de 1, maior a correlação positiva, podemos dizer que nesse caso existe uma relação positiva entre produto e precipitado."
      ]
    },
    {
      "cell_type": "markdown",
      "metadata": {
        "id": "m2K3EidNj4DJ",
        "colab_type": "text"
      },
      "source": [
        "10) Faca um grafico de linhas com os dados obtidos do censo do IBGE sobre a populacao brasileira e comente.\n",
        "\n",
        "<h4 align=\"center\"> Tabela 7: Populacao brasileira em censos de 1872 a 2010 </h4>\n",
        "  \n",
        "| censo | populacao | \n",
        "| :---: | :---: | \n",
        "| 1872 | 9930478 | \n",
        "| 1880 | 14333915 | \n",
        "| 1900 | 17438434 | \n",
        "| 1920 | 30635605 |\n",
        "| 1940 | 41236315 |\n",
        "| 1950 | 51944397 |\n",
        "| 1960 | 70992343 | \n",
        "| 1970 | 94508583 | \n",
        "| 1980 | 121150573 | \n",
        "| 1991 | 146917459 |\n",
        "| 2000 | 169590693 |\n",
        "| 2010 | 190755799 |\n"
      ]
    },
    {
      "cell_type": "code",
      "metadata": {
        "id": "P8Rj3Xm4j4DJ",
        "colab_type": "code",
        "colab": {
          "base_uri": "https://localhost:8080/",
          "height": 281
        },
        "outputId": "cf47687c-020e-4dfd-c647-0b1db7fb71fa"
      },
      "source": [
        "# Deixe sua resposta aqui\n",
        "import pandas as pd\n",
        "\n",
        "censo_ano = [1872, 1880, 1900, 1920, 1940, 1950, 1960, 1970, 1980, 1991, 2000, 2010]\n",
        "populacao = [9930478, 14333915, 17438434, 30635605, 41236315, 51944397, 70992343, 94508583, 121150573, 146917459, 169590693, 190755799]\n",
        "\n",
        "\n",
        "df = pd.DataFrame({\n",
        "   'populacao': populacao,\n",
        "   }, index=censo_ano)\n",
        "lines = df.plot.line(title='Populacao brasileira em censos de 1872 a 2010')"
      ],
      "execution_count": 19,
      "outputs": [
        {
          "output_type": "display_data",
          "data": {
            "image/png": "[encoded data removed]",
            "text/plain": [
              "<Figure size 432x288 with 1 Axes>"
            ]
          },
          "metadata": {
            "tags": [],
            "needs_background": "light"
          }
        }
      ]
    },
    {
      "cell_type": "code",
      "metadata": {
        "id": "lk0q8YuhRx1S",
        "colab_type": "code",
        "colab": {
          "base_uri": "https://localhost:8080/",
          "height": 34
        },
        "outputId": "6ffc2635-7db8-42e4-fb74-aba5fd21e2f4"
      },
      "source": [
        "slope, intercept, r_value, p_value, std_err = stats.linregress(populacao, censo_ano)\n",
        "\n",
        "print('Coeficiente:', r_value)"
      ],
      "execution_count": 20,
      "outputs": [
        {
          "output_type": "stream",
          "text": [
            "Coeficiente: 0.9355273227321234\n"
          ],
          "name": "stdout"
        }
      ]
    },
    {
      "cell_type": "code",
      "metadata": {
        "id": "FR2l0rHL-VBs",
        "colab_type": "code",
        "colab": {}
      },
      "source": [
        "# Resposta: O calculo do coeficiente da correlação que é de 0.93, ou seja correlação positiva\n",
        "# conforme a passagem dos anos mais a população aumentou"
      ],
      "execution_count": 21,
      "outputs": []
    },
    {
      "cell_type": "markdown",
      "metadata": {
        "id": "h9w4YJWyj4DL",
        "colab_type": "text"
      },
      "source": [
        "11) O setor de RH de uma empresa esta reformulando algumas politicas e precisa verificar se o salario de 6 funcionarios (reais/hora) esta relacionado ao tempo de servico. Os dados para calculos sao:\n",
        "\n",
        "<h4 align=\"center\"> Tabela 8: Tempo de servico de 6 funcionarios (anos), e respectivos salarios (reais/hora) </h4>\n",
        "  \n",
        "| x | y | \n",
        "| :---: | :---: | \n",
        "| 5 | 25 | \n",
        "| 3 | 20 | \n",
        "| 4 | 21 | \n",
        "| 10 | 35 |\n",
        "| 15 | 38 |\n",
        "| 37 | 139 |\n",
        "\n",
        "Crie um grafico, calcule o coeficiente de correlacao r e interprete os dados obtidos."
      ]
    },
    {
      "cell_type": "code",
      "metadata": {
        "id": "s3MPP3vRj4DM",
        "colab_type": "code",
        "colab": {
          "base_uri": "https://localhost:8080/",
          "height": 282
        },
        "outputId": "66d70eaa-9d82-4ef6-c6c5-bc765123caad"
      },
      "source": [
        "# Deixe sua resposta aqui\n",
        "tempo_de_servico_anos = [5, 3, 4, 10, 15, 37]\n",
        "salario_reais_hora =    [25, 20, 21, 35, 38, 139]\n",
        "plt.plot(tempo_de_servico_anos, salario_reais_hora)"
      ],
      "execution_count": 22,
      "outputs": [
        {
          "output_type": "execute_result",
          "data": {
            "text/plain": [
              "[<matplotlib.lines.Line2D at 0x7fa3981a1da0>]"
            ]
          },
          "metadata": {
            "tags": []
          },
          "execution_count": 22
        },
        {
          "output_type": "display_data",
          "data": {
            "image/png": "[encoded data removed]",
            "text/plain": [
              "<Figure size 432x288 with 1 Axes>"
            ]
          },
          "metadata": {
            "tags": [],
            "needs_background": "light"
          }
        }
      ]
    },
    {
      "cell_type": "code",
      "metadata": {
        "id": "hSX7t4Z7j4DN",
        "colab_type": "code",
        "colab": {
          "base_uri": "https://localhost:8080/",
          "height": 34
        },
        "outputId": "35cd60b6-36bb-40a2-a84d-17cd68e6e5ab"
      },
      "source": [
        "slope, intercept, r_value, p_value, std_err = stats.linregress(tempo_de_servico_anos, salario_reais_hora)\n",
        "\n",
        "print('Coeficiente:', r_value)"
      ],
      "execution_count": 23,
      "outputs": [
        {
          "output_type": "stream",
          "text": [
            "Coeficiente: 0.9791794051597125\n"
          ],
          "name": "stdout"
        }
      ]
    },
    {
      "cell_type": "code",
      "metadata": {
        "id": "K_cZiEVlj4DP",
        "colab_type": "code",
        "colab": {}
      },
      "source": [
        "# Resposta: O calculo do coeficiente da correlação é de 0.97, ou seja correlação positiva.\n",
        "# Quanto mais tempo de servico o funcionario tem anos, mais ele ganha."
      ],
      "execution_count": 24,
      "outputs": []
    },
    {
      "cell_type": "markdown",
      "metadata": {
        "id": "13wTXkzXj4DQ",
        "colab_type": "text"
      },
      "source": [
        "12) O que o coeficiente de determinacao na regressao linear simples proporciona para interpretacao dos dados? "
      ]
    },
    {
      "cell_type": "code",
      "metadata": {
        "id": "bH1xSrc1j4DQ",
        "colab_type": "code",
        "colab": {}
      },
      "source": [
        "# Deixe sua resposta aqui\n",
        "# Ele ajuda a descobrir em que proporção a variável X influencia em Y"
      ],
      "execution_count": 25,
      "outputs": []
    }
  ]
}