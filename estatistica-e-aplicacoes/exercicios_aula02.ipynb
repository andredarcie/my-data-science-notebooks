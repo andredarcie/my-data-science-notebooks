{
  "nbformat": 4,
  "nbformat_minor": 0,
  "metadata": {
    "kernelspec": {
      "display_name": "Python 3",
      "language": "python",
      "name": "python3"
    },
    "language_info": {
      "codemirror_mode": {
        "name": "ipython",
        "version": 3
      },
      "file_extension": ".py",
      "mimetype": "text/x-python",
      "name": "python",
      "nbconvert_exporter": "python",
      "pygments_lexer": "ipython3",
      "version": "3.7.6"
    },
    "colab": {
      "name": "exercicios_aula02.ipynb",
      "provenance": []
    }
  },
  "cells": [
    {
      "cell_type": "markdown",
      "metadata": {
        "id": "P39SQNjEnY3K",
        "colab_type": "text"
      },
      "source": [
        "1) Numa confeitaria, um unico confeiteiro leva, em minutos, os seguintes tempos para preparar um bolo:\n",
        "\n",
        "<h4 align=\"center\"> Tabela 01: Tempo, em minutos, para o confeiteiro preparar um bolo</h4>\n",
        "\n",
        "| | | Tempos | |\n",
        "| :---: | :---: | :---: | :---: | \n",
        "| 78 | 72 | 68 | 76 | \n",
        "| 76 | 76 | 69 | 81 | \n",
        "| 76 | 83 | 69 | 79 | \n",
        "| 72 | 85 | 72 | 76 | \n",
        "\n",
        "\n",
        "Calcule a media e a mediana dos dados acima."
      ]
    },
    {
      "cell_type": "code",
      "metadata": {
        "id": "Sx6q520snY3L",
        "colab_type": "code",
        "colab": {}
      },
      "source": [
        "# Deixe sua resposta aqui\n",
        "\n"
      ],
      "execution_count": null,
      "outputs": []
    },
    {
      "cell_type": "markdown",
      "metadata": {
        "id": "r7UZRPsJnY3Q",
        "colab_type": "text"
      },
      "source": [
        "2) Calcule a media, a mediana e a moda dos dados abaixo: <br><br>\n",
        "a) [6, 8, 0, 3, 8];<br>\n",
        "b) [2, 8, 8, 6, 16];<br>\n",
        "c) [10, 20, 6, 10, 16, 4];<br>\n",
        "d) [5, 0, -2, -1, 3];<br>\n",
        "e) [1, 9, 1, 2, 0, -1, 2];<br>\n",
        "f) [12, 6, 4, 7, 10, 4, 9, 8, 5, 5]."
      ]
    },
    {
      "cell_type": "code",
      "metadata": {
        "id": "YIqWMV0pnY3R",
        "colab_type": "code",
        "colab": {}
      },
      "source": [
        "# Deixe sua resposta aqui\n",
        "\n"
      ],
      "execution_count": null,
      "outputs": []
    },
    {
      "cell_type": "markdown",
      "metadata": {
        "id": "1p09G3pWnY3W",
        "colab_type": "text"
      },
      "source": [
        "3) Na faculdade, um aluno de estatistica obteve as seguintes notas:\n",
        "    \n",
        " <h4 align=\"center\">Tabela 02: Notas do aluno no semestre</h4>\n",
        "\n",
        "| Atividade | Nota | \n",
        "| :---: | :---: | \n",
        "| 1 | 90 | \n",
        "| 2 | 70 |  \n",
        "| 3 | 65 | \n",
        "| 4 | 90 | \n",
        "| 5 | 90 | \n",
        "| 6 | 30 | \n",
        "\n",
        "Use os dados para calcular a media, a media a e moda. Se voce fosse o aluno, qual medida de tendencia central gostaria que representasse sua nota final?"
      ]
    },
    {
      "cell_type": "code",
      "metadata": {
        "id": "Pa8xsEYsnY3W",
        "colab_type": "code",
        "colab": {
          "base_uri": "https://localhost:8080/",
          "height": 68
        },
        "outputId": "5fd5aec4-654b-4c12-99e2-3fb4915455a4"
      },
      "source": [
        "# Deixe sua resposta aqui\n",
        "import statistics\n",
        "\n",
        "notas = [90, 70, 65, 90, 90, 30]\n",
        "print(\"Media: \", statistics.mean(notas))\n",
        "print('Mediana: ', statistics.median(notas))\n",
        "print('Moda: ', statistics.mode(notas))"
      ],
      "execution_count": 4,
      "outputs": [
        {
          "output_type": "stream",
          "text": [
            "Media:  72.5\n",
            "Mediana:  80.0\n",
            "Moda:  90\n"
          ],
          "name": "stdout"
        }
      ]
    },
    {
      "cell_type": "markdown",
      "metadata": {
        "id": "HmgMb11ostWd",
        "colab_type": "text"
      },
      "source": [
        "A medida de tendencia central que gostaria é a Media pois se tiver maior \n",
        "frequencia de notas baixas, o valor de notas altas ajudaria na media"
      ]
    },
    {
      "cell_type": "markdown",
      "metadata": {
        "id": "7QBznHSunY3a",
        "colab_type": "text"
      },
      "source": [
        "4) Calcule a media da venda de 300 itens do supermercado: (Fazer em sala)\n",
        "    \n",
        "<h4 align=\"center\">Tabela 03: Margens de lucro, em reais</h4>\n",
        "\n",
        "| Categoria (em reais) | Frequencia | \n",
        "| :---: | :---: | \n",
        "| 15 a 25 | 30 | \n",
        "| 25 a 35 | 45 |  \n",
        "| 35 a 45 | 150 | \n",
        "| 45 a 55 | 45 | \n",
        "| 55 a 65 | 30 | \n"
      ]
    },
    {
      "cell_type": "code",
      "metadata": {
        "id": "3Yniypz-nY3a",
        "colab_type": "code",
        "colab": {
          "base_uri": "https://localhost:8080/",
          "height": 34
        },
        "outputId": "3ee84435-9f4f-4509-af8d-6fc64e3914be"
      },
      "source": [
        "# Deixe sua resposta aqui\n",
        "frequencias = [30, 45, 150, 45, 30]\n",
        "print(\"Media: \", statistics.mean(frequencias))"
      ],
      "execution_count": null,
      "outputs": [
        {
          "output_type": "stream",
          "text": [
            "Media:  60\n"
          ],
          "name": "stdout"
        }
      ]
    },
    {
      "cell_type": "markdown",
      "metadata": {
        "id": "_-xMRBWinY3d",
        "colab_type": "text"
      },
      "source": [
        "5) Calcule a mediana do numero de roubos em um bairro de Sao Paulo:\n",
        "    \n",
        "<h4 align=\"center\">Tabela 04: Numero de roubos em um bairro de Sao Paulo, segundo o ano</h4>\n",
        "\n",
        "| Ano | Frequencia | \n",
        "| :---: | :---: | \n",
        "| 2010 | 18 | \n",
        "| 2011 | 16 |  \n",
        "| 2012 | 16 | \n",
        "| 2013 | 32 | \n",
        "| 2014 | 28 | \n",
        "| 2015 | 17 |  \n",
        "| 2016 | 27 | \n",
        "| 2017 | 18 | \n",
        "| 2018 | 14 |"
      ]
    },
    {
      "cell_type": "code",
      "metadata": {
        "id": "Ijt7fh0KnY3e",
        "colab_type": "code",
        "colab": {
          "base_uri": "https://localhost:8080/",
          "height": 34
        },
        "outputId": "d945931f-4ee2-4413-c30b-1b3c30323b92"
      },
      "source": [
        "# Deixe sua resposta aqui\n",
        "frequencias = [18, 16, 16, 32, 28, 17, 27, 18, 14]\n",
        "print('Mediana: ', statistics.median(frequencias))"
      ],
      "execution_count": null,
      "outputs": [
        {
          "output_type": "stream",
          "text": [
            "Mediana:  18\n"
          ],
          "name": "stdout"
        }
      ]
    },
    {
      "cell_type": "markdown",
      "metadata": {
        "id": "nbnl__HDnY3h",
        "colab_type": "raw"
      },
      "source": [
        "5) Um vendedor de salgados vendeu o mesmo tipo de salgado por precos diferentes durante o dia, conforme a procura.\n",
        "Na parte da manha vendeu 12 salgados a 2 reais cada, na hora do almoco vendeu 10 unidades a 3 reais, e na hora\n",
        "do cafe da tarde vendeu 8 unidades a 6 reais. Construa uma tabela e calcule o preco medio do item vendido."
      ]
    },
    {
      "cell_type": "code",
      "metadata": {
        "id": "N-AO-OSfnY3i",
        "colab_type": "code",
        "colab": {}
      },
      "source": [
        "# Deixe sua resposta aqui"
      ],
      "execution_count": null,
      "outputs": []
    },
    {
      "cell_type": "markdown",
      "metadata": {
        "id": "AHdLaFyonY3m",
        "colab_type": "text"
      },
      "source": [
        "6) Calcule a media do numero de garcons com carteira assinada em estabelecimentos familiares do centro de Pocos de Caldas, e indique a porcentagem dos que tem mais garcons que a media.\n",
        "\n",
        "Dados: [2, 1, 4, 3, 2, 3, 1, 2, 3, 5, 1, 3, 2, 2, 1, 1, 1, 1, 2, 3]. "
      ]
    },
    {
      "cell_type": "code",
      "metadata": {
        "id": "9JuifGybnY3p",
        "colab_type": "code",
        "colab": {
          "base_uri": "https://localhost:8080/",
          "height": 51
        },
        "outputId": "579fc09a-635c-4d65-bafa-39c08ac8226b"
      },
      "source": [
        "# Deixe sua resposta aqui\n",
        "numero_de_garcons_por_estabelecimentos = [2, 1, 4, 3, 2, 3, 1, 2, 3, 5, 1, 3, 2, 2, 1, 1, 1, 1, 2, 3]\n",
        "media = statistics.mean(numero_de_garcons_por_estabelecimentos)\n",
        "total_de_estabelecimentos = len(numero_de_garcons_por_estabelecimentos)\n",
        "\n",
        "print(\"Media do numero de garcons e: \", media)\n",
        "numero_de_estabelecimento_maior_que_a_media = 0\n",
        "\n",
        "for estabeleciemento in numero_de_garcons_por_estabelecimentos:\n",
        "  if estabeleciemento > media:\n",
        "    numero_de_estabelecimento_maior_que_a_media += 1\n",
        "\n",
        "porcentagem = numero_de_estabelecimento_maior_que_a_media / total_de_estabelecimentos\n",
        "print(porcentagem * 100, '% dos estabelecimentos tem garcons acima da media')"
      ],
      "execution_count": null,
      "outputs": [
        {
          "output_type": "stream",
          "text": [
            "Media do numero de garcons e:  2.15\n",
            "35.0 % dos estabelecimentos tem garcons acima da media\n"
          ],
          "name": "stdout"
        }
      ]
    },
    {
      "cell_type": "markdown",
      "metadata": {
        "id": "KPKDOOLJnY3r",
        "colab_type": "text"
      },
      "source": [
        "7) Os dados abaixo indicam salarios de profissionais do Judiciario brasileiro, em Salarios Minimos (SM). \n",
        "Calcule a media e a mediana.\n",
        "\n",
        "<h4 align=\"center\">Tabela 05: Distribuicao de salarios de profissionais do judiciario <br> brasileiro, em Salarios Minimos (SM)</h4>\n",
        "\n",
        "| SM | Frequencia | Percentual |\n",
        "| :---: | :---: | :---: |\n",
        "| 0 a 1 | 8638 | 52,9 |\n",
        "| 1 a 2 | 4987 | 30,5 |\n",
        "| 2 a 5 | 1289 | 7,9 |\n",
        "| 5 a 10 | 436 | 2,7 |\n",
        "| 10 a 20 | 293 | 1,8 |\n",
        "| mais de 20 | 701 | 4,2 |\n",
        "| Total | 16344 | 100 |"
      ]
    },
    {
      "cell_type": "code",
      "metadata": {
        "id": "dKzHqiZznY3s",
        "colab_type": "code",
        "colab": {
          "base_uri": "https://localhost:8080/",
          "height": 102
        },
        "outputId": "88de692e-e4a8-4f87-bb80-195448990790"
      },
      "source": [
        "# Deixe sua resposta aqui\n",
        "\n",
        "# Como estamos trabalhando com classes de valores continuos, precisamos calcular o ponto dentral\n",
        "pontos_centrais = [ 0.5, 1.5, 3.5, 7.5, 15, 30 ]\n",
        "print(\"Media SM: \", statistics.mean(pontos_centrais))\n",
        "print('Mediana SM: ', statistics.median(pontos_centrais))\n",
        "print('-'*100)\n",
        "frequencias = [8638, 4987, 1289, 436, 293, 701]\n",
        "print(\"Media Frequencia: \", statistics.mean(frequencias))\n",
        "print('Mediana Frequencia: ', statistics.median(frequencias))"
      ],
      "execution_count": 9,
      "outputs": [
        {
          "output_type": "stream",
          "text": [
            "Media SM:  9.666666666666666\n",
            "Mediana SM:  5.5\n",
            "----------------------------------------------------------------------------------------------------\n",
            "Media Frequencia:  2724\n",
            "Mediana Frequencia:  995.0\n"
          ],
          "name": "stdout"
        }
      ]
    },
    {
      "cell_type": "markdown",
      "metadata": {
        "id": "pemete6mnY3v",
        "colab_type": "text"
      },
      "source": [
        "<h4 align=\"center\">Tabela 01: Distribuicao de salarios de profissionais do judiciario <br> brasileiro, em Salarios Minimos (SM)</h4>\n",
        "\n",
        "| SM | Ponto Central | Frequencia | PC* Freq |\n",
        "| :---: | :---: | :---: | :---: |\n",
        "| 0 a 1 | 0,5 | 8638 | - |\n",
        "| 1 a 2 | 1,5 | 4987 | - |\n",
        "| 2 a 5 | 3,75 | 1289 | - |\n",
        "| 5 a 10 | 7,5 | 436 | - |\n",
        "| 10 a 20 | 15 | 293 | - |\n",
        "| mais de 20 | 30 | 701 | - |\n",
        "| Total |  | -| - | "
      ]
    },
    {
      "cell_type": "markdown",
      "metadata": {
        "id": "1IKN7GR4nY3v",
        "colab_type": "text"
      },
      "source": [
        "8) Responda:\n",
        "    \n",
        "a) Se um conjunto tiver um numero par de dados, a mediana sera a _ _ _ _ _ _ _ _ _ _ _ _ quando os dados ja estao ordenados. <br>\n",
        "b) Qual a medida de tendencia central que indica que um valor ocorre com mais frequencia? <br>\n",
        "c) Pode ocorrer mais que uma moda por conjunto de dados? <br>\n",
        "d) A media divide um conjunto de dados, de forma que metade dos dados sempre &eacute; mais do que ela. "
      ]
    },
    {
      "cell_type": "code",
      "metadata": {
        "id": "xu-s4vnsnY3w",
        "colab_type": "code",
        "colab": {}
      },
      "source": [
        "# Deixe sua resposta aqui\n",
        "# a) Se o conjunto tiver número par de elementos, a mediana é a média dos valores centrais\n",
        "# b) Moda\n",
        "# c) Sim. O conjunto pode não apresentar uma moda, ou ter mais que uma\n",
        "# d) Não, isso na verdade seria a Mediana"
      ],
      "execution_count": null,
      "outputs": []
    },
    {
      "cell_type": "markdown",
      "metadata": {
        "id": "lmNb4ZOPnY3y",
        "colab_type": "text"
      },
      "source": [
        "9) Sempre encontramos um aviso nos elevadores indicando o peso maximo que eles sao capazes de aguentar. \n",
        "Em uma situacao com 3 muheres com peso medio de 65 kg e 2 homens com peso medio de 82kg, \n",
        "em um elevador com peso maximo de 500 kg, havera sobrecarga? Se fosse usada a mediana para indicar essa situacao\n",
        "voce poderia responder a questao anterior? Por que?"
      ]
    },
    {
      "cell_type": "code",
      "metadata": {
        "id": "qSkdm5TTnY3z",
        "colab_type": "code",
        "colab": {
          "base_uri": "https://localhost:8080/",
          "height": 34
        },
        "outputId": "148758e7-84cf-4bf5-a06f-81fdf1bcda4f"
      },
      "source": [
        "# Deixe sua resposta aqui\n",
        "pesos_das_mulheres = 65 * 3\n",
        "pesos_dos_homens = 82 * 2\n",
        "peso_maximo_do_elevador = 500\n",
        "\n",
        "soma_dos_pesos = pesos_das_mulheres + pesos_dos_homens\n",
        "\n",
        "if soma_dos_pesos > peso_maximo_do_elevador:\n",
        "  print('Havera sobrecarga!')\n",
        "else:\n",
        "  print('Não havera sobrecarga!')"
      ],
      "execution_count": 6,
      "outputs": [
        {
          "output_type": "stream",
          "text": [
            "Não havera sobrecarga!\n"
          ],
          "name": "stdout"
        }
      ]
    },
    {
      "cell_type": "markdown",
      "metadata": {
        "id": "Xc6JNuBtKUtw",
        "colab_type": "text"
      },
      "source": [
        "Resposta: Não seria possivel usar a mediana para responder essa questão, pois a mediana indica apenas o valor central, que é independente dos valores posteriores ou anteriores, sem esses valores não seria possivel saber se houve ou não sobrecarga. Pois a multiplicacao dos valores da media é possivel chegar no valor total e comparar com o peso maximo."
      ]
    },
    {
      "cell_type": "markdown",
      "metadata": {
        "id": "gnBV_p_PnY33",
        "colab_type": "text"
      },
      "source": [
        "10) Um estudo para verificar o tempo que um semaforo de pedestres deve ficar aberto para que idosos possam\n",
        "atravessar com seguranca obteve os seguintes dados (em segundos):\n",
        "    \n",
        "Dados: [21,4; 15,1; 13,6; 16,0; 15,0; 19,1; 21,0; 14,2; 15,6; 20,1; 21,1; 22,2].\n",
        "    \n",
        "Ache a media e verifique a porcentagem de idosos que nao atravessariam a tempo se o ajuste do semaforo\n",
        "for de 20 segundos."
      ]
    },
    {
      "cell_type": "code",
      "metadata": {
        "id": "j8GuV7bWnY34",
        "colab_type": "code",
        "colab": {
          "base_uri": "https://localhost:8080/",
          "height": 85
        },
        "outputId": "f64a6021-e3dc-4ac9-97b5-f58f0561aad4"
      },
      "source": [
        "# Deixe sua resposta aqui\n",
        "dados_em_segundos = [21.4, 15.1, 13.6, 16.0, 15.0, 19.1, 21.0, 14.2, 15.6, 20.1, 21.1, 22.2]\n",
        "ajuste_do_semafaro = 20\n",
        "\n",
        "print(\"Media: \", statistics.mean(dados_em_segundos))\n",
        "\n",
        "idosos_que_nao_atravessariam = 0\n",
        "\n",
        "for dado in dados_em_segundos:\n",
        "  if dado > ajuste_do_semafaro:\n",
        "    idosos_que_nao_atravessariam += 1\n",
        "\n",
        "quantidade_de_idosos = len(dados_em_segundos)\n",
        "print('Quanidade de Idosos: ', quantidade_de_idosos)\n",
        "print('Quantidade de Idosos que não atravessariam: ', idosos_que_nao_atravessariam)\n",
        "porcentagem =  (idosos_que_nao_atravessariam / quantidade_de_idosos) * 100\n",
        "print('Porcentagem de Idosos que não atravessariam: ', porcentagem)"
      ],
      "execution_count": 19,
      "outputs": [
        {
          "output_type": "stream",
          "text": [
            "Media:  17.866666666666667\n",
            "Quanidade de Idosos:  12\n",
            "Quantidade de Idosos que não atravessariam:  5\n",
            "Porcentagem de Idosos que não atravessariam:  41.66666666666667\n"
          ],
          "name": "stdout"
        }
      ]
    },
    {
      "cell_type": "markdown",
      "metadata": {
        "id": "uZafth4unY37",
        "colab_type": "text"
      },
      "source": [
        "11) Uma montadora de veiculos resolve fazer um teste de duracao de uma determinada peca de 2 marcas de fabricantes: fornecedor A e fornecedor B. Calcule a media, a moda e a mediana de cada um, e indique qual seria mais vantajoso.\n",
        "\n",
        "Dados do fornecedor A: [486,490,491,491,494,494,496,498,498,498,502,504,505,506,507,508,510,514,515,527]; <br>\n",
        "Dados do fornecedor B: [489,489,492,492,491,492,492,493,493,494,495,496,497,497,497,498,499,502,503,505];"
      ]
    },
    {
      "cell_type": "code",
      "metadata": {
        "id": "jclT4p8enY38",
        "colab_type": "code",
        "colab": {
          "base_uri": "https://localhost:8080/",
          "height": 136
        },
        "outputId": "921e5f59-4170-490c-e2d8-5b9f9ffef7e3"
      },
      "source": [
        "# Deixe sua resposta aqui\n",
        "dados_do_fornecedor_A = [486,490,491,491,494,494,496,498,498,498,502,504,505,506,507,508,510,514,515,527]\n",
        "dados_do_fornecedor_B = [489,489,492,492,491,492,492,493,493,494,495,496,497,497,497,498,499,502,503,505]\n",
        "\n",
        "print(\"Media do fornecedor A: \", statistics.mean(dados_do_fornecedor_A))\n",
        "print('Mediana do fornecedor A: ', statistics.median(dados_do_fornecedor_A))\n",
        "print('Moda do fornecedor A: ', statistics.mode(dados_do_fornecedor_A))\n",
        "print('-'*100)\n",
        "print(\"Media do fornecedor B: \", statistics.mean(dados_do_fornecedor_B))\n",
        "print('Mediana do fornecedor B: ', statistics.median(dados_do_fornecedor_B))\n",
        "print('Moda do fornecedor B: ', statistics.mode(dados_do_fornecedor_B))"
      ],
      "execution_count": 21,
      "outputs": [
        {
          "output_type": "stream",
          "text": [
            "Media do fornecedor A:  501.7\n",
            "Mediana do fornecedor A:  500.0\n",
            "Moda do fornecedor A:  498\n",
            "----------------------------------------------------------------------------------------------------\n",
            "Media do fornecedor B:  495.3\n",
            "Mediana do fornecedor B:  494.5\n",
            "Moda do fornecedor B:  492\n"
          ],
          "name": "stdout"
        }
      ]
    },
    {
      "cell_type": "markdown",
      "metadata": {
        "id": "e3CD8HP6VsX2",
        "colab_type": "text"
      },
      "source": [
        "Resposta: O fornecedor A pois sua media e sua mediana é maior que do \n",
        "fornecedor B."
      ]
    },
    {
      "cell_type": "code",
      "metadata": {
        "id": "QXayR00dnY3_",
        "colab_type": "code",
        "colab": {
          "base_uri": "https://localhost:8080/",
          "height": 297
        },
        "outputId": "d604c20b-c026-45f2-ed5e-e4d64b33b1c7"
      },
      "source": [
        "# 12) Em um concurso publico para professor, o candidato obteve as seguintes notas, de acordo com os 5 avaliadores:\n",
        "\n",
        "import matplotlib\n",
        "import matplotlib.pyplot as plt\n",
        "import numpy as np\n",
        "\n",
        "\n",
        "labels = ['Aval 1', 'Aval 2', 'Aval 3', 'Aval 4', 'Aval 5']\n",
        "con_espec_means = [18, 17, 14, 19, 16]\n",
        "con_pedag_means = [16, 13, 1, 14, 12]\n",
        "\n",
        "x = np.arange(len(labels))  \n",
        "width = 0.35  \n",
        "\n",
        "fig, ax = plt.subplots()\n",
        "rects1 = ax.bar(x - width/2, con_espec_means, width, label='Conhecimento \\n especifico')\n",
        "rects2 = ax.bar(x + width/2, con_pedag_means, width, label='Conhecimento \\n pedagogico')\n",
        "\n",
        "\n",
        "ax.set_ylabel('Notas')\n",
        "ax.set_title('Grafico 01: Notas do candidato A')\n",
        "ax.set_xticks(x)\n",
        "plt.yticks(np.arange(0, 21, 2))\n",
        "ax.set_xticklabels(labels)\n",
        "ax.legend(bbox_to_anchor=(1.05, 1), loc='upper left', borderaxespad=0.)\n",
        "\n",
        "\n",
        "def autolabel(rects):\n",
        "    \n",
        "    for rect in rects:\n",
        "        height = rect.get_height()\n",
        "        ax.annotate('{}'.format(height),\n",
        "                    xy=(rect.get_x() + rect.get_width() / 2, height),\n",
        "                    xytext=(0, 3),  # 3 points vertical offset\n",
        "                    textcoords=\"offset points\",\n",
        "                    ha='center', va='bottom')\n",
        "\n",
        "\n",
        "autolabel(rects1)\n",
        "autolabel(rects2)\n",
        "\n",
        "fig.tight_layout()\n",
        "#plt.savefig('grafico01_aula02_pratica.jpg', bbox_inches = 'tight')\n",
        "\n",
        "plt.show()"
      ],
      "execution_count": 43,
      "outputs": [
        {
          "output_type": "display_data",
          "data": {
            "image/png": "[encoded data removed]",
            "text/plain": [
              "<Figure size 432x288 with 1 Axes>"
            ]
          },
          "metadata": {
            "tags": [],
            "needs_background": "light"
          }
        }
      ]
    },
    {
      "cell_type": "markdown",
      "metadata": {
        "id": "o8a6sH6cnY4E",
        "colab_type": "text"
      },
      "source": [
        "Calcule a media dos dados e em seguida verifique:\n",
        "\n",
        "Se a banca descartar a maior nota e a menor nota, em relacao a nota anterior, qual seria a nota final? A nota seria quantos pontos maior ou quantos pontos menor em relacao a media anterior?"
      ]
    },
    {
      "cell_type": "code",
      "metadata": {
        "id": "HxJuMaZNnY4F",
        "colab_type": "code",
        "colab": {
          "base_uri": "https://localhost:8080/",
          "height": 136
        },
        "outputId": "39ebf7ef-ba8c-48f6-859a-4160561bed73"
      },
      "source": [
        "# Deixe sua resposta aqui\n",
        "notas_conhecimento_especifico = con_espec_means\n",
        "media_do_conhecimento_especifico = statistics.mean(notas_conhecimento_especifico)\n",
        "print(\"Media do conhecimento especifico: \", media_do_conhecimento_especifico)\n",
        "maior_nota_conhecimento_especifico = max(notas_conhecimento_especifico)\n",
        "menor_nota_conchecimento_especifico = min(notas_conhecimento_especifico)\n",
        "\n",
        "# Descarta a maior e a menor nota\n",
        "notas_conhecimento_especifico.remove(maior_nota_conhecimento_especifico)\n",
        "notas_conhecimento_especifico.remove(menor_nota_conchecimento_especifico)\n",
        "media_do_conhecimento_especifico_sem_maior_e_menor = statistics.mean(notas_conhecimento_especifico)\n",
        "print(\"Media do conhecimento especifico sem maior e menor valores: \", media_do_conhecimento_especifico_sem_maior_e_menor)\n",
        "\n",
        "diferenca_de_pontos = media_do_conhecimento_especifico - media_do_conhecimento_especifico_sem_maior_e_menor\n",
        "print('A diferença de pontos é: ', diferenca_de_pontos)\n",
        "\n",
        "print('-'*100)\n",
        "\n",
        "notas_conhecimento_pedagogico = con_pedag_means\n",
        "media_conhecimento_pedagogico = statistics.mean(notas_conhecimento_pedagogico)\n",
        "print(\"Media do conhecimento pedagogico: \", media_conhecimento_pedagogico)\n",
        "maior_nota_conhecimento_pedagogico = max(notas_conhecimento_pedagogico)\n",
        "menor_nota_conchecimento_pedagogico = min(notas_conhecimento_pedagogico)\n",
        "\n",
        "# Descarta a maior e a menor nota\n",
        "notas_conhecimento_pedagogico.remove(maior_nota_conhecimento_pedagogico)\n",
        "notas_conhecimento_pedagogico.remove(menor_nota_conchecimento_pedagogico)\n",
        "media_conhecimento_pedagogico_sem_maior_e_menor = statistics.mean(notas_conhecimento_pedagogico)\n",
        "print(\"Media do conhecimento especifico sem maior e menor valores: \", media_conhecimento_pedagogico)\n",
        "\n",
        "diferenca_de_pontos = media_conhecimento_pedagogico - media_conhecimento_pedagogico_sem_maior_e_menor\n",
        "print('A diferença de pontos é: ', diferenca_de_pontos)"
      ],
      "execution_count": 44,
      "outputs": [
        {
          "output_type": "stream",
          "text": [
            "Media do conhecimento especifico:  16.8\n",
            "Media do conhecimento especifico sem maior e menor valores:  17\n",
            "A diferença de pontos é:  -0.1999999999999993\n",
            "----------------------------------------------------------------------------------------------------\n",
            "Media do conhecimento pedagogico:  11.2\n",
            "Media do conhecimento especifico sem maior e menor valores:  11.2\n",
            "A diferença de pontos é:  -1.8000000000000007\n"
          ],
          "name": "stdout"
        }
      ]
    },
    {
      "cell_type": "markdown",
      "metadata": {
        "id": "RHmqYECZnY4I",
        "colab_type": "text"
      },
      "source": [
        "13) (Questao do ENEM 2012) Os dados da tabela abaixo indicam a evolucao da receita bruta dos 3 ultimos anos de 5 microempresas (ME) que\n",
        "estao a venda.\n",
        "\n",
        "<h4 align=\"center\">Tabela 06: Evolucao de receita bruta anual de 5 MEs</h4>\n",
        "\n",
        "| ME | 2009 | 2010 | 2011 |\n",
        "| :---: | :---: | :---: | :---: |\n",
        "| Alfinetes V | 200 | 220 | 240 |\n",
        "| Balas W | 200 | 230 | 200 |\n",
        "| Chocolates X | 250 | 210 | 215 |\n",
        "| Pizzaria Y | 230 | 230 | 230 |\n",
        "| Tecelagem Z | 160 | 210 | 245 |\n",
        "\n",
        "Um investidor deseja comprar as duas empresas com base na media da receita bruta anual dos ultimos 3 anos e escolhe as 2 empresas com maior media anual. Quais foram as 2 empresas escolhidas?"
      ]
    },
    {
      "cell_type": "code",
      "metadata": {
        "id": "JZwYYWhqnY4I",
        "colab_type": "code",
        "colab": {
          "base_uri": "https://localhost:8080/",
          "height": 68
        },
        "outputId": "9934231c-c455-4c3f-966a-efb533e1cd26"
      },
      "source": [
        "# Deixe sua resposta aqui\n",
        "alfinetes_v = [200 , 220 , 240]\n",
        "balas_w = [200 , 230 , 200]\n",
        "chocolates_x = [250 , 210 , 215]\n",
        "pizzaria_y = [230 , 230 , 230]\n",
        "tecelagem_z = [160 , 210 , 245]\n",
        "\n",
        "media_alfinetes_v = statistics.mean(alfinetes_v)\n",
        "media_balas_w = statistics.mean(balas_w)\n",
        "media_chocolates_x = statistics.mean(chocolates_x)\n",
        "media_pizzaria_y = statistics.mean(pizzaria_y)\n",
        "media_tecelagem_z = statistics.mean(tecelagem_z)\n",
        "\n",
        "todas_as_medias = [ media_alfinetes_v, media_balas_w, media_chocolates_x, media_pizzaria_y, media_tecelagem_z ]\n",
        "print(todas_as_medias)\n",
        "primeira_empresa_escolhida = max(todas_as_medias)\n",
        "todas_as_medias.remove(primeira_empresa_escolhida)\n",
        "segunda_empresa_escolhida = max(todas_as_medias)\n",
        "print(primeira_empresa_escolhida)\n",
        "print(segunda_empresa_escolhida)\n",
        "\n",
        "# Resposta: As empresas escolhidas foram: Pizzaria Y e Chocolates X"
      ],
      "execution_count": 50,
      "outputs": [
        {
          "output_type": "stream",
          "text": [
            "[220, 210, 225, 230, 205]\n",
            "230\n",
            "225\n"
          ],
          "name": "stdout"
        }
      ]
    }
  ]
}