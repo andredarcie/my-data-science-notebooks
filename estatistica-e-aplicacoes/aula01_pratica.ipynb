{
  "nbformat": 4,
  "nbformat_minor": 0,
  "metadata": {
    "kernelspec": {
      "display_name": "Python 3",
      "language": "python",
      "name": "python3"
    },
    "language_info": {
      "codemirror_mode": {
        "name": "ipython",
        "version": 3
      },
      "file_extension": ".py",
      "mimetype": "text/x-python",
      "name": "python",
      "nbconvert_exporter": "python",
      "pygments_lexer": "ipython3",
      "version": "3.7.6"
    },
    "colab": {
      "name": "aula01_pratica.ipynb",
      "provenance": []
    }
  },
  "cells": [
    {
      "cell_type": "markdown",
      "metadata": {
        "id": "R-5XluB2NBt8",
        "colab_type": "text"
      },
      "source": [
        "1) Em um concurso de arte com 15 participantes, as notas das avaliacoes dos quadros de cada um deles foram:\n",
        "\n",
        "10, 6, 9, 8, 9, 8, 7, 7, 5, 10, 9, 8, 5, 3, 6.\n",
        "\n",
        "No entanto, para a divulgacao dos resultados pelo marketing da galeria, sera necessario transformar esses valores nos conceitos A, B, C e D. O conceito D sera para notas abaixo de 5, conceito C para notas de 5 a 7, conceito B para notas de 7 a 9, e conceito A para notas acima de 9.\n",
        "\n",
        "Calcule e construa uma tabela de distribuicao de frequencias para melhor visualizacao do desempenho dos concorrentes. "
      ]
    },
    {
      "cell_type": "code",
      "metadata": {
        "id": "uWIo8bCMNBt8",
        "colab_type": "code",
        "colab": {
          "base_uri": "https://localhost:8080/",
          "height": 51
        },
        "outputId": "2f2eb1a1-aaaf-40ba-b60f-2c5c5eae2839"
      },
      "source": [
        "# Deixe seus calculos aqui:\n",
        "lista_de_notas = [10, 6, 9, 8, 9, 8, 7, 7, 5, 10, 9, 8, 5, 3, 6]\n",
        "minimo = min(lista_de_notas)\n",
        "maximo = max(lista_de_notas)\n",
        "\n",
        "print('Minimo: ', minimo)\n",
        "print('Maximo: ', maximo)"
      ],
      "execution_count": null,
      "outputs": [
        {
          "output_type": "stream",
          "text": [
            "Minimo:  3\n",
            "Maximo:  10\n"
          ],
          "name": "stdout"
        }
      ]
    },
    {
      "cell_type": "code",
      "metadata": {
        "id": "ses1MLOLQ1ZD",
        "colab_type": "code",
        "colab": {
          "base_uri": "https://localhost:8080/",
          "height": 34
        },
        "outputId": "dcc23d6b-e629-4814-8223-1c44b04fe275"
      },
      "source": [
        "# calcular a amplitude\n",
        "amplitude = int(maximo) - int(minimo)\n",
        "print('amplitude: ', str(amplitude))"
      ],
      "execution_count": null,
      "outputs": [
        {
          "output_type": "stream",
          "text": [
            "amplitude:  7\n"
          ],
          "name": "stdout"
        }
      ]
    },
    {
      "cell_type": "code",
      "metadata": {
        "id": "KL01dvctRMxu",
        "colab_type": "code",
        "colab": {
          "base_uri": "https://localhost:8080/",
          "height": 119
        },
        "outputId": "33ffb4b9-1628-4319-9606-623823c9f0c0"
      },
      "source": [
        "# achar os intervalos = dividir o valor da amplitude pelo numero de classes\n",
        "numero_de_classes = 4 # A B C D\n",
        "intervalo = amplitude / numero_de_classes\n",
        "print('Valor do intervalo: ', intervalo)\n",
        "\n",
        "intervalo = 2\n",
        "\n",
        "frequencia_d = sum(1 for item in lista_de_notas if item < 5)\n",
        "print(frequencia_d)\n",
        "frequencia_c = sum(1 for item in lista_de_notas if item >= 5 and item < 7)\n",
        "print(frequencia_c)\n",
        "frequencia_b = sum(1 for item in lista_de_notas if item >= 7 and item < 9)\n",
        "print(frequencia_b)\n",
        "frequencia_a = sum(1 for item in lista_de_notas if item >=9)\n",
        "print(frequencia_a)\n",
        "\n",
        "total = frequencia_d + frequencia_c + frequencia_b + frequencia_a\n",
        "print('Total: ', total)"
      ],
      "execution_count": null,
      "outputs": [
        {
          "output_type": "stream",
          "text": [
            "Valor do intervalo:  1.75\n",
            "1\n",
            "4\n",
            "5\n",
            "5\n",
            "Total:  15\n"
          ],
          "name": "stdout"
        }
      ]
    },
    {
      "cell_type": "code",
      "metadata": {
        "id": "Z-XocI2kSud2",
        "colab_type": "code",
        "colab": {
          "base_uri": "https://localhost:8080/",
          "height": 85
        },
        "outputId": "64b58d32-6361-4b1e-df18-1e7a1cce17d8"
      },
      "source": [
        "frequencia_relativa_d = frequencia_d / len(lista_de_notas)\n",
        "print(f'{(frequencia_relativa_d * 100):0.2f}')\n",
        "\n",
        "frequencia_relativa_c = frequencia_c / len(lista_de_notas)\n",
        "print(f'{(frequencia_relativa_c * 100):0.2f}')\n",
        "\n",
        "frequencia_relativa_b = frequencia_b / len(lista_de_notas)\n",
        "print(f'{(frequencia_relativa_c * 100):0.2f}')\n",
        "\n",
        "frequencia_relativa_a = frequencia_a / len(lista_de_notas)\n",
        "print(f'{(frequencia_relativa_a * 100):0.2f}')"
      ],
      "execution_count": null,
      "outputs": [
        {
          "output_type": "stream",
          "text": [
            "6.67\n",
            "26.67\n",
            "26.67\n",
            "33.33\n"
          ],
          "name": "stdout"
        }
      ]
    },
    {
      "cell_type": "markdown",
      "metadata": {
        "id": "My4KAlXDUWZg",
        "colab_type": "text"
      },
      "source": [
        "| Nota  | Frequencia | Frequencia relativa |\n",
        "| :---: | :----:     | :----: |\n",
        "| 0 a 5 | 1          |  6.67 % |\n",
        "| 5 a 7 | 4          |  26.67 % |\n",
        "| 7 a 9 | 5          |  26.67 % |\n",
        "| > 9   | 5          |  33.33 % |\n",
        "| Total | 15         | 100%     |"
      ]
    },
    {
      "cell_type": "markdown",
      "metadata": {
        "id": "mj_C7M7cNBt-",
        "colab_type": "text"
      },
      "source": [
        "2) Especifique os tipos das variaveis:\n",
        "\n",
        "    a) peso de um lutador de sumo;\n",
        "    b) marcas de motos;\n",
        "    c) resistencia de materiais;\n",
        "    d) quantidade de chuvas em Pocos de Caldas;\n",
        "    e) nacionalidade;\n",
        "    f) numero de versos em um poema;\n",
        "    g) numero de acoes da Petrobras vendidas no dia;\n",
        "    h) comprimento de terrenos;\n",
        "    i) numero de mortes por ataques de tubarao no ano;\n",
        "    j) resistencia a tracao de metais em kgf/mm^2;\n",
        "    k) temperatura de ponto de ebulicao da agua, em graus Celsius;\n",
        "    l) numero de itens nao conformes de uma linha de producao;\n",
        "    m) tensao em Newtons de um fio de algodao esticado;\n",
        "    n) numero de livros vendidos no mes."
      ]
    },
    {
      "cell_type": "code",
      "metadata": {
        "id": "k981XRrcNBt_",
        "colab_type": "code",
        "colab": {}
      },
      "source": [
        "# Deixe seus calculos aqui:\n",
        "# a) numerica continua;\n",
        "# b) categorizada nominal;\n",
        "# c) numerica continua;\n",
        "# d) numerica continua;\n",
        "# e) categorizada nominal;\n",
        "# f) numerica discreta;\n",
        "# g) numerica discreta;\n",
        "# h) numerica continua;\n",
        "# i) numerica discreta;\n",
        "# j) numerica continua;\n",
        "# k) numerica discreta;\n",
        "# l) numerica discreta;\n",
        "# m) numerica continua;\n",
        "# n) numerica discreta;"
      ],
      "execution_count": null,
      "outputs": []
    },
    {
      "cell_type": "markdown",
      "metadata": {
        "id": "MCySndvHNBuB",
        "colab_type": "text"
      },
      "source": [
        "3) Complete a tabela abaixo.\n",
        "\n",
        "<h4 align=\"center\"> Tabela 1: Tabela completa</h4>\n",
        "    \n",
        "| Nota | Frequencia  | Frequencia relativa | \n",
        "| :---: | :---: | :---: | \n",
        "| 9 a 10 | - | 0,08 | \n",
        "| 8 a 8,9 | 36 | - | \n",
        "| 6,5 a 7,9 | 90 | - | \n",
        "| 5 a 6,4 | 30 | - | \n",
        "| abaixo de 5 | 28 | - | \n",
        "| Total| 200 | 1,0 |"
      ]
    },
    {
      "cell_type": "code",
      "metadata": {
        "id": "wOKj6WheNBuB",
        "colab_type": "code",
        "colab": {
          "base_uri": "https://localhost:8080/",
          "height": 102
        },
        "outputId": "11d2567f-afc1-4f32-bd30-b4f84f1aa768"
      },
      "source": [
        "# Deixe seus calculos aqui:\n",
        "total = 200\n",
        "todas_frequencias = 36 + 90 + 30 + 28\n",
        "frequencia_nove_a_dez = todas_frequencias - total\n",
        "print(abs(frequencia_nove_a_dez))\n",
        "\n",
        "frequencia_relativa_linha_2 = 36 / total\n",
        "print(f'{(frequencia_relativa_linha_2 * 100):0.2f} %')\n",
        "\n",
        "frequencia_relativa_linha_2 = 90 / total\n",
        "print(f'{(frequencia_relativa_linha_2 * 100):0.2f} %')\n",
        "\n",
        "frequencia_relativa_linha_2 = 30 / total\n",
        "print(f'{(frequencia_relativa_linha_2 * 100):0.2f} %')\n",
        "\n",
        "frequencia_relativa_linha_2 = 28 / total\n",
        "print(f'{(frequencia_relativa_linha_2 * 100):0.2f} %')"
      ],
      "execution_count": null,
      "outputs": [
        {
          "output_type": "stream",
          "text": [
            "16\n",
            "18.00 %\n",
            "45.00 %\n",
            "15.00 %\n",
            "14.00 %\n"
          ],
          "name": "stdout"
        }
      ]
    },
    {
      "cell_type": "markdown",
      "metadata": {
        "id": "u5nI4G9PNBuD",
        "colab_type": "text"
      },
      "source": [
        "4) Em uma votacao com 3 candidatos, os votos foram:\n",
        "\n",
        "Bruschi, Allan, Allan, Conte, Allan, Bruschi, Bruschi, Bruschi, Allan, Allan, Conte, Allan, Bruschi, Bruschi, Allan, Conte, Bruschi, Bruschi, Bruschi, Allan\n",
        "\n",
        "a) Determine o numero de votos de cada pessoa;<br>\n",
        "b) Calcule as porcentagens;<br>\n",
        "c) Verifique se algum dos candidatos teve maioria absoluta (50% + 1)."
      ]
    },
    {
      "cell_type": "code",
      "metadata": {
        "id": "e_VvODcVNBuD",
        "colab_type": "code",
        "colab": {
          "base_uri": "https://localhost:8080/",
          "height": 170
        },
        "outputId": "a5e46fcb-3541-4f22-eeec-c443b84d6b3e"
      },
      "source": [
        "# Deixe seus calculos aqui:\n",
        "votos = ['Bruschi', 'Allan', 'Allan', 'Conte', 'Allan', 'Bruschi', 'Bruschi', 'Bruschi', 'Allan', \n",
        "         'Allan', 'Conte', 'Allan', 'Bruschi', 'Bruschi', 'Allan', 'Conte', 'Bruschi', 'Bruschi', \n",
        "         'Bruschi', 'Allan']\n",
        "\n",
        "quantidade_de_votos = len(votos)\n",
        "print('Quantidade de votos: ', quantidade_de_votos)\n",
        "\n",
        "# 3 Candidatos:\n",
        "votos_para_bruschi = votos.count('Bruschi')\n",
        "print('Votos para Bruschi: ', votos_para_bruschi)\n",
        "\n",
        "votos_para_allan = votos.count('Allan')\n",
        "print('Votos para Allan: ', votos_para_allan)\n",
        "\n",
        "votos_para_conte = votos.count('Conte')\n",
        "print('Votos para Conte: ', votos_para_conte)\n",
        "\n",
        "procentagem_para_bruschi = (votos_para_bruschi / quantidade_de_votos) * 100\n",
        "print('Porcentagem: ', procentagem_para_bruschi)\n",
        "porcentagem_para_allan = (votos_para_allan / quantidade_de_votos) * 100\n",
        "print('Porcentagem: ', porcentagem_para_allan)\n",
        "procentagem_para_conte = (votos_para_conte / quantidade_de_votos) * 100\n",
        "print('Porcentagem: ', procentagem_para_conte)\n",
        "\n",
        "votos_no_total = votos_para_bruschi + votos_para_allan + votos_para_conte\n",
        "print('Votos no total: ', votos_no_total)\n",
        "\n",
        "if procentagem_para_bruschi > (50 + 1):\n",
        "  print('Bruschi teve maioria absoluta!')\n",
        "elif porcentagem_para_allan > (50 + 1):\n",
        "  print('Allan teve maioria absoluta!')\n",
        "elif procentagem_para_conte > (50 + 1):\n",
        "  print('Conte teve maioria absoluta!')\n",
        "else:\n",
        "  print('Nenhum dos candidatos teve quantidade absoluta')"
      ],
      "execution_count": null,
      "outputs": [
        {
          "output_type": "stream",
          "text": [
            "Quantidade de votos:  20\n",
            "Votos para Bruschi:  9\n",
            "Votos para Allan:  8\n",
            "Votos para Conte:  3\n",
            "Porcentagem:  45.0\n",
            "Porcentagem:  40.0\n",
            "Porcentagem:  15.0\n",
            "Votos no total:  20\n",
            "Nenhum dos candidatos teve quantidade absoluta\n"
          ],
          "name": "stdout"
        }
      ]
    },
    {
      "cell_type": "markdown",
      "metadata": {
        "id": "8dBzmAQ0NBuF",
        "colab_type": "text"
      },
      "source": [
        "5) 40 doadores de sangue doaram para o hospital uma bolsa cada, conforme a tabela de tipos sanguineos:\n",
        "\n",
        "B, A, O, A, A, A, B, O, B, A, A, AB, O, O, A, O, O, A, A, A, B, A, A, A, O, O, O, A, O, A, O, O, A, O, AB, O, O, A, AB, B, B.\n",
        "\n",
        "Coloque os dados em uma tabela de distribuicao de frequencias."
      ]
    },
    {
      "cell_type": "code",
      "metadata": {
        "id": "6LrZwUbcNBuF",
        "colab_type": "code",
        "colab": {
          "base_uri": "https://localhost:8080/",
          "height": 105
        },
        "outputId": "f276d481-8bce-46db-f497-fe733142c204"
      },
      "source": [
        "# Deixe seus calculos aqui:\n",
        "tipos_sanguineos_dos_doadores = \"\"\"B, A, O, A, A, A, B, O, B, A, A, AB, O, O, A,\n",
        "O, O, A, A, A, B, A, A, A, O, O, O, A, O, A, O, O, A, O, AB, O, O, A, AB, B, B.\"\"\"\n",
        "\n",
        "tipos_sanguineos_dos_doadores = tipos_sanguineos_dos_doadores.replace('.', '').replace('\\n', '').replace(' ', '')\n",
        "tipos_sanguineos_dos_doadores = tipos_sanguineos_dos_doadores.split(',')\n",
        "print(tipos_sanguineos_dos_doadores)\n",
        "\n",
        "tipos_sanguineos = list(set(tipos_sanguineos_dos_doadores))\n",
        "print(tipos_sanguineos)\n",
        "\n",
        "frequencias = []\n",
        "\n",
        "for tipo_sanguineo in tipos_sanguineos:\n",
        "  frequencias.append(tipos_sanguineos_dos_doadores.count(tipo_sanguineo))\n",
        "\n",
        "frequencia_total = sum(frequencias)\n",
        "print('Frequencias :', frequencias)\n",
        "print('Frequencia total: ', frequencia_total)"
      ],
      "execution_count": null,
      "outputs": [
        {
          "output_type": "stream",
          "text": [
            "['B', 'A', 'O', 'A', 'A', 'A', 'B', 'O', 'B', 'A', 'A', 'AB', 'O', 'O', 'A', 'O', 'O', 'A', 'A', 'A', 'B', 'A', 'A', 'A', 'O', 'O', 'O', 'A', 'O', 'A', 'O', 'O', 'A', 'O', 'AB', 'O', 'O', 'A', 'AB', 'B', 'B']\n",
            "['O', 'AB', 'A', 'B']\n",
            "Frequencias : [15, 3, 17, 6]\n",
            "Frequencia total:  41\n"
          ],
          "name": "stdout"
        }
      ]
    },
    {
      "cell_type": "code",
      "metadata": {
        "id": "cijrCRwQo_Um",
        "colab_type": "code",
        "colab": {
          "base_uri": "https://localhost:8080/",
          "height": 34
        },
        "outputId": "40065002-4e9b-45ac-81c5-d07c1e6fbde0"
      },
      "source": [
        "frequencia_relativa = []\n",
        "for frequencia in frequencias:\n",
        "  frequencia_relativa.append(frequencia / frequencia_total)\n",
        "\n",
        "frequencia_relativa = list(map(lambda x: x * 100, frequencia_relativa))\n",
        "print(frequencia_relativa)"
      ],
      "execution_count": null,
      "outputs": [
        {
          "output_type": "stream",
          "text": [
            "[36.58536585365854, 7.317073170731707, 41.46341463414634, 14.634146341463413]\n"
          ],
          "name": "stdout"
        }
      ]
    },
    {
      "cell_type": "markdown",
      "metadata": {
        "id": "ctgZCs4RNBuH",
        "colab_type": "text"
      },
      "source": [
        "6) 80 alunos do curso de pos graducao tiveram o seguinte desempenho: 25% receberam nota A, 70% receberam nota B, e 5% tiveram nota C. Qual a frequencia dos alunos com nota A?"
      ]
    },
    {
      "cell_type": "code",
      "metadata": {
        "id": "7PNGs3AFNBuI",
        "colab_type": "code",
        "colab": {}
      },
      "source": [
        "# Deixe seus calculos aqui:\n",
        "num_alunos_a = (25*80) / 100\n",
        "num_alunos_a"
      ],
      "execution_count": null,
      "outputs": []
    },
    {
      "cell_type": "markdown",
      "metadata": {
        "id": "IY83Fwp3NBuK",
        "colab_type": "text"
      },
      "source": [
        "7) Para que um determinado trecho em uma rota aeronautica seja lucrativo, um certo numero de assentos ocupados \n",
        "seria necessario. As classes de estudo para assentos desocupados foram: <br>\n",
        "    0 a 4; 5 a 9; 10 a 14, 15 a 19, 20 ou mais.<br> \n",
        "    Com base nessas informacoes, seria possivel obter a quantidade de voos em que:\n",
        "<br>\n",
        "a) havia menos que 10 assentos desocupados?<br>\n",
        "b) mais de 14 acentos desocupados?<br>\n",
        "c) pelo menos 5 assentos desocupados?<br>\n",
        "d) exatamente 9 assentos desocupados?"
      ]
    },
    {
      "cell_type": "code",
      "metadata": {
        "id": "WVAC0kWJNBuK",
        "colab_type": "code",
        "colab": {}
      },
      "source": [
        "# Deixe suas respostas aqui:\n",
        "# a) sim, somar as requencias das 2 classes anteriores\n",
        "# b) sim, somar frequencias das 2 classes posteriores\n",
        "# c) sim, com excecao da primeira classe\n",
        "# d) nao, pois temos os valores em intervalos"
      ],
      "execution_count": null,
      "outputs": []
    },
    {
      "cell_type": "markdown",
      "metadata": {
        "id": "8BvwKnmiNBuM",
        "colab_type": "text"
      },
      "source": [
        "8) Em uma sala com fanaticos por motos, foram obtidos os seguintes dados para preferencias: 19 pessoas \n",
        "    gostariam de ter uma moto esportiva com carenagem, 13 desejam uma moto custom, \n",
        "    3 querem esportivas naked, 2 querem uma scooter, 2 preferem motos de trilhas, e 1 deseja um quadriciclo. \n",
        "    Monte uma tabela com distribuicao de frequencias."
      ]
    },
    {
      "cell_type": "code",
      "metadata": {
        "id": "_Nhx2DlBNBuM",
        "colab_type": "code",
        "colab": {
          "base_uri": "https://localhost:8080/",
          "height": 119
        },
        "outputId": "6ffb4223-f526-4067-8e4c-58bde67c5871"
      },
      "source": [
        "# Deixe seus calculos aqui:\n",
        "dados = [19, 13, 3, 2, 2, 1]\n",
        "total = sum(dados)\n",
        "\n",
        "freq_rel_esportiva = dados[0] / total\n",
        "print(freq_rel_esportiva)\n",
        "freq_rel_custom = dados[1] / total\n",
        "print(freq_rel_custom)\n",
        "freq_rel_naked = dados[2] / total\n",
        "print(freq_rel_naked)\n",
        "freq_rel_scooter = dados[3] / total\n",
        "print(freq_rel_scooter)\n",
        "freq_rel_trilha = dados[4] / total\n",
        "print(freq_rel_trilha)\n",
        "freq_rel_quadriciclo = dados[5] / total\n",
        "print(freq_rel_quadriciclo)"
      ],
      "execution_count": null,
      "outputs": [
        {
          "output_type": "stream",
          "text": [
            "0.475\n",
            "0.325\n",
            "0.075\n",
            "0.05\n",
            "0.05\n",
            "0.025\n"
          ],
          "name": "stdout"
        }
      ]
    },
    {
      "cell_type": "markdown",
      "metadata": {
        "id": "u49b_q17NBuO",
        "colab_type": "text"
      },
      "source": [
        "9) Uma competicao com 100 atletas, ha 7 com 1 medalha, 12 com 2 medalhas, 23 com 3 medalhas, 43 com 4 medalhas,\n",
        "8 com 5 medalhas, 6 com 6 medalhas e 3 com 7 medalhas. Apresente os dados em uma tabela."
      ]
    },
    {
      "cell_type": "code",
      "metadata": {
        "id": "TGZhGpsuNBuO",
        "colab_type": "code",
        "colab": {}
      },
      "source": [
        "# Deixe seus calculos aqui:\n"
      ],
      "execution_count": null,
      "outputs": []
    },
    {
      "cell_type": "markdown",
      "metadata": {
        "id": "z7es-jC2NBuQ",
        "colab_type": "text"
      },
      "source": [
        "10) O setor de qualidade de uma fabrica de chocolates quer verificar se o peso de 65 gramas de um produto esta\n",
        "de acordo com o informado na embalagem. Em uma busca aleatoria, obteve-se os seguintes dados:\n",
        "    \n",
        "<h4 align=\"center\"> Tabela 3: Peso dos produtos, em gramas</h4>\n",
        "  \n",
        "| | | | |    \n",
        "| :---: | :---: | :---: | :---: |\n",
        "| 63,6 | 64,0 | 64,8 | 65,2 | \n",
        "| 63,7 | 64,0 | 64,8 | 65,3 |\n",
        "| 63,7 | 64,2 | 64,9 | 65,3 | \n",
        "| 63,7 | 64,6 | 65,1 | 65,4 | \n",
        "| 63,7 | 64,7 | 65,2 | 65,4 | \n",
        "\n",
        "\n",
        "Construa uma tabela de distribuicao de frequencias.\n",
        "    "
      ]
    },
    {
      "cell_type": "code",
      "metadata": {
        "id": "fdbnZFzoNBuQ",
        "colab_type": "code",
        "colab": {
          "base_uri": "https://localhost:8080/",
          "height": 469
        },
        "outputId": "3b7a129a-4c3b-4e36-9c50-3018fadbf1b1"
      },
      "source": [
        "import pandas as pd\n",
        "\n",
        "# Deixe seus calculos aqui:\n",
        "# calcular o intervalo\n",
        "peso_dos_produtos_em_gramas = [63.6, 64.0, 64.8, 65.2, 63.7, 64.0,\n",
        "64.8, 65.3, 63.7, 64.2, 64.9, 65.3, 63.7, 64.6, 65.1, 65.4, 63.7, \n",
        "64.7, 65.2, 65.4 ]\n",
        "\n",
        "frequencias = []\n",
        "\n",
        "for peso in peso_dos_produtos_em_gramas:\n",
        "  frequencia_nao_encontrada = True\n",
        "\n",
        "  for index, frequencia in enumerate(frequencias):\n",
        "    if frequencia['Peso'] == peso:\n",
        "      frequencias[index]['Frequencia'] = frequencias[index]['Frequencia'] + 1\n",
        "      frequencia_nao_encontrada = False\n",
        "\n",
        "  if frequencia_nao_encontrada:\n",
        "    frequencias.append({'Peso': peso, 'Frequencia': 1})\n",
        "\n",
        "frequencia_total = sum(frequencia['Frequencia'] for frequencia in frequencias)\n",
        "\n",
        "for frequencia in frequencias:\n",
        "  frequencia['Frequencia relativa'] = frequencia['Frequencia'] / frequencia_total\n",
        "\n",
        "frequencias.append({'Peso': 'Total', \n",
        "                    'Frequencia': frequencia_total,\n",
        "                    'Frequencia relativa': sum(frequencia['Frequencia relativa'] for frequencia in frequencias)})\n",
        "\n",
        "# Exibir os dados em forma de tabela\n",
        "df = pd.DataFrame(frequencias)\n",
        "\n",
        "amplitude = int(max(peso_dos_produtos_em_gramas)) - int(min(peso_dos_produtos_em_gramas))\n",
        "intervalo = amplitude / len(frequencias)\n",
        "print('Valor do intervalo: ', intervalo)\n",
        "\n",
        "df"
      ],
      "execution_count": 95,
      "outputs": [
        {
          "output_type": "stream",
          "text": [
            "Valor do intervalo:  0.15384615384615385\n"
          ],
          "name": "stdout"
        },
        {
          "output_type": "execute_result",
          "data": {
            "text/html": [
              "<div>\n",
              "<style scoped>\n",
              "    .dataframe tbody tr th:only-of-type {\n",
              "        vertical-align: middle;\n",
              "    }\n",
              "\n",
              "    .dataframe tbody tr th {\n",
              "        vertical-align: top;\n",
              "    }\n",
              "\n",
              "    .dataframe thead th {\n",
              "        text-align: right;\n",
              "    }\n",
              "</style>\n",
              "<table border=\"1\" class=\"dataframe\">\n",
              "  <thead>\n",
              "    <tr style=\"text-align: right;\">\n",
              "      <th></th>\n",
              "      <th>Peso</th>\n",
              "      <th>Frequencia</th>\n",
              "      <th>Frequencia relativa</th>\n",
              "    </tr>\n",
              "  </thead>\n",
              "  <tbody>\n",
              "    <tr>\n",
              "      <th>0</th>\n",
              "      <td>63.6</td>\n",
              "      <td>1</td>\n",
              "      <td>0.05</td>\n",
              "    </tr>\n",
              "    <tr>\n",
              "      <th>1</th>\n",
              "      <td>64</td>\n",
              "      <td>2</td>\n",
              "      <td>0.10</td>\n",
              "    </tr>\n",
              "    <tr>\n",
              "      <th>2</th>\n",
              "      <td>64.8</td>\n",
              "      <td>2</td>\n",
              "      <td>0.10</td>\n",
              "    </tr>\n",
              "    <tr>\n",
              "      <th>3</th>\n",
              "      <td>65.2</td>\n",
              "      <td>2</td>\n",
              "      <td>0.10</td>\n",
              "    </tr>\n",
              "    <tr>\n",
              "      <th>4</th>\n",
              "      <td>63.7</td>\n",
              "      <td>4</td>\n",
              "      <td>0.20</td>\n",
              "    </tr>\n",
              "    <tr>\n",
              "      <th>5</th>\n",
              "      <td>65.3</td>\n",
              "      <td>2</td>\n",
              "      <td>0.10</td>\n",
              "    </tr>\n",
              "    <tr>\n",
              "      <th>6</th>\n",
              "      <td>64.2</td>\n",
              "      <td>1</td>\n",
              "      <td>0.05</td>\n",
              "    </tr>\n",
              "    <tr>\n",
              "      <th>7</th>\n",
              "      <td>64.9</td>\n",
              "      <td>1</td>\n",
              "      <td>0.05</td>\n",
              "    </tr>\n",
              "    <tr>\n",
              "      <th>8</th>\n",
              "      <td>64.6</td>\n",
              "      <td>1</td>\n",
              "      <td>0.05</td>\n",
              "    </tr>\n",
              "    <tr>\n",
              "      <th>9</th>\n",
              "      <td>65.1</td>\n",
              "      <td>1</td>\n",
              "      <td>0.05</td>\n",
              "    </tr>\n",
              "    <tr>\n",
              "      <th>10</th>\n",
              "      <td>65.4</td>\n",
              "      <td>2</td>\n",
              "      <td>0.10</td>\n",
              "    </tr>\n",
              "    <tr>\n",
              "      <th>11</th>\n",
              "      <td>64.7</td>\n",
              "      <td>1</td>\n",
              "      <td>0.05</td>\n",
              "    </tr>\n",
              "    <tr>\n",
              "      <th>12</th>\n",
              "      <td>Total</td>\n",
              "      <td>20</td>\n",
              "      <td>1.00</td>\n",
              "    </tr>\n",
              "  </tbody>\n",
              "</table>\n",
              "</div>"
            ],
            "text/plain": [
              "     Peso  Frequencia  Frequencia relativa\n",
              "0    63.6           1                 0.05\n",
              "1      64           2                 0.10\n",
              "2    64.8           2                 0.10\n",
              "3    65.2           2                 0.10\n",
              "4    63.7           4                 0.20\n",
              "5    65.3           2                 0.10\n",
              "6    64.2           1                 0.05\n",
              "7    64.9           1                 0.05\n",
              "8    64.6           1                 0.05\n",
              "9    65.1           1                 0.05\n",
              "10   65.4           2                 0.10\n",
              "11   64.7           1                 0.05\n",
              "12  Total          20                 1.00"
            ]
          },
          "metadata": {
            "tags": []
          },
          "execution_count": 95
        }
      ]
    },
    {
      "cell_type": "markdown",
      "metadata": {
        "id": "ch35XGC9NBuS",
        "colab_type": "text"
      },
      "source": [
        "11) Determine o tipo da variavel:\n",
        "\n",
        "\n",
        "a) dados de contagem (discretos ou continuos);<br>\n",
        "b) numero de vezes que um evento acontece (frequencia, frequencia relativa, total)<br>\n",
        "c) cores de cabelos (ordinais, nominais, continuos, discretos)."
      ]
    },
    {
      "cell_type": "code",
      "metadata": {
        "id": "ziXqoVvKNBuS",
        "colab_type": "code",
        "colab": {}
      },
      "source": [
        "# Deixe suas respostas aqui:\n",
        "# a) discreta\n",
        "# b) frequencia\n",
        "# c) nominais"
      ],
      "execution_count": null,
      "outputs": []
    },
    {
      "cell_type": "markdown",
      "metadata": {
        "id": "HfaO1iz0NBuU",
        "colab_type": "text"
      },
      "source": [
        "12) Verdadeiro ou falso?\n",
        "    \n",
        "    a) frequencia relativa e igual a frequencia dividida pelo total.\n",
        "    b) estatistica e a arte de apresentar graficos."
      ]
    },
    {
      "cell_type": "code",
      "metadata": {
        "id": "Hu_8fpzCNBuU",
        "colab_type": "code",
        "colab": {}
      },
      "source": [
        "# Deixe suas respostas aqui:\n",
        "# a) verdadeiro\n",
        "# b) falso. Estatística é a ciência que se utiliza das teorias probabilísticas para explicar a frequência da ocorrência de eventos"
      ],
      "execution_count": null,
      "outputs": []
    },
    {
      "cell_type": "markdown",
      "metadata": {
        "id": "i6pfufF2NBuW",
        "colab_type": "text"
      },
      "source": [
        "13) Para divulgacao de aprovados ou reprovados em uma disciplina, organize na forma de tabela de frequencias\n",
        "as notas dos 15 alunos do curso da seguinte maneira: D para notas de 0 a 5 (reprovado); C para notas de 5 a 7;\n",
        "B para notas de 7 a 9; e A para notas acima de 9.\n",
        "\n",
        "dados: 7, 8, 6, 5, 6, 4, 7, 10, 7, 8, 8, 3, 8, 9, 10"
      ]
    },
    {
      "cell_type": "code",
      "metadata": {
        "id": "lK-Z1W2mNBuW",
        "colab_type": "code",
        "colab": {
          "base_uri": "https://localhost:8080/",
          "height": 204
        },
        "outputId": "412da66d-2456-470d-9dc5-d9c48213d486"
      },
      "source": [
        "# Deixe seus calculos aqui:\n",
        "notas = [7, 8, 6, 5, 6, 4, 7, 10, 7, 8, 8, 3, 8, 9, 10]\n",
        "\n",
        "frequencia_d, frequencia_c, frequencia_b, frequencia_a = 0, 0, 0, 0\n",
        "\n",
        "for nota in notas:\n",
        "  if nota > 0 and nota < 5:\n",
        "    frequencia_d += 1\n",
        "  elif nota >= 5 and nota < 7:\n",
        "    frequencia_c += 1\n",
        "  elif nota >= 7 and nota < 9:\n",
        "    frequencia_b += 1\n",
        "  else:\n",
        "    frequencia_a += 1\n",
        "\n",
        "total_frequencias = frequencia_d + frequencia_c + frequencia_b + frequencia_a\n",
        "\n",
        "tabela_de_frequencias = [\n",
        "  {'Intervalo': 'D para notas de 0 a 5 (reprovado)', 'Frequencia': frequencia_d},\n",
        "  {'Intervalo': 'C para notas de 5 a 7', 'Frequencia': frequencia_c},\n",
        "  {'Intervalo': 'B para notas de 7 a 9', 'Frequencia': frequencia_b},\n",
        "  {'Intervalo': 'A para notas acima de 9', 'Frequencia': frequencia_a},\n",
        "  {'Intervalo': 'Total', 'Frequencia': total_frequencias}\n",
        "]\n",
        "\n",
        "for linha in tabela_de_frequencias:\n",
        "  linha['Frequencia Relativa'] = linha['Frequencia'] / total_frequencias\n",
        "\n",
        "# Exibir os dados em forma de tabela\n",
        "df = pd.DataFrame(tabela_de_frequencias)\n",
        "df"
      ],
      "execution_count": 94,
      "outputs": [
        {
          "output_type": "execute_result",
          "data": {
            "text/html": [
              "<div>\n",
              "<style scoped>\n",
              "    .dataframe tbody tr th:only-of-type {\n",
              "        vertical-align: middle;\n",
              "    }\n",
              "\n",
              "    .dataframe tbody tr th {\n",
              "        vertical-align: top;\n",
              "    }\n",
              "\n",
              "    .dataframe thead th {\n",
              "        text-align: right;\n",
              "    }\n",
              "</style>\n",
              "<table border=\"1\" class=\"dataframe\">\n",
              "  <thead>\n",
              "    <tr style=\"text-align: right;\">\n",
              "      <th></th>\n",
              "      <th>Intervalo</th>\n",
              "      <th>Frequencia</th>\n",
              "      <th>Frequencia Relativa</th>\n",
              "    </tr>\n",
              "  </thead>\n",
              "  <tbody>\n",
              "    <tr>\n",
              "      <th>0</th>\n",
              "      <td>D para notas de 0 a 5 (reprovado)</td>\n",
              "      <td>2</td>\n",
              "      <td>0.133333</td>\n",
              "    </tr>\n",
              "    <tr>\n",
              "      <th>1</th>\n",
              "      <td>C para notas de 5 a 7</td>\n",
              "      <td>3</td>\n",
              "      <td>0.200000</td>\n",
              "    </tr>\n",
              "    <tr>\n",
              "      <th>2</th>\n",
              "      <td>B para notas de 7 a 9</td>\n",
              "      <td>7</td>\n",
              "      <td>0.466667</td>\n",
              "    </tr>\n",
              "    <tr>\n",
              "      <th>3</th>\n",
              "      <td>A para notas acima de 9</td>\n",
              "      <td>3</td>\n",
              "      <td>0.200000</td>\n",
              "    </tr>\n",
              "    <tr>\n",
              "      <th>4</th>\n",
              "      <td>Total</td>\n",
              "      <td>15</td>\n",
              "      <td>1.000000</td>\n",
              "    </tr>\n",
              "  </tbody>\n",
              "</table>\n",
              "</div>"
            ],
            "text/plain": [
              "                           Intervalo  Frequencia  Frequencia Relativa\n",
              "0  D para notas de 0 a 5 (reprovado)           2             0.133333\n",
              "1              C para notas de 5 a 7           3             0.200000\n",
              "2              B para notas de 7 a 9           7             0.466667\n",
              "3            A para notas acima de 9           3             0.200000\n",
              "4                              Total          15             1.000000"
            ]
          },
          "metadata": {
            "tags": []
          },
          "execution_count": 94
        }
      ]
    },
    {
      "cell_type": "markdown",
      "metadata": {
        "id": "6btLFiAcNBuX",
        "colab_type": "text"
      },
      "source": [
        "14) O setor de qualidade de uma fabrica obteve a seguinte tabela com dados de embalagens com defeitos.\n",
        "\n",
        "<h4 align=\"center\"> Tabela 4: Estado de embalagens</h4>\n",
        "  \n",
        "| | | | | | \n",
        "| :---: | :---: | :---: | :---: | :---: |\n",
        "| amassada | sem defeito  | sem defeito | amassada | sem defeito  |\n",
        "| sem defeito  | cortada | amassada | sem defeito | sem defeito  |\n",
        "| nao fechada | sem defeito  | sem defeito  | sem defeito  | sem defeito  |\n",
        "| sem defeito | sem defeito | sem defeito | sem defeito  | sem defeito | \n",
        "| sem defeito  | sem defeito | sem defeito  | amassada | sem defeito | \n",
        "\n",
        "a) Construa uma tabela de distribuicao de frequencias;<br>\n",
        "b) Explique se ha necessidade de melhorias no processo de embalagem.\n"
      ]
    },
    {
      "cell_type": "code",
      "metadata": {
        "id": "tJWUNL8INBuY",
        "colab_type": "code",
        "colab": {
          "base_uri": "https://localhost:8080/",
          "height": 221
        },
        "outputId": "a514b5f5-9d86-42a5-eb55-3b95ed58f94e"
      },
      "source": [
        "# Deixe seus calculos aqui:\n",
        "estado_das_embalagens = [ 'amassada','sem defeito','sem defeito','amassada','sem defeito'\n",
        ",'sem defeito','cortada','amassada','sem defeito','sem defeito'\n",
        ",'nao fechada','sem defeito','sem defeito','sem defeito','sem defeito'\n",
        ",'sem defeito','sem defeito','sem defeito','sem defeito','sem defeito'\n",
        ",'sem defeito','sem defeito','sem defeito','amassada','sem defeito' ]\n",
        "\n",
        "frequencias = []\n",
        "\n",
        "for peso in estado_das_embalagens:\n",
        "  frequencia_nao_encontrada = True\n",
        "\n",
        "  for index, frequencia in enumerate(frequencias):\n",
        "    if frequencia['Peso'] == peso:\n",
        "      frequencias[index]['Frequencia'] = frequencias[index]['Frequencia'] + 1\n",
        "      frequencia_nao_encontrada = False\n",
        "\n",
        "  if frequencia_nao_encontrada:\n",
        "    frequencias.append({'Peso': peso, 'Frequencia': 1})\n",
        "\n",
        "frequencia_total = sum(frequencia['Frequencia'] for frequencia in frequencias)\n",
        "\n",
        "for frequencia in frequencias:\n",
        "  frequencia['Frequencia relativa'] = frequencia['Frequencia'] / frequencia_total\n",
        "\n",
        "frequencias.append({'Peso': 'Total', \n",
        "                    'Frequencia': frequencia_total,\n",
        "                    'Frequencia relativa': sum(frequencia['Frequencia relativa'] for frequencia in frequencias)})\n",
        "\n",
        "# Exibir os dados em forma de tabela\n",
        "df = pd.DataFrame(frequencias)\n",
        "\n",
        "amplitude = int(max(peso_dos_produtos_em_gramas)) - int(min(peso_dos_produtos_em_gramas))\n",
        "intervalo = amplitude / len(frequencias)\n",
        "print('Valor do intervalo: ', intervalo)\n",
        "\n",
        "df"
      ],
      "execution_count": 93,
      "outputs": [
        {
          "output_type": "stream",
          "text": [
            "Valor do intervalo:  0.4\n"
          ],
          "name": "stdout"
        },
        {
          "output_type": "execute_result",
          "data": {
            "text/html": [
              "<div>\n",
              "<style scoped>\n",
              "    .dataframe tbody tr th:only-of-type {\n",
              "        vertical-align: middle;\n",
              "    }\n",
              "\n",
              "    .dataframe tbody tr th {\n",
              "        vertical-align: top;\n",
              "    }\n",
              "\n",
              "    .dataframe thead th {\n",
              "        text-align: right;\n",
              "    }\n",
              "</style>\n",
              "<table border=\"1\" class=\"dataframe\">\n",
              "  <thead>\n",
              "    <tr style=\"text-align: right;\">\n",
              "      <th></th>\n",
              "      <th>Peso</th>\n",
              "      <th>Frequencia</th>\n",
              "      <th>Frequencia relativa</th>\n",
              "    </tr>\n",
              "  </thead>\n",
              "  <tbody>\n",
              "    <tr>\n",
              "      <th>0</th>\n",
              "      <td>amassada</td>\n",
              "      <td>4</td>\n",
              "      <td>0.16</td>\n",
              "    </tr>\n",
              "    <tr>\n",
              "      <th>1</th>\n",
              "      <td>sem defeito</td>\n",
              "      <td>19</td>\n",
              "      <td>0.76</td>\n",
              "    </tr>\n",
              "    <tr>\n",
              "      <th>2</th>\n",
              "      <td>cortada</td>\n",
              "      <td>1</td>\n",
              "      <td>0.04</td>\n",
              "    </tr>\n",
              "    <tr>\n",
              "      <th>3</th>\n",
              "      <td>nao fechada</td>\n",
              "      <td>1</td>\n",
              "      <td>0.04</td>\n",
              "    </tr>\n",
              "    <tr>\n",
              "      <th>4</th>\n",
              "      <td>Total</td>\n",
              "      <td>25</td>\n",
              "      <td>1.00</td>\n",
              "    </tr>\n",
              "  </tbody>\n",
              "</table>\n",
              "</div>"
            ],
            "text/plain": [
              "          Peso  Frequencia  Frequencia relativa\n",
              "0     amassada           4                 0.16\n",
              "1  sem defeito          19                 0.76\n",
              "2      cortada           1                 0.04\n",
              "3  nao fechada           1                 0.04\n",
              "4        Total          25                 1.00"
            ]
          },
          "metadata": {
            "tags": []
          },
          "execution_count": 93
        }
      ]
    },
    {
      "cell_type": "markdown",
      "metadata": {
        "id": "CR0dvFhNal59",
        "colab_type": "text"
      },
      "source": [
        "b) A maioria dos defeitos é embalagem amassada, poderia ver nesse processo um melhoramento"
      ]
    },
    {
      "cell_type": "markdown",
      "metadata": {
        "id": "yrU_zIc5NBuZ",
        "colab_type": "text"
      },
      "source": [
        "15) O setor de qualidade da fabrica anterior resolveu verificar a eficiencia de duas turmas de trabalho.\n",
        "A turma A teve uma producao de 563 itens conformes, e 151 itens nao conformes. A turma B produziu 307 itens conformes e 85 nao conformes. Organize os dados em uma tabela, mostrando a porcentagem de conformes e nao conformes."
      ]
    },
    {
      "cell_type": "code",
      "metadata": {
        "id": "rD7QlRw-NBua",
        "colab_type": "code",
        "colab": {
          "base_uri": "https://localhost:8080/",
          "height": 111
        },
        "outputId": "2fbc03d3-c1b2-4d44-9383-6e19d4894e6e"
      },
      "source": [
        "# Deixe seus calculos aqui:\n",
        "total_turma_a = 563 + 151\n",
        "total_turma_b = 307 + 85\n",
        "tabela = [\n",
        "  {'Turma': 'A', 'Conformes': f'{((563 / total_turma_a) * 100):.2f} %', 'Nao conformes': f'{((151 / total_turma_a) * 100):.2f} %'},\n",
        "  {'Turma': 'B', 'Conformes': f'{((307 / total_turma_b) * 100):.2f} %', 'Nao conformes': f'{((85 / total_turma_b) * 100):.2f} %' },\n",
        "]\n",
        "\n",
        "# Exibir os dados em forma de tabela\n",
        "df = pd.DataFrame(tabela)\n",
        "df"
      ],
      "execution_count": 103,
      "outputs": [
        {
          "output_type": "execute_result",
          "data": {
            "text/html": [
              "<div>\n",
              "<style scoped>\n",
              "    .dataframe tbody tr th:only-of-type {\n",
              "        vertical-align: middle;\n",
              "    }\n",
              "\n",
              "    .dataframe tbody tr th {\n",
              "        vertical-align: top;\n",
              "    }\n",
              "\n",
              "    .dataframe thead th {\n",
              "        text-align: right;\n",
              "    }\n",
              "</style>\n",
              "<table border=\"1\" class=\"dataframe\">\n",
              "  <thead>\n",
              "    <tr style=\"text-align: right;\">\n",
              "      <th></th>\n",
              "      <th>Turma</th>\n",
              "      <th>Conformes</th>\n",
              "      <th>Nao conformes</th>\n",
              "    </tr>\n",
              "  </thead>\n",
              "  <tbody>\n",
              "    <tr>\n",
              "      <th>0</th>\n",
              "      <td>A</td>\n",
              "      <td>78.85 %</td>\n",
              "      <td>21.15 %</td>\n",
              "    </tr>\n",
              "    <tr>\n",
              "      <th>1</th>\n",
              "      <td>B</td>\n",
              "      <td>78.32 %</td>\n",
              "      <td>21.68 %</td>\n",
              "    </tr>\n",
              "  </tbody>\n",
              "</table>\n",
              "</div>"
            ],
            "text/plain": [
              "  Turma Conformes Nao conformes\n",
              "0     A   78.85 %       21.15 %\n",
              "1     B   78.32 %       21.68 %"
            ]
          },
          "metadata": {
            "tags": []
          },
          "execution_count": 103
        }
      ]
    },
    {
      "cell_type": "markdown",
      "metadata": {
        "id": "MyJGqJrANBuc",
        "colab_type": "text"
      },
      "source": [
        "16) Analisando os dados de acidentes de trabalho no periodo de 3 anos da fabrica citada anteriormente, \n",
        "obteve-se a seguinte tabela:\n",
        "\n",
        "<h4 align=\"center\"> Tabela 5: Acidentes por departamento e dias da semana</h4>\n",
        "  \n",
        "| DEPARTAMENTO | segunda-feira | terca-feira | quarta-feira | quinta-feira | sexta-feira | \n",
        "| :---: | :---: | :---: | :---: | :---: | :---: |\n",
        "| A | 12 | 21 | 23 | 29  | 35 |\n",
        "| B  | 14 | 10 | 11 | 10 | 15 |\n",
        "| C | 12  | 12  | 13 | 11 | 11 |\n",
        "| D | 24 | 22 | 23 | 21 | 22 |\n",
        "\n",
        "a) Em que dia da semana ocorreu mais acidentes?<br>\n",
        "b) Em que departamento?"
      ]
    },
    {
      "cell_type": "code",
      "metadata": {
        "id": "DffKUFdWNBuc",
        "colab_type": "code",
        "colab": {
          "base_uri": "https://localhost:8080/",
          "height": 34
        },
        "outputId": "ffccf041-63a6-4459-b068-54d75a9dc756"
      },
      "source": [
        "# Deixe seus calculos aqui:\n",
        "dias_da_semana = [\n",
        "  {'Dia': 'segunda-feira', 'Acidentes': 12 + 14 + 12 + 24 },\n",
        "  {'Dia': 'terca-feira', 'Acidentes': 21 + 10 + 12 + 22 },\n",
        "  {'Dia': 'quarta-feira', 'Acidentes': 23 + 11 + 13 + 23 },\n",
        "  {'Dia': 'quinta-feira', 'Acidentes': 29 + 10 + 11 + 21 },\n",
        "  {'Dia': 'sexta-feira', 'Acidentes': 35 + 15 + 11 + 22 }\n",
        "]\n",
        "\n",
        "maximo = dias_da_semana[0]['Acidentes']\n",
        "dia_com_maior_numero_de_acidentes = dias_da_semana[0]['Dia']\n",
        "\n",
        "for dia in dias_da_semana:\n",
        "  if dia['Acidentes'] > maximo:\n",
        "    maximo = dia['Acidentes']\n",
        "    dia_com_maior_numero_de_acidentes = dia['Dia']\n",
        "\n",
        "print('Dia da semana que ocorreu mais acidentes: ', dia_com_maior_numero_de_acidentes)"
      ],
      "execution_count": 85,
      "outputs": [
        {
          "output_type": "stream",
          "text": [
            "Dia da semana que ocorreu mais acidentes:  sexta-feira\n"
          ],
          "name": "stdout"
        }
      ]
    },
    {
      "cell_type": "code",
      "metadata": {
        "id": "AuFVSNY-fLo3",
        "colab_type": "code",
        "colab": {
          "base_uri": "https://localhost:8080/",
          "height": 34
        },
        "outputId": "4e2243df-bdb4-4f95-850e-55c46f9682ae"
      },
      "source": [
        "departamentos = [\n",
        "  {'Departamento': 'A', 'Acidentes': 12 + 21 + 23 + 29  + 35 },\n",
        "  {'Departamento': 'B', 'Acidentes': 14 + 10 + 11 + 10 + 15 },\n",
        "  {'Departamento': 'C', 'Acidentes': 12  + 12  + 13 + 11 + 11 },\n",
        "  {'Departamento': 'D', 'Acidentes': 24 + 22 + 23 + 21 + 22 },\n",
        "]\n",
        "\n",
        "maximo = departamentos[0]['Acidentes']\n",
        "departamento_com_maior_numero_de_acidentes = departamentos[0]['Departamento']\n",
        "\n",
        "for dia in departamentos:\n",
        "  if dia['Acidentes'] > maximo:\n",
        "    maximo = dia['Acidentes']\n",
        "    dia_com_maior_numero_de_acidentes = dia['Dia']\n",
        "\n",
        "print('Departamento que ocorreu mais acidentes: ', departamento_com_maior_numero_de_acidentes)"
      ],
      "execution_count": 87,
      "outputs": [
        {
          "output_type": "stream",
          "text": [
            "Departamento que ocorreu mais acidentes:  A\n"
          ],
          "name": "stdout"
        }
      ]
    },
    {
      "cell_type": "markdown",
      "metadata": {
        "id": "wssCXBNzNBud",
        "colab_type": "text"
      },
      "source": [
        "17) A distribuicao dos salarios de 200 funcionarios, em multiplos de RS 1000,00, segue conforme a tabela abaixo:\n",
        "\n",
        "<h4 align=\"center\"> Tabela 6: Distribuicao de salarios de 200 funcionarios</h4>\n",
        "  \n",
        "| Classe | Porcentagem | \n",
        "| :---: | :---: | \n",
        "| 2 a 4 | 20 | \n",
        "| 4 a 5 | 25 | \n",
        "| 5 a 8 | 45  | \n",
        "| 9 a 10 | 10 | \n",
        "| Total | 100 | \n",
        "\n",
        "O numero de funcionarios que possuem salarios maiores ou iguais a RS 4000,00 e inferiores a RS 8000,00 e:\n",
        "\n",
        "a) 60<br>\n",
        "b) 80<br>\n",
        "c) 90<br>\n",
        "d) 140<br>\n",
        "e) 160"
      ]
    },
    {
      "cell_type": "code",
      "metadata": {
        "id": "i7_vTB1TNBue",
        "colab_type": "code",
        "colab": {
          "base_uri": "https://localhost:8080/",
          "height": 51
        },
        "outputId": "374641fc-a311-408f-88f6-fffb0c738ea0"
      },
      "source": [
        "# Deixe seus calculos aqui:\n",
        "porcentagem_no_intervalo = (25 + 45) / 100\n",
        "total_de_funcionarios = 200\n",
        "numero_de_funcionarios =  total_de_funcionarios * porcentagem_no_intervalo\n",
        "print('O numero de funcionarios que possuem salarios maiores ou iguais a RS 4000,00 e inferiores a RS 8000,00:')\n",
        "print(numero_de_funcionarios)"
      ],
      "execution_count": 92,
      "outputs": [
        {
          "output_type": "stream",
          "text": [
            "O numero de funcionarios que possuem salarios maiores ou iguais a RS 4000,00 e inferiores a RS 8000,00:\n",
            "140.0\n"
          ],
          "name": "stdout"
        }
      ]
    },
    {
      "cell_type": "markdown",
      "metadata": {
        "id": "WC3SCwFrNBuf",
        "colab_type": "text"
      },
      "source": [
        "18) Uma cidade de 10 mil habitantes gera aproximadamente 0,76 kg de lixo por pessoa em um dia, mas somente 82% e atendido\n",
        "pelo aterro sanitario da cidade. A quantidade de lixo que realmente acaba indo para o aterro, em kg/dia, e: <br>\n",
        "\n",
        "a) 1368; <br> \n",
        "b) 1558; <br>\n",
        "c) 6232; <br>\n",
        "d) 7600; <br>\n",
        "e) 24928."
      ]
    },
    {
      "cell_type": "code",
      "metadata": {
        "id": "WI8XgtS9NBuf",
        "colab_type": "code",
        "colab": {
          "base_uri": "https://localhost:8080/",
          "height": 34
        },
        "outputId": "5cb7c9b9-8820-43eb-da14-c1fbb9783589"
      },
      "source": [
        "# Deixe seus calculos aqui:\n",
        "numero_de_habitantes = 10_000\n",
        "kilo_de_lixo_por_pessoa = 0.76\n",
        "porcentagem_atendido_pelo_aterro = 0.82\n",
        "\n",
        "total_kilos_de_lixo_por_dia = numero_de_habitantes * kilo_de_lixo_por_pessoa\n",
        "quantidade_de_lixo_aterro = total_kilos_de_lixo_por_dia * porcentagem_atendido_pelo_aterro\n",
        "print('A quantidade de lixo que realmente acaba indo para o aterro, em kg/dia, e:', quantidade_de_lixo_aterro)"
      ],
      "execution_count": 109,
      "outputs": [
        {
          "output_type": "stream",
          "text": [
            "A quantidade de lixo que realmente acaba indo para o aterro, em kg/dia, e: 6232.0\n"
          ],
          "name": "stdout"
        }
      ]
    },
    {
      "cell_type": "markdown",
      "metadata": {
        "id": "9sqvYO33ltKl",
        "colab_type": "text"
      },
      "source": [
        "Resultado: c) 6232;"
      ]
    }
  ]
}