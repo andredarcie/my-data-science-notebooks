{
 "cells": [
  {
   "cell_type": "markdown",
   "metadata": {},
   "source": [
    "1) Uma amostra de 61 elementos apresentou os seguintes dados: media = 23.5 e desvio padrao = 3. Ache o intervalo de 99% de confianca para a media (t=2.6)   "
   ]
  },
  {
   "cell_type": "code",
   "execution_count": 1,
   "metadata": {},
   "outputs": [],
   "source": [
    "# Deixe sua resposta aqui:\n",
    "import numpy as np\n",
    "\n"
   ]
  },
  {
   "cell_type": "code",
   "execution_count": null,
   "metadata": {},
   "outputs": [],
   "source": []
  },
  {
   "cell_type": "markdown",
   "metadata": {},
   "source": [
    "2) O limite inferior de um intervalo de confianca para a media pode ser negativo? E pode ser 0?"
   ]
  },
  {
   "cell_type": "code",
   "execution_count": 2,
   "metadata": {},
   "outputs": [],
   "source": [
    "# Deixe sua resposta aqui:\n"
   ]
  },
  {
   "cell_type": "markdown",
   "metadata": {},
   "source": [
    "3) A pressao sistolica medida em uma amostra de 100 pessoas apresenotu media = 125 mm Hg e desvio padrao de 9 mm Hg. Calcule o erro padrao da media e ache o intervalo de 95% de confianca. Considere t = 2."
   ]
  },
  {
   "cell_type": "code",
   "execution_count": 3,
   "metadata": {},
   "outputs": [],
   "source": [
    "# Deixe sua resposta aqui:\n",
    "\n"
   ]
  },
  {
   "cell_type": "code",
   "execution_count": null,
   "metadata": {},
   "outputs": [],
   "source": []
  },
  {
   "cell_type": "markdown",
   "metadata": {},
   "source": [
    "4) A pressao sistolica medida em uma amostra de 9 pessoas apresenotu media = 125 mm Hg e desvio padrao de 9 mm Hg. Calcule o erro padrao da media e ache o intervalo de 95% de confianca. Ache o valor de t na tabela de t de Student, e considere grau de liberdade n-1."
   ]
  },
  {
   "cell_type": "code",
   "execution_count": 4,
   "metadata": {},
   "outputs": [],
   "source": [
    "# Deixe sua resposta aqui:\n"
   ]
  },
  {
   "cell_type": "code",
   "execution_count": null,
   "metadata": {},
   "outputs": [],
   "source": [
    "\n"
   ]
  },
  {
   "cell_type": "markdown",
   "metadata": {},
   "source": [
    "5) Compare os intervalos de confianca dos exercicios 3 e 4 e comente."
   ]
  },
  {
   "cell_type": "code",
   "execution_count": 5,
   "metadata": {},
   "outputs": [],
   "source": [
    "# Deixe sua resposta aqui:\n"
   ]
  },
  {
   "cell_type": "markdown",
   "metadata": {},
   "source": [
    "6) Assinale V ou F:\n",
    "\n",
    "a) Se forem tomadas repetidamente muitas amostras e calculados seus intervalos de confianca, 95% deles devem conter a media;<br>\n",
    "b) 95% da populacao estao dentro do intervalo de 95% de confianca;<br>\n",
    "c) Intervalos de conficanca so podem ser calculados para a media."
   ]
  },
  {
   "cell_type": "code",
   "execution_count": 6,
   "metadata": {},
   "outputs": [],
   "source": [
    "# Deixe sua resposta aqui:\n"
   ]
  },
  {
   "cell_type": "markdown",
   "metadata": {},
   "source": [
    "7) A pressao sistolica medida em uma amostra de 100 pessoas apresenotu media = 123 mm Hg e desvio padrao de 8 mm Hg. Calcule o erro padrao da media e ache o intervalo de 90% de confianca. Considere t = 1.66."
   ]
  },
  {
   "cell_type": "code",
   "execution_count": 7,
   "metadata": {},
   "outputs": [],
   "source": [
    "# Deixe sua resposta aqui:\n"
   ]
  },
  {
   "cell_type": "code",
   "execution_count": null,
   "metadata": {},
   "outputs": [],
   "source": []
  },
  {
   "cell_type": "markdown",
   "metadata": {},
   "source": [
    "8) Uma amostra de 16 elementos apresentou os seguintes dados: media = 50 cm e desvio padrao = 2.4 cm. Ache o intervalo de 90% de confianca para a media (t = 1.753) "
   ]
  },
  {
   "cell_type": "code",
   "execution_count": 8,
   "metadata": {},
   "outputs": [],
   "source": [
    "# Deixe sua resposta aqui:\n",
    "\n"
   ]
  },
  {
   "cell_type": "code",
   "execution_count": null,
   "metadata": {},
   "outputs": [],
   "source": []
  },
  {
   "cell_type": "markdown",
   "metadata": {},
   "source": [
    "9) Uma amostra de 400 elementos apresentou os seguintes dados: media = 905 e desvio padrao = 100. O intervalo de 86% de confianca foi de:\n",
    "\n",
    "a) [897.60; 912.40] <br>;\n",
    "b) [899.08; 910.92] <br>;\n",
    "c) [901.30; 908.70] <br>;\n",
    "d) [903.15; 906.85] <br>;\n",
    "e) [903.30; 906.70] ."
   ]
  },
  {
   "cell_type": "code",
   "execution_count": 9,
   "metadata": {},
   "outputs": [],
   "source": [
    "# Deixe sua resposta aqui:\n",
    "\n"
   ]
  },
  {
   "cell_type": "code",
   "execution_count": null,
   "metadata": {},
   "outputs": [],
   "source": []
  },
  {
   "cell_type": "code",
   "execution_count": null,
   "metadata": {},
   "outputs": [],
   "source": []
  }
 ],
 "metadata": {
  "kernelspec": {
   "display_name": "Python 3",
   "language": "python",
   "name": "python3"
  },
  "language_info": {
   "codemirror_mode": {
    "name": "ipython",
    "version": 3
   },
   "file_extension": ".py",
   "mimetype": "text/x-python",
   "name": "python",
   "nbconvert_exporter": "python",
   "pygments_lexer": "ipython3",
   "version": "3.7.6"
  }
 },
 "nbformat": 4,
 "nbformat_minor": 4
}
