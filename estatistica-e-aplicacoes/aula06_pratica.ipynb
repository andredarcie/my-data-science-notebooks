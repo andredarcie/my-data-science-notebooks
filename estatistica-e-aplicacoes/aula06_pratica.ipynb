{
 "cells": [
  {
   "cell_type": "markdown",
   "metadata": {},
   "source": [
    "1) Planeje um experimento em que voce queira testar 3 tipos de produtos para controle de fungos em um experimento agricola, indicando o que sera sua unidade, quantas repeticoes usaria, etc. Use a criatividade para criar seus dados e como eles se comportariam. Monte uma tabela e graficos para simular seus resultados e comente os 'resultados' obtidos na forma de um relatorio detalhado ou de um paper cientifico simplificado (resumo, metodologia, resultados)."
   ]
  },
  {
   "cell_type": "code",
   "execution_count": null,
   "metadata": {},
   "outputs": [],
   "source": [
    "# Deixe sua resposta aqui."
   ]
  }
 ],
 "metadata": {
  "kernelspec": {
   "display_name": "Python 3",
   "language": "python",
   "name": "python3"
  },
  "language_info": {
   "codemirror_mode": {
    "name": "ipython",
    "version": 3
   },
   "file_extension": ".py",
   "mimetype": "text/x-python",
   "name": "python",
   "nbconvert_exporter": "python",
   "pygments_lexer": "ipython3",
   "version": "3.7.6"
  }
 },
 "nbformat": 4,
 "nbformat_minor": 4
}
