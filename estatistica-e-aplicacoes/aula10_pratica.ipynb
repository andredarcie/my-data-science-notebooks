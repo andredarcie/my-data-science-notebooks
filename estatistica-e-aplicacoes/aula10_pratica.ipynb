{
 "cells": [
  {
   "cell_type": "markdown",
   "metadata": {},
   "source": [
    "1) Das 300 pessoas que chegavam de um voo em um aeroporto, 81 admitiram ter medo de voar. Das 200 pessoas que embarcavam em outro voo, no mesmo dia e na mesma hora, 32 admitiram tamb'em ter medo. Obtenha os dados e faca um teste de qui-quadrado com os dados da tabela abaixo (Utilize nivel de significancia = 0.05)."
   ]
  },
  {
   "cell_type": "markdown",
   "metadata": {},
   "source": [
    "<h4 align=\"center\"> Tabela 01: proporcao dos passageiros segundo partida ou <br> chegada e o medo de voar </h4>\n",
    "\n",
    "| Passageiros | Medo |  | Total | \n",
    "| :---: | :---: | :---: | :---: |\n",
    "| - | sim | nao | - |\n",
    "| chegavam | 0.162 | 0.438 | 0.6 | \n",
    "| partiam | 0.064 | 0.336 | 0.4 | \n",
    "| Total | 0.226 | 0.774 | 1 | \n"
   ]
  },
  {
   "cell_type": "code",
   "execution_count": 2,
   "metadata": {},
   "outputs": [
    {
     "name": "stdout",
     "output_type": "stream",
     "text": [
      "219.0\n",
      "168.0\n"
     ]
    }
   ],
   "source": [
    "# Deixe seus calculos aqui:\n",
    "\n"
   ]
  },
  {
   "cell_type": "code",
   "execution_count": 6,
   "metadata": {},
   "outputs": [
    {
     "name": "stdout",
     "output_type": "stream",
     "text": [
      "stat: 7.68381316076315\n",
      "p value: 0.005571831091300655\n",
      "GL: 1\n",
      "Dependentes (rejeitamos H0)\n"
     ]
    }
   ],
   "source": []
  },
  {
   "cell_type": "code",
   "execution_count": null,
   "metadata": {},
   "outputs": [],
   "source": []
  },
  {
   "cell_type": "markdown",
   "metadata": {},
   "source": [
    "2) Verifique se voce reheitaria a hipotese de que a probabilidade de ter gripe e' a mesma para pessoas vacinadas e nao-vacinadas, de acordo com os dados abaixo (Utilize nivel de significancia = 0.1):"
   ]
  },
  {
   "cell_type": "markdown",
   "metadata": {},
   "source": [
    "<h4 align=\"center\"> Tabela 02: Distribuicao dos participantes que foram <br> vacinados e que tiveram gripe </h4>\n",
    "\n",
    "| Vacina | Gripe |  | \n",
    "| :---: | :---: | :---: | \n",
    "| - | sim | nao |\n",
    "| sim | 11 | 538 |  \n",
    "| nao | 70 | 464 | \n"
   ]
  },
  {
   "cell_type": "code",
   "execution_count": 7,
   "metadata": {},
   "outputs": [
    {
     "name": "stdout",
     "output_type": "stream",
     "text": [
      "stat: 46.650420375499635\n",
      "p value: 8.484877724100963e-12\n",
      "GL: 1\n",
      "Dependentes (rejeitamos H0)\n"
     ]
    }
   ],
   "source": [
    "# Deixe seus calculos aqui:\n"
   ]
  },
  {
   "cell_type": "code",
   "execution_count": null,
   "metadata": {},
   "outputs": [],
   "source": []
  },
  {
   "cell_type": "markdown",
   "metadata": {},
   "source": [
    "3) Traumas faciais ocorrem, predominantemente, entre jovens adultos. No entanto, houve um aumento de incidencia entre idosos. Os dados abaixo buscam verificar se existe associacao entre sexo e tipo de fratura (queda e outras causas, que sao agressao e acidentes de transito). Faca o teste e utilize nivel de significancia = 0.05."
   ]
  },
  {
   "cell_type": "markdown",
   "metadata": {},
   "source": [
    "<h4 align=\"center\"> Tabela 03: distribuicao das ocorrencias segundo <br> o sexo e etiologia da fratura</h4>\n",
    "\n",
    "| Etiologia | sexo |  | Total | \n",
    "| :---: | :---: | :---: | :---: |\n",
    "| - | mulheres | homens | - |\n",
    "| queda | 12 | 11 | 23 | \n",
    "| outras causas | 5 | 15 | 20 | \n",
    "| Total | 17 | 26 | 43 | "
   ]
  },
  {
   "cell_type": "code",
   "execution_count": 9,
   "metadata": {},
   "outputs": [
    {
     "name": "stdout",
     "output_type": "stream",
     "text": [
      "stat: 0.7100007090187181\n",
      "p value: 0.39944357651831963\n",
      "GL: 1\n",
      "Independentes (aceitamos H0)\n"
     ]
    }
   ],
   "source": []
  },
  {
   "cell_type": "code",
   "execution_count": null,
   "metadata": {},
   "outputs": [],
   "source": []
  },
  {
   "cell_type": "markdown",
   "metadata": {},
   "source": [
    "4) Voce precisa determinar se o turno da noite difere do turno diurno de acordo com os itens nao-conformes do produto final. depois de uma semana de trabalho voce verificou que o turno da noite produziu 542 itens, dos quais 41 eram nao conformes. No mesmo periodo, o turno diurno produziu 632 itens, sendo 45 nao-conformes. Faca os testes adequados e comente (Utilize nivel de significancia = 0.05)."
   ]
  },
  {
   "cell_type": "code",
   "execution_count": null,
   "metadata": {},
   "outputs": [],
   "source": []
  },
  {
   "cell_type": "code",
   "execution_count": 10,
   "metadata": {},
   "outputs": [
    {
     "name": "stdout",
     "output_type": "stream",
     "text": [
      "stat: 0.03202193762478449\n",
      "p value: 0.8579795177537023\n",
      "GL: 1\n",
      "Independentes (aceitamos H0)\n"
     ]
    }
   ],
   "source": []
  },
  {
   "cell_type": "code",
   "execution_count": null,
   "metadata": {},
   "outputs": [],
   "source": []
  },
  {
   "cell_type": "markdown",
   "metadata": {},
   "source": [
    "5) No mes de julho a fracao de nao-conformes em 1200 itens produzidos foi 0.030. No mes seguinte, apos ajustes de metodologias, a fracao de nao-conformes foi de 0.025. Podemos inferir que as mudancas determinaram melhoria no processo? Utilize nivel de significancia = 0.1."
   ]
  },
  {
   "cell_type": "code",
   "execution_count": null,
   "metadata": {},
   "outputs": [],
   "source": []
  },
  {
   "cell_type": "markdown",
   "metadata": {},
   "source": [
    "6) Os dados da tabela abaixo foram obtidos de 1330 nipo-brasileiros de primeira e segunda geracao, de ambos os sexos, com mais de 30 anos. De acordo com o indice de massa corporal, foram classificados como tendo sobrepeso ou nao. Faca o teste de qui-quadrado e comente."
   ]
  },
  {
   "cell_type": "markdown",
   "metadata": {},
   "source": [
    "<h4 align=\"center\"> Tabela 06: distribuicao dos nipo-brasileiros <br> com sobrepeso, segundo a geracao </h4>\n",
    "\n",
    "| geracao | sobrepeso |  | \n",
    "| :---: | :---: | :---: |\n",
    "| - | sim | nao | \n",
    "| primeira | 82 | 175 | \n",
    "| segunda | 525 | 548 |  \n"
   ]
  },
  {
   "cell_type": "markdown",
   "metadata": {},
   "source": [
    "7) verifique pela tabela se voce rejeitaria a hipotese de que a probabilidade de dormir mais de 8 horas e' a mesma para as duas faixas de idade (Utilizar 0.01 de nivel de significancia)."
   ]
  },
  {
   "cell_type": "markdown",
   "metadata": {},
   "source": [
    "<h4 align=\"center\"> Tabela 07: distribuicao dos participantes <br> segundo o tempo de sono e a faixa de idade </h4>\n",
    "\n",
    "| faixa de idade | tempo de sono |  | \n",
    "| :---: | :---: | :---: |\n",
    "| - | menos de 8 horas | mais de 8 horas | \n",
    "| de 30 a 40 anos | 172 | 78 | \n",
    "| de 60 a 70 anos | 120 | 130 | "
   ]
  },
  {
   "cell_type": "markdown",
   "metadata": {},
   "source": [
    "8) Nao se rejeita a hipotese de nulidade se o resultado do teste de qui-quadrado para uma tabela for igual ao valor tabelado para o nivel de significancia 0.05"
   ]
  },
  {
   "cell_type": "code",
   "execution_count": null,
   "metadata": {},
   "outputs": [],
   "source": [
    "# "
   ]
  },
  {
   "cell_type": "markdown",
   "metadata": {},
   "source": [
    "9) Nos testes de hipoteses temos H0 e H1 e erro tipo I e erro tipo II. Qual a resposta certa?\n",
    "\n",
    "a) Erro tipo I: nao rejeitar H0, quando H0 e' verdadeira; <br>\n",
    "b) Erro tipo I: nao rejeitar H0, quando H0 e' falsa; <br>\n",
    "c) Erro tipo I: nao rejeitar H0, independente de H0 ser verdadeira ou falsa; <br>\n",
    "d) Erro tipo I: rejeitar H0, quando H0 e' verdadeira; <br>\n",
    "e) Erro tipo I: rejeitar H0, quando H0 e' falsa."
   ]
  },
  {
   "cell_type": "markdown",
   "metadata": {},
   "source": [
    "10) Uma pesquisa levantou dados sobre a disposicao de calouros de uma universidade de fazer trabalho voluntario. os dados obtidos estao apresentados na tabela abaixo. Faca o teste e comente (nivel de significancia de 5%)."
   ]
  },
  {
   "cell_type": "markdown",
   "metadata": {},
   "source": [
    "<h4 align=\"center\"> Tabela 08: Respostas dos calouros de uma universidade <br>sobre trabalho voluntario, segundo o sexo </h4>\n",
    "\n",
    "| sexo | trabalho voluntario |  | \n",
    "| :---: | :---: | :---: |\n",
    "| - | sim | nao | \n",
    "| masculino | 207 | 282 | \n",
    "| feminino | 231 | 242 | "
   ]
  }
 ],
 "metadata": {
  "kernelspec": {
   "display_name": "Python 3",
   "language": "python",
   "name": "python3"
  },
  "language_info": {
   "codemirror_mode": {
    "name": "ipython",
    "version": 3
   },
   "file_extension": ".py",
   "mimetype": "text/x-python",
   "name": "python",
   "nbconvert_exporter": "python",
   "pygments_lexer": "ipython3",
   "version": "3.7.6"
  }
 },
 "nbformat": 4,
 "nbformat_minor": 4
}
