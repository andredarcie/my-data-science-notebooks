{
 "cells": [
  {
   "cell_type": "markdown",
   "metadata": {},
   "source": [
    "1) Se jogarmos duas moedas, qual seria a probabilidade de obtermos 1 cara? E qual seria o espaco amostral?"
   ]
  },
  {
   "cell_type": "code",
   "execution_count": 1,
   "metadata": {},
   "outputs": [],
   "source": [
    "# Deixe sua resposta aqui.\n"
   ]
  },
  {
   "cell_type": "markdown",
   "metadata": {},
   "source": [
    "2) Se jogarmos um dado, qual a probabilidade de obtermos um numero impar?"
   ]
  },
  {
   "cell_type": "code",
   "execution_count": 2,
   "metadata": {},
   "outputs": [],
   "source": [
    "# Deixe sua resposta aqui.\n"
   ]
  },
  {
   "cell_type": "markdown",
   "metadata": {},
   "source": [
    "3) Se jogarmos dois dados, qual a probabilidade de obtermos:\n",
    "\n",
    "a) soma == 12?<br>\n",
    "b) soma == 7?"
   ]
  },
  {
   "cell_type": "code",
   "execution_count": 3,
   "metadata": {},
   "outputs": [],
   "source": [
    "# Deixe sua resposta aqui.\n",
    "\n"
   ]
  },
  {
   "cell_type": "markdown",
   "metadata": {},
   "source": [
    "4) Em uma caixa com 575 bolinhas azuis e vermelhas, sabemos que 46 sao vermelhas. Qual a probabilidade de tiramos uma bolinha azul aleatoriamente da caixa? "
   ]
  },
  {
   "cell_type": "code",
   "execution_count": 4,
   "metadata": {},
   "outputs": [],
   "source": [
    "# Deixe sua resposta aqui.\n"
   ]
  },
  {
   "cell_type": "markdown",
   "metadata": {},
   "source": [
    "5) No conjunto de dados [1, 2, 3, 4, 5, 6, 7, 8, 9, 10], qual a probabilidade de tirarmos um numero impar menor do que 4 ou um impar maior do que 8?"
   ]
  },
  {
   "cell_type": "code",
   "execution_count": 5,
   "metadata": {},
   "outputs": [],
   "source": [
    "# Deixe sua resposta aqui.\n"
   ]
  },
  {
   "cell_type": "markdown",
   "metadata": {},
   "source": [
    "6) Uma em cada mil criancas nasce com uma mutacao genetica rara para cor de olhos. Qual a probabilidade de duas criancas com a mutacao se encontrarem na mesma sala?"
   ]
  },
  {
   "cell_type": "code",
   "execution_count": 6,
   "metadata": {},
   "outputs": [],
   "source": [
    "# Deixe sua resposta aqui.\n"
   ]
  },
  {
   "cell_type": "markdown",
   "metadata": {},
   "source": [
    "7) Em uma pesquisa, mil familias foram entrevistadas para saber se 3 tipos de produtos sao consumidos: A, B e C. Os resultados foram: 470 familias consomem o produto A, 420 consomem o produto B, e 320 consomem o produto C. Tambem verificou se que 250 consomem A e B; 150 consomem A e C, 200 consomem B e C, e 70 consomem os 3 produtos. Qual a probabilidade de sortearmos uma familia que consome somente 1 produto?\n",
    "\n",
    "a) 0.60;<br>\n",
    "b) 0.47;<br>\n",
    "c) 0.42;<br>\n",
    "d) 0.32;<br>\n",
    "e) 0.22. "
   ]
  },
  {
   "cell_type": "code",
   "execution_count": null,
   "metadata": {},
   "outputs": [],
   "source": [
    "# Deixe sua resposta aqui."
   ]
  }
 ],
 "metadata": {
  "kernelspec": {
   "display_name": "Python 3",
   "language": "python",
   "name": "python3"
  },
  "language_info": {
   "codemirror_mode": {
    "name": "ipython",
    "version": 3
   },
   "file_extension": ".py",
   "mimetype": "text/x-python",
   "name": "python",
   "nbconvert_exporter": "python",
   "pygments_lexer": "ipython3",
   "version": "3.7.6"
  }
 },
 "nbformat": 4,
 "nbformat_minor": 4
}
