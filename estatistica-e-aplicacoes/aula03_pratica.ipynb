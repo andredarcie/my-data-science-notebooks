{
  "nbformat": 4,
  "nbformat_minor": 0,
  "metadata": {
    "kernelspec": {
      "display_name": "Python 3",
      "language": "python",
      "name": "python3"
    },
    "language_info": {
      "codemirror_mode": {
        "name": "ipython",
        "version": 3
      },
      "file_extension": ".py",
      "mimetype": "text/x-python",
      "name": "python",
      "nbconvert_exporter": "python",
      "pygments_lexer": "ipython3",
      "version": "3.7.6"
    },
    "colab": {
      "name": "aula03_pratica.ipynb",
      "provenance": [],
      "collapsed_sections": []
    }
  },
  "cells": [
    {
      "cell_type": "markdown",
      "metadata": {
        "id": "3SZOk-6iQSKI",
        "colab_type": "text"
      },
      "source": [
        "1) Calcule o maximo, o minimo e a amplitude do conjunto [2,4,6,8,10,12]"
      ]
    },
    {
      "cell_type": "code",
      "metadata": {
        "id": "0XEqOcxnQSKI",
        "colab_type": "code",
        "colab": {
          "base_uri": "https://localhost:8080/",
          "height": 68
        },
        "outputId": "21b71cbf-2ccd-473f-d237-4ea0b8e6a9b3"
      },
      "source": [
        "# Deixe sua resposta aqui\n",
        "import matplotlib.pyplot as plt\n",
        "import numpy as np\n",
        "\n",
        "dados = [2, 4, 6, 8, 10, 12]\n",
        "\n",
        "min_dados = np.min(dados)\n",
        "print('Minimo: ', min_dados)\n",
        "max_dados = np.max(dados)\n",
        "print('Maximo: ', max_dados)\n",
        "amplitude = max_dados - min_dados\n",
        "print('Amplitude: ', amplitude)"
      ],
      "execution_count": null,
      "outputs": [
        {
          "output_type": "stream",
          "text": [
            "Minimo:  2\n",
            "Maximo:  12\n",
            "Amplitude:  10\n"
          ],
          "name": "stdout"
        }
      ]
    },
    {
      "cell_type": "markdown",
      "metadata": {
        "id": "64iR0ju3QSKL",
        "colab_type": "text"
      },
      "source": [
        "2) Calcule os desvios dos dados do cojunto [1,3,5,7,9,11]\n"
      ]
    },
    {
      "cell_type": "code",
      "metadata": {
        "id": "l6Cgb2XpQSKL",
        "colab_type": "code",
        "colab": {
          "base_uri": "https://localhost:8080/",
          "height": 51
        },
        "outputId": "7e474be3-b761-4fb3-82e2-f3b4103dea4c"
      },
      "source": [
        "# Deixe sua resposta aqui\n",
        "dados = [1, 3, 5, 7, 9, 11]\n",
        "\n",
        "gl = 1\n",
        "\n",
        "print('Media: ', np.mean(dados))\n",
        "print('Desvio: ', np.std(dados, ddof=gl))"
      ],
      "execution_count": null,
      "outputs": [
        {
          "output_type": "stream",
          "text": [
            "Media:  6.0\n",
            "Desvio:  3.7416573867739413\n"
          ],
          "name": "stdout"
        }
      ]
    },
    {
      "cell_type": "markdown",
      "metadata": {
        "id": "c5nq0lssQSKN",
        "colab_type": "text"
      },
      "source": [
        "3) Calcule a media, mediana e desvio padrao dos dois conjuntos de dados e comente sobre o resultado encontrado.\n",
        "\n",
        "<h4 align=\"center\"> Tabela 1: Numero de aparicoes do vereador X fora do periodo de eleicoes, <br> e dentro do periodo de eleicoes </h4>\n",
        "  \n",
        "| | | | | | | |  \n",
        "| :---: | :---: | :---: | :---: | :---: | :---: | :---: | \n",
        "| fora | 5 | 4 | 7 | 4 | 6 | 22 | \n",
        "| dentro | 23 | 20 | 24 | 25 | 23 | 23 | \n"
      ]
    },
    {
      "cell_type": "code",
      "metadata": {
        "id": "wj5bjtwoQSKN",
        "colab_type": "code",
        "colab": {
          "base_uri": "https://localhost:8080/",
          "height": 68
        },
        "outputId": "1891264d-4ce5-4b29-bcf9-f895fcb64f7b"
      },
      "source": [
        "# Deixe sua resposta aqui\n",
        "fora = [5, 4, 7, 4, 6, 22]\n",
        "\n",
        "gl = 1\n",
        "\n",
        "print('Media: ', np.mean(fora))\n",
        "print('Mediana: ', np.median(fora))\n",
        "print('Desvio: ', np.std(fora, ddof=gl))"
      ],
      "execution_count": null,
      "outputs": [
        {
          "output_type": "stream",
          "text": [
            "Media:  8.0\n",
            "Mediana:  5.5\n",
            "Desvio:  6.957010852370434\n"
          ],
          "name": "stdout"
        }
      ]
    },
    {
      "cell_type": "code",
      "metadata": {
        "id": "itfKSgDWQSKP",
        "colab_type": "code",
        "colab": {
          "base_uri": "https://localhost:8080/",
          "height": 68
        },
        "outputId": "949b81e8-7e28-462a-f620-31e49ac32708"
      },
      "source": [
        "dentro = [23, 20, 24, 25, 23, 23]\n",
        "\n",
        "gl = 1\n",
        "\n",
        "print('Media: ', np.mean(dentro))\n",
        "print('Mediana: ', np.median(dentro))\n",
        "print('Desvio: ', np.std(dentro, ddof=gl))"
      ],
      "execution_count": null,
      "outputs": [
        {
          "output_type": "stream",
          "text": [
            "Media:  23.0\n",
            "Mediana:  23.0\n",
            "Desvio:  1.6733200530681511\n"
          ],
          "name": "stdout"
        }
      ]
    },
    {
      "cell_type": "code",
      "metadata": {
        "id": "FhBIOAKoS07O",
        "colab_type": "code",
        "colab": {}
      },
      "source": [
        "# Na epoca das elecoes as visitas foram mais frequentes."
      ],
      "execution_count": null,
      "outputs": []
    },
    {
      "cell_type": "markdown",
      "metadata": {
        "id": "SU_VxAySQSKR",
        "colab_type": "text"
      },
      "source": [
        "4) Duas funcionarias de uma fabrica estao sendo avaliadas de acordo com o tempo que levam para realizar duas\n",
        "tarefas consecutivas (tarefa 1, e tarefa 2), conforme a tabela abaixo.\n",
        "\n",
        "<h4 align=\"center\"> Tabela 2: Tempo, em minutos, para realizacao de 2 tarefas, para 2 funcionarias </h4>\n",
        "  \n",
        "| Func A | | func B | |\n",
        "| :---: | :---: | :---: | :---: | \n",
        "| tarefa 1 | tarefa 2 | tarefa 1 | tarefa 2 |\n",
        "| 30 | 2 | 31 | 7 | \n",
        "| 28 | 4 | 30 | 2 | \n",
        "| 31 | 3 | 32 | 6 | \n",
        "| 38 | 3 | 30 | 5 |\n",
        "| 25 | 2 | 29 | 4 | \n",
        "| 29 | 4 | 30 | 1 |\n",
        "| 30 | 3 | 31 | 4 | \n",
        "\n",
        "\n",
        "a) Calcule o tempo medio de cada uma das funcionarias para completar as 2 tarefas; <br>\n",
        "b) Calcule a amplitude de cada subtarefa para cada funcionaria; <br>\n",
        "c) Em qual subtarefa e pra qual funcionaria houve maior variabilidade?"
      ]
    },
    {
      "cell_type": "code",
      "metadata": {
        "id": "eZykA-urQSKS",
        "colab_type": "code",
        "colab": {
          "base_uri": "https://localhost:8080/",
          "height": 119
        },
        "outputId": "19d6d56e-e713-4186-d679-db47faab8f2d"
      },
      "source": [
        "# Deixe sua resposta aqui\n",
        "# a)\n",
        "tempo_duas_tarefas_a = [30+2, 28+4, 31+3, 38+3, 25+2, 29+4, 30+3]\n",
        "media_duas_tarefas_a = np.mean(tempo_duas_tarefas_a)\n",
        "print('Media tempo duas tarefas a:', media_duas_tarefas_a)\n",
        "\n",
        "tempo_duas_tarefas_a = [30+2, 28+4, 31+3, 38+3, 25+2, 29+4, 30+3]\n",
        "media_duas_tarefas_a = np.mean(tempo_duas_tarefas_a)\n",
        "print('Media tempo duas tarefas a:', media_duas_tarefas_a)\n",
        "\n",
        "# b) \n",
        "tempo_tarefa_1_a = [30, 28, 31, 38, 25, 29, 30]\n",
        "tempo_tarefa_2_a = [2, 4, 3, 3, 2, 4, 3]\n",
        "\n",
        "amplitude_tarefa1_funcionaria_a = np.max(tempo_tarefa_1_a) - np.min(tempo_tarefa_1_a)\n",
        "print('Amplitude tarefa 1, funcionaria A: ', amplitude_tarefa1_funcionaria_a)\n",
        "amplitude_tarefa2_funcionaria_a = np.max(tempo_tarefa_2_a) - np.min(tempo_tarefa_2_a)\n",
        "print('Amplitude tarefa 2, funcionaria B:', amplitude_tarefa2_funcionaria_a)\n",
        "\n",
        "tempo_tarefa_1_b = [31, 30, 32, 30, 29, 30, 31]\n",
        "tempo_tarefa_2_b = [7, 2, 6, 5, 4, 1, 4]\n",
        "amplitude_tarefa1_funcionaria_b = np.max(tempo_tarefa_1_b) - np.min(tempo_tarefa_1_b)\n",
        "print('Amplitude tarefa 1, funcionaria B: ', amplitude_tarefa1_funcionaria_b)\n",
        "amplitude_tarefa2_funcionaria_b = np.max(tempo_tarefa_2_b) - np.min(tempo_tarefa_2_b)\n",
        "print('Amplitude tarefa 2, funcionara B: ', amplitude_tarefa2_funcionaria_b)"
      ],
      "execution_count": null,
      "outputs": [
        {
          "output_type": "stream",
          "text": [
            "Media tempo duas tarefas a: 33.142857142857146\n",
            "Media tempo duas tarefas a: 33.142857142857146\n",
            "Amplitude tarefa 1, funcionaria A:  13\n",
            "Amplitude tarefa 2, funcionaria B: 2\n",
            "Amplitude tarefa 1, funcionaria B:  3\n",
            "Amplitude tarefa 2, funcionara B:  6\n"
          ],
          "name": "stdout"
        }
      ]
    },
    {
      "cell_type": "markdown",
      "metadata": {
        "id": "fqAl-fTdQSKX",
        "colab_type": "text"
      },
      "source": [
        "5) Em um curso de Computacao com turmas no periodo diurno e noturno, foram obtidas as seguintes medias nas disciplinas:\n",
        "\n",
        "<h4 align=\"center\"> Tabela 3: Medias de notas de acordo com o periodo cursado. </h4>\n",
        "  \n",
        "| Disciplina | Diurno | Noturno | \n",
        "| :---: | :---: | :---: | \n",
        "| Algoritmos | 51,2 | 47,1 |  \n",
        "| Data Science |55,1 | 59,0 |  \n",
        "| Matematica aplicada | 43,3 | 35,7 |  \n",
        "| Linguagens | 46,0 | 46,6 | \n",
        "| Fundamentos de eletronica | 43 | 43 |  \n",
        "| Calculo | 46,6 | 46,5 | \n",
        "| SO | 49,5 | 42,6 | \n",
        "| Topicos Especiais | 63,3 | 58,2 | \n",
        "| Redes | 29,3 | 29,8 | \n",
        "\n",
        "a) Qual periodo obteve a media maior?;<br>\n",
        "b) Em qual periodo houve maior variabilidade de medias?"
      ]
    },
    {
      "cell_type": "code",
      "metadata": {
        "id": "SnVFQ3yzQSKY",
        "colab_type": "code",
        "colab": {
          "base_uri": "https://localhost:8080/",
          "height": 102
        },
        "outputId": "f5f1cdbd-a8ab-4cfc-893f-355af539a48c"
      },
      "source": [
        "# Deixe sua resposta aqui\n",
        "print('a)')\n",
        "dados_diurno = [51.2, 55.1, 43.3, 46.0, 43, 46.6, 49.5, 63.3, 29.3]\n",
        "print('media diurno:', np.mean(dados_diurno))\n",
        "print('desvio diurno:', np.std(dados_diurno, ddof=1))\n",
        "\n",
        "dados_noturno = [47.1, 59, 35.7, 46.6, 43, 46.5, 42.6, 58.2, 29.8]\n",
        "print('media noturno:', np.mean(dados_noturno))\n",
        "print('desvio diurno:', np.std(dados_noturno, ddof=1))\n",
        "\n",
        "# b) As notas do diurno foram melhores, e o desvio foi maior no custo noturno."
      ],
      "execution_count": null,
      "outputs": [
        {
          "output_type": "stream",
          "text": [
            "a)\n",
            "media diurno: 47.47777777777778\n",
            "desvio diurno: 9.335922259982912\n",
            "media noturno: 45.38888888888889\n",
            "desvio diurno: 9.390080463505683\n"
          ],
          "name": "stdout"
        }
      ]
    },
    {
      "cell_type": "markdown",
      "metadata": {
        "id": "XeXruboFQSKb",
        "colab_type": "text"
      },
      "source": [
        "6) Crie um box plot para os dados: [72,103,87,78,89,69,8,87,97,78,80,90,98,78,86,90,91,99]"
      ]
    },
    {
      "cell_type": "code",
      "metadata": {
        "id": "WNmJ-EgRQSKc",
        "colab_type": "code",
        "colab": {
          "base_uri": "https://localhost:8080/",
          "height": 68
        },
        "outputId": "73c97fe1-bc5e-46a6-b044-e07d6e0455a1"
      },
      "source": [
        "# Deixe sua resposta aqui\n",
        "dados =  [72,103,87,78,89,69,8,87,97,78,80,90,98,78,86,90,91,99]\n",
        "\n",
        "median, q1, q3 = np.percentile(dados, 50), np.percentile(dados, 25), np.percentile(dados, 75)\n",
        "print('Mediana: ', median)\n",
        "print('Primeiro quartil: ', q1)\n",
        "print('Terceiro quartil: ', q3)"
      ],
      "execution_count": null,
      "outputs": [
        {
          "output_type": "stream",
          "text": [
            "Mediana:  87.0\n",
            "Primeiro quartil:  78.0\n",
            "Terceiro quartil:  90.75\n"
          ],
          "name": "stdout"
        }
      ]
    },
    {
      "cell_type": "code",
      "metadata": {
        "scrolled": false,
        "id": "qQraItfKQSKd",
        "colab_type": "code",
        "colab": {
          "base_uri": "https://localhost:8080/",
          "height": 417
        },
        "outputId": "eeecabb6-3e39-4b30-cdb4-d937454a0c87"
      },
      "source": [
        "fig1, ax1 = plt.subplots()\n",
        "ax1.set_title('Basic Plot')\n",
        "ax1.boxplot(dados, showfliers=True)"
      ],
      "execution_count": null,
      "outputs": [
        {
          "output_type": "execute_result",
          "data": {
            "text/plain": [
              "{'boxes': [<matplotlib.lines.Line2D at 0x7f65062d0c18>],\n",
              " 'caps': [<matplotlib.lines.Line2D at 0x7f65062e2668>,\n",
              "  <matplotlib.lines.Line2D at 0x7f65062e29e8>],\n",
              " 'fliers': [<matplotlib.lines.Line2D at 0x7f65062ee128>],\n",
              " 'means': [],\n",
              " 'medians': [<matplotlib.lines.Line2D at 0x7f65062e2d68>],\n",
              " 'whiskers': [<matplotlib.lines.Line2D at 0x7f65062d0f28>,\n",
              "  <matplotlib.lines.Line2D at 0x7f65062e22e8>]}"
            ]
          },
          "metadata": {
            "tags": []
          },
          "execution_count": 10
        },
        {
          "output_type": "display_data",
          "data": {
            "image/png": "[encoded data removed]",
            "text/plain": [
              "<Figure size 432x288 with 1 Axes>"
            ]
          },
          "metadata": {
            "tags": [],
            "needs_background": "light"
          }
        }
      ]
    },
    {
      "cell_type": "markdown",
      "metadata": {
        "id": "CH45xryeQSKf",
        "colab_type": "text"
      },
      "source": [
        "7) Calcule a mediana, a amplitude e os quartis para os dados: [4.74, 4.72, 4.72, 4.76, 4.76, 4.74, 4.72, 4.75, 4.73, 4.75]\n",
        "    "
      ]
    },
    {
      "cell_type": "code",
      "metadata": {
        "id": "EdWGmG8YQSKf",
        "colab_type": "code",
        "colab": {
          "base_uri": "https://localhost:8080/",
          "height": 85
        },
        "outputId": "a4b9279e-40e1-411d-9887-29a48e7bbb09"
      },
      "source": [
        "# Deixe sua resposta aqui\n",
        "\n",
        "dados =  [4.74, 4.72, 4.72, 4.76, 4.76, 4.74, 4.72, 4.75, 4.73, 4.75]\n",
        "median, q1, q3 = np.percentile(dados, 50), np.percentile(dados, 25), np.percentile(dados, 75)\n",
        "print('Mediana: ', median)\n",
        "print('q1:', q1)\n",
        "print('q3:', q3)\n",
        "print('amplitude:', max(dados) - min(dados))"
      ],
      "execution_count": null,
      "outputs": [
        {
          "output_type": "stream",
          "text": [
            "Mediana:  4.74\n",
            "q1: 4.7225\n",
            "q3: 4.75\n",
            "amplitude: 0.040000000000000036\n"
          ],
          "name": "stdout"
        }
      ]
    },
    {
      "cell_type": "markdown",
      "metadata": {
        "id": "ktx_3-r0QSKh",
        "colab_type": "text"
      },
      "source": [
        "8) Responda:\n",
        "\n",
        "a) A variancia pode ser negativa?<br>\n",
        "b) Uma mercadoria que possui um alto desvio padrao tem uma boa qualidade? Comente.<br>\n",
        "c) A mediana corresponde a qual percentil?<br>\n",
        "d) Um dado discrepante afeta a variancia?<br>"
      ]
    },
    {
      "cell_type": "code",
      "metadata": {
        "id": "1jWohtc8QSKh",
        "colab_type": "code",
        "colab": {}
      },
      "source": [
        "# Deixe sua resposta aqui\n",
        "\n",
        "# a) Não, pois no calculo elevamos um valor ao quadrado e o sinal negativo viraria positivo\n",
        "# b) Não, pois o alto desvio padrao significa que ha muita variacao de suas caracterisiticas\n",
        "# c) Segundo quartil ou percentil 50%\n",
        "# d) Verdadeiro"
      ],
      "execution_count": null,
      "outputs": []
    },
    {
      "cell_type": "markdown",
      "metadata": {
        "id": "bNU0mubjQSKj",
        "colab_type": "text"
      },
      "source": [
        "9) Calcule o maximo, o minimo e a amplitude do conjunto [6, 10, 7, 7, 9, 7, 1, 9, 8, 11, 10, 3, 6, 9, 5]. Se os dados fossem para medidas de tempo de espera de uma ligacao, o que a mediana informaria?\n"
      ]
    },
    {
      "cell_type": "code",
      "metadata": {
        "id": "f6qxSUb3QSKj",
        "colab_type": "code",
        "colab": {
          "base_uri": "https://localhost:8080/",
          "height": 68
        },
        "outputId": "7b0c413c-73b3-494f-ba2c-7e7dafb10865"
      },
      "source": [
        "# Deixe sua resposta aqui\n",
        "dados = [6, 10, 7, 7, 9, 7, 1, 9, 8, 11, 10, 3, 6, 9, 5]\n",
        "min_dados = np.min(dados)\n",
        "print('Minimo: ', min_dados)\n",
        "max_dados = np.max(dados)\n",
        "print('Maximo: ', max_dados)\n",
        "amplitude = max_dados - min_dados\n",
        "print('Amplitude: ', amplitude)"
      ],
      "execution_count": null,
      "outputs": [
        {
          "output_type": "stream",
          "text": [
            "Minimo:  1\n",
            "Maximo:  11\n",
            "Amplitude:  10\n"
          ],
          "name": "stdout"
        }
      ]
    },
    {
      "cell_type": "code",
      "metadata": {
        "id": "v52D-_qRQSKl",
        "colab_type": "code",
        "colab": {}
      },
      "source": [
        "# A mediana informaria o valor central de um conjunto de dados"
      ],
      "execution_count": null,
      "outputs": []
    },
    {
      "cell_type": "markdown",
      "metadata": {
        "id": "O0ZkonnjQSKm",
        "colab_type": "text"
      },
      "source": [
        "10) Calcule o desvio padrao para o tempo de duracao que uma pessoa demora na fila de uma lanchonete fora do horario de pico.\n",
        "\n",
        "dados = [4, 4, 2, 2, 8, 5, 1, 12, 7]."
      ]
    },
    {
      "cell_type": "code",
      "metadata": {
        "id": "7Sc7neBBQSKn",
        "colab_type": "code",
        "colab": {
          "base_uri": "https://localhost:8080/",
          "height": 34
        },
        "outputId": "63f2b624-9710-4741-e9ee-c0e71c08f02c"
      },
      "source": [
        "# Deixe sua resposta aqui\n",
        "gl = 1\n",
        "dados = [4, 4, 2, 2, 8, 5, 1, 12, 7]\n",
        "print('Desvio padrão: ', np.std(dados, ddof=gl))"
      ],
      "execution_count": null,
      "outputs": [
        {
          "output_type": "stream",
          "text": [
            "Desvio padrão:  3.5\n"
          ],
          "name": "stdout"
        }
      ]
    },
    {
      "cell_type": "markdown",
      "metadata": {
        "id": "5-CC0hzrQSKo",
        "colab_type": "text"
      },
      "source": [
        "11) Uma montadora de veiculos resolve fazer um teste de duracao de uma determinada peca de 2 marcas de fabricantes: fornecedor A e fornecedor B. Calcule a media e o desvio padrao, e indique qual seria mais vantajoso.\n",
        "\n",
        "Dados do fornecedor A: [486,490,491,491,494,494,496,498,498,498,502,504,505,506,507,508,510,514,515,527]; <br>\n",
        "Dados do fornecedor B: [489,489,492,492,491,492,492,493,493,494,495,496,497,497,497,498,499,502,503,505];"
      ]
    },
    {
      "cell_type": "code",
      "metadata": {
        "id": "STmGORHyQSKp",
        "colab_type": "code",
        "colab": {
          "base_uri": "https://localhost:8080/",
          "height": 102
        },
        "outputId": "c6c1bb79-ccbf-4218-fe76-6f9ba9656085"
      },
      "source": [
        "# Deixe sua resposta aqui\n",
        "gl = 1\n",
        "\n",
        "dados_do_fornecedor_a = [486,490,491,491,494,494,496,498,498,498,502,504,505,506,507,508,510,514,515,527]\n",
        "\n",
        "print('Media do fornecedor A: ', np.mean(dados_do_fornecedor_a))\n",
        "print('Desvio padrão do fornecedor A: ', np.std(dados_do_fornecedor_a, ddof=gl))\n",
        "\n",
        "print('-'*100)\n",
        "dados_do_fornecedor_b = [489,489,492,492,491,492,492,493,493,494,495,496,497,497,497,498,499,502,503,505]\n",
        "\n",
        "print('Media do fornecedor B: ', np.mean(dados_do_fornecedor_b))\n",
        "print('Desvio padrão do fornecedor B: ', np.std(dados_do_fornecedor_b, ddof=gl))"
      ],
      "execution_count": null,
      "outputs": [
        {
          "output_type": "stream",
          "text": [
            "Media do fornecedor A:  501.7\n",
            "Desvio padrão do fornecedor A:  10.115647077151005\n",
            "----------------------------------------------------------------------------------------------------\n",
            "Media do fornecedor B:  495.3\n",
            "Desvio padrão do fornecedor B:  4.485062928620312\n"
          ],
          "name": "stdout"
        }
      ]
    },
    {
      "cell_type": "code",
      "metadata": {
        "id": "KtAZIA3EQSKq",
        "colab_type": "code",
        "colab": {}
      },
      "source": [
        "# O mais vantajoso seria o fornecedor B.\n",
        "# Apesar do Fornecedor A apresentar peças mais duráveis o Fornecedor B apresenta menor desvio padrao, \n",
        "# o que significa uma amostra mais homogênea"
      ],
      "execution_count": null,
      "outputs": []
    },
    {
      "cell_type": "markdown",
      "metadata": {
        "id": "iKgZCX8iQSKr",
        "colab_type": "text"
      },
      "source": [
        "12) Relembrando o estudo para verificar o tempo que um semaforo de pedestres deve ficar aberto para que idosos possam atravessar com seguranca, verificamos que os seguintes dados para tempo (em segundos) foram computados:\n",
        "\n",
        "Dados: [21,4; 15,1; 13,6; 16,0; 15,0; 19,1; 21,0; 14,2; 15,6; 20,1; 21,1; 22,2].\n",
        "\n",
        "Ache os percentis e indique quantos idosos ficaram acima do terceiro percentil."
      ]
    },
    {
      "cell_type": "code",
      "metadata": {
        "id": "UsTn_AOyQSKs",
        "colab_type": "code",
        "colab": {
          "base_uri": "https://localhost:8080/",
          "height": 85
        },
        "outputId": "4a512546-b290-4b81-d7e7-e33da7d7287a"
      },
      "source": [
        "dados = [21.4, 15.1, 13.6, 16.0, 15.0, 19.1, 21.0, 14.2, 15.6, 20.1, 21.1, 22.2]\n",
        "median, q1, q3 = np.percentile(dados, 50), np.percentile(dados, 25), np.percentile(dados, 75)\n",
        "print('Primeiro percentil: ', q1)\n",
        "print('Mediana: ', median)\n",
        "print('Terceiro percentil: ', q3)\n",
        "\n",
        "idosos_acima_do_terceiro_percentil = 0\n",
        "\n",
        "for dado in dados:\n",
        "  if dado > q3:\n",
        "    idosos_acima_do_terceiro_percentil += 1\n",
        "\n",
        "print(idosos_acima_do_terceiro_percentil, ' idosos ficaram acima do terceiro percentil')"
      ],
      "execution_count": null,
      "outputs": [
        {
          "output_type": "stream",
          "text": [
            "Primeiro percentil:  15.075\n",
            "Mediana:  17.55\n",
            "Terceiro percentil:  21.025\n",
            "3  idosos ficaram acima do terceiro percentil\n"
          ],
          "name": "stdout"
        }
      ]
    }
  ]
}