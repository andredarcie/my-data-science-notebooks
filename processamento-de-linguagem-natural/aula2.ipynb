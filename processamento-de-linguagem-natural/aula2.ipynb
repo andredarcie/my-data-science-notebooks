{
 "metadata": {
  "language_info": {
   "codemirror_mode": {
    "name": "ipython",
    "version": 3
   },
   "file_extension": ".py",
   "mimetype": "text/x-python",
   "name": "python",
   "nbconvert_exporter": "python",
   "pygments_lexer": "ipython3",
   "version": "3.8.5"
  },
  "orig_nbformat": 2,
  "kernelspec": {
   "name": "python385jvsc74a57bd02db524e06e9f5f4ffedc911c917cb75e12dbc923643829bf417064a77eb14d37",
   "display_name": "Python 3.8.5 64-bit"
  },
  "metadata": {
   "interpreter": {
    "hash": "2db524e06e9f5f4ffedc911c917cb75e12dbc923643829bf417064a77eb14d37"
   }
  }
 },
 "nbformat": 4,
 "nbformat_minor": 2,
 "cells": [
  {
   "cell_type": "code",
   "execution_count": 1,
   "metadata": {},
   "outputs": [],
   "source": [
    "import nltk"
   ]
  },
  {
   "source": [
    "## Stemizacao"
   ],
   "cell_type": "markdown",
   "metadata": {}
  },
  {
   "cell_type": "code",
   "execution_count": 4,
   "metadata": {},
   "outputs": [],
   "source": [
    "from nltk.stem.snowball import SnowballStemmer\n",
    "\n",
    "# É importante definir a lingua\n",
    "stemizador = SnowballStemmer('portuguese')"
   ]
  },
  {
   "cell_type": "code",
   "execution_count": 12,
   "metadata": {},
   "outputs": [],
   "source": [
    "lista_palavras = 'correr correndo correste corremos corrido corrida inteligente inteligentes inteligência'"
   ]
  },
  {
   "cell_type": "code",
   "execution_count": 13,
   "metadata": {},
   "outputs": [
    {
     "output_type": "stream",
     "name": "stdout",
     "text": [
      "correr  =  corr\ncorrendo  =  corr\ncorreste  =  corr\ncorremos  =  corr\ncorrido  =  corr\ncorrida  =  corr\ninteligente  =  inteligent\ninteligentes  =  inteligent\ninteligência  =  inteligent\n"
     ]
    }
   ],
   "source": [
    "for palavra in nltk.word_tokenize(lista_palavras):\n",
    "    print(palavra, ' = ', stemizador.stem(palavra))"
   ]
  },
  {
   "source": [
    "## Lematizacao"
   ],
   "cell_type": "markdown",
   "metadata": {}
  },
  {
   "cell_type": "code",
   "execution_count": 16,
   "metadata": {},
   "outputs": [
    {
     "output_type": "stream",
     "name": "stdout",
     "text": [
      "Collecting spacy\n",
      "  Using cached spacy-3.0.5-cp38-cp38-win_amd64.whl (11.8 MB)\n",
      "Requirement already satisfied: pathy>=0.3.5 in c:\\python38\\lib\\site-packages (from spacy) (0.4.0)\n",
      "Collecting jinja2\n",
      "  Using cached Jinja2-2.11.3-py2.py3-none-any.whl (125 kB)\n",
      "Requirement already satisfied: pydantic<1.8.0,>=1.7.1 in c:\\python38\\lib\\site-packages (from spacy) (1.7.3)\n",
      "Requirement already satisfied: cymem<2.1.0,>=2.0.2 in c:\\python38\\lib\\site-packages (from spacy) (2.0.5)\n",
      "Requirement already satisfied: typer<0.4.0,>=0.3.0 in c:\\python38\\lib\\site-packages (from spacy) (0.3.2)\n",
      "Requirement already satisfied: srsly<3.0.0,>=2.4.0 in c:\\python38\\lib\\site-packages (from spacy) (2.4.0)\n",
      "Requirement already satisfied: catalogue<2.1.0,>=2.0.1 in c:\\python38\\lib\\site-packages (from spacy) (2.0.1)\n",
      "Requirement already satisfied: tqdm<5.0.0,>=4.38.0 in c:\\python38\\lib\\site-packages (from spacy) (4.59.0)\n",
      "Requirement already satisfied: spacy-legacy<3.1.0,>=3.0.0 in c:\\python38\\lib\\site-packages (from spacy) (3.0.1)\n",
      "Requirement already satisfied: numpy>=1.15.0 in c:\\python38\\lib\\site-packages (from spacy) (1.20.1)\n",
      "Requirement already satisfied: murmurhash<1.1.0,>=0.28.0 in c:\\python38\\lib\\site-packages (from spacy) (1.0.5)\n",
      "Requirement already satisfied: requests<3.0.0,>=2.13.0 in c:\\python38\\lib\\site-packages (from spacy) (2.24.0)\n",
      "Collecting packaging>=20.0\n",
      "  Using cached packaging-20.9-py2.py3-none-any.whl (40 kB)\n",
      "Requirement already satisfied: preshed<3.1.0,>=3.0.2 in c:\\python38\\lib\\site-packages (from spacy) (3.0.5)\n",
      "Requirement already satisfied: blis<0.8.0,>=0.4.0 in c:\\python38\\lib\\site-packages (from spacy) (0.7.4)\n",
      "Requirement already satisfied: wasabi<1.1.0,>=0.8.1 in c:\\python38\\lib\\site-packages (from spacy) (0.8.2)\n",
      "Requirement already satisfied: thinc<8.1.0,>=8.0.2 in c:\\python38\\lib\\site-packages (from spacy) (8.0.2)\n",
      "Requirement already satisfied: setuptools in c:\\python38\\lib\\site-packages (from spacy) (47.1.0)\n",
      "Requirement already satisfied: smart-open<4.0.0,>=2.2.0 in c:\\python38\\lib\\site-packages (from pathy>=0.3.5->spacy) (3.0.0)\n",
      "Collecting MarkupSafe>=0.23\n",
      "  Using cached MarkupSafe-1.1.1-cp38-cp38-win_amd64.whl (16 kB)\n",
      "Requirement already satisfied: click<7.2.0,>=7.1.1 in c:\\python38\\lib\\site-packages (from typer<0.4.0,>=0.3.0->spacy) (7.1.2)\n",
      "Requirement already satisfied: urllib3!=1.25.0,!=1.25.1,<1.26,>=1.21.1 in c:\\python38\\lib\\site-packages (from requests<3.0.0,>=2.13.0->spacy) (1.25.10)\n",
      "Requirement already satisfied: certifi>=2017.4.17 in c:\\python38\\lib\\site-packages (from requests<3.0.0,>=2.13.0->spacy) (2020.6.20)\n",
      "Requirement already satisfied: idna<3,>=2.5 in c:\\python38\\lib\\site-packages (from requests<3.0.0,>=2.13.0->spacy) (2.10)\n",
      "Requirement already satisfied: chardet<4,>=3.0.2 in c:\\python38\\lib\\site-packages (from requests<3.0.0,>=2.13.0->spacy) (3.0.4)\n",
      "Requirement already satisfied: pyparsing>=2.0.2 in c:\\python38\\lib\\site-packages (from packaging>=20.0->spacy) (2.4.7)\n",
      "Installing collected packages: MarkupSafe, jinja2, packaging, spacy\n",
      "  WARNING: Failed to write executable - trying to use .deleteme logic\n",
      "ERROR: Could not install packages due to an EnvironmentError: [WinError 2] O sistema não pode encontrar o arquivo especificado: 'c:\\\\python38\\\\Scripts\\\\spacy.exe' -> 'c:\\\\python38\\\\Scripts\\\\spacy.exe.deleteme'\n",
      "\n",
      "WARNING: You are using pip version 20.2.2; however, version 21.0.1 is available.\n",
      "You should consider upgrading via the 'c:\\python38\\python.exe -m pip install --upgrade pip' command.\n"
     ]
    }
   ],
   "source": [
    "!pip install spacy"
   ]
  },
  {
   "cell_type": "code",
   "execution_count": 18,
   "metadata": {},
   "outputs": [],
   "source": [
    "import spacy"
   ]
  },
  {
   "cell_type": "code",
   "execution_count": 20,
   "metadata": {},
   "outputs": [
    {
     "output_type": "stream",
     "name": "stdout",
     "text": [
      "Collecting pt-core-news-sm==3.0.0\n",
      "  Downloading https://github.com/explosion/spacy-models/releases/download/pt_core_news_sm-3.0.0/pt_core_news_sm-3.0.0-py3-none-any.whl (22.1 MB)\n",
      "Requirement already satisfied: spacy<3.1.0,>=3.0.0 in c:\\python38\\lib\\site-packages (from pt-core-news-sm==3.0.0) (3.0.5)\n",
      "Requirement already satisfied: tqdm<5.0.0,>=4.38.0 in c:\\python38\\lib\\site-packages (from spacy<3.1.0,>=3.0.0->pt-core-news-sm==3.0.0) (4.59.0)\n",
      "Requirement already satisfied: requests<3.0.0,>=2.13.0 in c:\\python38\\lib\\site-packages (from spacy<3.1.0,>=3.0.0->pt-core-news-sm==3.0.0) (2.24.0)\n",
      "Requirement already satisfied: spacy-legacy<3.1.0,>=3.0.0 in c:\\python38\\lib\\site-packages (from spacy<3.1.0,>=3.0.0->pt-core-news-sm==3.0.0) (3.0.1)\n",
      "Requirement already satisfied: pathy>=0.3.5 in c:\\python38\\lib\\site-packages (from spacy<3.1.0,>=3.0.0->pt-core-news-sm==3.0.0) (0.4.0)\n",
      "Requirement already satisfied: srsly<3.0.0,>=2.4.0 in c:\\python38\\lib\\site-packages (from spacy<3.1.0,>=3.0.0->pt-core-news-sm==3.0.0) (2.4.0)\n",
      "Requirement already satisfied: numpy>=1.15.0 in c:\\python38\\lib\\site-packages (from spacy<3.1.0,>=3.0.0->pt-core-news-sm==3.0.0) (1.20.1)\n",
      "Requirement already satisfied: wasabi<1.1.0,>=0.8.1 in c:\\python38\\lib\\site-packages (from spacy<3.1.0,>=3.0.0->pt-core-news-sm==3.0.0) (0.8.2)\n",
      "Requirement already satisfied: jinja2 in c:\\python38\\lib\\site-packages (from spacy<3.1.0,>=3.0.0->pt-core-news-sm==3.0.0) (2.11.3)\n",
      "Requirement already satisfied: cymem<2.1.0,>=2.0.2 in c:\\python38\\lib\\site-packages (from spacy<3.1.0,>=3.0.0->pt-core-news-sm==3.0.0) (2.0.5)\n",
      "Requirement already satisfied: preshed<3.1.0,>=3.0.2 in c:\\python38\\lib\\site-packages (from spacy<3.1.0,>=3.0.0->pt-core-news-sm==3.0.0) (3.0.5)\n",
      "Requirement already satisfied: blis<0.8.0,>=0.4.0 in c:\\python38\\lib\\site-packages (from spacy<3.1.0,>=3.0.0->pt-core-news-sm==3.0.0) (0.7.4)\n",
      "Requirement already satisfied: murmurhash<1.1.0,>=0.28.0 in c:\\python38\\lib\\site-packages (from spacy<3.1.0,>=3.0.0->pt-core-news-sm==3.0.0) (1.0.5)\n",
      "Requirement already satisfied: typer<0.4.0,>=0.3.0 in c:\\python38\\lib\\site-packages (from spacy<3.1.0,>=3.0.0->pt-core-news-sm==3.0.0) (0.3.2)\n",
      "Requirement already satisfied: setuptools in c:\\python38\\lib\\site-packages (from spacy<3.1.0,>=3.0.0->pt-core-news-sm==3.0.0) (47.1.0)\n",
      "Requirement already satisfied: packaging>=20.0 in c:\\python38\\lib\\site-packages (from spacy<3.1.0,>=3.0.0->pt-core-news-sm==3.0.0) (20.9)\n",
      "Requirement already satisfied: pydantic<1.8.0,>=1.7.1 in c:\\python38\\lib\\site-packages (from spacy<3.1.0,>=3.0.0->pt-core-news-sm==3.0.0) (1.7.3)\n",
      "Requirement already satisfied: catalogue<2.1.0,>=2.0.1 in c:\\python38\\lib\\site-packages (from spacy<3.1.0,>=3.0.0->pt-core-news-sm==3.0.0) (2.0.1)\n",
      "Requirement already satisfied: thinc<8.1.0,>=8.0.2 in c:\\python38\\lib\\site-packages (from spacy<3.1.0,>=3.0.0->pt-core-news-sm==3.0.0) (8.0.2)\n",
      "Requirement already satisfied: urllib3!=1.25.0,!=1.25.1,<1.26,>=1.21.1 in c:\\python38\\lib\\site-packages (from requests<3.0.0,>=2.13.0->spacy<3.1.0,>=3.0.0->pt-core-news-sm==3.0.0) (1.25.10)\n",
      "Requirement already satisfied: certifi>=2017.4.17 in c:\\python38\\lib\\site-packages (from requests<3.0.0,>=2.13.0->spacy<3.1.0,>=3.0.0->pt-core-news-sm==3.0.0) (2020.6.20)\n",
      "Requirement already satisfied: idna<3,>=2.5 in c:\\python38\\lib\\site-packages (from requests<3.0.0,>=2.13.0->spacy<3.1.0,>=3.0.0->pt-core-news-sm==3.0.0) (2.10)\n",
      "Requirement already satisfied: chardet<4,>=3.0.2 in c:\\python38\\lib\\site-packages (from requests<3.0.0,>=2.13.0->spacy<3.1.0,>=3.0.0->pt-core-news-sm==3.0.0) (3.0.4)\n",
      "Requirement already satisfied: smart-open<4.0.0,>=2.2.0 in c:\\python38\\lib\\site-packages (from pathy>=0.3.5->spacy<3.1.0,>=3.0.0->pt-core-news-sm==3.0.0) (3.0.0)\n",
      "Requirement already satisfied: MarkupSafe>=0.23 in c:\\python38\\lib\\site-packages (from jinja2->spacy<3.1.0,>=3.0.0->pt-core-news-sm==3.0.0) (1.1.1)\n",
      "Requirement already satisfied: click<7.2.0,>=7.1.1 in c:\\python38\\lib\\site-packages (from typer<0.4.0,>=0.3.0->spacy<3.1.0,>=3.0.0->pt-core-news-sm==3.0.0) (7.1.2)\n",
      "Requirement already satisfied: pyparsing>=2.0.2 in c:\\python38\\lib\\site-packages (from packaging>=20.0->spacy<3.1.0,>=3.0.0->pt-core-news-sm==3.0.0) (2.4.7)\n",
      "Installing collected packages: pt-core-news-sm\n",
      "Successfully installed pt-core-news-sm-3.0.0\n",
      "✔ Download and installation successful\n",
      "You can now load the package via spacy.load('pt_core_news_sm')\n",
      "WARNING: You are using pip version 20.2.2; however, version 21.0.1 is available.\n",
      "You should consider upgrading via the 'C:\\Python38\\python.exe -m pip install --upgrade pip' command.\n"
     ]
    }
   ],
   "source": [
    "!python -m spacy download pt_core_news_sm"
   ]
  },
  {
   "cell_type": "code",
   "execution_count": 22,
   "metadata": {},
   "outputs": [
    {
     "output_type": "execute_result",
     "data": {
      "text/plain": [
       "<spacy.lang.pt.Portuguese at 0x1d3d88f1df0>"
      ]
     },
     "metadata": {},
     "execution_count": 22
    }
   ],
   "source": [
    "pln = spacy.load('pt_core_news_sm')\n",
    "pln"
   ]
  },
  {
   "cell_type": "code",
   "execution_count": 29,
   "metadata": {},
   "outputs": [],
   "source": [
    "palavras = pln(lista_palavras)"
   ]
  },
  {
   "cell_type": "code",
   "execution_count": 30,
   "metadata": {},
   "outputs": [
    {
     "output_type": "stream",
     "name": "stdout",
     "text": [
      "correr  =  correr\ncorrendo  =  correr\ncorreste  =  correr\ncorremos  =  correr\ncorrido  =  correr\ncorrida  =  corrido\ninteligente  =  inteligente\ninteligentes  =  inteligente\ninteligência  =  inteligência\n"
     ]
    }
   ],
   "source": [
    "# Spacy já separa as palavras em tokens\n",
    "for palavra in palavras:\n",
    "    print(palavra.text, ' = ', palavra.lemma_)"
   ]
  }
 ]
}