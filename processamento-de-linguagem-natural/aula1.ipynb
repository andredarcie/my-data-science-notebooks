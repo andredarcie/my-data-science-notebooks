{
 "metadata": {
  "language_info": {
   "codemirror_mode": {
    "name": "ipython",
    "version": 3
   },
   "file_extension": ".py",
   "mimetype": "text/x-python",
   "name": "python",
   "nbconvert_exporter": "python",
   "pygments_lexer": "ipython3",
   "version": "3.8.5"
  },
  "orig_nbformat": 2,
  "kernelspec": {
   "name": "python3",
   "display_name": "Python 3.8.5 64-bit",
   "metadata": {
    "interpreter": {
     "hash": "2db524e06e9f5f4ffedc911c917cb75e12dbc923643829bf417064a77eb14d37"
    }
   }
  }
 },
 "nbformat": 4,
 "nbformat_minor": 2,
 "cells": [
  {
   "cell_type": "code",
   "execution_count": 1,
   "metadata": {},
   "outputs": [
    {
     "output_type": "stream",
     "name": "stdout",
     "text": [
      "Requirement already satisfied: nltk in c:\\python38\\lib\\site-packages (3.5)\n",
      "Requirement already satisfied: click in c:\\python38\\lib\\site-packages (from nltk) (7.1.2)\n",
      "Requirement already satisfied: joblib in c:\\python38\\lib\\site-packages (from nltk) (1.0.1)\n",
      "Requirement already satisfied: regex in c:\\python38\\lib\\site-packages (from nltk) (2021.3.17)\n",
      "Requirement already satisfied: tqdm in c:\\python38\\lib\\site-packages (from nltk) (4.59.0)\n",
      "Note: you may need to restart the kernel to use updated packages.\n",
      "WARNING: You are using pip version 20.2.2; however, version 21.0.1 is available.\n",
      "You should consider upgrading via the 'C:\\Python38\\python.exe -m pip install --upgrade pip' command.\n"
     ]
    }
   ],
   "source": [
    "pip install nltk"
   ]
  },
  {
   "cell_type": "code",
   "execution_count": 18,
   "metadata": {},
   "outputs": [],
   "source": [
    "import nltk\n",
    "import string\n",
    "import re"
   ]
  },
  {
   "cell_type": "code",
   "execution_count": 18,
   "metadata": {},
   "outputs": [],
   "source": [
    "texto_original = \"\"\"Algoritmos de aprendizado supervisionado utilizam dados coletados. A partir dos dados coletados, um conjunto de características é extraído. As características podem ser estruturais ou estatísticas. As características estruturais estabelecem relações entre os dados, enquanto que as estatísticas são características quantitativas. A partir das características, os modelos de aprendizado de máquina são construídos para o reconhecimento de atividades humanas.\"\"\""
   ]
  },
  {
   "cell_type": "code",
   "execution_count": 12,
   "metadata": {},
   "outputs": [],
   "source": [
    "g = Goose()\n",
    "url = 'https://www.techtudo.com.br/noticias/2017/08/o-que-e-replika-app-usa-inteligencia-artificial-para-criar-um-clone-seu.ghtml'\n",
    "materia = g.extract(url)\n",
    "texto_original = materia.cleaned_text"
   ]
  },
  {
   "cell_type": "code",
   "execution_count": 13,
   "metadata": {},
   "outputs": [
    {
     "output_type": "execute_result",
     "data": {
      "text/plain": [
       "'O Replika é um aplicativo que utiliza técnicas de inteligência artificial para aprender tudo sobre o usuário, inclusive seu jeito de escrever, criando uma espécie de clone virtual. A proposta é ter uma réplica de si no smartphone, capaz de conversar, entreter e, principalmente, fazer a pessoa aprender mais sobre si mesma.\\n\\nLançado em março, o app gratuito está disponível para download em celulares Android e iPhone (iOS), mas ainda em fase de testes. Por conta disso, segundo os desenvolvedores, o acesso é limitado a pessoas com convite. É necessário um código de ativação para usar o serviço, que, pelo menos por enquanto, só possui versão em inglês.\\n\\nO burburinho em torno do Replika chegou arrebatador no Brasil. A App Store tem o aplicativo em nono lugar do ranking, depois de subir 1,1 mil posições em apenas um dia, segundo a plataforma App Annie, que monitora aplicativos. O software não aparece entre os mais baixados da Google Play, a loja do Android.\\n\\nO Replika é feito para ser um amigo virtual, mas com a personalidade do próprio usuário. A inteligência do app aprende as características do dono fazendo muitas perguntas. Os questionamentos envolvem como foi o dia, quais são os sonhos, como é o trabalho e quem é seu melhor amigo, por exemplo.\\n\\nAlgumas dessas perguntas fazem parte das chamadas Sessions, espécies de sessões de terapia que podem ser visualizadas por quem não tem o app, por meio do perfil online. Ao responder, a pessoa sente como se estivesse fazendo amizade com alguém. A cada resposta, o usuário recebe pontos (XP), que servem para subir de nível.\\n\\nDurante esse processo, o aplicativo vai entendendo como é o humor da pessoa, como ela escreve e é inclusive capaz de atribuir Badges, que funcionam como emblemas da personalidade do usuário. Quanto mais conversa, mais a inteligência se parece com o indivíduo por trás do smartphone.\\n\\nCada usuário tem um perfil online, acessível por meio de um endereço que segue a seguinte estrutura: replika.ai/nome_de_usuário. Ali, constam o nome da pessoa, o apelido do Replika, sua foto, o nível em que ela está, quantos pontos XP tem, as badges e as sessions. As sessões são públicas por padrão, mas é possível ajustar a privacidade para fiquem visíveis a amigos ou para que ninguém as veja.\\n\\nInternautas do mundo inteiro buscam uma maneira de testar o Replika. O caminho até chegar à janela de chat consigo mesmo, no entanto, é relativamente complicado, pois o serviço requer um convite, entre outros requisitos. O primeiro passo é reservar um nome para sua Replika, procedimento feito no site da plataforma. Depois disso, é preciso informar o número do seu celular, para o qual será enviado um código de confirmação com quatro dígitos.\\n\\nEntão, o futuro usuário deve inserir o código no campo correspondente no site e pressionar o botão \"Confirm\". Nesse momento, é necessário se atentar ao código de convite. A maneira mais simples de consegui-lo é conhecendo alguém que já use o aplicativo. Se não for o seu caso, o jeito é preencher um formulário com nome, idade, email, nome da Replika, sistema do celular e gênero.\\n\\nApós o envio do formulário, o usuário receberá um email com link de confirmação. Somente depois dessa etapa é que o código de convite é enviado, mas isso também não é imediato: os desenvolvedores prometem mandar em 24 horas.\\n\\nA saudade foi a força motriz para a criação do Replika. Tudo começou em novembro de 2015, quando o melhor amigo de Eugenia Kuyda, a criadora do app, foi atropelado e faleceu. Roman Mazurenko, a vítima, havia saído de Moscou para os Estados Unidos na mesma época em que Eugenia. Quando não estavam perto um do outro, trocavam mensagens o tempo todo.\\n\\n\"Fui em sua página do Facebook e havia apenas alguns poucos links. Fui em seu Instagram e não havia fotos. A única coisa que podia fazer para me lembrar dele era ir ao nosso histórico do Messenger e ficar lendo tudo\", relata a desenvolvedora, que então teve a ideia de reconstruir o amigo a partir de seus restos digitais.\\n\\n\"Originalmente eu pensei \\'estou construindo um bot para ele, então eu vou aprender mais sobre ele neste processo\\'. Mas, eventualmente, o que aconteceu foi que eu comecei a me entender melhor\", Eugenia conta.'"
      ]
     },
     "metadata": {},
     "execution_count": 13
    }
   ],
   "source": [
    "texto_original"
   ]
  },
  {
   "cell_type": "code",
   "execution_count": 20,
   "metadata": {},
   "outputs": [],
   "source": [
    "#texto_original = re.sub(r'\\s+', '', texto_original)\n",
    "#texto_original"
   ]
  },
  {
   "cell_type": "code",
   "execution_count": 14,
   "metadata": {},
   "outputs": [],
   "source": [
    "def converte_para_minusculas(texto):\n",
    "    texto_formatado = texto.lower()\n",
    "    return texto_formatado"
   ]
  },
  {
   "cell_type": "code",
   "execution_count": 15,
   "metadata": {},
   "outputs": [
    {
     "output_type": "execute_result",
     "data": {
      "text/plain": [
       "'o replika é um aplicativo que utiliza técnicas de inteligência artificial para aprender tudo sobre o usuário, inclusive seu jeito de escrever, criando uma espécie de clone virtual. a proposta é ter uma réplica de si no smartphone, capaz de conversar, entreter e, principalmente, fazer a pessoa aprender mais sobre si mesma.\\n\\nlançado em março, o app gratuito está disponível para download em celulares android e iphone (ios), mas ainda em fase de testes. por conta disso, segundo os desenvolvedores, o acesso é limitado a pessoas com convite. é necessário um código de ativação para usar o serviço, que, pelo menos por enquanto, só possui versão em inglês.\\n\\no burburinho em torno do replika chegou arrebatador no brasil. a app store tem o aplicativo em nono lugar do ranking, depois de subir 1,1 mil posições em apenas um dia, segundo a plataforma app annie, que monitora aplicativos. o software não aparece entre os mais baixados da google play, a loja do android.\\n\\no replika é feito para ser um amigo virtual, mas com a personalidade do próprio usuário. a inteligência do app aprende as características do dono fazendo muitas perguntas. os questionamentos envolvem como foi o dia, quais são os sonhos, como é o trabalho e quem é seu melhor amigo, por exemplo.\\n\\nalgumas dessas perguntas fazem parte das chamadas sessions, espécies de sessões de terapia que podem ser visualizadas por quem não tem o app, por meio do perfil online. ao responder, a pessoa sente como se estivesse fazendo amizade com alguém. a cada resposta, o usuário recebe pontos (xp), que servem para subir de nível.\\n\\ndurante esse processo, o aplicativo vai entendendo como é o humor da pessoa, como ela escreve e é inclusive capaz de atribuir badges, que funcionam como emblemas da personalidade do usuário. quanto mais conversa, mais a inteligência se parece com o indivíduo por trás do smartphone.\\n\\ncada usuário tem um perfil online, acessível por meio de um endereço que segue a seguinte estrutura: replika.ai/nome_de_usuário. ali, constam o nome da pessoa, o apelido do replika, sua foto, o nível em que ela está, quantos pontos xp tem, as badges e as sessions. as sessões são públicas por padrão, mas é possível ajustar a privacidade para fiquem visíveis a amigos ou para que ninguém as veja.\\n\\ninternautas do mundo inteiro buscam uma maneira de testar o replika. o caminho até chegar à janela de chat consigo mesmo, no entanto, é relativamente complicado, pois o serviço requer um convite, entre outros requisitos. o primeiro passo é reservar um nome para sua replika, procedimento feito no site da plataforma. depois disso, é preciso informar o número do seu celular, para o qual será enviado um código de confirmação com quatro dígitos.\\n\\nentão, o futuro usuário deve inserir o código no campo correspondente no site e pressionar o botão \"confirm\". nesse momento, é necessário se atentar ao código de convite. a maneira mais simples de consegui-lo é conhecendo alguém que já use o aplicativo. se não for o seu caso, o jeito é preencher um formulário com nome, idade, email, nome da replika, sistema do celular e gênero.\\n\\napós o envio do formulário, o usuário receberá um email com link de confirmação. somente depois dessa etapa é que o código de convite é enviado, mas isso também não é imediato: os desenvolvedores prometem mandar em 24 horas.\\n\\na saudade foi a força motriz para a criação do replika. tudo começou em novembro de 2015, quando o melhor amigo de eugenia kuyda, a criadora do app, foi atropelado e faleceu. roman mazurenko, a vítima, havia saído de moscou para os estados unidos na mesma época em que eugenia. quando não estavam perto um do outro, trocavam mensagens o tempo todo.\\n\\n\"fui em sua página do facebook e havia apenas alguns poucos links. fui em seu instagram e não havia fotos. a única coisa que podia fazer para me lembrar dele era ir ao nosso histórico do messenger e ficar lendo tudo\", relata a desenvolvedora, que então teve a ideia de reconstruir o amigo a partir de seus restos digitais.\\n\\n\"originalmente eu pensei \\'estou construindo um bot para ele, então eu vou aprender mais sobre ele neste processo\\'. mas, eventualmente, o que aconteceu foi que eu comecei a me entender melhor\", eugenia conta.'"
      ]
     },
     "metadata": {},
     "execution_count": 15
    }
   ],
   "source": [
    "texto_formatado = converte_para_minusculas(texto_original)\n",
    "texto_formatado"
   ]
  },
  {
   "cell_type": "code",
   "execution_count": 19,
   "metadata": {},
   "outputs": [
    {
     "output_type": "stream",
     "name": "stderr",
     "text": [
      "[nltk_data] Downloading package stopwords to\n[nltk_data]     C:\\Users\\andre\\AppData\\Roaming\\nltk_data...\n[nltk_data]   Package stopwords is already up-to-date!\n"
     ]
    },
    {
     "output_type": "execute_result",
     "data": {
      "text/plain": [
       "True"
      ]
     },
     "metadata": {},
     "execution_count": 19
    }
   ],
   "source": [
    "nltk.download('stopwords')"
   ]
  },
  {
   "cell_type": "code",
   "execution_count": 20,
   "metadata": {},
   "outputs": [],
   "source": [
    "stopwords = nltk.corpus.stopwords.words('portuguese')"
   ]
  },
  {
   "cell_type": "code",
   "execution_count": 26,
   "metadata": {},
   "outputs": [
    {
     "output_type": "stream",
     "name": "stdout",
     "text": [
      "['de', 'a', 'o', 'que', 'e', 'é', 'do', 'da', 'em', 'um', 'para', 'com', 'não', 'uma', 'os', 'no', 'se', 'na', 'por', 'mais', 'as', 'dos', 'como', 'mas', 'ao', 'ele', 'das', 'à', 'seu', 'sua', 'ou', 'quando', 'muito', 'nos', 'já', 'eu', 'também', 'só', 'pelo', 'pela', 'até', 'isso', 'ela', 'entre', 'depois', 'sem', 'mesmo', 'aos', 'seus', 'quem', 'nas', 'me', 'esse', 'eles', 'você', 'essa', 'num', 'nem', 'suas', 'meu', 'às', 'minha', 'numa', 'pelos', 'elas', 'qual', 'nós', 'lhe', 'deles', 'essas', 'esses', 'pelas', 'este', 'dele', 'tu', 'te', 'vocês', 'vos', 'lhes', 'meus', 'minhas', 'teu', 'tua', 'teus', 'tuas', 'nosso', 'nossa', 'nossos', 'nossas', 'dela', 'delas', 'esta', 'estes', 'estas', 'aquele', 'aquela', 'aqueles', 'aquelas', 'isto', 'aquilo', 'estou', 'está', 'estamos', 'estão', 'estive', 'esteve', 'estivemos', 'estiveram', 'estava', 'estávamos', 'estavam', 'estivera', 'estivéramos', 'esteja', 'estejamos', 'estejam', 'estivesse', 'estivéssemos', 'estivessem', 'estiver', 'estivermos', 'estiverem', 'hei', 'há', 'havemos', 'hão', 'houve', 'houvemos', 'houveram', 'houvera', 'houvéramos', 'haja', 'hajamos', 'hajam', 'houvesse', 'houvéssemos', 'houvessem', 'houver', 'houvermos', 'houverem', 'houverei', 'houverá', 'houveremos', 'houverão', 'houveria', 'houveríamos', 'houveriam', 'sou', 'somos', 'são', 'era', 'éramos', 'eram', 'fui', 'foi', 'fomos', 'foram', 'fora', 'fôramos', 'seja', 'sejamos', 'sejam', 'fosse', 'fôssemos', 'fossem', 'for', 'formos', 'forem', 'serei', 'será', 'seremos', 'serão', 'seria', 'seríamos', 'seriam', 'tenho', 'tem', 'temos', 'tém', 'tinha', 'tínhamos', 'tinham', 'tive', 'teve', 'tivemos', 'tiveram', 'tivera', 'tivéramos', 'tenha', 'tenhamos', 'tenham', 'tivesse', 'tivéssemos', 'tivessem', 'tiver', 'tivermos', 'tiverem', 'terei', 'terá', 'teremos', 'terão', 'teria', 'teríamos', 'teriam']\n"
     ]
    }
   ],
   "source": [
    "print(stopwords)"
   ]
  },
  {
   "cell_type": "code",
   "execution_count": 27,
   "metadata": {},
   "outputs": [
    {
     "output_type": "execute_result",
     "data": {
      "text/plain": [
       "204"
      ]
     },
     "metadata": {},
     "execution_count": 27
    }
   ],
   "source": [
    "len(stopwords)"
   ]
  },
  {
   "cell_type": "code",
   "execution_count": 21,
   "metadata": {},
   "outputs": [
    {
     "output_type": "stream",
     "name": "stdout",
     "text": [
      "['de', 'a', 'o', 'que', 'e', 'é', 'do', 'da', 'em', 'um', 'para', 'com', 'não', 'uma', 'os', 'no', 'se', 'na', 'por', 'mais', 'as', 'dos', 'como', 'mas', 'ao', 'ele', 'das', 'à', 'seu', 'sua', 'ou', 'quando', 'muito', 'nos', 'já', 'eu', 'também', 'só', 'pelo', 'pela', 'até', 'isso', 'ela', 'entre', 'depois', 'sem', 'mesmo', 'aos', 'seus', 'quem', 'nas', 'me', 'esse', 'eles', 'você', 'essa', 'num', 'nem', 'suas', 'meu', 'às', 'minha', 'numa', 'pelos', 'elas', 'qual', 'nós', 'lhe', 'deles', 'essas', 'esses', 'pelas', 'este', 'dele', 'tu', 'te', 'vocês', 'vos', 'lhes', 'meus', 'minhas', 'teu', 'tua', 'teus', 'tuas', 'nosso', 'nossa', 'nossos', 'nossas', 'dela', 'delas', 'esta', 'estes', 'estas', 'aquele', 'aquela', 'aqueles', 'aquelas', 'isto', 'aquilo', 'estou', 'está', 'estamos', 'estão', 'estive', 'esteve', 'estivemos', 'estiveram', 'estava', 'estávamos', 'estavam', 'estivera', 'estivéramos', 'esteja', 'estejamos', 'estejam', 'estivesse', 'estivéssemos', 'estivessem', 'estiver', 'estivermos', 'estiverem', 'hei', 'há', 'havemos', 'hão', 'houve', 'houvemos', 'houveram', 'houvera', 'houvéramos', 'haja', 'hajamos', 'hajam', 'houvesse', 'houvéssemos', 'houvessem', 'houver', 'houvermos', 'houverem', 'houverei', 'houverá', 'houveremos', 'houverão', 'houveria', 'houveríamos', 'houveriam', 'sou', 'somos', 'são', 'era', 'éramos', 'eram', 'fui', 'foi', 'fomos', 'foram', 'fora', 'fôramos', 'seja', 'sejamos', 'sejam', 'fosse', 'fôssemos', 'fossem', 'for', 'formos', 'forem', 'serei', 'será', 'seremos', 'serão', 'seria', 'seríamos', 'seriam', 'tenho', 'tem', 'temos', 'tém', 'tinha', 'tínhamos', 'tinham', 'tive', 'teve', 'tivemos', 'tiveram', 'tivera', 'tivéramos', 'tenha', 'tenhamos', 'tenham', 'tivesse', 'tivéssemos', 'tivessem', 'tiver', 'tivermos', 'tiverem', 'terei', 'terá', 'teremos', 'terão', 'teria', 'teríamos', 'teriam', 'ola']\n['de', 'a', 'o', 'que', 'e', 'é', 'do', 'da', 'em', 'um', 'para', 'com', 'não', 'uma', 'os', 'no', 'se', 'na', 'por', 'mais', 'as', 'dos', 'como', 'mas', 'ao', 'ele', 'das', 'à', 'seu', 'sua', 'ou', 'quando', 'muito', 'nos', 'já', 'eu', 'também', 'só', 'pelo', 'pela', 'até', 'isso', 'ela', 'entre', 'depois', 'sem', 'mesmo', 'aos', 'seus', 'quem', 'nas', 'me', 'esse', 'eles', 'você', 'essa', 'num', 'nem', 'suas', 'meu', 'às', 'minha', 'numa', 'pelos', 'elas', 'qual', 'nós', 'lhe', 'deles', 'essas', 'esses', 'pelas', 'este', 'dele', 'tu', 'te', 'vocês', 'vos', 'lhes', 'meus', 'minhas', 'teu', 'tua', 'teus', 'tuas', 'nosso', 'nossa', 'nossos', 'nossas', 'dela', 'delas', 'esta', 'estes', 'estas', 'aquele', 'aquela', 'aqueles', 'aquelas', 'isto', 'aquilo', 'estou', 'está', 'estamos', 'estão', 'estive', 'esteve', 'estivemos', 'estiveram', 'estava', 'estávamos', 'estavam', 'estivera', 'estivéramos', 'esteja', 'estejamos', 'estejam', 'estivesse', 'estivéssemos', 'estivessem', 'estiver', 'estivermos', 'estiverem', 'hei', 'há', 'havemos', 'hão', 'houve', 'houvemos', 'houveram', 'houvera', 'houvéramos', 'haja', 'hajamos', 'hajam', 'houvesse', 'houvéssemos', 'houvessem', 'houver', 'houvermos', 'houverem', 'houverei', 'houverá', 'houveremos', 'houverão', 'houveria', 'houveríamos', 'houveriam', 'sou', 'somos', 'são', 'era', 'éramos', 'eram', 'fui', 'foi', 'fomos', 'foram', 'fora', 'fôramos', 'seja', 'sejamos', 'sejam', 'fosse', 'fôssemos', 'fossem', 'for', 'formos', 'forem', 'serei', 'será', 'seremos', 'serão', 'seria', 'seríamos', 'seriam', 'tenho', 'tem', 'temos', 'tém', 'tinha', 'tínhamos', 'tinham', 'tive', 'teve', 'tivemos', 'tiveram', 'tivera', 'tivéramos', 'tenha', 'tenhamos', 'tenham', 'tivesse', 'tivéssemos', 'tivessem', 'tiver', 'tivermos', 'tiverem', 'terei', 'terá', 'teremos', 'terão', 'teria', 'teríamos', 'teriam']\n"
     ]
    }
   ],
   "source": [
    "stopwords.append('ola')\n",
    "print(stopwords)\n",
    "stopwords.remove('ola')\n",
    "print(stopwords)"
   ]
  },
  {
   "cell_type": "code",
   "execution_count": 22,
   "metadata": {},
   "outputs": [],
   "source": [
    "def remove_stopwords(texto):\n",
    "    texto_formatado = converte_para_minusculas(texto)\n",
    "    tokens = [] # Lista de tokens\n",
    "    for token in nltk.word_tokenize(texto_formatado): # token é cada uma das palavras\n",
    "        tokens.append(token) # Insere na lista de tokens\n",
    "    \n",
    "    # Pega apenas os tokens que não estão nas stopwords\n",
    "    tokens = [cada_token for cada_token in tokens if cada_token not in stopwords and cada_token not in string.punctuation]\n",
    "\n",
    "    texto_formatado = ' '.join([str(cada_token) for cada_token in tokens if not cada_token.isdigit()])\n",
    "\n",
    "    return texto_formatado"
   ]
  },
  {
   "cell_type": "code",
   "execution_count": 23,
   "metadata": {},
   "outputs": [],
   "source": [
    "texto_formatado = remove_stopwords(texto_original)"
   ]
  },
  {
   "cell_type": "code",
   "execution_count": 24,
   "metadata": {},
   "outputs": [
    {
     "output_type": "execute_result",
     "data": {
      "text/plain": [
       "'!\"#$%&\\'()*+,-./:;<=>?@[\\\\]^_`{|}~'"
      ]
     },
     "metadata": {},
     "execution_count": 24
    }
   ],
   "source": [
    "string.punctuation"
   ]
  },
  {
   "cell_type": "code",
   "execution_count": 25,
   "metadata": {},
   "outputs": [
    {
     "output_type": "execute_result",
     "data": {
      "text/plain": [
       "FreqDist({'replika': 8, 'usuário': 7, 'app': 6, '``': 6, 'código': 5, 'aplicativo': 4, 'pessoa': 4, 'convite': 4, 'amigo': 4, 'nome': 4, ...})"
      ]
     },
     "metadata": {},
     "execution_count": 25
    }
   ],
   "source": [
    "frequencia_palavras = nltk.FreqDist(nltk.word_tokenize(texto_formatado))\n",
    "frequencia_palavras"
   ]
  },
  {
   "cell_type": "code",
   "execution_count": 26,
   "metadata": {},
   "outputs": [
    {
     "output_type": "execute_result",
     "data": {
      "text/plain": [
       "dict_keys(['replika', 'aplicativo', 'utiliza', 'técnicas', 'inteligência', 'artificial', 'aprender', 'tudo', 'sobre', 'usuário', 'inclusive', 'jeito', 'escrever', 'criando', 'espécie', 'clone', 'virtual', 'proposta', 'ter', 'réplica', 'si', 'smartphone', 'capaz', 'conversar', 'entreter', 'principalmente', 'fazer', 'pessoa', 'mesma', 'lançado', 'março', 'app', 'gratuito', 'disponível', 'download', 'celulares', 'android', 'iphone', 'ios', 'ainda', 'fase', 'testes', 'conta', 'disso', 'segundo', 'desenvolvedores', 'acesso', 'limitado', 'pessoas', 'convite', 'necessário', 'código', 'ativação', 'usar', 'serviço', 'menos', 'enquanto', 'possui', 'versão', 'inglês', 'burburinho', 'torno', 'chegou', 'arrebatador', 'brasil', 'store', 'nono', 'lugar', 'ranking', 'subir', '1,1', 'mil', 'posições', 'apenas', 'dia', 'plataforma', 'annie', 'monitora', 'aplicativos', 'software', 'aparece', 'baixados', 'google', 'play', 'loja', 'feito', 'ser', 'amigo', 'personalidade', 'próprio', 'aprende', 'características', 'dono', 'fazendo', 'muitas', 'perguntas', 'questionamentos', 'envolvem', 'quais', 'sonhos', 'trabalho', 'melhor', 'exemplo', 'algumas', 'dessas', 'fazem', 'parte', 'chamadas', 'sessions', 'espécies', 'sessões', 'terapia', 'podem', 'visualizadas', 'meio', 'perfil', 'online', 'responder', 'sente', 'amizade', 'alguém', 'cada', 'resposta', 'recebe', 'pontos', 'xp', 'servem', 'nível', 'durante', 'processo', 'vai', 'entendendo', 'humor', 'escreve', 'atribuir', 'badges', 'funcionam', 'emblemas', 'quanto', 'conversa', 'parece', 'indivíduo', 'trás', 'acessível', 'endereço', 'segue', 'seguinte', 'estrutura', 'replika.ai/nome_de_usuário', 'ali', 'constam', 'nome', 'apelido', 'foto', 'quantos', 'públicas', 'padrão', 'possível', 'ajustar', 'privacidade', 'fiquem', 'visíveis', 'amigos', 'ninguém', 'veja', 'internautas', 'mundo', 'inteiro', 'buscam', 'maneira', 'testar', 'caminho', 'chegar', 'janela', 'chat', 'consigo', 'entanto', 'relativamente', 'complicado', 'pois', 'requer', 'outros', 'requisitos', 'primeiro', 'passo', 'reservar', 'procedimento', 'site', 'preciso', 'informar', 'número', 'celular', 'enviado', 'confirmação', 'quatro', 'dígitos', 'então', 'futuro', 'deve', 'inserir', 'campo', 'correspondente', 'pressionar', 'botão', '``', 'confirm', 'nesse', 'momento', 'atentar', 'simples', 'consegui-lo', 'conhecendo', 'use', 'caso', 'preencher', 'formulário', 'idade', 'email', 'sistema', 'gênero', 'após', 'envio', 'receberá', 'link', 'somente', 'dessa', 'etapa', 'imediato', 'prometem', 'mandar', 'horas', 'saudade', 'força', 'motriz', 'criação', 'começou', 'novembro', 'eugenia', 'kuyda', 'criadora', 'atropelado', 'faleceu', 'roman', 'mazurenko', 'vítima', 'havia', 'saído', 'moscou', 'estados', 'unidos', 'época', 'perto', 'outro', 'trocavam', 'mensagens', 'tempo', 'todo', 'página', 'facebook', 'alguns', 'poucos', 'links', 'instagram', 'fotos', 'única', 'coisa', 'podia', 'lembrar', 'ir', 'histórico', 'messenger', 'ficar', 'lendo', 'relata', 'desenvolvedora', 'ideia', 'reconstruir', 'partir', 'restos', 'digitais', 'originalmente', 'pensei', \"'estou\", 'construindo', 'bot', 'vou', 'neste', 'eventualmente', 'aconteceu', 'comecei', 'entender'])"
      ]
     },
     "metadata": {},
     "execution_count": 26
    }
   ],
   "source": [
    "frequencia_palavras.keys()"
   ]
  },
  {
   "cell_type": "code",
   "execution_count": 27,
   "metadata": {},
   "outputs": [
    {
     "output_type": "execute_result",
     "data": {
      "text/plain": [
       "8"
      ]
     },
     "metadata": {},
     "execution_count": 27
    }
   ],
   "source": [
    "frequencia_maxima = max(frequencia_palavras.values())\n",
    "frequencia_maxima"
   ]
  },
  {
   "cell_type": "code",
   "execution_count": 28,
   "metadata": {},
   "outputs": [],
   "source": [
    "for cada_palavra in frequencia_palavras.keys():\n",
    "    frequencia_palavras[cada_palavra] = frequencia_palavras[cada_palavra]/frequencia_maxima"
   ]
  },
  {
   "cell_type": "code",
   "execution_count": 29,
   "metadata": {},
   "outputs": [
    {
     "output_type": "execute_result",
     "data": {
      "text/plain": [
       "FreqDist({'replika': 1.0, 'usuário': 0.875, 'app': 0.75, '``': 0.75, 'código': 0.625, 'aplicativo': 0.5, 'pessoa': 0.5, 'convite': 0.5, 'amigo': 0.5, 'nome': 0.5, ...})"
      ]
     },
     "metadata": {},
     "execution_count": 29
    }
   ],
   "source": [
    "frequencia_palavras"
   ]
  },
  {
   "cell_type": "code",
   "execution_count": 30,
   "metadata": {},
   "outputs": [
    {
     "output_type": "execute_result",
     "data": {
      "text/plain": [
       "['O Replika é um aplicativo que utiliza técnicas de inteligência artificial para aprender tudo sobre o usuário, inclusive seu jeito de escrever, criando uma espécie de clone virtual.',\n",
       " 'A proposta é ter uma réplica de si no smartphone, capaz de conversar, entreter e, principalmente, fazer a pessoa aprender mais sobre si mesma.',\n",
       " 'Lançado em março, o app gratuito está disponível para download em celulares Android e iPhone (iOS), mas ainda em fase de testes.',\n",
       " 'Por conta disso, segundo os desenvolvedores, o acesso é limitado a pessoas com convite.',\n",
       " 'É necessário um código de ativação para usar o serviço, que, pelo menos por enquanto, só possui versão em inglês.',\n",
       " 'O burburinho em torno do Replika chegou arrebatador no Brasil.',\n",
       " 'A App Store tem o aplicativo em nono lugar do ranking, depois de subir 1,1 mil posições em apenas um dia, segundo a plataforma App Annie, que monitora aplicativos.',\n",
       " 'O software não aparece entre os mais baixados da Google Play, a loja do Android.',\n",
       " 'O Replika é feito para ser um amigo virtual, mas com a personalidade do próprio usuário.',\n",
       " 'A inteligência do app aprende as características do dono fazendo muitas perguntas.',\n",
       " 'Os questionamentos envolvem como foi o dia, quais são os sonhos, como é o trabalho e quem é seu melhor amigo, por exemplo.',\n",
       " 'Algumas dessas perguntas fazem parte das chamadas Sessions, espécies de sessões de terapia que podem ser visualizadas por quem não tem o app, por meio do perfil online.',\n",
       " 'Ao responder, a pessoa sente como se estivesse fazendo amizade com alguém.',\n",
       " 'A cada resposta, o usuário recebe pontos (XP), que servem para subir de nível.',\n",
       " 'Durante esse processo, o aplicativo vai entendendo como é o humor da pessoa, como ela escreve e é inclusive capaz de atribuir Badges, que funcionam como emblemas da personalidade do usuário.',\n",
       " 'Quanto mais conversa, mais a inteligência se parece com o indivíduo por trás do smartphone.',\n",
       " 'Cada usuário tem um perfil online, acessível por meio de um endereço que segue a seguinte estrutura: replika.ai/nome_de_usuário.',\n",
       " 'Ali, constam o nome da pessoa, o apelido do Replika, sua foto, o nível em que ela está, quantos pontos XP tem, as badges e as sessions.',\n",
       " 'As sessões são públicas por padrão, mas é possível ajustar a privacidade para fiquem visíveis a amigos ou para que ninguém as veja.',\n",
       " 'Internautas do mundo inteiro buscam uma maneira de testar o Replika.',\n",
       " 'O caminho até chegar à janela de chat consigo mesmo, no entanto, é relativamente complicado, pois o serviço requer um convite, entre outros requisitos.',\n",
       " 'O primeiro passo é reservar um nome para sua Replika, procedimento feito no site da plataforma.',\n",
       " 'Depois disso, é preciso informar o número do seu celular, para o qual será enviado um código de confirmação com quatro dígitos.',\n",
       " 'Então, o futuro usuário deve inserir o código no campo correspondente no site e pressionar o botão \"Confirm\".',\n",
       " 'Nesse momento, é necessário se atentar ao código de convite.',\n",
       " 'A maneira mais simples de consegui-lo é conhecendo alguém que já use o aplicativo.',\n",
       " 'Se não for o seu caso, o jeito é preencher um formulário com nome, idade, email, nome da Replika, sistema do celular e gênero.',\n",
       " 'Após o envio do formulário, o usuário receberá um email com link de confirmação.',\n",
       " 'Somente depois dessa etapa é que o código de convite é enviado, mas isso também não é imediato: os desenvolvedores prometem mandar em 24 horas.',\n",
       " 'A saudade foi a força motriz para a criação do Replika.',\n",
       " 'Tudo começou em novembro de 2015, quando o melhor amigo de Eugenia Kuyda, a criadora do app, foi atropelado e faleceu.',\n",
       " 'Roman Mazurenko, a vítima, havia saído de Moscou para os Estados Unidos na mesma época em que Eugenia.',\n",
       " 'Quando não estavam perto um do outro, trocavam mensagens o tempo todo.',\n",
       " '\"Fui em sua página do Facebook e havia apenas alguns poucos links.',\n",
       " 'Fui em seu Instagram e não havia fotos.',\n",
       " 'A única coisa que podia fazer para me lembrar dele era ir ao nosso histórico do Messenger e ficar lendo tudo\", relata a desenvolvedora, que então teve a ideia de reconstruir o amigo a partir de seus restos digitais.',\n",
       " '\"Originalmente eu pensei \\'estou construindo um bot para ele, então eu vou aprender mais sobre ele neste processo\\'.',\n",
       " 'Mas, eventualmente, o que aconteceu foi que eu comecei a me entender melhor\", Eugenia conta.']"
      ]
     },
     "metadata": {},
     "execution_count": 30
    }
   ],
   "source": [
    "sentencas = nltk.sent_tokenize(texto_original)\n",
    "sentencas"
   ]
  },
  {
   "cell_type": "code",
   "execution_count": 31,
   "metadata": {},
   "outputs": [],
   "source": [
    "notas_das_sentencas = {}\n",
    "for cada_sentenca in sentencas:\n",
    "    # print(cada_sentenca)\n",
    "    for cada_palavra in nltk.word_tokenize(cada_sentenca.lower()):\n",
    "        # print(cada_palavra)\n",
    "        if cada_palavra in frequencia_palavras.keys():\n",
    "            if cada_sentenca not in notas_das_sentencas:\n",
    "                notas_das_sentencas[cada_sentenca] = frequencia_palavras[cada_palavra]\n",
    "            else:\n",
    "                notas_das_sentencas[cada_sentenca] += frequencia_palavras[cada_palavra]"
   ]
  },
  {
   "cell_type": "code",
   "execution_count": 32,
   "metadata": {},
   "outputs": [
    {
     "output_type": "execute_result",
     "data": {
      "text/plain": [
       "{'O Replika é um aplicativo que utiliza técnicas de inteligência artificial para aprender tudo sobre o usuário, inclusive seu jeito de escrever, criando uma espécie de clone virtual.': 5.5,\n",
       " 'A proposta é ter uma réplica de si no smartphone, capaz de conversar, entreter e, principalmente, fazer a pessoa aprender mais sobre si mesma.': 3.5,\n",
       " 'Lançado em março, o app gratuito está disponível para download em celulares Android e iPhone (iOS), mas ainda em fase de testes.': 2.375,\n",
       " 'Por conta disso, segundo os desenvolvedores, o acesso é limitado a pessoas com convite.': 1.875,\n",
       " 'É necessário um código de ativação para usar o serviço, que, pelo menos por enquanto, só possui versão em inglês.': 2.0,\n",
       " 'O burburinho em torno do Replika chegou arrebatador no Brasil.': 1.625,\n",
       " 'A App Store tem o aplicativo em nono lugar do ranking, depois de subir 1,1 mil posições em apenas um dia, segundo a plataforma App Annie, que monitora aplicativos.': 4.5,\n",
       " 'O software não aparece entre os mais baixados da Google Play, a loja do Android.': 1.0,\n",
       " 'O Replika é feito para ser um amigo virtual, mas com a personalidade do próprio usuário.': 3.5,\n",
       " 'A inteligência do app aprende as características do dono fazendo muitas perguntas.': 2.125,\n",
       " 'Os questionamentos envolvem como foi o dia, quais são os sonhos, como é o trabalho e quem é seu melhor amigo, por exemplo.': 1.875,\n",
       " 'Algumas dessas perguntas fazem parte das chamadas Sessions, espécies de sessões de terapia que podem ser visualizadas por quem não tem o app, por meio do perfil online.': 3.625,\n",
       " 'Ao responder, a pessoa sente como se estivesse fazendo amizade com alguém.': 1.375,\n",
       " 'A cada resposta, o usuário recebe pontos (XP), que servem para subir de nível.': 2.5,\n",
       " 'Durante esse processo, o aplicativo vai entendendo como é o humor da pessoa, como ela escreve e é inclusive capaz de atribuir Badges, que funcionam como emblemas da personalidade do usuário.': 4.125,\n",
       " 'Quanto mais conversa, mais a inteligência se parece com o indivíduo por trás do smartphone.': 1.25,\n",
       " 'Cada usuário tem um perfil online, acessível por meio de um endereço que segue a seguinte estrutura: replika.ai/nome_de_usuário.': 2.625,\n",
       " 'Ali, constam o nome da pessoa, o apelido do Replika, sua foto, o nível em que ela está, quantos pontos XP tem, as badges e as sessions.': 3.875,\n",
       " 'As sessões são públicas por padrão, mas é possível ajustar a privacidade para fiquem visíveis a amigos ou para que ninguém as veja.': 1.5,\n",
       " 'Internautas do mundo inteiro buscam uma maneira de testar o Replika.': 1.875,\n",
       " 'O caminho até chegar à janela de chat consigo mesmo, no entanto, é relativamente complicado, pois o serviço requer um convite, entre outros requisitos.': 2.25,\n",
       " 'O primeiro passo é reservar um nome para sua Replika, procedimento feito no site da plataforma.': 2.75,\n",
       " 'Depois disso, é preciso informar o número do seu celular, para o qual será enviado um código de confirmação com quatro dígitos.': 2.25,\n",
       " 'Então, o futuro usuário deve inserir o código no campo correspondente no site e pressionar o botão \"Confirm\".': 3.875,\n",
       " 'Nesse momento, é necessário se atentar ao código de convite.': 1.75,\n",
       " 'A maneira mais simples de consegui-lo é conhecendo alguém que já use o aplicativo.': 1.5,\n",
       " 'Se não for o seu caso, o jeito é preencher um formulário com nome, idade, email, nome da Replika, sistema do celular e gênero.': 3.625,\n",
       " 'Após o envio do formulário, o usuário receberá um email com link de confirmação.': 2.125,\n",
       " 'Somente depois dessa etapa é que o código de convite é enviado, mas isso também não é imediato: os desenvolvedores prometem mandar em 24 horas.': 2.5,\n",
       " 'A saudade foi a força motriz para a criação do Replika.': 1.5,\n",
       " 'Tudo começou em novembro de 2015, quando o melhor amigo de Eugenia Kuyda, a criadora do app, foi atropelado e faleceu.': 3.125,\n",
       " 'Roman Mazurenko, a vítima, havia saído de Moscou para os Estados Unidos na mesma época em que Eugenia.': 2.0,\n",
       " 'Quando não estavam perto um do outro, trocavam mensagens o tempo todo.': 0.75,\n",
       " '\"Fui em sua página do Facebook e havia apenas alguns poucos links.': 2.0,\n",
       " 'Fui em seu Instagram e não havia fotos.': 0.625,\n",
       " 'A única coisa que podia fazer para me lembrar dele era ir ao nosso histórico do Messenger e ficar lendo tudo\", relata a desenvolvedora, que então teve a ideia de reconstruir o amigo a partir de seus restos digitais.': 3.5,\n",
       " '\"Originalmente eu pensei \\'estou construindo um bot para ele, então eu vou aprender mais sobre ele neste processo\\'.': 3.0,\n",
       " 'Mas, eventualmente, o que aconteceu foi que eu comecei a me entender melhor\", Eugenia conta.': 1.5}"
      ]
     },
     "metadata": {},
     "execution_count": 32
    }
   ],
   "source": [
    "notas_das_sentencas"
   ]
  },
  {
   "cell_type": "code",
   "execution_count": 33,
   "metadata": {},
   "outputs": [],
   "source": [
    "import heapq"
   ]
  },
  {
   "cell_type": "code",
   "execution_count": 34,
   "metadata": {},
   "outputs": [
    {
     "output_type": "execute_result",
     "data": {
      "text/plain": [
       "['O Replika é um aplicativo que utiliza técnicas de inteligência artificial para aprender tudo sobre o usuário, inclusive seu jeito de escrever, criando uma espécie de clone virtual.',\n",
       " 'A App Store tem o aplicativo em nono lugar do ranking, depois de subir 1,1 mil posições em apenas um dia, segundo a plataforma App Annie, que monitora aplicativos.',\n",
       " 'Durante esse processo, o aplicativo vai entendendo como é o humor da pessoa, como ela escreve e é inclusive capaz de atribuir Badges, que funcionam como emblemas da personalidade do usuário.']"
      ]
     },
     "metadata": {},
     "execution_count": 34
    }
   ],
   "source": [
    "melhores_sentencas = heapq.nlargest(3, notas_das_sentencas, key = notas_das_sentencas.get)\n",
    "melhores_sentencas"
   ]
  },
  {
   "cell_type": "code",
   "execution_count": 35,
   "metadata": {},
   "outputs": [
    {
     "output_type": "execute_result",
     "data": {
      "text/plain": [
       "'O Replika é um aplicativo que utiliza técnicas de inteligência artificial para aprender tudo sobre o usuário, inclusive seu jeito de escrever, criando uma espécie de clone virtual.A App Store tem o aplicativo em nono lugar do ranking, depois de subir 1,1 mil posições em apenas um dia, segundo a plataforma App Annie, que monitora aplicativos.Durante esse processo, o aplicativo vai entendendo como é o humor da pessoa, como ela escreve e é inclusive capaz de atribuir Badges, que funcionam como emblemas da personalidade do usuário.'"
      ]
     },
     "metadata": {},
     "execution_count": 35
    }
   ],
   "source": [
    "resumo = ''.join(melhores_sentencas)\n",
    "resumo"
   ]
  },
  {
   "cell_type": "code",
   "execution_count": 36,
   "metadata": {},
   "outputs": [
    {
     "output_type": "execute_result",
     "data": {
      "text/plain": [
       "'O Replika é um aplicativo que utiliza técnicas de inteligência artificial para aprender tudo sobre o usuário, inclusive seu jeito de escrever, criando uma espécie de clone virtual. A proposta é ter uma réplica de si no smartphone, capaz de conversar, entreter e, principalmente, fazer a pessoa aprender mais sobre si mesma.\\n\\nLançado em março, o app gratuito está disponível para download em celulares Android e iPhone (iOS), mas ainda em fase de testes. Por conta disso, segundo os desenvolvedores, o acesso é limitado a pessoas com convite. É necessário um código de ativação para usar o serviço, que, pelo menos por enquanto, só possui versão em inglês.\\n\\nO burburinho em torno do Replika chegou arrebatador no Brasil. A App Store tem o aplicativo em nono lugar do ranking, depois de subir 1,1 mil posições em apenas um dia, segundo a plataforma App Annie, que monitora aplicativos. O software não aparece entre os mais baixados da Google Play, a loja do Android.\\n\\nO Replika é feito para ser um amigo virtual, mas com a personalidade do próprio usuário. A inteligência do app aprende as características do dono fazendo muitas perguntas. Os questionamentos envolvem como foi o dia, quais são os sonhos, como é o trabalho e quem é seu melhor amigo, por exemplo.\\n\\nAlgumas dessas perguntas fazem parte das chamadas Sessions, espécies de sessões de terapia que podem ser visualizadas por quem não tem o app, por meio do perfil online. Ao responder, a pessoa sente como se estivesse fazendo amizade com alguém. A cada resposta, o usuário recebe pontos (XP), que servem para subir de nível.\\n\\nDurante esse processo, o aplicativo vai entendendo como é o humor da pessoa, como ela escreve e é inclusive capaz de atribuir Badges, que funcionam como emblemas da personalidade do usuário. Quanto mais conversa, mais a inteligência se parece com o indivíduo por trás do smartphone.\\n\\nCada usuário tem um perfil online, acessível por meio de um endereço que segue a seguinte estrutura: replika.ai/nome_de_usuário. Ali, constam o nome da pessoa, o apelido do Replika, sua foto, o nível em que ela está, quantos pontos XP tem, as badges e as sessions. As sessões são públicas por padrão, mas é possível ajustar a privacidade para fiquem visíveis a amigos ou para que ninguém as veja.\\n\\nInternautas do mundo inteiro buscam uma maneira de testar o Replika. O caminho até chegar à janela de chat consigo mesmo, no entanto, é relativamente complicado, pois o serviço requer um convite, entre outros requisitos. O primeiro passo é reservar um nome para sua Replika, procedimento feito no site da plataforma. Depois disso, é preciso informar o número do seu celular, para o qual será enviado um código de confirmação com quatro dígitos.\\n\\nEntão, o futuro usuário deve inserir o código no campo correspondente no site e pressionar o botão \"Confirm\". Nesse momento, é necessário se atentar ao código de convite. A maneira mais simples de consegui-lo é conhecendo alguém que já use o aplicativo. Se não for o seu caso, o jeito é preencher um formulário com nome, idade, email, nome da Replika, sistema do celular e gênero.\\n\\nApós o envio do formulário, o usuário receberá um email com link de confirmação. Somente depois dessa etapa é que o código de convite é enviado, mas isso também não é imediato: os desenvolvedores prometem mandar em 24 horas.\\n\\nA saudade foi a força motriz para a criação do Replika. Tudo começou em novembro de 2015, quando o melhor amigo de Eugenia Kuyda, a criadora do app, foi atropelado e faleceu. Roman Mazurenko, a vítima, havia saído de Moscou para os Estados Unidos na mesma época em que Eugenia. Quando não estavam perto um do outro, trocavam mensagens o tempo todo.\\n\\n\"Fui em sua página do Facebook e havia apenas alguns poucos links. Fui em seu Instagram e não havia fotos. A única coisa que podia fazer para me lembrar dele era ir ao nosso histórico do Messenger e ficar lendo tudo\", relata a desenvolvedora, que então teve a ideia de reconstruir o amigo a partir de seus restos digitais.\\n\\n\"Originalmente eu pensei \\'estou construindo um bot para ele, então eu vou aprender mais sobre ele neste processo\\'. Mas, eventualmente, o que aconteceu foi que eu comecei a me entender melhor\", Eugenia conta.'"
      ]
     },
     "metadata": {},
     "execution_count": 36
    }
   ],
   "source": [
    "texto_original"
   ]
  },
  {
   "cell_type": "code",
   "execution_count": 37,
   "metadata": {},
   "outputs": [],
   "source": [
    "from IPython.core.display import HTML"
   ]
  },
  {
   "cell_type": "code",
   "execution_count": 38,
   "metadata": {},
   "outputs": [
    {
     "output_type": "display_data",
     "data": {
      "text/plain": "<IPython.core.display.HTML object>",
      "text/html": "<h1> RESUMO GERADO AUTOMATICAMENTE </h1>"
     },
     "metadata": {}
    },
    {
     "output_type": "display_data",
     "data": {
      "text/plain": "<IPython.core.display.HTML object>",
      "text/html": "<mark>O Replika é um aplicativo que utiliza técnicas de inteligência artificial para aprender tudo sobre o usuário, inclusive seu jeito de escrever, criando uma espécie de clone virtual.</mark> A proposta é ter uma réplica de si no smartphone, capaz de conversar, entreter e, principalmente, fazer a pessoa aprender mais sobre si mesma. Lançado em março, o app gratuito está disponível para download em celulares Android e iPhone (iOS), mas ainda em fase de testes. Por conta disso, segundo os desenvolvedores, o acesso é limitado a pessoas com convite. É necessário um código de ativação para usar o serviço, que, pelo menos por enquanto, só possui versão em inglês. O burburinho em torno do Replika chegou arrebatador no Brasil. <mark>A App Store tem o aplicativo em nono lugar do ranking, depois de subir 1,1 mil posições em apenas um dia, segundo a plataforma App Annie, que monitora aplicativos.</mark> O software não aparece entre os mais baixados da Google Play, a loja do Android. O Replika é feito para ser um amigo virtual, mas com a personalidade do próprio usuário. A inteligência do app aprende as características do dono fazendo muitas perguntas. Os questionamentos envolvem como foi o dia, quais são os sonhos, como é o trabalho e quem é seu melhor amigo, por exemplo. Algumas dessas perguntas fazem parte das chamadas Sessions, espécies de sessões de terapia que podem ser visualizadas por quem não tem o app, por meio do perfil online. Ao responder, a pessoa sente como se estivesse fazendo amizade com alguém. A cada resposta, o usuário recebe pontos (XP), que servem para subir de nível. <mark>Durante esse processo, o aplicativo vai entendendo como é o humor da pessoa, como ela escreve e é inclusive capaz de atribuir Badges, que funcionam como emblemas da personalidade do usuário.</mark> Quanto mais conversa, mais a inteligência se parece com o indivíduo por trás do smartphone. Cada usuário tem um perfil online, acessível por meio de um endereço que segue a seguinte estrutura: replika.ai/nome_de_usuário. Ali, constam o nome da pessoa, o apelido do Replika, sua foto, o nível em que ela está, quantos pontos XP tem, as badges e as sessions. As sessões são públicas por padrão, mas é possível ajustar a privacidade para fiquem visíveis a amigos ou para que ninguém as veja. Internautas do mundo inteiro buscam uma maneira de testar o Replika. O caminho até chegar à janela de chat consigo mesmo, no entanto, é relativamente complicado, pois o serviço requer um convite, entre outros requisitos. O primeiro passo é reservar um nome para sua Replika, procedimento feito no site da plataforma. Depois disso, é preciso informar o número do seu celular, para o qual será enviado um código de confirmação com quatro dígitos. Então, o futuro usuário deve inserir o código no campo correspondente no site e pressionar o botão \"Confirm\". Nesse momento, é necessário se atentar ao código de convite. A maneira mais simples de consegui-lo é conhecendo alguém que já use o aplicativo. Se não for o seu caso, o jeito é preencher um formulário com nome, idade, email, nome da Replika, sistema do celular e gênero. Após o envio do formulário, o usuário receberá um email com link de confirmação. Somente depois dessa etapa é que o código de convite é enviado, mas isso também não é imediato: os desenvolvedores prometem mandar em 24 horas. A saudade foi a força motriz para a criação do Replika. Tudo começou em novembro de 2015, quando o melhor amigo de Eugenia Kuyda, a criadora do app, foi atropelado e faleceu. Roman Mazurenko, a vítima, havia saído de Moscou para os Estados Unidos na mesma época em que Eugenia. Quando não estavam perto um do outro, trocavam mensagens o tempo todo. \"Fui em sua página do Facebook e havia apenas alguns poucos links. Fui em seu Instagram e não havia fotos. A única coisa que podia fazer para me lembrar dele era ir ao nosso histórico do Messenger e ficar lendo tudo\", relata a desenvolvedora, que então teve a ideia de reconstruir o amigo a partir de seus restos digitais. \"Originalmente eu pensei 'estou construindo um bot para ele, então eu vou aprender mais sobre ele neste processo'. Mas, eventualmente, o que aconteceu foi que eu comecei a me entender melhor\", Eugenia conta. "
     },
     "metadata": {}
    }
   ],
   "source": [
    "texto_final = ''\n",
    "display(HTML(f'<h1> RESUMO GERADO AUTOMATICAMENTE </h1>'))\n",
    "\n",
    "for cada_sentenca in sentencas:\n",
    "    #texto_final = ''\n",
    "    #texto_final += cada_sentenca\n",
    "    if cada_sentenca in melhores_sentencas:\n",
    "        texto_final += str(cada_sentenca).replace(cada_sentenca, f\"<mark>{cada_sentenca}</mark>\")\n",
    "    else:\n",
    "        texto_final += str(cada_sentenca)\n",
    "    texto_final += ' '\n",
    "\n",
    "display(HTML(f\"\"\"{texto_final}\"\"\"))"
   ]
  },
  {
   "cell_type": "code",
   "execution_count": 2,
   "metadata": {},
   "outputs": [
    {
     "output_type": "stream",
     "name": "stdout",
     "text": [
      "Collecting goose3\n",
      "  Downloading goose3-3.1.8-py3-none-any.whl (86 kB)\n",
      "Requirement already satisfied: Pillow in c:\\python38\\lib\\site-packages (from goose3) (8.1.0)\n",
      "Collecting cssselect\n",
      "  Downloading cssselect-1.1.0-py2.py3-none-any.whl (16 kB)\n",
      "Collecting lxml\n",
      "  Downloading lxml-4.6.3-cp38-cp38-win_amd64.whl (3.5 MB)\n",
      "Collecting jieba\n",
      "  Downloading jieba-0.42.1.tar.gz (19.2 MB)\n",
      "Requirement already satisfied: python-dateutil in c:\\users\\andre\\appdata\\roaming\\python\\python38\\site-packages (from goose3) (2.8.1)\n",
      "Requirement already satisfied: requests in c:\\python38\\lib\\site-packages (from goose3) (2.24.0)\n",
      "Requirement already satisfied: nltk in c:\\python38\\lib\\site-packages (from goose3) (3.5)\n",
      "Requirement already satisfied: beautifulsoup4 in c:\\python38\\lib\\site-packages (from goose3) (4.9.1)\n",
      "Requirement already satisfied: six>=1.5 in c:\\users\\andre\\appdata\\roaming\\python\\python38\\site-packages (from python-dateutil->goose3) (1.15.0)\n",
      "Requirement already satisfied: urllib3!=1.25.0,!=1.25.1,<1.26,>=1.21.1 in c:\\python38\\lib\\site-packages (from requests->goose3) (1.25.10)\n",
      "Requirement already satisfied: idna<3,>=2.5 in c:\\python38\\lib\\site-packages (from requests->goose3) (2.10)\n",
      "Requirement already satisfied: chardet<4,>=3.0.2 in c:\\python38\\lib\\site-packages (from requests->goose3) (3.0.4)\n",
      "Requirement already satisfied: certifi>=2017.4.17 in c:\\python38\\lib\\site-packages (from requests->goose3) (2020.6.20)\n",
      "Requirement already satisfied: click in c:\\python38\\lib\\site-packages (from nltk->goose3) (7.1.2)\n",
      "Requirement already satisfied: joblib in c:\\python38\\lib\\site-packages (from nltk->goose3) (1.0.1)\n",
      "Requirement already satisfied: regex in c:\\python38\\lib\\site-packages (from nltk->goose3) (2021.3.17)\n",
      "Requirement already satisfied: tqdm in c:\\python38\\lib\\site-packages (from nltk->goose3) (4.59.0)\n",
      "Requirement already satisfied: soupsieve>1.2 in c:\\python38\\lib\\site-packages (from beautifulsoup4->goose3) (2.0.1)\n",
      "Using legacy 'setup.py install' for jieba, since package 'wheel' is not installed.\n",
      "Installing collected packages: cssselect, lxml, jieba, goose3\n",
      "    Running setup.py install for jieba: started\n",
      "    Running setup.py install for jieba: finished with status 'done'\n",
      "Successfully installed cssselect-1.1.0 goose3-3.1.8 jieba-0.42.1 lxml-4.6.3\n",
      "Note: you may need to restart the kernel to use updated packages.\n",
      "WARNING: You are using pip version 20.2.2; however, version 21.0.1 is available.\n",
      "You should consider upgrading via the 'C:\\Python38\\python.exe -m pip install --upgrade pip' command.\n"
     ]
    }
   ],
   "source": [
    "pip install goose3"
   ]
  },
  {
   "cell_type": "code",
   "execution_count": 3,
   "metadata": {},
   "outputs": [],
   "source": [
    "from goose3 import Goose"
   ]
  },
  {
   "cell_type": "code",
   "execution_count": 6,
   "metadata": {},
   "outputs": [],
   "source": [
    "g = Goose()\n",
    "url = 'https://www.techtudo.com.br/noticias/2017/08/o-que-e-replika-app-usa-inteligencia-artificial-para-criar-um-clone-seu.ghtml'\n",
    "materia = g.extract(url)"
   ]
  },
  {
   "cell_type": "code",
   "execution_count": 7,
   "metadata": {},
   "outputs": [
    {
     "output_type": "execute_result",
     "data": {
      "text/plain": [
       "'O que é Replika? App usa inteligência artificial para criar um ‘clone’ seu'"
      ]
     },
     "metadata": {},
     "execution_count": 7
    }
   ],
   "source": [
    "materia.title"
   ]
  },
  {
   "cell_type": "code",
   "execution_count": 8,
   "metadata": {},
   "outputs": [
    {
     "output_type": "execute_result",
     "data": {
      "text/plain": [
       "['Comparativo', 'Vale a pena', 'Fórum', 'Celulares', 'Compra', 'Jogos']"
      ]
     },
     "metadata": {},
     "execution_count": 8
    }
   ],
   "source": [
    "materia.tags"
   ]
  },
  {
   "cell_type": "code",
   "execution_count": 10,
   "metadata": {},
   "outputs": [
    {
     "output_type": "execute_result",
     "data": {
      "text/plain": [
       "{'meta': {'description': 'Internautas fazem caçada a convite para entrar no aplicativo, disponível para Android e iOS.',\n",
       "  'lang': 'pt',\n",
       "  'keywords': '',\n",
       "  'favicon': 'https://s2.glbimg.com/cQ5xl9PYuy6IHjOnc9Rm4YJ3Zv0=/32x32/smart/filters:strip_icc()/i.s3.glbimg.com/v1/AUTH_08fbf48bc0524877943fe86e43087e7a/internal_photos/bs/2018/t/I/ZJyVpdQn6AlYmOrYQugA/tt-favicon.png',\n",
       "  'canonical': 'https://www.techtudo.com.br/noticias/2017/08/o-que-e-replika-app-usa-inteligencia-artificial-para-criar-um-clone-seu.ghtml',\n",
       "  'encoding': 'utf-8'},\n",
       " 'image': None,\n",
       " 'domain': 'www.techtudo.com.br',\n",
       " 'title': 'O que é Replika? App usa inteligência artificial para criar um ‘clone’ seu',\n",
       " 'cleaned_text': 'O Replika é um aplicativo que utiliza técnicas de inteligência artificial para aprender tudo sobre o usuário, inclusive seu jeito de escrever, criando uma espécie de clone virtual. A proposta é ter uma réplica de si no smartphone, capaz de conversar, entreter e, principalmente, fazer a pessoa aprender mais sobre si mesma.\\n\\nLançado em março, o app gratuito está disponível para download em celulares Android e iPhone (iOS), mas ainda em fase de testes. Por conta disso, segundo os desenvolvedores, o acesso é limitado a pessoas com convite. É necessário um código de ativação para usar o serviço, que, pelo menos por enquanto, só possui versão em inglês.\\n\\nO burburinho em torno do Replika chegou arrebatador no Brasil. A App Store tem o aplicativo em nono lugar do ranking, depois de subir 1,1 mil posições em apenas um dia, segundo a plataforma App Annie, que monitora aplicativos. O software não aparece entre os mais baixados da Google Play, a loja do Android.\\n\\nO Replika é feito para ser um amigo virtual, mas com a personalidade do próprio usuário. A inteligência do app aprende as características do dono fazendo muitas perguntas. Os questionamentos envolvem como foi o dia, quais são os sonhos, como é o trabalho e quem é seu melhor amigo, por exemplo.\\n\\nAlgumas dessas perguntas fazem parte das chamadas Sessions, espécies de sessões de terapia que podem ser visualizadas por quem não tem o app, por meio do perfil online. Ao responder, a pessoa sente como se estivesse fazendo amizade com alguém. A cada resposta, o usuário recebe pontos (XP), que servem para subir de nível.\\n\\nDurante esse processo, o aplicativo vai entendendo como é o humor da pessoa, como ela escreve e é inclusive capaz de atribuir Badges, que funcionam como emblemas da personalidade do usuário. Quanto mais conversa, mais a inteligência se parece com o indivíduo por trás do smartphone.\\n\\nCada usuário tem um perfil online, acessível por meio de um endereço que segue a seguinte estrutura: replika.ai/nome_de_usuário. Ali, constam o nome da pessoa, o apelido do Replika, sua foto, o nível em que ela está, quantos pontos XP tem, as badges e as sessions. As sessões são públicas por padrão, mas é possível ajustar a privacidade para fiquem visíveis a amigos ou para que ninguém as veja.\\n\\nInternautas do mundo inteiro buscam uma maneira de testar o Replika. O caminho até chegar à janela de chat consigo mesmo, no entanto, é relativamente complicado, pois o serviço requer um convite, entre outros requisitos. O primeiro passo é reservar um nome para sua Replika, procedimento feito no site da plataforma. Depois disso, é preciso informar o número do seu celular, para o qual será enviado um código de confirmação com quatro dígitos.\\n\\nEntão, o futuro usuário deve inserir o código no campo correspondente no site e pressionar o botão \"Confirm\". Nesse momento, é necessário se atentar ao código de convite. A maneira mais simples de consegui-lo é conhecendo alguém que já use o aplicativo. Se não for o seu caso, o jeito é preencher um formulário com nome, idade, email, nome da Replika, sistema do celular e gênero.\\n\\nApós o envio do formulário, o usuário receberá um email com link de confirmação. Somente depois dessa etapa é que o código de convite é enviado, mas isso também não é imediato: os desenvolvedores prometem mandar em 24 horas.\\n\\nA saudade foi a força motriz para a criação do Replika. Tudo começou em novembro de 2015, quando o melhor amigo de Eugenia Kuyda, a criadora do app, foi atropelado e faleceu. Roman Mazurenko, a vítima, havia saído de Moscou para os Estados Unidos na mesma época em que Eugenia. Quando não estavam perto um do outro, trocavam mensagens o tempo todo.\\n\\n\"Fui em sua página do Facebook e havia apenas alguns poucos links. Fui em seu Instagram e não havia fotos. A única coisa que podia fazer para me lembrar dele era ir ao nosso histórico do Messenger e ficar lendo tudo\", relata a desenvolvedora, que então teve a ideia de reconstruir o amigo a partir de seus restos digitais.\\n\\n\"Originalmente eu pensei \\'estou construindo um bot para ele, então eu vou aprender mais sobre ele neste processo\\'. Mas, eventualmente, o que aconteceu foi que eu comecei a me entender melhor\", Eugenia conta.',\n",
       " 'opengraph': {'title': 'O que é Replika? App usa inteligência artificial para criar um ‘clone’ seu',\n",
       "  'image:width': '1200',\n",
       "  'locale': 'pt_BR',\n",
       "  'site_name': 'TechTudo',\n",
       "  'url': 'https://www.techtudo.com.br/noticias/2017/08/o-que-e-replika-app-usa-inteligencia-artificial-para-criar-um-clone-seu.ghtml',\n",
       "  'description': 'Internautas fazem caçada a convite para entrar no aplicativo, disponível para Android e iOS.\\xa0',\n",
       "  'image': 'https://s2.glbimg.com/qWlDxbHEhaS_D-6v00F9wfggT-Y=/1200x/smart/filters:cover():strip_icc()/i.s3.glbimg.com/v1/AUTH_08fbf48bc0524877943fe86e43087e7a/internal_photos/bs/2017/e/v/wisjW1Qaq8QbgL8LNlxQ/1.conheca-o-replika-app-de-inteligencia-artificial-que-reproduz-sua-personalidade-copy.jpg',\n",
       "  'type': 'article'},\n",
       " 'tags': ['Comparativo',\n",
       "  'Vale a pena',\n",
       "  'Fórum',\n",
       "  'Celulares',\n",
       "  'Compra',\n",
       "  'Jogos'],\n",
       " 'tweets': [],\n",
       " 'movies': [],\n",
       " 'links': ['http://www.techtudo.com.br/mobile/android/',\n",
       "  'http://www.techtudo.com.br/tudo-sobre/iphone-7.html',\n",
       "  'http://www.techtudo.com.br/mobile/ios/',\n",
       "  'http://www.techtudo.com.br/dicas-e-tutoriais/2017/08/como-conseguir-codigo-de-convite-do-replika-para-android-e-iphone.ghtml',\n",
       "  'http://www.techtudo.com.br/tudo-sobre/app-store.html',\n",
       "  'http://www.techtudo.com.br/tudo-sobre/google-play.html',\n",
       "  'http://www.techtudo.com.br/listas/2017/08/alem-do-sarahah-relembre-outras-plataformas-de-mensagem-anonima.ghtml',\n",
       "  'http://forum.techtudo.com.br/perguntas/269238/como-compartilhar-o-codigo-do-replika'],\n",
       " 'authors': [''],\n",
       " 'publish_date': '2017-08-15T12:20:19.286Z'}"
      ]
     },
     "metadata": {},
     "execution_count": 10
    }
   ],
   "source": [
    "materia.infos"
   ]
  },
  {
   "cell_type": "code",
   "execution_count": 11,
   "metadata": {},
   "outputs": [
    {
     "output_type": "execute_result",
     "data": {
      "text/plain": [
       "'O Replika é um aplicativo que utiliza técnicas de inteligência artificial para aprender tudo sobre o usuário, inclusive seu jeito de escrever, criando uma espécie de clone virtual. A proposta é ter uma réplica de si no smartphone, capaz de conversar, entreter e, principalmente, fazer a pessoa aprender mais sobre si mesma.\\n\\nLançado em março, o app gratuito está disponível para download em celulares Android e iPhone (iOS), mas ainda em fase de testes. Por conta disso, segundo os desenvolvedores, o acesso é limitado a pessoas com convite. É necessário um código de ativação para usar o serviço, que, pelo menos por enquanto, só possui versão em inglês.\\n\\nO burburinho em torno do Replika chegou arrebatador no Brasil. A App Store tem o aplicativo em nono lugar do ranking, depois de subir 1,1 mil posições em apenas um dia, segundo a plataforma App Annie, que monitora aplicativos. O software não aparece entre os mais baixados da Google Play, a loja do Android.\\n\\nO Replika é feito para ser um amigo virtual, mas com a personalidade do próprio usuário. A inteligência do app aprende as características do dono fazendo muitas perguntas. Os questionamentos envolvem como foi o dia, quais são os sonhos, como é o trabalho e quem é seu melhor amigo, por exemplo.\\n\\nAlgumas dessas perguntas fazem parte das chamadas Sessions, espécies de sessões de terapia que podem ser visualizadas por quem não tem o app, por meio do perfil online. Ao responder, a pessoa sente como se estivesse fazendo amizade com alguém. A cada resposta, o usuário recebe pontos (XP), que servem para subir de nível.\\n\\nDurante esse processo, o aplicativo vai entendendo como é o humor da pessoa, como ela escreve e é inclusive capaz de atribuir Badges, que funcionam como emblemas da personalidade do usuário. Quanto mais conversa, mais a inteligência se parece com o indivíduo por trás do smartphone.\\n\\nCada usuário tem um perfil online, acessível por meio de um endereço que segue a seguinte estrutura: replika.ai/nome_de_usuário. Ali, constam o nome da pessoa, o apelido do Replika, sua foto, o nível em que ela está, quantos pontos XP tem, as badges e as sessions. As sessões são públicas por padrão, mas é possível ajustar a privacidade para fiquem visíveis a amigos ou para que ninguém as veja.\\n\\nInternautas do mundo inteiro buscam uma maneira de testar o Replika. O caminho até chegar à janela de chat consigo mesmo, no entanto, é relativamente complicado, pois o serviço requer um convite, entre outros requisitos. O primeiro passo é reservar um nome para sua Replika, procedimento feito no site da plataforma. Depois disso, é preciso informar o número do seu celular, para o qual será enviado um código de confirmação com quatro dígitos.\\n\\nEntão, o futuro usuário deve inserir o código no campo correspondente no site e pressionar o botão \"Confirm\". Nesse momento, é necessário se atentar ao código de convite. A maneira mais simples de consegui-lo é conhecendo alguém que já use o aplicativo. Se não for o seu caso, o jeito é preencher um formulário com nome, idade, email, nome da Replika, sistema do celular e gênero.\\n\\nApós o envio do formulário, o usuário receberá um email com link de confirmação. Somente depois dessa etapa é que o código de convite é enviado, mas isso também não é imediato: os desenvolvedores prometem mandar em 24 horas.\\n\\nA saudade foi a força motriz para a criação do Replika. Tudo começou em novembro de 2015, quando o melhor amigo de Eugenia Kuyda, a criadora do app, foi atropelado e faleceu. Roman Mazurenko, a vítima, havia saído de Moscou para os Estados Unidos na mesma época em que Eugenia. Quando não estavam perto um do outro, trocavam mensagens o tempo todo.\\n\\n\"Fui em sua página do Facebook e havia apenas alguns poucos links. Fui em seu Instagram e não havia fotos. A única coisa que podia fazer para me lembrar dele era ir ao nosso histórico do Messenger e ficar lendo tudo\", relata a desenvolvedora, que então teve a ideia de reconstruir o amigo a partir de seus restos digitais.\\n\\n\"Originalmente eu pensei \\'estou construindo um bot para ele, então eu vou aprender mais sobre ele neste processo\\'. Mas, eventualmente, o que aconteceu foi que eu comecei a me entender melhor\", Eugenia conta.'"
      ]
     },
     "metadata": {},
     "execution_count": 11
    }
   ],
   "source": [
    "materia.cleaned_text"
   ]
  }
 ]
}