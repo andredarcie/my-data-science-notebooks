{
 "metadata": {
  "language_info": {
   "codemirror_mode": {
    "name": "ipython",
    "version": 3
   },
   "file_extension": ".py",
   "mimetype": "text/x-python",
   "name": "python",
   "nbconvert_exporter": "python",
   "pygments_lexer": "ipython3",
   "version": "3.8.5"
  },
  "orig_nbformat": 2,
  "kernelspec": {
   "name": "python385jvsc74a57bd02db524e06e9f5f4ffedc911c917cb75e12dbc923643829bf417064a77eb14d37",
   "display_name": "Python 3.8.5 64-bit"
  },
  "metadata": {
   "interpreter": {
    "hash": "2db524e06e9f5f4ffedc911c917cb75e12dbc923643829bf417064a77eb14d37"
   }
  }
 },
 "nbformat": 4,
 "nbformat_minor": 2,
 "cells": [
  {
   "cell_type": "code",
   "execution_count": 1,
   "metadata": {},
   "outputs": [
    {
     "output_type": "stream",
     "name": "stdout",
     "text": [
      "Requirement already satisfied: nltk in c:\\python38\\lib\\site-packages (3.5)Note: you may need to restart the kernel to use updated packages.\n",
      "WARNING: You are using pip version 20.2.2; however, version 21.0.1 is available.\n",
      "You should consider upgrading via the 'C:\\Python38\\python.exe -m pip install --upgrade pip' command.\n",
      "\n",
      "Requirement already satisfied: click in c:\\python38\\lib\\site-packages (from nltk) (7.1.2)\n",
      "Requirement already satisfied: joblib in c:\\python38\\lib\\site-packages (from nltk) (1.0.1)\n",
      "Requirement already satisfied: regex in c:\\python38\\lib\\site-packages (from nltk) (2021.3.17)\n",
      "Requirement already satisfied: tqdm in c:\\python38\\lib\\site-packages (from nltk) (4.59.0)\n"
     ]
    }
   ],
   "source": [
    "pip install nltk"
   ]
  },
  {
   "cell_type": "code",
   "execution_count": 2,
   "metadata": {},
   "outputs": [],
   "source": [
    "import nltk\n",
    "import string\n",
    "import re"
   ]
  },
  {
   "cell_type": "code",
   "execution_count": 3,
   "metadata": {},
   "outputs": [],
   "source": [
    "texto_original = \"\"\"Algoritmos inteligentes de aprendizados correndo supervisionados utilizam dados coletados. A partir dos dados coletados, um conjunto de característica é extraído. As características podem ser estruturais ou estatísticas. Correr correste corrida inteligente. As característica estruturais estabelecem relações entre os dados, inteligência enquanto que as estatísticas são características quantitativas. A partir das corrido características, os modelos de aprendizado de máquina corremos são construídos para o reconhecimento de atividades humanas.\"\"\""
   ]
  },
  {
   "cell_type": "code",
   "execution_count": 4,
   "metadata": {},
   "outputs": [
    {
     "output_type": "execute_result",
     "data": {
      "text/plain": [
       "'Algoritmos inteligentes de aprendizados correndo supervisionados utilizam dados coletados. A partir dos dados coletados, um conjunto de característica é extraído. As características podem ser estruturais ou estatísticas. Correr correste corrida inteligente. As característica estruturais estabelecem relações entre os dados, inteligência enquanto que as estatísticas são características quantitativas. A partir das corrido características, os modelos de aprendizado de máquina corremos são construídos para o reconhecimento de atividades humanas.'"
      ]
     },
     "metadata": {},
     "execution_count": 4
    }
   ],
   "source": [
    "texto_original"
   ]
  },
  {
   "cell_type": "code",
   "execution_count": 5,
   "metadata": {},
   "outputs": [],
   "source": [
    "#texto_original = re.sub(r'\\s+', '', texto_original)\n",
    "#texto_original"
   ]
  },
  {
   "cell_type": "code",
   "execution_count": 6,
   "metadata": {},
   "outputs": [],
   "source": [
    "def converte_para_minusculas(texto):\n",
    "    texto_formatado = texto.lower()\n",
    "    return texto_formatado"
   ]
  },
  {
   "cell_type": "code",
   "execution_count": 7,
   "metadata": {},
   "outputs": [
    {
     "output_type": "execute_result",
     "data": {
      "text/plain": [
       "'algoritmos inteligentes de aprendizados correndo supervisionados utilizam dados coletados. a partir dos dados coletados, um conjunto de característica é extraído. as características podem ser estruturais ou estatísticas. correr correste corrida inteligente. as característica estruturais estabelecem relações entre os dados, inteligência enquanto que as estatísticas são características quantitativas. a partir das corrido características, os modelos de aprendizado de máquina corremos são construídos para o reconhecimento de atividades humanas.'"
      ]
     },
     "metadata": {},
     "execution_count": 7
    }
   ],
   "source": [
    "texto_formatado = converte_para_minusculas(texto_original)\n",
    "texto_formatado"
   ]
  },
  {
   "cell_type": "code",
   "execution_count": 8,
   "metadata": {},
   "outputs": [
    {
     "output_type": "stream",
     "name": "stderr",
     "text": [
      "[nltk_data] Downloading package stopwords to\n[nltk_data]     C:\\Users\\andre\\AppData\\Roaming\\nltk_data...\n[nltk_data]   Package stopwords is already up-to-date!\n"
     ]
    },
    {
     "output_type": "execute_result",
     "data": {
      "text/plain": [
       "True"
      ]
     },
     "metadata": {},
     "execution_count": 8
    }
   ],
   "source": [
    "nltk.download('stopwords')"
   ]
  },
  {
   "cell_type": "code",
   "execution_count": 9,
   "metadata": {},
   "outputs": [],
   "source": [
    "stopwords = nltk.corpus.stopwords.words('portuguese')"
   ]
  },
  {
   "cell_type": "code",
   "execution_count": 10,
   "metadata": {},
   "outputs": [
    {
     "output_type": "stream",
     "name": "stdout",
     "text": [
      "['de', 'a', 'o', 'que', 'e', 'é', 'do', 'da', 'em', 'um', 'para', 'com', 'não', 'uma', 'os', 'no', 'se', 'na', 'por', 'mais', 'as', 'dos', 'como', 'mas', 'ao', 'ele', 'das', 'à', 'seu', 'sua', 'ou', 'quando', 'muito', 'nos', 'já', 'eu', 'também', 'só', 'pelo', 'pela', 'até', 'isso', 'ela', 'entre', 'depois', 'sem', 'mesmo', 'aos', 'seus', 'quem', 'nas', 'me', 'esse', 'eles', 'você', 'essa', 'num', 'nem', 'suas', 'meu', 'às', 'minha', 'numa', 'pelos', 'elas', 'qual', 'nós', 'lhe', 'deles', 'essas', 'esses', 'pelas', 'este', 'dele', 'tu', 'te', 'vocês', 'vos', 'lhes', 'meus', 'minhas', 'teu', 'tua', 'teus', 'tuas', 'nosso', 'nossa', 'nossos', 'nossas', 'dela', 'delas', 'esta', 'estes', 'estas', 'aquele', 'aquela', 'aqueles', 'aquelas', 'isto', 'aquilo', 'estou', 'está', 'estamos', 'estão', 'estive', 'esteve', 'estivemos', 'estiveram', 'estava', 'estávamos', 'estavam', 'estivera', 'estivéramos', 'esteja', 'estejamos', 'estejam', 'estivesse', 'estivéssemos', 'estivessem', 'estiver', 'estivermos', 'estiverem', 'hei', 'há', 'havemos', 'hão', 'houve', 'houvemos', 'houveram', 'houvera', 'houvéramos', 'haja', 'hajamos', 'hajam', 'houvesse', 'houvéssemos', 'houvessem', 'houver', 'houvermos', 'houverem', 'houverei', 'houverá', 'houveremos', 'houverão', 'houveria', 'houveríamos', 'houveriam', 'sou', 'somos', 'são', 'era', 'éramos', 'eram', 'fui', 'foi', 'fomos', 'foram', 'fora', 'fôramos', 'seja', 'sejamos', 'sejam', 'fosse', 'fôssemos', 'fossem', 'for', 'formos', 'forem', 'serei', 'será', 'seremos', 'serão', 'seria', 'seríamos', 'seriam', 'tenho', 'tem', 'temos', 'tém', 'tinha', 'tínhamos', 'tinham', 'tive', 'teve', 'tivemos', 'tiveram', 'tivera', 'tivéramos', 'tenha', 'tenhamos', 'tenham', 'tivesse', 'tivéssemos', 'tivessem', 'tiver', 'tivermos', 'tiverem', 'terei', 'terá', 'teremos', 'terão', 'teria', 'teríamos', 'teriam']\n"
     ]
    }
   ],
   "source": [
    "print(stopwords)"
   ]
  },
  {
   "cell_type": "code",
   "execution_count": 11,
   "metadata": {},
   "outputs": [
    {
     "output_type": "execute_result",
     "data": {
      "text/plain": [
       "204"
      ]
     },
     "metadata": {},
     "execution_count": 11
    }
   ],
   "source": [
    "len(stopwords)"
   ]
  },
  {
   "cell_type": "code",
   "execution_count": 12,
   "metadata": {},
   "outputs": [
    {
     "output_type": "stream",
     "name": "stdout",
     "text": [
      "['de', 'a', 'o', 'que', 'e', 'é', 'do', 'da', 'em', 'um', 'para', 'com', 'não', 'uma', 'os', 'no', 'se', 'na', 'por', 'mais', 'as', 'dos', 'como', 'mas', 'ao', 'ele', 'das', 'à', 'seu', 'sua', 'ou', 'quando', 'muito', 'nos', 'já', 'eu', 'também', 'só', 'pelo', 'pela', 'até', 'isso', 'ela', 'entre', 'depois', 'sem', 'mesmo', 'aos', 'seus', 'quem', 'nas', 'me', 'esse', 'eles', 'você', 'essa', 'num', 'nem', 'suas', 'meu', 'às', 'minha', 'numa', 'pelos', 'elas', 'qual', 'nós', 'lhe', 'deles', 'essas', 'esses', 'pelas', 'este', 'dele', 'tu', 'te', 'vocês', 'vos', 'lhes', 'meus', 'minhas', 'teu', 'tua', 'teus', 'tuas', 'nosso', 'nossa', 'nossos', 'nossas', 'dela', 'delas', 'esta', 'estes', 'estas', 'aquele', 'aquela', 'aqueles', 'aquelas', 'isto', 'aquilo', 'estou', 'está', 'estamos', 'estão', 'estive', 'esteve', 'estivemos', 'estiveram', 'estava', 'estávamos', 'estavam', 'estivera', 'estivéramos', 'esteja', 'estejamos', 'estejam', 'estivesse', 'estivéssemos', 'estivessem', 'estiver', 'estivermos', 'estiverem', 'hei', 'há', 'havemos', 'hão', 'houve', 'houvemos', 'houveram', 'houvera', 'houvéramos', 'haja', 'hajamos', 'hajam', 'houvesse', 'houvéssemos', 'houvessem', 'houver', 'houvermos', 'houverem', 'houverei', 'houverá', 'houveremos', 'houverão', 'houveria', 'houveríamos', 'houveriam', 'sou', 'somos', 'são', 'era', 'éramos', 'eram', 'fui', 'foi', 'fomos', 'foram', 'fora', 'fôramos', 'seja', 'sejamos', 'sejam', 'fosse', 'fôssemos', 'fossem', 'for', 'formos', 'forem', 'serei', 'será', 'seremos', 'serão', 'seria', 'seríamos', 'seriam', 'tenho', 'tem', 'temos', 'tém', 'tinha', 'tínhamos', 'tinham', 'tive', 'teve', 'tivemos', 'tiveram', 'tivera', 'tivéramos', 'tenha', 'tenhamos', 'tenham', 'tivesse', 'tivéssemos', 'tivessem', 'tiver', 'tivermos', 'tiverem', 'terei', 'terá', 'teremos', 'terão', 'teria', 'teríamos', 'teriam', 'ola']\n['de', 'a', 'o', 'que', 'e', 'é', 'do', 'da', 'em', 'um', 'para', 'com', 'não', 'uma', 'os', 'no', 'se', 'na', 'por', 'mais', 'as', 'dos', 'como', 'mas', 'ao', 'ele', 'das', 'à', 'seu', 'sua', 'ou', 'quando', 'muito', 'nos', 'já', 'eu', 'também', 'só', 'pelo', 'pela', 'até', 'isso', 'ela', 'entre', 'depois', 'sem', 'mesmo', 'aos', 'seus', 'quem', 'nas', 'me', 'esse', 'eles', 'você', 'essa', 'num', 'nem', 'suas', 'meu', 'às', 'minha', 'numa', 'pelos', 'elas', 'qual', 'nós', 'lhe', 'deles', 'essas', 'esses', 'pelas', 'este', 'dele', 'tu', 'te', 'vocês', 'vos', 'lhes', 'meus', 'minhas', 'teu', 'tua', 'teus', 'tuas', 'nosso', 'nossa', 'nossos', 'nossas', 'dela', 'delas', 'esta', 'estes', 'estas', 'aquele', 'aquela', 'aqueles', 'aquelas', 'isto', 'aquilo', 'estou', 'está', 'estamos', 'estão', 'estive', 'esteve', 'estivemos', 'estiveram', 'estava', 'estávamos', 'estavam', 'estivera', 'estivéramos', 'esteja', 'estejamos', 'estejam', 'estivesse', 'estivéssemos', 'estivessem', 'estiver', 'estivermos', 'estiverem', 'hei', 'há', 'havemos', 'hão', 'houve', 'houvemos', 'houveram', 'houvera', 'houvéramos', 'haja', 'hajamos', 'hajam', 'houvesse', 'houvéssemos', 'houvessem', 'houver', 'houvermos', 'houverem', 'houverei', 'houverá', 'houveremos', 'houverão', 'houveria', 'houveríamos', 'houveriam', 'sou', 'somos', 'são', 'era', 'éramos', 'eram', 'fui', 'foi', 'fomos', 'foram', 'fora', 'fôramos', 'seja', 'sejamos', 'sejam', 'fosse', 'fôssemos', 'fossem', 'for', 'formos', 'forem', 'serei', 'será', 'seremos', 'serão', 'seria', 'seríamos', 'seriam', 'tenho', 'tem', 'temos', 'tém', 'tinha', 'tínhamos', 'tinham', 'tive', 'teve', 'tivemos', 'tiveram', 'tivera', 'tivéramos', 'tenha', 'tenhamos', 'tenham', 'tivesse', 'tivéssemos', 'tivessem', 'tiver', 'tivermos', 'tiverem', 'terei', 'terá', 'teremos', 'terão', 'teria', 'teríamos', 'teriam']\n"
     ]
    }
   ],
   "source": [
    "stopwords.append('ola')\n",
    "print(stopwords)\n",
    "stopwords.remove('ola')\n",
    "print(stopwords)"
   ]
  },
  {
   "cell_type": "code",
   "execution_count": 13,
   "metadata": {},
   "outputs": [],
   "source": [
    "def remove_stopwords(texto):\n",
    "    texto_formatado = converte_para_minusculas(texto)\n",
    "    tokens = [] # Lista de tokens\n",
    "    for token in nltk.word_tokenize(texto_formatado): # token é cada uma das palavras\n",
    "        tokens.append(token) # Insere na lista de tokens\n",
    "    \n",
    "    # Pega apenas os tokens que não estão nas stopwords\n",
    "    tokens = [cada_token for cada_token in tokens if cada_token not in stopwords and cada_token not in string.punctuation]\n",
    "\n",
    "    texto_formatado = ' '.join([str(cada_token) for cada_token in tokens if not cada_token.isdigit()])\n",
    "\n",
    "    return texto_formatado"
   ]
  },
  {
   "cell_type": "code",
   "execution_count": 14,
   "metadata": {},
   "outputs": [],
   "source": [
    "texto_formatado = remove_stopwords(texto_original)"
   ]
  },
  {
   "cell_type": "code",
   "execution_count": 15,
   "metadata": {},
   "outputs": [
    {
     "output_type": "execute_result",
     "data": {
      "text/plain": [
       "'!\"#$%&\\'()*+,-./:;<=>?@[\\\\]^_`{|}~'"
      ]
     },
     "metadata": {},
     "execution_count": 15
    }
   ],
   "source": [
    "string.punctuation"
   ]
  },
  {
   "cell_type": "code",
   "execution_count": 16,
   "metadata": {},
   "outputs": [
    {
     "output_type": "execute_result",
     "data": {
      "text/plain": [
       "FreqDist({'dados': 3, 'características': 3, 'coletados': 2, 'partir': 2, 'característica': 2, 'estruturais': 2, 'estatísticas': 2, 'algoritmos': 1, 'inteligentes': 1, 'aprendizados': 1, ...})"
      ]
     },
     "metadata": {},
     "execution_count": 16
    }
   ],
   "source": [
    "frequencia_palavras = nltk.FreqDist(nltk.word_tokenize(texto_formatado))\n",
    "frequencia_palavras"
   ]
  },
  {
   "cell_type": "code",
   "execution_count": 17,
   "metadata": {},
   "outputs": [
    {
     "output_type": "execute_result",
     "data": {
      "text/plain": [
       "dict_keys(['algoritmos', 'inteligentes', 'aprendizados', 'correndo', 'supervisionados', 'utilizam', 'dados', 'coletados', 'partir', 'conjunto', 'característica', 'extraído', 'características', 'podem', 'ser', 'estruturais', 'estatísticas', 'correr', 'correste', 'corrida', 'inteligente', 'estabelecem', 'relações', 'inteligência', 'enquanto', 'quantitativas', 'corrido', 'modelos', 'aprendizado', 'máquina', 'corremos', 'construídos', 'reconhecimento', 'atividades', 'humanas'])"
      ]
     },
     "metadata": {},
     "execution_count": 17
    }
   ],
   "source": [
    "frequencia_palavras.keys()"
   ]
  },
  {
   "cell_type": "code",
   "execution_count": 18,
   "metadata": {},
   "outputs": [
    {
     "output_type": "execute_result",
     "data": {
      "text/plain": [
       "3"
      ]
     },
     "metadata": {},
     "execution_count": 18
    }
   ],
   "source": [
    "frequencia_maxima = max(frequencia_palavras.values())\n",
    "frequencia_maxima"
   ]
  },
  {
   "cell_type": "code",
   "execution_count": 19,
   "metadata": {},
   "outputs": [],
   "source": [
    "for cada_palavra in frequencia_palavras.keys():\n",
    "    frequencia_palavras[cada_palavra] = frequencia_palavras[cada_palavra]/frequencia_maxima"
   ]
  },
  {
   "cell_type": "code",
   "execution_count": 20,
   "metadata": {},
   "outputs": [
    {
     "output_type": "execute_result",
     "data": {
      "text/plain": [
       "FreqDist({'dados': 1.0, 'características': 1.0, 'coletados': 0.6666666666666666, 'partir': 0.6666666666666666, 'característica': 0.6666666666666666, 'estruturais': 0.6666666666666666, 'estatísticas': 0.6666666666666666, 'algoritmos': 0.3333333333333333, 'inteligentes': 0.3333333333333333, 'aprendizados': 0.3333333333333333, ...})"
      ]
     },
     "metadata": {},
     "execution_count": 20
    }
   ],
   "source": [
    "frequencia_palavras"
   ]
  },
  {
   "cell_type": "code",
   "execution_count": 21,
   "metadata": {},
   "outputs": [
    {
     "output_type": "execute_result",
     "data": {
      "text/plain": [
       "['Algoritmos inteligentes de aprendizados correndo supervisionados utilizam dados coletados.',\n",
       " 'A partir dos dados coletados, um conjunto de característica é extraído.',\n",
       " 'As características podem ser estruturais ou estatísticas.',\n",
       " 'Correr correste corrida inteligente.',\n",
       " 'As característica estruturais estabelecem relações entre os dados, inteligência enquanto que as estatísticas são características quantitativas.',\n",
       " 'A partir das corrido características, os modelos de aprendizado de máquina corremos são construídos para o reconhecimento de atividades humanas.']"
      ]
     },
     "metadata": {},
     "execution_count": 21
    }
   ],
   "source": [
    "sentencas = nltk.sent_tokenize(texto_original)\n",
    "sentencas"
   ]
  },
  {
   "cell_type": "code",
   "execution_count": 22,
   "metadata": {},
   "outputs": [],
   "source": [
    "notas_das_sentencas = {}\n",
    "for cada_sentenca in sentencas:\n",
    "    # print(cada_sentenca)\n",
    "    for cada_palavra in nltk.word_tokenize(cada_sentenca.lower()):\n",
    "        # print(cada_palavra)\n",
    "        if cada_palavra in frequencia_palavras.keys():\n",
    "            if cada_sentenca not in notas_das_sentencas:\n",
    "                notas_das_sentencas[cada_sentenca] = frequencia_palavras[cada_palavra]\n",
    "            else:\n",
    "                notas_das_sentencas[cada_sentenca] += frequencia_palavras[cada_palavra]"
   ]
  },
  {
   "cell_type": "code",
   "execution_count": 23,
   "metadata": {},
   "outputs": [
    {
     "output_type": "execute_result",
     "data": {
      "text/plain": [
       "{'Algoritmos inteligentes de aprendizados correndo supervisionados utilizam dados coletados.': 3.6666666666666665,\n",
       " 'A partir dos dados coletados, um conjunto de característica é extraído.': 3.6666666666666665,\n",
       " 'As características podem ser estruturais ou estatísticas.': 2.9999999999999996,\n",
       " 'Correr correste corrida inteligente.': 1.3333333333333333,\n",
       " 'As característica estruturais estabelecem relações entre os dados, inteligência enquanto que as estatísticas são características quantitativas.': 5.666666666666667,\n",
       " 'A partir das corrido características, os modelos de aprendizado de máquina corremos são construídos para o reconhecimento de atividades humanas.': 4.666666666666667}"
      ]
     },
     "metadata": {},
     "execution_count": 23
    }
   ],
   "source": [
    "notas_das_sentencas"
   ]
  },
  {
   "cell_type": "code",
   "execution_count": 24,
   "metadata": {},
   "outputs": [],
   "source": [
    "import heapq"
   ]
  },
  {
   "cell_type": "code",
   "execution_count": 25,
   "metadata": {},
   "outputs": [
    {
     "output_type": "execute_result",
     "data": {
      "text/plain": [
       "['As característica estruturais estabelecem relações entre os dados, inteligência enquanto que as estatísticas são características quantitativas.',\n",
       " 'A partir das corrido características, os modelos de aprendizado de máquina corremos são construídos para o reconhecimento de atividades humanas.',\n",
       " 'Algoritmos inteligentes de aprendizados correndo supervisionados utilizam dados coletados.']"
      ]
     },
     "metadata": {},
     "execution_count": 25
    }
   ],
   "source": [
    "melhores_sentencas = heapq.nlargest(3, notas_das_sentencas, key = notas_das_sentencas.get)\n",
    "melhores_sentencas"
   ]
  },
  {
   "cell_type": "code",
   "execution_count": 26,
   "metadata": {},
   "outputs": [
    {
     "output_type": "execute_result",
     "data": {
      "text/plain": [
       "'As característica estruturais estabelecem relações entre os dados, inteligência enquanto que as estatísticas são características quantitativas.A partir das corrido características, os modelos de aprendizado de máquina corremos são construídos para o reconhecimento de atividades humanas.Algoritmos inteligentes de aprendizados correndo supervisionados utilizam dados coletados.'"
      ]
     },
     "metadata": {},
     "execution_count": 26
    }
   ],
   "source": [
    "resumo = ''.join(melhores_sentencas)\n",
    "resumo"
   ]
  },
  {
   "cell_type": "code",
   "execution_count": 27,
   "metadata": {},
   "outputs": [],
   "source": [
    "from IPython.core.display import HTML"
   ]
  },
  {
   "cell_type": "code",
   "execution_count": 28,
   "metadata": {},
   "outputs": [
    {
     "output_type": "display_data",
     "data": {
      "text/plain": "<IPython.core.display.HTML object>",
      "text/html": "<h1> RESUMO GERADO AUTOMATICAMENTE </h1>"
     },
     "metadata": {}
    },
    {
     "output_type": "display_data",
     "data": {
      "text/plain": "<IPython.core.display.HTML object>",
      "text/html": "<mark>Algoritmos inteligentes de aprendizados correndo supervisionados utilizam dados coletados.</mark> A partir dos dados coletados, um conjunto de característica é extraído. As características podem ser estruturais ou estatísticas. Correr correste corrida inteligente. <mark>As característica estruturais estabelecem relações entre os dados, inteligência enquanto que as estatísticas são características quantitativas.</mark> <mark>A partir das corrido características, os modelos de aprendizado de máquina corremos são construídos para o reconhecimento de atividades humanas.</mark> "
     },
     "metadata": {}
    }
   ],
   "source": [
    "texto_final = ''\n",
    "display(HTML(f'<h1> RESUMO GERADO AUTOMATICAMENTE </h1>'))\n",
    "\n",
    "for cada_sentenca in sentencas:\n",
    "    #texto_final = ''\n",
    "    #texto_final += cada_sentenca\n",
    "    if cada_sentenca in melhores_sentencas:\n",
    "        texto_final += str(cada_sentenca).replace(cada_sentenca, f\"<mark>{cada_sentenca}</mark>\")\n",
    "    else:\n",
    "        texto_final += str(cada_sentenca)\n",
    "    texto_final += ' '\n",
    "\n",
    "display(HTML(f\"\"\"{texto_final}\"\"\"))"
   ]
  },
  {
   "cell_type": "code",
   "execution_count": 29,
   "metadata": {},
   "outputs": [
    {
     "output_type": "stream",
     "name": "stdout",
     "text": [
      "Requirement already satisfied: goose3 in c:\\python38\\lib\\site-packages (3.1.8)\n",
      "Requirement already satisfied: Pillow in c:\\python38\\lib\\site-packages (from goose3) (8.1.0)\n",
      "Requirement already satisfied: jieba in c:\\python38\\lib\\site-packages (from goose3) (0.42.1)\n",
      "Requirement already satisfied: beautifulsoup4 in c:\\python38\\lib\\site-packages (from goose3) (4.9.1)\n",
      "Note: you may need to restart the kernel to use updated packages.\n",
      "WARNING: You are using pip version 20.2.2; however, version 21.0.1 is available.\n",
      "You should consider upgrading via the 'C:\\Python38\\python.exe -m pip install --upgrade pip' command.\n",
      "Requirement already satisfied: nltk in c:\\python38\\lib\\site-packages (from goose3) (3.5)\n",
      "Requirement already satisfied: requests in c:\\python38\\lib\\site-packages (from goose3) (2.24.0)\n",
      "Requirement already satisfied: lxml in c:\\python38\\lib\\site-packages (from goose3) (4.6.3)\n",
      "Requirement already satisfied: python-dateutil in c:\\users\\andre\\appdata\\roaming\\python\\python38\\site-packages (from goose3) (2.8.1)\n",
      "Requirement already satisfied: cssselect in c:\\python38\\lib\\site-packages (from goose3) (1.1.0)\n",
      "Requirement already satisfied: soupsieve>1.2 in c:\\python38\\lib\\site-packages (from beautifulsoup4->goose3) (2.0.1)\n",
      "Requirement already satisfied: click in c:\\python38\\lib\\site-packages (from nltk->goose3) (7.1.2)\n",
      "Requirement already satisfied: joblib in c:\\python38\\lib\\site-packages (from nltk->goose3) (1.0.1)\n",
      "Requirement already satisfied: regex in c:\\python38\\lib\\site-packages (from nltk->goose3) (2021.3.17)\n",
      "Requirement already satisfied: tqdm in c:\\python38\\lib\\site-packages (from nltk->goose3) (4.59.0)\n",
      "Requirement already satisfied: chardet<4,>=3.0.2 in c:\\python38\\lib\\site-packages (from requests->goose3) (3.0.4)\n",
      "Requirement already satisfied: certifi>=2017.4.17 in c:\\python38\\lib\\site-packages (from requests->goose3) (2020.6.20)\n",
      "Requirement already satisfied: urllib3!=1.25.0,!=1.25.1,<1.26,>=1.21.1 in c:\\python38\\lib\\site-packages (from requests->goose3) (1.25.10)\n",
      "Requirement already satisfied: idna<3,>=2.5 in c:\\python38\\lib\\site-packages (from requests->goose3) (2.10)\n",
      "Requirement already satisfied: six>=1.5 in c:\\users\\andre\\appdata\\roaming\\python\\python38\\site-packages (from python-dateutil->goose3) (1.15.0)\n"
     ]
    }
   ],
   "source": [
    "pip install goose3"
   ]
  },
  {
   "source": [
    "# Tarefa 1"
   ],
   "cell_type": "markdown",
   "metadata": {}
  },
  {
   "source": [
    "## 1. Stemizacao"
   ],
   "cell_type": "markdown",
   "metadata": {}
  },
  {
   "cell_type": "code",
   "execution_count": 30,
   "metadata": {},
   "outputs": [],
   "source": [
    "from nltk.stem.snowball import SnowballStemmer\n",
    "\n",
    "# É importante definir a lingua\n",
    "stemizador = SnowballStemmer('portuguese')"
   ]
  },
  {
   "cell_type": "code",
   "execution_count": 31,
   "metadata": {},
   "outputs": [
    {
     "output_type": "stream",
     "name": "stdout",
     "text": [
      "algoritmos  =  algoritm\ninteligentes  =  inteligent\naprendizados  =  aprendiz\ncorrendo  =  corr\nsupervisionados  =  supervision\nutilizam  =  utiliz\ndados  =  dad\ncoletados  =  colet\npartir  =  part\ndados  =  dad\ncoletados  =  colet\nconjunto  =  conjunt\ncaracterística  =  característ\nextraído  =  extraíd\ncaracterísticas  =  característ\npodem  =  pod\nser  =  ser\nestruturais  =  estrutur\nestatísticas  =  estatíst\ncorrer  =  corr\ncorreste  =  corr\ncorrida  =  corr\ninteligente  =  inteligent\ncaracterística  =  característ\nestruturais  =  estrutur\nestabelecem  =  estabelec\nrelações  =  relaçõ\ndados  =  dad\ninteligência  =  inteligent\nenquanto  =  enquant\nestatísticas  =  estatíst\ncaracterísticas  =  característ\nquantitativas  =  quantit\npartir  =  part\ncorrido  =  corr\ncaracterísticas  =  característ\nmodelos  =  model\naprendizado  =  aprendiz\nmáquina  =  máquin\ncorremos  =  corr\nconstruídos  =  construíd\nreconhecimento  =  reconhec\natividades  =  ativ\nhumanas  =  human\n"
     ]
    }
   ],
   "source": [
    "palavras_stemizadas = []\n",
    "for palavra in nltk.word_tokenize(texto_formatado):\n",
    "    print(palavra, ' = ', stemizador.stem(palavra))\n",
    "    palavras_stemizadas.append(stemizador.stem(palavra))"
   ]
  },
  {
   "cell_type": "code",
   "execution_count": 32,
   "metadata": {},
   "outputs": [
    {
     "output_type": "stream",
     "name": "stdout",
     "text": [
      "['algoritm', 'inteligent', 'aprendiz', 'corr', 'supervision', 'utiliz', 'dad', 'colet', 'part', 'dad', 'colet', 'conjunt', 'característ', 'extraíd', 'característ', 'pod', 'ser', 'estrutur', 'estatíst', 'corr', 'corr', 'corr', 'inteligent', 'característ', 'estrutur', 'estabelec', 'relaçõ', 'dad', 'inteligent', 'enquant', 'estatíst', 'característ', 'quantit', 'part', 'corr', 'característ', 'model', 'aprendiz', 'máquin', 'corr', 'construíd', 'reconhec', 'ativ', 'human']\n"
     ]
    }
   ],
   "source": [
    "print(palavras_stemizadas)"
   ]
  },
  {
   "cell_type": "code",
   "execution_count": 33,
   "metadata": {},
   "outputs": [
    {
     "output_type": "stream",
     "name": "stdout",
     "text": [
      "algoritm inteligent aprendiz corr supervision utiliz dad colet part dad colet conjunt característ extraíd característ pod ser estrutur estatíst corr corr corr inteligent característ estrutur estabelec relaçõ dad inteligent enquant estatíst característ quantit part corr característ model aprendiz máquin corr construíd reconhec ativ human\n"
     ]
    }
   ],
   "source": [
    "resultado = ' '.join([str(cada_token) for cada_token in palavras_stemizadas if not cada_token.isdigit()])\n",
    "print(resultado)"
   ]
  },
  {
   "cell_type": "code",
   "execution_count": 34,
   "metadata": {},
   "outputs": [
    {
     "output_type": "execute_result",
     "data": {
      "text/plain": [
       "FreqDist({'corr': 6, 'característ': 5, 'inteligent': 3, 'dad': 3, 'aprendiz': 2, 'colet': 2, 'part': 2, 'estrutur': 2, 'estatíst': 2, 'algoritm': 1, ...})"
      ]
     },
     "metadata": {},
     "execution_count": 34
    }
   ],
   "source": [
    "frequencia_palavras = nltk.FreqDist(nltk.word_tokenize(resultado))\n",
    "frequencia_palavras"
   ]
  },
  {
   "cell_type": "code",
   "execution_count": 35,
   "metadata": {},
   "outputs": [
    {
     "output_type": "execute_result",
     "data": {
      "text/plain": [
       "6"
      ]
     },
     "metadata": {},
     "execution_count": 35
    }
   ],
   "source": [
    "frequencia_maxima = max(frequencia_palavras.values())\n",
    "frequencia_maxima"
   ]
  },
  {
   "cell_type": "code",
   "execution_count": 36,
   "metadata": {},
   "outputs": [],
   "source": [
    "for cada_palavra in frequencia_palavras.keys():\n",
    "    frequencia_palavras[cada_palavra] = frequencia_palavras[cada_palavra]/frequencia_maxima"
   ]
  },
  {
   "cell_type": "code",
   "execution_count": 37,
   "metadata": {},
   "outputs": [
    {
     "output_type": "execute_result",
     "data": {
      "text/plain": [
       "FreqDist({'corr': 1.0, 'característ': 0.8333333333333334, 'inteligent': 0.5, 'dad': 0.5, 'aprendiz': 0.3333333333333333, 'colet': 0.3333333333333333, 'part': 0.3333333333333333, 'estrutur': 0.3333333333333333, 'estatíst': 0.3333333333333333, 'algoritm': 0.16666666666666666, ...})"
      ]
     },
     "metadata": {},
     "execution_count": 37
    }
   ],
   "source": [
    "frequencia_palavras"
   ]
  },
  {
   "cell_type": "code",
   "execution_count": 38,
   "metadata": {},
   "outputs": [],
   "source": [
    "notas_das_sentencas = {}\n",
    "for cada_sentenca in sentencas:\n",
    "    # print(cada_sentenca)\n",
    "    for cada_palavra in nltk.word_tokenize(cada_sentenca.lower()):\n",
    "        # print(cada_palavra)\n",
    "        aux = stemizador.stem(cada_palavra)\n",
    "        if aux in frequencia_palavras.keys():\n",
    "            if cada_sentenca not in notas_das_sentencas:\n",
    "                notas_das_sentencas[cada_sentenca] = frequencia_palavras[aux]\n",
    "            else:\n",
    "                notas_das_sentencas[cada_sentenca] += frequencia_palavras[aux]"
   ]
  },
  {
   "cell_type": "code",
   "execution_count": 39,
   "metadata": {},
   "outputs": [
    {
     "output_type": "execute_result",
     "data": {
      "text/plain": [
       "{'Algoritmos inteligentes de aprendizados correndo supervisionados utilizam dados coletados.': 3.1666666666666665,\n",
       " 'A partir dos dados coletados, um conjunto de característica é extraído.': 2.333333333333333,\n",
       " 'As características podem ser estruturais ou estatísticas.': 1.8333333333333333,\n",
       " 'Correr correste corrida inteligente.': 3.5,\n",
       " 'As característica estruturais estabelecem relações entre os dados, inteligência enquanto que as estatísticas são características quantitativas.': 4.0,\n",
       " 'A partir das corrido características, os modelos de aprendizado de máquina corremos são construídos para o reconhecimento de atividades humanas.': 4.5}"
      ]
     },
     "metadata": {},
     "execution_count": 39
    }
   ],
   "source": [
    "notas_das_sentencas"
   ]
  },
  {
   "cell_type": "code",
   "execution_count": 40,
   "metadata": {},
   "outputs": [
    {
     "output_type": "execute_result",
     "data": {
      "text/plain": [
       "['A partir das corrido características, os modelos de aprendizado de máquina corremos são construídos para o reconhecimento de atividades humanas.',\n",
       " 'As característica estruturais estabelecem relações entre os dados, inteligência enquanto que as estatísticas são características quantitativas.',\n",
       " 'Correr correste corrida inteligente.']"
      ]
     },
     "metadata": {},
     "execution_count": 40
    }
   ],
   "source": [
    "melhores_sentencas = heapq.nlargest(3, notas_das_sentencas, key = notas_das_sentencas.get)\n",
    "melhores_sentencas"
   ]
  },
  {
   "cell_type": "code",
   "execution_count": 41,
   "metadata": {},
   "outputs": [
    {
     "output_type": "execute_result",
     "data": {
      "text/plain": [
       "'A partir das corrido características, os modelos de aprendizado de máquina corremos são construídos para o reconhecimento de atividades humanas.As característica estruturais estabelecem relações entre os dados, inteligência enquanto que as estatísticas são características quantitativas.Correr correste corrida inteligente.'"
      ]
     },
     "metadata": {},
     "execution_count": 41
    }
   ],
   "source": [
    "resumo = ''.join(melhores_sentencas)\n",
    "resumo"
   ]
  },
  {
   "cell_type": "code",
   "execution_count": 42,
   "metadata": {},
   "outputs": [
    {
     "output_type": "display_data",
     "data": {
      "text/plain": "<IPython.core.display.HTML object>",
      "text/html": "<h1> RESUMO GERADO AUTOMATICAMENTE (Stemizadas)</h1>"
     },
     "metadata": {}
    },
    {
     "output_type": "display_data",
     "data": {
      "text/plain": "<IPython.core.display.HTML object>",
      "text/html": "Algoritmos inteligentes de aprendizados correndo supervisionados utilizam dados coletados. A partir dos dados coletados, um conjunto de característica é extraído. As características podem ser estruturais ou estatísticas. <mark>Correr correste corrida inteligente.</mark> <mark>As característica estruturais estabelecem relações entre os dados, inteligência enquanto que as estatísticas são características quantitativas.</mark> <mark>A partir das corrido características, os modelos de aprendizado de máquina corremos são construídos para o reconhecimento de atividades humanas.</mark> "
     },
     "metadata": {}
    }
   ],
   "source": [
    "texto_final = ''\n",
    "display(HTML(f'<h1> RESUMO GERADO AUTOMATICAMENTE (Stemizadas)</h1>'))\n",
    "\n",
    "for cada_sentenca in sentencas:\n",
    "    #texto_final = ''\n",
    "    #texto_final += cada_sentenca\n",
    "    if cada_sentenca in melhores_sentencas:\n",
    "        texto_final += str(cada_sentenca).replace(cada_sentenca, f\"<mark>{cada_sentenca}</mark>\")\n",
    "    else:\n",
    "        texto_final += str(cada_sentenca)\n",
    "    texto_final += ' '\n",
    "\n",
    "display(HTML(f\"\"\"{texto_final}\"\"\"))"
   ]
  },
  {
   "source": [
    "## 2. Lematizacao"
   ],
   "cell_type": "markdown",
   "metadata": {}
  },
  {
   "cell_type": "code",
   "execution_count": 43,
   "metadata": {},
   "outputs": [],
   "source": [
    "import spacy"
   ]
  },
  {
   "cell_type": "code",
   "execution_count": 44,
   "metadata": {},
   "outputs": [
    {
     "output_type": "stream",
     "name": "stdout",
     "text": [
      "Requirement already satisfied: pt-core-news-sm==3.0.0 from https://github.com/explosion/spacy-models/releases/download/pt_core_news_sm-3.0.0/pt_core_news_sm-3.0.0-py3-none-any.whl#egg=pt_core_news_sm==3.0.0 in c:\\python38\\lib\\site-packages (3.0.0)\n",
      "Requirement already satisfied: spacy<3.1.0,>=3.0.0 in c:\\python38\\lib\\site-packages (from pt-core-news-sm==3.0.0) (3.0.5)\n",
      "Requirement already satisfied: wasabi<1.1.0,>=0.8.1 in c:\\python38\\lib\\site-packages (from spacy<3.1.0,>=3.0.0->pt-core-news-sm==3.0.0) (0.8.2)\n",
      "Requirement already satisfied: requests<3.0.0,>=2.13.0 in c:\\python38\\lib\\site-packages (from spacy<3.1.0,>=3.0.0->pt-core-news-sm==3.0.0) (2.24.0)\n",
      "Requirement already satisfied: pydantic<1.8.0,>=1.7.1 in c:\\python38\\lib\\site-packages (from spacy<3.1.0,>=3.0.0->pt-core-news-sm==3.0.0) (1.7.3)\n",
      "Requirement already satisfied: preshed<3.1.0,>=3.0.2 in c:\\python38\\lib\\site-packages (from spacy<3.1.0,>=3.0.0->pt-core-news-sm==3.0.0) (3.0.5)\n",
      "Requirement already satisfied: typer<0.4.0,>=0.3.0 in c:\\python38\\lib\\site-packages (from spacy<3.1.0,>=3.0.0->pt-core-news-sm==3.0.0) (0.3.2)\n",
      "Requirement already satisfied: jinja2 in c:\\python38\\lib\\site-packages (from spacy<3.1.0,>=3.0.0->pt-core-news-sm==3.0.0) (2.11.3)\n",
      "Requirement already satisfied: setuptools in c:\\python38\\lib\\site-packages (from spacy<3.1.0,>=3.0.0->pt-core-news-sm==3.0.0) (47.1.0)\n",
      "Requirement already satisfied: thinc<8.1.0,>=8.0.2 in c:\\python38\\lib\\site-packages (from spacy<3.1.0,>=3.0.0->pt-core-news-sm==3.0.0) (8.0.2)\n",
      "Requirement already satisfied: packaging>=20.0 in c:\\python38\\lib\\site-packages (from spacy<3.1.0,>=3.0.0->pt-core-news-sm==3.0.0) (20.9)\n",
      "Requirement already satisfied: catalogue<2.1.0,>=2.0.1 in c:\\python38\\lib\\site-packages (from spacy<3.1.0,>=3.0.0->pt-core-news-sm==3.0.0) (2.0.1)\n",
      "Requirement already satisfied: srsly<3.0.0,>=2.4.0 in c:\\python38\\lib\\site-packages (from spacy<3.1.0,>=3.0.0->pt-core-news-sm==3.0.0) (2.4.0)\n",
      "Requirement already satisfied: cymem<2.1.0,>=2.0.2 in c:\\python38\\lib\\site-packages (from spacy<3.1.0,>=3.0.0->pt-core-news-sm==3.0.0) (2.0.5)\n",
      "Requirement already satisfied: pathy>=0.3.5 in c:\\python38\\lib\\site-packages (from spacy<3.1.0,>=3.0.0->pt-core-news-sm==3.0.0) (0.4.0)\n",
      "Requirement already satisfied: spacy-legacy<3.1.0,>=3.0.0 in c:\\python38\\lib\\site-packages (from spacy<3.1.0,>=3.0.0->pt-core-news-sm==3.0.0) (3.0.1)\n",
      "Requirement already satisfied: blis<0.8.0,>=0.4.0 in c:\\python38\\lib\\site-packages (from spacy<3.1.0,>=3.0.0->pt-core-news-sm==3.0.0) (0.7.4)\n",
      "Requirement already satisfied: tqdm<5.0.0,>=4.38.0 in c:\\python38\\lib\\site-packages (from spacy<3.1.0,>=3.0.0->pt-core-news-sm==3.0.0) (4.59.0)\n",
      "Requirement already satisfied: murmurhash<1.1.0,>=0.28.0 in c:\\python38\\lib\\site-packages (from spacy<3.1.0,>=3.0.0->pt-core-news-sm==3.0.0) (1.0.5)\n",
      "Requirement already satisfied: numpy>=1.15.0 in c:\\python38\\lib\\site-packages (from spacy<3.1.0,>=3.0.0->pt-core-news-sm==3.0.0) (1.20.1)\n",
      "Requirement already satisfied: idna<3,>=2.5 in c:\\python38\\lib\\site-packages (from requests<3.0.0,>=2.13.0->spacy<3.1.0,>=3.0.0->pt-core-news-sm==3.0.0) (2.10)\n",
      "Requirement already satisfied: chardet<4,>=3.0.2 in c:\\python38\\lib\\site-packages (from requests<3.0.0,>=2.13.0->spacy<3.1.0,>=3.0.0->pt-core-news-sm==3.0.0) (3.0.4)\n",
      "Requirement already satisfied: urllib3!=1.25.0,!=1.25.1,<1.26,>=1.21.1 in c:\\python38\\lib\\site-packages (from requests<3.0.0,>=2.13.0->spacy<3.1.0,>=3.0.0->pt-core-news-sm==3.0.0) (1.25.10)\n",
      "Requirement already satisfied: certifi>=2017.4.17 in c:\\python38\\lib\\site-packages (from requests<3.0.0,>=2.13.0->spacy<3.1.0,>=3.0.0->pt-core-news-sm==3.0.0) (2020.6.20)\n",
      "Requirement already satisfied: click<7.2.0,>=7.1.1 in c:\\python38\\lib\\site-packages (from typer<0.4.0,>=0.3.0->spacy<3.1.0,>=3.0.0->pt-core-news-sm==3.0.0) (7.1.2)\n",
      "Requirement already satisfied: MarkupSafe>=0.23 in c:\\python38\\lib\\site-packages (from jinja2->spacy<3.1.0,>=3.0.0->pt-core-news-sm==3.0.0) (1.1.1)\n",
      "Requirement already satisfied: pyparsing>=2.0.2 in c:\\python38\\lib\\site-packages (from packaging>=20.0->spacy<3.1.0,>=3.0.0->pt-core-news-sm==3.0.0) (2.4.7)\n",
      "Requirement already satisfied: smart-open<4.0.0,>=2.2.0 in c:\\python38\\lib\\site-packages (from pathy>=0.3.5->spacy<3.1.0,>=3.0.0->pt-core-news-sm==3.0.0) (3.0.0)\n",
      "✔ Download and installation successful\n",
      "You can now load the package via spacy.load('pt_core_news_sm')\n",
      "WARNING: You are using pip version 20.2.2; however, version 21.0.1 is available.\n",
      "You should consider upgrading via the 'C:\\Python38\\python.exe -m pip install --upgrade pip' command.\n"
     ]
    }
   ],
   "source": [
    "!python -m spacy download pt_core_news_sm"
   ]
  },
  {
   "cell_type": "code",
   "execution_count": 45,
   "metadata": {},
   "outputs": [
    {
     "output_type": "execute_result",
     "data": {
      "text/plain": [
       "<spacy.lang.pt.Portuguese at 0x1d4e3d346d0>"
      ]
     },
     "metadata": {},
     "execution_count": 45
    }
   ],
   "source": [
    "pln = spacy.load('pt_core_news_sm')\n",
    "pln"
   ]
  },
  {
   "cell_type": "code",
   "execution_count": 46,
   "metadata": {},
   "outputs": [],
   "source": [
    "palavras = pln(texto_formatado)"
   ]
  },
  {
   "cell_type": "code",
   "execution_count": 47,
   "metadata": {},
   "outputs": [
    {
     "output_type": "stream",
     "name": "stdout",
     "text": [
      "['algoritmo', 'inteligente', 'aprendizado', 'correr', 'supervisionar', 'utilizar', 'dar', 'coletados', 'partir', 'dar', 'coletados', 'conjuntar', 'característico', 'extrair', 'característico', 'poder', 'ser', 'estruturar', 'estatístico', 'correr', 'correr', 'corrido', 'inteligente', 'característico', 'estruturar', 'estabelecer', 'relação', 'dar', 'inteligência', 'enquanto', 'estatístico', 'característico', 'quantitativo', 'partir', 'correr', 'característico', 'modelo', 'aprendizado', 'máquina', 'correr', 'construir', 'reconhecimento', 'atividades', 'humano']\n"
     ]
    }
   ],
   "source": [
    "# Spacy já separa as palavras em tokens\n",
    "palavras_lematizadas = []\n",
    "for palavra in palavras:\n",
    "    #print(palavra.text, ' = ', palavra.lemma_)\n",
    "    palavras_lematizadas.append(palavra.lemma_)\n",
    "\n",
    "print(palavras_lematizadas)"
   ]
  },
  {
   "cell_type": "code",
   "execution_count": 48,
   "metadata": {},
   "outputs": [
    {
     "output_type": "stream",
     "name": "stdout",
     "text": [
      "algoritmo inteligente aprendizado correr supervisionar utilizar dar coletados partir dar coletados conjuntar característico extrair característico poder ser estruturar estatístico correr correr corrido inteligente característico estruturar estabelecer relação dar inteligência enquanto estatístico característico quantitativo partir correr característico modelo aprendizado máquina correr construir reconhecimento atividades humano\n"
     ]
    }
   ],
   "source": [
    "resultado = ' '.join([str(cada_token) for cada_token in palavras_lematizadas if not cada_token.isdigit()])\n",
    "print(resultado)"
   ]
  },
  {
   "cell_type": "code",
   "execution_count": 49,
   "metadata": {},
   "outputs": [
    {
     "output_type": "execute_result",
     "data": {
      "text/plain": [
       "FreqDist({'correr': 5, 'característico': 5, 'dar': 3, 'inteligente': 2, 'aprendizado': 2, 'coletados': 2, 'partir': 2, 'estruturar': 2, 'estatístico': 2, 'algoritmo': 1, ...})"
      ]
     },
     "metadata": {},
     "execution_count": 49
    }
   ],
   "source": [
    "frequencia_palavras = nltk.FreqDist(nltk.word_tokenize(resultado))\n",
    "frequencia_palavras"
   ]
  },
  {
   "cell_type": "code",
   "execution_count": 50,
   "metadata": {},
   "outputs": [
    {
     "output_type": "execute_result",
     "data": {
      "text/plain": [
       "5"
      ]
     },
     "metadata": {},
     "execution_count": 50
    }
   ],
   "source": [
    "frequencia_maxima = max(frequencia_palavras.values())\n",
    "frequencia_maxima"
   ]
  },
  {
   "cell_type": "code",
   "execution_count": 51,
   "metadata": {},
   "outputs": [
    {
     "output_type": "execute_result",
     "data": {
      "text/plain": [
       "FreqDist({'correr': 1.0, 'característico': 1.0, 'dar': 0.6, 'inteligente': 0.4, 'aprendizado': 0.4, 'coletados': 0.4, 'partir': 0.4, 'estruturar': 0.4, 'estatístico': 0.4, 'algoritmo': 0.2, ...})"
      ]
     },
     "metadata": {},
     "execution_count": 51
    }
   ],
   "source": [
    "for cada_palavra in frequencia_palavras.keys():\n",
    "    frequencia_palavras[cada_palavra] = frequencia_palavras[cada_palavra]/frequencia_maxima\n",
    "\n",
    "frequencia_palavras"
   ]
  },
  {
   "cell_type": "code",
   "execution_count": 52,
   "metadata": {},
   "outputs": [],
   "source": [
    "notas_das_sentencas = {}\n",
    "for cada_sentenca in sentencas:\n",
    "    # print(cada_sentenca)\n",
    "    \n",
    "    for cada_palavra in pln(cada_sentenca):\n",
    "        # print(cada_palavra)\n",
    "        aux = cada_palavra.lemma_\n",
    "        if aux in frequencia_palavras.keys():\n",
    "            if cada_sentenca not in notas_das_sentencas:\n",
    "                notas_das_sentencas[cada_sentenca] = frequencia_palavras[aux]\n",
    "            else:\n",
    "                notas_das_sentencas[cada_sentenca] += frequencia_palavras[aux]"
   ]
  },
  {
   "cell_type": "code",
   "execution_count": 53,
   "metadata": {},
   "outputs": [
    {
     "output_type": "execute_result",
     "data": {
      "text/plain": [
       "{'Algoritmos inteligentes de aprendizados correndo supervisionados utilizam dados coletados.': 3.2,\n",
       " 'A partir dos dados coletados, um conjunto de característica é extraído.': 3.0,\n",
       " 'As características podem ser estruturais ou estatísticas.': 2.1999999999999997,\n",
       " 'Correr correste corrida inteligente.': 1.6,\n",
       " 'As característica estruturais estabelecem relações entre os dados, inteligência enquanto que as estatísticas são características quantitativas.': 4.6000000000000005,\n",
       " 'A partir das corrido características, os modelos de aprendizado de máquina corremos são construídos para o reconhecimento de atividades humanas.': 5.200000000000001}"
      ]
     },
     "metadata": {},
     "execution_count": 53
    }
   ],
   "source": [
    "notas_das_sentencas"
   ]
  },
  {
   "cell_type": "code",
   "execution_count": 54,
   "metadata": {},
   "outputs": [
    {
     "output_type": "execute_result",
     "data": {
      "text/plain": [
       "['A partir das corrido características, os modelos de aprendizado de máquina corremos são construídos para o reconhecimento de atividades humanas.',\n",
       " 'As característica estruturais estabelecem relações entre os dados, inteligência enquanto que as estatísticas são características quantitativas.',\n",
       " 'Algoritmos inteligentes de aprendizados correndo supervisionados utilizam dados coletados.']"
      ]
     },
     "metadata": {},
     "execution_count": 54
    }
   ],
   "source": [
    "melhores_sentencas = heapq.nlargest(3, notas_das_sentencas, key = notas_das_sentencas.get)\n",
    "melhores_sentencas"
   ]
  },
  {
   "cell_type": "code",
   "execution_count": 55,
   "metadata": {},
   "outputs": [
    {
     "output_type": "execute_result",
     "data": {
      "text/plain": [
       "'A partir das corrido características, os modelos de aprendizado de máquina corremos são construídos para o reconhecimento de atividades humanas.As característica estruturais estabelecem relações entre os dados, inteligência enquanto que as estatísticas são características quantitativas.Algoritmos inteligentes de aprendizados correndo supervisionados utilizam dados coletados.'"
      ]
     },
     "metadata": {},
     "execution_count": 55
    }
   ],
   "source": [
    "resumo = ''.join(melhores_sentencas)\n",
    "resumo"
   ]
  },
  {
   "cell_type": "code",
   "execution_count": 56,
   "metadata": {},
   "outputs": [
    {
     "output_type": "display_data",
     "data": {
      "text/plain": "<IPython.core.display.HTML object>",
      "text/html": "<h1> RESUMO GERADO AUTOMATICAMENTE (Lematizacao)</h1>"
     },
     "metadata": {}
    },
    {
     "output_type": "display_data",
     "data": {
      "text/plain": "<IPython.core.display.HTML object>",
      "text/html": "<mark>Algoritmos inteligentes de aprendizados correndo supervisionados utilizam dados coletados.</mark> A partir dos dados coletados, um conjunto de característica é extraído. As características podem ser estruturais ou estatísticas. Correr correste corrida inteligente. <mark>As característica estruturais estabelecem relações entre os dados, inteligência enquanto que as estatísticas são características quantitativas.</mark> <mark>A partir das corrido características, os modelos de aprendizado de máquina corremos são construídos para o reconhecimento de atividades humanas.</mark> "
     },
     "metadata": {}
    }
   ],
   "source": [
    "texto_final = ''\n",
    "display(HTML(f'<h1> RESUMO GERADO AUTOMATICAMENTE (Lematizacao)</h1>'))\n",
    "\n",
    "for cada_sentenca in sentencas:\n",
    "    #texto_final = ''\n",
    "    #texto_final += cada_sentenca\n",
    "    if cada_sentenca in melhores_sentencas:\n",
    "        texto_final += str(cada_sentenca).replace(cada_sentenca, f\"<mark>{cada_sentenca}</mark>\")\n",
    "    else:\n",
    "        texto_final += str(cada_sentenca)\n",
    "    texto_final += ' '\n",
    "\n",
    "display(HTML(f\"\"\"{texto_final}\"\"\"))"
   ]
  },
  {
   "source": [
    "# Fim da Tarefa 1"
   ],
   "cell_type": "markdown",
   "metadata": {}
  },
  {
   "source": [
    "## Uso da lib Goose3"
   ],
   "cell_type": "markdown",
   "metadata": {}
  },
  {
   "cell_type": "code",
   "execution_count": 57,
   "metadata": {},
   "outputs": [],
   "source": [
    "from goose3 import Goose"
   ]
  },
  {
   "cell_type": "code",
   "execution_count": 58,
   "metadata": {},
   "outputs": [],
   "source": [
    "g = Goose()\n",
    "url = 'https://www.techtudo.com.br/noticias/2017/08/o-que-e-replika-app-usa-inteligencia-artificial-para-criar-um-clone-seu.ghtml'\n",
    "materia = g.extract(url)"
   ]
  },
  {
   "cell_type": "code",
   "execution_count": 59,
   "metadata": {},
   "outputs": [
    {
     "output_type": "execute_result",
     "data": {
      "text/plain": [
       "'O que é Replika? App usa inteligência artificial para criar um ‘clone’ seu'"
      ]
     },
     "metadata": {},
     "execution_count": 59
    }
   ],
   "source": [
    "materia.title"
   ]
  },
  {
   "cell_type": "code",
   "execution_count": 60,
   "metadata": {},
   "outputs": [
    {
     "output_type": "execute_result",
     "data": {
      "text/plain": [
       "['Fórum', 'Comparativo', 'Celulares', 'Jogos', 'Compra', 'Vale a pena']"
      ]
     },
     "metadata": {},
     "execution_count": 60
    }
   ],
   "source": [
    "materia.tags"
   ]
  },
  {
   "cell_type": "code",
   "execution_count": 61,
   "metadata": {},
   "outputs": [
    {
     "output_type": "execute_result",
     "data": {
      "text/plain": [
       "{'meta': {'description': 'Internautas fazem caçada a convite para entrar no aplicativo, disponível para Android e iOS.',\n",
       "  'lang': 'pt',\n",
       "  'keywords': '',\n",
       "  'favicon': 'https://s2.glbimg.com/cQ5xl9PYuy6IHjOnc9Rm4YJ3Zv0=/32x32/smart/filters:strip_icc()/i.s3.glbimg.com/v1/AUTH_08fbf48bc0524877943fe86e43087e7a/internal_photos/bs/2018/t/I/ZJyVpdQn6AlYmOrYQugA/tt-favicon.png',\n",
       "  'canonical': 'https://www.techtudo.com.br/noticias/2017/08/o-que-e-replika-app-usa-inteligencia-artificial-para-criar-um-clone-seu.ghtml',\n",
       "  'encoding': 'utf-8'},\n",
       " 'image': None,\n",
       " 'domain': 'www.techtudo.com.br',\n",
       " 'title': 'O que é Replika? App usa inteligência artificial para criar um ‘clone’ seu',\n",
       " 'cleaned_text': 'O Replika é um aplicativo que utiliza técnicas de inteligência artificial para aprender tudo sobre o usuário, inclusive seu jeito de escrever, criando uma espécie de clone virtual. A proposta é ter uma réplica de si no smartphone, capaz de conversar, entreter e, principalmente, fazer a pessoa aprender mais sobre si mesma.\\n\\nLançado em março, o app gratuito está disponível para download em celulares Android e iPhone (iOS), mas ainda em fase de testes. Por conta disso, segundo os desenvolvedores, o acesso é limitado a pessoas com convite. É necessário um código de ativação para usar o serviço, que, pelo menos por enquanto, só possui versão em inglês.\\n\\nO burburinho em torno do Replika chegou arrebatador no Brasil. A App Store tem o aplicativo em nono lugar do ranking, depois de subir 1,1 mil posições em apenas um dia, segundo a plataforma App Annie, que monitora aplicativos. O software não aparece entre os mais baixados da Google Play, a loja do Android.\\n\\nO Replika é feito para ser um amigo virtual, mas com a personalidade do próprio usuário. A inteligência do app aprende as características do dono fazendo muitas perguntas. Os questionamentos envolvem como foi o dia, quais são os sonhos, como é o trabalho e quem é seu melhor amigo, por exemplo.\\n\\nAlgumas dessas perguntas fazem parte das chamadas Sessions, espécies de sessões de terapia que podem ser visualizadas por quem não tem o app, por meio do perfil online. Ao responder, a pessoa sente como se estivesse fazendo amizade com alguém. A cada resposta, o usuário recebe pontos (XP), que servem para subir de nível.\\n\\nDurante esse processo, o aplicativo vai entendendo como é o humor da pessoa, como ela escreve e é inclusive capaz de atribuir Badges, que funcionam como emblemas da personalidade do usuário. Quanto mais conversa, mais a inteligência se parece com o indivíduo por trás do smartphone.\\n\\nCada usuário tem um perfil online, acessível por meio de um endereço que segue a seguinte estrutura: replika.ai/nome_de_usuário. Ali, constam o nome da pessoa, o apelido do Replika, sua foto, o nível em que ela está, quantos pontos XP tem, as badges e as sessions. As sessões são públicas por padrão, mas é possível ajustar a privacidade para fiquem visíveis a amigos ou para que ninguém as veja.\\n\\nInternautas do mundo inteiro buscam uma maneira de testar o Replika. O caminho até chegar à janela de chat consigo mesmo, no entanto, é relativamente complicado, pois o serviço requer um convite, entre outros requisitos. O primeiro passo é reservar um nome para sua Replika, procedimento feito no site da plataforma. Depois disso, é preciso informar o número do seu celular, para o qual será enviado um código de confirmação com quatro dígitos.\\n\\nEntão, o futuro usuário deve inserir o código no campo correspondente no site e pressionar o botão \"Confirm\". Nesse momento, é necessário se atentar ao código de convite. A maneira mais simples de consegui-lo é conhecendo alguém que já use o aplicativo. Se não for o seu caso, o jeito é preencher um formulário com nome, idade, email, nome da Replika, sistema do celular e gênero.\\n\\nApós o envio do formulário, o usuário receberá um email com link de confirmação. Somente depois dessa etapa é que o código de convite é enviado, mas isso também não é imediato: os desenvolvedores prometem mandar em 24 horas.\\n\\nA saudade foi a força motriz para a criação do Replika. Tudo começou em novembro de 2015, quando o melhor amigo de Eugenia Kuyda, a criadora do app, foi atropelado e faleceu. Roman Mazurenko, a vítima, havia saído de Moscou para os Estados Unidos na mesma época em que Eugenia. Quando não estavam perto um do outro, trocavam mensagens o tempo todo.\\n\\n\"Fui em sua página do Facebook e havia apenas alguns poucos links. Fui em seu Instagram e não havia fotos. A única coisa que podia fazer para me lembrar dele era ir ao nosso histórico do Messenger e ficar lendo tudo\", relata a desenvolvedora, que então teve a ideia de reconstruir o amigo a partir de seus restos digitais.\\n\\n\"Originalmente eu pensei \\'estou construindo um bot para ele, então eu vou aprender mais sobre ele neste processo\\'. Mas, eventualmente, o que aconteceu foi que eu comecei a me entender melhor\", Eugenia conta.',\n",
       " 'opengraph': {'title': 'O que é Replika? App usa inteligência artificial para criar um ‘clone’ seu',\n",
       "  'image:width': '1200',\n",
       "  'locale': 'pt_BR',\n",
       "  'site_name': 'TechTudo',\n",
       "  'url': 'https://www.techtudo.com.br/noticias/2017/08/o-que-e-replika-app-usa-inteligencia-artificial-para-criar-um-clone-seu.ghtml',\n",
       "  'description': 'Internautas fazem caçada a convite para entrar no aplicativo, disponível para Android e iOS.\\xa0',\n",
       "  'image': 'https://s2.glbimg.com/qWlDxbHEhaS_D-6v00F9wfggT-Y=/1200x/smart/filters:cover():strip_icc()/i.s3.glbimg.com/v1/AUTH_08fbf48bc0524877943fe86e43087e7a/internal_photos/bs/2017/e/v/wisjW1Qaq8QbgL8LNlxQ/1.conheca-o-replika-app-de-inteligencia-artificial-que-reproduz-sua-personalidade-copy.jpg',\n",
       "  'type': 'article'},\n",
       " 'tags': ['Fórum',\n",
       "  'Comparativo',\n",
       "  'Celulares',\n",
       "  'Jogos',\n",
       "  'Compra',\n",
       "  'Vale a pena'],\n",
       " 'tweets': [],\n",
       " 'movies': [],\n",
       " 'links': ['http://www.techtudo.com.br/mobile/android/',\n",
       "  'http://www.techtudo.com.br/tudo-sobre/iphone-7.html',\n",
       "  'http://www.techtudo.com.br/mobile/ios/',\n",
       "  'http://www.techtudo.com.br/dicas-e-tutoriais/2017/08/como-conseguir-codigo-de-convite-do-replika-para-android-e-iphone.ghtml',\n",
       "  'http://www.techtudo.com.br/tudo-sobre/app-store.html',\n",
       "  'http://www.techtudo.com.br/tudo-sobre/google-play.html',\n",
       "  'http://www.techtudo.com.br/listas/2017/08/alem-do-sarahah-relembre-outras-plataformas-de-mensagem-anonima.ghtml',\n",
       "  'http://forum.techtudo.com.br/perguntas/269238/como-compartilhar-o-codigo-do-replika'],\n",
       " 'authors': [''],\n",
       " 'publish_date': '2017-08-15T12:20:19.286Z'}"
      ]
     },
     "metadata": {},
     "execution_count": 61
    }
   ],
   "source": [
    "materia.infos"
   ]
  },
  {
   "cell_type": "code",
   "execution_count": 62,
   "metadata": {},
   "outputs": [
    {
     "output_type": "execute_result",
     "data": {
      "text/plain": [
       "'O Replika é um aplicativo que utiliza técnicas de inteligência artificial para aprender tudo sobre o usuário, inclusive seu jeito de escrever, criando uma espécie de clone virtual. A proposta é ter uma réplica de si no smartphone, capaz de conversar, entreter e, principalmente, fazer a pessoa aprender mais sobre si mesma.\\n\\nLançado em março, o app gratuito está disponível para download em celulares Android e iPhone (iOS), mas ainda em fase de testes. Por conta disso, segundo os desenvolvedores, o acesso é limitado a pessoas com convite. É necessário um código de ativação para usar o serviço, que, pelo menos por enquanto, só possui versão em inglês.\\n\\nO burburinho em torno do Replika chegou arrebatador no Brasil. A App Store tem o aplicativo em nono lugar do ranking, depois de subir 1,1 mil posições em apenas um dia, segundo a plataforma App Annie, que monitora aplicativos. O software não aparece entre os mais baixados da Google Play, a loja do Android.\\n\\nO Replika é feito para ser um amigo virtual, mas com a personalidade do próprio usuário. A inteligência do app aprende as características do dono fazendo muitas perguntas. Os questionamentos envolvem como foi o dia, quais são os sonhos, como é o trabalho e quem é seu melhor amigo, por exemplo.\\n\\nAlgumas dessas perguntas fazem parte das chamadas Sessions, espécies de sessões de terapia que podem ser visualizadas por quem não tem o app, por meio do perfil online. Ao responder, a pessoa sente como se estivesse fazendo amizade com alguém. A cada resposta, o usuário recebe pontos (XP), que servem para subir de nível.\\n\\nDurante esse processo, o aplicativo vai entendendo como é o humor da pessoa, como ela escreve e é inclusive capaz de atribuir Badges, que funcionam como emblemas da personalidade do usuário. Quanto mais conversa, mais a inteligência se parece com o indivíduo por trás do smartphone.\\n\\nCada usuário tem um perfil online, acessível por meio de um endereço que segue a seguinte estrutura: replika.ai/nome_de_usuário. Ali, constam o nome da pessoa, o apelido do Replika, sua foto, o nível em que ela está, quantos pontos XP tem, as badges e as sessions. As sessões são públicas por padrão, mas é possível ajustar a privacidade para fiquem visíveis a amigos ou para que ninguém as veja.\\n\\nInternautas do mundo inteiro buscam uma maneira de testar o Replika. O caminho até chegar à janela de chat consigo mesmo, no entanto, é relativamente complicado, pois o serviço requer um convite, entre outros requisitos. O primeiro passo é reservar um nome para sua Replika, procedimento feito no site da plataforma. Depois disso, é preciso informar o número do seu celular, para o qual será enviado um código de confirmação com quatro dígitos.\\n\\nEntão, o futuro usuário deve inserir o código no campo correspondente no site e pressionar o botão \"Confirm\". Nesse momento, é necessário se atentar ao código de convite. A maneira mais simples de consegui-lo é conhecendo alguém que já use o aplicativo. Se não for o seu caso, o jeito é preencher um formulário com nome, idade, email, nome da Replika, sistema do celular e gênero.\\n\\nApós o envio do formulário, o usuário receberá um email com link de confirmação. Somente depois dessa etapa é que o código de convite é enviado, mas isso também não é imediato: os desenvolvedores prometem mandar em 24 horas.\\n\\nA saudade foi a força motriz para a criação do Replika. Tudo começou em novembro de 2015, quando o melhor amigo de Eugenia Kuyda, a criadora do app, foi atropelado e faleceu. Roman Mazurenko, a vítima, havia saído de Moscou para os Estados Unidos na mesma época em que Eugenia. Quando não estavam perto um do outro, trocavam mensagens o tempo todo.\\n\\n\"Fui em sua página do Facebook e havia apenas alguns poucos links. Fui em seu Instagram e não havia fotos. A única coisa que podia fazer para me lembrar dele era ir ao nosso histórico do Messenger e ficar lendo tudo\", relata a desenvolvedora, que então teve a ideia de reconstruir o amigo a partir de seus restos digitais.\\n\\n\"Originalmente eu pensei \\'estou construindo um bot para ele, então eu vou aprender mais sobre ele neste processo\\'. Mas, eventualmente, o que aconteceu foi que eu comecei a me entender melhor\", Eugenia conta.'"
      ]
     },
     "metadata": {},
     "execution_count": 62
    }
   ],
   "source": [
    "materia.cleaned_text"
   ]
  },
  {
   "source": [
    "# Tarefa 2"
   ],
   "cell_type": "markdown",
   "metadata": {}
  },
  {
   "cell_type": "code",
   "execution_count": 64,
   "metadata": {},
   "outputs": [
    {
     "output_type": "execute_result",
     "data": {
      "text/plain": [
       "dict_keys(['algoritmo', 'inteligente', 'aprendizado', 'correr', 'supervisionar', 'utilizar', 'dar', 'coletados', 'partir', 'conjuntar', 'característico', 'extrair', 'poder', 'ser', 'estruturar', 'estatístico', 'corrido', 'estabelecer', 'relação', 'inteligência', 'enquanto', 'quantitativo', 'modelo', 'máquina', 'construir', 'reconhecimento', 'atividades', 'humano'])"
      ]
     },
     "metadata": {},
     "execution_count": 64
    }
   ],
   "source": [
    "frequencia_palavras.keys()"
   ]
  },
  {
   "cell_type": "code",
   "execution_count": 65,
   "metadata": {},
   "outputs": [
    {
     "output_type": "execute_result",
     "data": {
      "text/plain": [
       "FreqDist({'correr': 1.0, 'característico': 1.0, 'dar': 0.6, 'inteligente': 0.4, 'aprendizado': 0.4, 'coletados': 0.4, 'partir': 0.4, 'estruturar': 0.4, 'estatístico': 0.4, 'algoritmo': 0.2, ...})"
      ]
     },
     "metadata": {},
     "execution_count": 65
    }
   ],
   "source": [
    "frequencia_palavras"
   ]
  },
  {
   "cell_type": "code",
   "execution_count": 74,
   "metadata": {},
   "outputs": [
    {
     "output_type": "execute_result",
     "data": {
      "text/plain": [
       "[['de', 1], ['de', 1], ['de', 1], ['coletados', 1]]"
      ]
     },
     "metadata": {},
     "execution_count": 74
    }
   ],
   "source": [
    "frase = \"\"\"Algoritmos de aprendizados supervisionados utilizam dados coletados\"\"\".split(' ')\n",
    "frequencia_palavras_frase = []\n",
    "\n",
    "for palavra in frase:\n",
    "    for freq_palavra in frequencia_palavras:\n",
    "        if palavra in freq_palavra:\n",
    "            frequencia_palavras_frase.append([palavra, 1])\n",
    "\n",
    "frequencia_palavras_frase"
   ]
  },
  {
   "cell_type": "code",
   "execution_count": 72,
   "metadata": {},
   "outputs": [
    {
     "output_type": "stream",
     "name": "stdout",
     "text": [
      "correr\ncaracterístico\ndar\ninteligente\naprendizado\ncoletados\npartir\nestruturar\nestatístico\nalgoritmo\nsupervisionar\nutilizar\nconjuntar\nextrair\npoder\nser\ncorrido\nestabelecer\nrelação\ninteligência\nenquanto\nquantitativo\nmodelo\nmáquina\nconstruir\nreconhecimento\natividades\nhumano\n"
     ]
    }
   ],
   "source": [
    "for x in frequencia_palavras:\n",
    "    print(x)"
   ]
  }
 ]
}