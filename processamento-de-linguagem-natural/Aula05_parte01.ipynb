{
 "cells": [
  {
   "cell_type": "code",
   "execution_count": 1,
   "metadata": {},
   "outputs": [],
   "source": [
    "import nltk\n",
    "import string\n",
    "import re"
   ]
  },
  {
   "cell_type": "code",
   "execution_count": 2,
   "metadata": {},
   "outputs": [
    {
     "output_type": "execute_result",
     "data": {
      "text/plain": [
       "'Algoritmos de aprendizado supervisionado utilizam dados coletados. A partir dos dados coletados, \\n                    um conjunto de características é extraído. As características podem ser estruturais ou estatísticas. \\n                    As características estruturais estabelecem relações entre os dados, enquanto que as estatísticas \\n                    são características quantitativas. A partir das características, os modelos de aprendizado de \\n                    máquina são construídos para o reconhecimento de atividades humanas.'"
      ]
     },
     "metadata": {},
     "execution_count": 2
    }
   ],
   "source": [
    "texto_original = \"\"\"Algoritmos de aprendizado supervisionado utilizam dados coletados. A partir dos dados coletados, \n",
    "                    um conjunto de características é extraído. As características podem ser estruturais ou estatísticas. \n",
    "                    As características estruturais estabelecem relações entre os dados, enquanto que as estatísticas \n",
    "                    são características quantitativas. A partir das características, os modelos de aprendizado de \n",
    "                    máquina são construídos para o reconhecimento de atividades humanas.\"\"\"\n",
    "texto_original"
   ]
  },
  {
   "cell_type": "code",
   "execution_count": 3,
   "metadata": {},
   "outputs": [
    {
     "output_type": "execute_result",
     "data": {
      "text/plain": [
       "'Algoritmos de aprendizado supervisionado utilizam dados coletados. A partir dos dados coletados, um conjunto de características é extraído. As características podem ser estruturais ou estatísticas. As características estruturais estabelecem relações entre os dados, enquanto que as estatísticas são características quantitativas. A partir das características, os modelos de aprendizado de máquina são construídos para o reconhecimento de atividades humanas.'"
      ]
     },
     "metadata": {},
     "execution_count": 3
    }
   ],
   "source": [
    "texto_original = re.sub(r'\\s+',' ',texto_original)\n",
    "texto_original"
   ]
  },
  {
   "cell_type": "code",
   "execution_count": 4,
   "metadata": {},
   "outputs": [],
   "source": [
    "def converte_para_minusculas (texto):\n",
    "    return texto.lower()"
   ]
  },
  {
   "cell_type": "code",
   "execution_count": 5,
   "metadata": {},
   "outputs": [
    {
     "output_type": "stream",
     "name": "stderr",
     "text": [
      "[nltk_data] Downloading package stopwords to\n[nltk_data]     C:\\Users\\andre\\AppData\\Roaming\\nltk_data...\n[nltk_data]   Package stopwords is already up-to-date!\n"
     ]
    }
   ],
   "source": [
    "nltk.download('stopwords')\n",
    "stopwords = nltk.corpus.stopwords.words(\"portuguese\")"
   ]
  },
  {
   "cell_type": "code",
   "execution_count": 6,
   "metadata": {},
   "outputs": [],
   "source": [
    "def remove_stopwords (texto):\n",
    "    texto_formatado = converte_para_minusculas(texto)\n",
    "    tokens = [] # lista de tokens\n",
    "    for token in nltk.word_tokenize(texto_formatado): # token é cada uma das palavras\n",
    "        tokens.append(token) # insere na lista de tokens\n",
    "    tokens = [cada_token for cada_token in tokens if cada_token not in stopwords and cada_token not in string.punctuation] \n",
    "    texto_formatado = ' '.join([str(cada_token) for cada_token in tokens if not cada_token.isdigit()])\n",
    "    return texto_formatado   "
   ]
  },
  {
   "cell_type": "code",
   "execution_count": 7,
   "metadata": {},
   "outputs": [
    {
     "output_type": "execute_result",
     "data": {
      "text/plain": [
       "'algoritmos aprendizado supervisionado utilizam dados coletados partir dados coletados conjunto características extraído características podem ser estruturais estatísticas características estruturais estabelecem relações dados enquanto estatísticas características quantitativas partir características modelos aprendizado máquina construídos reconhecimento atividades humanas'"
      ]
     },
     "metadata": {},
     "execution_count": 7
    }
   ],
   "source": [
    "texto_formatado = remove_stopwords(texto_original)\n",
    "texto_formatado"
   ]
  },
  {
   "cell_type": "code",
   "execution_count": 8,
   "metadata": {},
   "outputs": [
    {
     "output_type": "execute_result",
     "data": {
      "text/plain": [
       "FreqDist({'características': 5, 'dados': 3, 'aprendizado': 2, 'coletados': 2, 'partir': 2, 'estruturais': 2, 'estatísticas': 2, 'algoritmos': 1, 'supervisionado': 1, 'utilizam': 1, ...})"
      ]
     },
     "metadata": {},
     "execution_count": 8
    }
   ],
   "source": [
    "frequencia_palavras = nltk.FreqDist(nltk.word_tokenize(texto_formatado))\n",
    "frequencia_palavras"
   ]
  },
  {
   "cell_type": "code",
   "execution_count": 9,
   "metadata": {},
   "outputs": [],
   "source": [
    "from sklearn.feature_extraction.text import CountVectorizer"
   ]
  },
  {
   "cell_type": "code",
   "execution_count": 10,
   "metadata": {},
   "outputs": [],
   "source": [
    "documento = ['Algoritmos de aprendizados supervisionados utilizam dados coletados.',\n",
    "'A partir dos dado coletado, conjunto de características é extraído.',\n",
    "'As características podem ser estruturais ou estatísticas.',\n",
    "'As características estruturais estabelecem relações entre os dados, enquanto que as estatísticas são características quantitativas.',\n",
    "'A partir das características, os modelos de aprendizado de máquina são construídos para o reconhecimento de atividades humanas.']"
   ]
  },
  {
   "cell_type": "code",
   "execution_count": 11,
   "metadata": {},
   "outputs": [
    {
     "output_type": "stream",
     "name": "stderr",
     "text": [
      "C:\\Python38\\lib\\site-packages\\sklearn\\utils\\validation.py:70: FutureWarning: Pass input=['Algoritmos de aprendizados supervisionados utilizam dados coletados.', 'A partir dos dado coletado, conjunto de características é extraído.', 'As características podem ser estruturais ou estatísticas.', 'As características estruturais estabelecem relações entre os dados, enquanto que as estatísticas são características quantitativas.', 'A partir das características, os modelos de aprendizado de máquina são construídos para o reconhecimento de atividades humanas.'] as keyword args. From version 1.0 (renaming of 0.25) passing these as positional arguments will result in an error\n  warnings.warn(f\"Pass {args_msg} as keyword args. From version \"\n"
     ]
    },
    {
     "output_type": "execute_result",
     "data": {
      "text/plain": [
       "{'dados': 1,\n",
       " 'partir': 5,\n",
       " 'características': 0,\n",
       " 'estruturais': 3,\n",
       " 'estatísticas': 2,\n",
       " 'os': 4,\n",
       " 'são': 6}"
      ]
     },
     "metadata": {},
     "execution_count": 11
    }
   ],
   "source": [
    "vetorizador = CountVectorizer(documento, binary=True, stop_words=['de','das','as','ou','dos'], min_df=2, max_df=0.85)\n",
    "BoW = vetorizador.fit_transform(documento)\n",
    "vetorizador.vocabulary_\n",
    "#BoW.shape\n"
   ]
  },
  {
   "cell_type": "code",
   "execution_count": 12,
   "metadata": {},
   "outputs": [
    {
     "output_type": "stream",
     "name": "stdout",
     "text": [
      "[[0 1 0 0 0 0 0]\n [1 0 0 0 0 1 0]\n [1 0 1 1 0 0 0]\n [1 1 1 1 1 0 1]\n [1 0 0 0 1 1 1]]\n"
     ]
    }
   ],
   "source": [
    "print(BoW.toarray())"
   ]
  },
  {
   "cell_type": "code",
   "execution_count": 13,
   "metadata": {},
   "outputs": [],
   "source": [
    "from sklearn.feature_extraction.text import TfidfVectorizer"
   ]
  },
  {
   "cell_type": "code",
   "execution_count": 14,
   "metadata": {},
   "outputs": [
    {
     "output_type": "stream",
     "name": "stdout",
     "text": [
      "[[0.         1.         0.         0.         0.         0.\n  0.        ]\n [0.57252551 0.         0.         0.         0.         0.8198869\n  0.        ]\n [0.44274009 0.         0.63402729 0.63402729 0.         0.\n  0.        ]\n [0.52974084 0.37930849 0.37930849 0.37930849 0.37930849 0.\n  0.37930849]\n [0.37391794 0.         0.         0.         0.53547032 0.53547032\n  0.53547032]]\n"
     ]
    }
   ],
   "source": [
    "vetorizador = TfidfVectorizer(documento, stop_words=['de','das','as','ou','dos'],min_df=2, max_df=0.8)\n",
    "BoW = vetorizador.fit_transform(documento)\n",
    "print(BoW.toarray())"
   ]
  },
  {
   "cell_type": "code",
   "execution_count": 15,
   "metadata": {},
   "outputs": [
    {
     "output_type": "execute_result",
     "data": {
      "text/plain": [
       "['algoritmos',\n",
       " 'aprendizado',\n",
       " 'supervisionado',\n",
       " 'utilizam',\n",
       " 'dados',\n",
       " 'coletados',\n",
       " 'partir',\n",
       " 'dados',\n",
       " 'coletados',\n",
       " 'conjunto',\n",
       " 'características',\n",
       " 'extraído',\n",
       " 'características',\n",
       " 'podem',\n",
       " 'ser',\n",
       " 'estruturais',\n",
       " 'estatísticas',\n",
       " 'características',\n",
       " 'estruturais',\n",
       " 'estabelecem',\n",
       " 'relações',\n",
       " 'dados',\n",
       " 'enquanto',\n",
       " 'estatísticas',\n",
       " 'características',\n",
       " 'quantitativas',\n",
       " 'partir',\n",
       " 'características',\n",
       " 'modelos',\n",
       " 'aprendizado',\n",
       " 'máquina',\n",
       " 'construídos',\n",
       " 'reconhecimento',\n",
       " 'atividades',\n",
       " 'humanas']"
      ]
     },
     "metadata": {},
     "execution_count": 15
    }
   ],
   "source": [
    "vetor_palavras = []\n",
    "for cada_palavra in nltk.word_tokenize(texto_formatado):\n",
    "    vetor_palavras.append(cada_palavra)\n",
    "vetor_palavras"
   ]
  },
  {
   "cell_type": "code",
   "execution_count": 16,
   "metadata": {},
   "outputs": [],
   "source": [
    "def identifica_bigramas (texto):\n",
    "    vetor_bigramas = []\n",
    "    for i in range(0, len(texto)):\n",
    "        if i == len(texto)-1:\n",
    "            break\n",
    "        else:\n",
    "            cada_bigrama = texto[i] + ' > ' + texto [i+1]\n",
    "    \n",
    "    vetor_bigramas.append(cada_bigrama)\n",
    "    return vetor_bigramas"
   ]
  },
  {
   "cell_type": "code",
   "execution_count": 17,
   "metadata": {},
   "outputs": [
    {
     "output_type": "execute_result",
     "data": {
      "text/plain": [
       "['atividades > humanas']"
      ]
     },
     "metadata": {},
     "execution_count": 17
    }
   ],
   "source": [
    "vetor_bigramas = identifica_bigramas(vetor_palavras)\n",
    "vetor_bigramas"
   ]
  },
  {
   "cell_type": "code",
   "execution_count": 18,
   "metadata": {},
   "outputs": [],
   "source": [
    "from nltk.collocations import BigramCollocationFinder"
   ]
  },
  {
   "cell_type": "code",
   "execution_count": 19,
   "metadata": {},
   "outputs": [],
   "source": [
    "medidas_bigramas = nltk.collocations.BigramAssocMeasures()"
   ]
  },
  {
   "cell_type": "code",
   "execution_count": 20,
   "metadata": {},
   "outputs": [
    {
     "output_type": "execute_result",
     "data": {
      "text/plain": [
       "[('dados', 'coletados'), ('estatísticas', 'características')]"
      ]
     },
     "metadata": {},
     "execution_count": 20
    }
   ],
   "source": [
    "bigramas_encontrados = BigramCollocationFinder.from_words(nltk.word_tokenize(texto_formatado))\n",
    "#bigramas_encontrados = nltk.FreqDist(nltk.bigrams(vetor_palavras))\n",
    "bigramas_encontrados.apply_freq_filter(2)\n",
    "bigramas_encontrados.nbest(medidas_bigramas.pmi, 5)\n"
   ]
  },
  {
   "source": [
    "## Parte 2"
   ],
   "cell_type": "markdown",
   "metadata": {}
  },
  {
   "cell_type": "code",
   "execution_count": 22,
   "metadata": {},
   "outputs": [
    {
     "output_type": "execute_result",
     "data": {
      "text/plain": [
       "['Algoritmos de aprendizado supervisionado utilizam dados coletados.',\n",
       " 'A partir dos dados coletados, um conjunto de características é extraído.',\n",
       " 'As características podem ser estruturais ou estatísticas.',\n",
       " 'As características estruturais estabelecem relações entre os dados, enquanto que as estatísticas são características quantitativas.',\n",
       " 'A partir das características, os modelos de aprendizado de máquina são construídos para o reconhecimento de atividades humanas.']"
      ]
     },
     "metadata": {},
     "execution_count": 22
    }
   ],
   "source": [
    "sentencas_originais = [sentenca for sentenca in nltk.sent_tokenize(texto_original)]\n",
    "sentencas_originais"
   ]
  },
  {
   "cell_type": "code",
   "execution_count": 23,
   "metadata": {},
   "outputs": [],
   "source": [
    "sentencas_formatadas = [remove_stopwords(sentenca_original) for sentenca_original in sentencas_originais]"
   ]
  },
  {
   "cell_type": "code",
   "execution_count": 24,
   "metadata": {},
   "outputs": [
    {
     "output_type": "execute_result",
     "data": {
      "text/plain": [
       "['Algoritmos de aprendizado supervisionado utilizam dados coletados.',\n",
       " 'A partir dos dados coletados, um conjunto de características é extraído.',\n",
       " 'As características podem ser estruturais ou estatísticas.',\n",
       " 'As características estruturais estabelecem relações entre os dados, enquanto que as estatísticas são características quantitativas.',\n",
       " 'A partir das características, os modelos de aprendizado de máquina são construídos para o reconhecimento de atividades humanas.']"
      ]
     },
     "metadata": {},
     "execution_count": 24
    }
   ],
   "source": [
    "sentencas_originais"
   ]
  },
  {
   "cell_type": "code",
   "execution_count": 25,
   "metadata": {},
   "outputs": [
    {
     "output_type": "execute_result",
     "data": {
      "text/plain": [
       "['algoritmos aprendizado supervisionado utilizam dados coletados',\n",
       " 'partir dados coletados conjunto características extraído',\n",
       " 'características podem ser estruturais estatísticas',\n",
       " 'características estruturais estabelecem relações dados enquanto estatísticas características quantitativas',\n",
       " 'partir características modelos aprendizado máquina construídos reconhecimento atividades humanas']"
      ]
     },
     "metadata": {},
     "execution_count": 25
    }
   ],
   "source": [
    "sentencas_formatadas"
   ]
  },
  {
   "cell_type": "code",
   "execution_count": 27,
   "metadata": {},
   "outputs": [
    {
     "output_type": "stream",
     "name": "stdout",
     "text": [
      "Collecting networkx\n",
      "  Downloading networkx-2.5.1-py3-none-any.whl (1.6 MB)\n",
      "Requirement already satisfied: decorator<5,>=4.3 in c:\\users\\andre\\appdata\\roaming\\python\\python38\\site-packages (from networkx) (4.4.2)\n",
      "Installing collected packages: networkx\n",
      "ERROR: Could not install packages due to an EnvironmentError: [WinError 5] Acesso negado: 'c:\\\\python38\\\\share'\n",
      "Consider using the `--user` option or check the permissions.\n",
      "\n",
      "WARNING: You are using pip version 20.2.2; however, version 21.0.1 is available.\n",
      "You should consider upgrading via the 'c:\\python38\\python.exe -m pip install --upgrade pip' command.\n"
     ]
    }
   ],
   "source": [
    "!pip install networkx"
   ]
  },
  {
   "cell_type": "code",
   "execution_count": 28,
   "metadata": {},
   "outputs": [],
   "source": [
    "from nltk.cluster.util import cosine_distance\n",
    "import networkx as nx"
   ]
  },
  {
   "cell_type": "code",
   "execution_count": 39,
   "metadata": {},
   "outputs": [],
   "source": [
    "def calcula_similaridade(sentenca_1, sentenca_2):\n",
    "    vetor_p1 = [cada_palavra for cada_palavra in nltk.word_tokenize(sentenca_1)]\n",
    "    vetor_p2 = [cada_palavra for cada_palavra in nltk.word_tokenize(sentenca_2)]\n",
    "    print(vetor_p1)\n",
    "    print(vetor_p2)\n",
    "    todas_palavras = list(vetor_p1 + vetor_p2)\n",
    "    print(todas_palavras)\n",
    "    vetor_s1 = [0] * len(todas_palavras)\n",
    "    vetor_s2 = [0] * len(todas_palavras)\n",
    "\n",
    "    for cada_palavra in vetor_p1:\n",
    "        vetor_s1[todas_palavras.index(cada_palavra)] += 1\n",
    "    \n",
    "    for cada_palavra in vetor_p1:\n",
    "        vetor_s2[todas_palavras.index(cada_palavra)] += 1\n",
    "\n",
    "    print(vetor_s1)\n",
    "    print(vetor_s2)\n",
    "\n",
    "    return 1-cosine_distance(vetor_s1, vetor_s2)\n"
   ]
  },
  {
   "cell_type": "code",
   "execution_count": 40,
   "metadata": {},
   "outputs": [
    {
     "output_type": "stream",
     "name": "stdout",
     "text": [
      "['algoritmos', 'aprendizado', 'supervisionado', 'utilizam', 'dados', 'coletados']\n['partir', 'dados', 'coletados', 'conjunto', 'características', 'extraído']\n['algoritmos', 'aprendizado', 'supervisionado', 'utilizam', 'dados', 'coletados', 'partir', 'dados', 'coletados', 'conjunto', 'características', 'extraído']\n[1, 1, 1, 1, 1, 1, 0, 0, 0, 0, 0, 0]\n[1, 1, 1, 1, 1, 1, 0, 0, 0, 0, 0, 0]\n"
     ]
    },
    {
     "output_type": "execute_result",
     "data": {
      "text/plain": [
       "1.0000000000000002"
      ]
     },
     "metadata": {},
     "execution_count": 40
    }
   ],
   "source": [
    "calcula_similaridade(sentencas_formatadas[0], sentencas_formatadas[1])"
   ]
  },
  {
   "cell_type": "code",
   "execution_count": 43,
   "metadata": {},
   "outputs": [],
   "source": [
    "import numpy as np"
   ]
  },
  {
   "cell_type": "code",
   "execution_count": 53,
   "metadata": {},
   "outputs": [],
   "source": [
    "def gera_matriz_similaridade(sentencas):\n",
    "    matriz_similaridades = np.zeros((len(sentencas), len(sentencas)))\n",
    "    \n",
    "    for i in range(len(sentencas)):\n",
    "        for j in range(len(sentencas)):\n",
    "            if i == j:\n",
    "                continue\n",
    "            else:\n",
    "                matriz_similaridades[i][j] = calcula_similaridade(sentencas[i], sentencas[j])\n",
    "\n",
    "    print(matriz_similaridades)\n",
    "    return matriz_similaridades"
   ]
  },
  {
   "cell_type": "code",
   "execution_count": 54,
   "metadata": {},
   "outputs": [
    {
     "output_type": "stream",
     "name": "stdout",
     "text": [
      "['algoritmos', 'aprendizado', 'supervisionado', 'utilizam', 'dados', 'coletados']\n['partir', 'dados', 'coletados', 'conjunto', 'características', 'extraído']\n['algoritmos', 'aprendizado', 'supervisionado', 'utilizam', 'dados', 'coletados', 'partir', 'dados', 'coletados', 'conjunto', 'características', 'extraído']\n[1, 1, 1, 1, 1, 1, 0, 0, 0, 0, 0, 0]\n[1, 1, 1, 1, 1, 1, 0, 0, 0, 0, 0, 0]\n['algoritmos', 'aprendizado', 'supervisionado', 'utilizam', 'dados', 'coletados']\n['características', 'podem', 'ser', 'estruturais', 'estatísticas']\n['algoritmos', 'aprendizado', 'supervisionado', 'utilizam', 'dados', 'coletados', 'características', 'podem', 'ser', 'estruturais', 'estatísticas']\n[1, 1, 1, 1, 1, 1, 0, 0, 0, 0, 0]\n[1, 1, 1, 1, 1, 1, 0, 0, 0, 0, 0]\n['algoritmos', 'aprendizado', 'supervisionado', 'utilizam', 'dados', 'coletados']\n['características', 'estruturais', 'estabelecem', 'relações', 'dados', 'enquanto', 'estatísticas', 'características', 'quantitativas']\n['algoritmos', 'aprendizado', 'supervisionado', 'utilizam', 'dados', 'coletados', 'características', 'estruturais', 'estabelecem', 'relações', 'dados', 'enquanto', 'estatísticas', 'características', 'quantitativas']\n[1, 1, 1, 1, 1, 1, 0, 0, 0, 0, 0, 0, 0, 0, 0]\n[1, 1, 1, 1, 1, 1, 0, 0, 0, 0, 0, 0, 0, 0, 0]\n['algoritmos', 'aprendizado', 'supervisionado', 'utilizam', 'dados', 'coletados']\n['partir', 'características', 'modelos', 'aprendizado', 'máquina', 'construídos', 'reconhecimento', 'atividades', 'humanas']\n['algoritmos', 'aprendizado', 'supervisionado', 'utilizam', 'dados', 'coletados', 'partir', 'características', 'modelos', 'aprendizado', 'máquina', 'construídos', 'reconhecimento', 'atividades', 'humanas']\n[1, 1, 1, 1, 1, 1, 0, 0, 0, 0, 0, 0, 0, 0, 0]\n[1, 1, 1, 1, 1, 1, 0, 0, 0, 0, 0, 0, 0, 0, 0]\n['partir', 'dados', 'coletados', 'conjunto', 'características', 'extraído']\n['algoritmos', 'aprendizado', 'supervisionado', 'utilizam', 'dados', 'coletados']\n['partir', 'dados', 'coletados', 'conjunto', 'características', 'extraído', 'algoritmos', 'aprendizado', 'supervisionado', 'utilizam', 'dados', 'coletados']\n[1, 1, 1, 1, 1, 1, 0, 0, 0, 0, 0, 0]\n[1, 1, 1, 1, 1, 1, 0, 0, 0, 0, 0, 0]\n['partir', 'dados', 'coletados', 'conjunto', 'características', 'extraído']\n['características', 'podem', 'ser', 'estruturais', 'estatísticas']\n['partir', 'dados', 'coletados', 'conjunto', 'características', 'extraído', 'características', 'podem', 'ser', 'estruturais', 'estatísticas']\n[1, 1, 1, 1, 1, 1, 0, 0, 0, 0, 0]\n[1, 1, 1, 1, 1, 1, 0, 0, 0, 0, 0]\n['partir', 'dados', 'coletados', 'conjunto', 'características', 'extraído']\n['características', 'estruturais', 'estabelecem', 'relações', 'dados', 'enquanto', 'estatísticas', 'características', 'quantitativas']\n['partir', 'dados', 'coletados', 'conjunto', 'características', 'extraído', 'características', 'estruturais', 'estabelecem', 'relações', 'dados', 'enquanto', 'estatísticas', 'características', 'quantitativas']\n[1, 1, 1, 1, 1, 1, 0, 0, 0, 0, 0, 0, 0, 0, 0]\n[1, 1, 1, 1, 1, 1, 0, 0, 0, 0, 0, 0, 0, 0, 0]\n['partir', 'dados', 'coletados', 'conjunto', 'características', 'extraído']\n['partir', 'características', 'modelos', 'aprendizado', 'máquina', 'construídos', 'reconhecimento', 'atividades', 'humanas']\n['partir', 'dados', 'coletados', 'conjunto', 'características', 'extraído', 'partir', 'características', 'modelos', 'aprendizado', 'máquina', 'construídos', 'reconhecimento', 'atividades', 'humanas']\n[1, 1, 1, 1, 1, 1, 0, 0, 0, 0, 0, 0, 0, 0, 0]\n[1, 1, 1, 1, 1, 1, 0, 0, 0, 0, 0, 0, 0, 0, 0]\n['características', 'podem', 'ser', 'estruturais', 'estatísticas']\n['algoritmos', 'aprendizado', 'supervisionado', 'utilizam', 'dados', 'coletados']\n['características', 'podem', 'ser', 'estruturais', 'estatísticas', 'algoritmos', 'aprendizado', 'supervisionado', 'utilizam', 'dados', 'coletados']\n[1, 1, 1, 1, 1, 0, 0, 0, 0, 0, 0]\n[1, 1, 1, 1, 1, 0, 0, 0, 0, 0, 0]\n['características', 'podem', 'ser', 'estruturais', 'estatísticas']\n['partir', 'dados', 'coletados', 'conjunto', 'características', 'extraído']\n['características', 'podem', 'ser', 'estruturais', 'estatísticas', 'partir', 'dados', 'coletados', 'conjunto', 'características', 'extraído']\n[1, 1, 1, 1, 1, 0, 0, 0, 0, 0, 0]\n[1, 1, 1, 1, 1, 0, 0, 0, 0, 0, 0]\n['características', 'podem', 'ser', 'estruturais', 'estatísticas']\n['características', 'estruturais', 'estabelecem', 'relações', 'dados', 'enquanto', 'estatísticas', 'características', 'quantitativas']\n['características', 'podem', 'ser', 'estruturais', 'estatísticas', 'características', 'estruturais', 'estabelecem', 'relações', 'dados', 'enquanto', 'estatísticas', 'características', 'quantitativas']\n[1, 1, 1, 1, 1, 0, 0, 0, 0, 0, 0, 0, 0, 0]\n[1, 1, 1, 1, 1, 0, 0, 0, 0, 0, 0, 0, 0, 0]\n['características', 'podem', 'ser', 'estruturais', 'estatísticas']\n['partir', 'características', 'modelos', 'aprendizado', 'máquina', 'construídos', 'reconhecimento', 'atividades', 'humanas']\n['características', 'podem', 'ser', 'estruturais', 'estatísticas', 'partir', 'características', 'modelos', 'aprendizado', 'máquina', 'construídos', 'reconhecimento', 'atividades', 'humanas']\n[1, 1, 1, 1, 1, 0, 0, 0, 0, 0, 0, 0, 0, 0]\n[1, 1, 1, 1, 1, 0, 0, 0, 0, 0, 0, 0, 0, 0]\n['características', 'estruturais', 'estabelecem', 'relações', 'dados', 'enquanto', 'estatísticas', 'características', 'quantitativas']\n['algoritmos', 'aprendizado', 'supervisionado', 'utilizam', 'dados', 'coletados']\n['características', 'estruturais', 'estabelecem', 'relações', 'dados', 'enquanto', 'estatísticas', 'características', 'quantitativas', 'algoritmos', 'aprendizado', 'supervisionado', 'utilizam', 'dados', 'coletados']\n[2, 1, 1, 1, 1, 1, 1, 0, 1, 0, 0, 0, 0, 0, 0]\n[2, 1, 1, 1, 1, 1, 1, 0, 1, 0, 0, 0, 0, 0, 0]\n['características', 'estruturais', 'estabelecem', 'relações', 'dados', 'enquanto', 'estatísticas', 'características', 'quantitativas']\n['partir', 'dados', 'coletados', 'conjunto', 'características', 'extraído']\n['características', 'estruturais', 'estabelecem', 'relações', 'dados', 'enquanto', 'estatísticas', 'características', 'quantitativas', 'partir', 'dados', 'coletados', 'conjunto', 'características', 'extraído']\n[2, 1, 1, 1, 1, 1, 1, 0, 1, 0, 0, 0, 0, 0, 0]\n[2, 1, 1, 1, 1, 1, 1, 0, 1, 0, 0, 0, 0, 0, 0]\n['características', 'estruturais', 'estabelecem', 'relações', 'dados', 'enquanto', 'estatísticas', 'características', 'quantitativas']\n['características', 'podem', 'ser', 'estruturais', 'estatísticas']\n['características', 'estruturais', 'estabelecem', 'relações', 'dados', 'enquanto', 'estatísticas', 'características', 'quantitativas', 'características', 'podem', 'ser', 'estruturais', 'estatísticas']\n[2, 1, 1, 1, 1, 1, 1, 0, 1, 0, 0, 0, 0, 0]\n[2, 1, 1, 1, 1, 1, 1, 0, 1, 0, 0, 0, 0, 0]\n['características', 'estruturais', 'estabelecem', 'relações', 'dados', 'enquanto', 'estatísticas', 'características', 'quantitativas']\n['partir', 'características', 'modelos', 'aprendizado', 'máquina', 'construídos', 'reconhecimento', 'atividades', 'humanas']\n['características', 'estruturais', 'estabelecem', 'relações', 'dados', 'enquanto', 'estatísticas', 'características', 'quantitativas', 'partir', 'características', 'modelos', 'aprendizado', 'máquina', 'construídos', 'reconhecimento', 'atividades', 'humanas']\n[2, 1, 1, 1, 1, 1, 1, 0, 1, 0, 0, 0, 0, 0, 0, 0, 0, 0]\n[2, 1, 1, 1, 1, 1, 1, 0, 1, 0, 0, 0, 0, 0, 0, 0, 0, 0]\n['partir', 'características', 'modelos', 'aprendizado', 'máquina', 'construídos', 'reconhecimento', 'atividades', 'humanas']\n['algoritmos', 'aprendizado', 'supervisionado', 'utilizam', 'dados', 'coletados']\n['partir', 'características', 'modelos', 'aprendizado', 'máquina', 'construídos', 'reconhecimento', 'atividades', 'humanas', 'algoritmos', 'aprendizado', 'supervisionado', 'utilizam', 'dados', 'coletados']\n[1, 1, 1, 1, 1, 1, 1, 1, 1, 0, 0, 0, 0, 0, 0]\n[1, 1, 1, 1, 1, 1, 1, 1, 1, 0, 0, 0, 0, 0, 0]\n['partir', 'características', 'modelos', 'aprendizado', 'máquina', 'construídos', 'reconhecimento', 'atividades', 'humanas']\n['partir', 'dados', 'coletados', 'conjunto', 'características', 'extraído']\n['partir', 'características', 'modelos', 'aprendizado', 'máquina', 'construídos', 'reconhecimento', 'atividades', 'humanas', 'partir', 'dados', 'coletados', 'conjunto', 'características', 'extraído']\n[1, 1, 1, 1, 1, 1, 1, 1, 1, 0, 0, 0, 0, 0, 0]\n[1, 1, 1, 1, 1, 1, 1, 1, 1, 0, 0, 0, 0, 0, 0]\n['partir', 'características', 'modelos', 'aprendizado', 'máquina', 'construídos', 'reconhecimento', 'atividades', 'humanas']\n['características', 'podem', 'ser', 'estruturais', 'estatísticas']\n['partir', 'características', 'modelos', 'aprendizado', 'máquina', 'construídos', 'reconhecimento', 'atividades', 'humanas', 'características', 'podem', 'ser', 'estruturais', 'estatísticas']\n[1, 1, 1, 1, 1, 1, 1, 1, 1, 0, 0, 0, 0, 0]\n[1, 1, 1, 1, 1, 1, 1, 1, 1, 0, 0, 0, 0, 0]\n['partir', 'características', 'modelos', 'aprendizado', 'máquina', 'construídos', 'reconhecimento', 'atividades', 'humanas']\n['características', 'estruturais', 'estabelecem', 'relações', 'dados', 'enquanto', 'estatísticas', 'características', 'quantitativas']\n['partir', 'características', 'modelos', 'aprendizado', 'máquina', 'construídos', 'reconhecimento', 'atividades', 'humanas', 'características', 'estruturais', 'estabelecem', 'relações', 'dados', 'enquanto', 'estatísticas', 'características', 'quantitativas']\n[1, 1, 1, 1, 1, 1, 1, 1, 1, 0, 0, 0, 0, 0, 0, 0, 0, 0]\n[1, 1, 1, 1, 1, 1, 1, 1, 1, 0, 0, 0, 0, 0, 0, 0, 0, 0]\n[[0. 1. 1. 1. 1.]\n [1. 0. 1. 1. 1.]\n [1. 1. 0. 1. 1.]\n [1. 1. 1. 0. 1.]\n [1. 1. 1. 1. 0.]]\n"
     ]
    },
    {
     "output_type": "execute_result",
     "data": {
      "text/plain": [
       "array([[0., 1., 1., 1., 1.],\n",
       "       [1., 0., 1., 1., 1.],\n",
       "       [1., 1., 0., 1., 1.],\n",
       "       [1., 1., 1., 0., 1.],\n",
       "       [1., 1., 1., 1., 0.]])"
      ]
     },
     "metadata": {},
     "execution_count": 54
    }
   ],
   "source": [
    "gera_matriz_similaridade(sentencas_formatadas)"
   ]
  },
  {
   "cell_type": "code",
   "execution_count": 73,
   "metadata": {},
   "outputs": [],
   "source": [
    "def define_rank (texto, n):\n",
    "    sentencas_originais = [cada_sentenca for cada_sentenca in nltk.sent_tokenize(texto_original)]\n",
    "    sentencas_formatadas = [remove_stopwords(sentenca_original) for sentenca_original in sentencas_originais]\n",
    "    matriz_similaridades = gera_matriz_similaridade(sentencas_formatadas)\n",
    "    #print(matriz_similaridades)\n",
    "    grafo_similaridade = nx.from_numpy_array(matriz_similaridades)\n",
    "    #print(grafo_similaridade.nodes)\n",
    "    #print(grafo_similaridade.edges)\n",
    "    notas_sentencas = nx.pagerank(grafo_similaridade)\n",
    "    #print(notas_sentencas)\n",
    "    notas_ordenadas = sorted(((notas_sentencas[i],nota) for i, nota in enumerate(sentencas_originais)), reverse=True)\n",
    "    #print(notas_ordenadas)\n",
    "    melhoers_sentencas = []\n",
    "    for i in range(n):\n",
    "        melhores_sentencas.append(notas_ordenadas[i][1])\n",
    "    return sentencas_originias, melhores_sentencas, notas_ordenadas"
   ]
  },
  {
   "cell_type": "code",
   "execution_count": 74,
   "metadata": {},
   "outputs": [
    {
     "output_type": "stream",
     "name": "stdout",
     "text": [
      "['algoritmos', 'aprendizado', 'supervisionado', 'utilizam', 'dados', 'coletados']\n['partir', 'dados', 'coletados', 'conjunto', 'características', 'extraído']\n['algoritmos', 'aprendizado', 'supervisionado', 'utilizam', 'dados', 'coletados', 'partir', 'dados', 'coletados', 'conjunto', 'características', 'extraído']\n[1, 1, 1, 1, 1, 1, 0, 0, 0, 0, 0, 0]\n[1, 1, 1, 1, 1, 1, 0, 0, 0, 0, 0, 0]\n['algoritmos', 'aprendizado', 'supervisionado', 'utilizam', 'dados', 'coletados']\n['características', 'podem', 'ser', 'estruturais', 'estatísticas']\n['algoritmos', 'aprendizado', 'supervisionado', 'utilizam', 'dados', 'coletados', 'características', 'podem', 'ser', 'estruturais', 'estatísticas']\n[1, 1, 1, 1, 1, 1, 0, 0, 0, 0, 0]\n[1, 1, 1, 1, 1, 1, 0, 0, 0, 0, 0]\n['algoritmos', 'aprendizado', 'supervisionado', 'utilizam', 'dados', 'coletados']\n['características', 'estruturais', 'estabelecem', 'relações', 'dados', 'enquanto', 'estatísticas', 'características', 'quantitativas']\n['algoritmos', 'aprendizado', 'supervisionado', 'utilizam', 'dados', 'coletados', 'características', 'estruturais', 'estabelecem', 'relações', 'dados', 'enquanto', 'estatísticas', 'características', 'quantitativas']\n[1, 1, 1, 1, 1, 1, 0, 0, 0, 0, 0, 0, 0, 0, 0]\n[1, 1, 1, 1, 1, 1, 0, 0, 0, 0, 0, 0, 0, 0, 0]\n['algoritmos', 'aprendizado', 'supervisionado', 'utilizam', 'dados', 'coletados']\n['partir', 'características', 'modelos', 'aprendizado', 'máquina', 'construídos', 'reconhecimento', 'atividades', 'humanas']\n['algoritmos', 'aprendizado', 'supervisionado', 'utilizam', 'dados', 'coletados', 'partir', 'características', 'modelos', 'aprendizado', 'máquina', 'construídos', 'reconhecimento', 'atividades', 'humanas']\n[1, 1, 1, 1, 1, 1, 0, 0, 0, 0, 0, 0, 0, 0, 0]\n[1, 1, 1, 1, 1, 1, 0, 0, 0, 0, 0, 0, 0, 0, 0]\n['partir', 'dados', 'coletados', 'conjunto', 'características', 'extraído']\n['algoritmos', 'aprendizado', 'supervisionado', 'utilizam', 'dados', 'coletados']\n['partir', 'dados', 'coletados', 'conjunto', 'características', 'extraído', 'algoritmos', 'aprendizado', 'supervisionado', 'utilizam', 'dados', 'coletados']\n[1, 1, 1, 1, 1, 1, 0, 0, 0, 0, 0, 0]\n[1, 1, 1, 1, 1, 1, 0, 0, 0, 0, 0, 0]\n['partir', 'dados', 'coletados', 'conjunto', 'características', 'extraído']\n['características', 'podem', 'ser', 'estruturais', 'estatísticas']\n['partir', 'dados', 'coletados', 'conjunto', 'características', 'extraído', 'características', 'podem', 'ser', 'estruturais', 'estatísticas']\n[1, 1, 1, 1, 1, 1, 0, 0, 0, 0, 0]\n[1, 1, 1, 1, 1, 1, 0, 0, 0, 0, 0]\n['partir', 'dados', 'coletados', 'conjunto', 'características', 'extraído']\n['características', 'estruturais', 'estabelecem', 'relações', 'dados', 'enquanto', 'estatísticas', 'características', 'quantitativas']\n['partir', 'dados', 'coletados', 'conjunto', 'características', 'extraído', 'características', 'estruturais', 'estabelecem', 'relações', 'dados', 'enquanto', 'estatísticas', 'características', 'quantitativas']\n[1, 1, 1, 1, 1, 1, 0, 0, 0, 0, 0, 0, 0, 0, 0]\n[1, 1, 1, 1, 1, 1, 0, 0, 0, 0, 0, 0, 0, 0, 0]\n['partir', 'dados', 'coletados', 'conjunto', 'características', 'extraído']\n['partir', 'características', 'modelos', 'aprendizado', 'máquina', 'construídos', 'reconhecimento', 'atividades', 'humanas']\n['partir', 'dados', 'coletados', 'conjunto', 'características', 'extraído', 'partir', 'características', 'modelos', 'aprendizado', 'máquina', 'construídos', 'reconhecimento', 'atividades', 'humanas']\n[1, 1, 1, 1, 1, 1, 0, 0, 0, 0, 0, 0, 0, 0, 0]\n[1, 1, 1, 1, 1, 1, 0, 0, 0, 0, 0, 0, 0, 0, 0]\n['características', 'podem', 'ser', 'estruturais', 'estatísticas']\n['algoritmos', 'aprendizado', 'supervisionado', 'utilizam', 'dados', 'coletados']\n['características', 'podem', 'ser', 'estruturais', 'estatísticas', 'algoritmos', 'aprendizado', 'supervisionado', 'utilizam', 'dados', 'coletados']\n[1, 1, 1, 1, 1, 0, 0, 0, 0, 0, 0]\n[1, 1, 1, 1, 1, 0, 0, 0, 0, 0, 0]\n['características', 'podem', 'ser', 'estruturais', 'estatísticas']\n['partir', 'dados', 'coletados', 'conjunto', 'características', 'extraído']\n['características', 'podem', 'ser', 'estruturais', 'estatísticas', 'partir', 'dados', 'coletados', 'conjunto', 'características', 'extraído']\n[1, 1, 1, 1, 1, 0, 0, 0, 0, 0, 0]\n[1, 1, 1, 1, 1, 0, 0, 0, 0, 0, 0]\n['características', 'podem', 'ser', 'estruturais', 'estatísticas']\n['características', 'estruturais', 'estabelecem', 'relações', 'dados', 'enquanto', 'estatísticas', 'características', 'quantitativas']\n['características', 'podem', 'ser', 'estruturais', 'estatísticas', 'características', 'estruturais', 'estabelecem', 'relações', 'dados', 'enquanto', 'estatísticas', 'características', 'quantitativas']\n[1, 1, 1, 1, 1, 0, 0, 0, 0, 0, 0, 0, 0, 0]\n[1, 1, 1, 1, 1, 0, 0, 0, 0, 0, 0, 0, 0, 0]\n['características', 'podem', 'ser', 'estruturais', 'estatísticas']\n['partir', 'características', 'modelos', 'aprendizado', 'máquina', 'construídos', 'reconhecimento', 'atividades', 'humanas']\n['características', 'podem', 'ser', 'estruturais', 'estatísticas', 'partir', 'características', 'modelos', 'aprendizado', 'máquina', 'construídos', 'reconhecimento', 'atividades', 'humanas']\n[1, 1, 1, 1, 1, 0, 0, 0, 0, 0, 0, 0, 0, 0]\n[1, 1, 1, 1, 1, 0, 0, 0, 0, 0, 0, 0, 0, 0]\n['características', 'estruturais', 'estabelecem', 'relações', 'dados', 'enquanto', 'estatísticas', 'características', 'quantitativas']\n['algoritmos', 'aprendizado', 'supervisionado', 'utilizam', 'dados', 'coletados']\n['características', 'estruturais', 'estabelecem', 'relações', 'dados', 'enquanto', 'estatísticas', 'características', 'quantitativas', 'algoritmos', 'aprendizado', 'supervisionado', 'utilizam', 'dados', 'coletados']\n[2, 1, 1, 1, 1, 1, 1, 0, 1, 0, 0, 0, 0, 0, 0]\n[2, 1, 1, 1, 1, 1, 1, 0, 1, 0, 0, 0, 0, 0, 0]\n['características', 'estruturais', 'estabelecem', 'relações', 'dados', 'enquanto', 'estatísticas', 'características', 'quantitativas']\n['partir', 'dados', 'coletados', 'conjunto', 'características', 'extraído']\n['características', 'estruturais', 'estabelecem', 'relações', 'dados', 'enquanto', 'estatísticas', 'características', 'quantitativas', 'partir', 'dados', 'coletados', 'conjunto', 'características', 'extraído']\n[2, 1, 1, 1, 1, 1, 1, 0, 1, 0, 0, 0, 0, 0, 0]\n[2, 1, 1, 1, 1, 1, 1, 0, 1, 0, 0, 0, 0, 0, 0]\n['características', 'estruturais', 'estabelecem', 'relações', 'dados', 'enquanto', 'estatísticas', 'características', 'quantitativas']\n['características', 'podem', 'ser', 'estruturais', 'estatísticas']\n['características', 'estruturais', 'estabelecem', 'relações', 'dados', 'enquanto', 'estatísticas', 'características', 'quantitativas', 'características', 'podem', 'ser', 'estruturais', 'estatísticas']\n[2, 1, 1, 1, 1, 1, 1, 0, 1, 0, 0, 0, 0, 0]\n[2, 1, 1, 1, 1, 1, 1, 0, 1, 0, 0, 0, 0, 0]\n['características', 'estruturais', 'estabelecem', 'relações', 'dados', 'enquanto', 'estatísticas', 'características', 'quantitativas']\n['partir', 'características', 'modelos', 'aprendizado', 'máquina', 'construídos', 'reconhecimento', 'atividades', 'humanas']\n['características', 'estruturais', 'estabelecem', 'relações', 'dados', 'enquanto', 'estatísticas', 'características', 'quantitativas', 'partir', 'características', 'modelos', 'aprendizado', 'máquina', 'construídos', 'reconhecimento', 'atividades', 'humanas']\n[2, 1, 1, 1, 1, 1, 1, 0, 1, 0, 0, 0, 0, 0, 0, 0, 0, 0]\n[2, 1, 1, 1, 1, 1, 1, 0, 1, 0, 0, 0, 0, 0, 0, 0, 0, 0]\n['partir', 'características', 'modelos', 'aprendizado', 'máquina', 'construídos', 'reconhecimento', 'atividades', 'humanas']\n['algoritmos', 'aprendizado', 'supervisionado', 'utilizam', 'dados', 'coletados']\n['partir', 'características', 'modelos', 'aprendizado', 'máquina', 'construídos', 'reconhecimento', 'atividades', 'humanas', 'algoritmos', 'aprendizado', 'supervisionado', 'utilizam', 'dados', 'coletados']\n[1, 1, 1, 1, 1, 1, 1, 1, 1, 0, 0, 0, 0, 0, 0]\n[1, 1, 1, 1, 1, 1, 1, 1, 1, 0, 0, 0, 0, 0, 0]\n['partir', 'características', 'modelos', 'aprendizado', 'máquina', 'construídos', 'reconhecimento', 'atividades', 'humanas']\n['partir', 'dados', 'coletados', 'conjunto', 'características', 'extraído']\n['partir', 'características', 'modelos', 'aprendizado', 'máquina', 'construídos', 'reconhecimento', 'atividades', 'humanas', 'partir', 'dados', 'coletados', 'conjunto', 'características', 'extraído']\n[1, 1, 1, 1, 1, 1, 1, 1, 1, 0, 0, 0, 0, 0, 0]\n[1, 1, 1, 1, 1, 1, 1, 1, 1, 0, 0, 0, 0, 0, 0]\n['partir', 'características', 'modelos', 'aprendizado', 'máquina', 'construídos', 'reconhecimento', 'atividades', 'humanas']\n['características', 'podem', 'ser', 'estruturais', 'estatísticas']\n['partir', 'características', 'modelos', 'aprendizado', 'máquina', 'construídos', 'reconhecimento', 'atividades', 'humanas', 'características', 'podem', 'ser', 'estruturais', 'estatísticas']\n[1, 1, 1, 1, 1, 1, 1, 1, 1, 0, 0, 0, 0, 0]\n[1, 1, 1, 1, 1, 1, 1, 1, 1, 0, 0, 0, 0, 0]\n['partir', 'características', 'modelos', 'aprendizado', 'máquina', 'construídos', 'reconhecimento', 'atividades', 'humanas']\n['características', 'estruturais', 'estabelecem', 'relações', 'dados', 'enquanto', 'estatísticas', 'características', 'quantitativas']\n['partir', 'características', 'modelos', 'aprendizado', 'máquina', 'construídos', 'reconhecimento', 'atividades', 'humanas', 'características', 'estruturais', 'estabelecem', 'relações', 'dados', 'enquanto', 'estatísticas', 'características', 'quantitativas']\n[1, 1, 1, 1, 1, 1, 1, 1, 1, 0, 0, 0, 0, 0, 0, 0, 0, 0]\n[1, 1, 1, 1, 1, 1, 1, 1, 1, 0, 0, 0, 0, 0, 0, 0, 0, 0]\n[[0. 1. 1. 1. 1.]\n [1. 0. 1. 1. 1.]\n [1. 1. 0. 1. 1.]\n [1. 1. 1. 0. 1.]\n [1. 1. 1. 1. 0.]]\n"
     ]
    },
    {
     "output_type": "error",
     "ename": "NameError",
     "evalue": "name 'melhores_sentencas' is not defined",
     "traceback": [
      "\u001b[1;31m---------------------------------------------------------------------------\u001b[0m",
      "\u001b[1;31mNameError\u001b[0m                                 Traceback (most recent call last)",
      "\u001b[1;32m<ipython-input-74-f5b221a88dcf>\u001b[0m in \u001b[0;36m<module>\u001b[1;34m\u001b[0m\n\u001b[1;32m----> 1\u001b[1;33m \u001b[0msentencas_originais\u001b[0m\u001b[1;33m,\u001b[0m \u001b[0mmelhores_sentencas\u001b[0m\u001b[1;33m,\u001b[0m \u001b[0mnotas_ordenadas\u001b[0m \u001b[1;33m=\u001b[0m \u001b[0mdefine_rank\u001b[0m\u001b[1;33m(\u001b[0m\u001b[0mtexto_original\u001b[0m\u001b[1;33m,\u001b[0m \u001b[1;36m3\u001b[0m\u001b[1;33m)\u001b[0m\u001b[1;33m\u001b[0m\u001b[1;33m\u001b[0m\u001b[0m\n\u001b[0m",
      "\u001b[1;32m<ipython-input-73-e6609b1c3bd4>\u001b[0m in \u001b[0;36mdefine_rank\u001b[1;34m(texto, n)\u001b[0m\n\u001b[0;32m     13\u001b[0m     \u001b[0mmelhoers_sentencas\u001b[0m \u001b[1;33m=\u001b[0m \u001b[1;33m[\u001b[0m\u001b[1;33m]\u001b[0m\u001b[1;33m\u001b[0m\u001b[1;33m\u001b[0m\u001b[0m\n\u001b[0;32m     14\u001b[0m     \u001b[1;32mfor\u001b[0m \u001b[0mi\u001b[0m \u001b[1;32min\u001b[0m \u001b[0mrange\u001b[0m\u001b[1;33m(\u001b[0m\u001b[0mn\u001b[0m\u001b[1;33m)\u001b[0m\u001b[1;33m:\u001b[0m\u001b[1;33m\u001b[0m\u001b[1;33m\u001b[0m\u001b[0m\n\u001b[1;32m---> 15\u001b[1;33m         \u001b[0mmelhores_sentencas\u001b[0m\u001b[1;33m.\u001b[0m\u001b[0mappend\u001b[0m\u001b[1;33m(\u001b[0m\u001b[0mnotas_ordenadas\u001b[0m\u001b[1;33m[\u001b[0m\u001b[0mi\u001b[0m\u001b[1;33m]\u001b[0m\u001b[1;33m[\u001b[0m\u001b[1;36m1\u001b[0m\u001b[1;33m]\u001b[0m\u001b[1;33m)\u001b[0m\u001b[1;33m\u001b[0m\u001b[1;33m\u001b[0m\u001b[0m\n\u001b[0m\u001b[0;32m     16\u001b[0m     \u001b[1;32mreturn\u001b[0m \u001b[0msentencas_originias\u001b[0m\u001b[1;33m,\u001b[0m \u001b[0mmelhores_sentencas\u001b[0m\u001b[1;33m,\u001b[0m \u001b[0mnotas_ordenadas\u001b[0m\u001b[1;33m\u001b[0m\u001b[1;33m\u001b[0m\u001b[0m\n",
      "\u001b[1;31mNameError\u001b[0m: name 'melhores_sentencas' is not defined"
     ]
    }
   ],
   "source": [
    "sentencas_originais, melhores_sentencas, notas_ordenadas = define_rank(texto_original, 3)"
   ]
  },
  {
   "cell_type": "code",
   "execution_count": 75,
   "metadata": {},
   "outputs": [
    {
     "output_type": "execute_result",
     "data": {
      "text/plain": [
       "['Algoritmos de aprendizado supervisionado utilizam dados coletados.',\n",
       " 'A partir dos dados coletados, um conjunto de características é extraído.',\n",
       " 'As características podem ser estruturais ou estatísticas.',\n",
       " 'As características estruturais estabelecem relações entre os dados, enquanto que as estatísticas são características quantitativas.',\n",
       " 'A partir das características, os modelos de aprendizado de máquina são construídos para o reconhecimento de atividades humanas.']"
      ]
     },
     "metadata": {},
     "execution_count": 75
    }
   ],
   "source": [
    "sentencas_originais"
   ]
  },
  {
   "cell_type": "code",
   "execution_count": 76,
   "metadata": {},
   "outputs": [
    {
     "output_type": "error",
     "ename": "NameError",
     "evalue": "name 'melhores_sentencas' is not defined",
     "traceback": [
      "\u001b[1;31m---------------------------------------------------------------------------\u001b[0m",
      "\u001b[1;31mNameError\u001b[0m                                 Traceback (most recent call last)",
      "\u001b[1;32m<ipython-input-76-3cd216e7bd5f>\u001b[0m in \u001b[0;36m<module>\u001b[1;34m\u001b[0m\n\u001b[1;32m----> 1\u001b[1;33m \u001b[0mmelhores_sentencas\u001b[0m\u001b[1;33m\u001b[0m\u001b[1;33m\u001b[0m\u001b[0m\n\u001b[0m",
      "\u001b[1;31mNameError\u001b[0m: name 'melhores_sentencas' is not defined"
     ]
    }
   ],
   "source": [
    "melhores_sentencas"
   ]
  },
  {
   "cell_type": "code",
   "execution_count": 77,
   "metadata": {},
   "outputs": [
    {
     "output_type": "error",
     "ename": "NameError",
     "evalue": "name 'notas_ordenadas' is not defined",
     "traceback": [
      "\u001b[1;31m---------------------------------------------------------------------------\u001b[0m",
      "\u001b[1;31mNameError\u001b[0m                                 Traceback (most recent call last)",
      "\u001b[1;32m<ipython-input-77-60b73f225867>\u001b[0m in \u001b[0;36m<module>\u001b[1;34m\u001b[0m\n\u001b[1;32m----> 1\u001b[1;33m \u001b[0mnotas_ordenadas\u001b[0m\u001b[1;33m\u001b[0m\u001b[1;33m\u001b[0m\u001b[0m\n\u001b[0m",
      "\u001b[1;31mNameError\u001b[0m: name 'notas_ordenadas' is not defined"
     ]
    }
   ],
   "source": [
    "notas_ordenadas"
   ]
  }
 ],
 "metadata": {
  "kernelspec": {
   "name": "python385jvsc74a57bd02db524e06e9f5f4ffedc911c917cb75e12dbc923643829bf417064a77eb14d37",
   "display_name": "Python 3.8.5 64-bit"
  },
  "language_info": {
   "codemirror_mode": {
    "name": "ipython",
    "version": 3
   },
   "file_extension": ".py",
   "mimetype": "text/x-python",
   "name": "python",
   "nbconvert_exporter": "python",
   "pygments_lexer": "ipython3",
   "version": "3.8.5"
  },
  "metadata": {
   "interpreter": {
    "hash": "2db524e06e9f5f4ffedc911c917cb75e12dbc923643829bf417064a77eb14d37"
   }
  }
 },
 "nbformat": 4,
 "nbformat_minor": 2
}