{
 "cells": [
  {
   "cell_type": "code",
   "execution_count": 6,
   "metadata": {},
   "outputs": [
    {
     "output_type": "stream",
     "name": "stderr",
     "text": [
      "<frozen importlib._bootstrap>:219: RuntimeWarning: numpy.ufunc size changed, may indicate binary incompatibility. Expected 192 from C header, got 216 from PyObject\n"
     ]
    }
   ],
   "source": [
    "import nltk\n",
    "import string\n",
    "import re"
   ]
  },
  {
   "cell_type": "code",
   "execution_count": 7,
   "metadata": {},
   "outputs": [
    {
     "output_type": "execute_result",
     "data": {
      "text/plain": [
       "'Algoritmos de aprendizado supervisionado utilizam dados coletados. A partir dos dados coletados, \\n                    um conjunto de características é extraído. As características podem ser estruturais ou estatísticas. \\n                    As características estruturais estabelecem relações entre os dados, enquanto que as estatísticas \\n                    são características quantitativas. A partir das características, os modelos de aprendizado de \\n                    máquina são construídos para o reconhecimento de atividades humanas.'"
      ]
     },
     "metadata": {},
     "execution_count": 7
    }
   ],
   "source": [
    "texto_original = \"\"\"Algoritmos de aprendizado supervisionado utilizam dados coletados. A partir dos dados coletados, \n",
    "                    um conjunto de características é extraído. As características podem ser estruturais ou estatísticas. \n",
    "                    As características estruturais estabelecem relações entre os dados, enquanto que as estatísticas \n",
    "                    são características quantitativas. A partir das características, os modelos de aprendizado de \n",
    "                    máquina são construídos para o reconhecimento de atividades humanas.\"\"\"\n",
    "texto_original"
   ]
  },
  {
   "cell_type": "code",
   "execution_count": 8,
   "metadata": {},
   "outputs": [
    {
     "output_type": "execute_result",
     "data": {
      "text/plain": [
       "'Algoritmos de aprendizado supervisionado utilizam dados coletados. A partir dos dados coletados, um conjunto de características é extraído. As características podem ser estruturais ou estatísticas. As características estruturais estabelecem relações entre os dados, enquanto que as estatísticas são características quantitativas. A partir das características, os modelos de aprendizado de máquina são construídos para o reconhecimento de atividades humanas.'"
      ]
     },
     "metadata": {},
     "execution_count": 8
    }
   ],
   "source": [
    "texto_original = re.sub(r'\\s+',' ',texto_original)\n",
    "texto_original"
   ]
  },
  {
   "cell_type": "code",
   "execution_count": 9,
   "metadata": {},
   "outputs": [],
   "source": [
    "def converte_para_minusculas (texto):\n",
    "    return texto.lower()"
   ]
  },
  {
   "cell_type": "code",
   "execution_count": 10,
   "metadata": {},
   "outputs": [
    {
     "output_type": "stream",
     "name": "stderr",
     "text": [
      "[nltk_data] Downloading package stopwords to\n[nltk_data]     C:\\Users\\kaiov\\AppData\\Roaming\\nltk_data...\n[nltk_data]   Package stopwords is already up-to-date!\n"
     ]
    }
   ],
   "source": [
    "nltk.download('stopwords')\n",
    "stopwords = nltk.corpus.stopwords.words(\"portuguese\")"
   ]
  },
  {
   "cell_type": "code",
   "execution_count": 11,
   "metadata": {},
   "outputs": [],
   "source": [
    "def remove_stopwords (texto):\n",
    "    texto_formatado = converte_para_minusculas(texto)\n",
    "    tokens = [] # lista de tokens\n",
    "    for token in nltk.word_tokenize(texto_formatado): # token é cada uma das palavras\n",
    "        tokens.append(token) # insere na lista de tokens\n",
    "    tokens = [cada_token for cada_token in tokens if cada_token not in stopwords and cada_token not in string.punctuation] \n",
    "    texto_formatado = ' '.join([str(cada_token) for cada_token in tokens if not cada_token.isdigit()])\n",
    "    return texto_formatado   "
   ]
  },
  {
   "cell_type": "code",
   "execution_count": 12,
   "metadata": {},
   "outputs": [
    {
     "output_type": "execute_result",
     "data": {
      "text/plain": [
       "'algoritmos aprendizado supervisionado utilizam dados coletados partir dados coletados conjunto características extraído características podem ser estruturais estatísticas características estruturais estabelecem relações dados enquanto estatísticas características quantitativas partir características modelos aprendizado máquina construídos reconhecimento atividades humanas'"
      ]
     },
     "metadata": {},
     "execution_count": 12
    }
   ],
   "source": [
    "texto_formatado = remove_stopwords(texto_original)\n",
    "texto_formatado"
   ]
  },
  {
   "cell_type": "code",
   "execution_count": 13,
   "metadata": {},
   "outputs": [
    {
     "output_type": "execute_result",
     "data": {
      "text/plain": [
       "FreqDist({'características': 5, 'dados': 3, 'aprendizado': 2, 'coletados': 2, 'partir': 2, 'estruturais': 2, 'estatísticas': 2, 'algoritmos': 1, 'supervisionado': 1, 'utilizam': 1, ...})"
      ]
     },
     "metadata": {},
     "execution_count": 13
    }
   ],
   "source": [
    "frequencia_palavras = nltk.FreqDist(nltk.word_tokenize(texto_formatado))\n",
    "frequencia_palavras"
   ]
  },
  {
   "cell_type": "code",
   "execution_count": 14,
   "metadata": {},
   "outputs": [],
   "source": [
    "from sklearn.feature_extraction.text import CountVectorizer"
   ]
  },
  {
   "cell_type": "code",
   "execution_count": 15,
   "metadata": {},
   "outputs": [],
   "source": [
    "documento = ['Algoritmos de aprendizados supervisionados utilizam dados coletados.',\n",
    "'A partir dos dado coletado, conjunto de características é extraído.',\n",
    "'As características podem ser estruturais ou estatísticas.',\n",
    "'As características estruturais estabelecem relações entre os dados, enquanto que as estatísticas são características quantitativas.',\n",
    "'A partir das características, os modelos de aprendizado de máquina são construídos para o reconhecimento de atividades humanas.']"
   ]
  },
  {
   "cell_type": "code",
   "execution_count": 20,
   "metadata": {},
   "outputs": [
    {
     "output_type": "execute_result",
     "data": {
      "text/plain": [
       "{'dados': 1,\n",
       " 'partir': 5,\n",
       " 'características': 0,\n",
       " 'estruturais': 3,\n",
       " 'estatísticas': 2,\n",
       " 'os': 4,\n",
       " 'são': 6}"
      ]
     },
     "metadata": {},
     "execution_count": 20
    }
   ],
   "source": [
    "vetorizador = CountVectorizer(documento, binary=True, stop_words=['de','das','as','ou','dos'], min_df=2, max_df=0.85)\n",
    "BoW = vetorizador.fit_transform(documento)\n",
    "vetorizador.vocabulary_\n",
    "#BoW.shape\n"
   ]
  },
  {
   "cell_type": "code",
   "execution_count": 21,
   "metadata": {},
   "outputs": [
    {
     "output_type": "stream",
     "name": "stdout",
     "text": [
      "[[0 1 0 0 0 0 0]\n [1 0 0 0 0 1 0]\n [1 0 1 1 0 0 0]\n [1 1 1 1 1 0 1]\n [1 0 0 0 1 1 1]]\n"
     ]
    }
   ],
   "source": [
    "print(BoW.toarray())"
   ]
  },
  {
   "cell_type": "code",
   "execution_count": 22,
   "metadata": {},
   "outputs": [],
   "source": [
    "from sklearn.feature_extraction.text import TfidfVectorizer"
   ]
  },
  {
   "cell_type": "code",
   "execution_count": 23,
   "metadata": {},
   "outputs": [
    {
     "output_type": "stream",
     "name": "stdout",
     "text": [
      "[[0.         1.         0.         0.         0.         0.\n",
      "  0.        ]\n",
      " [0.57252551 0.         0.         0.         0.         0.8198869\n",
      "  0.        ]\n",
      " [0.44274009 0.         0.63402729 0.63402729 0.         0.\n",
      "  0.        ]\n",
      " [0.52974084 0.37930849 0.37930849 0.37930849 0.37930849 0.\n",
      "  0.37930849]\n",
      " [0.37391794 0.         0.         0.         0.53547032 0.53547032\n",
      "  0.53547032]]\n",
      "C:\\Users\\kaiov\\anaconda3\\lib\\site-packages\\sklearn\\utils\\validation.py:67: FutureWarning: Pass input=['Algoritmos de aprendizados supervisionados utilizam dados coletados.', 'A partir dos dado coletado, conjunto de características é extraído.', 'As características podem ser estruturais ou estatísticas.', 'As características estruturais estabelecem relações entre os dados, enquanto que as estatísticas são características quantitativas.', 'A partir das características, os modelos de aprendizado de máquina são construídos para o reconhecimento de atividades humanas.'] as keyword args. From version 0.25 passing these as positional arguments will result in an error\n",
      "  warnings.warn(\"Pass {} as keyword args. From version 0.25 \"\n"
     ]
    }
   ],
   "source": [
    "vetorizador = TfidfVectorizer(documento, stop_words=['de','das','as','ou','dos'],min_df=2, max_df=0.8)\n",
    "BoW = vetorizador.fit_transform(documento)\n",
    "print(BoW.toarray())"
   ]
  },
  {
   "cell_type": "code",
   "execution_count": 27,
   "metadata": {},
   "outputs": [
    {
     "output_type": "execute_result",
     "data": {
      "text/plain": [
       "['algoritmos',\n",
       " 'aprendizado',\n",
       " 'supervisionado',\n",
       " 'utilizam',\n",
       " 'dados',\n",
       " 'coletados',\n",
       " 'partir',\n",
       " 'dados',\n",
       " 'coletados',\n",
       " 'conjunto',\n",
       " 'características',\n",
       " 'extraído',\n",
       " 'características',\n",
       " 'podem',\n",
       " 'ser',\n",
       " 'estruturais',\n",
       " 'estatísticas',\n",
       " 'características',\n",
       " 'estruturais',\n",
       " 'estabelecem',\n",
       " 'relações',\n",
       " 'dados',\n",
       " 'enquanto',\n",
       " 'estatísticas',\n",
       " 'características',\n",
       " 'quantitativas',\n",
       " 'partir',\n",
       " 'características',\n",
       " 'modelos',\n",
       " 'aprendizado',\n",
       " 'máquina',\n",
       " 'construídos',\n",
       " 'reconhecimento',\n",
       " 'atividades',\n",
       " 'humanas']"
      ]
     },
     "metadata": {},
     "execution_count": 27
    }
   ],
   "source": [
    "vetor_palavras = []\n",
    "for cada_palavra in nltk.word_tokenize(texto_formatado):\n",
    "    vetor_palavras.append(cada_palavra)\n",
    "vetor_palavras"
   ]
  },
  {
   "cell_type": "code",
   "execution_count": 31,
   "metadata": {},
   "outputs": [],
   "source": [
    "def identifica_bigramas (texto):\n",
    "    vetor_bigramas = []\n",
    "    for i in range(0, len(texto)):\n",
    "        if i == len(texto)-1:\n",
    "            break\n",
    "        else:\n",
    "            cada_bigrama = texto[i] + ' > ' + texto [i+1]\n",
    "    \n",
    "    vetor_bigramas.append(cada_bigrama)\n",
    "    return vetor_bigramas"
   ]
  },
  {
   "cell_type": "code",
   "execution_count": 30,
   "metadata": {},
   "outputs": [
    {
     "output_type": "execute_result",
     "data": {
      "text/plain": [
       "['atividades > humanas']"
      ]
     },
     "metadata": {},
     "execution_count": 30
    }
   ],
   "source": [
    "vetor_bigramas = identifica_bigramas(vetor_palavras)\n",
    "vetor_bigramas"
   ]
  },
  {
   "cell_type": "code",
   "execution_count": 33,
   "metadata": {},
   "outputs": [],
   "source": [
    "from nltk.collocations import BigramCollocationFinder"
   ]
  },
  {
   "cell_type": "code",
   "execution_count": 34,
   "metadata": {},
   "outputs": [],
   "source": [
    "medidas_bigramas = nltk.collocations.BigramAssocMeasures()"
   ]
  },
  {
   "cell_type": "code",
   "execution_count": 38,
   "metadata": {},
   "outputs": [
    {
     "output_type": "execute_result",
     "data": {
      "text/plain": [
       "[('dados', 'coletados'), ('estatísticas', 'características')]"
      ]
     },
     "metadata": {},
     "execution_count": 38
    }
   ],
   "source": [
    "bigramas_encontrados = BigramCollocationFinder.from_words(nltk.word_tokenize(texto_formatado))\n",
    "#bigramas_encontrados = nltk.FreqDist(nltk.bigrams(vetor_palavras))\n",
    "bigramas_encontrados.apply_freq_filter(2)\n",
    "bigramas_encontrados.nbest(medidas_bigramas.pmi, 5)\n"
   ]
  }
 ],
 "metadata": {
  "kernelspec": {
   "name": "python385jvsc74a57bd0e44b5c00b90d2e8a92b7a37fc552868eff10d4d2dbd539566f2311e3194db4e6",
   "display_name": "Python 3.8.5 64-bit (conda)"
  },
  "language_info": {
   "codemirror_mode": {
    "name": "ipython",
    "version": 3
   },
   "file_extension": ".py",
   "mimetype": "text/x-python",
   "name": "python",
   "nbconvert_exporter": "python",
   "pygments_lexer": "ipython3",
   "version": "3.8.5-final"
  }
 },
 "nbformat": 4,
 "nbformat_minor": 2
}