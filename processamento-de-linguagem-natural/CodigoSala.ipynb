{
 "cells": [
  {
   "cell_type": "code",
   "execution_count": 1,
   "metadata": {},
   "outputs": [
    {
     "output_type": "stream",
     "name": "stdout",
     "text": [
      "Requirement already satisfied: nltk in c:\\python38\\lib\\site-packages (3.5)\n",
      "Requirement already satisfied: click in c:\\python38\\lib\\site-packages (from nltk) (7.1.2)\n",
      "Requirement already satisfied: joblib in c:\\python38\\lib\\site-packages (from nltk) (1.0.1)\n",
      "Requirement already satisfied: regex in c:\\python38\\lib\\site-packages (from nltk) (2021.3.17)\n",
      "Requirement already satisfied: tqdm in c:\\python38\\lib\\site-packages (from nltk) (4.59.0)\n",
      "Note: you may need to restart the kernel to use updated packages.\n",
      "WARNING: You are using pip version 20.2.2; however, version 21.0.1 is available.\n",
      "You should consider upgrading via the 'C:\\Python38\\python.exe -m pip install --upgrade pip' command.\n"
     ]
    }
   ],
   "source": [
    "pip install nltk"
   ]
  },
  {
   "cell_type": "code",
   "execution_count": 2,
   "metadata": {},
   "outputs": [],
   "source": [
    "import nltk\n",
    "import string\n",
    "import re"
   ]
  },
  {
   "cell_type": "code",
   "execution_count": 3,
   "metadata": {},
   "outputs": [],
   "source": [
    "texto_original = \"\"\"Algoritmos de aprendizados supervisionados utilizam dados coletados. A partir dos dado coletado, \n",
    "              conjunto de características é extraído. As características podem ser estruturais ou estatísticas. \n",
    "As características estruturais estabelecem relações entre os dados, enquanto que as estatísticas \n",
    "         são características quantitativas. A partir das características, os modelos de aprendizado de \n",
    "máquina são construídos para o reconhecimento de atividades humanas.\"\"\""
   ]
  },
  {
   "cell_type": "code",
   "execution_count": 4,
   "metadata": {},
   "outputs": [],
   "source": [
    "#g = Goose()\n",
    "#url = 'https://www.techtudo.com.br/noticias/2017/08/o-que-e-replika-app-usa-inteligencia-artificial-para-criar-um-clone-seu.ghtml'\n",
    "#materia = g.extract(url)\n",
    "#texto_original = materia.cleaned_text\n"
   ]
  },
  {
   "cell_type": "code",
   "execution_count": 5,
   "metadata": {},
   "outputs": [
    {
     "output_type": "execute_result",
     "data": {
      "text/plain": [
       "'Algoritmos de aprendizados supervisionados utilizam dados coletados. A partir dos dado coletado, \\n              conjunto de características é extraído. As características podem ser estruturais ou estatísticas. \\nAs características estruturais estabelecem relações entre os dados, enquanto que as estatísticas \\n         são características quantitativas. A partir das características, os modelos de aprendizado de \\nmáquina são construídos para o reconhecimento de atividades humanas.'"
      ]
     },
     "metadata": {},
     "execution_count": 5
    }
   ],
   "source": [
    "texto_original\n"
   ]
  },
  {
   "cell_type": "code",
   "execution_count": 6,
   "metadata": {},
   "outputs": [
    {
     "output_type": "execute_result",
     "data": {
      "text/plain": [
       "'Algoritmos de aprendizados supervisionados utilizam dados coletados. A partir dos dado coletado, conjunto de características é extraído. As características podem ser estruturais ou estatísticas. As características estruturais estabelecem relações entre os dados, enquanto que as estatísticas são características quantitativas. A partir das características, os modelos de aprendizado de máquina são construídos para o reconhecimento de atividades humanas.'"
      ]
     },
     "metadata": {},
     "execution_count": 6
    }
   ],
   "source": [
    "texto_original = re.sub(r'\\s+',' ',texto_original)\n",
    "texto_original"
   ]
  },
  {
   "cell_type": "code",
   "execution_count": 7,
   "metadata": {},
   "outputs": [],
   "source": [
    "def converte_para_minusculas (texto):\n",
    "    return texto.lower()\n",
    "\n"
   ]
  },
  {
   "cell_type": "code",
   "execution_count": 8,
   "metadata": {},
   "outputs": [
    {
     "output_type": "execute_result",
     "data": {
      "text/plain": [
       "'algoritmos de aprendizados supervisionados utilizam dados coletados. a partir dos dado coletado, conjunto de características é extraído. as características podem ser estruturais ou estatísticas. as características estruturais estabelecem relações entre os dados, enquanto que as estatísticas são características quantitativas. a partir das características, os modelos de aprendizado de máquina são construídos para o reconhecimento de atividades humanas.'"
      ]
     },
     "metadata": {},
     "execution_count": 8
    }
   ],
   "source": [
    "texto_formatado = converte_para_minusculas(texto_original)\n",
    "texto_formatado\n"
   ]
  },
  {
   "cell_type": "code",
   "execution_count": 9,
   "metadata": {},
   "outputs": [
    {
     "output_type": "stream",
     "name": "stderr",
     "text": [
      "[nltk_data] Downloading package stopwords to\n[nltk_data]     C:\\Users\\andre\\AppData\\Roaming\\nltk_data...\n[nltk_data]   Package stopwords is already up-to-date!\n"
     ]
    },
    {
     "output_type": "execute_result",
     "data": {
      "text/plain": [
       "True"
      ]
     },
     "metadata": {},
     "execution_count": 9
    }
   ],
   "source": [
    "nltk.download('stopwords')"
   ]
  },
  {
   "cell_type": "code",
   "execution_count": 10,
   "metadata": {},
   "outputs": [],
   "source": [
    "stopwords = nltk.corpus.stopwords.words(\"portuguese\")"
   ]
  },
  {
   "cell_type": "code",
   "execution_count": 11,
   "metadata": {},
   "outputs": [],
   "source": [
    "def remove_stopwords (texto):\n",
    "    texto_formatado = converte_para_minusculas(texto)\n",
    "    tokens = [] # lista de tokens\n",
    "    for token in nltk.word_tokenize(texto_formatado): # token é cada uma das palavras\n",
    "        tokens.append(token) # insere na lista de tokens\n",
    "    tokens = [cada_token for cada_token in tokens if cada_token not in stopwords and cada_token not in string.punctuation] \n",
    "    texto_formatado = ' '.join([str(cada_token) for cada_token in tokens if not cada_token.isdigit()])\n",
    "    return texto_formatado       \n",
    "    "
   ]
  },
  {
   "cell_type": "code",
   "execution_count": 12,
   "metadata": {},
   "outputs": [
    {
     "output_type": "execute_result",
     "data": {
      "text/plain": [
       "'algoritmos aprendizados supervisionados utilizam dados coletados partir dado coletado conjunto características extraído características podem ser estruturais estatísticas características estruturais estabelecem relações dados enquanto estatísticas características quantitativas partir características modelos aprendizado máquina construídos reconhecimento atividades humanas'"
      ]
     },
     "metadata": {},
     "execution_count": 12
    }
   ],
   "source": [
    "texto_formatado = remove_stopwords(texto_original)\n",
    "texto_formatado"
   ]
  },
  {
   "cell_type": "code",
   "execution_count": 13,
   "metadata": {},
   "outputs": [],
   "source": [
    "from nltk.stem.snowball import SnowballStemmer\n",
    "stemizador = SnowballStemmer('portuguese')"
   ]
  },
  {
   "cell_type": "code",
   "execution_count": 14,
   "metadata": {},
   "outputs": [
    {
     "output_type": "stream",
     "name": "stdout",
     "text": [
      "['algoritmos', 'aprendizados', 'supervisionados', 'utilizam', 'dados', 'coletados', 'partir', 'dado', 'coletado', 'conjunto', 'características', 'extraído', 'características', 'podem', 'ser', 'estruturais', 'estatísticas', 'características', 'estruturais', 'estabelecem', 'relações', 'dados', 'enquanto', 'estatísticas', 'características', 'quantitativas', 'partir', 'características', 'modelos', 'aprendizado', 'máquina', 'construídos', 'reconhecimento', 'atividades', 'humanas']\n"
     ]
    }
   ],
   "source": [
    "#textoaux = '' \n",
    "palavras = nltk.word_tokenize(texto_formatado)\n",
    "print(palavras)\n",
    "#for cada_palavra in nltk.word_tokenize(texto_formatado):\n",
    "#    print(cada_palavra)\n",
    "#    print(stemizador.stem(cada_palavra))\n",
    "#    print(' ')\n"
   ]
  },
  {
   "cell_type": "code",
   "execution_count": 15,
   "metadata": {},
   "outputs": [
    {
     "output_type": "execute_result",
     "data": {
      "text/plain": [
       "FreqDist({'características': 5, 'dados': 2, 'partir': 2, 'estruturais': 2, 'estatísticas': 2, 'algoritmos': 1, 'aprendizados': 1, 'supervisionados': 1, 'utilizam': 1, 'coletados': 1, ...})"
      ]
     },
     "metadata": {},
     "execution_count": 15
    }
   ],
   "source": [
    "frequencia_palavras = nltk.FreqDist(nltk.word_tokenize(texto_formatado))\n",
    "frequencia_palavras"
   ]
  },
  {
   "cell_type": "code",
   "execution_count": 16,
   "metadata": {},
   "outputs": [
    {
     "output_type": "execute_result",
     "data": {
      "text/plain": [
       "dict_keys(['algoritmos', 'aprendizados', 'supervisionados', 'utilizam', 'dados', 'coletados', 'partir', 'dado', 'coletado', 'conjunto', 'características', 'extraído', 'podem', 'ser', 'estruturais', 'estatísticas', 'estabelecem', 'relações', 'enquanto', 'quantitativas', 'modelos', 'aprendizado', 'máquina', 'construídos', 'reconhecimento', 'atividades', 'humanas'])"
      ]
     },
     "metadata": {},
     "execution_count": 16
    }
   ],
   "source": [
    "frequencia_palavras.keys()"
   ]
  },
  {
   "cell_type": "code",
   "execution_count": 17,
   "metadata": {},
   "outputs": [
    {
     "output_type": "execute_result",
     "data": {
      "text/plain": [
       "5"
      ]
     },
     "metadata": {},
     "execution_count": 17
    }
   ],
   "source": [
    "frequencia_maxima = max(frequencia_palavras.values())\n",
    "frequencia_maxima"
   ]
  },
  {
   "cell_type": "code",
   "execution_count": 18,
   "metadata": {},
   "outputs": [],
   "source": [
    "for cada_palavra in frequencia_palavras.keys():\n",
    "    frequencia_palavras[cada_palavra] = frequencia_palavras[cada_palavra]/frequencia_maxima"
   ]
  },
  {
   "cell_type": "code",
   "execution_count": 19,
   "metadata": {},
   "outputs": [
    {
     "output_type": "execute_result",
     "data": {
      "text/plain": [
       "FreqDist({'características': 1.0, 'dados': 0.4, 'partir': 0.4, 'estruturais': 0.4, 'estatísticas': 0.4, 'algoritmos': 0.2, 'aprendizados': 0.2, 'supervisionados': 0.2, 'utilizam': 0.2, 'coletados': 0.2, ...})"
      ]
     },
     "metadata": {},
     "execution_count": 19
    }
   ],
   "source": [
    "frequencia_palavras"
   ]
  },
  {
   "cell_type": "code",
   "execution_count": 20,
   "metadata": {},
   "outputs": [
    {
     "output_type": "execute_result",
     "data": {
      "text/plain": [
       "['Algoritmos de aprendizados supervisionados utilizam dados coletados.',\n",
       " 'A partir dos dado coletado, conjunto de características é extraído.',\n",
       " 'As características podem ser estruturais ou estatísticas.',\n",
       " 'As características estruturais estabelecem relações entre os dados, enquanto que as estatísticas são características quantitativas.',\n",
       " 'A partir das características, os modelos de aprendizado de máquina são construídos para o reconhecimento de atividades humanas.']"
      ]
     },
     "metadata": {},
     "execution_count": 20
    }
   ],
   "source": [
    "sentencas = nltk.sent_tokenize(texto_original)\n",
    "sentencas"
   ]
  },
  {
   "cell_type": "code",
   "execution_count": 21,
   "metadata": {},
   "outputs": [],
   "source": [
    "notas_das_sentencas = {}   # sentenca1 nota 1\n",
    "for cada_sentenca in sentencas:\n",
    "    for cada_palavra in nltk.word_tokenize(cada_sentenca.lower()):\n",
    "        if cada_palavra in frequencia_palavras.keys():\n",
    "            if cada_sentenca not in notas_das_sentencas:\n",
    "                notas_das_sentencas[cada_sentenca] = frequencia_palavras[cada_palavra]\n",
    "            else:\n",
    "                notas_das_sentencas[cada_sentenca] += frequencia_palavras[cada_palavra]\n",
    "            \n",
    "            "
   ]
  },
  {
   "cell_type": "code",
   "execution_count": 22,
   "metadata": {},
   "outputs": [
    {
     "output_type": "execute_result",
     "data": {
      "text/plain": [
       "{'Algoritmos de aprendizados supervisionados utilizam dados coletados.': 1.4000000000000001,\n",
       " 'A partir dos dado coletado, conjunto de características é extraído.': 2.2,\n",
       " 'As características podem ser estruturais ou estatísticas.': 2.1999999999999997,\n",
       " 'As características estruturais estabelecem relações entre os dados, enquanto que as estatísticas são características quantitativas.': 4.0,\n",
       " 'A partir das características, os modelos de aprendizado de máquina são construídos para o reconhecimento de atividades humanas.': 2.8000000000000003}"
      ]
     },
     "metadata": {},
     "execution_count": 22
    }
   ],
   "source": [
    "notas_das_sentencas"
   ]
  },
  {
   "cell_type": "code",
   "execution_count": 23,
   "metadata": {},
   "outputs": [
    {
     "output_type": "execute_result",
     "data": {
      "text/plain": [
       "1.25"
      ]
     },
     "metadata": {},
     "execution_count": 23
    }
   ],
   "source": [
    "tamanho = len(notas_das_sentencas)\n",
    "taxa = tamanho * 0.25\n",
    "taxa"
   ]
  },
  {
   "cell_type": "code",
   "execution_count": 24,
   "metadata": {},
   "outputs": [
    {
     "output_type": "execute_result",
     "data": {
      "text/plain": [
       "1"
      ]
     },
     "metadata": {},
     "execution_count": 24
    }
   ],
   "source": [
    "import math\n",
    "taxa = math.floor(taxa)\n",
    "taxa"
   ]
  },
  {
   "cell_type": "code",
   "execution_count": 25,
   "metadata": {},
   "outputs": [],
   "source": [
    "import heapq"
   ]
  },
  {
   "cell_type": "code",
   "execution_count": 26,
   "metadata": {},
   "outputs": [
    {
     "output_type": "execute_result",
     "data": {
      "text/plain": [
       "['As características estruturais estabelecem relações entre os dados, enquanto que as estatísticas são características quantitativas.']"
      ]
     },
     "metadata": {},
     "execution_count": 26
    }
   ],
   "source": [
    "melhores_sentencas = heapq.nlargest(taxa, notas_das_sentencas, key = notas_das_sentencas.get)\n",
    "melhores_sentencas"
   ]
  },
  {
   "cell_type": "code",
   "execution_count": 27,
   "metadata": {},
   "outputs": [
    {
     "output_type": "execute_result",
     "data": {
      "text/plain": [
       "'As características estruturais estabelecem relações entre os dados, enquanto que as estatísticas são características quantitativas.'"
      ]
     },
     "metadata": {},
     "execution_count": 27
    }
   ],
   "source": [
    "resumo = ' '.join(melhores_sentencas)\n",
    "resumo\n"
   ]
  },
  {
   "cell_type": "code",
   "execution_count": 28,
   "metadata": {},
   "outputs": [
    {
     "output_type": "execute_result",
     "data": {
      "text/plain": [
       "'Algoritmos de aprendizados supervisionados utilizam dados coletados. A partir dos dado coletado, conjunto de características é extraído. As características podem ser estruturais ou estatísticas. As características estruturais estabelecem relações entre os dados, enquanto que as estatísticas são características quantitativas. A partir das características, os modelos de aprendizado de máquina são construídos para o reconhecimento de atividades humanas.'"
      ]
     },
     "metadata": {},
     "execution_count": 28
    }
   ],
   "source": [
    "texto_original\n"
   ]
  },
  {
   "cell_type": "code",
   "execution_count": 29,
   "metadata": {},
   "outputs": [],
   "source": [
    "from IPython.core.display import HTML"
   ]
  },
  {
   "cell_type": "code",
   "execution_count": 30,
   "metadata": {},
   "outputs": [
    {
     "output_type": "display_data",
     "data": {
      "text/plain": "<IPython.core.display.HTML object>",
      "text/html": "<h1> RESUMO GERADO AUTOMATICAMENTE </h1>"
     },
     "metadata": {}
    },
    {
     "output_type": "display_data",
     "data": {
      "text/plain": "<IPython.core.display.HTML object>",
      "text/html": "Algoritmos de aprendizados supervisionados utilizam dados coletados. A partir dos dado coletado, conjunto de características é extraído. As características podem ser estruturais ou estatísticas. <mark>As características estruturais estabelecem relações entre os dados, enquanto que as estatísticas são características quantitativas.</mark> A partir das características, os modelos de aprendizado de máquina são construídos para o reconhecimento de atividades humanas. "
     },
     "metadata": {}
    }
   ],
   "source": [
    "texto_final = ''\n",
    "display(HTML(f'<h1> RESUMO GERADO AUTOMATICAMENTE </h1>'))\n",
    "\n",
    "for cada_sentenca in sentencas:\n",
    "    if cada_sentenca in melhores_sentencas:\n",
    "        texto_final += str(cada_sentenca).replace(cada_sentenca,f\"<mark>{cada_sentenca}</mark>\")\n",
    "    else:\n",
    "        texto_final += str(cada_sentenca)\n",
    "    texto_final += ' '    \n",
    "                       \n",
    "        \n",
    "display(HTML(f\"\"\"{texto_final}\"\"\"))\n",
    "\n"
   ]
  },
  {
   "cell_type": "code",
   "execution_count": 31,
   "metadata": {},
   "outputs": [],
   "source": [
    "#!pip install goose3"
   ]
  },
  {
   "cell_type": "code",
   "execution_count": 32,
   "metadata": {},
   "outputs": [],
   "source": [
    "#materia.title\n"
   ]
  },
  {
   "cell_type": "code",
   "execution_count": 33,
   "metadata": {},
   "outputs": [],
   "source": [
    "#materia.tags"
   ]
  },
  {
   "cell_type": "code",
   "execution_count": 34,
   "metadata": {},
   "outputs": [],
   "source": [
    "#materia.infos"
   ]
  },
  {
   "cell_type": "code",
   "execution_count": 35,
   "metadata": {},
   "outputs": [],
   "source": [
    "#materia.cleaned_text"
   ]
  },
  {
   "cell_type": "code",
   "execution_count": 39,
   "metadata": {},
   "outputs": [
    {
     "output_type": "stream",
     "name": "stdout",
     "text": [
      "Requirement already satisfied: goose3 in c:\\python38\\lib\\site-packages (3.1.8)\n",
      "Requirement already satisfied: requests in c:\\python38\\lib\\site-packages (from goose3) (2.24.0)\n",
      "Requirement already satisfied: Pillow in c:\\python38\\lib\\site-packages (from goose3) (8.1.0)\n",
      "Requirement already satisfied: lxml in c:\\python38\\lib\\site-packages (from goose3) (4.6.3)\n",
      "Requirement already satisfied: jieba in c:\\python38\\lib\\site-packages (from goose3) (0.42.1)\n",
      "Requirement already satisfied: nltk in c:\\python38\\lib\\site-packages (from goose3) (3.5)\n",
      "Requirement already satisfied: python-dateutil in c:\\users\\andre\\appdata\\roaming\\python\\python38\\site-packages (from goose3) (2.8.1)\n",
      "Requirement already satisfied: cssselect in c:\\python38\\lib\\site-packages (from goose3) (1.1.0)\n",
      "Requirement already satisfied: beautifulsoup4 in c:\\python38\\lib\\site-packages (from goose3) (4.9.1)\n",
      "Requirement already satisfied: urllib3!=1.25.0,!=1.25.1,<1.26,>=1.21.1 in c:\\python38\\lib\\site-packages (from requests->goose3) (1.25.10)\n",
      "Requirement already satisfied: certifi>=2017.4.17 in c:\\python38\\lib\\site-packages (from requests->goose3) (2020.6.20)\n",
      "Requirement already satisfied: chardet<4,>=3.0.2 in c:\\python38\\lib\\site-packages (from requests->goose3) (3.0.4)\n",
      "Requirement already satisfied: idna<3,>=2.5 in c:\\python38\\lib\\site-packages (from requests->goose3) (2.10)\n",
      "Requirement already satisfied: click in c:\\python38\\lib\\site-packages (from nltk->goose3) (7.1.2)\n",
      "Requirement already satisfied: joblib in c:\\python38\\lib\\site-packages (from nltk->goose3) (1.0.1)\n",
      "Requirement already satisfied: regex in c:\\python38\\lib\\site-packages (from nltk->goose3) (2021.3.17)\n",
      "Requirement already satisfied: tqdm in c:\\python38\\lib\\site-packages (from nltk->goose3) (4.59.0)\n",
      "WARNING: You are using pip version 20.2.2; however, version 21.0.1 is available.\n",
      "You should consider upgrading via the 'c:\\python38\\python.exe -m pip install --upgrade pip' command.\n",
      "Requirement already satisfied: six>=1.5 in c:\\users\\andre\\appdata\\roaming\\python\\python38\\site-packages (from python-dateutil->goose3) (1.15.0)\n",
      "Requirement already satisfied: soupsieve>1.2 in c:\\python38\\lib\\site-packages (from beautifulsoup4->goose3) (2.0.1)\n"
     ]
    }
   ],
   "source": [
    "!pip install goose3"
   ]
  },
  {
   "cell_type": "code",
   "execution_count": 52,
   "metadata": {},
   "outputs": [
    {
     "output_type": "stream",
     "name": "stdout",
     "text": [
      "\n",
      " URL:  https://www.techtudo.com.br/noticias/2017/08/o-que-e-replika-app-usa-inteligencia-artificial-para-criar-um-clone-seu.ghtml\n",
      "\n",
      " TEXTO EXTRAÍDO:  O Replika é um aplicativo que utiliza técnicas de inteligência artificial para aprender tudo sobre o usuário, inclusive seu jeito de escrever, criando uma espécie de clone virtual. A proposta é ter uma réplica de si no smartphone, capaz de conversar, entreter e, principalmente, fazer a pessoa aprender mais sobre si mesma.\n",
      "\n",
      "Lançado em março, o app gratuito está disponível para download em celulares Android e iPhone (iOS), mas ainda em fase de testes. Por conta disso, segundo os desenvolvedores, o acesso é limitado a pessoas com convite. É necessário um código de ativação para usar o serviço, que, pelo menos por enquanto, só possui versão em inglês.\n",
      "\n",
      "O burburinho em torno do Replika chegou arrebatador no Brasil. A App Store tem o aplicativo em nono lugar do ranking, depois de subir 1,1 mil posições em apenas um dia, segundo a plataforma App Annie, que monitora aplicativos. O software não aparece entre os mais baixados da Google Play, a loja do Android.\n",
      "\n",
      "O Replika é feito para ser um amigo virtual, mas com a personalidade do próprio usuário. A inteligência do app aprende as características do dono fazendo muitas perguntas. Os questionamentos envolvem como foi o dia, quais são os sonhos, como é o trabalho e quem é seu melhor amigo, por exemplo.\n",
      "\n",
      "Algumas dessas perguntas fazem parte das chamadas Sessions, espécies de sessões de terapia que podem ser visualizadas por quem não tem o app, por meio do perfil online. Ao responder, a pessoa sente como se estivesse fazendo amizade com alguém. A cada resposta, o usuário recebe pontos (XP), que servem para subir de nível.\n",
      "\n",
      "Durante esse processo, o aplicativo vai entendendo como é o humor da pessoa, como ela escreve e é inclusive capaz de atribuir Badges, que funcionam como emblemas da personalidade do usuário. Quanto mais conversa, mais a inteligência se parece com o indivíduo por trás do smartphone.\n",
      "\n",
      "Cada usuário tem um perfil online, acessível por meio de um endereço que segue a seguinte estrutura: replika.ai/nome_de_usuário. Ali, constam o nome da pessoa, o apelido do Replika, sua foto, o nível em que ela está, quantos pontos XP tem, as badges e as sessions. As sessões são públicas por padrão, mas é possível ajustar a privacidade para fiquem visíveis a amigos ou para que ninguém as veja.\n",
      "\n",
      "Internautas do mundo inteiro buscam uma maneira de testar o Replika. O caminho até chegar à janela de chat consigo mesmo, no entanto, é relativamente complicado, pois o serviço requer um convite, entre outros requisitos. O primeiro passo é reservar um nome para sua Replika, procedimento feito no site da plataforma. Depois disso, é preciso informar o número do seu celular, para o qual será enviado um código de confirmação com quatro dígitos.\n",
      "\n",
      "Então, o futuro usuário deve inserir o código no campo correspondente no site e pressionar o botão \"Confirm\". Nesse momento, é necessário se atentar ao código de convite. A maneira mais simples de consegui-lo é conhecendo alguém que já use o aplicativo. Se não for o seu caso, o jeito é preencher um formulário com nome, idade, email, nome da Replika, sistema do celular e gênero.\n",
      "\n",
      "Após o envio do formulário, o usuário receberá um email com link de confirmação. Somente depois dessa etapa é que o código de convite é enviado, mas isso também não é imediato: os desenvolvedores prometem mandar em 24 horas.\n",
      "\n",
      "A saudade foi a força motriz para a criação do Replika. Tudo começou em novembro de 2015, quando o melhor amigo de Eugenia Kuyda, a criadora do app, foi atropelado e faleceu. Roman Mazurenko, a vítima, havia saído de Moscou para os Estados Unidos na mesma época em que Eugenia. Quando não estavam perto um do outro, trocavam mensagens o tempo todo.\n",
      "\n",
      "\"Fui em sua página do Facebook e havia apenas alguns poucos links. Fui em seu Instagram e não havia fotos. A única coisa que podia fazer para me lembrar dele era ir ao nosso histórico do Messenger e ficar lendo tudo\", relata a desenvolvedora, que então teve a ideia de reconstruir o amigo a partir de seus restos digitais.\n",
      "\n",
      "\"Originalmente eu pensei 'estou construindo um bot para ele, então eu vou aprender mais sobre ele neste processo'. Mas, eventualmente, o que aconteceu foi que eu comecei a me entender melhor\", Eugenia conta.\n",
      "\n",
      " URL:  https://www.techtudo.com.br/listas/2017/08/alem-do-sarahah-relembre-outras-plataformas-de-mensagem-anonima.ghtml\n",
      "\n",
      " TEXTO EXTRAÍDO:  O Sarahah , aplicativo de mensagens anônimas para iPhone (iOS) e Android , fez sucesso nas últimas semanas. Entretanto, aplicativos do tipo não são novidade. Nos anos recentes, serviços parecidos, como o Secret e o Formspring , vêm surgindo aqui e ali, sendo, com bastante frequência, descontinuados após servirem de terreno para bullying, além de outros abusos. Em alguns casos, caem no esquecimento após um sucesso inicial e tentam se reinventar para continuarem tendo alguma relevância nas lojas de aplicativos gratuitos.\n",
      "\n",
      "O fundador do Orkuti, rede social que simula o velho Orkut — que foi encerrado pelo Google — lançou a sua própria versão do \"Sarahah Brasileiro\". O Talk About Me, apesar do nome em inglês, está disponível completamente em português com a função para celulares com Android.\n",
      "\n",
      "O Ask.fm é um dos serviços de perguntas e respostas que ficaram mais famosos no Brasil. Nele, é possível enviar perguntas a amigos e desconhecidos de maneira anômina ou não. Lançado em 2010, era bastante comum ver links para perfis do site sendo compartilhados no Facebook ou no Twitter. Uma das principais razões do sucesso foi que, na época, o site não exigia que o usuário tivesse um perfil para perguntar.\n",
      "\n",
      "Hoje, a plataforma não é mais tão popular como costumava ser, mas, para quem quiser matar a saudade, o serviço se reinventou e, além de seu clássico formato para web, está disponível também em aplicativos.\n",
      "\n",
      "O Kiwi é um aplicativo disponível nas versões Android, iOS e Web. Ele é uma mistura de rede social com site de perguntas e respostas e, assim, permite questionar, em segredo, amigos e outros usuários da plataforma. Nele, é possível escrever posts, adicionar foto de perfil e seguir usuários, algo similar ao que acontece no Twitter e no Instagram, por exemplo.\n",
      "\n",
      "No EuConfesso.com (euconfesso.com) sua mensagem anônima não é direcionada, necessariamente, a alguém. Segundo o site, o principal objetivo é possibilitar o desabafo em total anonimato. Dessa forma, o usuário pode escrever confissões que ficam públicas para qualquer um ler. As confissões podem ser livres para todas as idades ou para maiores de 18 anos — categorizadas por temas de \"Conta bancária\" a \"incesto\".\n",
      "\n",
      "O Curious Cat é uma rede social disponível no formato Web. Para registrar-se é preciso ter uma conta no Facebook ou no Twitter e enviar perguntas ou fazer confissões sem se identificar. Mas, caso o usuário deseje assinar o post, essa opção também está disponível. Além disso, a plataforma disponibiliza chat online com interação anônima.\n",
      "\n",
      "Este tópico da lista não é exatamente uma plataforma, mas uma possibilidade. Alguns serviços permitem que usuários enviem e-mails anônimos. Sites como o Send Anonymous E-mail possibilitam enviar um e-mail para qualquer endereço sem se identificar. Outra opção interessante é o FutureMe.Org, que tem, como proposta inicial, enviar e-mails para si mesmo no futuro. Entretanto, as mensagens podem ser enviadas para quaisquer endereços. O único problema é que elas só chegarão para o destinatário, no mínimo, 30 dias depois.\n",
      "\n",
      "No Secret, descontinuado, os usuários podiam criar cartões com confissões anônimas. Mas até chegar ao fim, o app foi alvo de muitas polêmicas. Além de estar envolvido em episódios de bullying virtual, o aplicativo passou, ainda, por falhas de segurança que revelavam a identidade de seus usuários. A justiça brasileira chegou a proibi-lo, exigindo que fosse retirado da Play Store e da App Store. Em abril de 2015, após somente 16 meses de existência, foi anunciado seu fim.\n",
      "\n",
      "O Lulu foi um sucesso entre as mulheres. Tinha como proposta permitir que pessoas do gênero feminino avaliassem, afetiva e sexualmente, seus contatos masculinos do Facebook. A plataforma permitia que as usuárias usassem hashtags polêmicas como #copomeiocheio e #filhinhodamamãe para classificar os rapazes com se relacionaram.\n",
      "\n",
      "Algum tempo e muitas polêmicas depois, o app tentou mudar seu formato, aproximando-se de aplicativos de relacionamento como o Tinder, além de passar a permitir o cadastro de homens e trazer dicas de relacionamento. Mas não teve jeito: hoje, não está mais disponível nas lojas virtuais do Android e da Apple e toda polêmica chegou ao fim.\n",
      "\n",
      "Criado em 2009, sendo anterior ao Ask.fm, o Formspring.me e o concorrente tinham um formato bem parecido. Ambos permitiam a criação de perfis abertos, com aparência similar à do Twitter, onde pessoas que tivessem, ou não, uma conta no site pudessem fazer perguntas sem se identificar. A plataforma chegou a ter 30 milhões de usuários, mas foi encerrada em 2013. Depois disso, foi substituída pelo Spring.me que, hoje, foi incorporado à rede social de encontros Twoo.\n",
      "\n",
      "Talvez você não se lembre, mas o Orkut permitiu, por algum tempo, mensagens anônimas em seus fóruns. O recurso chegou a gerar, na época, postagens ofensivas, preconceituosas e difamatórias. Justamente para acabar com esse tipo de conteúdo, o site passou, em 2009, a aceitar somente mensagens onde os usuários se identificassem na rede social.\n",
      "\n",
      " URL:  https://www.techtudo.com.br/listas/2017/08/cinco-apps-gratis-para-ver-o-horoscopo-do-dia-no-android-ou-iphone.ghtml\n",
      "\n",
      " TEXTO EXTRAÍDO:  Quem gosta de consultar o horóscopo do dia pode fazer isso de maneira virtual, direto pelo celular. Tanto smartphones Android como o iPhone ( iOS ) possuem várias opções de apps para esse fim, incluindo plataformas de astrólogos famosos, como o Horóscopo JoãoBidu . Cada serviço tem uma abordagem diferente, mas todos mostram previsões para áries, touro, gêmeos, câncer, leão, virgem, libra, escorpião, sagitário, capricórnio, aquário e peixes.\n",
      "\n",
      "O TechTudo reuniu cinco aplicativos grátis com horóscopo diário, semanal, mensal ou anual, disponíveis na Google Play Store ou na App Store. Confira a lista a seguir e fique por dentro do que os astros dizem sobre sua sorte no amor, trabalho, saúde e família – não importa a qual signo do zodíaco você pertença.\n",
      "\n",
      "O Meu Horóscopo é gratuito e está disponível para iPhone (iOS) e Android. No modo diário, o app mostra as previsões do horóscopo de hoje, ontem e amanhã. Há também o resumo anual, de acordo com o decanato.\n",
      "\n",
      "A função que mais se destaca é a adição de vários perfis, o que permite alternar facilmente entre signos de interesse do usuário. As configurações do app ainda possibilitam alterar o tamanho da fonte, ativar notificações diárias, mudar o idioma e compartilhar os textos por meio de outros aplicativos.\n",
      "\n",
      "Com versão exclusivamente para Android, o app Horóscopo exibe previsões diárias (hoje e amanhã), semanal e mensal. Em todos os períodos há indicações dos níveis de força na saúde, amor e trabalho. O aplicativo também mostra quais são os signos compatíveis, ascores e os números da sorte para cada momento.\n",
      "\n",
      "Os textos dizem respeito ao signo no geral, sem especificações em relação ao decanato ou hora de nascimento. As configurações permitem apenas ativar notificações diárias. É possível ainda convidar amigos para conhecer o app, mas não compartilhar as previsões.\n",
      "\n",
      "O Horóscopo JoãoBidu é um app bastante completo. Ele tem quatro funcionalidades principais, organizadas em abas: previsões, perfil, combinações e numerologia. A primeira exibe textos para o dia corrente e o seguinte, enquanto a segunda mostra as principais características do signo selecionado.\n",
      "\n",
      "Em \"Combinações\", o usuário pode escolher dois signos para saber a afinidade entre eles nas áreas do sexo, do amor e do trabalho. Na aba \"Numerologia\", basta inserir o nome completo para saber seu número e traços de sua personalidade. O aplicativo de um dos astrólogos mais conhecidos do Brasil está disponível para iPhone e Android.\n",
      "\n",
      "Com versões para celulares Android e iPhone (iOS), o Meu Horóscopo do Dia oferece horóscopo diário não apenas da data corrente, mas também do dia de amanhã e do posterior. O app inclui previsões mensal e anual, além oferecer informações sobre o signo e o elemento do zodíaco.\n",
      "\n",
      "O programa, que está em português, também conta com recurso de leitura de tarô. Todas as funcionalidades são gratuitas e liberadas aos usuários sem necessidade de login.\n",
      "\n",
      "O Horóscopo Diário 2017 é outro app gratuito e voltado para celulares Android. O uso é bem simples: basta escolher o signo na tela principal e ler as previsões. Ele fornece presságios de quatro dias, sempre contando da data corrente em diante, abrangendo as áreas do amor, saúde, família e finanças.\n",
      "\n",
      "Em cada dia também são anunciados os números da sorte e uma carta do tarô, com seu significado. Os resultados podem ser compartilhados com outras pessoas a partir de aplicativos terceiros, como WhatsApp e Facebook.\n"
     ]
    }
   ],
   "source": [
    "from goose3 import Goose\n",
    "\n",
    "lista_textos = ['https://www.techtudo.com.br/noticias/2017/08/o-que-e-replika-app-usa-inteligencia-artificial-para-criar-um-clone-seu.ghtml','https://www.techtudo.com.br/listas/2017/08/alem-do-sarahah-relembre-outras-plataformas-de-mensagem-anonima.ghtml','https://www.techtudo.com.br/listas/2017/08/cinco-apps-gratis-para-ver-o-horoscopo-do-dia-no-android-ou-iphone.ghtml']\n",
    "\n",
    "for cada_url in lista_textos:\n",
    "    print(\"\\n URL: \",cada_url)\n",
    "    g = Goose()\n",
    "    cada_texto = g.extract(cada_url)\n",
    "    print(\"\\n TEXTO EXTRAÍDO: \",cada_texto.cleaned_text)\n",
    "        "
   ]
  }
 ],
 "metadata": {
  "kernelspec": {
   "name": "python385jvsc74a57bd02db524e06e9f5f4ffedc911c917cb75e12dbc923643829bf417064a77eb14d37",
   "display_name": "Python 3.8.5 64-bit"
  },
  "language_info": {
   "codemirror_mode": {
    "name": "ipython",
    "version": 3
   },
   "file_extension": ".py",
   "mimetype": "text/x-python",
   "name": "python",
   "nbconvert_exporter": "python",
   "pygments_lexer": "ipython3",
   "version": "3.8.5"
  },
  "metadata": {
   "interpreter": {
    "hash": "2db524e06e9f5f4ffedc911c917cb75e12dbc923643829bf417064a77eb14d37"
   }
  }
 },
 "nbformat": 4,
 "nbformat_minor": 2
}