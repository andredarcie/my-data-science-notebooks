{
  "nbformat": 4,
  "nbformat_minor": 0,
  "metadata": {
    "colab": {
      "name": "atividade-2-spark.ipynb",
      "provenance": [],
      "collapsed_sections": []
    },
    "kernelspec": {
      "name": "python3",
      "display_name": "Python 3"
    }
  },
  "cells": [
    {
      "cell_type": "markdown",
      "metadata": {
        "id": "DTruZS5TPEvK"
      },
      "source": [
        "# Atividade 2 - Spark\n",
        "\n",
        "Esse notebook é baseado no notebook [como instalar pyspark no google colab](https://colab.research.google.com/github/carlosfab/sigmoidal_ai/blob/master/Big_Data_Como_instalar_o_PySpark_no_Google_Colab.ipynb).\n",
        "\n",
        "O ambiente de execução é configurado para executar no Google Colab."
      ]
    },
    {
      "cell_type": "markdown",
      "source": [
        "## Configuração do Spark para Google Colab"
      ],
      "metadata": {
        "id": "AUKHGxG8r0i_"
      }
    },
    {
      "cell_type": "code",
      "metadata": {
        "id": "Oz_8sWI7PKEl",
        "colab": {
          "base_uri": "https://localhost:8080/"
        },
        "outputId": "898448c3-3aa9-467c-abec-c8e4c9d43a80"
      },
      "source": [
        "# instalar as dependências\n",
        "!apt-get update\n",
        "!apt-get install openjdk-8-jdk-headless -qq > /dev/null\n",
        "!wget -q https://archive.apache.org/dist/spark/spark-2.4.4/spark-2.4.4-bin-hadoop2.7.tgz\n",
        "!tar xf spark-2.4.4-bin-hadoop2.7.tgz\n",
        "!pip install -q findspark"
      ],
      "execution_count": 25,
      "outputs": [
        {
          "output_type": "stream",
          "name": "stdout",
          "text": [
            "\r0% [Working]\r            \rHit:1 https://cloud.r-project.org/bin/linux/ubuntu bionic-cran40/ InRelease\n",
            "\r0% [Connecting to archive.ubuntu.com (91.189.88.152)] [Connecting to security.u\r0% [1 InRelease gpgv 3,626 B] [Connecting to archive.ubuntu.com (91.189.88.152)\r                                                                               \rIgn:2 https://developer.download.nvidia.com/compute/cuda/repos/ubuntu1804/x86_64  InRelease\n",
            "\r0% [1 InRelease gpgv 3,626 B] [Waiting for headers] [Connecting to security.ubu\r                                                                               \rHit:3 http://ppa.launchpad.net/c2d4u.team/c2d4u4.0+/ubuntu bionic InRelease\n",
            "Hit:4 http://archive.ubuntu.com/ubuntu bionic InRelease\n",
            "Ign:5 https://developer.download.nvidia.com/compute/machine-learning/repos/ubuntu1804/x86_64  InRelease\n",
            "Hit:6 https://developer.download.nvidia.com/compute/cuda/repos/ubuntu1804/x86_64  Release\n",
            "Hit:7 https://developer.download.nvidia.com/compute/machine-learning/repos/ubuntu1804/x86_64  Release\n",
            "Hit:8 http://security.ubuntu.com/ubuntu bionic-security InRelease\n",
            "Hit:9 http://archive.ubuntu.com/ubuntu bionic-updates InRelease\n",
            "Hit:10 http://ppa.launchpad.net/cran/libgit2/ubuntu bionic InRelease\n",
            "Hit:11 http://archive.ubuntu.com/ubuntu bionic-backports InRelease\n",
            "Hit:12 http://ppa.launchpad.net/deadsnakes/ppa/ubuntu bionic InRelease\n",
            "Hit:13 http://ppa.launchpad.net/graphics-drivers/ppa/ubuntu bionic InRelease\n",
            "Reading package lists... Done\n"
          ]
        }
      ]
    },
    {
      "cell_type": "code",
      "metadata": {
        "id": "RkpG11RQPbRf"
      },
      "source": [
        "# configurar as variáveis de ambiente\n",
        "import os\n",
        "os.environ[\"JAVA_HOME\"] = \"/usr/lib/jvm/java-8-openjdk-amd64\"\n",
        "os.environ[\"SPARK_HOME\"] = \"/content/spark-2.4.4-bin-hadoop2.7\"\n",
        "\n",
        "# tornar o pyspark \"importável\"\n",
        "import findspark\n",
        "findspark.init('spark-2.4.4-bin-hadoop2.7')\n",
        "\n",
        "import pyspark"
      ],
      "execution_count": 26,
      "outputs": []
    },
    {
      "cell_type": "markdown",
      "source": [
        "## Exercicios da Atividade 2"
      ],
      "metadata": {
        "id": "vdmcluq8r5V3"
      }
    },
    {
      "cell_type": "markdown",
      "source": [
        "### 1. Utilizando o dataset flights.csv, faça operações MapReduce para calcular:"
      ],
      "metadata": {
        "id": "rHNF2sFDs6i-"
      }
    },
    {
      "cell_type": "markdown",
      "source": [
        "Importação do arquivo necessario para atividade"
      ],
      "metadata": {
        "id": "v8hzbvfetTNO"
      }
    },
    {
      "cell_type": "code",
      "source": [
        "#sc = pyspark.SparkContext(appName='BigDataAtividade2')\n",
        "\n",
        "flights_file = '/content/flights.csv'\n",
        "flights_RDD = sc.textFile(flights_file)\n",
        "print(\"dataVoo\tid_companhia\tnum_voos\torigem\tdestino\thora_partida\tmin_atraso\thora_chegada\tmin_atraso\tduracao\tdistancia\")\n",
        "print(flights_RDD.take(1))\n"
      ],
      "metadata": {
        "colab": {
          "base_uri": "https://localhost:8080/"
        },
        "id": "hTHsQgzItWie",
        "outputId": "7305c1d0-9757-4966-a739-58f0c857bfb6"
      },
      "execution_count": 58,
      "outputs": [
        {
          "output_type": "stream",
          "name": "stdout",
          "text": [
            "dataVoo\tid_companhia\tnum_voos\torigem\tdestino\thora_partida\tmin_atraso\thora_chegada\tmin_atraso\tduracao\tdistancia\n",
            "['2014-04-01,19805,1,JFK,LAX,0854,-6.00,1217,2.00,355.00,2475.00']\n"
          ]
        }
      ]
    },
    {
      "cell_type": "markdown",
      "source": [
        "a. O tempo total de vôo de cada companhia"
      ],
      "metadata": {
        "id": "6O9a2Wa3tBZp"
      }
    },
    {
      "cell_type": "code",
      "source": [
        "def tempo_total_de_voo_por_companhia(line):\n",
        "    record = line.split(',')\n",
        "    return (record[1],float(record[9]))\n",
        "\n",
        "voos = flights_RDD.map(tempo_total_de_voo_por_companhia).reduceByKey(lambda a,b: a+b).take(10)\n",
        "\n",
        "for voo in voos:\n",
        "  print(f'Companhia: {voo[0]}, tempo total de voo: {voo[1]}')"
      ],
      "metadata": {
        "id": "nBVGmuxstFGe",
        "colab": {
          "base_uri": "https://localhost:8080/"
        },
        "outputId": "8375ee65-aa53-4d5f-bc02-4176d7b5943a"
      },
      "execution_count": 79,
      "outputs": [
        {
          "output_type": "stream",
          "name": "stdout",
          "text": [
            "Companhia: 19930, tempo total de voo: 2001295.0\n",
            "Companhia: 20409, tempo total de voo: 3009096.0\n",
            "Companhia: 20366, tempo total de voo: 4142864.0\n",
            "Companhia: 20437, tempo total de voo: 799733.0\n",
            "Companhia: 19690, tempo total de voo: 449242.0\n",
            "Companhia: 20355, tempo total de voo: 4194811.0\n",
            "Companhia: 21171, tempo total de voo: 916098.0\n",
            "Companhia: 19805, tempo total de voo: 6273366.0\n",
            "Companhia: 19790, tempo total de voo: 7747256.0\n",
            "Companhia: 20436, tempo total de voo: 689589.0\n"
          ]
        }
      ]
    },
    {
      "cell_type": "markdown",
      "source": [
        "b. Qual é o destino mais visado"
      ],
      "metadata": {
        "id": "CZMkwMxZuF2W"
      }
    },
    {
      "cell_type": "code",
      "source": [
        "def destino_mais_visado(line):\n",
        "    record = line.split(',')\n",
        "    return (record[4],int(1))\n",
        "\n",
        "destino_mais_visado_RDD = flights_RDD.map(destino_mais_visado)\n",
        "total_destino_mais_visado = destino_mais_visado_RDD.reduceByKey(lambda a,b: a+b).take(500000)\n",
        "\n",
        "print(f'Quantidade total de destinos: {len(total_destino_mais_visado)}')\n",
        "\n",
        "destino_mais_visitado = ('', 0)\n",
        "\n",
        "for destino in total_destino_mais_visado:\n",
        "  if destino[1] > destino_mais_visitado[1]:\n",
        "    destino_mais_visitado = destino\n",
        "\n",
        "print(f'O destino mais visado foi {destino_mais_visitado[0]}, com {destino_mais_visitado[1]} visitas.')"
      ],
      "metadata": {
        "id": "ExFU5piDuKim",
        "colab": {
          "base_uri": "https://localhost:8080/"
        },
        "outputId": "569d2b79-c4ef-4933-9cd9-354087d0b04f"
      },
      "execution_count": 75,
      "outputs": [
        {
          "output_type": "stream",
          "name": "stdout",
          "text": [
            "Quantidade total de destinos: 304\n",
            "O destino mais visado foi ATL, com 30953 visitas.\n"
          ]
        }
      ]
    },
    {
      "cell_type": "markdown",
      "source": [
        "c. Quais aeroportos cada companhia passou"
      ],
      "metadata": {
        "id": "wXenV-JZuds2"
      }
    },
    {
      "cell_type": "code",
      "source": [
        "def aeroportos_de_origem(line):\n",
        "    record = line.split(',')\n",
        "    return (record[1],record[3])\n",
        "\n",
        "def aeroportos_de_destino(line):\n",
        "    record = line.split(',')\n",
        "    return (record[1],record[4])\n",
        "\n",
        "origens = flights_RDD.map(aeroportos_de_origem).take(50000)\n",
        "destinos = flights_RDD.map(aeroportos_de_destino).take(50000)\n",
        "\n",
        "origens_RDD = sc.parallelize(origens)\n",
        "destinos_RDD = sc.parallelize(destinos)\n",
        "\n",
        "grouped_elementsDestino = origens_RDD.union(destinos_RDD).distinct().groupByKey().take(50000)\n",
        "\n",
        "for key, values in grouped_elementsDestino:\n",
        "    print(key, list(values))"
      ],
      "metadata": {
        "id": "s23JM9mFuh2G",
        "colab": {
          "base_uri": "https://localhost:8080/"
        },
        "outputId": "bd4c54b4-1fbf-4f66-eb74-8725e6f8b5a9"
      },
      "execution_count": 80,
      "outputs": [
        {
          "output_type": "stream",
          "name": "stdout",
          "text": [
            "19930 ['DCA', 'EWR', 'BOS', 'PDX', 'FLL', 'ADQ', 'FAI', 'PSP', 'SNA', 'ONT', 'PHX', 'AUS', 'ATL', 'PHL', 'ANC', 'SCC', 'BRW', 'KTN', 'CDV', 'SIT', 'WRG', 'PSG', 'SAN', 'OAK', 'SMF', 'BUR', 'BLI', 'DFW', 'SLC', 'STL', 'SEA', 'LAX', 'ORD', 'MSP', 'JNU', 'YAK', 'OME', 'OTZ', 'SFO', 'LAS', 'DEN', 'IAH', 'KOA', 'ADK', 'MCO', 'BET', 'SJC', 'TUS', 'SAT', 'GEG', 'MCI', 'OGG', 'LIH', 'HNL']\n",
            "20409 ['DCA', 'FLL', 'BOS', 'SJU', 'SWF', 'EWR', 'JAX', 'CLT', 'TPA', 'HOU', 'BTV', 'CHS', 'DTW', 'RIC', 'SAV', 'AUS', 'BQN', 'PVD', 'PHX', 'PDX', 'SRQ', 'PHL', 'BUF', 'STX', 'HPN', 'DFW', 'BWI', 'SAN', 'PWM', 'LGA', 'OAK', 'SMF', 'SLC', 'ABQ', 'BUR', 'STT', 'RSW', 'PBI', 'IAD', 'ORH', 'PIT', 'ORD', 'ROC', 'LAS', 'LGB', 'DEN', 'SEA', 'SFO', 'LAX', 'JFK', 'MCO', 'MSY', 'RDU', 'SYR', 'BDL', 'PSE', 'SJC']\n",
            "21171 ['EWR', 'AUS', 'DCA', 'PSP', 'FLL', 'BOS', 'PDX', 'PHL', 'SAN', 'DFW', 'LAX', 'SFO', 'SEA', 'ORD', 'LAS', 'IAD', 'JFK', 'SJC', 'MCO']\n",
            "19805 ['DFW', 'MIA', 'LGA', 'SLC', 'STL', 'BWI', 'SAN', 'ABQ', 'RNO', 'PHL', 'TUL', 'BNA', 'HSV', 'FAT', 'DAY', 'ORF', 'STX', 'CLE', 'SMF', 'BOS', 'ATL', 'DCA', 'FLL', 'SJU', 'ONT', 'PDX', 'COS', 'RIC', 'DTW', 'PHX', 'AUS', 'EWR', 'CMH', 'TPA', 'MKE', 'CLT', 'OMA', 'LIT', 'JAX', 'SNA', 'PSP', 'SDF', 'BHM', 'JFK', 'OGG', 'HNL', 'RDU', 'MSY', 'MCO', 'LIH', 'IND', 'MFE', 'SAT', 'MCI', 'ICT', 'SJC', 'OKC', 'BDL', 'TUS', 'MEM', 'LAX', 'SFO', 'ORD', 'PBI', 'IAD', 'DEN', 'LAS', 'SEA', 'RSW', 'IAH', 'ELP', 'KOA', 'STT', 'MSP', 'XNA', 'DSM', 'PIT', 'LBB', 'CRP']\n",
            "19790 ['SLC', 'BUF', 'ORF', 'BNA', 'BWI', 'LGA', 'RNO', 'OAK', 'DFW', 'PHL', 'STL', 'BIL', 'CVG', 'CLE', 'ABQ', 'MIA', 'DAY', 'BOI', 'HSV', 'SAN', 'MDW', 'JAN', 'ANC', 'ILM', 'MSN', 'SMF', 'MDT', 'PWM', 'FNT', 'JAC', 'TUL', 'MHT', 'CRW', 'AVL', 'DTW', 'ATL', 'JAX', 'PVD', 'SAV', 'CMH', 'CLT', 'SRQ', 'BHM', 'EWR', 'RIC', 'AUS', 'TPA', 'OMA', 'CHA', 'CHS', 'LIT', 'SJU', 'HOU', 'DCA', 'PHX', 'FSD', 'FLL', 'BOS', 'SDF', 'MKE', 'PDX', 'PSP', 'SNA', 'MOB', 'VPS', 'COS', 'AGS', 'TYS', 'GRB', 'RDU', 'PNS', 'MCI', 'MSY', 'GSO', 'MEM', 'MCO', 'LEX', 'IND', 'GEG', 'OKC', 'MSO', 'SAT', 'JFK', 'FAY', 'GRR', 'TLH', 'HNL', 'ICT', 'CAE', 'TUS', 'SJC', 'TRI', 'ALB', 'BDL', 'BTR', 'LIH', 'OGG', 'SYR', 'GPT', 'MSP', 'LAX', 'DAB', 'PIT', 'KOA', 'RSW', 'SFO', 'DEN', 'CAK', 'EYW', 'LAS', 'ORD', 'IAH', 'SEA', 'MYR', 'BZN', 'ROC', 'ECP', 'MLB', 'GSP', 'IAD', 'PBI', 'ABE', 'ROA', 'DSM', 'ELP', 'HRL', 'STT', 'FAR', 'GNV', 'XNA']\n",
            "20436 ['SLC', 'CVG', 'STL', 'ILG', 'SAN', 'LGA', 'MDW', 'DFW', 'BNA', 'CLE', 'MDT', 'FAT', 'MSN', 'SBA', 'JAC', 'DCA', 'PHX', 'PDX', 'FLL', 'MKE', 'DTW', 'OMA', 'AUS', 'FSD', 'SNA', 'TPA', 'ATL', 'BIS', 'LIT', 'MOT', 'PSP', 'CLT', 'MCO', 'MCI', 'MSY', 'TTN', 'GEG', 'IND', 'MEM', 'OKC', 'PHF', 'RDU', 'DEN', 'LAS', 'SEA', 'IAH', 'SFO', 'MSP', 'RSW', 'BZN', 'LAX', 'DSM', 'FAR', 'CID', 'BMI']\n",
            "20304 ['SAN', 'SMF', 'RNO', 'SLC', 'FAT', 'EUG', 'SBA', 'ABQ', 'OAK', 'GJT', 'BNA', 'TUL', 'BOI', 'CLE', 'CPR', 'BUR', 'SPI', 'DFW', 'AVL', 'STL', 'CVG', 'MSN', 'SMX', 'ISN', 'EAU', 'RKS', 'LAR', 'SAF', 'BIL', 'DAY', 'JAC', 'RST', 'MFR', 'DLH', 'RDD', 'LNK', 'COD', 'ORF', 'IMT', 'BRD', 'BTM', 'CDC', 'RDM', 'PHX', 'MRY', 'SDF', 'ATL', 'MKE', 'BFL', 'OMA', 'CLT', 'ONT', 'LWS', 'FWA', 'DIK', 'BHM', 'COS', 'MBS', 'AUS', 'MOT', 'ACV', 'CEC', 'PSP', 'RAP', 'FLG', 'PDX', 'DTW', 'BIS', 'CMH', 'FSD', 'LIT', 'SNA', 'GRB', 'MKG', 'HLN', 'TVC', 'GFK', 'CHS', 'SGU', 'CIC', 'MLI', 'BJI', 'VEL', 'MMH', 'SJC', 'TUS', 'RDU', 'HDN', 'MCI', 'ASE', 'ICT', 'CLD', 'SAT', 'SBN', 'OKC', 'PSC', 'GRR', 'IND', 'HIB', 'LSE', 'FCA', 'LAN', 'PAH', 'MEM', 'CHO', 'PUB', 'GEG', 'MSY', 'MSO', 'SGF', 'CMX', 'MTJ', 'RHI', 'INL', 'PIH', 'CNY', 'TWF', 'BDL', 'MFE', 'LAX', 'ELP', 'DEN', 'IDA', 'SEA', 'IAH', 'SBP', 'LAS', 'ORD', 'MSP', 'BZN', 'IAD', 'SFO', 'YUM', 'SUN', 'DRO', 'GTF', 'XNA', 'FAR', 'CID', 'GCC', 'LGB', 'MAF', 'MOD', 'LMT', 'PIT', 'PIA', 'ATW', 'RSW', 'EKO', 'ABR', 'APN', 'DSM', 'OTH']\n",
            "20366 ['ORD', 'IAH', 'DEN', 'TYR', 'IAD', 'MAF', 'PIT', 'GSP', 'DSM', 'ROC', 'DRO', 'BPT', 'ACY', 'CRP', 'MSP', 'HRL', 'LRD', 'ELP', 'ROA', 'GPT', 'LBB', 'XNA', 'PBI', 'PIA', 'GNV', 'BGR', 'FSM', 'EWN', 'BMI', 'CID', 'ABE', 'EVV', 'BQK', 'OAJ', 'ATW', 'MYR', 'EYW', 'CAK', 'SCE', 'RSW', 'OKC', 'SAT', 'BTR', 'GSO', 'ALB', 'MEM', 'IND', 'RDU', 'MFE', 'GRR', 'MCI', 'CAE', 'ICT', 'TUS', 'BDL', 'SBN', 'PNS', 'MLU', 'LAN', 'MSY', 'TLH', 'LEX', 'PHF', 'SGF', 'FAY', 'CHO', 'TRI', 'SYR', 'JFK', 'AVP', 'EWR', 'CLT', 'LIT', 'LCH', 'SAV', 'PVD', 'SHV', 'AEX', 'GRK', 'SPS', 'VPS', 'HOU', 'MKE', 'ATL', 'CMH', 'DCA', 'CHS', 'TYS', 'DTW', 'RIC', 'RAP', 'JAX', 'BHM', 'MOB', 'SDF', 'COS', 'FSD', 'OMA', 'HOB', 'GRB', 'GTR', 'AGS', 'DHN', 'CHA', 'VLD', 'CSG', 'BOS', 'AUS', 'BTV', 'MLI', 'FWA', 'FLL', 'TVC', 'DIK', 'MOT', 'PHX', 'BIS', 'DFW', 'AMA', 'SJT', 'BRO', 'BNA', 'CRW', 'HPN', 'DAY', 'CLE', 'CVG', 'SLC', 'STL', 'GJT', 'TUL', 'ABI', 'JAN', 'LGA', 'BIL', 'LFT', 'ORF', 'BWI', 'DAL', 'HSV', 'MSN', 'MHT', 'PWM', 'ABQ', 'CLL', 'ILM', 'MDT', 'MDW', 'ELM', 'MGM', 'AVL', 'ABY', 'BUF', 'FOE', 'LNK', 'SAF', 'ISN', 'GUC', 'CWA']\n",
            "20437 ['MSP', 'LAS', 'DEN', 'LAX', 'PIT', 'SFO', 'RSW', 'CAK', 'PBI', 'OKC', 'MSY', 'SAT', 'MCO', 'IND', 'MCI', 'BDL', 'RDU', 'ATL', 'JAX', 'TPA', 'MKE', 'DTW', 'DCA', 'BOS', 'RIC', 'CMH', 'SNA', 'FLL', 'SDF', 'AUS', 'HOU', 'STL', 'BWI', 'LGA', 'MDW', 'ORF', 'DAY', 'PHL']\n",
            "19690 ['LAX', 'LAS', 'SEA', 'KOA', 'SFO', 'HNL', 'OGG', 'SJC', 'LIH', 'JFK', 'PDX', 'PHX', 'SMF', 'OAK', 'ITO', 'SAN']\n",
            "20355 ['DEN', 'LAX', 'SFO', 'PBI', 'ORD', 'LAS', 'IAH', 'MSP', 'PIT', 'SEA', 'DSM', 'KOA', 'RSW', 'ROC', 'STT', 'LGB', 'MCO', 'JFK', 'SJC', 'GEG', 'MSY', 'IND', 'MCI', 'HNL', 'OGG', 'LIH', 'RDU', 'SYR', 'BDL', 'SAT', 'ALB', 'FLL', 'PHX', 'CLT', 'EWR', 'SNA', 'ONT', 'TPA', 'DCA', 'ATL', 'PDX', 'BOS', 'CMH', 'OMA', 'AUS', 'MKE', 'DTW', 'SJU', 'JAX', 'PVD', 'CHS', 'SRQ', 'RIC', 'BTV', 'PHL', 'RNO', 'SMF', 'SLC', 'CLE', 'LGA', 'SAN', 'DFW', 'STL', 'BOI', 'ANC', 'OAK', 'BWI', 'PWM', 'MIA', 'ORF', 'BNA', 'BUF', 'MDT', 'ILM']\n",
            "20398 ['RDU', 'SGF', 'IND', 'CHO', 'MLU', 'GRR', 'SYR', 'ROW', 'MCI', 'JFK', 'PNS', 'OKC', 'LSE', 'LEX', 'MEM', 'BTR', 'SJC', 'CAE', 'GSO', 'TLH', 'BDL', 'SAT', 'ORD', 'BMI', 'GSP', 'MAF', 'DSM', 'BPT', 'EVV', 'PIT', 'LAX', 'ACT', 'DBQ', 'ROA', 'PIA', 'MSP', 'DEN', 'LBB', 'CID', 'TOL', 'XNA', 'GPT', 'FAR', 'ART', 'FSM', 'LRD', 'TYR', 'CRP', 'IAH', 'EYW', 'DRO', 'GNV', 'TXK', 'ROC', 'DFW', 'MGM', 'LAW', 'CLE', 'ABI', 'HSV', 'FNT', 'GRI', 'LGA', 'CVG', 'AZO', 'JAN', 'GCK', 'MDT', 'STL', 'SAN', 'ILM', 'LFT', 'SAF', 'CLL', 'BNA', 'RST', 'BUF', 'MSN', 'ALO', 'SJT', 'DAY', 'SPI', 'AMA', 'ABQ', 'MHK', 'GJT', 'SLC', 'TUL', 'BWI', 'MIA', 'ORF', 'GGG', 'PHL', 'CWA', 'BRO', 'CLT', 'CMH', 'OMA', 'LIT', 'FWA', 'MQT', 'BHM', 'GRK', 'MKE', 'CHS', 'MLI', 'SHV', 'HOU', 'CHA', 'COU', 'SPS', 'LCH', 'GRB', 'MOB', 'DTW', 'RAP', 'CMI', 'FSD', 'DCA', 'TYS', 'RIC', 'JAX', 'AEX', 'TPA', 'JLN', 'VPS', 'SAV', 'SDF', 'SUX', 'ATL', 'EWR']\n",
            "19977 ['MSY', 'JFK', 'MCO', 'IND', 'GRR', 'LIH', 'SJC', 'OKC', 'RDU', 'SAT', 'OGG', 'ICT', 'HNL', 'BDL', 'GEG', 'MCI', 'ALB', 'LAS', 'DEN', 'SEA', 'SFO', 'ORD', 'RSW', 'IAH', 'LAX', 'IAD', 'DSM', 'MSP', 'KOA', 'PIT', 'PBI', 'ROC', 'BZN', 'STT', 'EGE', 'BUF', 'BOI', 'SMF', 'MIA', 'RNO', 'LGA', 'DFW', 'BWI', 'CLE', 'SAN', 'SLC', 'ANC', 'PHL', 'BIL', 'ITO', 'GUM', 'MDT', 'JAC', 'STL', 'EWR', 'BOS', 'DCA', 'PDX', 'AUS', 'OMA', 'PSP', 'SNA', 'TPA', 'PHX', 'FLL', 'JAX', 'BQN', 'DTW', 'CMH', 'SJU', 'SRQ', 'ATL', 'CLT', 'RIC']\n",
            "19393 ['ALB', 'BDL', 'MCI', 'PNS', 'RDU', 'GEG', 'GRR', 'ICT', 'IND', 'ISP', 'MCO', 'MEM', 'MSY', 'OKC', 'SAT', 'SJC', 'TUS', 'BKG', 'CAK', 'LAX', 'LBB', 'MAF', 'PIT', 'ROC', 'RSW', 'CRP', 'DEN', 'DSM', 'ECP', 'ELP', 'EYW', 'GSP', 'HRL', 'IAD', 'LAS', 'MSP', 'PBI', 'SEA', 'SFO', 'ABQ', 'AMA', 'BNA', 'BOI', 'BUF', 'BUR', 'BWI', 'CLE', 'LGA', 'PWM', 'RNO', 'SAN', 'DAL', 'DAY', 'FNT', 'JAN', 'MDW', 'MHT', 'OAK', 'ORF', 'PHL', 'SLC', 'SMF', 'STL', 'TUL', 'ATL', 'AUS', 'BHM', 'BOS', 'CHS', 'CLT', 'CMH', 'LIT', 'PHX', 'PVD', 'RIC', 'DCA', 'DTW', 'EWR', 'FLL', 'HOU', 'JAX', 'MKE', 'OMA', 'ONT', 'PDX', 'SDF', 'SJU', 'SNA', 'TPA']\n"
          ]
        }
      ]
    },
    {
      "cell_type": "markdown",
      "source": [
        "d. O vôo de maior distância de cada companhia"
      ],
      "metadata": {
        "id": "IbBMo7M1u3NO"
      }
    },
    {
      "cell_type": "code",
      "source": [
        "def distancias_por_companhia(line):\n",
        "    record = line.split(',')\n",
        "    return (record[1],float(record[10]))\n",
        "\n",
        "distancias = flights_RDD.map(distancias_por_companhia).collect()\n",
        "maxDist_RDD = sc.parallelize(distancias).reduceByKey(max).collect()\n",
        "print(maxDist_RDD)"
      ],
      "metadata": {
        "id": "uxvcgtt-u9GG",
        "colab": {
          "base_uri": "https://localhost:8080/"
        },
        "outputId": "fd416b4d-1047-46da-c8e5-e14d1889d487"
      },
      "execution_count": 35,
      "outputs": [
        {
          "output_type": "stream",
          "name": "stdout",
          "text": [
            "[('19930', 2874.0), ('20409', 2704.0), ('20366', 1345.0), ('20437', 2139.0), ('19690', 4983.0), ('20355', 2979.0), ('21171', 2704.0), ('19805', 3784.0), ('19790', 4502.0), ('20436', 1703.0), ('20398', 1379.0), ('20304', 1535.0), ('19977', 4962.0), ('19393', 2335.0)]\n"
          ]
        }
      ]
    },
    {
      "cell_type": "markdown",
      "source": [
        "e. Qual é o vôo mais frequente de cada companhia"
      ],
      "metadata": {
        "id": "C6RYIrIpvQNu"
      }
    },
    {
      "cell_type": "code",
      "source": [
        "voos_frequentes = {}\n",
        "quantidade_voos_frequentes = {}\n",
        "\n",
        "def mais_frequente(line):\n",
        "    record = line.split(',')\n",
        "    return (record[1], record[2])\n",
        "\n",
        "voos_mais_frequentes_por_companhia = flights_RDD.map(mais_frequente).take(500000)\n",
        "voos_mais_frequentes_por_companhia_RDD = sc.parallelize(voos_mais_frequentes_por_companhia)\n",
        "\n",
        "voos_mais_frequentes_por_companhia_agrupado_RDD = voos_mais_frequentes_por_companhia_RDD.groupByKey().sortByKey()\n",
        "\n",
        "for i in voos_mais_frequentes_por_companhia_agrupado_RDD.collect():\n",
        "    voos_frequentes[i[0]] = list(i[1])\n",
        "    \n",
        "for companhia in voos_frequentes.keys():\n",
        "    for id_flight in voos_frequentes[companhia]:\n",
        "        if id_flight in quantidade_voos_frequentes:\n",
        "            quantidade_voos_frequentes[id_flight] += 1\n",
        "        else:\n",
        "            quantidade_voos_frequentes[id_flight] = 1\n",
        "            \n",
        "    quantidade_de_voos = int(max(quantidade_voos_frequentes.values()))\n",
        "    id_do_voo = list(quantidade_voos_frequentes.keys())[list(quantidade_voos_frequentes.values()).index(quantidade_de_voos)]\n",
        "    quantidade_voos_frequentes.clear()\n",
        "    \n",
        "    print(f'O voo mais frequente da companhia: {companhia} é {id_do_voo} com {quantidade_de_voos} voos')"
      ],
      "metadata": {
        "id": "w7ivIdY2vUF-",
        "colab": {
          "base_uri": "https://localhost:8080/"
        },
        "outputId": "54a59dee-b06d-43d7-bf04-859549d0a7fb"
      },
      "execution_count": 83,
      "outputs": [
        {
          "output_type": "stream",
          "name": "stdout",
          "text": [
            "O voo mais frequente da companhia: 19393 é 583 com 170 voos\n",
            "O voo mais frequente da companhia: 19690 é 1 com 30 voos\n",
            "O voo mais frequente da companhia: 19790 é 1258 com 60 voos\n",
            "O voo mais frequente da companhia: 19805 é 29 com 60 voos\n",
            "O voo mais frequente da companhia: 19930 é 64 com 150 voos\n",
            "O voo mais frequente da companhia: 19977 é 1246 com 75 voos\n",
            "O voo mais frequente da companhia: 20304 é 5325 com 90 voos\n",
            "O voo mais frequente da companhia: 20355 é 409 com 120 voos\n",
            "O voo mais frequente da companhia: 20366 é 2514 com 60 voos\n",
            "O voo mais frequente da companhia: 20398 é 2726 com 60 voos\n",
            "O voo mais frequente da companhia: 20409 é 2054 com 59 voos\n",
            "O voo mais frequente da companhia: 20436 é 143 com 50 voos\n",
            "O voo mais frequente da companhia: 20437 é 221 com 46 voos\n",
            "O voo mais frequente da companhia: 21171 é 251 com 60 voos\n"
          ]
        }
      ]
    },
    {
      "cell_type": "markdown",
      "source": [
        ""
      ],
      "metadata": {
        "id": "sghD7XRFviUW"
      }
    },
    {
      "cell_type": "markdown",
      "source": [
        "### 2. Utilizando o dataset shakespeare.txt, faça uma operação de MapReduce para construir um índice invertido contendo como chave cada palavra e como valor uma lista de linhas onde ela foi mecionada."
      ],
      "metadata": {
        "id": "IAkPa27SvlYe"
      }
    },
    {
      "cell_type": "code",
      "source": [
        "#text_file = sc.textFile(\"hdfs://...\")\n",
        "#counts = text_file.flatMap(lambda line: line.split(\" \")) \\\n",
        "#             .map(lambda word: (word, 1)) \\\n",
        "#             .reduceByKey(lambda a, b: a + b)\n",
        "#counts.saveAsTextFile(\"hdfs://...\")"
      ],
      "metadata": {
        "id": "wcV8pTDnvzET"
      },
      "execution_count": 82,
      "outputs": []
    }
  ]
}