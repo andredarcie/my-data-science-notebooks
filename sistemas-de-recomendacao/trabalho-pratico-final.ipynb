{
  "nbformat": 4,
  "nbformat_minor": 0,
  "metadata": {
    "colab": {
      "name": "aula_16_10.ipynb",
      "provenance": [],
      "collapsed_sections": []
    },
    "kernelspec": {
      "name": "python3",
      "display_name": "Python 3"
    },
    "language_info": {
      "name": "python"
    }
  },
  "cells": [
    {
      "cell_type": "markdown",
      "metadata": {
        "id": "UQdS6BuL-xsX"
      },
      "source": [
        "#Sistemas de Recomendação - 16/10/2021\n",
        "\n",
        "\n",
        "\n",
        "1.   Salvar e carregar modelo de dados treinado;\n",
        "2.   Inclusões de novas avaliações no arquivo de notas;\n",
        "3. Modulando funções;\n",
        "4. Comportamento das recomendações após novas avaliações;\n",
        "5. Gerando e analisando arquivo XML com as predições;\n",
        "6. Espaço para realização dos trabalhos.\n",
        "\n"
      ]
    },
    {
      "cell_type": "code",
      "metadata": {
        "colab": {
          "base_uri": "https://localhost:8080/"
        },
        "id": "Pl9XOdIABd8K",
        "outputId": "6c2b82d5-816a-4ceb-d37e-d1063108839a"
      },
      "source": [
        "#instalando a lib surprise\n",
        "!pip install surprise"
      ],
      "execution_count": 2,
      "outputs": [
        {
          "output_type": "stream",
          "name": "stdout",
          "text": [
            "Collecting surprise\n",
            "  Downloading surprise-0.1-py2.py3-none-any.whl (1.8 kB)\n",
            "Collecting scikit-surprise\n",
            "  Downloading scikit-surprise-1.1.1.tar.gz (11.8 MB)\n",
            "\u001b[K     |████████████████████████████████| 11.8 MB 51 kB/s \n",
            "\u001b[?25hRequirement already satisfied: joblib>=0.11 in /usr/local/lib/python3.7/dist-packages (from scikit-surprise->surprise) (1.0.1)\n",
            "Requirement already satisfied: numpy>=1.11.2 in /usr/local/lib/python3.7/dist-packages (from scikit-surprise->surprise) (1.19.5)\n",
            "Requirement already satisfied: scipy>=1.0.0 in /usr/local/lib/python3.7/dist-packages (from scikit-surprise->surprise) (1.4.1)\n",
            "Requirement already satisfied: six>=1.10.0 in /usr/local/lib/python3.7/dist-packages (from scikit-surprise->surprise) (1.15.0)\n",
            "Building wheels for collected packages: scikit-surprise\n",
            "  Building wheel for scikit-surprise (setup.py) ... \u001b[?25l\u001b[?25hdone\n",
            "  Created wheel for scikit-surprise: filename=scikit_surprise-1.1.1-cp37-cp37m-linux_x86_64.whl size=1619419 sha256=60ee14fedd9789b878fef48d3cd6034b811b0991257d443ea1ec8fc25c4378e0\n",
            "  Stored in directory: /root/.cache/pip/wheels/76/44/74/b498c42be47b2406bd27994e16c5188e337c657025ab400c1c\n",
            "Successfully built scikit-surprise\n",
            "Installing collected packages: scikit-surprise, surprise\n",
            "Successfully installed scikit-surprise-1.1.1 surprise-0.1\n"
          ]
        }
      ]
    },
    {
      "cell_type": "code",
      "metadata": {
        "id": "twwlcIsZQPrA"
      },
      "source": [
        "import pandas as pd\n",
        "\n",
        "\n",
        "filmes = pd.read_csv('movies.csv')\n",
        "notas = pd.read_csv('ratings.csv')\n",
        "notas.columns = ['id_usuario','id_filme','nota_usuario_filme','dia_avaliacao']\n",
        "filmes.columns = ['id_filme','titulo','genero']\n"
      ],
      "execution_count": 4,
      "outputs": []
    },
    {
      "cell_type": "markdown",
      "metadata": {
        "id": "RCTa33fb_44C"
      },
      "source": [
        "#Buscando filmes assistidos e não assistidos de um usuário"
      ]
    },
    {
      "cell_type": "code",
      "metadata": {
        "colab": {
          "base_uri": "https://localhost:8080/",
          "height": 237
        },
        "id": "6l5QfHyrQpJN",
        "outputId": "44af3d48-e292-40d7-dd64-f49f116d5d2e"
      },
      "source": [
        "filmes_assistidos = notas.query('id_usuario == 1')\n",
        "filmes_nao_assistidos = filmes.set_index('id_filme').drop(filmes_assistidos.set_index('id_filme').index,errors='ignore')\n",
        "filmes_nao_assistidos.head(5)"
      ],
      "execution_count": 109,
      "outputs": [
        {
          "output_type": "execute_result",
          "data": {
            "text/html": [
              "<div>\n",
              "<style scoped>\n",
              "    .dataframe tbody tr th:only-of-type {\n",
              "        vertical-align: middle;\n",
              "    }\n",
              "\n",
              "    .dataframe tbody tr th {\n",
              "        vertical-align: top;\n",
              "    }\n",
              "\n",
              "    .dataframe thead th {\n",
              "        text-align: right;\n",
              "    }\n",
              "</style>\n",
              "<table border=\"1\" class=\"dataframe\">\n",
              "  <thead>\n",
              "    <tr style=\"text-align: right;\">\n",
              "      <th></th>\n",
              "      <th>titulo</th>\n",
              "      <th>genero</th>\n",
              "    </tr>\n",
              "    <tr>\n",
              "      <th>id_filme</th>\n",
              "      <th></th>\n",
              "      <th></th>\n",
              "    </tr>\n",
              "  </thead>\n",
              "  <tbody>\n",
              "    <tr>\n",
              "      <th>2</th>\n",
              "      <td>Jumanji (1995)</td>\n",
              "      <td>Adventure|Children|Fantasy</td>\n",
              "    </tr>\n",
              "    <tr>\n",
              "      <th>4</th>\n",
              "      <td>Waiting to Exhale (1995)</td>\n",
              "      <td>Comedy|Drama|Romance</td>\n",
              "    </tr>\n",
              "    <tr>\n",
              "      <th>5</th>\n",
              "      <td>Father of the Bride Part II (1995)</td>\n",
              "      <td>Comedy</td>\n",
              "    </tr>\n",
              "    <tr>\n",
              "      <th>7</th>\n",
              "      <td>Sabrina (1995)</td>\n",
              "      <td>Comedy|Romance</td>\n",
              "    </tr>\n",
              "    <tr>\n",
              "      <th>8</th>\n",
              "      <td>Tom and Huck (1995)</td>\n",
              "      <td>Adventure|Children</td>\n",
              "    </tr>\n",
              "  </tbody>\n",
              "</table>\n",
              "</div>"
            ],
            "text/plain": [
              "                                      titulo                      genero\n",
              "id_filme                                                                \n",
              "2                             Jumanji (1995)  Adventure|Children|Fantasy\n",
              "4                   Waiting to Exhale (1995)        Comedy|Drama|Romance\n",
              "5         Father of the Bride Part II (1995)                      Comedy\n",
              "7                             Sabrina (1995)              Comedy|Romance\n",
              "8                        Tom and Huck (1995)          Adventure|Children"
            ]
          },
          "metadata": {},
          "execution_count": 109
        }
      ]
    },
    {
      "cell_type": "code",
      "metadata": {
        "colab": {
          "base_uri": "https://localhost:8080/",
          "height": 49
        },
        "id": "6Tl3LK8KUJPP",
        "outputId": "e88ca973-ccdd-49b7-b2f5-791920ed157f"
      },
      "source": [
        "#conferindo os filmes não assistidos\n",
        "#ele compara o id do usuário e o id do filme e se não retornar nada, é porque está correto.\n",
        "filmes_assistidos = notas.query('id_usuario == 584 and id_filme == 1237')\n",
        "filmes_assistidos"
      ],
      "execution_count": 107,
      "outputs": [
        {
          "output_type": "execute_result",
          "data": {
            "text/html": [
              "<div>\n",
              "<style scoped>\n",
              "    .dataframe tbody tr th:only-of-type {\n",
              "        vertical-align: middle;\n",
              "    }\n",
              "\n",
              "    .dataframe tbody tr th {\n",
              "        vertical-align: top;\n",
              "    }\n",
              "\n",
              "    .dataframe thead th {\n",
              "        text-align: right;\n",
              "    }\n",
              "</style>\n",
              "<table border=\"1\" class=\"dataframe\">\n",
              "  <thead>\n",
              "    <tr style=\"text-align: right;\">\n",
              "      <th></th>\n",
              "      <th>id_usuario</th>\n",
              "      <th>id_filme</th>\n",
              "      <th>nota_usuario_filme</th>\n",
              "      <th>dia_avaliacao</th>\n",
              "    </tr>\n",
              "  </thead>\n",
              "  <tbody>\n",
              "  </tbody>\n",
              "</table>\n",
              "</div>"
            ],
            "text/plain": [
              "Empty DataFrame\n",
              "Columns: [id_usuario, id_filme, nota_usuario_filme, dia_avaliacao]\n",
              "Index: []"
            ]
          },
          "metadata": {},
          "execution_count": 107
        }
      ]
    },
    {
      "cell_type": "markdown",
      "metadata": {
        "id": "ukGZ8dP6_c8V"
      },
      "source": [
        "#Criando, treinando, salvando e carregando modelo"
      ]
    },
    {
      "cell_type": "code",
      "metadata": {
        "id": "0OONB_UlVzso"
      },
      "source": [
        "import surprise\n",
        "from surprise import Reader\n",
        "from surprise import Dataset\n",
        "from surprise.model_selection import train_test_split \n",
        "import pickle"
      ],
      "execution_count": 62,
      "outputs": []
    },
    {
      "cell_type": "code",
      "metadata": {
        "id": "ogFe1ttABeb5"
      },
      "source": [
        "#reader = escala das notas, a estrutura da linha de entrada de dados -> id_u id_i avaliacao\n",
        "reader = Reader(line_format='user item rating',rating_scale=(0.0,5.0))"
      ],
      "execution_count": 28,
      "outputs": []
    },
    {
      "cell_type": "code",
      "metadata": {
        "colab": {
          "base_uri": "https://localhost:8080/"
        },
        "id": "nEei-VAxWbY3",
        "outputId": "caee80eb-36e6-49ce-eea6-699c4d04dcbd"
      },
      "source": [
        "#preparando os dados para a lib surprise, que deve ter somente as colunas id do usuario, id do filme e a nota\n",
        "dados_surprise = notas[['id_usuario','id_filme','nota_usuario_filme']]\n",
        "dados_preparados_treinamento = surprise.Dataset.load_from_df(dados_surprise,reader)"
      ],
      "execution_count": 40,
      "outputs": [
        {
          "output_type": "execute_result",
          "data": {
            "text/plain": [
              "<surprise.dataset.DatasetAutoFolds at 0x7f8933102cd0>"
            ]
          },
          "metadata": {},
          "execution_count": 40
        }
      ]
    },
    {
      "cell_type": "code",
      "metadata": {
        "id": "-Py_W5KNX-dC"
      },
      "source": [
        "#temos os dados preparados em formato objeto surprise\n",
        "#criando o modelo SVD\n",
        "algo = surprise.SVDpp()"
      ],
      "execution_count": 70,
      "outputs": []
    },
    {
      "cell_type": "code",
      "metadata": {
        "id": "dxgK4HMHYm76"
      },
      "source": [
        "trainset, testset = train_test_split(dados_preparados_treinamento)"
      ],
      "execution_count": 71,
      "outputs": []
    },
    {
      "cell_type": "code",
      "metadata": {
        "colab": {
          "base_uri": "https://localhost:8080/"
        },
        "id": "0oETnvr7ZZ5a",
        "outputId": "e807a2c6-df47-4e74-96f1-9a86cd9d5ce3"
      },
      "source": [
        "#para realizar o treinamento utiliza-se o algo.fit()\n",
        "algo.fit(trainset)"
      ],
      "execution_count": 72,
      "outputs": [
        {
          "output_type": "execute_result",
          "data": {
            "text/plain": [
              "<surprise.prediction_algorithms.matrix_factorization.SVDpp at 0x7f892fb25bd0>"
            ]
          },
          "metadata": {},
          "execution_count": 72
        }
      ]
    },
    {
      "cell_type": "code",
      "metadata": {
        "id": "NY82VRmBafu3"
      },
      "source": [
        "pickle.dump(algo,open('treinado.pkl','wb'))"
      ],
      "execution_count": 73,
      "outputs": []
    },
    {
      "cell_type": "code",
      "metadata": {
        "colab": {
          "base_uri": "https://localhost:8080/"
        },
        "id": "-wUr3vxneCbp",
        "outputId": "f627f0b8-ad0a-4e39-b798-1cf3e8d2eb2c"
      },
      "source": [
        "print('Predições dos filmes não assistidos do usuário 1')\n",
        "dic=[]\n",
        "#vamos pegar todos os filmes não assistidos, calcular a predição e salvar no dicionario\n",
        "filmes_nao_assistidos = filmes_nao_assistidos.reset_index()\n",
        "for index, row in filmes_nao_assistidos.iterrows():\n",
        "  dic.append(algo.predict(1,row['id_filme']))\n",
        "  "
      ],
      "execution_count": 110,
      "outputs": [
        {
          "output_type": "stream",
          "name": "stdout",
          "text": [
            "Predições dos filmes não assistidos do usuário 1\n"
          ]
        }
      ]
    },
    {
      "cell_type": "code",
      "metadata": {
        "id": "RPP0p301gqwU"
      },
      "source": [
        "predicoes = pd.DataFrame.from_dict(dic)"
      ],
      "execution_count": 111,
      "outputs": []
    },
    {
      "cell_type": "code",
      "metadata": {
        "id": "aM0WosF1fbXf"
      },
      "source": [
        "predicoes.columns = ['id_usuario','id_filme','ref','predicao','destalhes']"
      ],
      "execution_count": 112,
      "outputs": []
    },
    {
      "cell_type": "code",
      "metadata": {
        "id": "cvrqzCK-hUns"
      },
      "source": [
        "recomendacoes = pd.merge(predicoes,filmes,how='inner',on='id_filme').sort_values('predicao',ascending=False)[['id_filme','titulo','predicao']]"
      ],
      "execution_count": 113,
      "outputs": []
    },
    {
      "cell_type": "code",
      "metadata": {
        "id": "groxoMi8iORe"
      },
      "source": [
        "#recomendacoes.head(50)"
      ],
      "execution_count": 117,
      "outputs": []
    },
    {
      "cell_type": "markdown",
      "metadata": {
        "id": "tqSWcixNAGLz"
      },
      "source": [
        "#Modulando funções para buscar filmes assistidos e não assistidos pelo id_filme"
      ]
    },
    {
      "cell_type": "code",
      "metadata": {
        "id": "aDwodJugBfGw"
      },
      "source": [
        "def busca_filmes_assistidos(id_usuario):\n",
        "  print('Filmes assistidos do usuário %d' % id_usuario)\n",
        "  filmes_assistidos = notas.query('id_usuario == %d' % id_usuario)\n",
        "  return filmes_assistidos"
      ],
      "execution_count": 118,
      "outputs": []
    },
    {
      "cell_type": "code",
      "metadata": {
        "id": "VgVcsjlWk7As"
      },
      "source": [
        "def busca_filmes_nao_assistidos(id_usuario):\n",
        "  filmes_assistidos = notas.query('id_usuario == %d' % id_usuario)\n",
        "  id_filmes_assistidos = filmes_assistidos.set_index('id_filme').index\n",
        "  filmes_nao_assistidos = filmes.set_index('id_filme').drop(id_filmes_assistidos,errors='ignore').reset_index()\n",
        "  return filmes_nao_assistidos\n"
      ],
      "execution_count": 139,
      "outputs": []
    },
    {
      "cell_type": "code",
      "metadata": {
        "id": "uxOU-mzMlutY"
      },
      "source": [
        "def verifica_predicoes_filmes_nao_assistidos(id_usuario):\n",
        "  print('Predicoes do usuário %d' % id_usuario)\n",
        "  dic=[]\n",
        "  #vamos pegar todos os filmes não assistidos, calcular a predição e salvar no dicionario\n",
        "  filmes_predicoes = busca_filmes_nao_assistidos(id_usuario)\n",
        "  for index, row in filmes_predicoes.iterrows():\n",
        "    dic.append(algo.predict(id_usuario,row['id_filme']))\n",
        "  return pd.DataFrame.from_dict(dic)"
      ],
      "execution_count": 142,
      "outputs": []
    },
    {
      "cell_type": "markdown",
      "metadata": {
        "id": "MywoeblcAN8c"
      },
      "source": [
        "#Realizando predições"
      ]
    },
    {
      "cell_type": "code",
      "metadata": {
        "id": "I46MRxOpBfsR"
      },
      "source": [
        "def apresenta_recomendacoes(id_usuario,numero_de_recomendacoes=10):\n",
        "  filmes_assistidos = notas.query(\"id_usuario == %d \" % id_usuario)\n",
        "  if filmes_assistidos.empty:\n",
        "    print(\"****O usuário com id %d ainda não avaliou nenhum filme****\" % id_usuario)\n",
        "    print(\"****Serão recomendados os filmes mais populares****\")\n",
        "    total_de_votos = notas['id_filme'].value_counts()\n",
        "    filmes_backup = filmes.copy()\n",
        "    filmes_backup['total_de_votos'] = total_de_votos\n",
        "    notas_medias = notas.groupby('id_filme').mean()['nota_usuario_filme']\n",
        "    filmes_backup['notas_medias'] = notas_medias\n",
        "    return filmes_backup.sort_values('total_de_votos',ascending=False).head(numero_de_recomendacoes)\n",
        "\n",
        "  predicoes = verifica_predicoes_filmes_nao_assistidos(id_usuario)\n",
        "  predicoes.columns = ['id_usuario','id_filme','ref','predicao','destalhes']\n",
        "  recomendacoes = pd.merge(predicoes,filmes,how='inner',on='id_filme').sort_values('predicao',ascending=False)[['id_filme','titulo','predicao']]\n",
        "  return recomendacoes.head(numero_de_recomendacoes)"
      ],
      "execution_count": 236,
      "outputs": []
    },
    {
      "cell_type": "code",
      "metadata": {
        "colab": {
          "base_uri": "https://localhost:8080/",
          "height": 243
        },
        "id": "WtQZe94-TKVS",
        "outputId": "17d60213-42ed-4da0-f5a6-2ba6a57caf2d"
      },
      "source": [
        "apresenta_recomendacoes(950,5)"
      ],
      "execution_count": 237,
      "outputs": [
        {
          "output_type": "stream",
          "name": "stdout",
          "text": [
            "****O usuário com id 950 ainda não avaliou nenhum filme****\n",
            "****Serão recomendados os filmes mais populares****\n"
          ]
        },
        {
          "output_type": "execute_result",
          "data": {
            "text/html": [
              "<div>\n",
              "<style scoped>\n",
              "    .dataframe tbody tr th:only-of-type {\n",
              "        vertical-align: middle;\n",
              "    }\n",
              "\n",
              "    .dataframe tbody tr th {\n",
              "        vertical-align: top;\n",
              "    }\n",
              "\n",
              "    .dataframe thead th {\n",
              "        text-align: right;\n",
              "    }\n",
              "</style>\n",
              "<table border=\"1\" class=\"dataframe\">\n",
              "  <thead>\n",
              "    <tr style=\"text-align: right;\">\n",
              "      <th></th>\n",
              "      <th>id_filme</th>\n",
              "      <th>titulo</th>\n",
              "      <th>genero</th>\n",
              "      <th>total_de_votos</th>\n",
              "      <th>notas_medias</th>\n",
              "    </tr>\n",
              "  </thead>\n",
              "  <tbody>\n",
              "    <tr>\n",
              "      <th>356</th>\n",
              "      <td>412</td>\n",
              "      <td>Age of Innocence, The (1993)</td>\n",
              "      <td>Drama</td>\n",
              "      <td>329.0</td>\n",
              "      <td>4.164134</td>\n",
              "    </tr>\n",
              "    <tr>\n",
              "      <th>318</th>\n",
              "      <td>360</td>\n",
              "      <td>I Love Trouble (1994)</td>\n",
              "      <td>Action|Comedy</td>\n",
              "      <td>317.0</td>\n",
              "      <td>4.429022</td>\n",
              "    </tr>\n",
              "    <tr>\n",
              "      <th>296</th>\n",
              "      <td>338</td>\n",
              "      <td>Virtuosity (1995)</td>\n",
              "      <td>Action|Sci-Fi|Thriller</td>\n",
              "      <td>307.0</td>\n",
              "      <td>4.197068</td>\n",
              "    </tr>\n",
              "    <tr>\n",
              "      <th>593</th>\n",
              "      <td>735</td>\n",
              "      <td>Cemetery Man (Dellamorte Dellamore) (1994)</td>\n",
              "      <td>Horror</td>\n",
              "      <td>279.0</td>\n",
              "      <td>4.161290</td>\n",
              "    </tr>\n",
              "    <tr>\n",
              "      <th>2571</th>\n",
              "      <td>3439</td>\n",
              "      <td>Teenage Mutant Ninja Turtles II: The Secret of...</td>\n",
              "      <td>Action|Children|Fantasy</td>\n",
              "      <td>278.0</td>\n",
              "      <td>4.192446</td>\n",
              "    </tr>\n",
              "  </tbody>\n",
              "</table>\n",
              "</div>"
            ],
            "text/plain": [
              "      id_filme  ... notas_medias\n",
              "356        412  ...     4.164134\n",
              "318        360  ...     4.429022\n",
              "296        338  ...     4.197068\n",
              "593        735  ...     4.161290\n",
              "2571      3439  ...     4.192446\n",
              "\n",
              "[5 rows x 5 columns]"
            ]
          },
          "metadata": {},
          "execution_count": 237
        }
      ]
    },
    {
      "cell_type": "code",
      "metadata": {
        "colab": {
          "base_uri": "https://localhost:8080/",
          "height": 381
        },
        "id": "g6QYa1HGoyXM",
        "outputId": "dba9a86c-7744-4d7b-a029-8d6f7da4fbc6"
      },
      "source": [
        "apresenta_recomendacoes(584)"
      ],
      "execution_count": 201,
      "outputs": [
        {
          "output_type": "stream",
          "name": "stdout",
          "text": [
            "Predicoes do usuário 584\n"
          ]
        },
        {
          "output_type": "execute_result",
          "data": {
            "text/html": [
              "<div>\n",
              "<style scoped>\n",
              "    .dataframe tbody tr th:only-of-type {\n",
              "        vertical-align: middle;\n",
              "    }\n",
              "\n",
              "    .dataframe tbody tr th {\n",
              "        vertical-align: top;\n",
              "    }\n",
              "\n",
              "    .dataframe thead th {\n",
              "        text-align: right;\n",
              "    }\n",
              "</style>\n",
              "<table border=\"1\" class=\"dataframe\">\n",
              "  <thead>\n",
              "    <tr style=\"text-align: right;\">\n",
              "      <th></th>\n",
              "      <th>id_filme</th>\n",
              "      <th>titulo</th>\n",
              "      <th>predicao</th>\n",
              "    </tr>\n",
              "  </thead>\n",
              "  <tbody>\n",
              "    <tr>\n",
              "      <th>9378</th>\n",
              "      <td>168252</td>\n",
              "      <td>Logan (2017)</td>\n",
              "      <td>5.000000</td>\n",
              "    </tr>\n",
              "    <tr>\n",
              "      <th>3940</th>\n",
              "      <td>5690</td>\n",
              "      <td>Grave of the Fireflies (Hotaru no haka) (1988)</td>\n",
              "      <td>5.000000</td>\n",
              "    </tr>\n",
              "    <tr>\n",
              "      <th>1337</th>\n",
              "      <td>1945</td>\n",
              "      <td>On the Waterfront (1954)</td>\n",
              "      <td>5.000000</td>\n",
              "    </tr>\n",
              "    <tr>\n",
              "      <th>2198</th>\n",
              "      <td>3030</td>\n",
              "      <td>Yojimbo (1961)</td>\n",
              "      <td>5.000000</td>\n",
              "    </tr>\n",
              "    <tr>\n",
              "      <th>576</th>\n",
              "      <td>858</td>\n",
              "      <td>Godfather, The (1972)</td>\n",
              "      <td>4.976166</td>\n",
              "    </tr>\n",
              "    <tr>\n",
              "      <th>866</th>\n",
              "      <td>1252</td>\n",
              "      <td>Chinatown (1974)</td>\n",
              "      <td>4.974286</td>\n",
              "    </tr>\n",
              "    <tr>\n",
              "      <th>231</th>\n",
              "      <td>318</td>\n",
              "      <td>Shawshank Redemption, The (1994)</td>\n",
              "      <td>4.967091</td>\n",
              "    </tr>\n",
              "    <tr>\n",
              "      <th>6230</th>\n",
              "      <td>48516</td>\n",
              "      <td>Departed, The (2006)</td>\n",
              "      <td>4.928491</td>\n",
              "    </tr>\n",
              "    <tr>\n",
              "      <th>826</th>\n",
              "      <td>1208</td>\n",
              "      <td>Apocalypse Now (1979)</td>\n",
              "      <td>4.928405</td>\n",
              "    </tr>\n",
              "    <tr>\n",
              "      <th>603</th>\n",
              "      <td>904</td>\n",
              "      <td>Rear Window (1954)</td>\n",
              "      <td>4.913635</td>\n",
              "    </tr>\n",
              "  </tbody>\n",
              "</table>\n",
              "</div>"
            ],
            "text/plain": [
              "      id_filme                                          titulo  predicao\n",
              "9378    168252                                    Logan (2017)  5.000000\n",
              "3940      5690  Grave of the Fireflies (Hotaru no haka) (1988)  5.000000\n",
              "1337      1945                        On the Waterfront (1954)  5.000000\n",
              "2198      3030                                  Yojimbo (1961)  5.000000\n",
              "576        858                           Godfather, The (1972)  4.976166\n",
              "866       1252                                Chinatown (1974)  4.974286\n",
              "231        318                Shawshank Redemption, The (1994)  4.967091\n",
              "6230     48516                            Departed, The (2006)  4.928491\n",
              "826       1208                           Apocalypse Now (1979)  4.928405\n",
              "603        904                              Rear Window (1954)  4.913635"
            ]
          },
          "metadata": {},
          "execution_count": 201
        }
      ]
    },
    {
      "cell_type": "markdown",
      "metadata": {
        "id": "ngbIQ5e6AUkD"
      },
      "source": [
        "#Inserindo dados no arquivo CSV"
      ]
    },
    {
      "cell_type": "code",
      "metadata": {
        "id": "XxGLM61HBgGk"
      },
      "source": [
        "#CSV\n",
        "import csv"
      ],
      "execution_count": 155,
      "outputs": []
    },
    {
      "cell_type": "code",
      "metadata": {
        "id": "WpDr9zhIqTYk"
      },
      "source": [
        "with open('ratings.csv','a') as arquivo_csv:\n",
        "  escrever = csv.writer(arquivo_csv,delimiter=',',lineterminator='\\n')\n",
        "  escrever.writerow([584,1223,5.0])"
      ],
      "execution_count": 161,
      "outputs": []
    },
    {
      "cell_type": "code",
      "metadata": {
        "id": "b9gpm8eJruHL"
      },
      "source": [
        "notas = pd.read_csv('ratings.csv')\n",
        "notas.columns = ['id_usuario','id_filme','nota_usuario_filme','dia_avaliacao']"
      ],
      "execution_count": 162,
      "outputs": []
    },
    {
      "cell_type": "code",
      "metadata": {
        "colab": {
          "base_uri": "https://localhost:8080/",
          "height": 206
        },
        "id": "ZbN6hhvUr_An",
        "outputId": "3797ea36-149e-4210-b79f-46020385a3e0"
      },
      "source": [
        "notas.tail()"
      ],
      "execution_count": 163,
      "outputs": [
        {
          "output_type": "execute_result",
          "data": {
            "text/html": [
              "<div>\n",
              "<style scoped>\n",
              "    .dataframe tbody tr th:only-of-type {\n",
              "        vertical-align: middle;\n",
              "    }\n",
              "\n",
              "    .dataframe tbody tr th {\n",
              "        vertical-align: top;\n",
              "    }\n",
              "\n",
              "    .dataframe thead th {\n",
              "        text-align: right;\n",
              "    }\n",
              "</style>\n",
              "<table border=\"1\" class=\"dataframe\">\n",
              "  <thead>\n",
              "    <tr style=\"text-align: right;\">\n",
              "      <th></th>\n",
              "      <th>id_usuario</th>\n",
              "      <th>id_filme</th>\n",
              "      <th>nota_usuario_filme</th>\n",
              "      <th>dia_avaliacao</th>\n",
              "    </tr>\n",
              "  </thead>\n",
              "  <tbody>\n",
              "    <tr>\n",
              "      <th>100833</th>\n",
              "      <td>610</td>\n",
              "      <td>168250</td>\n",
              "      <td>5.0</td>\n",
              "      <td>1.494273e+09</td>\n",
              "    </tr>\n",
              "    <tr>\n",
              "      <th>100834</th>\n",
              "      <td>610</td>\n",
              "      <td>168252</td>\n",
              "      <td>5.0</td>\n",
              "      <td>1.493846e+09</td>\n",
              "    </tr>\n",
              "    <tr>\n",
              "      <th>100835</th>\n",
              "      <td>610</td>\n",
              "      <td>170875</td>\n",
              "      <td>3.0</td>\n",
              "      <td>1.493846e+09</td>\n",
              "    </tr>\n",
              "    <tr>\n",
              "      <th>100836</th>\n",
              "      <td>584</td>\n",
              "      <td>1237</td>\n",
              "      <td>5.0</td>\n",
              "      <td>NaN</td>\n",
              "    </tr>\n",
              "    <tr>\n",
              "      <th>100837</th>\n",
              "      <td>584</td>\n",
              "      <td>1223</td>\n",
              "      <td>5.0</td>\n",
              "      <td>NaN</td>\n",
              "    </tr>\n",
              "  </tbody>\n",
              "</table>\n",
              "</div>"
            ],
            "text/plain": [
              "        id_usuario  id_filme  nota_usuario_filme  dia_avaliacao\n",
              "100833         610    168250                 5.0   1.494273e+09\n",
              "100834         610    168252                 5.0   1.493846e+09\n",
              "100835         610    170875                 3.0   1.493846e+09\n",
              "100836         584      1237                 5.0            NaN\n",
              "100837         584      1223                 5.0            NaN"
            ]
          },
          "metadata": {},
          "execution_count": 163
        }
      ]
    },
    {
      "cell_type": "code",
      "metadata": {
        "colab": {
          "base_uri": "https://localhost:8080/",
          "height": 206
        },
        "id": "YQcTSRrOsF-D",
        "outputId": "611a5eac-794c-4106-a8d7-5ffe588146df"
      },
      "source": [
        "notas.tail()"
      ],
      "execution_count": 165,
      "outputs": [
        {
          "output_type": "execute_result",
          "data": {
            "text/html": [
              "<div>\n",
              "<style scoped>\n",
              "    .dataframe tbody tr th:only-of-type {\n",
              "        vertical-align: middle;\n",
              "    }\n",
              "\n",
              "    .dataframe tbody tr th {\n",
              "        vertical-align: top;\n",
              "    }\n",
              "\n",
              "    .dataframe thead th {\n",
              "        text-align: right;\n",
              "    }\n",
              "</style>\n",
              "<table border=\"1\" class=\"dataframe\">\n",
              "  <thead>\n",
              "    <tr style=\"text-align: right;\">\n",
              "      <th></th>\n",
              "      <th>id_usuario</th>\n",
              "      <th>id_filme</th>\n",
              "      <th>nota_usuario_filme</th>\n",
              "      <th>dia_avaliacao</th>\n",
              "    </tr>\n",
              "  </thead>\n",
              "  <tbody>\n",
              "    <tr>\n",
              "      <th>100833</th>\n",
              "      <td>610</td>\n",
              "      <td>168250</td>\n",
              "      <td>5.0</td>\n",
              "      <td>1.494273e+09</td>\n",
              "    </tr>\n",
              "    <tr>\n",
              "      <th>100834</th>\n",
              "      <td>610</td>\n",
              "      <td>168252</td>\n",
              "      <td>5.0</td>\n",
              "      <td>1.493846e+09</td>\n",
              "    </tr>\n",
              "    <tr>\n",
              "      <th>100835</th>\n",
              "      <td>610</td>\n",
              "      <td>170875</td>\n",
              "      <td>3.0</td>\n",
              "      <td>1.493846e+09</td>\n",
              "    </tr>\n",
              "    <tr>\n",
              "      <th>100836</th>\n",
              "      <td>584</td>\n",
              "      <td>1237</td>\n",
              "      <td>5.0</td>\n",
              "      <td>NaN</td>\n",
              "    </tr>\n",
              "    <tr>\n",
              "      <th>100837</th>\n",
              "      <td>584</td>\n",
              "      <td>1223</td>\n",
              "      <td>5.0</td>\n",
              "      <td>NaN</td>\n",
              "    </tr>\n",
              "  </tbody>\n",
              "</table>\n",
              "</div>"
            ],
            "text/plain": [
              "        id_usuario  id_filme  nota_usuario_filme  dia_avaliacao\n",
              "100833         610    168250                 5.0   1.494273e+09\n",
              "100834         610    168252                 5.0   1.493846e+09\n",
              "100835         610    170875                 3.0   1.493846e+09\n",
              "100836         584      1237                 5.0            NaN\n",
              "100837         584      1223                 5.0            NaN"
            ]
          },
          "metadata": {},
          "execution_count": 165
        }
      ]
    },
    {
      "cell_type": "markdown",
      "metadata": {
        "id": "Ufj1OIkjAYgJ"
      },
      "source": [
        "#Salvar predições em arquivo xml"
      ]
    },
    {
      "cell_type": "code",
      "metadata": {
        "id": "2s3HxHB0Bgl7"
      },
      "source": [
        "import xml.etree.cElementTree as ET"
      ],
      "execution_count": 171,
      "outputs": []
    },
    {
      "cell_type": "code",
      "metadata": {
        "id": "DRwi__KwGNHq"
      },
      "source": [
        "def grava_arquivo_xml(dados,id_usuario):\n",
        "    root = ET.Element(\"Catalogo\")\n",
        "    for index, row in dados.iterrows():\n",
        "        doc = ET.SubElement(root, \"Filme\")\n",
        "        ET.SubElement(doc, \"Id_filme\").text = str(row['id_filme'])\n",
        "        ET.SubElement(doc, \"Titulo\").text = row['titulo']\n",
        "    tree = ET.ElementTree(root)\n",
        "    tree.write(\"filmes_us_\"+str(id_usuario)+\".xml\")\n"
      ],
      "execution_count": 183,
      "outputs": []
    },
    {
      "cell_type": "code",
      "metadata": {
        "colab": {
          "base_uri": "https://localhost:8080/"
        },
        "id": "Lj2AAPOeG24x",
        "outputId": "e46505b0-5d1c-4990-8ab7-352a62d3fea1"
      },
      "source": [
        "grava_arquivo_xml(apresenta_recomendacoes(145,5),145)"
      ],
      "execution_count": 185,
      "outputs": [
        {
          "output_type": "stream",
          "name": "stdout",
          "text": [
            "Predicoes do usuário 145\n"
          ]
        }
      ]
    },
    {
      "cell_type": "markdown",
      "metadata": {
        "id": "4dS2XCjg2WPR"
      },
      "source": [
        "#Função para realizar treinamento"
      ]
    },
    {
      "cell_type": "code",
      "metadata": {
        "id": "7Uzjpg2u3m42"
      },
      "source": [
        "#essa função vai criar o modelo e treinamento com os dados.\n",
        "#escala menor é a nota mais baixa do conjunto de dados. -> 0.0\n",
        "#escala maior é a nota mais alta do conjunto de dados. -> 0.5\n",
        "def realiza_treinamento(dados, nome_modelo,escala_menor, escala_maior):\n",
        "  if(nome_modelo == 'SVD') or (nome_modelo == 'svd'):\n",
        "    print('Modelo escolhido foi o SVD')\n",
        "    algo = surprise.SVD()\n",
        "    print('Modelo gerado com sucesso')\n",
        "  elif(nome_modelo == 'SVDpp') or (nome_modelo == 'svdpp') or (nome_modelo == 'SVDPP'):\n",
        "    print('Modelo escolhido foi o SVDpp')\n",
        "    algo = surprise.SVDpp()\n",
        "    print('Modelo gerado com sucesso')\n",
        "\n",
        "  reader = Reader(line_format='user item rating',rating_scale=(escala_menor,escala_maior))\n",
        "  dados_surprise = dados[['id_usuario','id_filme','nota_usuario_filme']]\n",
        "  dados_preparados_treinamento = surprise.Dataset.load_from_df(dados_surprise,reader)\n",
        "  trainset, testset = train_test_split(dados_preparados_treinamento)\n",
        "  algo.fit(trainset)\n",
        "  print(\"Modelo \"+nome_modelo+\" treinado com sucesso\")\n",
        "  return algo\n"
      ],
      "execution_count": 192,
      "outputs": []
    },
    {
      "cell_type": "code",
      "metadata": {
        "colab": {
          "base_uri": "https://localhost:8080/"
        },
        "id": "b8PKZ4YkL_p2",
        "outputId": "73ec0c2b-7539-4e96-c57d-4ea7f2615818"
      },
      "source": [
        "algo = realiza_treinamento(notas,'SVD',0.0,5.0)"
      ],
      "execution_count": 193,
      "outputs": [
        {
          "output_type": "stream",
          "name": "stdout",
          "text": [
            "Modelo escolhido foi o SVD\n",
            "Modelo gerado com sucesso\n",
            "Modelo SVD treinado com sucesso\n"
          ]
        }
      ]
    },
    {
      "cell_type": "markdown",
      "metadata": {
        "id": "-c2gBrQ_BGl9"
      },
      "source": [
        "#Criando menu para inserir avaliações, recarregar treinamento, apresentar recomendações"
      ]
    },
    {
      "cell_type": "code",
      "metadata": {
        "id": "wPeRfOtsNuLB"
      },
      "source": [
        "#função para salvar o modelo treinado\n",
        "def salva_modelo(algo):\n",
        "  print(algo)\n",
        "  pickle.dump(algo,open('treinado.pkl','wb'))\n",
        "  print(\"O comando dump foi executado sem erro\")"
      ],
      "execution_count": 245,
      "outputs": []
    },
    {
      "cell_type": "code",
      "metadata": {
        "id": "iJlgCsoJajIf"
      },
      "source": [
        "def carrega_modelo():\n",
        "  with open('treinado.pkl','rb') as modelo:\n",
        "    algo = pickle.load(modelo)\n",
        "  return algo"
      ],
      "execution_count": 247,
      "outputs": []
    },
    {
      "cell_type": "code",
      "metadata": {
        "id": "7ySMGnUrca5p"
      },
      "source": [
        "def verifica_predicoes_filmes_nao_assistidos(id_usuario,algo):\n",
        "  print('Predicoes do usuário %d' % id_usuario)\n",
        "  dic=[]\n",
        "  #vamos pegar todos os filmes não assistidos, calcular a predição e salvar no dicionario\n",
        "  filmes_predicoes = busca_filmes_nao_assistidos(id_usuario)\n",
        "  for index, row in filmes_predicoes.iterrows():\n",
        "    dic.append(algo.predict(id_usuario,row['id_filme']))\n",
        "  return pd.DataFrame.from_dict(dic)"
      ],
      "execution_count": 266,
      "outputs": []
    },
    {
      "cell_type": "code",
      "metadata": {
        "id": "w7MMxvyxb_Lo"
      },
      "source": [
        "def apresenta_recomendacoes(id_usuario,notas,algo,filmes,numero_de_recomendacoes=10):\n",
        "  filmes_assistidos = notas.query(\"id_usuario == %d \" % id_usuario)\n",
        "  if filmes_assistidos.empty:\n",
        "    print(\"****O usuário com id %d ainda não avaliou nenhum filme****\" % id_usuario)\n",
        "    print(\"****Serão recomendados os filmes mais populares****\")\n",
        "    total_de_votos = notas['id_filme'].value_counts()\n",
        "    filmes_backup = filmes.copy()\n",
        "    filmes_backup['total_de_votos'] = total_de_votos\n",
        "    notas_medias = notas.groupby('id_filme').mean()['nota_usuario_filme']\n",
        "    filmes_backup['notas_medias'] = notas_medias\n",
        "    return filmes_backup.sort_values('total_de_votos',ascending=False).head(numero_de_recomendacoes)\n",
        "\n",
        "  predicoes = verifica_predicoes_filmes_nao_assistidos(id_usuario,algo)\n",
        "  predicoes.columns = ['id_usuario','id_filme','ref','predicao','destalhes']\n",
        "  recomendacoes = pd.merge(predicoes,filmes,how='inner',on='id_filme').sort_values('predicao',ascending=False)[['id_filme','titulo','predicao']]\n",
        "  return recomendacoes.head(numero_de_recomendacoes)"
      ],
      "execution_count": 265,
      "outputs": []
    },
    {
      "cell_type": "code",
      "metadata": {
        "id": "rIJarfD5BhBe"
      },
      "source": [
        "def menu():\n",
        "  continuar = 1\n",
        "  while(continuar):\n",
        "    continuar = int(input(\"0. Sair\\n\"+\n",
        "                          \"1. Inserir novas avaliações\\n\"+\n",
        "                          \"2. Verificar id de um novo usuário\\n\"+\n",
        "                          \"3. Realiza Treinamento\\n\"+\n",
        "                          \"4. Recomenda Filmes\\n\"\n",
        "                          )\n",
        "                    )\n",
        "    if(continuar == 1):\n",
        "      usuario = input(\"Digite o id do usuário: \")\n",
        "      filme = input(\"Digite o id do filme: \")\n",
        "      nota = input(\"Digite a nota do filme: \")\n",
        "\n",
        "      with open('ratings.csv','a') as arquivo_csv:\n",
        "        escrever = csv.writer(arquivo_csv,delimiter=',',lineterminator='\\n')\n",
        "        escrever.writerow([usuario,filme,nota])\n",
        "\n",
        "    if(continuar == 2):\n",
        "      notas = pd.read_csv('ratings.csv')\n",
        "      notas.columns = ['id_usuario','id_filme','nota_usuario_filme','dia_avaliacao']\n",
        "      novo_usuario = notas['id_usuario'].max()+1\n",
        "      print(\"O próximo ID de usuário livre eh: %d\" % novo_usuario)\n",
        "\n",
        "    if(continuar == 3):\n",
        "      notas = pd.read_csv('ratings.csv')\n",
        "      notas.columns = ['id_usuario','id_filme','nota_usuario_filme','dia_avaliacao']\n",
        "      modelo = input(\"Digite o nome do modelo: \")\n",
        "      escala_menor = float(input(\"Digite o valor da nota mais baixa: \"))\n",
        "      escala_maior = float(input(\"Digite o valor da nota mais alta: \"))\n",
        "      algo = realiza_treinamento(notas,modelo,escala_menor,escala_maior)\n",
        "      salva_modelo(algo)\n",
        "\n",
        "    if(continuar == 4):\n",
        "      notas = pd.read_csv('ratings.csv')\n",
        "      notas.columns = ['id_usuario','id_filme','nota_usuario_filme','dia_avaliacao']\n",
        "      algo = carrega_modelo()\n",
        "      id_usuario = int(input(\"Recomendar filmes para: \"))\n",
        "      numero_de_recomendacoes = int(input(\"Digite o número de filmes a recomendar: \"))\n",
        "      recomendacoes = apresenta_recomendacoes(id_usuario,notas,algo,filmes,numero_de_recomendacoes)\n",
        "      grava_arquivo_xml(recomendacoes,id_usuario)\n",
        "      print(recomendacoes[['id_filme','titulo']])\n",
        "      "
      ],
      "execution_count": 270,
      "outputs": []
    },
    {
      "cell_type": "code",
      "metadata": {
        "colab": {
          "base_uri": "https://localhost:8080/"
        },
        "id": "4SZTEUURY81k",
        "outputId": "e2e4519a-48e9-4ac8-a3ab-dc56dc55c9c8"
      },
      "source": [
        "menu()"
      ],
      "execution_count": 276,
      "outputs": [
        {
          "name": "stdout",
          "output_type": "stream",
          "text": [
            "0. Sair\n",
            "1. Inserir novas avaliações\n",
            "2. Verificar id de um novo usuário\n",
            "3. Realiza Treinamento\n",
            "4. Recomenda Filmes\n",
            "4\n",
            "Recomendar filmes para: 790\n",
            "Digite o número de filmes a recomendar: 5\n",
            "****O usuário com id 790 ainda não avaliou nenhum filme****\n",
            "****Serão recomendados os filmes mais populares****\n",
            "      id_filme                                             titulo\n",
            "356        412                       Age of Innocence, The (1993)\n",
            "318        360                              I Love Trouble (1994)\n",
            "296        338                                  Virtuosity (1995)\n",
            "593        735         Cemetery Man (Dellamorte Dellamore) (1994)\n",
            "2571      3439  Teenage Mutant Ninja Turtles II: The Secret of...\n",
            "0. Sair\n",
            "1. Inserir novas avaliações\n",
            "2. Verificar id de um novo usuário\n",
            "3. Realiza Treinamento\n",
            "4. Recomenda Filmes\n",
            "1\n",
            "Digite o id do usuário: 790\n",
            "Digite o id do filme: 3439\n",
            "Digite a nota do filme: 5\n",
            "0. Sair\n",
            "1. Inserir novas avaliações\n",
            "2. Verificar id de um novo usuário\n",
            "3. Realiza Treinamento\n",
            "4. Recomenda Filmes\n",
            "0\n"
          ]
        }
      ]
    },
    {
      "cell_type": "code",
      "metadata": {
        "colab": {
          "base_uri": "https://localhost:8080/",
          "height": 206
        },
        "id": "sgvQfmuJPfIx",
        "outputId": "feac1a6a-a918-43a4-8129-2769f3c3f655"
      },
      "source": [
        "notas = pd.read_csv('ratings.csv')\n",
        "notas.columns = ['id_usuario','id_filme','nota_usuario_filme','dia_avaliacao']\n",
        "notas.tail(5)"
      ],
      "execution_count": 277,
      "outputs": [
        {
          "output_type": "execute_result",
          "data": {
            "text/html": [
              "<div>\n",
              "<style scoped>\n",
              "    .dataframe tbody tr th:only-of-type {\n",
              "        vertical-align: middle;\n",
              "    }\n",
              "\n",
              "    .dataframe tbody tr th {\n",
              "        vertical-align: top;\n",
              "    }\n",
              "\n",
              "    .dataframe thead th {\n",
              "        text-align: right;\n",
              "    }\n",
              "</style>\n",
              "<table border=\"1\" class=\"dataframe\">\n",
              "  <thead>\n",
              "    <tr style=\"text-align: right;\">\n",
              "      <th></th>\n",
              "      <th>id_usuario</th>\n",
              "      <th>id_filme</th>\n",
              "      <th>nota_usuario_filme</th>\n",
              "      <th>dia_avaliacao</th>\n",
              "    </tr>\n",
              "  </thead>\n",
              "  <tbody>\n",
              "    <tr>\n",
              "      <th>100837</th>\n",
              "      <td>584</td>\n",
              "      <td>1223</td>\n",
              "      <td>5.0</td>\n",
              "      <td>NaN</td>\n",
              "    </tr>\n",
              "    <tr>\n",
              "      <th>100838</th>\n",
              "      <td>584</td>\n",
              "      <td>168252</td>\n",
              "      <td>4.3</td>\n",
              "      <td>NaN</td>\n",
              "    </tr>\n",
              "    <tr>\n",
              "      <th>100839</th>\n",
              "      <td>584</td>\n",
              "      <td>1197</td>\n",
              "      <td>2.5</td>\n",
              "      <td>NaN</td>\n",
              "    </tr>\n",
              "    <tr>\n",
              "      <th>100840</th>\n",
              "      <td>584</td>\n",
              "      <td>318</td>\n",
              "      <td>5.0</td>\n",
              "      <td>NaN</td>\n",
              "    </tr>\n",
              "    <tr>\n",
              "      <th>100841</th>\n",
              "      <td>790</td>\n",
              "      <td>3439</td>\n",
              "      <td>5.0</td>\n",
              "      <td>NaN</td>\n",
              "    </tr>\n",
              "  </tbody>\n",
              "</table>\n",
              "</div>"
            ],
            "text/plain": [
              "        id_usuario  id_filme  nota_usuario_filme  dia_avaliacao\n",
              "100837         584      1223                 5.0            NaN\n",
              "100838         584    168252                 4.3            NaN\n",
              "100839         584      1197                 2.5            NaN\n",
              "100840         584       318                 5.0            NaN\n",
              "100841         790      3439                 5.0            NaN"
            ]
          },
          "metadata": {},
          "execution_count": 277
        }
      ]
    },
    {
      "cell_type": "markdown",
      "metadata": {
        "id": "KoG8jDKMBVEH"
      },
      "source": [
        "#Verificar recomendações após novas avaliações"
      ]
    },
    {
      "cell_type": "code",
      "metadata": {
        "id": "gVJF_WTVBhwK"
      },
      "source": [
        ""
      ],
      "execution_count": null,
      "outputs": []
    },
    {
      "cell_type": "markdown",
      "metadata": {
        "id": "GCyN1aGJAmPa"
      },
      "source": [
        ""
      ]
    },
    {
      "cell_type": "markdown",
      "metadata": {
        "id": "fXT5J6qDgDpu"
      },
      "source": [
        "#Base de dados escolhida\n",
        "\n"
      ]
    }
  ]
}