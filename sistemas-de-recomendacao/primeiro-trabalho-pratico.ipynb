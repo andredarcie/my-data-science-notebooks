{
  "nbformat": 4,
  "nbformat_minor": 2,
  "metadata": {
    "colab": {
      "name": "aula_25_09_b.ipynb",
      "provenance": []
    },
    "kernelspec": {
      "name": "python3",
      "display_name": "Python 3.8.5 64-bit"
    },
    "language_info": {
      "name": "python",
      "version": "3.8.5",
      "mimetype": "text/x-python",
      "codemirror_mode": {
        "name": "ipython",
        "version": 3
      },
      "pygments_lexer": "ipython3",
      "nbconvert_exporter": "python",
      "file_extension": ".py"
    },
    "interpreter": {
      "hash": "2db524e06e9f5f4ffedc911c917cb75e12dbc923643829bf417064a77eb14d37"
    }
  },
  "cells": [
    {
      "cell_type": "markdown",
      "source": [
        "#Vericação dos filmes movielens"
      ],
      "metadata": {
        "id": "JHAbkI-CBtRo"
      }
    },
    {
      "cell_type": "code",
      "execution_count": 187,
      "source": [
        "import pandas as pd\r\n"
      ],
      "outputs": [],
      "metadata": {
        "id": "e_fY1O8I7XQD"
      }
    },
    {
      "cell_type": "code",
      "execution_count": 188,
      "source": [
        "filmes = pd.read_csv('movies.csv')"
      ],
      "outputs": [],
      "metadata": {
        "id": "8sSBfGpPPr5c"
      }
    },
    {
      "cell_type": "code",
      "execution_count": 189,
      "source": [
        "filmes.head(5)"
      ],
      "outputs": [
        {
          "output_type": "execute_result",
          "data": {
            "text/html": [
              "<div>\n",
              "<style scoped>\n",
              "    .dataframe tbody tr th:only-of-type {\n",
              "        vertical-align: middle;\n",
              "    }\n",
              "\n",
              "    .dataframe tbody tr th {\n",
              "        vertical-align: top;\n",
              "    }\n",
              "\n",
              "    .dataframe thead th {\n",
              "        text-align: right;\n",
              "    }\n",
              "</style>\n",
              "<table border=\"1\" class=\"dataframe\">\n",
              "  <thead>\n",
              "    <tr style=\"text-align: right;\">\n",
              "      <th></th>\n",
              "      <th>movieId</th>\n",
              "      <th>title</th>\n",
              "      <th>genres</th>\n",
              "    </tr>\n",
              "  </thead>\n",
              "  <tbody>\n",
              "    <tr>\n",
              "      <th>0</th>\n",
              "      <td>1</td>\n",
              "      <td>Toy Story (1995)</td>\n",
              "      <td>Adventure|Animation|Children|Comedy|Fantasy</td>\n",
              "    </tr>\n",
              "    <tr>\n",
              "      <th>1</th>\n",
              "      <td>2</td>\n",
              "      <td>Jumanji (1995)</td>\n",
              "      <td>Adventure|Children|Fantasy</td>\n",
              "    </tr>\n",
              "    <tr>\n",
              "      <th>2</th>\n",
              "      <td>3</td>\n",
              "      <td>Grumpier Old Men (1995)</td>\n",
              "      <td>Comedy|Romance</td>\n",
              "    </tr>\n",
              "    <tr>\n",
              "      <th>3</th>\n",
              "      <td>4</td>\n",
              "      <td>Waiting to Exhale (1995)</td>\n",
              "      <td>Comedy|Drama|Romance</td>\n",
              "    </tr>\n",
              "    <tr>\n",
              "      <th>4</th>\n",
              "      <td>5</td>\n",
              "      <td>Father of the Bride Part II (1995)</td>\n",
              "      <td>Comedy</td>\n",
              "    </tr>\n",
              "  </tbody>\n",
              "</table>\n",
              "</div>"
            ],
            "text/plain": [
              "   movieId                               title  \\\n",
              "0        1                    Toy Story (1995)   \n",
              "1        2                      Jumanji (1995)   \n",
              "2        3             Grumpier Old Men (1995)   \n",
              "3        4            Waiting to Exhale (1995)   \n",
              "4        5  Father of the Bride Part II (1995)   \n",
              "\n",
              "                                        genres  \n",
              "0  Adventure|Animation|Children|Comedy|Fantasy  \n",
              "1                   Adventure|Children|Fantasy  \n",
              "2                               Comedy|Romance  \n",
              "3                         Comedy|Drama|Romance  \n",
              "4                                       Comedy  "
            ]
          },
          "metadata": {},
          "execution_count": 189
        }
      ],
      "metadata": {
        "colab": {
          "base_uri": "https://localhost:8080/",
          "height": 206
        },
        "id": "0GEJh9goPv0w",
        "outputId": "db3fdbb6-8e6a-4c90-ab38-5383691e6a2e"
      }
    },
    {
      "cell_type": "markdown",
      "source": [
        "#Alterando os nomes das colunas"
      ],
      "metadata": {
        "id": "qpuqK3qRRCxt"
      }
    },
    {
      "cell_type": "code",
      "execution_count": 190,
      "source": [
        "filmes.columns = ['filme_id','titulo','generos']\r\n",
        "filmes.head(1)"
      ],
      "outputs": [
        {
          "output_type": "execute_result",
          "data": {
            "text/html": [
              "<div>\n",
              "<style scoped>\n",
              "    .dataframe tbody tr th:only-of-type {\n",
              "        vertical-align: middle;\n",
              "    }\n",
              "\n",
              "    .dataframe tbody tr th {\n",
              "        vertical-align: top;\n",
              "    }\n",
              "\n",
              "    .dataframe thead th {\n",
              "        text-align: right;\n",
              "    }\n",
              "</style>\n",
              "<table border=\"1\" class=\"dataframe\">\n",
              "  <thead>\n",
              "    <tr style=\"text-align: right;\">\n",
              "      <th></th>\n",
              "      <th>filme_id</th>\n",
              "      <th>titulo</th>\n",
              "      <th>generos</th>\n",
              "    </tr>\n",
              "  </thead>\n",
              "  <tbody>\n",
              "    <tr>\n",
              "      <th>0</th>\n",
              "      <td>1</td>\n",
              "      <td>Toy Story (1995)</td>\n",
              "      <td>Adventure|Animation|Children|Comedy|Fantasy</td>\n",
              "    </tr>\n",
              "  </tbody>\n",
              "</table>\n",
              "</div>"
            ],
            "text/plain": [
              "   filme_id            titulo                                      generos\n",
              "0         1  Toy Story (1995)  Adventure|Animation|Children|Comedy|Fantasy"
            ]
          },
          "metadata": {},
          "execution_count": 190
        }
      ],
      "metadata": {
        "colab": {
          "base_uri": "https://localhost:8080/",
          "height": 81
        },
        "id": "NlJpDh6qQkNb",
        "outputId": "04e5b71b-6355-4ee9-a618-dde46a6f00a6"
      }
    },
    {
      "cell_type": "markdown",
      "source": [
        "#Alteração no index do dataframe! Por que?\n",
        "Para ficar mais fácil de localizar os registros"
      ],
      "metadata": {
        "id": "pKx2-t6ORIHh"
      }
    },
    {
      "cell_type": "code",
      "execution_count": 191,
      "source": [
        "filmes = filmes.set_index('filme_id')\r\n",
        "filmes.head(1)"
      ],
      "outputs": [
        {
          "output_type": "execute_result",
          "data": {
            "text/html": [
              "<div>\n",
              "<style scoped>\n",
              "    .dataframe tbody tr th:only-of-type {\n",
              "        vertical-align: middle;\n",
              "    }\n",
              "\n",
              "    .dataframe tbody tr th {\n",
              "        vertical-align: top;\n",
              "    }\n",
              "\n",
              "    .dataframe thead th {\n",
              "        text-align: right;\n",
              "    }\n",
              "</style>\n",
              "<table border=\"1\" class=\"dataframe\">\n",
              "  <thead>\n",
              "    <tr style=\"text-align: right;\">\n",
              "      <th></th>\n",
              "      <th>titulo</th>\n",
              "      <th>generos</th>\n",
              "    </tr>\n",
              "    <tr>\n",
              "      <th>filme_id</th>\n",
              "      <th></th>\n",
              "      <th></th>\n",
              "    </tr>\n",
              "  </thead>\n",
              "  <tbody>\n",
              "    <tr>\n",
              "      <th>1</th>\n",
              "      <td>Toy Story (1995)</td>\n",
              "      <td>Adventure|Animation|Children|Comedy|Fantasy</td>\n",
              "    </tr>\n",
              "  </tbody>\n",
              "</table>\n",
              "</div>"
            ],
            "text/plain": [
              "                    titulo                                      generos\n",
              "filme_id                                                               \n",
              "1         Toy Story (1995)  Adventure|Animation|Children|Comedy|Fantasy"
            ]
          },
          "metadata": {},
          "execution_count": 191
        }
      ],
      "metadata": {
        "colab": {
          "base_uri": "https://localhost:8080/",
          "height": 112
        },
        "id": "1T4zHV6HQ3u0",
        "outputId": "58e58b05-af3a-4405-95d4-88c00c35ac2d"
      }
    },
    {
      "cell_type": "code",
      "execution_count": 192,
      "source": [
        "filmes.loc[5]"
      ],
      "outputs": [
        {
          "output_type": "execute_result",
          "data": {
            "text/plain": [
              "titulo     Father of the Bride Part II (1995)\n",
              "generos                                Comedy\n",
              "Name: 5, dtype: object"
            ]
          },
          "metadata": {},
          "execution_count": 192
        }
      ],
      "metadata": {
        "colab": {
          "base_uri": "https://localhost:8080/"
        },
        "id": "gtQ0suP-RR3x",
        "outputId": "f2b3d43d-4ce2-4bb8-f28a-242163a3d064"
      }
    },
    {
      "cell_type": "code",
      "execution_count": 193,
      "source": [
        "notas = pd.read_csv('ratings.csv')\r\n",
        "notas.head(5)"
      ],
      "outputs": [
        {
          "output_type": "execute_result",
          "data": {
            "text/html": [
              "<div>\n",
              "<style scoped>\n",
              "    .dataframe tbody tr th:only-of-type {\n",
              "        vertical-align: middle;\n",
              "    }\n",
              "\n",
              "    .dataframe tbody tr th {\n",
              "        vertical-align: top;\n",
              "    }\n",
              "\n",
              "    .dataframe thead th {\n",
              "        text-align: right;\n",
              "    }\n",
              "</style>\n",
              "<table border=\"1\" class=\"dataframe\">\n",
              "  <thead>\n",
              "    <tr style=\"text-align: right;\">\n",
              "      <th></th>\n",
              "      <th>userId</th>\n",
              "      <th>movieId</th>\n",
              "      <th>rating</th>\n",
              "      <th>timestamp</th>\n",
              "    </tr>\n",
              "  </thead>\n",
              "  <tbody>\n",
              "    <tr>\n",
              "      <th>0</th>\n",
              "      <td>1</td>\n",
              "      <td>1</td>\n",
              "      <td>4.0</td>\n",
              "      <td>964982703</td>\n",
              "    </tr>\n",
              "    <tr>\n",
              "      <th>1</th>\n",
              "      <td>1</td>\n",
              "      <td>3</td>\n",
              "      <td>4.0</td>\n",
              "      <td>964981247</td>\n",
              "    </tr>\n",
              "    <tr>\n",
              "      <th>2</th>\n",
              "      <td>1</td>\n",
              "      <td>6</td>\n",
              "      <td>4.0</td>\n",
              "      <td>964982224</td>\n",
              "    </tr>\n",
              "    <tr>\n",
              "      <th>3</th>\n",
              "      <td>1</td>\n",
              "      <td>47</td>\n",
              "      <td>5.0</td>\n",
              "      <td>964983815</td>\n",
              "    </tr>\n",
              "    <tr>\n",
              "      <th>4</th>\n",
              "      <td>1</td>\n",
              "      <td>50</td>\n",
              "      <td>5.0</td>\n",
              "      <td>964982931</td>\n",
              "    </tr>\n",
              "  </tbody>\n",
              "</table>\n",
              "</div>"
            ],
            "text/plain": [
              "   userId  movieId  rating  timestamp\n",
              "0       1        1     4.0  964982703\n",
              "1       1        3     4.0  964981247\n",
              "2       1        6     4.0  964982224\n",
              "3       1       47     5.0  964983815\n",
              "4       1       50     5.0  964982931"
            ]
          },
          "metadata": {},
          "execution_count": 193
        }
      ],
      "metadata": {
        "colab": {
          "base_uri": "https://localhost:8080/",
          "height": 206
        },
        "id": "v2q7v9_GP2Sq",
        "outputId": "91dbd6bd-5df3-486a-cdaf-6a5f04d2e323"
      }
    },
    {
      "cell_type": "markdown",
      "source": [
        "#Entrengando recomendação para um usuário desconhecido\n",
        "Como?\n",
        "Verificando a popularidade"
      ],
      "metadata": {
        "id": "U-ap-h_pRboh"
      }
    },
    {
      "cell_type": "code",
      "execution_count": 194,
      "source": [
        "notas.describe()\r\n"
      ],
      "outputs": [
        {
          "output_type": "execute_result",
          "data": {
            "text/html": [
              "<div>\n",
              "<style scoped>\n",
              "    .dataframe tbody tr th:only-of-type {\n",
              "        vertical-align: middle;\n",
              "    }\n",
              "\n",
              "    .dataframe tbody tr th {\n",
              "        vertical-align: top;\n",
              "    }\n",
              "\n",
              "    .dataframe thead th {\n",
              "        text-align: right;\n",
              "    }\n",
              "</style>\n",
              "<table border=\"1\" class=\"dataframe\">\n",
              "  <thead>\n",
              "    <tr style=\"text-align: right;\">\n",
              "      <th></th>\n",
              "      <th>userId</th>\n",
              "      <th>movieId</th>\n",
              "      <th>rating</th>\n",
              "      <th>timestamp</th>\n",
              "    </tr>\n",
              "  </thead>\n",
              "  <tbody>\n",
              "    <tr>\n",
              "      <th>count</th>\n",
              "      <td>100836.000000</td>\n",
              "      <td>100836.000000</td>\n",
              "      <td>100836.000000</td>\n",
              "      <td>1.008360e+05</td>\n",
              "    </tr>\n",
              "    <tr>\n",
              "      <th>mean</th>\n",
              "      <td>326.127564</td>\n",
              "      <td>19435.295718</td>\n",
              "      <td>3.501557</td>\n",
              "      <td>1.205946e+09</td>\n",
              "    </tr>\n",
              "    <tr>\n",
              "      <th>std</th>\n",
              "      <td>182.618491</td>\n",
              "      <td>35530.987199</td>\n",
              "      <td>1.042529</td>\n",
              "      <td>2.162610e+08</td>\n",
              "    </tr>\n",
              "    <tr>\n",
              "      <th>min</th>\n",
              "      <td>1.000000</td>\n",
              "      <td>1.000000</td>\n",
              "      <td>0.500000</td>\n",
              "      <td>8.281246e+08</td>\n",
              "    </tr>\n",
              "    <tr>\n",
              "      <th>25%</th>\n",
              "      <td>177.000000</td>\n",
              "      <td>1199.000000</td>\n",
              "      <td>3.000000</td>\n",
              "      <td>1.019124e+09</td>\n",
              "    </tr>\n",
              "    <tr>\n",
              "      <th>50%</th>\n",
              "      <td>325.000000</td>\n",
              "      <td>2991.000000</td>\n",
              "      <td>3.500000</td>\n",
              "      <td>1.186087e+09</td>\n",
              "    </tr>\n",
              "    <tr>\n",
              "      <th>75%</th>\n",
              "      <td>477.000000</td>\n",
              "      <td>8122.000000</td>\n",
              "      <td>4.000000</td>\n",
              "      <td>1.435994e+09</td>\n",
              "    </tr>\n",
              "    <tr>\n",
              "      <th>max</th>\n",
              "      <td>610.000000</td>\n",
              "      <td>193609.000000</td>\n",
              "      <td>5.000000</td>\n",
              "      <td>1.537799e+09</td>\n",
              "    </tr>\n",
              "  </tbody>\n",
              "</table>\n",
              "</div>"
            ],
            "text/plain": [
              "              userId        movieId         rating     timestamp\n",
              "count  100836.000000  100836.000000  100836.000000  1.008360e+05\n",
              "mean      326.127564   19435.295718       3.501557  1.205946e+09\n",
              "std       182.618491   35530.987199       1.042529  2.162610e+08\n",
              "min         1.000000       1.000000       0.500000  8.281246e+08\n",
              "25%       177.000000    1199.000000       3.000000  1.019124e+09\n",
              "50%       325.000000    2991.000000       3.500000  1.186087e+09\n",
              "75%       477.000000    8122.000000       4.000000  1.435994e+09\n",
              "max       610.000000  193609.000000       5.000000  1.537799e+09"
            ]
          },
          "metadata": {},
          "execution_count": 194
        }
      ],
      "metadata": {
        "colab": {
          "base_uri": "https://localhost:8080/",
          "height": 300
        },
        "id": "jP_dcJ92Ru-w",
        "outputId": "ca1acf0e-7dc2-438f-e628-08428be391d4"
      }
    },
    {
      "cell_type": "code",
      "execution_count": 195,
      "source": [
        "#alteração nos nomes das colunas\r\n",
        "notas.columns = ['usuario_id','filme_id','notas','hora_da_avaliacao']\r\n",
        "notas.head(1)"
      ],
      "outputs": [
        {
          "output_type": "execute_result",
          "data": {
            "text/html": [
              "<div>\n",
              "<style scoped>\n",
              "    .dataframe tbody tr th:only-of-type {\n",
              "        vertical-align: middle;\n",
              "    }\n",
              "\n",
              "    .dataframe tbody tr th {\n",
              "        vertical-align: top;\n",
              "    }\n",
              "\n",
              "    .dataframe thead th {\n",
              "        text-align: right;\n",
              "    }\n",
              "</style>\n",
              "<table border=\"1\" class=\"dataframe\">\n",
              "  <thead>\n",
              "    <tr style=\"text-align: right;\">\n",
              "      <th></th>\n",
              "      <th>usuario_id</th>\n",
              "      <th>filme_id</th>\n",
              "      <th>notas</th>\n",
              "      <th>hora_da_avaliacao</th>\n",
              "    </tr>\n",
              "  </thead>\n",
              "  <tbody>\n",
              "    <tr>\n",
              "      <th>0</th>\n",
              "      <td>1</td>\n",
              "      <td>1</td>\n",
              "      <td>4.0</td>\n",
              "      <td>964982703</td>\n",
              "    </tr>\n",
              "  </tbody>\n",
              "</table>\n",
              "</div>"
            ],
            "text/plain": [
              "   usuario_id  filme_id  notas  hora_da_avaliacao\n",
              "0           1         1    4.0          964982703"
            ]
          },
          "metadata": {},
          "execution_count": 195
        }
      ],
      "metadata": {
        "colab": {
          "base_uri": "https://localhost:8080/",
          "height": 81
        },
        "id": "LRBGyK4ASFZH",
        "outputId": "20158cb0-8171-49bc-8df6-09e35021da97"
      }
    },
    {
      "cell_type": "code",
      "execution_count": 196,
      "source": [
        "#verificando os mais votados - não quer dizer que são os mais bem avaliados\r\n",
        "notas['filme_id'].value_counts()"
      ],
      "outputs": [
        {
          "output_type": "execute_result",
          "data": {
            "text/plain": [
              "356       329\n",
              "318       317\n",
              "296       307\n",
              "593       279\n",
              "2571      278\n",
              "         ... \n",
              "152085      1\n",
              "164367      1\n",
              "98799       1\n",
              "4573        1\n",
              "6141        1\n",
              "Name: filme_id, Length: 9724, dtype: int64"
            ]
          },
          "metadata": {},
          "execution_count": 196
        }
      ],
      "metadata": {
        "colab": {
          "base_uri": "https://localhost:8080/"
        },
        "id": "xKfVxxFPSiQ-",
        "outputId": "24aadf01-c0a9-4ae1-f849-3b4bd7fdd1a6"
      }
    },
    {
      "cell_type": "code",
      "execution_count": 197,
      "source": [
        "filmes.loc[356]"
      ],
      "outputs": [
        {
          "output_type": "execute_result",
          "data": {
            "text/plain": [
              "titulo          Forrest Gump (1994)\n",
              "generos    Comedy|Drama|Romance|War\n",
              "Name: 356, dtype: object"
            ]
          },
          "metadata": {},
          "execution_count": 197
        }
      ],
      "metadata": {
        "colab": {
          "base_uri": "https://localhost:8080/"
        },
        "id": "yCwRTYS_S_Hz",
        "outputId": "ea3d1dc2-2284-427c-89b9-3ad30f3fe331"
      }
    },
    {
      "cell_type": "markdown",
      "source": [
        "#Criando uma nova coluna no df de filmes para mostrar o total de votos por filme"
      ],
      "metadata": {
        "id": "eXi2KEuaTzAH"
      }
    },
    {
      "cell_type": "code",
      "execution_count": 198,
      "source": [
        "total_de_votos = notas['filme_id'].value_counts()\r\n",
        "total_de_votos"
      ],
      "outputs": [
        {
          "output_type": "execute_result",
          "data": {
            "text/plain": [
              "356       329\n",
              "318       317\n",
              "296       307\n",
              "593       279\n",
              "2571      278\n",
              "         ... \n",
              "152085      1\n",
              "164367      1\n",
              "98799       1\n",
              "4573        1\n",
              "6141        1\n",
              "Name: filme_id, Length: 9724, dtype: int64"
            ]
          },
          "metadata": {},
          "execution_count": 198
        }
      ],
      "metadata": {
        "colab": {
          "base_uri": "https://localhost:8080/"
        },
        "id": "xkrMr3paTyR1",
        "outputId": "f8aca115-4750-4ad1-c85c-61bf1bef308e"
      }
    },
    {
      "cell_type": "code",
      "execution_count": 199,
      "source": [
        "#colocando o total de votos em uma nova coluna do dataframe filmes\r\n",
        "filmes['total_de_votos'] = total_de_votos"
      ],
      "outputs": [],
      "metadata": {
        "id": "6R6w0xfrUMPX"
      }
    },
    {
      "cell_type": "code",
      "execution_count": 200,
      "source": [
        "filmes.head(10)"
      ],
      "outputs": [
        {
          "output_type": "execute_result",
          "data": {
            "text/html": [
              "<div>\n",
              "<style scoped>\n",
              "    .dataframe tbody tr th:only-of-type {\n",
              "        vertical-align: middle;\n",
              "    }\n",
              "\n",
              "    .dataframe tbody tr th {\n",
              "        vertical-align: top;\n",
              "    }\n",
              "\n",
              "    .dataframe thead th {\n",
              "        text-align: right;\n",
              "    }\n",
              "</style>\n",
              "<table border=\"1\" class=\"dataframe\">\n",
              "  <thead>\n",
              "    <tr style=\"text-align: right;\">\n",
              "      <th></th>\n",
              "      <th>titulo</th>\n",
              "      <th>generos</th>\n",
              "      <th>total_de_votos</th>\n",
              "    </tr>\n",
              "    <tr>\n",
              "      <th>filme_id</th>\n",
              "      <th></th>\n",
              "      <th></th>\n",
              "      <th></th>\n",
              "    </tr>\n",
              "  </thead>\n",
              "  <tbody>\n",
              "    <tr>\n",
              "      <th>1</th>\n",
              "      <td>Toy Story (1995)</td>\n",
              "      <td>Adventure|Animation|Children|Comedy|Fantasy</td>\n",
              "      <td>215.0</td>\n",
              "    </tr>\n",
              "    <tr>\n",
              "      <th>2</th>\n",
              "      <td>Jumanji (1995)</td>\n",
              "      <td>Adventure|Children|Fantasy</td>\n",
              "      <td>110.0</td>\n",
              "    </tr>\n",
              "    <tr>\n",
              "      <th>3</th>\n",
              "      <td>Grumpier Old Men (1995)</td>\n",
              "      <td>Comedy|Romance</td>\n",
              "      <td>52.0</td>\n",
              "    </tr>\n",
              "    <tr>\n",
              "      <th>4</th>\n",
              "      <td>Waiting to Exhale (1995)</td>\n",
              "      <td>Comedy|Drama|Romance</td>\n",
              "      <td>7.0</td>\n",
              "    </tr>\n",
              "    <tr>\n",
              "      <th>5</th>\n",
              "      <td>Father of the Bride Part II (1995)</td>\n",
              "      <td>Comedy</td>\n",
              "      <td>49.0</td>\n",
              "    </tr>\n",
              "    <tr>\n",
              "      <th>6</th>\n",
              "      <td>Heat (1995)</td>\n",
              "      <td>Action|Crime|Thriller</td>\n",
              "      <td>102.0</td>\n",
              "    </tr>\n",
              "    <tr>\n",
              "      <th>7</th>\n",
              "      <td>Sabrina (1995)</td>\n",
              "      <td>Comedy|Romance</td>\n",
              "      <td>54.0</td>\n",
              "    </tr>\n",
              "    <tr>\n",
              "      <th>8</th>\n",
              "      <td>Tom and Huck (1995)</td>\n",
              "      <td>Adventure|Children</td>\n",
              "      <td>8.0</td>\n",
              "    </tr>\n",
              "    <tr>\n",
              "      <th>9</th>\n",
              "      <td>Sudden Death (1995)</td>\n",
              "      <td>Action</td>\n",
              "      <td>16.0</td>\n",
              "    </tr>\n",
              "    <tr>\n",
              "      <th>10</th>\n",
              "      <td>GoldenEye (1995)</td>\n",
              "      <td>Action|Adventure|Thriller</td>\n",
              "      <td>132.0</td>\n",
              "    </tr>\n",
              "  </tbody>\n",
              "</table>\n",
              "</div>"
            ],
            "text/plain": [
              "                                      titulo  \\\n",
              "filme_id                                       \n",
              "1                           Toy Story (1995)   \n",
              "2                             Jumanji (1995)   \n",
              "3                    Grumpier Old Men (1995)   \n",
              "4                   Waiting to Exhale (1995)   \n",
              "5         Father of the Bride Part II (1995)   \n",
              "6                                Heat (1995)   \n",
              "7                             Sabrina (1995)   \n",
              "8                        Tom and Huck (1995)   \n",
              "9                        Sudden Death (1995)   \n",
              "10                          GoldenEye (1995)   \n",
              "\n",
              "                                              generos  total_de_votos  \n",
              "filme_id                                                               \n",
              "1         Adventure|Animation|Children|Comedy|Fantasy           215.0  \n",
              "2                          Adventure|Children|Fantasy           110.0  \n",
              "3                                      Comedy|Romance            52.0  \n",
              "4                                Comedy|Drama|Romance             7.0  \n",
              "5                                              Comedy            49.0  \n",
              "6                               Action|Crime|Thriller           102.0  \n",
              "7                                      Comedy|Romance            54.0  \n",
              "8                                  Adventure|Children             8.0  \n",
              "9                                              Action            16.0  \n",
              "10                          Action|Adventure|Thriller           132.0  "
            ]
          },
          "metadata": {},
          "execution_count": 200
        }
      ],
      "metadata": {
        "colab": {
          "base_uri": "https://localhost:8080/",
          "height": 394
        },
        "id": "y89hgiXZUUEA",
        "outputId": "8a57f00f-7f47-487e-cde8-0d04caea2efa"
      }
    },
    {
      "cell_type": "code",
      "execution_count": 201,
      "source": [
        "filmes.loc[356]"
      ],
      "outputs": [
        {
          "output_type": "execute_result",
          "data": {
            "text/plain": [
              "titulo                 Forrest Gump (1994)\n",
              "generos           Comedy|Drama|Romance|War\n",
              "total_de_votos                       329.0\n",
              "Name: 356, dtype: object"
            ]
          },
          "metadata": {},
          "execution_count": 201
        }
      ],
      "metadata": {
        "colab": {
          "base_uri": "https://localhost:8080/"
        },
        "id": "L7sSa_K6UnrN",
        "outputId": "84962a5e-3bc8-4532-be99-0f314c98b8a1"
      }
    },
    {
      "cell_type": "code",
      "execution_count": 202,
      "source": [
        "filmes.sort_values('total_de_votos',ascending=False).head(5)"
      ],
      "outputs": [
        {
          "output_type": "execute_result",
          "data": {
            "text/html": [
              "<div>\n",
              "<style scoped>\n",
              "    .dataframe tbody tr th:only-of-type {\n",
              "        vertical-align: middle;\n",
              "    }\n",
              "\n",
              "    .dataframe tbody tr th {\n",
              "        vertical-align: top;\n",
              "    }\n",
              "\n",
              "    .dataframe thead th {\n",
              "        text-align: right;\n",
              "    }\n",
              "</style>\n",
              "<table border=\"1\" class=\"dataframe\">\n",
              "  <thead>\n",
              "    <tr style=\"text-align: right;\">\n",
              "      <th></th>\n",
              "      <th>titulo</th>\n",
              "      <th>generos</th>\n",
              "      <th>total_de_votos</th>\n",
              "    </tr>\n",
              "    <tr>\n",
              "      <th>filme_id</th>\n",
              "      <th></th>\n",
              "      <th></th>\n",
              "      <th></th>\n",
              "    </tr>\n",
              "  </thead>\n",
              "  <tbody>\n",
              "    <tr>\n",
              "      <th>356</th>\n",
              "      <td>Forrest Gump (1994)</td>\n",
              "      <td>Comedy|Drama|Romance|War</td>\n",
              "      <td>329.0</td>\n",
              "    </tr>\n",
              "    <tr>\n",
              "      <th>318</th>\n",
              "      <td>Shawshank Redemption, The (1994)</td>\n",
              "      <td>Crime|Drama</td>\n",
              "      <td>317.0</td>\n",
              "    </tr>\n",
              "    <tr>\n",
              "      <th>296</th>\n",
              "      <td>Pulp Fiction (1994)</td>\n",
              "      <td>Comedy|Crime|Drama|Thriller</td>\n",
              "      <td>307.0</td>\n",
              "    </tr>\n",
              "    <tr>\n",
              "      <th>593</th>\n",
              "      <td>Silence of the Lambs, The (1991)</td>\n",
              "      <td>Crime|Horror|Thriller</td>\n",
              "      <td>279.0</td>\n",
              "    </tr>\n",
              "    <tr>\n",
              "      <th>2571</th>\n",
              "      <td>Matrix, The (1999)</td>\n",
              "      <td>Action|Sci-Fi|Thriller</td>\n",
              "      <td>278.0</td>\n",
              "    </tr>\n",
              "  </tbody>\n",
              "</table>\n",
              "</div>"
            ],
            "text/plain": [
              "                                    titulo                      generos  \\\n",
              "filme_id                                                                  \n",
              "356                    Forrest Gump (1994)     Comedy|Drama|Romance|War   \n",
              "318       Shawshank Redemption, The (1994)                  Crime|Drama   \n",
              "296                    Pulp Fiction (1994)  Comedy|Crime|Drama|Thriller   \n",
              "593       Silence of the Lambs, The (1991)        Crime|Horror|Thriller   \n",
              "2571                    Matrix, The (1999)       Action|Sci-Fi|Thriller   \n",
              "\n",
              "          total_de_votos  \n",
              "filme_id                  \n",
              "356                329.0  \n",
              "318                317.0  \n",
              "296                307.0  \n",
              "593                279.0  \n",
              "2571               278.0  "
            ]
          },
          "metadata": {},
          "execution_count": 202
        }
      ],
      "metadata": {
        "colab": {
          "base_uri": "https://localhost:8080/",
          "height": 237
        },
        "id": "gfGNXrSsUycp",
        "outputId": "e4bef0ca-65f1-4e51-fc18-a05be5446e73"
      }
    },
    {
      "cell_type": "code",
      "execution_count": 203,
      "source": [
        "notas.tail(5)"
      ],
      "outputs": [
        {
          "output_type": "execute_result",
          "data": {
            "text/html": [
              "<div>\n",
              "<style scoped>\n",
              "    .dataframe tbody tr th:only-of-type {\n",
              "        vertical-align: middle;\n",
              "    }\n",
              "\n",
              "    .dataframe tbody tr th {\n",
              "        vertical-align: top;\n",
              "    }\n",
              "\n",
              "    .dataframe thead th {\n",
              "        text-align: right;\n",
              "    }\n",
              "</style>\n",
              "<table border=\"1\" class=\"dataframe\">\n",
              "  <thead>\n",
              "    <tr style=\"text-align: right;\">\n",
              "      <th></th>\n",
              "      <th>usuario_id</th>\n",
              "      <th>filme_id</th>\n",
              "      <th>notas</th>\n",
              "      <th>hora_da_avaliacao</th>\n",
              "    </tr>\n",
              "  </thead>\n",
              "  <tbody>\n",
              "    <tr>\n",
              "      <th>100831</th>\n",
              "      <td>610</td>\n",
              "      <td>166534</td>\n",
              "      <td>4.0</td>\n",
              "      <td>1493848402</td>\n",
              "    </tr>\n",
              "    <tr>\n",
              "      <th>100832</th>\n",
              "      <td>610</td>\n",
              "      <td>168248</td>\n",
              "      <td>5.0</td>\n",
              "      <td>1493850091</td>\n",
              "    </tr>\n",
              "    <tr>\n",
              "      <th>100833</th>\n",
              "      <td>610</td>\n",
              "      <td>168250</td>\n",
              "      <td>5.0</td>\n",
              "      <td>1494273047</td>\n",
              "    </tr>\n",
              "    <tr>\n",
              "      <th>100834</th>\n",
              "      <td>610</td>\n",
              "      <td>168252</td>\n",
              "      <td>5.0</td>\n",
              "      <td>1493846352</td>\n",
              "    </tr>\n",
              "    <tr>\n",
              "      <th>100835</th>\n",
              "      <td>610</td>\n",
              "      <td>170875</td>\n",
              "      <td>3.0</td>\n",
              "      <td>1493846415</td>\n",
              "    </tr>\n",
              "  </tbody>\n",
              "</table>\n",
              "</div>"
            ],
            "text/plain": [
              "        usuario_id  filme_id  notas  hora_da_avaliacao\n",
              "100831         610    166534    4.0         1493848402\n",
              "100832         610    168248    5.0         1493850091\n",
              "100833         610    168250    5.0         1494273047\n",
              "100834         610    168252    5.0         1493846352\n",
              "100835         610    170875    3.0         1493846415"
            ]
          },
          "metadata": {},
          "execution_count": 203
        }
      ],
      "metadata": {
        "colab": {
          "base_uri": "https://localhost:8080/",
          "height": 206
        },
        "id": "FK0Ob_bxV0hf",
        "outputId": "7451642d-801e-41e0-e1a6-a960e8eff150"
      }
    },
    {
      "cell_type": "code",
      "execution_count": 204,
      "source": [
        "#agrupar os filmes do dataframe notas por filme_id\r\n",
        "notas.groupby('filme_id').mean()['notas']"
      ],
      "outputs": [
        {
          "output_type": "execute_result",
          "data": {
            "text/plain": [
              "filme_id\n",
              "1         3.920930\n",
              "2         3.431818\n",
              "3         3.259615\n",
              "4         2.357143\n",
              "5         3.071429\n",
              "            ...   \n",
              "193581    4.000000\n",
              "193583    3.500000\n",
              "193585    3.500000\n",
              "193587    3.500000\n",
              "193609    4.000000\n",
              "Name: notas, Length: 9724, dtype: float64"
            ]
          },
          "metadata": {},
          "execution_count": 204
        }
      ],
      "metadata": {
        "colab": {
          "base_uri": "https://localhost:8080/"
        },
        "id": "HSuP5S4EWW5_",
        "outputId": "a6ac73e1-052c-40d8-8301-947d8edd2d35"
      }
    },
    {
      "cell_type": "code",
      "execution_count": 205,
      "source": [
        "filmes.head(5)"
      ],
      "outputs": [
        {
          "output_type": "execute_result",
          "data": {
            "text/html": [
              "<div>\n",
              "<style scoped>\n",
              "    .dataframe tbody tr th:only-of-type {\n",
              "        vertical-align: middle;\n",
              "    }\n",
              "\n",
              "    .dataframe tbody tr th {\n",
              "        vertical-align: top;\n",
              "    }\n",
              "\n",
              "    .dataframe thead th {\n",
              "        text-align: right;\n",
              "    }\n",
              "</style>\n",
              "<table border=\"1\" class=\"dataframe\">\n",
              "  <thead>\n",
              "    <tr style=\"text-align: right;\">\n",
              "      <th></th>\n",
              "      <th>titulo</th>\n",
              "      <th>generos</th>\n",
              "      <th>total_de_votos</th>\n",
              "    </tr>\n",
              "    <tr>\n",
              "      <th>filme_id</th>\n",
              "      <th></th>\n",
              "      <th></th>\n",
              "      <th></th>\n",
              "    </tr>\n",
              "  </thead>\n",
              "  <tbody>\n",
              "    <tr>\n",
              "      <th>1</th>\n",
              "      <td>Toy Story (1995)</td>\n",
              "      <td>Adventure|Animation|Children|Comedy|Fantasy</td>\n",
              "      <td>215.0</td>\n",
              "    </tr>\n",
              "    <tr>\n",
              "      <th>2</th>\n",
              "      <td>Jumanji (1995)</td>\n",
              "      <td>Adventure|Children|Fantasy</td>\n",
              "      <td>110.0</td>\n",
              "    </tr>\n",
              "    <tr>\n",
              "      <th>3</th>\n",
              "      <td>Grumpier Old Men (1995)</td>\n",
              "      <td>Comedy|Romance</td>\n",
              "      <td>52.0</td>\n",
              "    </tr>\n",
              "    <tr>\n",
              "      <th>4</th>\n",
              "      <td>Waiting to Exhale (1995)</td>\n",
              "      <td>Comedy|Drama|Romance</td>\n",
              "      <td>7.0</td>\n",
              "    </tr>\n",
              "    <tr>\n",
              "      <th>5</th>\n",
              "      <td>Father of the Bride Part II (1995)</td>\n",
              "      <td>Comedy</td>\n",
              "      <td>49.0</td>\n",
              "    </tr>\n",
              "  </tbody>\n",
              "</table>\n",
              "</div>"
            ],
            "text/plain": [
              "                                      titulo  \\\n",
              "filme_id                                       \n",
              "1                           Toy Story (1995)   \n",
              "2                             Jumanji (1995)   \n",
              "3                    Grumpier Old Men (1995)   \n",
              "4                   Waiting to Exhale (1995)   \n",
              "5         Father of the Bride Part II (1995)   \n",
              "\n",
              "                                              generos  total_de_votos  \n",
              "filme_id                                                               \n",
              "1         Adventure|Animation|Children|Comedy|Fantasy           215.0  \n",
              "2                          Adventure|Children|Fantasy           110.0  \n",
              "3                                      Comedy|Romance            52.0  \n",
              "4                                Comedy|Drama|Romance             7.0  \n",
              "5                                              Comedy            49.0  "
            ]
          },
          "metadata": {},
          "execution_count": 205
        }
      ],
      "metadata": {
        "colab": {
          "base_uri": "https://localhost:8080/",
          "height": 237
        },
        "id": "PCbfGxPBW9JB",
        "outputId": "0ba38cab-7292-45a9-b6e5-0c0672e9bab1"
      }
    },
    {
      "cell_type": "code",
      "execution_count": 206,
      "source": [
        "notas_medias = notas.groupby('filme_id').mean()['notas']"
      ],
      "outputs": [],
      "metadata": {
        "id": "rBNmI6uLXH7s"
      }
    },
    {
      "cell_type": "code",
      "execution_count": 207,
      "source": [
        "#podemos criar mais uma coluna no dataframe filmes com as notas médias\r\n",
        "filmes['notas_medias'] = notas_medias\r\n",
        "filmes.head(5)"
      ],
      "outputs": [
        {
          "output_type": "execute_result",
          "data": {
            "text/html": [
              "<div>\n",
              "<style scoped>\n",
              "    .dataframe tbody tr th:only-of-type {\n",
              "        vertical-align: middle;\n",
              "    }\n",
              "\n",
              "    .dataframe tbody tr th {\n",
              "        vertical-align: top;\n",
              "    }\n",
              "\n",
              "    .dataframe thead th {\n",
              "        text-align: right;\n",
              "    }\n",
              "</style>\n",
              "<table border=\"1\" class=\"dataframe\">\n",
              "  <thead>\n",
              "    <tr style=\"text-align: right;\">\n",
              "      <th></th>\n",
              "      <th>titulo</th>\n",
              "      <th>generos</th>\n",
              "      <th>total_de_votos</th>\n",
              "      <th>notas_medias</th>\n",
              "    </tr>\n",
              "    <tr>\n",
              "      <th>filme_id</th>\n",
              "      <th></th>\n",
              "      <th></th>\n",
              "      <th></th>\n",
              "      <th></th>\n",
              "    </tr>\n",
              "  </thead>\n",
              "  <tbody>\n",
              "    <tr>\n",
              "      <th>1</th>\n",
              "      <td>Toy Story (1995)</td>\n",
              "      <td>Adventure|Animation|Children|Comedy|Fantasy</td>\n",
              "      <td>215.0</td>\n",
              "      <td>3.920930</td>\n",
              "    </tr>\n",
              "    <tr>\n",
              "      <th>2</th>\n",
              "      <td>Jumanji (1995)</td>\n",
              "      <td>Adventure|Children|Fantasy</td>\n",
              "      <td>110.0</td>\n",
              "      <td>3.431818</td>\n",
              "    </tr>\n",
              "    <tr>\n",
              "      <th>3</th>\n",
              "      <td>Grumpier Old Men (1995)</td>\n",
              "      <td>Comedy|Romance</td>\n",
              "      <td>52.0</td>\n",
              "      <td>3.259615</td>\n",
              "    </tr>\n",
              "    <tr>\n",
              "      <th>4</th>\n",
              "      <td>Waiting to Exhale (1995)</td>\n",
              "      <td>Comedy|Drama|Romance</td>\n",
              "      <td>7.0</td>\n",
              "      <td>2.357143</td>\n",
              "    </tr>\n",
              "    <tr>\n",
              "      <th>5</th>\n",
              "      <td>Father of the Bride Part II (1995)</td>\n",
              "      <td>Comedy</td>\n",
              "      <td>49.0</td>\n",
              "      <td>3.071429</td>\n",
              "    </tr>\n",
              "  </tbody>\n",
              "</table>\n",
              "</div>"
            ],
            "text/plain": [
              "                                      titulo  \\\n",
              "filme_id                                       \n",
              "1                           Toy Story (1995)   \n",
              "2                             Jumanji (1995)   \n",
              "3                    Grumpier Old Men (1995)   \n",
              "4                   Waiting to Exhale (1995)   \n",
              "5         Father of the Bride Part II (1995)   \n",
              "\n",
              "                                              generos  total_de_votos  \\\n",
              "filme_id                                                                \n",
              "1         Adventure|Animation|Children|Comedy|Fantasy           215.0   \n",
              "2                          Adventure|Children|Fantasy           110.0   \n",
              "3                                      Comedy|Romance            52.0   \n",
              "4                                Comedy|Drama|Romance             7.0   \n",
              "5                                              Comedy            49.0   \n",
              "\n",
              "          notas_medias  \n",
              "filme_id                \n",
              "1             3.920930  \n",
              "2             3.431818  \n",
              "3             3.259615  \n",
              "4             2.357143  \n",
              "5             3.071429  "
            ]
          },
          "metadata": {},
          "execution_count": 207
        }
      ],
      "metadata": {
        "colab": {
          "base_uri": "https://localhost:8080/",
          "height": 237
        },
        "id": "mA1GVPphXL0R",
        "outputId": "31309f9c-fa25-42db-e5e6-1eec5c7a31f2"
      }
    },
    {
      "cell_type": "code",
      "execution_count": 208,
      "source": [
        "filmes.sort_values('total_de_votos',ascending=False).head(5)"
      ],
      "outputs": [
        {
          "output_type": "execute_result",
          "data": {
            "text/html": [
              "<div>\n",
              "<style scoped>\n",
              "    .dataframe tbody tr th:only-of-type {\n",
              "        vertical-align: middle;\n",
              "    }\n",
              "\n",
              "    .dataframe tbody tr th {\n",
              "        vertical-align: top;\n",
              "    }\n",
              "\n",
              "    .dataframe thead th {\n",
              "        text-align: right;\n",
              "    }\n",
              "</style>\n",
              "<table border=\"1\" class=\"dataframe\">\n",
              "  <thead>\n",
              "    <tr style=\"text-align: right;\">\n",
              "      <th></th>\n",
              "      <th>titulo</th>\n",
              "      <th>generos</th>\n",
              "      <th>total_de_votos</th>\n",
              "      <th>notas_medias</th>\n",
              "    </tr>\n",
              "    <tr>\n",
              "      <th>filme_id</th>\n",
              "      <th></th>\n",
              "      <th></th>\n",
              "      <th></th>\n",
              "      <th></th>\n",
              "    </tr>\n",
              "  </thead>\n",
              "  <tbody>\n",
              "    <tr>\n",
              "      <th>356</th>\n",
              "      <td>Forrest Gump (1994)</td>\n",
              "      <td>Comedy|Drama|Romance|War</td>\n",
              "      <td>329.0</td>\n",
              "      <td>4.164134</td>\n",
              "    </tr>\n",
              "    <tr>\n",
              "      <th>318</th>\n",
              "      <td>Shawshank Redemption, The (1994)</td>\n",
              "      <td>Crime|Drama</td>\n",
              "      <td>317.0</td>\n",
              "      <td>4.429022</td>\n",
              "    </tr>\n",
              "    <tr>\n",
              "      <th>296</th>\n",
              "      <td>Pulp Fiction (1994)</td>\n",
              "      <td>Comedy|Crime|Drama|Thriller</td>\n",
              "      <td>307.0</td>\n",
              "      <td>4.197068</td>\n",
              "    </tr>\n",
              "    <tr>\n",
              "      <th>593</th>\n",
              "      <td>Silence of the Lambs, The (1991)</td>\n",
              "      <td>Crime|Horror|Thriller</td>\n",
              "      <td>279.0</td>\n",
              "      <td>4.161290</td>\n",
              "    </tr>\n",
              "    <tr>\n",
              "      <th>2571</th>\n",
              "      <td>Matrix, The (1999)</td>\n",
              "      <td>Action|Sci-Fi|Thriller</td>\n",
              "      <td>278.0</td>\n",
              "      <td>4.192446</td>\n",
              "    </tr>\n",
              "  </tbody>\n",
              "</table>\n",
              "</div>"
            ],
            "text/plain": [
              "                                    titulo                      generos  \\\n",
              "filme_id                                                                  \n",
              "356                    Forrest Gump (1994)     Comedy|Drama|Romance|War   \n",
              "318       Shawshank Redemption, The (1994)                  Crime|Drama   \n",
              "296                    Pulp Fiction (1994)  Comedy|Crime|Drama|Thriller   \n",
              "593       Silence of the Lambs, The (1991)        Crime|Horror|Thriller   \n",
              "2571                    Matrix, The (1999)       Action|Sci-Fi|Thriller   \n",
              "\n",
              "          total_de_votos  notas_medias  \n",
              "filme_id                                \n",
              "356                329.0      4.164134  \n",
              "318                317.0      4.429022  \n",
              "296                307.0      4.197068  \n",
              "593                279.0      4.161290  \n",
              "2571               278.0      4.192446  "
            ]
          },
          "metadata": {},
          "execution_count": 208
        }
      ],
      "metadata": {
        "colab": {
          "base_uri": "https://localhost:8080/",
          "height": 237
        },
        "id": "Zbybt_7DXrrg",
        "outputId": "e47e32fa-a549-41ac-cf20-0b89bfe494ca"
      }
    },
    {
      "cell_type": "code",
      "execution_count": 209,
      "source": [
        "#ordenando o dataframe por nota média\r\n",
        "filmes.sort_values('notas_medias',ascending=False).head(5)"
      ],
      "outputs": [
        {
          "output_type": "execute_result",
          "data": {
            "text/html": [
              "<div>\n",
              "<style scoped>\n",
              "    .dataframe tbody tr th:only-of-type {\n",
              "        vertical-align: middle;\n",
              "    }\n",
              "\n",
              "    .dataframe tbody tr th {\n",
              "        vertical-align: top;\n",
              "    }\n",
              "\n",
              "    .dataframe thead th {\n",
              "        text-align: right;\n",
              "    }\n",
              "</style>\n",
              "<table border=\"1\" class=\"dataframe\">\n",
              "  <thead>\n",
              "    <tr style=\"text-align: right;\">\n",
              "      <th></th>\n",
              "      <th>titulo</th>\n",
              "      <th>generos</th>\n",
              "      <th>total_de_votos</th>\n",
              "      <th>notas_medias</th>\n",
              "    </tr>\n",
              "    <tr>\n",
              "      <th>filme_id</th>\n",
              "      <th></th>\n",
              "      <th></th>\n",
              "      <th></th>\n",
              "      <th></th>\n",
              "    </tr>\n",
              "  </thead>\n",
              "  <tbody>\n",
              "    <tr>\n",
              "      <th>88448</th>\n",
              "      <td>Paper Birds (Pájaros de papel) (2010)</td>\n",
              "      <td>Comedy|Drama</td>\n",
              "      <td>1.0</td>\n",
              "      <td>5.0</td>\n",
              "    </tr>\n",
              "    <tr>\n",
              "      <th>100556</th>\n",
              "      <td>Act of Killing, The (2012)</td>\n",
              "      <td>Documentary</td>\n",
              "      <td>1.0</td>\n",
              "      <td>5.0</td>\n",
              "    </tr>\n",
              "    <tr>\n",
              "      <th>143031</th>\n",
              "      <td>Jump In! (2007)</td>\n",
              "      <td>Comedy|Drama|Romance</td>\n",
              "      <td>1.0</td>\n",
              "      <td>5.0</td>\n",
              "    </tr>\n",
              "    <tr>\n",
              "      <th>143511</th>\n",
              "      <td>Human (2015)</td>\n",
              "      <td>Documentary</td>\n",
              "      <td>1.0</td>\n",
              "      <td>5.0</td>\n",
              "    </tr>\n",
              "    <tr>\n",
              "      <th>143559</th>\n",
              "      <td>L.A. Slasher (2015)</td>\n",
              "      <td>Comedy|Crime|Fantasy</td>\n",
              "      <td>1.0</td>\n",
              "      <td>5.0</td>\n",
              "    </tr>\n",
              "  </tbody>\n",
              "</table>\n",
              "</div>"
            ],
            "text/plain": [
              "                                         titulo               generos  \\\n",
              "filme_id                                                                \n",
              "88448     Paper Birds (Pájaros de papel) (2010)          Comedy|Drama   \n",
              "100556               Act of Killing, The (2012)           Documentary   \n",
              "143031                          Jump In! (2007)  Comedy|Drama|Romance   \n",
              "143511                             Human (2015)           Documentary   \n",
              "143559                      L.A. Slasher (2015)  Comedy|Crime|Fantasy   \n",
              "\n",
              "          total_de_votos  notas_medias  \n",
              "filme_id                                \n",
              "88448                1.0           5.0  \n",
              "100556               1.0           5.0  \n",
              "143031               1.0           5.0  \n",
              "143511               1.0           5.0  \n",
              "143559               1.0           5.0  "
            ]
          },
          "metadata": {},
          "execution_count": 209
        }
      ],
      "metadata": {
        "colab": {
          "base_uri": "https://localhost:8080/",
          "height": 237
        },
        "id": "73begLhYX5vp",
        "outputId": "aee2f213-ff1c-41e6-c010-a482e70d2522"
      }
    },
    {
      "cell_type": "code",
      "execution_count": 210,
      "source": [
        "filmes.query('total_de_votos >= 50').sort_values('notas_medias',ascending=False).head(5)"
      ],
      "outputs": [
        {
          "output_type": "execute_result",
          "data": {
            "text/html": [
              "<div>\n",
              "<style scoped>\n",
              "    .dataframe tbody tr th:only-of-type {\n",
              "        vertical-align: middle;\n",
              "    }\n",
              "\n",
              "    .dataframe tbody tr th {\n",
              "        vertical-align: top;\n",
              "    }\n",
              "\n",
              "    .dataframe thead th {\n",
              "        text-align: right;\n",
              "    }\n",
              "</style>\n",
              "<table border=\"1\" class=\"dataframe\">\n",
              "  <thead>\n",
              "    <tr style=\"text-align: right;\">\n",
              "      <th></th>\n",
              "      <th>titulo</th>\n",
              "      <th>generos</th>\n",
              "      <th>total_de_votos</th>\n",
              "      <th>notas_medias</th>\n",
              "    </tr>\n",
              "    <tr>\n",
              "      <th>filme_id</th>\n",
              "      <th></th>\n",
              "      <th></th>\n",
              "      <th></th>\n",
              "      <th></th>\n",
              "    </tr>\n",
              "  </thead>\n",
              "  <tbody>\n",
              "    <tr>\n",
              "      <th>318</th>\n",
              "      <td>Shawshank Redemption, The (1994)</td>\n",
              "      <td>Crime|Drama</td>\n",
              "      <td>317.0</td>\n",
              "      <td>4.429022</td>\n",
              "    </tr>\n",
              "    <tr>\n",
              "      <th>858</th>\n",
              "      <td>Godfather, The (1972)</td>\n",
              "      <td>Crime|Drama</td>\n",
              "      <td>192.0</td>\n",
              "      <td>4.289062</td>\n",
              "    </tr>\n",
              "    <tr>\n",
              "      <th>2959</th>\n",
              "      <td>Fight Club (1999)</td>\n",
              "      <td>Action|Crime|Drama|Thriller</td>\n",
              "      <td>218.0</td>\n",
              "      <td>4.272936</td>\n",
              "    </tr>\n",
              "    <tr>\n",
              "      <th>1276</th>\n",
              "      <td>Cool Hand Luke (1967)</td>\n",
              "      <td>Drama</td>\n",
              "      <td>57.0</td>\n",
              "      <td>4.271930</td>\n",
              "    </tr>\n",
              "    <tr>\n",
              "      <th>750</th>\n",
              "      <td>Dr. Strangelove or: How I Learned to Stop Worr...</td>\n",
              "      <td>Comedy|War</td>\n",
              "      <td>97.0</td>\n",
              "      <td>4.268041</td>\n",
              "    </tr>\n",
              "  </tbody>\n",
              "</table>\n",
              "</div>"
            ],
            "text/plain": [
              "                                                     titulo  \\\n",
              "filme_id                                                      \n",
              "318                        Shawshank Redemption, The (1994)   \n",
              "858                                   Godfather, The (1972)   \n",
              "2959                                      Fight Club (1999)   \n",
              "1276                                  Cool Hand Luke (1967)   \n",
              "750       Dr. Strangelove or: How I Learned to Stop Worr...   \n",
              "\n",
              "                              generos  total_de_votos  notas_medias  \n",
              "filme_id                                                             \n",
              "318                       Crime|Drama           317.0      4.429022  \n",
              "858                       Crime|Drama           192.0      4.289062  \n",
              "2959      Action|Crime|Drama|Thriller           218.0      4.272936  \n",
              "1276                            Drama            57.0      4.271930  \n",
              "750                        Comedy|War            97.0      4.268041  "
            ]
          },
          "metadata": {},
          "execution_count": 210
        }
      ],
      "metadata": {
        "colab": {
          "base_uri": "https://localhost:8080/",
          "height": 237
        },
        "id": "q6Uou9RUai4W",
        "outputId": "f4e17511-a275-4c47-c94d-da2210a06b86"
      }
    },
    {
      "cell_type": "code",
      "execution_count": 211,
      "source": [
        "filmes_do_usuario = [165,1276,1,66]\r\n",
        "filmes_do_usuario"
      ],
      "outputs": [
        {
          "output_type": "execute_result",
          "data": {
            "text/plain": [
              "[165, 1276, 1, 66]"
            ]
          },
          "metadata": {},
          "execution_count": 211
        }
      ],
      "metadata": {
        "colab": {
          "base_uri": "https://localhost:8080/"
        },
        "id": "PvBTZqq4clJP",
        "outputId": "1d030a0a-2a09-42f2-91ff-7297ab42666c"
      }
    },
    {
      "cell_type": "code",
      "execution_count": 212,
      "source": [
        "filmes.loc[filmes_do_usuario]"
      ],
      "outputs": [
        {
          "output_type": "execute_result",
          "data": {
            "text/html": [
              "<div>\n",
              "<style scoped>\n",
              "    .dataframe tbody tr th:only-of-type {\n",
              "        vertical-align: middle;\n",
              "    }\n",
              "\n",
              "    .dataframe tbody tr th {\n",
              "        vertical-align: top;\n",
              "    }\n",
              "\n",
              "    .dataframe thead th {\n",
              "        text-align: right;\n",
              "    }\n",
              "</style>\n",
              "<table border=\"1\" class=\"dataframe\">\n",
              "  <thead>\n",
              "    <tr style=\"text-align: right;\">\n",
              "      <th></th>\n",
              "      <th>titulo</th>\n",
              "      <th>generos</th>\n",
              "      <th>total_de_votos</th>\n",
              "      <th>notas_medias</th>\n",
              "    </tr>\n",
              "    <tr>\n",
              "      <th>filme_id</th>\n",
              "      <th></th>\n",
              "      <th></th>\n",
              "      <th></th>\n",
              "      <th></th>\n",
              "    </tr>\n",
              "  </thead>\n",
              "  <tbody>\n",
              "    <tr>\n",
              "      <th>165</th>\n",
              "      <td>Die Hard: With a Vengeance (1995)</td>\n",
              "      <td>Action|Crime|Thriller</td>\n",
              "      <td>144.0</td>\n",
              "      <td>3.555556</td>\n",
              "    </tr>\n",
              "    <tr>\n",
              "      <th>1276</th>\n",
              "      <td>Cool Hand Luke (1967)</td>\n",
              "      <td>Drama</td>\n",
              "      <td>57.0</td>\n",
              "      <td>4.271930</td>\n",
              "    </tr>\n",
              "    <tr>\n",
              "      <th>1</th>\n",
              "      <td>Toy Story (1995)</td>\n",
              "      <td>Adventure|Animation|Children|Comedy|Fantasy</td>\n",
              "      <td>215.0</td>\n",
              "      <td>3.920930</td>\n",
              "    </tr>\n",
              "    <tr>\n",
              "      <th>66</th>\n",
              "      <td>Lawnmower Man 2: Beyond Cyberspace (1996)</td>\n",
              "      <td>Action|Sci-Fi|Thriller</td>\n",
              "      <td>9.0</td>\n",
              "      <td>2.500000</td>\n",
              "    </tr>\n",
              "  </tbody>\n",
              "</table>\n",
              "</div>"
            ],
            "text/plain": [
              "                                             titulo  \\\n",
              "filme_id                                              \n",
              "165               Die Hard: With a Vengeance (1995)   \n",
              "1276                          Cool Hand Luke (1967)   \n",
              "1                                  Toy Story (1995)   \n",
              "66        Lawnmower Man 2: Beyond Cyberspace (1996)   \n",
              "\n",
              "                                              generos  total_de_votos  \\\n",
              "filme_id                                                                \n",
              "165                             Action|Crime|Thriller           144.0   \n",
              "1276                                            Drama            57.0   \n",
              "1         Adventure|Animation|Children|Comedy|Fantasy           215.0   \n",
              "66                             Action|Sci-Fi|Thriller             9.0   \n",
              "\n",
              "          notas_medias  \n",
              "filme_id                \n",
              "165           3.555556  \n",
              "1276          4.271930  \n",
              "1             3.920930  \n",
              "66            2.500000  "
            ]
          },
          "metadata": {},
          "execution_count": 212
        }
      ],
      "metadata": {
        "colab": {
          "base_uri": "https://localhost:8080/",
          "height": 206
        },
        "id": "ENZkMNATdAM2",
        "outputId": "eb2771f9-34f3-4891-9b99-940532e74ebf"
      }
    },
    {
      "cell_type": "code",
      "execution_count": 213,
      "source": [
        "#criar um dataframe que vai ter só os filmes \"mais relavantes\"\r\n",
        "filmes_com_mais_de_50_votos = filmes.query('total_de_votos >= 50')\r\n",
        "filmes_com_mais_de_50_votos.head(5)"
      ],
      "outputs": [
        {
          "output_type": "execute_result",
          "data": {
            "text/html": [
              "<div>\n",
              "<style scoped>\n",
              "    .dataframe tbody tr th:only-of-type {\n",
              "        vertical-align: middle;\n",
              "    }\n",
              "\n",
              "    .dataframe tbody tr th {\n",
              "        vertical-align: top;\n",
              "    }\n",
              "\n",
              "    .dataframe thead th {\n",
              "        text-align: right;\n",
              "    }\n",
              "</style>\n",
              "<table border=\"1\" class=\"dataframe\">\n",
              "  <thead>\n",
              "    <tr style=\"text-align: right;\">\n",
              "      <th></th>\n",
              "      <th>titulo</th>\n",
              "      <th>generos</th>\n",
              "      <th>total_de_votos</th>\n",
              "      <th>notas_medias</th>\n",
              "    </tr>\n",
              "    <tr>\n",
              "      <th>filme_id</th>\n",
              "      <th></th>\n",
              "      <th></th>\n",
              "      <th></th>\n",
              "      <th></th>\n",
              "    </tr>\n",
              "  </thead>\n",
              "  <tbody>\n",
              "    <tr>\n",
              "      <th>1</th>\n",
              "      <td>Toy Story (1995)</td>\n",
              "      <td>Adventure|Animation|Children|Comedy|Fantasy</td>\n",
              "      <td>215.0</td>\n",
              "      <td>3.920930</td>\n",
              "    </tr>\n",
              "    <tr>\n",
              "      <th>2</th>\n",
              "      <td>Jumanji (1995)</td>\n",
              "      <td>Adventure|Children|Fantasy</td>\n",
              "      <td>110.0</td>\n",
              "      <td>3.431818</td>\n",
              "    </tr>\n",
              "    <tr>\n",
              "      <th>3</th>\n",
              "      <td>Grumpier Old Men (1995)</td>\n",
              "      <td>Comedy|Romance</td>\n",
              "      <td>52.0</td>\n",
              "      <td>3.259615</td>\n",
              "    </tr>\n",
              "    <tr>\n",
              "      <th>6</th>\n",
              "      <td>Heat (1995)</td>\n",
              "      <td>Action|Crime|Thriller</td>\n",
              "      <td>102.0</td>\n",
              "      <td>3.946078</td>\n",
              "    </tr>\n",
              "    <tr>\n",
              "      <th>7</th>\n",
              "      <td>Sabrina (1995)</td>\n",
              "      <td>Comedy|Romance</td>\n",
              "      <td>54.0</td>\n",
              "      <td>3.185185</td>\n",
              "    </tr>\n",
              "  </tbody>\n",
              "</table>\n",
              "</div>"
            ],
            "text/plain": [
              "                           titulo  \\\n",
              "filme_id                            \n",
              "1                Toy Story (1995)   \n",
              "2                  Jumanji (1995)   \n",
              "3         Grumpier Old Men (1995)   \n",
              "6                     Heat (1995)   \n",
              "7                  Sabrina (1995)   \n",
              "\n",
              "                                              generos  total_de_votos  \\\n",
              "filme_id                                                                \n",
              "1         Adventure|Animation|Children|Comedy|Fantasy           215.0   \n",
              "2                          Adventure|Children|Fantasy           110.0   \n",
              "3                                      Comedy|Romance            52.0   \n",
              "6                               Action|Crime|Thriller           102.0   \n",
              "7                                      Comedy|Romance            54.0   \n",
              "\n",
              "          notas_medias  \n",
              "filme_id                \n",
              "1             3.920930  \n",
              "2             3.431818  \n",
              "3             3.259615  \n",
              "6             3.946078  \n",
              "7             3.185185  "
            ]
          },
          "metadata": {},
          "execution_count": 213
        }
      ],
      "metadata": {
        "colab": {
          "base_uri": "https://localhost:8080/",
          "height": 237
        },
        "id": "9ATDG0Ild9c2",
        "outputId": "aefc8c18-1678-4e5f-af2a-5907a689be14"
      }
    },
    {
      "cell_type": "code",
      "execution_count": 214,
      "source": [
        "#provaveis filmes dos generos que o usuario alvo assistou\r\n",
        "filmes_generos_alvo = filmes_com_mais_de_50_votos.query(\"generos == 'Adventure|Animation|Children|Comedy|Fantasy'\").sort_values('notas_medias',ascending=False).head(10)\r\n",
        "filmes_generos_alvo"
      ],
      "outputs": [
        {
          "output_type": "execute_result",
          "data": {
            "text/html": [
              "<div>\n",
              "<style scoped>\n",
              "    .dataframe tbody tr th:only-of-type {\n",
              "        vertical-align: middle;\n",
              "    }\n",
              "\n",
              "    .dataframe tbody tr th {\n",
              "        vertical-align: top;\n",
              "    }\n",
              "\n",
              "    .dataframe thead th {\n",
              "        text-align: right;\n",
              "    }\n",
              "</style>\n",
              "<table border=\"1\" class=\"dataframe\">\n",
              "  <thead>\n",
              "    <tr style=\"text-align: right;\">\n",
              "      <th></th>\n",
              "      <th>titulo</th>\n",
              "      <th>generos</th>\n",
              "      <th>total_de_votos</th>\n",
              "      <th>notas_medias</th>\n",
              "    </tr>\n",
              "    <tr>\n",
              "      <th>filme_id</th>\n",
              "      <th></th>\n",
              "      <th></th>\n",
              "      <th></th>\n",
              "      <th></th>\n",
              "    </tr>\n",
              "  </thead>\n",
              "  <tbody>\n",
              "    <tr>\n",
              "      <th>1</th>\n",
              "      <td>Toy Story (1995)</td>\n",
              "      <td>Adventure|Animation|Children|Comedy|Fantasy</td>\n",
              "      <td>215.0</td>\n",
              "      <td>3.920930</td>\n",
              "    </tr>\n",
              "    <tr>\n",
              "      <th>4886</th>\n",
              "      <td>Monsters, Inc. (2001)</td>\n",
              "      <td>Adventure|Animation|Children|Comedy|Fantasy</td>\n",
              "      <td>132.0</td>\n",
              "      <td>3.871212</td>\n",
              "    </tr>\n",
              "    <tr>\n",
              "      <th>3114</th>\n",
              "      <td>Toy Story 2 (1999)</td>\n",
              "      <td>Adventure|Animation|Children|Comedy|Fantasy</td>\n",
              "      <td>97.0</td>\n",
              "      <td>3.860825</td>\n",
              "    </tr>\n",
              "  </tbody>\n",
              "</table>\n",
              "</div>"
            ],
            "text/plain": [
              "                         titulo                                      generos  \\\n",
              "filme_id                                                                       \n",
              "1              Toy Story (1995)  Adventure|Animation|Children|Comedy|Fantasy   \n",
              "4886      Monsters, Inc. (2001)  Adventure|Animation|Children|Comedy|Fantasy   \n",
              "3114         Toy Story 2 (1999)  Adventure|Animation|Children|Comedy|Fantasy   \n",
              "\n",
              "          total_de_votos  notas_medias  \n",
              "filme_id                                \n",
              "1                  215.0      3.920930  \n",
              "4886               132.0      3.871212  \n",
              "3114                97.0      3.860825  "
            ]
          },
          "metadata": {},
          "execution_count": 214
        }
      ],
      "metadata": {
        "colab": {
          "base_uri": "https://localhost:8080/",
          "height": 175
        },
        "id": "AIy3p8Jqee_h",
        "outputId": "12d43d9b-a7ad-4076-82a6-1a190e1ebeda"
      }
    },
    {
      "cell_type": "code",
      "execution_count": 215,
      "source": [
        "#filmes_generos_alvo.loc[165]"
      ],
      "outputs": [],
      "metadata": {
        "id": "vHC2J3dmfcc0"
      }
    },
    {
      "cell_type": "code",
      "execution_count": 216,
      "source": [
        "filmes_do_usuario = [165,1276,1,66,6874,54286]\r\n",
        "filmes_do_usuario"
      ],
      "outputs": [
        {
          "output_type": "execute_result",
          "data": {
            "text/plain": [
              "[165, 1276, 1, 66, 6874, 54286]"
            ]
          },
          "metadata": {},
          "execution_count": 216
        }
      ],
      "metadata": {
        "colab": {
          "base_uri": "https://localhost:8080/"
        },
        "id": "FDGmnYX0g28Q",
        "outputId": "433feb73-67dd-4e2e-c93b-ba53dc211cef"
      }
    },
    {
      "cell_type": "code",
      "execution_count": 217,
      "source": [
        "#excluir os filmes que o usuário já assistiu das prováveis recomendações\r\n",
        "filmes_generos_alvo.drop(filmes_do_usuario,errors='ignore').sort_values('notas_medias',ascending=False).head(5)"
      ],
      "outputs": [
        {
          "output_type": "execute_result",
          "data": {
            "text/html": [
              "<div>\n",
              "<style scoped>\n",
              "    .dataframe tbody tr th:only-of-type {\n",
              "        vertical-align: middle;\n",
              "    }\n",
              "\n",
              "    .dataframe tbody tr th {\n",
              "        vertical-align: top;\n",
              "    }\n",
              "\n",
              "    .dataframe thead th {\n",
              "        text-align: right;\n",
              "    }\n",
              "</style>\n",
              "<table border=\"1\" class=\"dataframe\">\n",
              "  <thead>\n",
              "    <tr style=\"text-align: right;\">\n",
              "      <th></th>\n",
              "      <th>titulo</th>\n",
              "      <th>generos</th>\n",
              "      <th>total_de_votos</th>\n",
              "      <th>notas_medias</th>\n",
              "    </tr>\n",
              "    <tr>\n",
              "      <th>filme_id</th>\n",
              "      <th></th>\n",
              "      <th></th>\n",
              "      <th></th>\n",
              "      <th></th>\n",
              "    </tr>\n",
              "  </thead>\n",
              "  <tbody>\n",
              "    <tr>\n",
              "      <th>4886</th>\n",
              "      <td>Monsters, Inc. (2001)</td>\n",
              "      <td>Adventure|Animation|Children|Comedy|Fantasy</td>\n",
              "      <td>132.0</td>\n",
              "      <td>3.871212</td>\n",
              "    </tr>\n",
              "    <tr>\n",
              "      <th>3114</th>\n",
              "      <td>Toy Story 2 (1999)</td>\n",
              "      <td>Adventure|Animation|Children|Comedy|Fantasy</td>\n",
              "      <td>97.0</td>\n",
              "      <td>3.860825</td>\n",
              "    </tr>\n",
              "  </tbody>\n",
              "</table>\n",
              "</div>"
            ],
            "text/plain": [
              "                         titulo                                      generos  \\\n",
              "filme_id                                                                       \n",
              "4886      Monsters, Inc. (2001)  Adventure|Animation|Children|Comedy|Fantasy   \n",
              "3114         Toy Story 2 (1999)  Adventure|Animation|Children|Comedy|Fantasy   \n",
              "\n",
              "          total_de_votos  notas_medias  \n",
              "filme_id                                \n",
              "4886               132.0      3.871212  \n",
              "3114                97.0      3.860825  "
            ]
          },
          "metadata": {},
          "execution_count": 217
        }
      ],
      "metadata": {
        "colab": {
          "base_uri": "https://localhost:8080/",
          "height": 143
        },
        "id": "NRCOUWa0f-O2",
        "outputId": "16f23535-fbc5-4766-8f1a-fd73e3157e18"
      }
    },
    {
      "cell_type": "markdown",
      "source": [
        "#Colaboratividade => votos e nas notas\n",
        "#Distancia entre dois usuários\n",
        "\n",
        "ricardo deu nota 5 para o filme matrix\n",
        "\n",
        "pedro deu nota 4 para o filme matrix\n",
        "\n",
        "leandro deu nota 3 para o filme matrix\n",
        "\n",
        "rosa deu nota 3.5 para o filme matrix\n",
        "\n",
        "não existe distancia negativa!!!!!\n",
        "\n"
      ],
      "metadata": {
        "id": "ExiWoy4DtUBI"
      }
    },
    {
      "cell_type": "markdown",
      "source": [],
      "metadata": {
        "id": "krGuV1Lx9_lU"
      }
    },
    {
      "cell_type": "code",
      "execution_count": 218,
      "source": [
        "#somatorio de diferença\r\n",
        "\r\n",
        "\r\n",
        "\r\n",
        "\r\n",
        "import matplotlib.pyplot as plt\r\n",
        "plt.plot(4,4.8,\"yo\")\r\n",
        "plt.plot(3.2,5,\"bo\")\r\n",
        "plt.legend([\"Ricardo\",\"Rosa\"])\r\n",
        "\r\n",
        "plt.plot([4,3.2],[4.8,4.8], color=\"blue\")\r\n",
        "plt.plot([3.2,3.2],[5,4.8], color=\"blue\")\r\n",
        "plt.plot([3.2,4],[5,4.8], color=\"blue\")\r\n"
      ],
      "outputs": [
        {
          "output_type": "execute_result",
          "data": {
            "text/plain": [
              "[<matplotlib.lines.Line2D at 0x1b974ec7fa0>]"
            ]
          },
          "metadata": {},
          "execution_count": 218
        },
        {
          "output_type": "display_data",
          "data": {
            "image/png": "[encoded data removed]",
            "text/plain": [
              "<Figure size 432x288 with 1 Axes>"
            ]
          },
          "metadata": {
            "needs_background": "light"
          }
        }
      ],
      "metadata": {
        "colab": {
          "base_uri": "https://localhost:8080/",
          "height": 284
        },
        "id": "TlTYsnu58o5p",
        "outputId": "7cefb02c-8e9b-430b-c47f-b54d3c289dd9"
      }
    },
    {
      "cell_type": "code",
      "execution_count": 219,
      "source": [
        "#calculo da diferença entre dois usuários\r\n",
        "#somatorio das substrações das notas x_i e y_i\r\n",
        "\r\n",
        "#a_2 = b_2 + c_2\r\n",
        "\r\n",
        "import numpy as np\r\n",
        "ricardo = np.array([4,4.8])\r\n",
        "rosa = np.array([3.2,5])\r\n",
        "\r\n",
        "#4         #4.8\r\n",
        "#3.2       #5\r\n",
        "#0.8       #0.2\r\n",
        "\r\n",
        "\r\n",
        "#print(pitagoras(ricardo,rosa))"
      ],
      "outputs": [],
      "metadata": {
        "colab": {
          "base_uri": "https://localhost:8080/"
        },
        "id": "gJZ_D4n__FTj",
        "outputId": "48bea004-0b41-4d97-96c5-092e7161b112"
      }
    },
    {
      "cell_type": "code",
      "execution_count": 220,
      "source": [
        "from math import sqrt\r\n",
        "\r\n",
        "def pitagoras(usuariox,usuarioy):\r\n",
        "  (delta_x,delta_y) = usuariox - usuarioy\r\n",
        "  valor = sqrt(delta_x * delta_x + delta_y * delta_y)\r\n",
        "  return valor"
      ],
      "outputs": [],
      "metadata": {
        "id": "TAgXA4KK_0YO"
      }
    },
    {
      "cell_type": "code",
      "execution_count": 221,
      "source": [
        "np.linalg.norm(ricardo - rosa)"
      ],
      "outputs": [
        {
          "output_type": "execute_result",
          "data": {
            "text/plain": [
              "0.8246211251235319"
            ]
          },
          "metadata": {},
          "execution_count": 221
        }
      ],
      "metadata": {
        "colab": {
          "base_uri": "https://localhost:8080/"
        },
        "id": "f0nWzTaPBPw3",
        "outputId": "2d07767a-24ac-472b-fb65-b4a01a689177"
      }
    },
    {
      "cell_type": "code",
      "execution_count": 222,
      "source": [
        "ricardo = np.array([3.9,4.8])\r\n",
        "tom = np.array([3.2,4.5])\r\n",
        "paulo = np.array([3.9,4.8])\r\n",
        "\r\n",
        "print(pitagoras(ricardo, rosa))\r\n",
        "print(pitagoras(ricardo,tom))\r\n",
        "print(pitagoras(ricardo,paulo))"
      ],
      "outputs": [
        {
          "output_type": "stream",
          "name": "stdout",
          "text": [
            "0.7280109889280516\n",
            "0.7615773105863906\n",
            "0.0\n"
          ]
        }
      ],
      "metadata": {
        "colab": {
          "base_uri": "https://localhost:8080/"
        },
        "id": "9ADSdcJdBvb1",
        "outputId": "6cc9a533-001e-4db7-fefe-04ad0d60c1e8"
      }
    },
    {
      "cell_type": "code",
      "execution_count": 223,
      "source": [
        "#olhando o nosso conjutno de dados Notas\r\n",
        "notas.head(5)"
      ],
      "outputs": [
        {
          "output_type": "execute_result",
          "data": {
            "text/html": [
              "<div>\n",
              "<style scoped>\n",
              "    .dataframe tbody tr th:only-of-type {\n",
              "        vertical-align: middle;\n",
              "    }\n",
              "\n",
              "    .dataframe tbody tr th {\n",
              "        vertical-align: top;\n",
              "    }\n",
              "\n",
              "    .dataframe thead th {\n",
              "        text-align: right;\n",
              "    }\n",
              "</style>\n",
              "<table border=\"1\" class=\"dataframe\">\n",
              "  <thead>\n",
              "    <tr style=\"text-align: right;\">\n",
              "      <th></th>\n",
              "      <th>usuario_id</th>\n",
              "      <th>filme_id</th>\n",
              "      <th>notas</th>\n",
              "      <th>hora_da_avaliacao</th>\n",
              "    </tr>\n",
              "  </thead>\n",
              "  <tbody>\n",
              "    <tr>\n",
              "      <th>0</th>\n",
              "      <td>1</td>\n",
              "      <td>1</td>\n",
              "      <td>4.0</td>\n",
              "      <td>964982703</td>\n",
              "    </tr>\n",
              "    <tr>\n",
              "      <th>1</th>\n",
              "      <td>1</td>\n",
              "      <td>3</td>\n",
              "      <td>4.0</td>\n",
              "      <td>964981247</td>\n",
              "    </tr>\n",
              "    <tr>\n",
              "      <th>2</th>\n",
              "      <td>1</td>\n",
              "      <td>6</td>\n",
              "      <td>4.0</td>\n",
              "      <td>964982224</td>\n",
              "    </tr>\n",
              "    <tr>\n",
              "      <th>3</th>\n",
              "      <td>1</td>\n",
              "      <td>47</td>\n",
              "      <td>5.0</td>\n",
              "      <td>964983815</td>\n",
              "    </tr>\n",
              "    <tr>\n",
              "      <th>4</th>\n",
              "      <td>1</td>\n",
              "      <td>50</td>\n",
              "      <td>5.0</td>\n",
              "      <td>964982931</td>\n",
              "    </tr>\n",
              "  </tbody>\n",
              "</table>\n",
              "</div>"
            ],
            "text/plain": [
              "   usuario_id  filme_id  notas  hora_da_avaliacao\n",
              "0           1         1    4.0          964982703\n",
              "1           1         3    4.0          964981247\n",
              "2           1         6    4.0          964982224\n",
              "3           1        47    5.0          964983815\n",
              "4           1        50    5.0          964982931"
            ]
          },
          "metadata": {},
          "execution_count": 223
        }
      ],
      "metadata": {
        "colab": {
          "base_uri": "https://localhost:8080/",
          "height": 206
        },
        "id": "PY9z0GgxC3O6",
        "outputId": "93c3aec5-a6b9-45be-b50f-2ec70fbfc27a"
      }
    },
    {
      "cell_type": "code",
      "execution_count": 224,
      "source": [
        "#analisando as similaridades do usuário 1\r\n",
        "notas.query(\"usuario_id == 2\")\r\n",
        "notas_do_usuario = notas.query(\"usuario_id == 2\")\r\n",
        "#vamos indexar o index com o filme_id\r\n",
        "notas_do_usuario = notas_do_usuario[['filme_id','notas']].set_index('filme_id')\r\n",
        "notas_do_usuario"
      ],
      "outputs": [
        {
          "output_type": "execute_result",
          "data": {
            "text/html": [
              "<div>\n",
              "<style scoped>\n",
              "    .dataframe tbody tr th:only-of-type {\n",
              "        vertical-align: middle;\n",
              "    }\n",
              "\n",
              "    .dataframe tbody tr th {\n",
              "        vertical-align: top;\n",
              "    }\n",
              "\n",
              "    .dataframe thead th {\n",
              "        text-align: right;\n",
              "    }\n",
              "</style>\n",
              "<table border=\"1\" class=\"dataframe\">\n",
              "  <thead>\n",
              "    <tr style=\"text-align: right;\">\n",
              "      <th></th>\n",
              "      <th>notas</th>\n",
              "    </tr>\n",
              "    <tr>\n",
              "      <th>filme_id</th>\n",
              "      <th></th>\n",
              "    </tr>\n",
              "  </thead>\n",
              "  <tbody>\n",
              "    <tr>\n",
              "      <th>318</th>\n",
              "      <td>3.0</td>\n",
              "    </tr>\n",
              "    <tr>\n",
              "      <th>333</th>\n",
              "      <td>4.0</td>\n",
              "    </tr>\n",
              "    <tr>\n",
              "      <th>1704</th>\n",
              "      <td>4.5</td>\n",
              "    </tr>\n",
              "    <tr>\n",
              "      <th>3578</th>\n",
              "      <td>4.0</td>\n",
              "    </tr>\n",
              "    <tr>\n",
              "      <th>6874</th>\n",
              "      <td>4.0</td>\n",
              "    </tr>\n",
              "    <tr>\n",
              "      <th>8798</th>\n",
              "      <td>3.5</td>\n",
              "    </tr>\n",
              "    <tr>\n",
              "      <th>46970</th>\n",
              "      <td>4.0</td>\n",
              "    </tr>\n",
              "    <tr>\n",
              "      <th>48516</th>\n",
              "      <td>4.0</td>\n",
              "    </tr>\n",
              "    <tr>\n",
              "      <th>58559</th>\n",
              "      <td>4.5</td>\n",
              "    </tr>\n",
              "    <tr>\n",
              "      <th>60756</th>\n",
              "      <td>5.0</td>\n",
              "    </tr>\n",
              "    <tr>\n",
              "      <th>68157</th>\n",
              "      <td>4.5</td>\n",
              "    </tr>\n",
              "    <tr>\n",
              "      <th>71535</th>\n",
              "      <td>3.0</td>\n",
              "    </tr>\n",
              "    <tr>\n",
              "      <th>74458</th>\n",
              "      <td>4.0</td>\n",
              "    </tr>\n",
              "    <tr>\n",
              "      <th>77455</th>\n",
              "      <td>3.0</td>\n",
              "    </tr>\n",
              "    <tr>\n",
              "      <th>79132</th>\n",
              "      <td>4.0</td>\n",
              "    </tr>\n",
              "    <tr>\n",
              "      <th>80489</th>\n",
              "      <td>4.5</td>\n",
              "    </tr>\n",
              "    <tr>\n",
              "      <th>80906</th>\n",
              "      <td>5.0</td>\n",
              "    </tr>\n",
              "    <tr>\n",
              "      <th>86345</th>\n",
              "      <td>4.0</td>\n",
              "    </tr>\n",
              "    <tr>\n",
              "      <th>89774</th>\n",
              "      <td>5.0</td>\n",
              "    </tr>\n",
              "    <tr>\n",
              "      <th>91529</th>\n",
              "      <td>3.5</td>\n",
              "    </tr>\n",
              "    <tr>\n",
              "      <th>91658</th>\n",
              "      <td>2.5</td>\n",
              "    </tr>\n",
              "    <tr>\n",
              "      <th>99114</th>\n",
              "      <td>3.5</td>\n",
              "    </tr>\n",
              "    <tr>\n",
              "      <th>106782</th>\n",
              "      <td>5.0</td>\n",
              "    </tr>\n",
              "    <tr>\n",
              "      <th>109487</th>\n",
              "      <td>3.0</td>\n",
              "    </tr>\n",
              "    <tr>\n",
              "      <th>112552</th>\n",
              "      <td>4.0</td>\n",
              "    </tr>\n",
              "    <tr>\n",
              "      <th>114060</th>\n",
              "      <td>2.0</td>\n",
              "    </tr>\n",
              "    <tr>\n",
              "      <th>115713</th>\n",
              "      <td>3.5</td>\n",
              "    </tr>\n",
              "    <tr>\n",
              "      <th>122882</th>\n",
              "      <td>5.0</td>\n",
              "    </tr>\n",
              "    <tr>\n",
              "      <th>131724</th>\n",
              "      <td>5.0</td>\n",
              "    </tr>\n",
              "  </tbody>\n",
              "</table>\n",
              "</div>"
            ],
            "text/plain": [
              "          notas\n",
              "filme_id       \n",
              "318         3.0\n",
              "333         4.0\n",
              "1704        4.5\n",
              "3578        4.0\n",
              "6874        4.0\n",
              "8798        3.5\n",
              "46970       4.0\n",
              "48516       4.0\n",
              "58559       4.5\n",
              "60756       5.0\n",
              "68157       4.5\n",
              "71535       3.0\n",
              "74458       4.0\n",
              "77455       3.0\n",
              "79132       4.0\n",
              "80489       4.5\n",
              "80906       5.0\n",
              "86345       4.0\n",
              "89774       5.0\n",
              "91529       3.5\n",
              "91658       2.5\n",
              "99114       3.5\n",
              "106782      5.0\n",
              "109487      3.0\n",
              "112552      4.0\n",
              "114060      2.0\n",
              "115713      3.5\n",
              "122882      5.0\n",
              "131724      5.0"
            ]
          },
          "metadata": {},
          "execution_count": 224
        }
      ],
      "metadata": {
        "colab": {
          "base_uri": "https://localhost:8080/",
          "height": 990
        },
        "id": "z5u_FgdCDMiH",
        "outputId": "6c345998-f3c2-4ed4-aa50-41f61ffda987"
      }
    },
    {
      "cell_type": "code",
      "execution_count": 225,
      "source": [
        "#funcao que recebe usuario id para consultar e trazer em uma lista as notas do alvo\r\n",
        "def busca_notas_usuario(usuario_id):\r\n",
        "  notas_do_usuario = notas.query(\"usuario_id == %d\" % usuario_id)\r\n",
        "  notas_do_usuario = notas_do_usuario[['filme_id','notas']].set_index('filme_id')\r\n",
        "  return notas_do_usuario\r\n"
      ],
      "outputs": [],
      "metadata": {
        "id": "Z99dvgMxEc4I"
      }
    },
    {
      "cell_type": "code",
      "execution_count": 226,
      "source": [
        "usuario_x = busca_notas_usuario(1)\r\n",
        "usuario_y = busca_notas_usuario(5)"
      ],
      "outputs": [],
      "metadata": {
        "id": "Dfa4JZ2mF29J"
      }
    },
    {
      "cell_type": "code",
      "execution_count": 227,
      "source": [
        "usuario_x.head(5)"
      ],
      "outputs": [
        {
          "output_type": "execute_result",
          "data": {
            "text/html": [
              "<div>\n",
              "<style scoped>\n",
              "    .dataframe tbody tr th:only-of-type {\n",
              "        vertical-align: middle;\n",
              "    }\n",
              "\n",
              "    .dataframe tbody tr th {\n",
              "        vertical-align: top;\n",
              "    }\n",
              "\n",
              "    .dataframe thead th {\n",
              "        text-align: right;\n",
              "    }\n",
              "</style>\n",
              "<table border=\"1\" class=\"dataframe\">\n",
              "  <thead>\n",
              "    <tr style=\"text-align: right;\">\n",
              "      <th></th>\n",
              "      <th>notas</th>\n",
              "    </tr>\n",
              "    <tr>\n",
              "      <th>filme_id</th>\n",
              "      <th></th>\n",
              "    </tr>\n",
              "  </thead>\n",
              "  <tbody>\n",
              "    <tr>\n",
              "      <th>1</th>\n",
              "      <td>4.0</td>\n",
              "    </tr>\n",
              "    <tr>\n",
              "      <th>3</th>\n",
              "      <td>4.0</td>\n",
              "    </tr>\n",
              "    <tr>\n",
              "      <th>6</th>\n",
              "      <td>4.0</td>\n",
              "    </tr>\n",
              "    <tr>\n",
              "      <th>47</th>\n",
              "      <td>5.0</td>\n",
              "    </tr>\n",
              "    <tr>\n",
              "      <th>50</th>\n",
              "      <td>5.0</td>\n",
              "    </tr>\n",
              "  </tbody>\n",
              "</table>\n",
              "</div>"
            ],
            "text/plain": [
              "          notas\n",
              "filme_id       \n",
              "1           4.0\n",
              "3           4.0\n",
              "6           4.0\n",
              "47          5.0\n",
              "50          5.0"
            ]
          },
          "metadata": {},
          "execution_count": 227
        }
      ],
      "metadata": {
        "colab": {
          "base_uri": "https://localhost:8080/",
          "height": 237
        },
        "id": "PiEvdQplGRQl",
        "outputId": "affca080-ea8f-42f8-c0d0-ff083c344488"
      }
    },
    {
      "cell_type": "code",
      "execution_count": 228,
      "source": [
        "usuario_y.head(10)"
      ],
      "outputs": [
        {
          "output_type": "execute_result",
          "data": {
            "text/html": [
              "<div>\n",
              "<style scoped>\n",
              "    .dataframe tbody tr th:only-of-type {\n",
              "        vertical-align: middle;\n",
              "    }\n",
              "\n",
              "    .dataframe tbody tr th {\n",
              "        vertical-align: top;\n",
              "    }\n",
              "\n",
              "    .dataframe thead th {\n",
              "        text-align: right;\n",
              "    }\n",
              "</style>\n",
              "<table border=\"1\" class=\"dataframe\">\n",
              "  <thead>\n",
              "    <tr style=\"text-align: right;\">\n",
              "      <th></th>\n",
              "      <th>notas</th>\n",
              "    </tr>\n",
              "    <tr>\n",
              "      <th>filme_id</th>\n",
              "      <th></th>\n",
              "    </tr>\n",
              "  </thead>\n",
              "  <tbody>\n",
              "    <tr>\n",
              "      <th>1</th>\n",
              "      <td>4.0</td>\n",
              "    </tr>\n",
              "    <tr>\n",
              "      <th>21</th>\n",
              "      <td>4.0</td>\n",
              "    </tr>\n",
              "    <tr>\n",
              "      <th>34</th>\n",
              "      <td>4.0</td>\n",
              "    </tr>\n",
              "    <tr>\n",
              "      <th>36</th>\n",
              "      <td>4.0</td>\n",
              "    </tr>\n",
              "    <tr>\n",
              "      <th>39</th>\n",
              "      <td>3.0</td>\n",
              "    </tr>\n",
              "    <tr>\n",
              "      <th>50</th>\n",
              "      <td>4.0</td>\n",
              "    </tr>\n",
              "    <tr>\n",
              "      <th>58</th>\n",
              "      <td>5.0</td>\n",
              "    </tr>\n",
              "    <tr>\n",
              "      <th>110</th>\n",
              "      <td>4.0</td>\n",
              "    </tr>\n",
              "    <tr>\n",
              "      <th>150</th>\n",
              "      <td>3.0</td>\n",
              "    </tr>\n",
              "    <tr>\n",
              "      <th>153</th>\n",
              "      <td>3.0</td>\n",
              "    </tr>\n",
              "  </tbody>\n",
              "</table>\n",
              "</div>"
            ],
            "text/plain": [
              "          notas\n",
              "filme_id       \n",
              "1           4.0\n",
              "21          4.0\n",
              "34          4.0\n",
              "36          4.0\n",
              "39          3.0\n",
              "50          4.0\n",
              "58          5.0\n",
              "110         4.0\n",
              "150         3.0\n",
              "153         3.0"
            ]
          },
          "metadata": {},
          "execution_count": 228
        }
      ],
      "metadata": {
        "colab": {
          "base_uri": "https://localhost:8080/",
          "height": 394
        },
        "id": "NKM0lbyvGfbY",
        "outputId": "c3112cfd-62c1-47a4-b355-dd8a90d8f31b"
      }
    },
    {
      "cell_type": "code",
      "execution_count": 229,
      "source": [
        "#criando o join para registrar na mesma tabela a nota dos dois.\r\n",
        "usuario_x.join(usuario_y,lsuffix=\"_x\",rsuffix=\"_y\").head(10)"
      ],
      "outputs": [
        {
          "output_type": "execute_result",
          "data": {
            "text/html": [
              "<div>\n",
              "<style scoped>\n",
              "    .dataframe tbody tr th:only-of-type {\n",
              "        vertical-align: middle;\n",
              "    }\n",
              "\n",
              "    .dataframe tbody tr th {\n",
              "        vertical-align: top;\n",
              "    }\n",
              "\n",
              "    .dataframe thead th {\n",
              "        text-align: right;\n",
              "    }\n",
              "</style>\n",
              "<table border=\"1\" class=\"dataframe\">\n",
              "  <thead>\n",
              "    <tr style=\"text-align: right;\">\n",
              "      <th></th>\n",
              "      <th>notas_x</th>\n",
              "      <th>notas_y</th>\n",
              "    </tr>\n",
              "    <tr>\n",
              "      <th>filme_id</th>\n",
              "      <th></th>\n",
              "      <th></th>\n",
              "    </tr>\n",
              "  </thead>\n",
              "  <tbody>\n",
              "    <tr>\n",
              "      <th>1</th>\n",
              "      <td>4.0</td>\n",
              "      <td>4.0</td>\n",
              "    </tr>\n",
              "    <tr>\n",
              "      <th>3</th>\n",
              "      <td>4.0</td>\n",
              "      <td>NaN</td>\n",
              "    </tr>\n",
              "    <tr>\n",
              "      <th>6</th>\n",
              "      <td>4.0</td>\n",
              "      <td>NaN</td>\n",
              "    </tr>\n",
              "    <tr>\n",
              "      <th>47</th>\n",
              "      <td>5.0</td>\n",
              "      <td>NaN</td>\n",
              "    </tr>\n",
              "    <tr>\n",
              "      <th>50</th>\n",
              "      <td>5.0</td>\n",
              "      <td>4.0</td>\n",
              "    </tr>\n",
              "    <tr>\n",
              "      <th>70</th>\n",
              "      <td>3.0</td>\n",
              "      <td>NaN</td>\n",
              "    </tr>\n",
              "    <tr>\n",
              "      <th>101</th>\n",
              "      <td>5.0</td>\n",
              "      <td>NaN</td>\n",
              "    </tr>\n",
              "    <tr>\n",
              "      <th>110</th>\n",
              "      <td>4.0</td>\n",
              "      <td>4.0</td>\n",
              "    </tr>\n",
              "    <tr>\n",
              "      <th>151</th>\n",
              "      <td>5.0</td>\n",
              "      <td>NaN</td>\n",
              "    </tr>\n",
              "    <tr>\n",
              "      <th>157</th>\n",
              "      <td>5.0</td>\n",
              "      <td>NaN</td>\n",
              "    </tr>\n",
              "  </tbody>\n",
              "</table>\n",
              "</div>"
            ],
            "text/plain": [
              "          notas_x  notas_y\n",
              "filme_id                  \n",
              "1             4.0      4.0\n",
              "3             4.0      NaN\n",
              "6             4.0      NaN\n",
              "47            5.0      NaN\n",
              "50            5.0      4.0\n",
              "70            3.0      NaN\n",
              "101           5.0      NaN\n",
              "110           4.0      4.0\n",
              "151           5.0      NaN\n",
              "157           5.0      NaN"
            ]
          },
          "metadata": {},
          "execution_count": 229
        }
      ],
      "metadata": {
        "colab": {
          "base_uri": "https://localhost:8080/",
          "height": 394
        },
        "id": "n0oM8jSmGTPH",
        "outputId": "cd78d163-690c-4953-ec21-3fcf22abf8b4"
      }
    },
    {
      "cell_type": "code",
      "execution_count": 230,
      "source": [
        "#deletando as linhas com NaN - dessa forma vai sobrar só o que é comum entre os dois comparados\r\n",
        "diferencas = usuario_x.join(usuario_y,lsuffix=\"_x\",rsuffix=\"_y\").dropna()"
      ],
      "outputs": [],
      "metadata": {
        "id": "VN7VMEXlJMRa"
      }
    },
    {
      "cell_type": "code",
      "execution_count": 231,
      "source": [
        "#utilizando a função norm do np\r\n",
        "def calculo_distancia_vetores(usuariox,usuarioy):\r\n",
        "  return np.linalg.norm(usuariox - usuarioy)"
      ],
      "outputs": [],
      "metadata": {
        "id": "6jXCkSQWKe4p"
      }
    },
    {
      "cell_type": "code",
      "execution_count": 232,
      "source": [
        "usuario_x = busca_notas_usuario(38)\r\n",
        "usuario_y = busca_notas_usuario(55)"
      ],
      "outputs": [],
      "metadata": {
        "id": "Umlo9jUtLRTc"
      }
    },
    {
      "cell_type": "code",
      "execution_count": 233,
      "source": [
        "#usuarios sendo verificados são o com id = 1 e id = 5\r\n",
        "calculo_distancia_vetores(diferencas['notas_x'],diferencas['notas_y'])"
      ],
      "outputs": [
        {
          "output_type": "execute_result",
          "data": {
            "text/plain": [
              "3.7416573867739413"
            ]
          },
          "metadata": {},
          "execution_count": 233
        }
      ],
      "metadata": {
        "colab": {
          "base_uri": "https://localhost:8080/"
        },
        "id": "B_v8PgKYKBTa",
        "outputId": "661de829-e93a-4292-8db6-96b2a721eac0"
      }
    },
    {
      "cell_type": "code",
      "execution_count": 234,
      "source": [
        "def distancia_de_usuarios(usuario_idx,usuario_idy):\r\n",
        "  #primeiro passo é buscando as notas do alvo e de alguém a ser comparado\r\n",
        "  notas_x = busca_notas_usuario(usuario_idx)\r\n",
        "  notas_y = busca_notas_usuario(usuario_idy)\r\n",
        "  #segundo passo é buscar as diferencas\r\n",
        "  diferencas = notas_x.join(notas_y,lsuffix=\"_x\",rsuffix=\"_y\").dropna()\r\n",
        "  #terceiro passo é calcular as diferencas\r\n",
        "  distancia = calculo_distancia_vetores(diferencas['notas_x'],diferencas['notas_y'])\r\n",
        "  return [usuario_idx,usuario_idy,distancia]\r\n"
      ],
      "outputs": [],
      "metadata": {
        "id": "NvAo4jfGLlMB"
      }
    },
    {
      "cell_type": "code",
      "execution_count": 235,
      "source": [
        "distancia_de_usuarios(1,5)"
      ],
      "outputs": [
        {
          "output_type": "execute_result",
          "data": {
            "text/plain": [
              "[1, 5, 3.7416573867739413]"
            ]
          },
          "metadata": {},
          "execution_count": 235
        }
      ],
      "metadata": {
        "colab": {
          "base_uri": "https://localhost:8080/"
        },
        "id": "S1byx2CLNfFr",
        "outputId": "f2dccbb3-5ff3-4927-9603-9ca55e6e005f"
      }
    },
    {
      "cell_type": "code",
      "execution_count": 236,
      "source": [
        "def distancia_de_todos(usuario_alvo_id):\r\n",
        "  #dicionario para guardar as distancias de todos os outros\r\n",
        "  distancias_para_outros_usuarios = []\r\n",
        "  #for para percorrer as notsa e encontrar os outros\r\n",
        "  for usuario_id in notas['usuario_id'].unique():\r\n",
        "    informacoes = distancia_de_usuarios(usuario_alvo_id,usuario_id)\r\n",
        "    distancias_para_outros_usuarios.append(informacoes)\r\n",
        "  distancias_para_outros_usuarios = pd.DataFrame(distancias_para_outros_usuarios,columns=['Usuario_alvo','Outro_usuario','Distancia'])\r\n",
        "  return distancias_para_outros_usuarios"
      ],
      "outputs": [],
      "metadata": {
        "id": "fhylHA8HO7Jc"
      }
    },
    {
      "cell_type": "code",
      "execution_count": 237,
      "source": [
        "distancia_de_todos(3)"
      ],
      "outputs": [
        {
          "output_type": "execute_result",
          "data": {
            "text/html": [
              "<div>\n",
              "<style scoped>\n",
              "    .dataframe tbody tr th:only-of-type {\n",
              "        vertical-align: middle;\n",
              "    }\n",
              "\n",
              "    .dataframe tbody tr th {\n",
              "        vertical-align: top;\n",
              "    }\n",
              "\n",
              "    .dataframe thead th {\n",
              "        text-align: right;\n",
              "    }\n",
              "</style>\n",
              "<table border=\"1\" class=\"dataframe\">\n",
              "  <thead>\n",
              "    <tr style=\"text-align: right;\">\n",
              "      <th></th>\n",
              "      <th>Usuario_alvo</th>\n",
              "      <th>Outro_usuario</th>\n",
              "      <th>Distancia</th>\n",
              "    </tr>\n",
              "  </thead>\n",
              "  <tbody>\n",
              "    <tr>\n",
              "      <th>0</th>\n",
              "      <td>3</td>\n",
              "      <td>1</td>\n",
              "      <td>8.200610</td>\n",
              "    </tr>\n",
              "    <tr>\n",
              "      <th>1</th>\n",
              "      <td>3</td>\n",
              "      <td>2</td>\n",
              "      <td>0.000000</td>\n",
              "    </tr>\n",
              "    <tr>\n",
              "      <th>2</th>\n",
              "      <td>3</td>\n",
              "      <td>3</td>\n",
              "      <td>0.000000</td>\n",
              "    </tr>\n",
              "    <tr>\n",
              "      <th>3</th>\n",
              "      <td>3</td>\n",
              "      <td>4</td>\n",
              "      <td>4.500000</td>\n",
              "    </tr>\n",
              "    <tr>\n",
              "      <th>4</th>\n",
              "      <td>3</td>\n",
              "      <td>5</td>\n",
              "      <td>4.500000</td>\n",
              "    </tr>\n",
              "    <tr>\n",
              "      <th>...</th>\n",
              "      <td>...</td>\n",
              "      <td>...</td>\n",
              "      <td>...</td>\n",
              "    </tr>\n",
              "    <tr>\n",
              "      <th>605</th>\n",
              "      <td>3</td>\n",
              "      <td>606</td>\n",
              "      <td>9.759611</td>\n",
              "    </tr>\n",
              "    <tr>\n",
              "      <th>606</th>\n",
              "      <td>3</td>\n",
              "      <td>607</td>\n",
              "      <td>6.062178</td>\n",
              "    </tr>\n",
              "    <tr>\n",
              "      <th>607</th>\n",
              "      <td>3</td>\n",
              "      <td>608</td>\n",
              "      <td>7.968689</td>\n",
              "    </tr>\n",
              "    <tr>\n",
              "      <th>608</th>\n",
              "      <td>3</td>\n",
              "      <td>609</td>\n",
              "      <td>0.000000</td>\n",
              "    </tr>\n",
              "    <tr>\n",
              "      <th>609</th>\n",
              "      <td>3</td>\n",
              "      <td>610</td>\n",
              "      <td>5.431390</td>\n",
              "    </tr>\n",
              "  </tbody>\n",
              "</table>\n",
              "<p>610 rows × 3 columns</p>\n",
              "</div>"
            ],
            "text/plain": [
              "     Usuario_alvo  Outro_usuario  Distancia\n",
              "0               3              1   8.200610\n",
              "1               3              2   0.000000\n",
              "2               3              3   0.000000\n",
              "3               3              4   4.500000\n",
              "4               3              5   4.500000\n",
              "..            ...            ...        ...\n",
              "605             3            606   9.759611\n",
              "606             3            607   6.062178\n",
              "607             3            608   7.968689\n",
              "608             3            609   0.000000\n",
              "609             3            610   5.431390\n",
              "\n",
              "[610 rows x 3 columns]"
            ]
          },
          "metadata": {},
          "execution_count": 237
        }
      ],
      "metadata": {
        "colab": {
          "base_uri": "https://localhost:8080/",
          "height": 424
        },
        "id": "96bTLPNmR235",
        "outputId": "3f62480e-a27d-4917-8c43-26cddd47075e"
      }
    },
    {
      "cell_type": "code",
      "execution_count": 238,
      "source": [
        "busca_notas_usuario(3)"
      ],
      "outputs": [
        {
          "output_type": "execute_result",
          "data": {
            "text/html": [
              "<div>\n",
              "<style scoped>\n",
              "    .dataframe tbody tr th:only-of-type {\n",
              "        vertical-align: middle;\n",
              "    }\n",
              "\n",
              "    .dataframe tbody tr th {\n",
              "        vertical-align: top;\n",
              "    }\n",
              "\n",
              "    .dataframe thead th {\n",
              "        text-align: right;\n",
              "    }\n",
              "</style>\n",
              "<table border=\"1\" class=\"dataframe\">\n",
              "  <thead>\n",
              "    <tr style=\"text-align: right;\">\n",
              "      <th></th>\n",
              "      <th>notas</th>\n",
              "    </tr>\n",
              "    <tr>\n",
              "      <th>filme_id</th>\n",
              "      <th></th>\n",
              "    </tr>\n",
              "  </thead>\n",
              "  <tbody>\n",
              "    <tr>\n",
              "      <th>31</th>\n",
              "      <td>0.5</td>\n",
              "    </tr>\n",
              "    <tr>\n",
              "      <th>527</th>\n",
              "      <td>0.5</td>\n",
              "    </tr>\n",
              "    <tr>\n",
              "      <th>647</th>\n",
              "      <td>0.5</td>\n",
              "    </tr>\n",
              "    <tr>\n",
              "      <th>688</th>\n",
              "      <td>0.5</td>\n",
              "    </tr>\n",
              "    <tr>\n",
              "      <th>720</th>\n",
              "      <td>0.5</td>\n",
              "    </tr>\n",
              "    <tr>\n",
              "      <th>849</th>\n",
              "      <td>5.0</td>\n",
              "    </tr>\n",
              "    <tr>\n",
              "      <th>914</th>\n",
              "      <td>0.5</td>\n",
              "    </tr>\n",
              "    <tr>\n",
              "      <th>1093</th>\n",
              "      <td>0.5</td>\n",
              "    </tr>\n",
              "    <tr>\n",
              "      <th>1124</th>\n",
              "      <td>0.5</td>\n",
              "    </tr>\n",
              "    <tr>\n",
              "      <th>1263</th>\n",
              "      <td>0.5</td>\n",
              "    </tr>\n",
              "    <tr>\n",
              "      <th>1272</th>\n",
              "      <td>0.5</td>\n",
              "    </tr>\n",
              "    <tr>\n",
              "      <th>1275</th>\n",
              "      <td>3.5</td>\n",
              "    </tr>\n",
              "    <tr>\n",
              "      <th>1302</th>\n",
              "      <td>0.5</td>\n",
              "    </tr>\n",
              "    <tr>\n",
              "      <th>1371</th>\n",
              "      <td>3.0</td>\n",
              "    </tr>\n",
              "    <tr>\n",
              "      <th>1587</th>\n",
              "      <td>4.5</td>\n",
              "    </tr>\n",
              "    <tr>\n",
              "      <th>2018</th>\n",
              "      <td>0.5</td>\n",
              "    </tr>\n",
              "    <tr>\n",
              "      <th>2080</th>\n",
              "      <td>0.5</td>\n",
              "    </tr>\n",
              "    <tr>\n",
              "      <th>2090</th>\n",
              "      <td>0.5</td>\n",
              "    </tr>\n",
              "    <tr>\n",
              "      <th>2105</th>\n",
              "      <td>2.0</td>\n",
              "    </tr>\n",
              "    <tr>\n",
              "      <th>2288</th>\n",
              "      <td>4.0</td>\n",
              "    </tr>\n",
              "    <tr>\n",
              "      <th>2424</th>\n",
              "      <td>0.5</td>\n",
              "    </tr>\n",
              "    <tr>\n",
              "      <th>2851</th>\n",
              "      <td>5.0</td>\n",
              "    </tr>\n",
              "    <tr>\n",
              "      <th>3024</th>\n",
              "      <td>4.5</td>\n",
              "    </tr>\n",
              "    <tr>\n",
              "      <th>3210</th>\n",
              "      <td>0.5</td>\n",
              "    </tr>\n",
              "    <tr>\n",
              "      <th>3703</th>\n",
              "      <td>5.0</td>\n",
              "    </tr>\n",
              "    <tr>\n",
              "      <th>3949</th>\n",
              "      <td>0.5</td>\n",
              "    </tr>\n",
              "    <tr>\n",
              "      <th>4518</th>\n",
              "      <td>5.0</td>\n",
              "    </tr>\n",
              "    <tr>\n",
              "      <th>5048</th>\n",
              "      <td>0.5</td>\n",
              "    </tr>\n",
              "    <tr>\n",
              "      <th>5181</th>\n",
              "      <td>5.0</td>\n",
              "    </tr>\n",
              "    <tr>\n",
              "      <th>5746</th>\n",
              "      <td>5.0</td>\n",
              "    </tr>\n",
              "    <tr>\n",
              "      <th>5764</th>\n",
              "      <td>4.5</td>\n",
              "    </tr>\n",
              "    <tr>\n",
              "      <th>5919</th>\n",
              "      <td>5.0</td>\n",
              "    </tr>\n",
              "    <tr>\n",
              "      <th>6238</th>\n",
              "      <td>0.5</td>\n",
              "    </tr>\n",
              "    <tr>\n",
              "      <th>6835</th>\n",
              "      <td>5.0</td>\n",
              "    </tr>\n",
              "    <tr>\n",
              "      <th>7899</th>\n",
              "      <td>4.5</td>\n",
              "    </tr>\n",
              "    <tr>\n",
              "      <th>7991</th>\n",
              "      <td>5.0</td>\n",
              "    </tr>\n",
              "    <tr>\n",
              "      <th>26409</th>\n",
              "      <td>4.5</td>\n",
              "    </tr>\n",
              "    <tr>\n",
              "      <th>70946</th>\n",
              "      <td>5.0</td>\n",
              "    </tr>\n",
              "    <tr>\n",
              "      <th>72378</th>\n",
              "      <td>0.5</td>\n",
              "    </tr>\n",
              "  </tbody>\n",
              "</table>\n",
              "</div>"
            ],
            "text/plain": [
              "          notas\n",
              "filme_id       \n",
              "31          0.5\n",
              "527         0.5\n",
              "647         0.5\n",
              "688         0.5\n",
              "720         0.5\n",
              "849         5.0\n",
              "914         0.5\n",
              "1093        0.5\n",
              "1124        0.5\n",
              "1263        0.5\n",
              "1272        0.5\n",
              "1275        3.5\n",
              "1302        0.5\n",
              "1371        3.0\n",
              "1587        4.5\n",
              "2018        0.5\n",
              "2080        0.5\n",
              "2090        0.5\n",
              "2105        2.0\n",
              "2288        4.0\n",
              "2424        0.5\n",
              "2851        5.0\n",
              "3024        4.5\n",
              "3210        0.5\n",
              "3703        5.0\n",
              "3949        0.5\n",
              "4518        5.0\n",
              "5048        0.5\n",
              "5181        5.0\n",
              "5746        5.0\n",
              "5764        4.5\n",
              "5919        5.0\n",
              "6238        0.5\n",
              "6835        5.0\n",
              "7899        4.5\n",
              "7991        5.0\n",
              "26409       4.5\n",
              "70946       5.0\n",
              "72378       0.5"
            ]
          },
          "metadata": {},
          "execution_count": 238
        }
      ],
      "metadata": {
        "colab": {
          "base_uri": "https://localhost:8080/",
          "height": 1000
        },
        "id": "ru1BKywHUR_u",
        "outputId": "7ffe5f83-8fc4-4bd3-94b4-8dbe7e981a5a"
      }
    },
    {
      "cell_type": "code",
      "execution_count": 239,
      "source": [
        "def compara_usuarios(usuariox,usuarioy):\r\n",
        "  comparacao = busca_notas_usuario(usuariox).join(busca_notas_usuario(usuarioy),lsuffix=\"_alvo\",rsuffix=\"_outro\").dropna()\r\n",
        "  return comparacao"
      ],
      "outputs": [],
      "metadata": {
        "id": "VouULN6fUsns"
      }
    },
    {
      "cell_type": "code",
      "execution_count": 240,
      "source": [
        "compara_usuarios(3,2)"
      ],
      "outputs": [
        {
          "output_type": "execute_result",
          "data": {
            "text/html": [
              "<div>\n",
              "<style scoped>\n",
              "    .dataframe tbody tr th:only-of-type {\n",
              "        vertical-align: middle;\n",
              "    }\n",
              "\n",
              "    .dataframe tbody tr th {\n",
              "        vertical-align: top;\n",
              "    }\n",
              "\n",
              "    .dataframe thead th {\n",
              "        text-align: right;\n",
              "    }\n",
              "</style>\n",
              "<table border=\"1\" class=\"dataframe\">\n",
              "  <thead>\n",
              "    <tr style=\"text-align: right;\">\n",
              "      <th></th>\n",
              "      <th>notas_alvo</th>\n",
              "      <th>notas_outro</th>\n",
              "    </tr>\n",
              "    <tr>\n",
              "      <th>filme_id</th>\n",
              "      <th></th>\n",
              "      <th></th>\n",
              "    </tr>\n",
              "  </thead>\n",
              "  <tbody>\n",
              "  </tbody>\n",
              "</table>\n",
              "</div>"
            ],
            "text/plain": [
              "Empty DataFrame\n",
              "Columns: [notas_alvo, notas_outro]\n",
              "Index: []"
            ]
          },
          "metadata": {},
          "execution_count": 240
        }
      ],
      "metadata": {
        "colab": {
          "base_uri": "https://localhost:8080/",
          "height": 81
        },
        "id": "XGxaFM3HVVTx",
        "outputId": "2b226378-8cfb-4d45-96ac-d7d26a0ceaa3"
      }
    },
    {
      "cell_type": "code",
      "execution_count": 241,
      "source": [
        "def menu():\r\n",
        "    opcao = False\r\n",
        "    while opcao == False:\r\n",
        "        print(\"\\nEscolha o número da opção: \")\r\n",
        "        print(\"\\n(1) Notas do usuário alvo\")\r\n",
        "        print(\"\\n(2) Distância entre dois usuários\")\r\n",
        "        print(\"\\n(3) Distância de todos usuários\")\r\n",
        "        print(\"\\n(4) Compara dois usuários\")\r\n",
        "        opcao_escolhida = input(\"\\nA opcão escolhida foi =>\\n\")\r\n",
        "        try:\r\n",
        "            opcao_escolhida = int(opcao_escolhida)\r\n",
        "            if (opcao_escolhida < 1) or (opcao_escolhida > 4):\r\n",
        "                print('\\nO número não se encontra entre 1 e 4')\r\n",
        "            else:\r\n",
        "                opcao = True\r\n",
        "        except:\r\n",
        "            print(\"\\nDigite um número de 1 a 4\")\r\n",
        "    return(opcao_escolhida)\r\n",
        "\r\n",
        "continuar = 'S'\r\n",
        "while continuar.upper() != 'N':\r\n",
        "    opcao_escolhida = menu()\r\n",
        "    if opcao_escolhida == 1:\r\n",
        "        usuario_escolhido = int(input('\\nDigite o código do usuário\\n'))\r\n",
        "        usuario_x = busca_notas_usuario(usuario_escolhido)\r\n",
        "        print(usuario_x.head(5))\r\n",
        "    elif opcao_escolhida == 2:\r\n",
        "        usuario_escolhido_1 = int(input('Digite o código do primeiro usuário\\n'))\r\n",
        "        usuario_escolhido_2 = int(input('Digite o código do segundo usuário\\n'))\r\n",
        "        distancia_de_usuarios = distancia_de_usuarios(usuario_escolhido_1,usuario_escolhido_2)\r\n",
        "        print(distancia_de_usuarios)\r\n",
        "    elif opcao_escolhida == 3:\r\n",
        "        usuario_escolhido = int(input('\\nDigite o código do usuário\\n'))\r\n",
        "        usuario_x = distancia_de_todos(usuario_escolhido)\r\n",
        "        print(usuario_x)\r\n",
        "    else:\r\n",
        "        usuario_escolhido_1 = int(input('\\nDigite o código do primeiro usuário\\n'))\r\n",
        "        usuario_escolhido_2 = int(input('\\nDigite o código do segundo usuário\\n'))\r\n",
        "        compara_usuarios = compara_usuarios(usuario_escolhido_1,usuario_escolhido_2)\r\n",
        "        print(compara_usuarios)\r\n",
        "\r\n",
        "    continuar = input(\"\\nDeseja realizar outra consulta? (S|N)\\n\")\r\n",
        "\r\n",
        "print(\"Fim\")"
      ],
      "outputs": [
        {
          "output_type": "stream",
          "name": "stdout",
          "text": [
            "\n",
            "Escolha o número da opção: \n",
            "\n",
            "(1) Notas do usuário alvo\n",
            "\n",
            "(2) Distância entre dois usuários\n",
            "\n",
            "(3) Distância de todos usuários\n",
            "\n",
            "(4) Compara dois usuários\n",
            "          notas\n",
            "filme_id       \n",
            "1           4.0\n",
            "3           4.0\n",
            "6           4.0\n",
            "47          5.0\n",
            "50          5.0\n",
            "\n",
            "Escolha o número da opção: \n",
            "\n",
            "(1) Notas do usuário alvo\n",
            "\n",
            "(2) Distância entre dois usuários\n",
            "\n",
            "(3) Distância de todos usuários\n",
            "\n",
            "(4) Compara dois usuários\n",
            "[1, 2, 1.4142135623730951]\n",
            "Fim\n"
          ]
        }
      ],
      "metadata": {}
    }
  ]
}