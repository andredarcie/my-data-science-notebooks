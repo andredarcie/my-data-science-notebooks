{
  "cells": [
    {
      "cell_type": "markdown",
      "metadata": {
        "id": "UQdS6BuL-xsX"
      },
      "source": [
        "#Sistemas de Recomendação - 16/10/2021\n",
        "\n",
        "\n",
        "\n",
        "1.   Salvar e carregar modelo de dados treinado;\n",
        "2.   Inclusões de novas avaliações no arquivo de notas;\n",
        "3. Modulando funções;\n",
        "4. Comportamento das recomendações após novas avaliações;\n",
        "5. Gerando e analisando arquivo XML com as predições;\n",
        "6. Espaço para realização dos trabalhos.\n",
        "\n"
      ]
    },
    {
      "cell_type": "code",
      "execution_count": 1,
      "metadata": {
        "colab": {
          "base_uri": "https://localhost:8080/"
        },
        "id": "Pl9XOdIABd8K",
        "outputId": "6c2b82d5-816a-4ceb-d37e-d1063108839a"
      },
      "outputs": [
        {
          "name": "stdout",
          "output_type": "stream",
          "text": [
            "Requirement already satisfied: surprise in c:\\python38\\lib\\site-packages (0.1)\n",
            "Requirement already satisfied: scikit-surprise in c:\\python38\\lib\\site-packages (from surprise) (1.1.1)\n",
            "Requirement already satisfied: numpy>=1.11.2 in c:\\python38\\lib\\site-packages (from scikit-surprise->surprise) (1.19.5)\n",
            "Requirement already satisfied: six>=1.10.0 in c:\\python38\\lib\\site-packages (from scikit-surprise->surprise) (1.16.0)\n",
            "Requirement already satisfied: scipy>=1.0.0 in c:\\python38\\lib\\site-packages (from scikit-surprise->surprise) (1.6.1)\n",
            "Requirement already satisfied: joblib>=0.11 in c:\\python38\\lib\\site-packages (from scikit-surprise->surprise) (1.0.1)\n"
          ]
        },
        {
          "name": "stderr",
          "output_type": "stream",
          "text": [
            "WARNING: You are using pip version 20.2.2; however, version 21.3.1 is available.\n",
            "You should consider upgrading via the 'c:\\python38\\python.exe -m pip install --upgrade pip' command.\n"
          ]
        }
      ],
      "source": [
        "#instalando a lib surprise\n",
        "!pip install surprise"
      ]
    },
    {
      "cell_type": "code",
      "execution_count": 2,
      "metadata": {
        "id": "twwlcIsZQPrA"
      },
      "outputs": [],
      "source": [
        "import pandas as pd\n",
        "\n",
        "\n",
        "filmes = pd.read_csv('movies.csv')\n",
        "notas = pd.read_csv('ratings.csv')\n",
        "notas.columns = ['id_usuario','id_filme','nota_usuario_filme','dia_avaliacao']\n",
        "filmes.columns = ['id_filme','titulo','genero']\n"
      ]
    },
    {
      "cell_type": "markdown",
      "metadata": {
        "id": "RCTa33fb_44C"
      },
      "source": [
        "#Buscando filmes assistidos e não assistidos de um usuário"
      ]
    },
    {
      "cell_type": "code",
      "execution_count": 3,
      "metadata": {
        "colab": {
          "base_uri": "https://localhost:8080/",
          "height": 237
        },
        "id": "6l5QfHyrQpJN",
        "outputId": "44af3d48-e292-40d7-dd64-f49f116d5d2e"
      },
      "outputs": [
        {
          "data": {
            "text/html": [
              "<div>\n",
              "<style scoped>\n",
              "    .dataframe tbody tr th:only-of-type {\n",
              "        vertical-align: middle;\n",
              "    }\n",
              "\n",
              "    .dataframe tbody tr th {\n",
              "        vertical-align: top;\n",
              "    }\n",
              "\n",
              "    .dataframe thead th {\n",
              "        text-align: right;\n",
              "    }\n",
              "</style>\n",
              "<table border=\"1\" class=\"dataframe\">\n",
              "  <thead>\n",
              "    <tr style=\"text-align: right;\">\n",
              "      <th></th>\n",
              "      <th>titulo</th>\n",
              "      <th>genero</th>\n",
              "    </tr>\n",
              "    <tr>\n",
              "      <th>id_filme</th>\n",
              "      <th></th>\n",
              "      <th></th>\n",
              "    </tr>\n",
              "  </thead>\n",
              "  <tbody>\n",
              "    <tr>\n",
              "      <th>2</th>\n",
              "      <td>Jumanji (1995)</td>\n",
              "      <td>Adventure|Children|Fantasy</td>\n",
              "    </tr>\n",
              "    <tr>\n",
              "      <th>4</th>\n",
              "      <td>Waiting to Exhale (1995)</td>\n",
              "      <td>Comedy|Drama|Romance</td>\n",
              "    </tr>\n",
              "    <tr>\n",
              "      <th>5</th>\n",
              "      <td>Father of the Bride Part II (1995)</td>\n",
              "      <td>Comedy</td>\n",
              "    </tr>\n",
              "    <tr>\n",
              "      <th>7</th>\n",
              "      <td>Sabrina (1995)</td>\n",
              "      <td>Comedy|Romance</td>\n",
              "    </tr>\n",
              "    <tr>\n",
              "      <th>8</th>\n",
              "      <td>Tom and Huck (1995)</td>\n",
              "      <td>Adventure|Children</td>\n",
              "    </tr>\n",
              "  </tbody>\n",
              "</table>\n",
              "</div>"
            ],
            "text/plain": [
              "                                      titulo                      genero\n",
              "id_filme                                                                \n",
              "2                             Jumanji (1995)  Adventure|Children|Fantasy\n",
              "4                   Waiting to Exhale (1995)        Comedy|Drama|Romance\n",
              "5         Father of the Bride Part II (1995)                      Comedy\n",
              "7                             Sabrina (1995)              Comedy|Romance\n",
              "8                        Tom and Huck (1995)          Adventure|Children"
            ]
          },
          "execution_count": 3,
          "metadata": {},
          "output_type": "execute_result"
        }
      ],
      "source": [
        "filmes_assistidos = notas.query('id_usuario == 1')\n",
        "filmes_nao_assistidos = filmes.set_index('id_filme').drop(filmes_assistidos.set_index('id_filme').index,errors='ignore')\n",
        "filmes_nao_assistidos.head(5)"
      ]
    },
    {
      "cell_type": "code",
      "execution_count": 4,
      "metadata": {
        "colab": {
          "base_uri": "https://localhost:8080/",
          "height": 49
        },
        "id": "6Tl3LK8KUJPP",
        "outputId": "e88ca973-ccdd-49b7-b2f5-791920ed157f"
      },
      "outputs": [
        {
          "data": {
            "text/html": [
              "<div>\n",
              "<style scoped>\n",
              "    .dataframe tbody tr th:only-of-type {\n",
              "        vertical-align: middle;\n",
              "    }\n",
              "\n",
              "    .dataframe tbody tr th {\n",
              "        vertical-align: top;\n",
              "    }\n",
              "\n",
              "    .dataframe thead th {\n",
              "        text-align: right;\n",
              "    }\n",
              "</style>\n",
              "<table border=\"1\" class=\"dataframe\">\n",
              "  <thead>\n",
              "    <tr style=\"text-align: right;\">\n",
              "      <th></th>\n",
              "      <th>id_usuario</th>\n",
              "      <th>id_filme</th>\n",
              "      <th>nota_usuario_filme</th>\n",
              "      <th>dia_avaliacao</th>\n",
              "    </tr>\n",
              "  </thead>\n",
              "  <tbody>\n",
              "  </tbody>\n",
              "</table>\n",
              "</div>"
            ],
            "text/plain": [
              "Empty DataFrame\n",
              "Columns: [id_usuario, id_filme, nota_usuario_filme, dia_avaliacao]\n",
              "Index: []"
            ]
          },
          "execution_count": 4,
          "metadata": {},
          "output_type": "execute_result"
        }
      ],
      "source": [
        "#conferindo os filmes não assistidos\n",
        "#ele compara o id do usuário e o id do filme e se não retornar nada, é porque está correto.\n",
        "filmes_assistidos = notas.query('id_usuario == 584 and id_filme == 1237')\n",
        "filmes_assistidos"
      ]
    },
    {
      "cell_type": "markdown",
      "metadata": {
        "id": "ukGZ8dP6_c8V"
      },
      "source": [
        "#Criando, treinando, salvando e carregando modelo"
      ]
    },
    {
      "cell_type": "code",
      "execution_count": 5,
      "metadata": {
        "id": "0OONB_UlVzso"
      },
      "outputs": [],
      "source": [
        "import surprise\n",
        "from surprise import Reader\n",
        "from surprise import Dataset\n",
        "from surprise.model_selection import train_test_split \n",
        "import pickle"
      ]
    },
    {
      "cell_type": "code",
      "execution_count": 6,
      "metadata": {
        "id": "ogFe1ttABeb5"
      },
      "outputs": [],
      "source": [
        "#reader = escala das notas, a estrutura da linha de entrada de dados -> id_u id_i avaliacao\n",
        "reader = Reader(line_format='user item rating',rating_scale=(0.0,5.0))"
      ]
    },
    {
      "cell_type": "code",
      "execution_count": 7,
      "metadata": {
        "colab": {
          "base_uri": "https://localhost:8080/"
        },
        "id": "nEei-VAxWbY3",
        "outputId": "caee80eb-36e6-49ce-eea6-699c4d04dcbd"
      },
      "outputs": [],
      "source": [
        "#preparando os dados para a lib surprise, que deve ter somente as colunas id do usuario, id do filme e a nota\n",
        "dados_surprise = notas[['id_usuario','id_filme','nota_usuario_filme']]\n",
        "dados_preparados_treinamento = surprise.Dataset.load_from_df(dados_surprise,reader)"
      ]
    },
    {
      "cell_type": "code",
      "execution_count": 8,
      "metadata": {
        "id": "-Py_W5KNX-dC"
      },
      "outputs": [],
      "source": [
        "#temos os dados preparados em formato objeto surprise\n",
        "#criando o modelo SVD\n",
        "algo = surprise.SVDpp()"
      ]
    },
    {
      "cell_type": "code",
      "execution_count": 9,
      "metadata": {
        "id": "dxgK4HMHYm76"
      },
      "outputs": [],
      "source": [
        "trainset, testset = train_test_split(dados_preparados_treinamento)"
      ]
    },
    {
      "cell_type": "code",
      "execution_count": 10,
      "metadata": {
        "colab": {
          "base_uri": "https://localhost:8080/"
        },
        "id": "0oETnvr7ZZ5a",
        "outputId": "e807a2c6-df47-4e74-96f1-9a86cd9d5ce3"
      },
      "outputs": [
        {
          "data": {
            "text/plain": [
              "<surprise.prediction_algorithms.matrix_factorization.SVDpp at 0x163fab530d0>"
            ]
          },
          "execution_count": 10,
          "metadata": {},
          "output_type": "execute_result"
        }
      ],
      "source": [
        "#para realizar o treinamento utiliza-se o algo.fit()\n",
        "algo.fit(trainset)"
      ]
    },
    {
      "cell_type": "code",
      "execution_count": 11,
      "metadata": {
        "id": "NY82VRmBafu3"
      },
      "outputs": [],
      "source": [
        "pickle.dump(algo,open('treinado.pkl','wb'))"
      ]
    },
    {
      "cell_type": "code",
      "execution_count": 12,
      "metadata": {
        "colab": {
          "base_uri": "https://localhost:8080/"
        },
        "id": "-wUr3vxneCbp",
        "outputId": "f627f0b8-ad0a-4e39-b798-1cf3e8d2eb2c"
      },
      "outputs": [
        {
          "name": "stdout",
          "output_type": "stream",
          "text": [
            "Predições dos filmes não assistidos do usuário 1\n"
          ]
        }
      ],
      "source": [
        "print('Predições dos filmes não assistidos do usuário 1')\n",
        "dic=[]\n",
        "#vamos pegar todos os filmes não assistidos, calcular a predição e salvar no dicionario\n",
        "filmes_nao_assistidos = filmes_nao_assistidos.reset_index()\n",
        "for index, row in filmes_nao_assistidos.iterrows():\n",
        "  dic.append(algo.predict(1,row['id_filme']))\n",
        "  "
      ]
    },
    {
      "cell_type": "code",
      "execution_count": 13,
      "metadata": {
        "id": "RPP0p301gqwU"
      },
      "outputs": [],
      "source": [
        "predicoes = pd.DataFrame.from_dict(dic)"
      ]
    },
    {
      "cell_type": "code",
      "execution_count": 14,
      "metadata": {
        "id": "aM0WosF1fbXf"
      },
      "outputs": [],
      "source": [
        "predicoes.columns = ['id_usuario','id_filme','ref','predicao','destalhes']"
      ]
    },
    {
      "cell_type": "code",
      "execution_count": 15,
      "metadata": {
        "id": "cvrqzCK-hUns"
      },
      "outputs": [],
      "source": [
        "recomendacoes = pd.merge(predicoes,filmes,how='inner',on='id_filme').sort_values('predicao',ascending=False)[['id_filme','titulo','predicao']]"
      ]
    },
    {
      "cell_type": "code",
      "execution_count": 16,
      "metadata": {
        "id": "groxoMi8iORe"
      },
      "outputs": [],
      "source": [
        "#recomendacoes.head(50)"
      ]
    },
    {
      "cell_type": "markdown",
      "metadata": {
        "id": "tqSWcixNAGLz"
      },
      "source": [
        "#Modulando funções para buscar filmes assistidos e não assistidos pelo id_filme"
      ]
    },
    {
      "cell_type": "code",
      "execution_count": 17,
      "metadata": {
        "id": "aDwodJugBfGw"
      },
      "outputs": [],
      "source": [
        "def busca_filmes_assistidos(id_usuario):\n",
        "  print('Filmes assistidos do usuário %d' % id_usuario)\n",
        "  filmes_assistidos = notas.query('id_usuario == %d' % id_usuario)\n",
        "  return filmes_assistidos"
      ]
    },
    {
      "cell_type": "code",
      "execution_count": 18,
      "metadata": {
        "id": "VgVcsjlWk7As"
      },
      "outputs": [],
      "source": [
        "def busca_filmes_nao_assistidos(id_usuario):\n",
        "  filmes_assistidos = notas.query('id_usuario == %d' % id_usuario)\n",
        "  id_filmes_assistidos = filmes_assistidos.set_index('id_filme').index\n",
        "  filmes_nao_assistidos = filmes.set_index('id_filme').drop(id_filmes_assistidos,errors='ignore').reset_index()\n",
        "  return filmes_nao_assistidos\n"
      ]
    },
    {
      "cell_type": "code",
      "execution_count": 19,
      "metadata": {
        "id": "uxOU-mzMlutY"
      },
      "outputs": [],
      "source": [
        "def verifica_predicoes_filmes_nao_assistidos(id_usuario):\n",
        "  print('Predicoes do usuário %d' % id_usuario)\n",
        "  dic=[]\n",
        "  #vamos pegar todos os filmes não assistidos, calcular a predição e salvar no dicionario\n",
        "  filmes_predicoes = busca_filmes_nao_assistidos(id_usuario)\n",
        "  for index, row in filmes_predicoes.iterrows():\n",
        "    dic.append(algo.predict(id_usuario,row['id_filme']))\n",
        "  return pd.DataFrame.from_dict(dic)"
      ]
    },
    {
      "cell_type": "markdown",
      "metadata": {
        "id": "MywoeblcAN8c"
      },
      "source": [
        "#Realizando predições"
      ]
    },
    {
      "cell_type": "code",
      "execution_count": 20,
      "metadata": {
        "id": "I46MRxOpBfsR"
      },
      "outputs": [],
      "source": [
        "def apresenta_recomendacoes(id_usuario,numero_de_recomendacoes=10):\n",
        "  filmes_assistidos = notas.query(\"id_usuario == %d \" % id_usuario)\n",
        "  if filmes_assistidos.empty:\n",
        "    print(\"****O usuário com id %d ainda não avaliou nenhum filme****\" % id_usuario)\n",
        "    print(\"****Serão recomendados os filmes mais populares****\")\n",
        "    total_de_votos = notas['id_filme'].value_counts()\n",
        "    filmes_backup = filmes.copy()\n",
        "    filmes_backup['total_de_votos'] = total_de_votos\n",
        "    notas_medias = notas.groupby('id_filme').mean()['nota_usuario_filme']\n",
        "    filmes_backup['notas_medias'] = notas_medias\n",
        "    return filmes_backup.sort_values('total_de_votos',ascending=False).head(numero_de_recomendacoes)\n",
        "\n",
        "  predicoes = verifica_predicoes_filmes_nao_assistidos(id_usuario)\n",
        "  predicoes.columns = ['id_usuario','id_filme','ref','predicao','destalhes']\n",
        "  recomendacoes = pd.merge(predicoes,filmes,how='inner',on='id_filme').sort_values('predicao',ascending=False)[['id_filme','titulo','predicao']]\n",
        "  return recomendacoes.head(numero_de_recomendacoes)"
      ]
    },
    {
      "cell_type": "code",
      "execution_count": 21,
      "metadata": {
        "colab": {
          "base_uri": "https://localhost:8080/",
          "height": 243
        },
        "id": "WtQZe94-TKVS",
        "outputId": "17d60213-42ed-4da0-f5a6-2ba6a57caf2d"
      },
      "outputs": [
        {
          "name": "stdout",
          "output_type": "stream",
          "text": [
            "****O usuário com id 950 ainda não avaliou nenhum filme****\n",
            "****Serão recomendados os filmes mais populares****\n"
          ]
        },
        {
          "data": {
            "text/html": [
              "<div>\n",
              "<style scoped>\n",
              "    .dataframe tbody tr th:only-of-type {\n",
              "        vertical-align: middle;\n",
              "    }\n",
              "\n",
              "    .dataframe tbody tr th {\n",
              "        vertical-align: top;\n",
              "    }\n",
              "\n",
              "    .dataframe thead th {\n",
              "        text-align: right;\n",
              "    }\n",
              "</style>\n",
              "<table border=\"1\" class=\"dataframe\">\n",
              "  <thead>\n",
              "    <tr style=\"text-align: right;\">\n",
              "      <th></th>\n",
              "      <th>id_filme</th>\n",
              "      <th>titulo</th>\n",
              "      <th>genero</th>\n",
              "      <th>total_de_votos</th>\n",
              "      <th>notas_medias</th>\n",
              "    </tr>\n",
              "  </thead>\n",
              "  <tbody>\n",
              "    <tr>\n",
              "      <th>356</th>\n",
              "      <td>412</td>\n",
              "      <td>Age of Innocence, The (1993)</td>\n",
              "      <td>Drama</td>\n",
              "      <td>329.0</td>\n",
              "      <td>4.164134</td>\n",
              "    </tr>\n",
              "    <tr>\n",
              "      <th>318</th>\n",
              "      <td>360</td>\n",
              "      <td>I Love Trouble (1994)</td>\n",
              "      <td>Action|Comedy</td>\n",
              "      <td>317.0</td>\n",
              "      <td>4.429022</td>\n",
              "    </tr>\n",
              "    <tr>\n",
              "      <th>296</th>\n",
              "      <td>338</td>\n",
              "      <td>Virtuosity (1995)</td>\n",
              "      <td>Action|Sci-Fi|Thriller</td>\n",
              "      <td>307.0</td>\n",
              "      <td>4.197068</td>\n",
              "    </tr>\n",
              "    <tr>\n",
              "      <th>593</th>\n",
              "      <td>735</td>\n",
              "      <td>Cemetery Man (Dellamorte Dellamore) (1994)</td>\n",
              "      <td>Horror</td>\n",
              "      <td>279.0</td>\n",
              "      <td>4.161290</td>\n",
              "    </tr>\n",
              "    <tr>\n",
              "      <th>2571</th>\n",
              "      <td>3439</td>\n",
              "      <td>Teenage Mutant Ninja Turtles II: The Secret of...</td>\n",
              "      <td>Action|Children|Fantasy</td>\n",
              "      <td>278.0</td>\n",
              "      <td>4.192446</td>\n",
              "    </tr>\n",
              "  </tbody>\n",
              "</table>\n",
              "</div>"
            ],
            "text/plain": [
              "      id_filme                                             titulo  \\\n",
              "356        412                       Age of Innocence, The (1993)   \n",
              "318        360                              I Love Trouble (1994)   \n",
              "296        338                                  Virtuosity (1995)   \n",
              "593        735         Cemetery Man (Dellamorte Dellamore) (1994)   \n",
              "2571      3439  Teenage Mutant Ninja Turtles II: The Secret of...   \n",
              "\n",
              "                       genero  total_de_votos  notas_medias  \n",
              "356                     Drama           329.0      4.164134  \n",
              "318             Action|Comedy           317.0      4.429022  \n",
              "296    Action|Sci-Fi|Thriller           307.0      4.197068  \n",
              "593                    Horror           279.0      4.161290  \n",
              "2571  Action|Children|Fantasy           278.0      4.192446  "
            ]
          },
          "execution_count": 21,
          "metadata": {},
          "output_type": "execute_result"
        }
      ],
      "source": [
        "apresenta_recomendacoes(950,5)"
      ]
    },
    {
      "cell_type": "code",
      "execution_count": 22,
      "metadata": {
        "colab": {
          "base_uri": "https://localhost:8080/",
          "height": 381
        },
        "id": "g6QYa1HGoyXM",
        "outputId": "dba9a86c-7744-4d7b-a029-8d6f7da4fbc6"
      },
      "outputs": [
        {
          "name": "stdout",
          "output_type": "stream",
          "text": [
            "Predicoes do usuário 584\n"
          ]
        },
        {
          "data": {
            "text/html": [
              "<div>\n",
              "<style scoped>\n",
              "    .dataframe tbody tr th:only-of-type {\n",
              "        vertical-align: middle;\n",
              "    }\n",
              "\n",
              "    .dataframe tbody tr th {\n",
              "        vertical-align: top;\n",
              "    }\n",
              "\n",
              "    .dataframe thead th {\n",
              "        text-align: right;\n",
              "    }\n",
              "</style>\n",
              "<table border=\"1\" class=\"dataframe\">\n",
              "  <thead>\n",
              "    <tr style=\"text-align: right;\">\n",
              "      <th></th>\n",
              "      <th>id_filme</th>\n",
              "      <th>titulo</th>\n",
              "      <th>predicao</th>\n",
              "    </tr>\n",
              "  </thead>\n",
              "  <tbody>\n",
              "    <tr>\n",
              "      <th>5802</th>\n",
              "      <td>33166</td>\n",
              "      <td>Crash (2004)</td>\n",
              "      <td>5.0</td>\n",
              "    </tr>\n",
              "    <tr>\n",
              "      <th>7685</th>\n",
              "      <td>91529</td>\n",
              "      <td>Dark Knight Rises, The (2012)</td>\n",
              "      <td>5.0</td>\n",
              "    </tr>\n",
              "    <tr>\n",
              "      <th>878</th>\n",
              "      <td>1262</td>\n",
              "      <td>Great Escape, The (1963)</td>\n",
              "      <td>5.0</td>\n",
              "    </tr>\n",
              "    <tr>\n",
              "      <th>231</th>\n",
              "      <td>318</td>\n",
              "      <td>Shawshank Redemption, The (1994)</td>\n",
              "      <td>5.0</td>\n",
              "    </tr>\n",
              "    <tr>\n",
              "      <th>976</th>\n",
              "      <td>1376</td>\n",
              "      <td>Star Trek IV: The Voyage Home (1986)</td>\n",
              "      <td>5.0</td>\n",
              "    </tr>\n",
              "    <tr>\n",
              "      <th>3111</th>\n",
              "      <td>4306</td>\n",
              "      <td>Shrek (2001)</td>\n",
              "      <td>5.0</td>\n",
              "    </tr>\n",
              "    <tr>\n",
              "      <th>4344</th>\n",
              "      <td>6539</td>\n",
              "      <td>Pirates of the Caribbean: The Curse of the Bla...</td>\n",
              "      <td>5.0</td>\n",
              "    </tr>\n",
              "    <tr>\n",
              "      <th>974</th>\n",
              "      <td>1374</td>\n",
              "      <td>Star Trek II: The Wrath of Khan (1982)</td>\n",
              "      <td>5.0</td>\n",
              "    </tr>\n",
              "    <tr>\n",
              "      <th>5083</th>\n",
              "      <td>8368</td>\n",
              "      <td>Harry Potter and the Prisoner of Azkaban (2004)</td>\n",
              "      <td>5.0</td>\n",
              "    </tr>\n",
              "    <tr>\n",
              "      <th>46</th>\n",
              "      <td>62</td>\n",
              "      <td>Mr. Holland's Opus (1995)</td>\n",
              "      <td>5.0</td>\n",
              "    </tr>\n",
              "  </tbody>\n",
              "</table>\n",
              "</div>"
            ],
            "text/plain": [
              "      id_filme                                             titulo  predicao\n",
              "5802     33166                                       Crash (2004)       5.0\n",
              "7685     91529                      Dark Knight Rises, The (2012)       5.0\n",
              "878       1262                           Great Escape, The (1963)       5.0\n",
              "231        318                   Shawshank Redemption, The (1994)       5.0\n",
              "976       1376               Star Trek IV: The Voyage Home (1986)       5.0\n",
              "3111      4306                                       Shrek (2001)       5.0\n",
              "4344      6539  Pirates of the Caribbean: The Curse of the Bla...       5.0\n",
              "974       1374             Star Trek II: The Wrath of Khan (1982)       5.0\n",
              "5083      8368    Harry Potter and the Prisoner of Azkaban (2004)       5.0\n",
              "46          62                          Mr. Holland's Opus (1995)       5.0"
            ]
          },
          "execution_count": 22,
          "metadata": {},
          "output_type": "execute_result"
        }
      ],
      "source": [
        "apresenta_recomendacoes(584)"
      ]
    },
    {
      "cell_type": "markdown",
      "metadata": {
        "id": "ngbIQ5e6AUkD"
      },
      "source": [
        "#Inserindo dados no arquivo CSV"
      ]
    },
    {
      "cell_type": "code",
      "execution_count": 23,
      "metadata": {
        "id": "XxGLM61HBgGk"
      },
      "outputs": [],
      "source": [
        "#CSV\n",
        "import csv"
      ]
    },
    {
      "cell_type": "code",
      "execution_count": 24,
      "metadata": {
        "id": "WpDr9zhIqTYk"
      },
      "outputs": [],
      "source": [
        "with open('ratings.csv','a') as arquivo_csv:\n",
        "  escrever = csv.writer(arquivo_csv,delimiter=',',lineterminator='\\n')\n",
        "  escrever.writerow([584,1223,5.0])"
      ]
    },
    {
      "cell_type": "code",
      "execution_count": 25,
      "metadata": {
        "id": "b9gpm8eJruHL"
      },
      "outputs": [],
      "source": [
        "notas = pd.read_csv('ratings.csv')\n",
        "notas.columns = ['id_usuario','id_filme','nota_usuario_filme','dia_avaliacao']"
      ]
    },
    {
      "cell_type": "code",
      "execution_count": 26,
      "metadata": {
        "colab": {
          "base_uri": "https://localhost:8080/",
          "height": 206
        },
        "id": "ZbN6hhvUr_An",
        "outputId": "3797ea36-149e-4210-b79f-46020385a3e0"
      },
      "outputs": [
        {
          "data": {
            "text/html": [
              "<div>\n",
              "<style scoped>\n",
              "    .dataframe tbody tr th:only-of-type {\n",
              "        vertical-align: middle;\n",
              "    }\n",
              "\n",
              "    .dataframe tbody tr th {\n",
              "        vertical-align: top;\n",
              "    }\n",
              "\n",
              "    .dataframe thead th {\n",
              "        text-align: right;\n",
              "    }\n",
              "</style>\n",
              "<table border=\"1\" class=\"dataframe\">\n",
              "  <thead>\n",
              "    <tr style=\"text-align: right;\">\n",
              "      <th></th>\n",
              "      <th>id_usuario</th>\n",
              "      <th>id_filme</th>\n",
              "      <th>nota_usuario_filme</th>\n",
              "      <th>dia_avaliacao</th>\n",
              "    </tr>\n",
              "  </thead>\n",
              "  <tbody>\n",
              "    <tr>\n",
              "      <th>100832</th>\n",
              "      <td>610</td>\n",
              "      <td>168248</td>\n",
              "      <td>5.0</td>\n",
              "      <td>1.493850e+09</td>\n",
              "    </tr>\n",
              "    <tr>\n",
              "      <th>100833</th>\n",
              "      <td>610</td>\n",
              "      <td>168250</td>\n",
              "      <td>5.0</td>\n",
              "      <td>1.494273e+09</td>\n",
              "    </tr>\n",
              "    <tr>\n",
              "      <th>100834</th>\n",
              "      <td>610</td>\n",
              "      <td>168252</td>\n",
              "      <td>5.0</td>\n",
              "      <td>1.493846e+09</td>\n",
              "    </tr>\n",
              "    <tr>\n",
              "      <th>100835</th>\n",
              "      <td>610</td>\n",
              "      <td>170875</td>\n",
              "      <td>3.0</td>\n",
              "      <td>1.493846e+09</td>\n",
              "    </tr>\n",
              "    <tr>\n",
              "      <th>100836</th>\n",
              "      <td>584</td>\n",
              "      <td>1223</td>\n",
              "      <td>5.0</td>\n",
              "      <td>NaN</td>\n",
              "    </tr>\n",
              "  </tbody>\n",
              "</table>\n",
              "</div>"
            ],
            "text/plain": [
              "        id_usuario  id_filme  nota_usuario_filme  dia_avaliacao\n",
              "100832         610    168248                 5.0   1.493850e+09\n",
              "100833         610    168250                 5.0   1.494273e+09\n",
              "100834         610    168252                 5.0   1.493846e+09\n",
              "100835         610    170875                 3.0   1.493846e+09\n",
              "100836         584      1223                 5.0            NaN"
            ]
          },
          "execution_count": 26,
          "metadata": {},
          "output_type": "execute_result"
        }
      ],
      "source": [
        "notas.tail()"
      ]
    },
    {
      "cell_type": "code",
      "execution_count": 27,
      "metadata": {
        "colab": {
          "base_uri": "https://localhost:8080/",
          "height": 206
        },
        "id": "YQcTSRrOsF-D",
        "outputId": "611a5eac-794c-4106-a8d7-5ffe588146df"
      },
      "outputs": [
        {
          "data": {
            "text/html": [
              "<div>\n",
              "<style scoped>\n",
              "    .dataframe tbody tr th:only-of-type {\n",
              "        vertical-align: middle;\n",
              "    }\n",
              "\n",
              "    .dataframe tbody tr th {\n",
              "        vertical-align: top;\n",
              "    }\n",
              "\n",
              "    .dataframe thead th {\n",
              "        text-align: right;\n",
              "    }\n",
              "</style>\n",
              "<table border=\"1\" class=\"dataframe\">\n",
              "  <thead>\n",
              "    <tr style=\"text-align: right;\">\n",
              "      <th></th>\n",
              "      <th>id_usuario</th>\n",
              "      <th>id_filme</th>\n",
              "      <th>nota_usuario_filme</th>\n",
              "      <th>dia_avaliacao</th>\n",
              "    </tr>\n",
              "  </thead>\n",
              "  <tbody>\n",
              "    <tr>\n",
              "      <th>100832</th>\n",
              "      <td>610</td>\n",
              "      <td>168248</td>\n",
              "      <td>5.0</td>\n",
              "      <td>1.493850e+09</td>\n",
              "    </tr>\n",
              "    <tr>\n",
              "      <th>100833</th>\n",
              "      <td>610</td>\n",
              "      <td>168250</td>\n",
              "      <td>5.0</td>\n",
              "      <td>1.494273e+09</td>\n",
              "    </tr>\n",
              "    <tr>\n",
              "      <th>100834</th>\n",
              "      <td>610</td>\n",
              "      <td>168252</td>\n",
              "      <td>5.0</td>\n",
              "      <td>1.493846e+09</td>\n",
              "    </tr>\n",
              "    <tr>\n",
              "      <th>100835</th>\n",
              "      <td>610</td>\n",
              "      <td>170875</td>\n",
              "      <td>3.0</td>\n",
              "      <td>1.493846e+09</td>\n",
              "    </tr>\n",
              "    <tr>\n",
              "      <th>100836</th>\n",
              "      <td>584</td>\n",
              "      <td>1223</td>\n",
              "      <td>5.0</td>\n",
              "      <td>NaN</td>\n",
              "    </tr>\n",
              "  </tbody>\n",
              "</table>\n",
              "</div>"
            ],
            "text/plain": [
              "        id_usuario  id_filme  nota_usuario_filme  dia_avaliacao\n",
              "100832         610    168248                 5.0   1.493850e+09\n",
              "100833         610    168250                 5.0   1.494273e+09\n",
              "100834         610    168252                 5.0   1.493846e+09\n",
              "100835         610    170875                 3.0   1.493846e+09\n",
              "100836         584      1223                 5.0            NaN"
            ]
          },
          "execution_count": 27,
          "metadata": {},
          "output_type": "execute_result"
        }
      ],
      "source": [
        "notas.tail()"
      ]
    },
    {
      "cell_type": "markdown",
      "metadata": {
        "id": "Ufj1OIkjAYgJ"
      },
      "source": [
        "#Salvar predições em arquivo xml"
      ]
    },
    {
      "cell_type": "code",
      "execution_count": 28,
      "metadata": {
        "id": "2s3HxHB0Bgl7"
      },
      "outputs": [],
      "source": [
        "import xml.etree.cElementTree as ET"
      ]
    },
    {
      "cell_type": "code",
      "execution_count": 29,
      "metadata": {
        "id": "DRwi__KwGNHq"
      },
      "outputs": [],
      "source": [
        "def grava_arquivo_xml(dados,id_usuario):\n",
        "    root = ET.Element(\"Catalogo\")\n",
        "    for index, row in dados.iterrows():\n",
        "        doc = ET.SubElement(root, \"Filme\")\n",
        "        ET.SubElement(doc, \"Id_filme\").text = str(row['id_filme'])\n",
        "        ET.SubElement(doc, \"Titulo\").text = row['titulo']\n",
        "    tree = ET.ElementTree(root)\n",
        "    tree.write(\"filmes_us_\"+str(id_usuario)+\".xml\")\n"
      ]
    },
    {
      "cell_type": "code",
      "execution_count": 30,
      "metadata": {
        "colab": {
          "base_uri": "https://localhost:8080/"
        },
        "id": "Lj2AAPOeG24x",
        "outputId": "e46505b0-5d1c-4990-8ab7-352a62d3fea1"
      },
      "outputs": [
        {
          "name": "stdout",
          "output_type": "stream",
          "text": [
            "Predicoes do usuário 145\n"
          ]
        }
      ],
      "source": [
        "grava_arquivo_xml(apresenta_recomendacoes(145,5),145)"
      ]
    },
    {
      "cell_type": "markdown",
      "metadata": {
        "id": "4dS2XCjg2WPR"
      },
      "source": [
        "#Função para realizar treinamento"
      ]
    },
    {
      "cell_type": "code",
      "execution_count": 31,
      "metadata": {
        "id": "7Uzjpg2u3m42"
      },
      "outputs": [],
      "source": [
        "#essa função vai criar o modelo e treinamento com os dados.\n",
        "#escala menor é a nota mais baixa do conjunto de dados. -> 0.0\n",
        "#escala maior é a nota mais alta do conjunto de dados. -> 0.5\n",
        "def realiza_treinamento(dados, nome_modelo,escala_menor, escala_maior):\n",
        "  if(nome_modelo == 'SVD') or (nome_modelo == 'svd'):\n",
        "    print('Modelo escolhido foi o SVD')\n",
        "    algo = surprise.SVD()\n",
        "    print('Modelo gerado com sucesso')\n",
        "  elif(nome_modelo == 'SVDpp') or (nome_modelo == 'svdpp') or (nome_modelo == 'SVDPP'):\n",
        "    print('Modelo escolhido foi o SVDpp')\n",
        "    algo = surprise.SVDpp()\n",
        "    print('Modelo gerado com sucesso')\n",
        "\n",
        "  reader = Reader(line_format='user item rating',rating_scale=(escala_menor,escala_maior))\n",
        "  dados_surprise = dados[['id_usuario','id_filme','nota_usuario_filme']]\n",
        "  dados_preparados_treinamento = surprise.Dataset.load_from_df(dados_surprise,reader)\n",
        "  trainset, testset = train_test_split(dados_preparados_treinamento)\n",
        "  algo.fit(trainset)\n",
        "  print(\"Modelo \"+nome_modelo+\" treinado com sucesso\")\n",
        "  return algo\n"
      ]
    },
    {
      "cell_type": "code",
      "execution_count": 32,
      "metadata": {
        "colab": {
          "base_uri": "https://localhost:8080/"
        },
        "id": "b8PKZ4YkL_p2",
        "outputId": "73ec0c2b-7539-4e96-c57d-4ea7f2615818"
      },
      "outputs": [
        {
          "name": "stdout",
          "output_type": "stream",
          "text": [
            "Modelo escolhido foi o SVD\n",
            "Modelo gerado com sucesso\n",
            "Modelo SVD treinado com sucesso\n"
          ]
        }
      ],
      "source": [
        "algo = realiza_treinamento(notas,'SVD',0.0,5.0)"
      ]
    },
    {
      "cell_type": "markdown",
      "metadata": {
        "id": "-c2gBrQ_BGl9"
      },
      "source": [
        "#Criando menu para inserir avaliações, recarregar treinamento, apresentar recomendações"
      ]
    },
    {
      "cell_type": "code",
      "execution_count": 33,
      "metadata": {
        "id": "wPeRfOtsNuLB"
      },
      "outputs": [],
      "source": [
        "#função para salvar o modelo treinado\n",
        "def salva_modelo(algo):\n",
        "  print(algo)\n",
        "  pickle.dump(algo,open('treinado.pkl','wb'))\n",
        "  print(\"O comando dump foi executado sem erro\")"
      ]
    },
    {
      "cell_type": "code",
      "execution_count": 34,
      "metadata": {
        "id": "iJlgCsoJajIf"
      },
      "outputs": [],
      "source": [
        "def carrega_modelo():\n",
        "  with open('treinado.pkl','rb') as modelo:\n",
        "    algo = pickle.load(modelo)\n",
        "  return algo"
      ]
    },
    {
      "cell_type": "code",
      "execution_count": 35,
      "metadata": {
        "id": "7ySMGnUrca5p"
      },
      "outputs": [],
      "source": [
        "def verifica_predicoes_filmes_nao_assistidos(id_usuario,algo):\n",
        "  print('Predicoes do usuário %d' % id_usuario)\n",
        "  dic=[]\n",
        "  #vamos pegar todos os filmes não assistidos, calcular a predição e salvar no dicionario\n",
        "  filmes_predicoes = busca_filmes_nao_assistidos(id_usuario)\n",
        "  for index, row in filmes_predicoes.iterrows():\n",
        "    dic.append(algo.predict(id_usuario,row['id_filme']))\n",
        "  return pd.DataFrame.from_dict(dic)"
      ]
    },
    {
      "cell_type": "code",
      "execution_count": 36,
      "metadata": {
        "id": "w7MMxvyxb_Lo"
      },
      "outputs": [],
      "source": [
        "def apresenta_recomendacoes(id_usuario,notas,algo,filmes,numero_de_recomendacoes=10):\n",
        "  filmes_assistidos = notas.query(\"id_usuario == %d \" % id_usuario)\n",
        "  if filmes_assistidos.empty:\n",
        "    print(\"****O usuário com id %d ainda não avaliou nenhum filme****\" % id_usuario)\n",
        "    print(\"****Serão recomendados os filmes mais populares****\")\n",
        "    total_de_votos = notas['id_filme'].value_counts()\n",
        "    filmes_backup = filmes.copy()\n",
        "    filmes_backup['total_de_votos'] = total_de_votos\n",
        "    notas_medias = notas.groupby('id_filme').mean()['nota_usuario_filme']\n",
        "    filmes_backup['notas_medias'] = notas_medias\n",
        "    return filmes_backup.sort_values('total_de_votos',ascending=False).head(numero_de_recomendacoes)\n",
        "\n",
        "  predicoes = verifica_predicoes_filmes_nao_assistidos(id_usuario,algo)\n",
        "  predicoes.columns = ['id_usuario','id_filme','ref','predicao','destalhes']\n",
        "  recomendacoes = pd.merge(predicoes,filmes,how='inner',on='id_filme').sort_values('predicao',ascending=False)[['id_filme','titulo','predicao']]\n",
        "  return recomendacoes.head(numero_de_recomendacoes)"
      ]
    },
    {
      "cell_type": "code",
      "execution_count": 37,
      "metadata": {
        "id": "rIJarfD5BhBe"
      },
      "outputs": [],
      "source": [
        "def menu():\n",
        "  continuar = 1\n",
        "  while(continuar):\n",
        "    continuar = int(input(\"0. Sair\\n\"+\n",
        "                          \"1. Inserir novas avaliações\\n\"+\n",
        "                          \"2. Verificar id de um novo usuário\\n\"+\n",
        "                          \"3. Realiza Treinamento\\n\"+\n",
        "                          \"4. Recomenda Filmes\\n\"\n",
        "                          )\n",
        "                    )\n",
        "    if(continuar == 1):\n",
        "      usuario = input(\"Digite o id do usuário: \")\n",
        "      filme = input(\"Digite o id do filme: \")\n",
        "      nota = input(\"Digite a nota do filme: \")\n",
        "\n",
        "      with open('ratings.csv','a') as arquivo_csv:\n",
        "        escrever = csv.writer(arquivo_csv,delimiter=',',lineterminator='\\n')\n",
        "        escrever.writerow([usuario,filme,nota])\n",
        "\n",
        "    if(continuar == 2):\n",
        "      notas = pd.read_csv('ratings.csv')\n",
        "      notas.columns = ['id_usuario','id_filme','nota_usuario_filme','dia_avaliacao']\n",
        "      novo_usuario = notas['id_usuario'].max()+1\n",
        "      print(\"O próximo ID de usuário livre eh: %d\" % novo_usuario)\n",
        "\n",
        "    if(continuar == 3):\n",
        "      notas = pd.read_csv('ratings.csv')\n",
        "      notas.columns = ['id_usuario','id_filme','nota_usuario_filme','dia_avaliacao']\n",
        "      modelo = input(\"Digite o nome do modelo: \")\n",
        "      escala_menor = float(input(\"Digite o valor da nota mais baixa: \"))\n",
        "      escala_maior = float(input(\"Digite o valor da nota mais alta: \"))\n",
        "      algo = realiza_treinamento(notas,modelo,escala_menor,escala_maior)\n",
        "      salva_modelo(algo)\n",
        "\n",
        "    if(continuar == 4):\n",
        "      notas = pd.read_csv('ratings.csv')\n",
        "      notas.columns = ['id_usuario','id_filme','nota_usuario_filme','dia_avaliacao']\n",
        "      algo = carrega_modelo()\n",
        "      id_usuario = int(input(\"Recomendar filmes para: \"))\n",
        "      numero_de_recomendacoes = int(input(\"Digite o número de filmes a recomendar: \"))\n",
        "      recomendacoes = apresenta_recomendacoes(id_usuario,notas,algo,filmes,numero_de_recomendacoes)\n",
        "      grava_arquivo_xml(recomendacoes,id_usuario)\n",
        "      print(recomendacoes[['id_filme','titulo']])\n",
        "      "
      ]
    },
    {
      "cell_type": "code",
      "execution_count": 38,
      "metadata": {
        "colab": {
          "base_uri": "https://localhost:8080/"
        },
        "id": "4SZTEUURY81k",
        "outputId": "e2e4519a-48e9-4ac8-a3ab-dc56dc55c9c8"
      },
      "outputs": [
        {
          "ename": "ValueError",
          "evalue": "invalid literal for int() with base 10: ''",
          "output_type": "error",
          "traceback": [
            "\u001b[1;31m---------------------------------------------------------------------------\u001b[0m",
            "\u001b[1;31mValueError\u001b[0m                                Traceback (most recent call last)",
            "\u001b[1;32m~\\AppData\\Local\\Temp/ipykernel_22484/1422249865.py\u001b[0m in \u001b[0;36m<module>\u001b[1;34m\u001b[0m\n\u001b[1;32m----> 1\u001b[1;33m \u001b[0mmenu\u001b[0m\u001b[1;33m(\u001b[0m\u001b[1;33m)\u001b[0m\u001b[1;33m\u001b[0m\u001b[1;33m\u001b[0m\u001b[0m\n\u001b[0m",
            "\u001b[1;32m~\\AppData\\Local\\Temp/ipykernel_22484/4291138665.py\u001b[0m in \u001b[0;36mmenu\u001b[1;34m()\u001b[0m\n\u001b[0;32m      2\u001b[0m   \u001b[0mcontinuar\u001b[0m \u001b[1;33m=\u001b[0m \u001b[1;36m1\u001b[0m\u001b[1;33m\u001b[0m\u001b[1;33m\u001b[0m\u001b[0m\n\u001b[0;32m      3\u001b[0m   \u001b[1;32mwhile\u001b[0m\u001b[1;33m(\u001b[0m\u001b[0mcontinuar\u001b[0m\u001b[1;33m)\u001b[0m\u001b[1;33m:\u001b[0m\u001b[1;33m\u001b[0m\u001b[1;33m\u001b[0m\u001b[0m\n\u001b[1;32m----> 4\u001b[1;33m     continuar = int(input(\"0. Sair\\n\"+\n\u001b[0m\u001b[0;32m      5\u001b[0m                           \u001b[1;34m\"1. Inserir novas avaliações\\n\"\u001b[0m\u001b[1;33m+\u001b[0m\u001b[1;33m\u001b[0m\u001b[1;33m\u001b[0m\u001b[0m\n\u001b[0;32m      6\u001b[0m                           \u001b[1;34m\"2. Verificar id de um novo usuário\\n\"\u001b[0m\u001b[1;33m+\u001b[0m\u001b[1;33m\u001b[0m\u001b[1;33m\u001b[0m\u001b[0m\n",
            "\u001b[1;31mValueError\u001b[0m: invalid literal for int() with base 10: ''"
          ]
        }
      ],
      "source": [
        "menu()"
      ]
    },
    {
      "cell_type": "code",
      "execution_count": null,
      "metadata": {
        "colab": {
          "base_uri": "https://localhost:8080/",
          "height": 206
        },
        "id": "sgvQfmuJPfIx",
        "outputId": "feac1a6a-a918-43a4-8129-2769f3c3f655"
      },
      "outputs": [
        {
          "data": {
            "text/html": [
              "<div>\n",
              "<style scoped>\n",
              "    .dataframe tbody tr th:only-of-type {\n",
              "        vertical-align: middle;\n",
              "    }\n",
              "\n",
              "    .dataframe tbody tr th {\n",
              "        vertical-align: top;\n",
              "    }\n",
              "\n",
              "    .dataframe thead th {\n",
              "        text-align: right;\n",
              "    }\n",
              "</style>\n",
              "<table border=\"1\" class=\"dataframe\">\n",
              "  <thead>\n",
              "    <tr style=\"text-align: right;\">\n",
              "      <th></th>\n",
              "      <th>id_usuario</th>\n",
              "      <th>id_filme</th>\n",
              "      <th>nota_usuario_filme</th>\n",
              "      <th>dia_avaliacao</th>\n",
              "    </tr>\n",
              "  </thead>\n",
              "  <tbody>\n",
              "    <tr>\n",
              "      <th>100837</th>\n",
              "      <td>584</td>\n",
              "      <td>1223</td>\n",
              "      <td>5.0</td>\n",
              "      <td>NaN</td>\n",
              "    </tr>\n",
              "    <tr>\n",
              "      <th>100838</th>\n",
              "      <td>584</td>\n",
              "      <td>168252</td>\n",
              "      <td>4.3</td>\n",
              "      <td>NaN</td>\n",
              "    </tr>\n",
              "    <tr>\n",
              "      <th>100839</th>\n",
              "      <td>584</td>\n",
              "      <td>1197</td>\n",
              "      <td>2.5</td>\n",
              "      <td>NaN</td>\n",
              "    </tr>\n",
              "    <tr>\n",
              "      <th>100840</th>\n",
              "      <td>584</td>\n",
              "      <td>318</td>\n",
              "      <td>5.0</td>\n",
              "      <td>NaN</td>\n",
              "    </tr>\n",
              "    <tr>\n",
              "      <th>100841</th>\n",
              "      <td>790</td>\n",
              "      <td>3439</td>\n",
              "      <td>5.0</td>\n",
              "      <td>NaN</td>\n",
              "    </tr>\n",
              "  </tbody>\n",
              "</table>\n",
              "</div>"
            ],
            "text/plain": [
              "        id_usuario  id_filme  nota_usuario_filme  dia_avaliacao\n",
              "100837         584      1223                 5.0            NaN\n",
              "100838         584    168252                 4.3            NaN\n",
              "100839         584      1197                 2.5            NaN\n",
              "100840         584       318                 5.0            NaN\n",
              "100841         790      3439                 5.0            NaN"
            ]
          },
          "execution_count": 277,
          "metadata": {},
          "output_type": "execute_result"
        }
      ],
      "source": [
        "notas = pd.read_csv('ratings.csv')\n",
        "notas.columns = ['id_usuario','id_filme','nota_usuario_filme','dia_avaliacao']\n",
        "notas.tail(5)"
      ]
    },
    {
      "cell_type": "markdown",
      "metadata": {
        "id": "KoG8jDKMBVEH"
      },
      "source": [
        "#Verificar recomendações após novas avaliações"
      ]
    },
    {
      "cell_type": "code",
      "execution_count": null,
      "metadata": {
        "id": "gVJF_WTVBhwK"
      },
      "outputs": [],
      "source": []
    },
    {
      "cell_type": "markdown",
      "metadata": {
        "id": "GCyN1aGJAmPa"
      },
      "source": []
    },
    {
      "cell_type": "markdown",
      "metadata": {
        "id": "fXT5J6qDgDpu"
      },
      "source": [
        "#Base de dados escolhida\n",
        "\n"
      ]
    }
  ],
  "metadata": {
    "colab": {
      "collapsed_sections": [],
      "name": "aula_16_10.ipynb",
      "provenance": []
    },
    "interpreter": {
      "hash": "2db524e06e9f5f4ffedc911c917cb75e12dbc923643829bf417064a77eb14d37"
    },
    "kernelspec": {
      "display_name": "Python 3.8.5 64-bit",
      "name": "python3"
    },
    "language_info": {
      "codemirror_mode": {
        "name": "ipython",
        "version": 3
      },
      "file_extension": ".py",
      "mimetype": "text/x-python",
      "name": "python",
      "nbconvert_exporter": "python",
      "pygments_lexer": "ipython3",
      "version": "3.8.5"
    }
  },
  "nbformat": 4,
  "nbformat_minor": 0
}
