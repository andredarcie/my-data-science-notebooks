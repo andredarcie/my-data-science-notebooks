{
  "cells": [
    {
      "cell_type": "markdown",
      "metadata": {
        "id": "UQdS6BuL-xsX"
      },
      "source": [
        "# Trabalho Prático Final \n",
        "\n",
        "Sistema de recomendação de games"
      ]
    },
    {
      "cell_type": "code",
      "execution_count": 166,
      "metadata": {
        "colab": {
          "base_uri": "https://localhost:8080/"
        },
        "id": "Pl9XOdIABd8K",
        "outputId": "6c2b82d5-816a-4ceb-d37e-d1063108839a"
      },
      "outputs": [
        {
          "name": "stdout",
          "output_type": "stream",
          "text": [
            "Requirement already satisfied: surprise in c:\\python38\\lib\\site-packages (0.1)\n",
            "Requirement already satisfied: scikit-surprise in c:\\python38\\lib\\site-packages (from surprise) (1.1.1)\n",
            "Requirement already satisfied: scipy>=1.0.0 in c:\\python38\\lib\\site-packages (from scikit-surprise->surprise) (1.6.1)\n",
            "Requirement already satisfied: joblib>=0.11 in c:\\python38\\lib\\site-packages (from scikit-surprise->surprise) (1.0.1)\n",
            "Requirement already satisfied: six>=1.10.0 in c:\\python38\\lib\\site-packages (from scikit-surprise->surprise) (1.16.0)\n",
            "Requirement already satisfied: numpy>=1.11.2 in c:\\python38\\lib\\site-packages (from scikit-surprise->surprise) (1.19.5)\n"
          ]
        },
        {
          "name": "stderr",
          "output_type": "stream",
          "text": [
            "WARNING: You are using pip version 20.2.2; however, version 21.3.1 is available.\n",
            "You should consider upgrading via the 'c:\\python38\\python.exe -m pip install --upgrade pip' command.\n"
          ]
        }
      ],
      "source": [
        "#instalando a lib surprise\n",
        "!pip install surprise"
      ]
    },
    {
      "cell_type": "code",
      "execution_count": 167,
      "metadata": {
        "id": "twwlcIsZQPrA"
      },
      "outputs": [],
      "source": [
        "import pandas as pd\n",
        "\n",
        "\n",
        "games = pd.read_csv('games.csv')\n",
        "notas = pd.read_csv('ratings.csv')\n",
        "notas.columns = ['id_usuario','id_game','nota_usuario_game','dia_avaliacao']\n",
        "games.columns = ['id_game','titulo','genero']\n"
      ]
    },
    {
      "cell_type": "markdown",
      "metadata": {
        "id": "RCTa33fb_44C"
      },
      "source": [
        "#Buscando games assistidos e não assistidos de um usuário"
      ]
    },
    {
      "cell_type": "code",
      "execution_count": 168,
      "metadata": {
        "colab": {
          "base_uri": "https://localhost:8080/",
          "height": 237
        },
        "id": "6l5QfHyrQpJN",
        "outputId": "44af3d48-e292-40d7-dd64-f49f116d5d2e"
      },
      "outputs": [
        {
          "data": {
            "text/html": [
              "<div>\n",
              "<style scoped>\n",
              "    .dataframe tbody tr th:only-of-type {\n",
              "        vertical-align: middle;\n",
              "    }\n",
              "\n",
              "    .dataframe tbody tr th {\n",
              "        vertical-align: top;\n",
              "    }\n",
              "\n",
              "    .dataframe thead th {\n",
              "        text-align: right;\n",
              "    }\n",
              "</style>\n",
              "<table border=\"1\" class=\"dataframe\">\n",
              "  <thead>\n",
              "    <tr style=\"text-align: right;\">\n",
              "      <th></th>\n",
              "      <th>titulo</th>\n",
              "      <th>genero</th>\n",
              "    </tr>\n",
              "    <tr>\n",
              "      <th>id_game</th>\n",
              "      <th></th>\n",
              "      <th></th>\n",
              "    </tr>\n",
              "  </thead>\n",
              "  <tbody>\n",
              "    <tr>\n",
              "      <th>5</th>\n",
              "      <td>Minecraft</td>\n",
              "      <td>Sandbox</td>\n",
              "    </tr>\n",
              "    <tr>\n",
              "      <th>12</th>\n",
              "      <td>Halo: Combat Evolved</td>\n",
              "      <td>Shooters (FPS and TPS)</td>\n",
              "    </tr>\n",
              "    <tr>\n",
              "      <th>13</th>\n",
              "      <td>The Last of Us</td>\n",
              "      <td>Survival and horror</td>\n",
              "    </tr>\n",
              "    <tr>\n",
              "      <th>14</th>\n",
              "      <td>GoldenEye 007</td>\n",
              "      <td>Shooters (FPS and TPS)</td>\n",
              "    </tr>\n",
              "    <tr>\n",
              "      <th>19</th>\n",
              "      <td>Grand Theft Auto: San Andreas</td>\n",
              "      <td>Sandbox</td>\n",
              "    </tr>\n",
              "  </tbody>\n",
              "</table>\n",
              "</div>"
            ],
            "text/plain": [
              "                                titulo                   genero\n",
              "id_game                                                        \n",
              "5                            Minecraft                  Sandbox\n",
              "12                Halo: Combat Evolved   Shooters (FPS and TPS)\n",
              "13                      The Last of Us      Survival and horror\n",
              "14                       GoldenEye 007   Shooters (FPS and TPS)\n",
              "19       Grand Theft Auto: San Andreas                  Sandbox"
            ]
          },
          "execution_count": 168,
          "metadata": {},
          "output_type": "execute_result"
        }
      ],
      "source": [
        "games_jogados = notas.query('id_usuario == 1')\n",
        "games_nao_jogados = games.set_index('id_game').drop(games_jogados.set_index('id_game').index,errors='ignore')\n",
        "games_nao_jogados.head(5)"
      ]
    },
    {
      "cell_type": "code",
      "execution_count": 169,
      "metadata": {
        "colab": {
          "base_uri": "https://localhost:8080/",
          "height": 49
        },
        "id": "6Tl3LK8KUJPP",
        "outputId": "e88ca973-ccdd-49b7-b2f5-791920ed157f"
      },
      "outputs": [
        {
          "data": {
            "text/html": [
              "<div>\n",
              "<style scoped>\n",
              "    .dataframe tbody tr th:only-of-type {\n",
              "        vertical-align: middle;\n",
              "    }\n",
              "\n",
              "    .dataframe tbody tr th {\n",
              "        vertical-align: top;\n",
              "    }\n",
              "\n",
              "    .dataframe thead th {\n",
              "        text-align: right;\n",
              "    }\n",
              "</style>\n",
              "<table border=\"1\" class=\"dataframe\">\n",
              "  <thead>\n",
              "    <tr style=\"text-align: right;\">\n",
              "      <th></th>\n",
              "      <th>id_usuario</th>\n",
              "      <th>id_game</th>\n",
              "      <th>nota_usuario_game</th>\n",
              "      <th>dia_avaliacao</th>\n",
              "    </tr>\n",
              "  </thead>\n",
              "  <tbody>\n",
              "  </tbody>\n",
              "</table>\n",
              "</div>"
            ],
            "text/plain": [
              "Empty DataFrame\n",
              "Columns: [id_usuario, id_game, nota_usuario_game, dia_avaliacao]\n",
              "Index: []"
            ]
          },
          "execution_count": 169,
          "metadata": {},
          "output_type": "execute_result"
        }
      ],
      "source": [
        "#conferindo os games não jogados\n",
        "#ele compara o id do usuário e o id do game e se não retornar nada, é porque está correto.\n",
        "games_jogados = notas.query('id_usuario == 584 and id_game == 1237')\n",
        "games_jogados"
      ]
    },
    {
      "cell_type": "markdown",
      "metadata": {
        "id": "ukGZ8dP6_c8V"
      },
      "source": [
        "#Criando, treinando, salvando e carregando modelo"
      ]
    },
    {
      "cell_type": "code",
      "execution_count": 170,
      "metadata": {
        "id": "0OONB_UlVzso"
      },
      "outputs": [],
      "source": [
        "import surprise\n",
        "from surprise import Reader\n",
        "from surprise import Dataset\n",
        "from surprise.model_selection import train_test_split \n",
        "import pickle"
      ]
    },
    {
      "cell_type": "code",
      "execution_count": 171,
      "metadata": {
        "id": "ogFe1ttABeb5"
      },
      "outputs": [],
      "source": [
        "#reader = escala das notas, a estrutura da linha de entrada de dados -> id_u id_i avaliacao\n",
        "reader = Reader(line_format='user item rating',rating_scale=(0.0,5.0))"
      ]
    },
    {
      "cell_type": "code",
      "execution_count": 172,
      "metadata": {
        "colab": {
          "base_uri": "https://localhost:8080/"
        },
        "id": "nEei-VAxWbY3",
        "outputId": "caee80eb-36e6-49ce-eea6-699c4d04dcbd"
      },
      "outputs": [],
      "source": [
        "#preparando os dados para a lib surprise, que deve ter somente as colunas id do usuario, id do game e a nota\n",
        "dados_surprise = notas[['id_usuario','id_game','nota_usuario_game']]\n",
        "dados_preparados_treinamento = surprise.Dataset.load_from_df(dados_surprise,reader)"
      ]
    },
    {
      "cell_type": "code",
      "execution_count": 173,
      "metadata": {
        "id": "-Py_W5KNX-dC"
      },
      "outputs": [],
      "source": [
        "#temos os dados preparados em formato objeto surprise\n",
        "#criando o modelo SVD\n",
        "algo = surprise.SVDpp()"
      ]
    },
    {
      "cell_type": "code",
      "execution_count": 174,
      "metadata": {
        "id": "dxgK4HMHYm76"
      },
      "outputs": [],
      "source": [
        "trainset, testset = train_test_split(dados_preparados_treinamento)"
      ]
    },
    {
      "cell_type": "code",
      "execution_count": 175,
      "metadata": {
        "colab": {
          "base_uri": "https://localhost:8080/"
        },
        "id": "0oETnvr7ZZ5a",
        "outputId": "e807a2c6-df47-4e74-96f1-9a86cd9d5ce3"
      },
      "outputs": [
        {
          "data": {
            "text/plain": [
              "<surprise.prediction_algorithms.matrix_factorization.SVDpp at 0x1a77a6260d0>"
            ]
          },
          "execution_count": 175,
          "metadata": {},
          "output_type": "execute_result"
        }
      ],
      "source": [
        "#para realizar o treinamento utiliza-se o algo.fit()\n",
        "algo.fit(trainset)"
      ]
    },
    {
      "cell_type": "code",
      "execution_count": 176,
      "metadata": {
        "id": "NY82VRmBafu3"
      },
      "outputs": [],
      "source": [
        "pickle.dump(algo,open('treinado.pkl','wb'))"
      ]
    },
    {
      "cell_type": "code",
      "execution_count": 177,
      "metadata": {
        "colab": {
          "base_uri": "https://localhost:8080/"
        },
        "id": "-wUr3vxneCbp",
        "outputId": "f627f0b8-ad0a-4e39-b798-1cf3e8d2eb2c"
      },
      "outputs": [
        {
          "name": "stdout",
          "output_type": "stream",
          "text": [
            "Predições dos games não jogados do usuário 1\n"
          ]
        }
      ],
      "source": [
        "print('Predições dos games não jogados do usuário 1')\n",
        "dic=[]\n",
        "#vamos pegar todos os games não jogados, calcular a predição e salvar no dicionario\n",
        "games_nao_jogados = games_nao_jogados.reset_index()\n",
        "for index, row in games_nao_jogados.iterrows():\n",
        "  dic.append(algo.predict(1,row['id_game']))\n",
        "  "
      ]
    },
    {
      "cell_type": "code",
      "execution_count": 178,
      "metadata": {
        "id": "RPP0p301gqwU"
      },
      "outputs": [],
      "source": [
        "predicoes = pd.DataFrame.from_dict(dic)"
      ]
    },
    {
      "cell_type": "code",
      "execution_count": 179,
      "metadata": {
        "id": "aM0WosF1fbXf"
      },
      "outputs": [],
      "source": [
        "predicoes.columns = ['id_usuario','id_game','ref','predicao','destalhes']"
      ]
    },
    {
      "cell_type": "code",
      "execution_count": 180,
      "metadata": {
        "id": "cvrqzCK-hUns"
      },
      "outputs": [],
      "source": [
        "recomendacoes = pd.merge(predicoes,games,how='inner',on='id_game').sort_values('predicao',ascending=False)[['id_game','titulo','predicao']]"
      ]
    },
    {
      "cell_type": "code",
      "execution_count": 181,
      "metadata": {
        "id": "groxoMi8iORe"
      },
      "outputs": [],
      "source": [
        "#recomendacoes.head(50)"
      ]
    },
    {
      "cell_type": "markdown",
      "metadata": {
        "id": "tqSWcixNAGLz"
      },
      "source": [
        "#Modulando funções para buscar games jogados e não jogados pelo id_game"
      ]
    },
    {
      "cell_type": "code",
      "execution_count": 182,
      "metadata": {
        "id": "aDwodJugBfGw"
      },
      "outputs": [],
      "source": [
        "def busca_games_jogados(id_usuario):\n",
        "  print('Games jogados do usuário %d' % id_usuario)\n",
        "  games_jogados = notas.query('id_usuario == %d' % id_usuario)\n",
        "  return games_jogados"
      ]
    },
    {
      "cell_type": "code",
      "execution_count": 183,
      "metadata": {
        "id": "VgVcsjlWk7As"
      },
      "outputs": [],
      "source": [
        "def busca_games_nao_jogados(id_usuario):\n",
        "  games_jogados = notas.query('id_usuario == %d' % id_usuario)\n",
        "  id_games_jogados = games_jogados.set_index('id_game').index\n",
        "  games_nao_jogados = games.set_index('id_game').drop(id_games_jogados,errors='ignore').reset_index()\n",
        "  return games_nao_jogados\n"
      ]
    },
    {
      "cell_type": "code",
      "execution_count": 184,
      "metadata": {
        "id": "uxOU-mzMlutY"
      },
      "outputs": [],
      "source": [
        "def verifica_predicoes_games_nao_jogados(id_usuario):\n",
        "  print('Predicoes do usuário %d' % id_usuario)\n",
        "  dic=[]\n",
        "  #vamos pegar todos os games não jogados, calcular a predição e salvar no dicionario\n",
        "  games_predicoes = busca_games_nao_jogados(id_usuario)\n",
        "  for index, row in games_predicoes.iterrows():\n",
        "    dic.append(algo.predict(id_usuario,row['id_game']))\n",
        "  return pd.DataFrame.from_dict(dic)"
      ]
    },
    {
      "cell_type": "markdown",
      "metadata": {
        "id": "MywoeblcAN8c"
      },
      "source": [
        "#Realizando predições"
      ]
    },
    {
      "cell_type": "code",
      "execution_count": 185,
      "metadata": {
        "id": "I46MRxOpBfsR"
      },
      "outputs": [],
      "source": [
        "def apresenta_recomendacoes(id_usuario,numero_de_recomendacoes=10):\n",
        "  games_jogados = notas.query(\"id_usuario == %d \" % id_usuario)\n",
        "  if games_jogados.empty:\n",
        "    print(\"****O usuário com id %d ainda não avaliou nenhum game****\" % id_usuario)\n",
        "    print(\"****Serão recomendados os games mais populares****\")\n",
        "    total_de_votos = notas['id_game'].value_counts()\n",
        "    games_backup = games.copy()\n",
        "    games_backup['total_de_votos'] = total_de_votos\n",
        "    notas_medias = notas.groupby('id_game').mean()['nota_usuario_game']\n",
        "    games_backup['notas_medias'] = notas_medias\n",
        "    return games_backup.sort_values('total_de_votos',ascending=False).head(numero_de_recomendacoes)\n",
        "\n",
        "  predicoes = verifica_predicoes_games_nao_jogados(id_usuario)\n",
        "  predicoes.columns = ['id_usuario','id_game','ref','predicao','destalhes']\n",
        "  recomendacoes = pd.merge(predicoes,games,how='inner',on='id_game').sort_values('predicao',ascending=False)[['id_game','titulo','predicao']]\n",
        "  return recomendacoes.head(numero_de_recomendacoes)"
      ]
    },
    {
      "cell_type": "code",
      "execution_count": 186,
      "metadata": {
        "colab": {
          "base_uri": "https://localhost:8080/",
          "height": 243
        },
        "id": "WtQZe94-TKVS",
        "outputId": "17d60213-42ed-4da0-f5a6-2ba6a57caf2d"
      },
      "outputs": [
        {
          "name": "stdout",
          "output_type": "stream",
          "text": [
            "****O usuário com id 950 ainda não avaliou nenhum game****\n",
            "****Serão recomendados os games mais populares****\n"
          ]
        },
        {
          "data": {
            "text/html": [
              "<div>\n",
              "<style scoped>\n",
              "    .dataframe tbody tr th:only-of-type {\n",
              "        vertical-align: middle;\n",
              "    }\n",
              "\n",
              "    .dataframe tbody tr th {\n",
              "        vertical-align: top;\n",
              "    }\n",
              "\n",
              "    .dataframe thead th {\n",
              "        text-align: right;\n",
              "    }\n",
              "</style>\n",
              "<table border=\"1\" class=\"dataframe\">\n",
              "  <thead>\n",
              "    <tr style=\"text-align: right;\">\n",
              "      <th></th>\n",
              "      <th>id_game</th>\n",
              "      <th>titulo</th>\n",
              "      <th>genero</th>\n",
              "      <th>total_de_votos</th>\n",
              "      <th>notas_medias</th>\n",
              "    </tr>\n",
              "  </thead>\n",
              "  <tbody>\n",
              "    <tr>\n",
              "      <th>34</th>\n",
              "      <td>35</td>\n",
              "      <td>Dark Souls</td>\n",
              "      <td>Role-playing</td>\n",
              "      <td>12.0</td>\n",
              "      <td>4.666667</td>\n",
              "    </tr>\n",
              "    <tr>\n",
              "      <th>12</th>\n",
              "      <td>13</td>\n",
              "      <td>The Last of Us</td>\n",
              "      <td>Survival and horror</td>\n",
              "      <td>12.0</td>\n",
              "      <td>4.250000</td>\n",
              "    </tr>\n",
              "    <tr>\n",
              "      <th>5</th>\n",
              "      <td>6</td>\n",
              "      <td>Grand Theft Auto V</td>\n",
              "      <td>Sandbox</td>\n",
              "      <td>11.0</td>\n",
              "      <td>4.454545</td>\n",
              "    </tr>\n",
              "    <tr>\n",
              "      <th>23</th>\n",
              "      <td>24</td>\n",
              "      <td>Final Fantasy VII</td>\n",
              "      <td>Role-playing</td>\n",
              "      <td>10.0</td>\n",
              "      <td>4.600000</td>\n",
              "    </tr>\n",
              "    <tr>\n",
              "      <th>4</th>\n",
              "      <td>5</td>\n",
              "      <td>Minecraft</td>\n",
              "      <td>Sandbox</td>\n",
              "      <td>10.0</td>\n",
              "      <td>4.100000</td>\n",
              "    </tr>\n",
              "  </tbody>\n",
              "</table>\n",
              "</div>"
            ],
            "text/plain": [
              "    id_game              titulo                genero  total_de_votos  \\\n",
              "34       35          Dark Souls          Role-playing            12.0   \n",
              "12       13      The Last of Us   Survival and horror            12.0   \n",
              "5         6  Grand Theft Auto V               Sandbox            11.0   \n",
              "23       24   Final Fantasy VII         Role-playing             10.0   \n",
              "4         5           Minecraft               Sandbox            10.0   \n",
              "\n",
              "    notas_medias  \n",
              "34      4.666667  \n",
              "12      4.250000  \n",
              "5       4.454545  \n",
              "23      4.600000  \n",
              "4       4.100000  "
            ]
          },
          "execution_count": 186,
          "metadata": {},
          "output_type": "execute_result"
        }
      ],
      "source": [
        "apresenta_recomendacoes(950,5)"
      ]
    },
    {
      "cell_type": "code",
      "execution_count": 187,
      "metadata": {
        "colab": {
          "base_uri": "https://localhost:8080/",
          "height": 381
        },
        "id": "g6QYa1HGoyXM",
        "outputId": "dba9a86c-7744-4d7b-a029-8d6f7da4fbc6"
      },
      "outputs": [
        {
          "name": "stdout",
          "output_type": "stream",
          "text": [
            "Predicoes do usuário 584\n"
          ]
        },
        {
          "data": {
            "text/html": [
              "<div>\n",
              "<style scoped>\n",
              "    .dataframe tbody tr th:only-of-type {\n",
              "        vertical-align: middle;\n",
              "    }\n",
              "\n",
              "    .dataframe tbody tr th {\n",
              "        vertical-align: top;\n",
              "    }\n",
              "\n",
              "    .dataframe thead th {\n",
              "        text-align: right;\n",
              "    }\n",
              "</style>\n",
              "<table border=\"1\" class=\"dataframe\">\n",
              "  <thead>\n",
              "    <tr style=\"text-align: right;\">\n",
              "      <th></th>\n",
              "      <th>id_game</th>\n",
              "      <th>titulo</th>\n",
              "      <th>predicao</th>\n",
              "    </tr>\n",
              "  </thead>\n",
              "  <tbody>\n",
              "    <tr>\n",
              "      <th>21</th>\n",
              "      <td>22</td>\n",
              "      <td>Super Mario Bros. 3</td>\n",
              "      <td>4.733756</td>\n",
              "    </tr>\n",
              "    <tr>\n",
              "      <th>47</th>\n",
              "      <td>48</td>\n",
              "      <td>The Sims</td>\n",
              "      <td>4.712695</td>\n",
              "    </tr>\n",
              "    <tr>\n",
              "      <th>33</th>\n",
              "      <td>34</td>\n",
              "      <td>Chrono Trigger</td>\n",
              "      <td>4.700881</td>\n",
              "    </tr>\n",
              "    <tr>\n",
              "      <th>16</th>\n",
              "      <td>17</td>\n",
              "      <td>Street Fighter II</td>\n",
              "      <td>4.696003</td>\n",
              "    </tr>\n",
              "    <tr>\n",
              "      <th>19</th>\n",
              "      <td>20</td>\n",
              "      <td>Super Mario Bros.</td>\n",
              "      <td>4.661912</td>\n",
              "    </tr>\n",
              "    <tr>\n",
              "      <th>8</th>\n",
              "      <td>9</td>\n",
              "      <td>Red Dead Redemption</td>\n",
              "      <td>4.652337</td>\n",
              "    </tr>\n",
              "    <tr>\n",
              "      <th>14</th>\n",
              "      <td>15</td>\n",
              "      <td>The Legend of Zelda: Breath of the Wild</td>\n",
              "      <td>4.646798</td>\n",
              "    </tr>\n",
              "    <tr>\n",
              "      <th>0</th>\n",
              "      <td>1</td>\n",
              "      <td>The Legend of Zelda: Ocarina of Time</td>\n",
              "      <td>4.622404</td>\n",
              "    </tr>\n",
              "    <tr>\n",
              "      <th>5</th>\n",
              "      <td>6</td>\n",
              "      <td>Grand Theft Auto V</td>\n",
              "      <td>4.621152</td>\n",
              "    </tr>\n",
              "    <tr>\n",
              "      <th>12</th>\n",
              "      <td>13</td>\n",
              "      <td>The Last of Us</td>\n",
              "      <td>4.589717</td>\n",
              "    </tr>\n",
              "  </tbody>\n",
              "</table>\n",
              "</div>"
            ],
            "text/plain": [
              "    id_game                                   titulo  predicao\n",
              "21       22                      Super Mario Bros. 3  4.733756\n",
              "47       48                                 The Sims  4.712695\n",
              "33       34                           Chrono Trigger  4.700881\n",
              "16       17                        Street Fighter II  4.696003\n",
              "19       20                        Super Mario Bros.  4.661912\n",
              "8         9                      Red Dead Redemption  4.652337\n",
              "14       15  The Legend of Zelda: Breath of the Wild  4.646798\n",
              "0         1     The Legend of Zelda: Ocarina of Time  4.622404\n",
              "5         6                       Grand Theft Auto V  4.621152\n",
              "12       13                           The Last of Us  4.589717"
            ]
          },
          "execution_count": 187,
          "metadata": {},
          "output_type": "execute_result"
        }
      ],
      "source": [
        "apresenta_recomendacoes(584)"
      ]
    },
    {
      "cell_type": "markdown",
      "metadata": {
        "id": "ngbIQ5e6AUkD"
      },
      "source": [
        "#Inserindo dados no arquivo CSV"
      ]
    },
    {
      "cell_type": "code",
      "execution_count": 188,
      "metadata": {
        "id": "XxGLM61HBgGk"
      },
      "outputs": [],
      "source": [
        "#CSV\n",
        "import csv"
      ]
    },
    {
      "cell_type": "code",
      "execution_count": 189,
      "metadata": {
        "id": "WpDr9zhIqTYk"
      },
      "outputs": [],
      "source": [
        "with open('ratings.csv','a') as arquivo_csv:\n",
        "  escrever = csv.writer(arquivo_csv,delimiter=',',lineterminator='\\n')\n",
        "  escrever.writerow([584,1223,5.0])"
      ]
    },
    {
      "cell_type": "code",
      "execution_count": 190,
      "metadata": {
        "id": "b9gpm8eJruHL"
      },
      "outputs": [],
      "source": [
        "notas = pd.read_csv('ratings.csv')\n",
        "notas.columns = ['id_usuario','id_game','nota_usuario_game','dia_avaliacao']"
      ]
    },
    {
      "cell_type": "code",
      "execution_count": 191,
      "metadata": {
        "colab": {
          "base_uri": "https://localhost:8080/",
          "height": 206
        },
        "id": "ZbN6hhvUr_An",
        "outputId": "3797ea36-149e-4210-b79f-46020385a3e0"
      },
      "outputs": [
        {
          "data": {
            "text/html": [
              "<div>\n",
              "<style scoped>\n",
              "    .dataframe tbody tr th:only-of-type {\n",
              "        vertical-align: middle;\n",
              "    }\n",
              "\n",
              "    .dataframe tbody tr th {\n",
              "        vertical-align: top;\n",
              "    }\n",
              "\n",
              "    .dataframe thead th {\n",
              "        text-align: right;\n",
              "    }\n",
              "</style>\n",
              "<table border=\"1\" class=\"dataframe\">\n",
              "  <thead>\n",
              "    <tr style=\"text-align: right;\">\n",
              "      <th></th>\n",
              "      <th>id_usuario</th>\n",
              "      <th>id_game</th>\n",
              "      <th>nota_usuario_game</th>\n",
              "      <th>dia_avaliacao</th>\n",
              "    </tr>\n",
              "  </thead>\n",
              "  <tbody>\n",
              "    <tr>\n",
              "      <th>198</th>\n",
              "      <td>4</td>\n",
              "      <td>4</td>\n",
              "      <td>5.0</td>\n",
              "      <td>964983762.0</td>\n",
              "    </tr>\n",
              "    <tr>\n",
              "      <th>199</th>\n",
              "      <td>584</td>\n",
              "      <td>1223</td>\n",
              "      <td>5.0</td>\n",
              "      <td>NaN</td>\n",
              "    </tr>\n",
              "    <tr>\n",
              "      <th>200</th>\n",
              "      <td>584</td>\n",
              "      <td>1223</td>\n",
              "      <td>5.0</td>\n",
              "      <td>NaN</td>\n",
              "    </tr>\n",
              "    <tr>\n",
              "      <th>201</th>\n",
              "      <td>584</td>\n",
              "      <td>1223</td>\n",
              "      <td>5.0</td>\n",
              "      <td>NaN</td>\n",
              "    </tr>\n",
              "    <tr>\n",
              "      <th>202</th>\n",
              "      <td>584</td>\n",
              "      <td>1223</td>\n",
              "      <td>5.0</td>\n",
              "      <td>NaN</td>\n",
              "    </tr>\n",
              "  </tbody>\n",
              "</table>\n",
              "</div>"
            ],
            "text/plain": [
              "     id_usuario  id_game  nota_usuario_game  dia_avaliacao\n",
              "198           4        4                5.0    964983762.0\n",
              "199         584     1223                5.0            NaN\n",
              "200         584     1223                5.0            NaN\n",
              "201         584     1223                5.0            NaN\n",
              "202         584     1223                5.0            NaN"
            ]
          },
          "execution_count": 191,
          "metadata": {},
          "output_type": "execute_result"
        }
      ],
      "source": [
        "notas.tail()"
      ]
    },
    {
      "cell_type": "code",
      "execution_count": 192,
      "metadata": {
        "colab": {
          "base_uri": "https://localhost:8080/",
          "height": 206
        },
        "id": "YQcTSRrOsF-D",
        "outputId": "611a5eac-794c-4106-a8d7-5ffe588146df"
      },
      "outputs": [
        {
          "data": {
            "text/html": [
              "<div>\n",
              "<style scoped>\n",
              "    .dataframe tbody tr th:only-of-type {\n",
              "        vertical-align: middle;\n",
              "    }\n",
              "\n",
              "    .dataframe tbody tr th {\n",
              "        vertical-align: top;\n",
              "    }\n",
              "\n",
              "    .dataframe thead th {\n",
              "        text-align: right;\n",
              "    }\n",
              "</style>\n",
              "<table border=\"1\" class=\"dataframe\">\n",
              "  <thead>\n",
              "    <tr style=\"text-align: right;\">\n",
              "      <th></th>\n",
              "      <th>id_usuario</th>\n",
              "      <th>id_game</th>\n",
              "      <th>nota_usuario_game</th>\n",
              "      <th>dia_avaliacao</th>\n",
              "    </tr>\n",
              "  </thead>\n",
              "  <tbody>\n",
              "    <tr>\n",
              "      <th>198</th>\n",
              "      <td>4</td>\n",
              "      <td>4</td>\n",
              "      <td>5.0</td>\n",
              "      <td>964983762.0</td>\n",
              "    </tr>\n",
              "    <tr>\n",
              "      <th>199</th>\n",
              "      <td>584</td>\n",
              "      <td>1223</td>\n",
              "      <td>5.0</td>\n",
              "      <td>NaN</td>\n",
              "    </tr>\n",
              "    <tr>\n",
              "      <th>200</th>\n",
              "      <td>584</td>\n",
              "      <td>1223</td>\n",
              "      <td>5.0</td>\n",
              "      <td>NaN</td>\n",
              "    </tr>\n",
              "    <tr>\n",
              "      <th>201</th>\n",
              "      <td>584</td>\n",
              "      <td>1223</td>\n",
              "      <td>5.0</td>\n",
              "      <td>NaN</td>\n",
              "    </tr>\n",
              "    <tr>\n",
              "      <th>202</th>\n",
              "      <td>584</td>\n",
              "      <td>1223</td>\n",
              "      <td>5.0</td>\n",
              "      <td>NaN</td>\n",
              "    </tr>\n",
              "  </tbody>\n",
              "</table>\n",
              "</div>"
            ],
            "text/plain": [
              "     id_usuario  id_game  nota_usuario_game  dia_avaliacao\n",
              "198           4        4                5.0    964983762.0\n",
              "199         584     1223                5.0            NaN\n",
              "200         584     1223                5.0            NaN\n",
              "201         584     1223                5.0            NaN\n",
              "202         584     1223                5.0            NaN"
            ]
          },
          "execution_count": 192,
          "metadata": {},
          "output_type": "execute_result"
        }
      ],
      "source": [
        "notas.tail()"
      ]
    },
    {
      "cell_type": "markdown",
      "metadata": {
        "id": "Ufj1OIkjAYgJ"
      },
      "source": [
        "#Salvar predições em arquivo xml"
      ]
    },
    {
      "cell_type": "code",
      "execution_count": 193,
      "metadata": {
        "id": "2s3HxHB0Bgl7"
      },
      "outputs": [],
      "source": [
        "import xml.etree.cElementTree as ET"
      ]
    },
    {
      "cell_type": "code",
      "execution_count": 194,
      "metadata": {
        "id": "DRwi__KwGNHq"
      },
      "outputs": [],
      "source": [
        "def grava_arquivo_xml(dados,id_usuario):\n",
        "    root = ET.Element(\"Catalogo\")\n",
        "    for index, row in dados.iterrows():\n",
        "        doc = ET.SubElement(root, \"Game\")\n",
        "        ET.SubElement(doc, \"Id_game\").text = str(row['id_game'])\n",
        "        ET.SubElement(doc, \"Titulo\").text = row['titulo']\n",
        "    tree = ET.ElementTree(root)\n",
        "    tree.write(\"games_us_\"+str(id_usuario)+\".xml\")\n"
      ]
    },
    {
      "cell_type": "code",
      "execution_count": 195,
      "metadata": {
        "colab": {
          "base_uri": "https://localhost:8080/"
        },
        "id": "Lj2AAPOeG24x",
        "outputId": "e46505b0-5d1c-4990-8ab7-352a62d3fea1"
      },
      "outputs": [
        {
          "name": "stdout",
          "output_type": "stream",
          "text": [
            "****O usuário com id 145 ainda não avaliou nenhum game****\n",
            "****Serão recomendados os games mais populares****\n"
          ]
        }
      ],
      "source": [
        "grava_arquivo_xml(apresenta_recomendacoes(145,5),145)"
      ]
    },
    {
      "cell_type": "markdown",
      "metadata": {
        "id": "4dS2XCjg2WPR"
      },
      "source": [
        "#Função para realizar treinamento"
      ]
    },
    {
      "cell_type": "code",
      "execution_count": 196,
      "metadata": {
        "id": "7Uzjpg2u3m42"
      },
      "outputs": [],
      "source": [
        "#essa função vai criar o modelo e treinamento com os dados.\n",
        "#escala menor é a nota mais baixa do conjunto de dados. -> 0.0\n",
        "#escala maior é a nota mais alta do conjunto de dados. -> 0.5\n",
        "def realiza_treinamento(dados, nome_modelo,escala_menor, escala_maior):\n",
        "  if(nome_modelo == 'SVD') or (nome_modelo == 'svd'):\n",
        "    print('Modelo escolhido foi o SVD')\n",
        "    algo = surprise.SVD()\n",
        "    print('Modelo gerado com sucesso')\n",
        "  elif(nome_modelo == 'SVDpp') or (nome_modelo == 'svdpp') or (nome_modelo == 'SVDPP'):\n",
        "    print('Modelo escolhido foi o SVDpp')\n",
        "    algo = surprise.SVDpp()\n",
        "    print('Modelo gerado com sucesso')\n",
        "\n",
        "  reader = Reader(line_format='user item rating',rating_scale=(escala_menor,escala_maior))\n",
        "  dados_surprise = dados[['id_usuario','id_game','nota_usuario_game']]\n",
        "  dados_preparados_treinamento = surprise.Dataset.load_from_df(dados_surprise,reader)\n",
        "  trainset, testset = train_test_split(dados_preparados_treinamento)\n",
        "  algo.fit(trainset)\n",
        "  print(\"Modelo \"+nome_modelo+\" treinado com sucesso\")\n",
        "  return algo\n"
      ]
    },
    {
      "cell_type": "code",
      "execution_count": 197,
      "metadata": {
        "colab": {
          "base_uri": "https://localhost:8080/"
        },
        "id": "b8PKZ4YkL_p2",
        "outputId": "73ec0c2b-7539-4e96-c57d-4ea7f2615818"
      },
      "outputs": [
        {
          "name": "stdout",
          "output_type": "stream",
          "text": [
            "Modelo escolhido foi o SVD\n",
            "Modelo gerado com sucesso\n",
            "Modelo SVD treinado com sucesso\n"
          ]
        }
      ],
      "source": [
        "algo = realiza_treinamento(notas,'SVD',0.0,5.0)"
      ]
    },
    {
      "cell_type": "markdown",
      "metadata": {
        "id": "-c2gBrQ_BGl9"
      },
      "source": [
        "#Criando menu para inserir avaliações, recarregar treinamento, apresentar recomendações"
      ]
    },
    {
      "cell_type": "code",
      "execution_count": 198,
      "metadata": {
        "id": "wPeRfOtsNuLB"
      },
      "outputs": [],
      "source": [
        "#função para salvar o modelo treinado\n",
        "def salva_modelo(algo):\n",
        "  print(algo)\n",
        "  pickle.dump(algo,open('treinado.pkl','wb'))\n",
        "  print(\"O comando dump foi executado sem erro\")"
      ]
    },
    {
      "cell_type": "code",
      "execution_count": 199,
      "metadata": {
        "id": "iJlgCsoJajIf"
      },
      "outputs": [],
      "source": [
        "def carrega_modelo():\n",
        "  with open('treinado.pkl','rb') as modelo:\n",
        "    algo = pickle.load(modelo)\n",
        "  return algo"
      ]
    },
    {
      "cell_type": "code",
      "execution_count": 200,
      "metadata": {
        "id": "7ySMGnUrca5p"
      },
      "outputs": [],
      "source": [
        "def verifica_predicoes_games_nao_jogados(id_usuario,algo):\n",
        "  print('Predicoes do usuário %d' % id_usuario)\n",
        "  dic=[]\n",
        "  #vamos pegar todos os games não jogados, calcular a predição e salvar no dicionario\n",
        "  games_predicoes = busca_games_nao_jogados(id_usuario)\n",
        "  for index, row in games_predicoes.iterrows():\n",
        "    dic.append(algo.predict(id_usuario,row['id_game']))\n",
        "  return pd.DataFrame.from_dict(dic)"
      ]
    },
    {
      "cell_type": "code",
      "execution_count": 201,
      "metadata": {
        "id": "w7MMxvyxb_Lo"
      },
      "outputs": [],
      "source": [
        "def apresenta_recomendacoes(id_usuario,notas,algo,games,numero_de_recomendacoes=10):\n",
        "  games_assistidos = notas.query(\"id_usuario == %d \" % id_usuario)\n",
        "  if games_assistidos.empty:\n",
        "    print(\"****O usuário com id %d ainda não avaliou nenhum game****\" % id_usuario)\n",
        "    print(\"****Serão recomendados os games mais populares****\")\n",
        "    total_de_votos = notas['id_game'].value_counts()\n",
        "    games_backup = games.copy()\n",
        "    games_backup['total_de_votos'] = total_de_votos\n",
        "    notas_medias = notas.groupby('id_game').mean()['nota_usuario_game']\n",
        "    games_backup['notas_medias'] = notas_medias\n",
        "    return games_backup.sort_values('total_de_votos',ascending=False).head(numero_de_recomendacoes)\n",
        "\n",
        "  predicoes = verifica_predicoes_games_nao_jogados(id_usuario,algo)\n",
        "  predicoes.columns = ['id_usuario','id_game','ref','predicao','destalhes']\n",
        "  recomendacoes = pd.merge(predicoes,games,how='inner',on='id_game').sort_values('predicao',ascending=False)[['id_game','titulo','predicao']]\n",
        "  return recomendacoes.head(numero_de_recomendacoes)"
      ]
    },
    {
      "cell_type": "code",
      "execution_count": 202,
      "metadata": {
        "id": "rIJarfD5BhBe"
      },
      "outputs": [],
      "source": [
        "def menu():\n",
        "  continuar = 1\n",
        "  while(continuar):\n",
        "    continuar = int(input(\"0. Sair\\n\"+\n",
        "                          \"1. Inserir novas avaliações\\n\"+\n",
        "                          \"2. Verificar id de um novo usuário\\n\"+\n",
        "                          \"3. Realiza Treinamento\\n\"+\n",
        "                          \"4. Recomenda Games\\n\"\n",
        "                          )\n",
        "                    )\n",
        "    if(continuar == 1):\n",
        "      usuario = input(\"Digite o id do usuário: \")\n",
        "      game = input(\"Digite o id do game: \")\n",
        "      nota = input(\"Digite a nota do game: \")\n",
        "\n",
        "      with open('ratings.csv','a') as arquivo_csv:\n",
        "        escrever = csv.writer(arquivo_csv,delimiter=',',lineterminator='\\n')\n",
        "        escrever.writerow([usuario,game,nota])\n",
        "\n",
        "    if(continuar == 2):\n",
        "      notas = pd.read_csv('ratings.csv')\n",
        "      notas.columns = ['id_usuario','id_game','nota_usuario_game','dia_avaliacao']\n",
        "      novo_usuario = notas['id_usuario'].max()+1\n",
        "      print(\"O próximo ID de usuário livre eh: %d\" % novo_usuario)\n",
        "\n",
        "    if(continuar == 3):\n",
        "      notas = pd.read_csv('ratings.csv')\n",
        "      notas.columns = ['id_usuario','id_game','nota_usuario_game','dia_avaliacao']\n",
        "      modelo = input(\"Digite o nome do modelo: \")\n",
        "      escala_menor = float(input(\"Digite o valor da nota mais baixa: \"))\n",
        "      escala_maior = float(input(\"Digite o valor da nota mais alta: \"))\n",
        "      algo = realiza_treinamento(notas,modelo,escala_menor,escala_maior)\n",
        "      salva_modelo(algo)\n",
        "\n",
        "    if(continuar == 4):\n",
        "      notas = pd.read_csv('ratings.csv')\n",
        "      notas.columns = ['id_usuario','id_game','nota_usuario_game','dia_avaliacao']\n",
        "      algo = carrega_modelo()\n",
        "      id_usuario = int(input(\"Recomendar games para: \"))\n",
        "      numero_de_recomendacoes = int(input(\"Digite o número de games a recomendar: \"))\n",
        "      recomendacoes = apresenta_recomendacoes(id_usuario,notas,algo,games,numero_de_recomendacoes)\n",
        "      grava_arquivo_xml(recomendacoes,id_usuario)\n",
        "      print(recomendacoes[['id_game','titulo']])\n",
        "      "
      ]
    },
    {
      "cell_type": "code",
      "execution_count": 203,
      "metadata": {
        "colab": {
          "base_uri": "https://localhost:8080/"
        },
        "id": "4SZTEUURY81k",
        "outputId": "e2e4519a-48e9-4ac8-a3ab-dc56dc55c9c8"
      },
      "outputs": [
        {
          "name": "stdout",
          "output_type": "stream",
          "text": [
            "Predicoes do usuário 1\n",
            "    id_game            titulo\n",
            "18       46  Final Fantasy VI\n",
            "2        13    The Last of Us\n"
          ]
        }
      ],
      "source": [
        "menu()"
      ]
    },
    {
      "cell_type": "code",
      "execution_count": 204,
      "metadata": {
        "colab": {
          "base_uri": "https://localhost:8080/",
          "height": 206
        },
        "id": "sgvQfmuJPfIx",
        "outputId": "feac1a6a-a918-43a4-8129-2769f3c3f655"
      },
      "outputs": [
        {
          "data": {
            "text/html": [
              "<div>\n",
              "<style scoped>\n",
              "    .dataframe tbody tr th:only-of-type {\n",
              "        vertical-align: middle;\n",
              "    }\n",
              "\n",
              "    .dataframe tbody tr th {\n",
              "        vertical-align: top;\n",
              "    }\n",
              "\n",
              "    .dataframe thead th {\n",
              "        text-align: right;\n",
              "    }\n",
              "</style>\n",
              "<table border=\"1\" class=\"dataframe\">\n",
              "  <thead>\n",
              "    <tr style=\"text-align: right;\">\n",
              "      <th></th>\n",
              "      <th>id_usuario</th>\n",
              "      <th>id_game</th>\n",
              "      <th>nota_usuario_game</th>\n",
              "      <th>dia_avaliacao</th>\n",
              "    </tr>\n",
              "  </thead>\n",
              "  <tbody>\n",
              "    <tr>\n",
              "      <th>198</th>\n",
              "      <td>4</td>\n",
              "      <td>4</td>\n",
              "      <td>5.0</td>\n",
              "      <td>964983762.0</td>\n",
              "    </tr>\n",
              "    <tr>\n",
              "      <th>199</th>\n",
              "      <td>584</td>\n",
              "      <td>1223</td>\n",
              "      <td>5.0</td>\n",
              "      <td>NaN</td>\n",
              "    </tr>\n",
              "    <tr>\n",
              "      <th>200</th>\n",
              "      <td>584</td>\n",
              "      <td>1223</td>\n",
              "      <td>5.0</td>\n",
              "      <td>NaN</td>\n",
              "    </tr>\n",
              "    <tr>\n",
              "      <th>201</th>\n",
              "      <td>584</td>\n",
              "      <td>1223</td>\n",
              "      <td>5.0</td>\n",
              "      <td>NaN</td>\n",
              "    </tr>\n",
              "    <tr>\n",
              "      <th>202</th>\n",
              "      <td>584</td>\n",
              "      <td>1223</td>\n",
              "      <td>5.0</td>\n",
              "      <td>NaN</td>\n",
              "    </tr>\n",
              "  </tbody>\n",
              "</table>\n",
              "</div>"
            ],
            "text/plain": [
              "     id_usuario  id_game  nota_usuario_game  dia_avaliacao\n",
              "198           4        4                5.0    964983762.0\n",
              "199         584     1223                5.0            NaN\n",
              "200         584     1223                5.0            NaN\n",
              "201         584     1223                5.0            NaN\n",
              "202         584     1223                5.0            NaN"
            ]
          },
          "execution_count": 204,
          "metadata": {},
          "output_type": "execute_result"
        }
      ],
      "source": [
        "notas = pd.read_csv('ratings.csv')\n",
        "notas.columns = ['id_usuario','id_game','nota_usuario_game','dia_avaliacao']\n",
        "notas.tail(5)"
      ]
    },
    {
      "cell_type": "markdown",
      "metadata": {
        "id": "KoG8jDKMBVEH"
      },
      "source": [
        "#Verificar recomendações após novas avaliações"
      ]
    },
    {
      "cell_type": "code",
      "execution_count": null,
      "metadata": {
        "id": "gVJF_WTVBhwK"
      },
      "outputs": [],
      "source": []
    },
    {
      "cell_type": "markdown",
      "metadata": {
        "id": "GCyN1aGJAmPa"
      },
      "source": []
    },
    {
      "cell_type": "markdown",
      "metadata": {
        "id": "fXT5J6qDgDpu"
      },
      "source": [
        "#Base de dados escolhida\n",
        "\n",
        "https://github.com/andredarcie/best-games-of-all-time-data-based/blob/master/dataset/generated_game_list.csv"
      ]
    }
  ],
  "metadata": {
    "colab": {
      "collapsed_sections": [],
      "name": "aula_16_10.ipynb",
      "provenance": []
    },
    "interpreter": {
      "hash": "2db524e06e9f5f4ffedc911c917cb75e12dbc923643829bf417064a77eb14d37"
    },
    "kernelspec": {
      "display_name": "Python 3.8.5 64-bit",
      "name": "python3"
    },
    "language_info": {
      "codemirror_mode": {
        "name": "ipython",
        "version": 3
      },
      "file_extension": ".py",
      "mimetype": "text/x-python",
      "name": "python",
      "nbconvert_exporter": "python",
      "pygments_lexer": "ipython3",
      "version": "3.8.5"
    }
  },
  "nbformat": 4,
  "nbformat_minor": 0
}
