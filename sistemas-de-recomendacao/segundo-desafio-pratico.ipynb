{
  "cells": [
    {
      "cell_type": "markdown",
      "metadata": {
        "id": "jH6NbhT1B8uI"
      },
      "source": [
        "#Introdução ao Surprise\n",
        "http://surpriselib.com/"
      ]
    },
    {
      "cell_type": "markdown",
      "metadata": {
        "id": "d-f0riyDDDVB"
      },
      "source": [
        "\n",
        "\n",
        "1.   dos ids dos usuários\n",
        "2.   dos ids dos itens\n",
        "3.   das avaliações dos usuários para esses itens\n",
        "\n"
      ]
    },
    {
      "cell_type": "code",
      "execution_count": 1,
      "metadata": {
        "colab": {
          "base_uri": "https://localhost:8080/"
        },
        "id": "zDj3oTXl-rrY",
        "outputId": "09b35a2e-48f4-4846-b1b0-ac540a3e4697"
      },
      "outputs": [
        {
          "name": "stdout",
          "output_type": "stream",
          "text": [
            "Collecting surprise\n",
            "  Downloading surprise-0.1-py2.py3-none-any.whl (1.8 kB)\n",
            "Collecting scikit-surprise\n",
            "  Downloading scikit-surprise-1.1.1.tar.gz (11.8 MB)\n",
            "Requirement already satisfied: joblib>=0.11 in c:\\python38\\lib\\site-packages (from scikit-surprise->surprise) (1.0.1)\n",
            "Requirement already satisfied: numpy>=1.11.2 in c:\\python38\\lib\\site-packages (from scikit-surprise->surprise) (1.19.5)\n",
            "Requirement already satisfied: scipy>=1.0.0 in c:\\python38\\lib\\site-packages (from scikit-surprise->surprise) (1.6.1)\n",
            "Requirement already satisfied: six>=1.10.0 in c:\\python38\\lib\\site-packages (from scikit-surprise->surprise) (1.16.0)\n",
            "Building wheels for collected packages: scikit-surprise\n",
            "  Building wheel for scikit-surprise (setup.py): started\n",
            "  Building wheel for scikit-surprise (setup.py): finished with status 'done'\n",
            "  Created wheel for scikit-surprise: filename=scikit_surprise-1.1.1-cp38-cp38-win_amd64.whl size=719373 sha256=a0fef3d9c44de865d22a67fff6234a9c13781bcdc3ea28d96c5e80c134670377\n",
            "  Stored in directory: c:\\users\\andre\\appdata\\local\\pip\\cache\\wheels\\20\\91\\57\\2965d4cff1b8ac7ed1b6fa25741882af3974b54a31759e10b6\n",
            "Successfully built scikit-surprise\n",
            "Installing collected packages: scikit-surprise, surprise\n"
          ]
        },
        {
          "name": "stderr",
          "output_type": "stream",
          "text": [
            "  WARNING: Failed to write executable - trying to use .deleteme logic\n",
            "ERROR: Could not install packages due to an EnvironmentError: [WinError 2] O sistema não pode encontrar o arquivo especificado: 'c:\\\\python38\\\\Scripts\\\\surprise.exe' -> 'c:\\\\python38\\\\Scripts\\\\surprise.exe.deleteme'\n",
            "\n",
            "WARNING: You are using pip version 20.2.2; however, version 21.3 is available.\n",
            "You should consider upgrading via the 'c:\\python38\\python.exe -m pip install --upgrade pip' command.\n"
          ]
        }
      ],
      "source": [
        "!pip install surprise"
      ]
    },
    {
      "cell_type": "code",
      "execution_count": 2,
      "metadata": {
        "id": "oRa1GVZUERX-"
      },
      "outputs": [],
      "source": [
        "import surprise\n",
        "import pandas as pd\n",
        "from surprise import Reader\n",
        "from surprise import Dataset\n",
        "from surprise.model_selection import train_test_split"
      ]
    },
    {
      "cell_type": "code",
      "execution_count": 3,
      "metadata": {
        "id": "mmehnW3UEZl6"
      },
      "outputs": [],
      "source": [
        "notas = pd.read_csv('ratings.csv')\n",
        "filmes = pd.read_csv('movies.csv')"
      ]
    },
    {
      "cell_type": "code",
      "execution_count": 4,
      "metadata": {
        "id": "iOBZp4uJEqUb"
      },
      "outputs": [],
      "source": [
        "notas.columns= ['id_usuario','id_filme','nota_usuario_filme','dia_da_avaliacao']\n",
        "filmes.columns = ['id_filme','titulo','generos']"
      ]
    },
    {
      "cell_type": "code",
      "execution_count": 5,
      "metadata": {
        "id": "OLKNAMpvFNH2"
      },
      "outputs": [],
      "source": [
        "dados = filmes.merge(notas,on='id_filme')"
      ]
    },
    {
      "cell_type": "code",
      "execution_count": 6,
      "metadata": {
        "id": "Jz4Gqer0FSbB"
      },
      "outputs": [],
      "source": [
        "dados = notas[['id_usuario','id_filme','nota_usuario_filme']]\n"
      ]
    },
    {
      "cell_type": "code",
      "execution_count": 7,
      "metadata": {
        "id": "d_GpGp5AGYBv"
      },
      "outputs": [],
      "source": [
        "reader = Reader(line_format='user item rating',rating_scale=(0.0,5.0))"
      ]
    },
    {
      "cell_type": "code",
      "execution_count": 8,
      "metadata": {
        "id": "7RDbiE7BG2ka"
      },
      "outputs": [],
      "source": [
        "data_suprise = surprise.Dataset.load_from_df(dados,reader)"
      ]
    },
    {
      "cell_type": "code",
      "execution_count": 9,
      "metadata": {
        "id": "uVLVlQ4AFAZn"
      },
      "outputs": [],
      "source": [
        "trainset, testset = train_test_split(data_suprise)"
      ]
    },
    {
      "cell_type": "markdown",
      "metadata": {
        "id": "Ao1bPgYAI30a"
      },
      "source": [
        "#SVD e SVDpp ou SVD++\n",
        "\n",
        "modelo matemático SVD\n",
        "\n",
        "![image.png](data:image/png;base64,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)\n",
        "\n",
        "modelo matematico SVD++\n",
        "\n",
        "![image.png](data:image/png;base64,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)"
      ]
    },
    {
      "cell_type": "code",
      "execution_count": 10,
      "metadata": {
        "id": "tembX5_xICyu"
      },
      "outputs": [],
      "source": [
        "algo = surprise.SVDpp()"
      ]
    },
    {
      "cell_type": "code",
      "execution_count": 11,
      "metadata": {
        "colab": {
          "base_uri": "https://localhost:8080/"
        },
        "id": "thxVfofoJpFk",
        "outputId": "83859fb9-a404-4d08-a724-47aac474dbcd"
      },
      "outputs": [],
      "source": [
        "algo.fit(trainset)"
      ]
    },
    {
      "cell_type": "code",
      "execution_count": null,
      "metadata": {
        "colab": {
          "base_uri": "https://localhost:8080/"
        },
        "id": "ikww3_HHL-Xb",
        "outputId": "baef5d7b-efdf-4350-d5b4-e0c75667b83f"
      },
      "outputs": [
        {
          "data": {
            "text/plain": [
              "Prediction(uid=35, iid=2571, r_ui=None, est=4.611641795378047, details={'was_impossible': False})"
            ]
          },
          "execution_count": 24,
          "metadata": {},
          "output_type": "execute_result"
        }
      ],
      "source": [
        "#predict idU idI\n",
        "\n",
        "algo.predict(35,2571)\n"
      ]
    },
    {
      "cell_type": "code",
      "execution_count": null,
      "metadata": {
        "colab": {
          "base_uri": "https://localhost:8080/",
          "height": 770
        },
        "id": "rvcUWkJUMmM3",
        "outputId": "1b1c0263-976c-41f4-b135-c6c07e3ad762"
      },
      "outputs": [
        {
          "data": {
            "text/html": [
              "<div>\n",
              "<style scoped>\n",
              "    .dataframe tbody tr th:only-of-type {\n",
              "        vertical-align: middle;\n",
              "    }\n",
              "\n",
              "    .dataframe tbody tr th {\n",
              "        vertical-align: top;\n",
              "    }\n",
              "\n",
              "    .dataframe thead th {\n",
              "        text-align: right;\n",
              "    }\n",
              "</style>\n",
              "<table border=\"1\" class=\"dataframe\">\n",
              "  <thead>\n",
              "    <tr style=\"text-align: right;\">\n",
              "      <th></th>\n",
              "      <th>id_filme</th>\n",
              "    </tr>\n",
              "  </thead>\n",
              "  <tbody>\n",
              "    <tr>\n",
              "      <th>5273</th>\n",
              "      <td>11</td>\n",
              "    </tr>\n",
              "    <tr>\n",
              "      <th>5274</th>\n",
              "      <td>21</td>\n",
              "    </tr>\n",
              "    <tr>\n",
              "      <th>5275</th>\n",
              "      <td>39</td>\n",
              "    </tr>\n",
              "    <tr>\n",
              "      <th>5276</th>\n",
              "      <td>50</td>\n",
              "    </tr>\n",
              "    <tr>\n",
              "      <th>5277</th>\n",
              "      <td>60</td>\n",
              "    </tr>\n",
              "    <tr>\n",
              "      <th>5278</th>\n",
              "      <td>62</td>\n",
              "    </tr>\n",
              "    <tr>\n",
              "      <th>5279</th>\n",
              "      <td>150</td>\n",
              "    </tr>\n",
              "    <tr>\n",
              "      <th>5280</th>\n",
              "      <td>185</td>\n",
              "    </tr>\n",
              "    <tr>\n",
              "      <th>5281</th>\n",
              "      <td>222</td>\n",
              "    </tr>\n",
              "    <tr>\n",
              "      <th>5282</th>\n",
              "      <td>231</td>\n",
              "    </tr>\n",
              "    <tr>\n",
              "      <th>5283</th>\n",
              "      <td>235</td>\n",
              "    </tr>\n",
              "    <tr>\n",
              "      <th>5284</th>\n",
              "      <td>236</td>\n",
              "    </tr>\n",
              "    <tr>\n",
              "      <th>5285</th>\n",
              "      <td>237</td>\n",
              "    </tr>\n",
              "    <tr>\n",
              "      <th>5286</th>\n",
              "      <td>252</td>\n",
              "    </tr>\n",
              "    <tr>\n",
              "      <th>5287</th>\n",
              "      <td>261</td>\n",
              "    </tr>\n",
              "    <tr>\n",
              "      <th>5288</th>\n",
              "      <td>266</td>\n",
              "    </tr>\n",
              "    <tr>\n",
              "      <th>5289</th>\n",
              "      <td>300</td>\n",
              "    </tr>\n",
              "    <tr>\n",
              "      <th>5290</th>\n",
              "      <td>316</td>\n",
              "    </tr>\n",
              "    <tr>\n",
              "      <th>5291</th>\n",
              "      <td>339</td>\n",
              "    </tr>\n",
              "    <tr>\n",
              "      <th>5292</th>\n",
              "      <td>342</td>\n",
              "    </tr>\n",
              "    <tr>\n",
              "      <th>5293</th>\n",
              "      <td>590</td>\n",
              "    </tr>\n",
              "    <tr>\n",
              "      <th>5294</th>\n",
              "      <td>592</td>\n",
              "    </tr>\n",
              "    <tr>\n",
              "      <th>5295</th>\n",
              "      <td>595</td>\n",
              "    </tr>\n",
              "  </tbody>\n",
              "</table>\n",
              "</div>"
            ],
            "text/plain": [
              "      id_filme\n",
              "5273        11\n",
              "5274        21\n",
              "5275        39\n",
              "5276        50\n",
              "5277        60\n",
              "5278        62\n",
              "5279       150\n",
              "5280       185\n",
              "5281       222\n",
              "5282       231\n",
              "5283       235\n",
              "5284       236\n",
              "5285       237\n",
              "5286       252\n",
              "5287       261\n",
              "5288       266\n",
              "5289       300\n",
              "5290       316\n",
              "5291       339\n",
              "5292       342\n",
              "5293       590\n",
              "5294       592\n",
              "5295       595"
            ]
          },
          "execution_count": 29,
          "metadata": {},
          "output_type": "execute_result"
        }
      ],
      "source": [
        "filmes_assistidos_alvo = notas.query('id_usuario == 35')['id_filme']\n",
        "pd.DataFrame(filmes_assistidos_alvo)"
      ]
    },
    {
      "cell_type": "code",
      "execution_count": null,
      "metadata": {
        "id": "u00SASOaNrTe"
      },
      "outputs": [],
      "source": [
        "filmes_assistidos_alvo = notas[notas['id_usuario']==35]['id_filme']"
      ]
    },
    {
      "cell_type": "code",
      "execution_count": null,
      "metadata": {
        "colab": {
          "base_uri": "https://localhost:8080/",
          "height": 802
        },
        "id": "SIrwfutfOV3r",
        "outputId": "78dcc3bd-7268-485d-f960-2b1e9869e6a9"
      },
      "outputs": [
        {
          "data": {
            "text/html": [
              "<div>\n",
              "<style scoped>\n",
              "    .dataframe tbody tr th:only-of-type {\n",
              "        vertical-align: middle;\n",
              "    }\n",
              "\n",
              "    .dataframe tbody tr th {\n",
              "        vertical-align: top;\n",
              "    }\n",
              "\n",
              "    .dataframe thead th {\n",
              "        text-align: right;\n",
              "    }\n",
              "</style>\n",
              "<table border=\"1\" class=\"dataframe\">\n",
              "  <thead>\n",
              "    <tr style=\"text-align: right;\">\n",
              "      <th></th>\n",
              "      <th>titulo</th>\n",
              "      <th>generos</th>\n",
              "    </tr>\n",
              "    <tr>\n",
              "      <th>id_filme</th>\n",
              "      <th></th>\n",
              "      <th></th>\n",
              "    </tr>\n",
              "  </thead>\n",
              "  <tbody>\n",
              "    <tr>\n",
              "      <th>11</th>\n",
              "      <td>American President, The (1995)</td>\n",
              "      <td>Comedy|Drama|Romance</td>\n",
              "    </tr>\n",
              "    <tr>\n",
              "      <th>21</th>\n",
              "      <td>Get Shorty (1995)</td>\n",
              "      <td>Comedy|Crime|Thriller</td>\n",
              "    </tr>\n",
              "    <tr>\n",
              "      <th>39</th>\n",
              "      <td>Clueless (1995)</td>\n",
              "      <td>Comedy|Romance</td>\n",
              "    </tr>\n",
              "    <tr>\n",
              "      <th>50</th>\n",
              "      <td>Usual Suspects, The (1995)</td>\n",
              "      <td>Crime|Mystery|Thriller</td>\n",
              "    </tr>\n",
              "    <tr>\n",
              "      <th>60</th>\n",
              "      <td>Indian in the Cupboard, The (1995)</td>\n",
              "      <td>Adventure|Children|Fantasy</td>\n",
              "    </tr>\n",
              "    <tr>\n",
              "      <th>62</th>\n",
              "      <td>Mr. Holland's Opus (1995)</td>\n",
              "      <td>Drama</td>\n",
              "    </tr>\n",
              "    <tr>\n",
              "      <th>150</th>\n",
              "      <td>Apollo 13 (1995)</td>\n",
              "      <td>Adventure|Drama|IMAX</td>\n",
              "    </tr>\n",
              "    <tr>\n",
              "      <th>185</th>\n",
              "      <td>Net, The (1995)</td>\n",
              "      <td>Action|Crime|Thriller</td>\n",
              "    </tr>\n",
              "    <tr>\n",
              "      <th>222</th>\n",
              "      <td>Circle of Friends (1995)</td>\n",
              "      <td>Drama|Romance</td>\n",
              "    </tr>\n",
              "    <tr>\n",
              "      <th>231</th>\n",
              "      <td>Dumb &amp; Dumber (Dumb and Dumber) (1994)</td>\n",
              "      <td>Adventure|Comedy</td>\n",
              "    </tr>\n",
              "    <tr>\n",
              "      <th>235</th>\n",
              "      <td>Ed Wood (1994)</td>\n",
              "      <td>Comedy|Drama</td>\n",
              "    </tr>\n",
              "    <tr>\n",
              "      <th>236</th>\n",
              "      <td>French Kiss (1995)</td>\n",
              "      <td>Action|Comedy|Romance</td>\n",
              "    </tr>\n",
              "    <tr>\n",
              "      <th>237</th>\n",
              "      <td>Forget Paris (1995)</td>\n",
              "      <td>Comedy|Romance</td>\n",
              "    </tr>\n",
              "    <tr>\n",
              "      <th>252</th>\n",
              "      <td>I.Q. (1994)</td>\n",
              "      <td>Comedy|Romance</td>\n",
              "    </tr>\n",
              "    <tr>\n",
              "      <th>261</th>\n",
              "      <td>Little Women (1994)</td>\n",
              "      <td>Drama</td>\n",
              "    </tr>\n",
              "    <tr>\n",
              "      <th>266</th>\n",
              "      <td>Legends of the Fall (1994)</td>\n",
              "      <td>Drama|Romance|War|Western</td>\n",
              "    </tr>\n",
              "    <tr>\n",
              "      <th>300</th>\n",
              "      <td>Quiz Show (1994)</td>\n",
              "      <td>Drama</td>\n",
              "    </tr>\n",
              "    <tr>\n",
              "      <th>316</th>\n",
              "      <td>Stargate (1994)</td>\n",
              "      <td>Action|Adventure|Sci-Fi</td>\n",
              "    </tr>\n",
              "    <tr>\n",
              "      <th>339</th>\n",
              "      <td>While You Were Sleeping (1995)</td>\n",
              "      <td>Comedy|Romance</td>\n",
              "    </tr>\n",
              "    <tr>\n",
              "      <th>342</th>\n",
              "      <td>Muriel's Wedding (1994)</td>\n",
              "      <td>Comedy</td>\n",
              "    </tr>\n",
              "    <tr>\n",
              "      <th>590</th>\n",
              "      <td>Dances with Wolves (1990)</td>\n",
              "      <td>Adventure|Drama|Western</td>\n",
              "    </tr>\n",
              "    <tr>\n",
              "      <th>592</th>\n",
              "      <td>Batman (1989)</td>\n",
              "      <td>Action|Crime|Thriller</td>\n",
              "    </tr>\n",
              "    <tr>\n",
              "      <th>595</th>\n",
              "      <td>Beauty and the Beast (1991)</td>\n",
              "      <td>Animation|Children|Fantasy|Musical|Romance|IMAX</td>\n",
              "    </tr>\n",
              "  </tbody>\n",
              "</table>\n",
              "</div>"
            ],
            "text/plain": [
              "                                          titulo                                          generos\n",
              "id_filme                                                                                         \n",
              "11                American President, The (1995)                             Comedy|Drama|Romance\n",
              "21                             Get Shorty (1995)                            Comedy|Crime|Thriller\n",
              "39                               Clueless (1995)                                   Comedy|Romance\n",
              "50                    Usual Suspects, The (1995)                           Crime|Mystery|Thriller\n",
              "60            Indian in the Cupboard, The (1995)                       Adventure|Children|Fantasy\n",
              "62                     Mr. Holland's Opus (1995)                                            Drama\n",
              "150                             Apollo 13 (1995)                             Adventure|Drama|IMAX\n",
              "185                              Net, The (1995)                            Action|Crime|Thriller\n",
              "222                     Circle of Friends (1995)                                    Drama|Romance\n",
              "231       Dumb & Dumber (Dumb and Dumber) (1994)                                 Adventure|Comedy\n",
              "235                               Ed Wood (1994)                                     Comedy|Drama\n",
              "236                           French Kiss (1995)                            Action|Comedy|Romance\n",
              "237                          Forget Paris (1995)                                   Comedy|Romance\n",
              "252                                  I.Q. (1994)                                   Comedy|Romance\n",
              "261                          Little Women (1994)                                            Drama\n",
              "266                   Legends of the Fall (1994)                        Drama|Romance|War|Western\n",
              "300                             Quiz Show (1994)                                            Drama\n",
              "316                              Stargate (1994)                          Action|Adventure|Sci-Fi\n",
              "339               While You Were Sleeping (1995)                                   Comedy|Romance\n",
              "342                      Muriel's Wedding (1994)                                           Comedy\n",
              "590                    Dances with Wolves (1990)                          Adventure|Drama|Western\n",
              "592                                Batman (1989)                            Action|Crime|Thriller\n",
              "595                  Beauty and the Beast (1991)  Animation|Children|Fantasy|Musical|Romance|IMAX"
            ]
          },
          "execution_count": 39,
          "metadata": {},
          "output_type": "execute_result"
        }
      ],
      "source": [
        "filmes.set_index('id_filme').loc[filmes_assistidos_alvo]"
      ]
    },
    {
      "cell_type": "markdown",
      "metadata": {
        "id": "CZphs6x0ORkv"
      },
      "source": [
        "11,\"American President, The (1995)\",Comedy|Drama|Romance"
      ]
    },
    {
      "cell_type": "code",
      "execution_count": null,
      "metadata": {
        "colab": {
          "base_uri": "https://localhost:8080/"
        },
        "id": "HTpoKvQKN46M",
        "outputId": "62e23750-6d42-4288-db38-25111a72eb5c"
      },
      "outputs": [
        {
          "data": {
            "text/plain": [
              "Int64Index([ 11,  21,  39,  50,  60,  62, 150, 185, 222, 231, 235, 236, 237,\n",
              "            252, 261, 266, 300, 316, 339, 342, 590, 592, 595],\n",
              "           dtype='int64', name='id_filme')"
            ]
          },
          "execution_count": 36,
          "metadata": {},
          "output_type": "execute_result"
        }
      ],
      "source": [
        "ids_filmes_assistidos = filmes.set_index('id_filme').loc[filmes_assistidos_alvo].index\n",
        "ids_filmes_assistidos"
      ]
    },
    {
      "cell_type": "code",
      "execution_count": null,
      "metadata": {
        "colab": {
          "base_uri": "https://localhost:8080/",
          "height": 423
        },
        "id": "9vEsZpr9Oy4u",
        "outputId": "8dfd4a11-f019-4a02-889e-41a15c484836"
      },
      "outputs": [
        {
          "data": {
            "text/html": [
              "<div>\n",
              "<style scoped>\n",
              "    .dataframe tbody tr th:only-of-type {\n",
              "        vertical-align: middle;\n",
              "    }\n",
              "\n",
              "    .dataframe tbody tr th {\n",
              "        vertical-align: top;\n",
              "    }\n",
              "\n",
              "    .dataframe thead th {\n",
              "        text-align: right;\n",
              "    }\n",
              "</style>\n",
              "<table border=\"1\" class=\"dataframe\">\n",
              "  <thead>\n",
              "    <tr style=\"text-align: right;\">\n",
              "      <th></th>\n",
              "      <th>id_filme</th>\n",
              "      <th>titulo</th>\n",
              "      <th>generos</th>\n",
              "    </tr>\n",
              "  </thead>\n",
              "  <tbody>\n",
              "    <tr>\n",
              "      <th>32</th>\n",
              "      <td>34</td>\n",
              "      <td>Babe (1995)</td>\n",
              "      <td>Children|Drama</td>\n",
              "    </tr>\n",
              "    <tr>\n",
              "      <th>33</th>\n",
              "      <td>36</td>\n",
              "      <td>Dead Man Walking (1995)</td>\n",
              "      <td>Crime|Drama</td>\n",
              "    </tr>\n",
              "    <tr>\n",
              "      <th>34</th>\n",
              "      <td>38</td>\n",
              "      <td>It Takes Two (1995)</td>\n",
              "      <td>Children|Comedy</td>\n",
              "    </tr>\n",
              "    <tr>\n",
              "      <th>35</th>\n",
              "      <td>39</td>\n",
              "      <td>Clueless (1995)</td>\n",
              "      <td>Comedy|Romance</td>\n",
              "    </tr>\n",
              "    <tr>\n",
              "      <th>36</th>\n",
              "      <td>40</td>\n",
              "      <td>Cry, the Beloved Country (1995)</td>\n",
              "      <td>Drama</td>\n",
              "    </tr>\n",
              "    <tr>\n",
              "      <th>...</th>\n",
              "      <td>...</td>\n",
              "      <td>...</td>\n",
              "      <td>...</td>\n",
              "    </tr>\n",
              "    <tr>\n",
              "      <th>101</th>\n",
              "      <td>116</td>\n",
              "      <td>Anne Frank Remembered (1995)</td>\n",
              "      <td>Documentary</td>\n",
              "    </tr>\n",
              "    <tr>\n",
              "      <th>102</th>\n",
              "      <td>117</td>\n",
              "      <td>Young Poisoner's Handbook, The (1995)</td>\n",
              "      <td>Crime|Drama</td>\n",
              "    </tr>\n",
              "    <tr>\n",
              "      <th>103</th>\n",
              "      <td>118</td>\n",
              "      <td>If Lucy Fell (1996)</td>\n",
              "      <td>Comedy|Romance</td>\n",
              "    </tr>\n",
              "    <tr>\n",
              "      <th>104</th>\n",
              "      <td>119</td>\n",
              "      <td>Steal Big, Steal Little (1995)</td>\n",
              "      <td>Comedy</td>\n",
              "    </tr>\n",
              "    <tr>\n",
              "      <th>105</th>\n",
              "      <td>121</td>\n",
              "      <td>Boys of St. Vincent, The (1992)</td>\n",
              "      <td>Drama</td>\n",
              "    </tr>\n",
              "  </tbody>\n",
              "</table>\n",
              "<p>70 rows × 3 columns</p>\n",
              "</div>"
            ],
            "text/plain": [
              "     id_filme                                 titulo          generos\n",
              "32         34                            Babe (1995)   Children|Drama\n",
              "33         36                Dead Man Walking (1995)      Crime|Drama\n",
              "34         38                    It Takes Two (1995)  Children|Comedy\n",
              "35         39                        Clueless (1995)   Comedy|Romance\n",
              "36         40        Cry, the Beloved Country (1995)            Drama\n",
              "..        ...                                    ...              ...\n",
              "101       116           Anne Frank Remembered (1995)      Documentary\n",
              "102       117  Young Poisoner's Handbook, The (1995)      Crime|Drama\n",
              "103       118                    If Lucy Fell (1996)   Comedy|Romance\n",
              "104       119         Steal Big, Steal Little (1995)           Comedy\n",
              "105       121        Boys of St. Vincent, The (1992)            Drama\n",
              "\n",
              "[70 rows x 3 columns]"
            ]
          },
          "execution_count": 42,
          "metadata": {},
          "output_type": "execute_result"
        }
      ],
      "source": [
        "filmes.drop(ids_filmes_assistidos).iloc[30:100]"
      ]
    },
    {
      "cell_type": "code",
      "execution_count": null,
      "metadata": {
        "colab": {
          "base_uri": "https://localhost:8080/"
        },
        "id": "cVFBNxnmPM3D",
        "outputId": "f76e1197-75f6-45a1-a880-aa9a73804e8b"
      },
      "outputs": [
        {
          "data": {
            "text/plain": [
              "Prediction(uid=35, iid=117, r_ui=None, est=4.0131758160112945, details={'was_impossible': False})"
            ]
          },
          "execution_count": 44,
          "metadata": {},
          "output_type": "execute_result"
        }
      ],
      "source": [
        "algo.predict(35,117)"
      ]
    },
    {
      "cell_type": "code",
      "execution_count": null,
      "metadata": {
        "id": "lo6Rdpq9QFaa"
      },
      "outputs": [],
      "source": [
        "#vamos pensar em uma função que verifique os filmes que o alvo não assistiu e retorne os ids dos filmes\n",
        "#com suas predições.\n",
        "def filmes_assistidos_alvo(id_usuario):\n",
        "  filmes_assistidos = notas[notas['id_usuario']==id_usuario]['id_filme']\n",
        "  return filmes.set_index('id_filme').loc[filmes_assistidos]"
      ]
    },
    {
      "cell_type": "code",
      "execution_count": null,
      "metadata": {
        "id": "opKFx-0PQx6M"
      },
      "outputs": [],
      "source": [
        "def filmes_nao_assistidos(id_usario):\n",
        "  filmes_assistidos = notas[notas['id_usuario']==id_usario]['id_filme']\n",
        "  return filmes.set_index('id_filme').drop(filmes_assistidos)"
      ]
    },
    {
      "cell_type": "code",
      "execution_count": null,
      "metadata": {
        "colab": {
          "base_uri": "https://localhost:8080/",
          "height": 237
        },
        "id": "F0UfaiFXRxUo",
        "outputId": "1f50d955-0c3d-4d7f-e933-a7e3c91eff5d"
      },
      "outputs": [
        {
          "data": {
            "text/html": [
              "<div>\n",
              "<style scoped>\n",
              "    .dataframe tbody tr th:only-of-type {\n",
              "        vertical-align: middle;\n",
              "    }\n",
              "\n",
              "    .dataframe tbody tr th {\n",
              "        vertical-align: top;\n",
              "    }\n",
              "\n",
              "    .dataframe thead th {\n",
              "        text-align: right;\n",
              "    }\n",
              "</style>\n",
              "<table border=\"1\" class=\"dataframe\">\n",
              "  <thead>\n",
              "    <tr style=\"text-align: right;\">\n",
              "      <th></th>\n",
              "      <th>titulo</th>\n",
              "      <th>generos</th>\n",
              "    </tr>\n",
              "    <tr>\n",
              "      <th>id_filme</th>\n",
              "      <th></th>\n",
              "      <th></th>\n",
              "    </tr>\n",
              "  </thead>\n",
              "  <tbody>\n",
              "    <tr>\n",
              "      <th>1</th>\n",
              "      <td>Toy Story (1995)</td>\n",
              "      <td>Adventure|Animation|Children|Comedy|Fantasy</td>\n",
              "    </tr>\n",
              "    <tr>\n",
              "      <th>2</th>\n",
              "      <td>Jumanji (1995)</td>\n",
              "      <td>Adventure|Children|Fantasy</td>\n",
              "    </tr>\n",
              "    <tr>\n",
              "      <th>3</th>\n",
              "      <td>Grumpier Old Men (1995)</td>\n",
              "      <td>Comedy|Romance</td>\n",
              "    </tr>\n",
              "    <tr>\n",
              "      <th>4</th>\n",
              "      <td>Waiting to Exhale (1995)</td>\n",
              "      <td>Comedy|Drama|Romance</td>\n",
              "    </tr>\n",
              "    <tr>\n",
              "      <th>5</th>\n",
              "      <td>Father of the Bride Part II (1995)</td>\n",
              "      <td>Comedy</td>\n",
              "    </tr>\n",
              "  </tbody>\n",
              "</table>\n",
              "</div>"
            ],
            "text/plain": [
              "                                      titulo                                      generos\n",
              "id_filme                                                                                 \n",
              "1                           Toy Story (1995)  Adventure|Animation|Children|Comedy|Fantasy\n",
              "2                             Jumanji (1995)                   Adventure|Children|Fantasy\n",
              "3                    Grumpier Old Men (1995)                               Comedy|Romance\n",
              "4                   Waiting to Exhale (1995)                         Comedy|Drama|Romance\n",
              "5         Father of the Bride Part II (1995)                                       Comedy"
            ]
          },
          "execution_count": 56,
          "metadata": {},
          "output_type": "execute_result"
        }
      ],
      "source": [
        "filmes_nao_assistidos(35).head(5)"
      ]
    },
    {
      "cell_type": "code",
      "execution_count": null,
      "metadata": {
        "colab": {
          "base_uri": "https://localhost:8080/",
          "height": 237
        },
        "id": "s8aEK7ciR8aP",
        "outputId": "3241045d-a482-41f2-c58f-187657a7c74e"
      },
      "outputs": [
        {
          "data": {
            "text/html": [
              "<div>\n",
              "<style scoped>\n",
              "    .dataframe tbody tr th:only-of-type {\n",
              "        vertical-align: middle;\n",
              "    }\n",
              "\n",
              "    .dataframe tbody tr th {\n",
              "        vertical-align: top;\n",
              "    }\n",
              "\n",
              "    .dataframe thead th {\n",
              "        text-align: right;\n",
              "    }\n",
              "</style>\n",
              "<table border=\"1\" class=\"dataframe\">\n",
              "  <thead>\n",
              "    <tr style=\"text-align: right;\">\n",
              "      <th></th>\n",
              "      <th>titulo</th>\n",
              "      <th>generos</th>\n",
              "    </tr>\n",
              "    <tr>\n",
              "      <th>id_filme</th>\n",
              "      <th></th>\n",
              "      <th></th>\n",
              "    </tr>\n",
              "  </thead>\n",
              "  <tbody>\n",
              "    <tr>\n",
              "      <th>11</th>\n",
              "      <td>American President, The (1995)</td>\n",
              "      <td>Comedy|Drama|Romance</td>\n",
              "    </tr>\n",
              "    <tr>\n",
              "      <th>21</th>\n",
              "      <td>Get Shorty (1995)</td>\n",
              "      <td>Comedy|Crime|Thriller</td>\n",
              "    </tr>\n",
              "    <tr>\n",
              "      <th>39</th>\n",
              "      <td>Clueless (1995)</td>\n",
              "      <td>Comedy|Romance</td>\n",
              "    </tr>\n",
              "    <tr>\n",
              "      <th>50</th>\n",
              "      <td>Usual Suspects, The (1995)</td>\n",
              "      <td>Crime|Mystery|Thriller</td>\n",
              "    </tr>\n",
              "    <tr>\n",
              "      <th>60</th>\n",
              "      <td>Indian in the Cupboard, The (1995)</td>\n",
              "      <td>Adventure|Children|Fantasy</td>\n",
              "    </tr>\n",
              "  </tbody>\n",
              "</table>\n",
              "</div>"
            ],
            "text/plain": [
              "                                      titulo                     generos\n",
              "id_filme                                                                \n",
              "11            American President, The (1995)        Comedy|Drama|Romance\n",
              "21                         Get Shorty (1995)       Comedy|Crime|Thriller\n",
              "39                           Clueless (1995)              Comedy|Romance\n",
              "50                Usual Suspects, The (1995)      Crime|Mystery|Thriller\n",
              "60        Indian in the Cupboard, The (1995)  Adventure|Children|Fantasy"
            ]
          },
          "execution_count": 57,
          "metadata": {},
          "output_type": "execute_result"
        }
      ],
      "source": [
        "filmes_assistidos_alvo(35).head(5)"
      ]
    },
    {
      "cell_type": "code",
      "execution_count": null,
      "metadata": {
        "id": "GHZ_x-zTSTWu"
      },
      "outputs": [],
      "source": [
        "def verifica_predicoes_filmes(id_usuario):\n",
        "  dic = []\n",
        "  filmes_predicao = filmes_nao_assistidos(id_usuario).index\n",
        "  for item in filmes_predicao:\n",
        "    dic.append(algo.predict(id_usuario,item))\n",
        "  return dic"
      ]
    },
    {
      "cell_type": "code",
      "execution_count": null,
      "metadata": {
        "id": "u84_uuanU_Rt"
      },
      "outputs": [],
      "source": [
        "from collections import defaultdict"
      ]
    },
    {
      "cell_type": "code",
      "execution_count": null,
      "metadata": {
        "colab": {
          "base_uri": "https://localhost:8080/"
        },
        "id": "VAxinoqoW4as",
        "outputId": "d024d727-ba0d-45e2-ff24-976db501fead"
      },
      "outputs": [
        {
          "data": {
            "text/plain": [
              "Prediction(uid=35, iid=1, r_ui=None, est=4.281995229629138, details={'was_impossible': False})"
            ]
          },
          "execution_count": 92,
          "metadata": {},
          "output_type": "execute_result"
        }
      ],
      "source": [
        "algo.predict(35,1)"
      ]
    },
    {
      "cell_type": "code",
      "execution_count": null,
      "metadata": {
        "id": "IZwttVZ9Vzp6"
      },
      "outputs": [],
      "source": [
        "def apresenta_recomendacoes(id_usuario):\n",
        "  filmes_predicoes = defaultdict(list)\n",
        "  predicoes_usuario = verifica_predicoes_filmes(id_usuario)\n",
        "  for _,item,_,predicao,_ in predicoes_usuario:\n",
        "    filmes_predicoes[item].append(predicao)\n",
        "  \n",
        "  ids_dos_filmes_predicao = pd.DataFrame.from_dict(filmes_predicoes,orient='index')\n",
        "  ids_dos_filmes_predicao.columns = ['predicao']\n",
        "\n",
        "  return ids_dos_filmes_predicao.join(filmes.set_index('id_filme')).dropna().sort_values('predicao',ascending=False).head(5)\n"
      ]
    },
    {
      "cell_type": "code",
      "execution_count": null,
      "metadata": {
        "colab": {
          "base_uri": "https://localhost:8080/",
          "height": 206
        },
        "id": "mkbm9g9sWp5K",
        "outputId": "ad73fcd0-c57f-40e3-a2e9-732c986f28ac"
      },
      "outputs": [
        {
          "data": {
            "text/html": [
              "<div>\n",
              "<style scoped>\n",
              "    .dataframe tbody tr th:only-of-type {\n",
              "        vertical-align: middle;\n",
              "    }\n",
              "\n",
              "    .dataframe tbody tr th {\n",
              "        vertical-align: top;\n",
              "    }\n",
              "\n",
              "    .dataframe thead th {\n",
              "        text-align: right;\n",
              "    }\n",
              "</style>\n",
              "<table border=\"1\" class=\"dataframe\">\n",
              "  <thead>\n",
              "    <tr style=\"text-align: right;\">\n",
              "      <th></th>\n",
              "      <th>predicao</th>\n",
              "      <th>titulo</th>\n",
              "      <th>generos</th>\n",
              "    </tr>\n",
              "  </thead>\n",
              "  <tbody>\n",
              "    <tr>\n",
              "      <th>1104</th>\n",
              "      <td>4.264714</td>\n",
              "      <td>Streetcar Named Desire, A (1951)</td>\n",
              "      <td>Drama</td>\n",
              "    </tr>\n",
              "    <tr>\n",
              "      <th>858</th>\n",
              "      <td>4.214874</td>\n",
              "      <td>Godfather, The (1972)</td>\n",
              "      <td>Crime|Drama</td>\n",
              "    </tr>\n",
              "    <tr>\n",
              "      <th>1193</th>\n",
              "      <td>4.115639</td>\n",
              "      <td>One Flew Over the Cuckoo's Nest (1975)</td>\n",
              "      <td>Drama</td>\n",
              "    </tr>\n",
              "    <tr>\n",
              "      <th>6016</th>\n",
              "      <td>4.097679</td>\n",
              "      <td>City of God (Cidade de Deus) (2002)</td>\n",
              "      <td>Action|Adventure|Crime|Drama|Thriller</td>\n",
              "    </tr>\n",
              "    <tr>\n",
              "      <th>1196</th>\n",
              "      <td>4.088539</td>\n",
              "      <td>Star Wars: Episode V - The Empire Strikes Back...</td>\n",
              "      <td>Action|Adventure|Sci-Fi</td>\n",
              "    </tr>\n",
              "  </tbody>\n",
              "</table>\n",
              "</div>"
            ],
            "text/plain": [
              "      predicao  ...                                generos\n",
              "1104  4.264714  ...                                  Drama\n",
              "858   4.214874  ...                            Crime|Drama\n",
              "1193  4.115639  ...                                  Drama\n",
              "6016  4.097679  ...  Action|Adventure|Crime|Drama|Thriller\n",
              "1196  4.088539  ...                Action|Adventure|Sci-Fi\n",
              "\n",
              "[5 rows x 3 columns]"
            ]
          },
          "execution_count": 117,
          "metadata": {},
          "output_type": "execute_result"
        }
      ],
      "source": [
        "apresenta_recomendacoes(35)"
      ]
    },
    {
      "cell_type": "markdown",
      "metadata": {
        "id": "_o2pustpcQtZ"
      },
      "source": [
        "#Utilizando KNNBasic com Surprise"
      ]
    },
    {
      "cell_type": "code",
      "execution_count": null,
      "metadata": {
        "id": "R4e6qy-icWVR"
      },
      "outputs": [],
      "source": [
        "from surprise import KNNBasic"
      ]
    },
    {
      "cell_type": "code",
      "execution_count": null,
      "metadata": {
        "id": "xdxqwlIzceU1"
      },
      "outputs": [],
      "source": [
        "algo = KNNBasic()"
      ]
    },
    {
      "cell_type": "code",
      "execution_count": null,
      "metadata": {
        "id": "fX8RUOyfctbM"
      },
      "outputs": [],
      "source": [
        "reader = Reader(line_format='user item rating',rating_scale=(0.0,5.0))\n",
        "\n",
        "data_suprise = surprise.Dataset.load_from_df(dados,reader)\n",
        "\n",
        "trainset, testset = train_test_split(data_suprise)"
      ]
    },
    {
      "cell_type": "code",
      "execution_count": null,
      "metadata": {
        "id": "b6IWihARdAtx"
      },
      "outputs": [],
      "source": [
        "sim_option = {'name':'pearson','user_based':True}"
      ]
    },
    {
      "cell_type": "code",
      "execution_count": null,
      "metadata": {
        "id": "W0GZk3NTdksO"
      },
      "outputs": [],
      "source": [
        "algo = KNNBasic(sim_options=sim_option,verbonse=True)"
      ]
    },
    {
      "cell_type": "code",
      "execution_count": null,
      "metadata": {
        "colab": {
          "base_uri": "https://localhost:8080/"
        },
        "id": "u5InHNPid6l0",
        "outputId": "41af7bb9-c05b-4567-f312-795ca0ec0930"
      },
      "outputs": [
        {
          "name": "stdout",
          "output_type": "stream",
          "text": [
            "Computing the pearson similarity matrix...\n",
            "Done computing similarity matrix.\n"
          ]
        },
        {
          "data": {
            "text/plain": [
              "<surprise.prediction_algorithms.knns.KNNBasic at 0x7fd0316eaa50>"
            ]
          },
          "execution_count": 144,
          "metadata": {},
          "output_type": "execute_result"
        }
      ],
      "source": [
        "algo.fit(trainset)"
      ]
    },
    {
      "cell_type": "code",
      "execution_count": null,
      "metadata": {
        "colab": {
          "base_uri": "https://localhost:8080/"
        },
        "id": "RjV08AI4eMDY",
        "outputId": "cef0cd7b-6a5d-4809-a4c3-9405d16f3068"
      },
      "outputs": [
        {
          "data": {
            "text/plain": [
              "[589, 236, 388, 556, 354]"
            ]
          },
          "execution_count": 145,
          "metadata": {},
          "output_type": "execute_result"
        }
      ],
      "source": [
        "algo.get_neighbors(25,k=5)"
      ]
    },
    {
      "cell_type": "markdown",
      "metadata": {
        "id": "cjJKtzfUfsM5"
      },
      "source": [
        "#Desafio prático - Utilizando a biblioteca Surprise:\n",
        "\n",
        "1. Criar um menu para tentar inserir um novo usuário no dataframe de notas\n",
        "\n",
        "*  pedir para indicar o id do filme e a sua avaliação\n",
        "\n",
        "2. Possibilitar a chamada de funções filmes assistidos e filmes não assistidos para usuário informado via teclado.\n",
        "\n",
        "3. Consultar catálogo de recomendações para o usuário.\n",
        "\n"
      ]
    }
  ],
  "metadata": {
    "colab": {
      "collapsed_sections": [],
      "name": "aula_09_10_2021_parte_b.ipynb",
      "provenance": []
    },
    "interpreter": {
      "hash": "2db524e06e9f5f4ffedc911c917cb75e12dbc923643829bf417064a77eb14d37"
    },
    "kernelspec": {
      "display_name": "Python 3.8.5 64-bit",
      "name": "python3"
    },
    "language_info": {
      "codemirror_mode": {
        "name": "ipython",
        "version": 3
      },
      "file_extension": ".py",
      "mimetype": "text/x-python",
      "name": "python",
      "nbconvert_exporter": "python",
      "pygments_lexer": "ipython3",
      "version": "3.8.5"
    }
  },
  "nbformat": 4,
  "nbformat_minor": 0
}
