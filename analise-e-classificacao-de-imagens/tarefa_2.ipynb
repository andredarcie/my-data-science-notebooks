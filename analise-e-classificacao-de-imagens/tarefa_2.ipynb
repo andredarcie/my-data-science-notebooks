{
  "cells": [
    {
      "cell_type": "code",
      "execution_count": 98,
      "metadata": {
        "id": "R9zf7ecY6s8o"
      },
      "outputs": [],
      "source": [
        "import matplotlib.pyplot as plt\n",
        "\n",
        "# Import datasets, classifiers and performance metrics\n",
        "from sklearn import datasets, svm, metrics\n",
        "from sklearn.model_selection import train_test_split"
      ]
    },
    {
      "cell_type": "code",
      "execution_count": 99,
      "metadata": {
        "colab": {
          "base_uri": "https://localhost:8080/",
          "height": 168
        },
        "id": "UeiCbuI-CWRC",
        "outputId": "46ea45fd-8a28-4a15-ab63-de04beae7cda"
      },
      "outputs": [
        {
          "data": {
            "image/png": "[encoded data removed]",
            "text/plain": [
              "<Figure size 720x216 with 4 Axes>"
            ]
          },
          "metadata": {
            "needs_background": "light"
          },
          "output_type": "display_data"
        }
      ],
      "source": [
        "# Digits dataset\n",
        "digits = datasets.load_digits()\n",
        "\n",
        "_, axes = plt.subplots(nrows=1, ncols=4, figsize=(10, 3))\n",
        "for ax, image, label in zip(axes, digits.images, digits.target):\n",
        "    ax.set_axis_off()\n",
        "    ax.imshow(image, cmap=plt.cm.gray_r, interpolation='nearest')\n",
        "    ax.set_title('Training: %i' % label)"
      ]
    },
    {
      "cell_type": "code",
      "execution_count": 100,
      "metadata": {
        "id": "_x0H9uLJCcQS"
      },
      "outputs": [],
      "source": [
        "# flatten the images\n",
        "n_samples = len(digits.images)\n",
        "data = digits.images.reshape((n_samples, -1))\n",
        "\n",
        "# Create a classifier: a support vector classifier\n",
        "clf = svm.SVC(gamma=0.001)\n",
        "\n",
        "# Split data into 70% train and 30% test subsets\n",
        "X_train, X_test, y_train, y_test = train_test_split(\n",
        "    data, digits.target, test_size=0.7, shuffle=False)\n",
        "\n",
        "# Learn the digits on the train subset\n",
        "clf.fit(X_train, y_train)\n",
        "\n",
        "# Predict the value of the digit on the test subset\n",
        "predicted = clf.predict(X_test)"
      ]
    },
    {
      "cell_type": "code",
      "execution_count": 101,
      "metadata": {
        "colab": {
          "base_uri": "https://localhost:8080/",
          "height": 168
        },
        "id": "PUydEZS7CnKa",
        "outputId": "6763aa4f-9a47-45fc-c3fa-d0a7298ca6cc"
      },
      "outputs": [
        {
          "data": {
            "image/png": "[encoded data removed]",
            "text/plain": [
              "<Figure size 720x216 with 4 Axes>"
            ]
          },
          "metadata": {
            "needs_background": "light"
          },
          "output_type": "display_data"
        }
      ],
      "source": [
        "_, axes = plt.subplots(nrows=1, ncols=4, figsize=(10, 3))\n",
        "for ax, image, prediction in zip(axes, X_test, predicted):\n",
        "    ax.set_axis_off()\n",
        "    image = image.reshape(8, 8)\n",
        "    ax.imshow(image, cmap=plt.cm.gray_r, interpolation='nearest')\n",
        "    ax.set_title(f'Prediction: {prediction}')"
      ]
    },
    {
      "cell_type": "code",
      "execution_count": 102,
      "metadata": {
        "colab": {
          "base_uri": "https://localhost:8080/"
        },
        "id": "Qs1bKWoACqFa",
        "outputId": "5135f75b-8b23-49e8-8dbe-b289a2b5a1bd"
      },
      "outputs": [
        {
          "name": "stdout",
          "output_type": "stream",
          "text": [
            "Classification report for classifier SVC(gamma=0.001):\n",
            "              precision    recall  f1-score   support\n",
            "\n",
            "           0       0.99      0.99      0.99       123\n",
            "           1       0.95      0.97      0.96       127\n",
            "           2       0.98      0.97      0.98       122\n",
            "           3       0.98      0.91      0.94       128\n",
            "           4       0.98      0.96      0.97       128\n",
            "           5       0.94      0.96      0.95       128\n",
            "           6       0.99      0.98      0.98       128\n",
            "           7       0.96      1.00      0.98       126\n",
            "           8       0.93      0.93      0.93       121\n",
            "           9       0.90      0.94      0.92       127\n",
            "\n",
            "    accuracy                           0.96      1258\n",
            "   macro avg       0.96      0.96      0.96      1258\n",
            "weighted avg       0.96      0.96      0.96      1258\n",
            "\n",
            "\n"
          ]
        }
      ],
      "source": [
        "print(f\"Classification report for classifier {clf}:\\n\"\n",
        "      f\"{metrics.classification_report(y_test, predicted)}\\n\")"
      ]
    },
    {
      "cell_type": "code",
      "execution_count": 103,
      "metadata": {
        "colab": {
          "base_uri": "https://localhost:8080/",
          "height": 499
        },
        "id": "4GpF7GkYCtRZ",
        "outputId": "4b8f06c7-e0a9-4785-a272-ce1643535823"
      },
      "outputs": [
        {
          "name": "stdout",
          "output_type": "stream",
          "text": [
            "Confusion matrix:\n",
            "[[122   0   0   0   1   0   0   0   0   0]\n",
            " [  0 123   1   0   0   1   0   0   2   0]\n",
            " [  0   0 118   1   0   0   0   1   0   2]\n",
            " [  0   0   0 116   0   3   0   3   6   0]\n",
            " [  0   0   0   0 123   0   0   1   0   4]\n",
            " [  0   0   0   0   1 123   1   0   0   3]\n",
            " [  1   1   0   0   0   1 125   0   0   0]\n",
            " [  0   0   0   0   0   0   0 126   0   0]\n",
            " [  0   3   1   0   0   1   0   0 112   4]\n",
            " [  0   3   0   1   0   2   0   0   1 120]]\n"
          ]
        },
        {
          "data": {
            "image/png": "[encoded data removed]",
            "text/plain": [
              "<Figure size 432x288 with 2 Axes>"
            ]
          },
          "metadata": {
            "needs_background": "light"
          },
          "output_type": "display_data"
        }
      ],
      "source": [
        "disp = metrics.plot_confusion_matrix(clf, X_test, y_test)\n",
        "disp.figure_.suptitle(\"Confusion Matrix\")\n",
        "print(f\"Confusion matrix:\\n{disp.confusion_matrix}\")\n",
        "\n",
        "plt.show()"
      ]
    },
    {
      "cell_type": "markdown",
      "metadata": {
        "id": "tOOW6aecFkmx"
      },
      "source": [
        "# Aplicar um limiar de f(x,y ) > 5: f(x,y) = 255, senão f(x,y) = 0. "
      ]
    },
    {
      "cell_type": "code",
      "execution_count": 104,
      "metadata": {
        "id": "gTK8nKTPRtn9"
      },
      "outputs": [],
      "source": [
        "digits = datasets.load_digits()"
      ]
    },
    {
      "cell_type": "code",
      "execution_count": 105,
      "metadata": {
        "id": "9ruV1KeiDpuC"
      },
      "outputs": [],
      "source": [
        "import numpy as np\n",
        "\n",
        "digitsCopy = np.copy(digits.data)\n",
        "\n",
        "for i in range(len(digitsCopy)):\n",
        "  for j in range(len(digitsCopy[i])):\n",
        "    if (digitsCopy[i][j] > 5):\n",
        "        digitsCopy[i][j] = 255\n",
        "    else:\n",
        "      digitsCopy[i][j] = 0"
      ]
    },
    {
      "cell_type": "code",
      "execution_count": 106,
      "metadata": {
        "colab": {
          "base_uri": "https://localhost:8080/",
          "height": 168
        },
        "id": "neyjEnyjn8RF",
        "outputId": "1942d586-97fe-4e18-b4f9-04bc9a11ed8c"
      },
      "outputs": [
        {
          "data": {
            "image/png": "[encoded data removed]",
            "text/plain": [
              "<Figure size 1440x576 with 6 Axes>"
            ]
          },
          "metadata": {
            "needs_background": "light"
          },
          "output_type": "display_data"
        }
      ],
      "source": [
        "plt.figure(figsize=(20,8))\n",
        "for index, (image, label) in enumerate(zip(digitsCopy[0:6], digits.target[0:6])):\n",
        "    plt.subplot(1,6, index + 1)\n",
        "    plt.imshow(np.reshape(image, (8,8)), cmap=plt.cm.gray)\n",
        "    plt.title('Training: %i' % label)"
      ]
    },
    {
      "cell_type": "code",
      "execution_count": 107,
      "metadata": {
        "id": "tmQ7kDsiFr-R"
      },
      "outputs": [],
      "source": [
        "# Create a classifier: a support vector classifier\n",
        "clf = svm.SVC(gamma=0.001)\n",
        "\n",
        "# Split data into 70% train and 30% test subsets\n",
        "X_train, X_test, y_train, y_test = train_test_split(\n",
        "    digitsCopy, digits.target, test_size=0.3, shuffle=False)\n",
        "\n",
        "# Learn the digits on the train subset\n",
        "clf.fit(X_train, y_train)\n",
        "\n",
        "# Predict the value of the digit on the test subset\n",
        "predicted = clf.predict(X_test)"
      ]
    },
    {
      "cell_type": "code",
      "execution_count": 108,
      "metadata": {
        "colab": {
          "base_uri": "https://localhost:8080/",
          "height": 168
        },
        "id": "quTpaT27oBSl",
        "outputId": "85ccef9f-c8a6-4151-beee-f21cd14c506a"
      },
      "outputs": [
        {
          "data": {
            "image/png": "[encoded data removed]",
            "text/plain": [
              "<Figure size 720x216 with 4 Axes>"
            ]
          },
          "metadata": {
            "needs_background": "light"
          },
          "output_type": "display_data"
        }
      ],
      "source": [
        "_, axes = plt.subplots(nrows=1, ncols=4, figsize=(10, 3))\n",
        "for ax, image, prediction in zip(axes, X_test, predicted):\n",
        "    ax.set_axis_off()\n",
        "    image = image.reshape(8, 8)\n",
        "    ax.imshow(image, cmap=plt.cm.gray_r, interpolation='nearest')\n",
        "    ax.set_title(f'Prediction: {prediction}')"
      ]
    },
    {
      "cell_type": "code",
      "execution_count": 109,
      "metadata": {
        "colab": {
          "base_uri": "https://localhost:8080/"
        },
        "id": "-v9-ot0XrGtE",
        "outputId": "c4f93d92-fa59-49d2-ddf9-d59d1060771c"
      },
      "outputs": [
        {
          "name": "stdout",
          "output_type": "stream",
          "text": [
            "Classification report for classifier SVC(gamma=0.001):\n",
            "              precision    recall  f1-score   support\n",
            "\n",
            "           0       0.00      0.00      0.00        53\n",
            "           1       1.00      0.23      0.37        53\n",
            "           2       1.00      0.02      0.04        53\n",
            "           3       0.10      1.00      0.18        53\n",
            "           4       0.00      0.00      0.00        57\n",
            "           5       1.00      0.02      0.04        56\n",
            "           6       1.00      0.04      0.07        54\n",
            "           7       1.00      0.02      0.04        54\n",
            "           8       1.00      0.02      0.04        52\n",
            "           9       0.00      0.00      0.00        55\n",
            "\n",
            "    accuracy                           0.13       540\n",
            "   macro avg       0.61      0.13      0.08       540\n",
            "weighted avg       0.61      0.13      0.08       540\n",
            "\n",
            "\n"
          ]
        },
        {
          "name": "stderr",
          "output_type": "stream",
          "text": [
            "C:\\Python38\\lib\\site-packages\\sklearn\\metrics\\_classification.py:1221: UndefinedMetricWarning: Precision and F-score are ill-defined and being set to 0.0 in labels with no predicted samples. Use `zero_division` parameter to control this behavior.\n",
            "  _warn_prf(average, modifier, msg_start, len(result))\n"
          ]
        }
      ],
      "source": [
        "print(f\"Classification report for classifier {clf}:\\n\"\n",
        "      f\"{metrics.classification_report(y_test, predicted)}\\n\")"
      ]
    },
    {
      "cell_type": "code",
      "execution_count": 110,
      "metadata": {
        "colab": {
          "base_uri": "https://localhost:8080/",
          "height": 499
        },
        "id": "TPq0iYSQrI6s",
        "outputId": "ae10158d-96a0-40cb-d79e-1319eb1aa9fb"
      },
      "outputs": [
        {
          "name": "stdout",
          "output_type": "stream",
          "text": [
            "Confusion matrix:\n",
            "[[ 0  0  0 53  0  0  0  0  0  0]\n",
            " [ 0 12  0 41  0  0  0  0  0  0]\n",
            " [ 0  0  1 52  0  0  0  0  0  0]\n",
            " [ 0  0  0 53  0  0  0  0  0  0]\n",
            " [ 0  0  0 57  0  0  0  0  0  0]\n",
            " [ 0  0  0 55  0  1  0  0  0  0]\n",
            " [ 0  0  0 52  0  0  2  0  0  0]\n",
            " [ 0  0  0 53  0  0  0  1  0  0]\n",
            " [ 0  0  0 51  0  0  0  0  1  0]\n",
            " [ 0  0  0 55  0  0  0  0  0  0]]\n"
          ]
        },
        {
          "data": {
            "image/png": "[encoded data removed]",
            "text/plain": [
              "<Figure size 432x288 with 2 Axes>"
            ]
          },
          "metadata": {
            "needs_background": "light"
          },
          "output_type": "display_data"
        }
      ],
      "source": [
        "disp = metrics.plot_confusion_matrix(clf, X_test, y_test)\n",
        "disp.figure_.suptitle(\"Confusion Matrix\")\n",
        "print(f\"Confusion matrix:\\n{disp.confusion_matrix}\")\n",
        "\n",
        "plt.show()"
      ]
    },
    {
      "cell_type": "markdown",
      "metadata": {},
      "source": [
        "# Conclusão\n",
        "\n",
        "Através da leitura dos resultados obtidos o modelo treinado após a aplicação do limiar teve uma acurácia menor em relação ao modelo original, pois os tons de cinza se transformaram em valores de cores brancos e pretos, perdendo as informações das imagens originais."
      ]
    }
  ],
  "metadata": {
    "colab": {
      "name": "tarefa-2.ipynb",
      "provenance": []
    },
    "kernelspec": {
      "display_name": "Python 3",
      "name": "python3"
    },
    "language_info": {
      "codemirror_mode": {
        "name": "ipython",
        "version": 3
      },
      "file_extension": ".py",
      "mimetype": "text/x-python",
      "name": "python",
      "nbconvert_exporter": "python",
      "pygments_lexer": "ipython3",
      "version": "3.8.5"
    }
  },
  "nbformat": 4,
  "nbformat_minor": 0
}
